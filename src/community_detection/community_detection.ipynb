{
  "nbformat": 4,
  "nbformat_minor": 0,
  "metadata": {
    "colab": {
      "name": "community_detection.ipynb",
      "provenance": []
    },
    "kernelspec": {
      "name": "python3",
      "display_name": "Python 3"
    },
    "language_info": {
      "name": "python"
    }
  },
  "cells": [
    {
      "cell_type": "markdown",
      "source": [
        "# Community detection"
      ],
      "metadata": {
        "id": "8JsOn3xOMKIp"
      }
    },
    {
      "cell_type": "code",
      "source": [
        "!pip install python-louvain"
      ],
      "metadata": {
        "colab": {
          "base_uri": "https://localhost:8080/"
        },
        "id": "2T4rXWMMOEJj",
        "outputId": "b000cc9d-f061-403c-b293-db3178e9ea35"
      },
      "execution_count": 51,
      "outputs": [
        {
          "output_type": "stream",
          "name": "stdout",
          "text": [
            "Requirement already satisfied: python-louvain in /usr/local/lib/python3.7/dist-packages (0.15)\n",
            "Requirement already satisfied: numpy in /usr/local/lib/python3.7/dist-packages (from python-louvain) (1.19.5)\n",
            "Requirement already satisfied: networkx in /usr/local/lib/python3.7/dist-packages (from python-louvain) (2.6.3)\n"
          ]
        }
      ]
    },
    {
      "cell_type": "code",
      "source": [
        "from community import community_louvain\n",
        "import networkx as nx\n",
        "from networkx.algorithms import community\n",
        "import pandas as pd\n",
        "import re"
      ],
      "metadata": {
        "id": "vCg2CDL6uuuB"
      },
      "execution_count": 30,
      "outputs": []
    },
    {
      "cell_type": "code",
      "source": [
        "def network_from_edges(edges):\n",
        "  dict_edges = {}\n",
        "  for ind in range(len(edges)):\n",
        "    if edges.iloc[ind,2] > 10:\n",
        "      dict_edges[(edges.iloc[ind,0], edges.iloc[ind,1])] = edges.iloc[ind,2]\n",
        "  net = pd.DataFrame.from_dict(dict_edges,orient='index')\n",
        "  net.columns = [\"weight\"]\n",
        "  net.sort_values(by=\"weight\",inplace=True, ascending=False)\n",
        "  return dict_edges, net\n",
        "\n",
        "\n",
        "def get_graph(network):\n",
        "  up_weighted = []\n",
        "  for edge in network:\n",
        "      #we can filter edges by weight by uncommenting the next line and setting desired weight threshold\n",
        "      up_weighted.append((edge[0],edge[1],network[edge]))\n",
        "  \n",
        "  G = nx.Graph()\n",
        "  G.add_weighted_edges_from(up_weighted)\n",
        "  return G\n",
        "\n",
        "\n",
        "def extract_text(df):       #extract the text from the tweets and RT\n",
        "                            #works ONLY on .csv file\n",
        "  list_strings = []\n",
        "  for index in range(len(df)):\n",
        "    if index % 1000 == 0:\n",
        "      print(str(index)+' / '+str(len(df)))\n",
        "    text = df.loc[index]['text']                          #if it is nor trucated nor a RT  i take \"text\"\n",
        "    string = -1\n",
        "    if (df.loc[index,\"truncated\"] == True):                 #if it is trucated I take \"extended_tweet\"\n",
        "        string = df.loc[index,\"extended_tweet\"]\n",
        "    if type(df.loc[index,\"retweeted_status\"]) != float:     #if it is a RT I take retweeted_status\n",
        "        string = df.loc[index,\"retweeted_status\"]\n",
        "    if type(string) == str :\n",
        "        if(re.search('full_text\\':(.+?)https',string) != None):     #if I find \"full_text\"\n",
        "          s = re.search('full_text\\':(.+?)https',string).group(1)\n",
        "        if(re.search('text\\':(.+?)https',string)!= None):\n",
        "          s = re.search('text\\':(.+?)https',string).group(1)\n",
        "        else: \n",
        "          continue\n",
        "        list_strings.append(s)\n",
        "    else:\n",
        "      list_strings.append(text)\n",
        "\n",
        "  return list_strings\n",
        "\n",
        "\n",
        "def frequency_dictionary(df):\n",
        "  unique_words = {}\n",
        "\n",
        "  for row in df:\n",
        "    for word in row.split():\n",
        "      #if the word is encountered for the first time add to dict as key and set its value to 0\n",
        "      unique_words.setdefault(word,0)\n",
        "      #increase the value (i.e the count) of the word by 1 every time it is encountered\n",
        "      unique_words[word] += 1\n",
        "\n",
        "  return unique_words"
      ],
      "metadata": {
        "id": "6M8qjj00Pki1"
      },
      "execution_count": 31,
      "outputs": []
    },
    {
      "cell_type": "markdown",
      "source": [
        "## JanFeb2020"
      ],
      "metadata": {
        "id": "QWtRMq8cxaY_"
      }
    },
    {
      "cell_type": "code",
      "source": [
        "edges = pd.read_csv('/content/edgelist_China_USA_JanFeb2020.csv')\n",
        "edges_China = pd.read_csv('/content/edgelist_China_JanFeb2020.csv')\n",
        "edges_USA = pd.read_csv('/content/edgelist_USA_JanFeb2020.csv')"
      ],
      "metadata": {
        "id": "KjVHD_ANMEY3"
      },
      "execution_count": 32,
      "outputs": []
    },
    {
      "cell_type": "code",
      "source": [
        "net, net_df = network_from_edges(edges)\n",
        "net_China, net_df_China = network_from_edges(edges_China)\n",
        "net_USA, net_df_USA = network_from_edges(edges_USA)"
      ],
      "metadata": {
        "id": "kG_LPLvjRcoL"
      },
      "execution_count": 33,
      "outputs": []
    },
    {
      "cell_type": "code",
      "source": [
        "G = get_graph(net)\n",
        "G_China = get_graph(net_China)\n",
        "G_USA = get_graph(net_USA)"
      ],
      "metadata": {
        "id": "uHdg3LKySZZu"
      },
      "execution_count": 34,
      "outputs": []
    },
    {
      "cell_type": "code",
      "source": [
        "print('Nodes: ',len(G.nodes()))\n",
        "print('Edges: ',len(G.edges()))\n",
        "print('Is connected: ',nx.is_connected(G))\n",
        "print()\n",
        "print('China:')\n",
        "print('Nodes: ',len(G_China.nodes()))\n",
        "print('Edges: ',len(G_China.edges()))\n",
        "print('Is connected: ',nx.is_connected(G_China))\n",
        "print()\n",
        "print('USA:')\n",
        "print('Nodes: ',len(G_USA.nodes()))\n",
        "print('Edges: ',len(G_USA.edges()))\n",
        "print('Is connected: ',nx.is_connected(G_USA))\n",
        "print()"
      ],
      "metadata": {
        "id": "4vfxekxfTL17",
        "outputId": "ebc43019-c0ca-4b3a-d997-75dc6800de01",
        "colab": {
          "base_uri": "https://localhost:8080/"
        }
      },
      "execution_count": 35,
      "outputs": [
        {
          "output_type": "stream",
          "name": "stdout",
          "text": [
            "Nodes:  656\n",
            "Edges:  3575\n",
            "Is connected:  False\n",
            "\n",
            "China:\n",
            "Nodes:  306\n",
            "Edges:  1398\n",
            "Is connected:  False\n",
            "\n",
            "USA:\n",
            "Nodes:  476\n",
            "Edges:  1797\n",
            "Is connected:  True\n",
            "\n"
          ]
        }
      ]
    },
    {
      "cell_type": "markdown",
      "source": [
        "### Girvan_Newman"
      ],
      "metadata": {
        "id": "gHJ0H0vjVxe0"
      }
    },
    {
      "cell_type": "code",
      "source": [
        "communities_generator_gn = community.girvan_newman(G)\n",
        "top_level_communities_gn = next(communities_generator_gn)\n",
        "next_level_communities_gn = next(communities_generator_gn)\n",
        "c_next_gn = sorted(map(sorted, next_level_communities_gn))\n",
        "c_top_gn = sorted(map(sorted, top_level_communities_gn))"
      ],
      "metadata": {
        "id": "h6Z3tynfN1xo"
      },
      "execution_count": 11,
      "outputs": []
    },
    {
      "cell_type": "code",
      "source": [
        "print(c_next_gn)"
      ],
      "metadata": {
        "colab": {
          "base_uri": "https://localhost:8080/"
        },
        "id": "JGUVoIehvSQR",
        "outputId": "fb7d23b7-b92f-478d-f0a5-1a0a5161e7d7"
      },
      "execution_count": 12,
      "outputs": [
        {
          "output_type": "stream",
          "name": "stdout",
          "text": [
            "[['aboard', 'accord', 'acid', 'across', 'additional', 'administration', 'admit', 'advance', 'advise', 'advisory', 'affect', 'agency', 'aid', 'air', 'airport', 'airway', 'alarm', 'allow', 'almost', 'alone', 'already', 'also', 'ambassador', 'amid', 'among', 'anger', 'animal', 'announce', 'another', 'anti', 'anyone', 'appear', 'apple', 'area', 'around', 'arrive', 'asia', 'asian', 'ask', 'australia', 'australian', 'authority', 'autonomous', 'avoid', 'away', 'baby', 'back', 'bad', 'ban', 'bank', 'barcelona', 'base', 'basis', 'batch', 'battle', 'become', 'bed', 'begin', 'beijing', 'believe', 'best', 'beyond', 'big', 'billion', 'birth', 'blow', 'board', 'border', 'break', 'brief', 'bring', 'british', 'build', 'business', 'california', 'call', 'cambodia', 'canada', 'cancel', 'capital', 'care', 'carry', 'case', 'catch', 'cause', 'center', 'central', 'chain', 'challenge', 'change', 'charter', 'chartered', 'check', 'chief', 'child', 'china', 'citizen', 'city', 'climb', 'clinical', 'close', 'combat', 'come', 'commission', 'community', 'company', 'complete', 'concern', 'condition', 'conference', 'confidence', 'confident', 'confirm', 'confirmed', 'congress', 'consecutive', 'consider', 'construction', 'contact', 'contagious', 'contain', 'continue', 'contract', 'control', 'coronavirus', 'cough', 'could', 'council', 'country', 'county', 'covid', 'create', 'crew', 'crisis', 'critical', 'cross', 'cruise', 'curb', 'cure', 'currently', 'cut', 'daily', 'data', 'day', 'dead', 'deadly', 'deal', 'death', 'declare', 'deliver', 'delivery', 'delta', 'demand', 'department', 'despite', 'detection', 'develop', 'development', 'diagnose', 'diamond', 'die', 'direct', 'director', 'discharge', 'discover', 'disease', 'disembark', 'disrupt', 'dock', 'doctor', 'dollar', 'donate', 'dow', 'dozen', 'drone', 'drop', 'drug', 'due', 'early', 'earnings', 'ease', 'east', 'economic', 'economy', 'effect', 'effective', 'effort', 'eighth', 'emergency', 'employee', 'empty', 'end', 'ensure', 'entry', 'epicenter', 'epidemic', 'evacuate', 'evacuee', 'event', 'ever', 'exclusive', 'executive', 'expect', 'experience', 'expert', 'export', 'express', 'extend', 'face', 'facebook', 'facility', 'factory', 'fall', 'false', 'family', 'far', 'fast', 'fatal', 'fatality', 'fear', 'fell', 'fight', 'figure', 'finally', 'financial', 'find', 'firm', 'first', 'five', 'flight', 'flu', 'fly', 'follow', 'food', 'force', 'foreign', 'foreigner', 'form', 'former', 'foundation', 'four', 'france', 'french', 'friendship', 'front', 'fuel', 'full', 'fund', 'future', 'game', 'general', 'germany', 'get', 'give', 'global', 'globally', 'good', 'government', 'great', 'group', 'grow', 'growth', 'half', 'halt', 'hand', 'hard', 'head', 'headline', 'health', 'help', 'high', 'hit', 'hold', 'holiday', 'home', 'hong', 'hospital', 'hospitalize', 'hour', 'hubei', 'human', 'hundred', 'hurt', 'identify', 'illness', 'impact', 'implement', 'import', 'include', 'increase', 'industry', 'infect', 'infected', 'infection', 'infectious', 'information', 'inside', 'international', 'investor', 'isolation', 'issue', 'italy', 'japan', 'japanese', 'jinping', 'job', 'join', 'joint', 'jump', 'keep', 'kill', 'kit', 'know', 'korea', 'large', 'last', 'late', 'lead', 'leader', 'least', 'leave', 'leishenshan', 'level', 'life', 'like', 'likely', 'limit', 'line', 'liner', 'live', 'loan', 'local', 'long', 'look', 'loss', 'love', 'low', 'lunar', 'macao', 'major', 'make', 'makeshift', 'malaysia', 'man', 'manufacturer', 'many', 'march', 'mark', 'market', 'mask', 'may', 'measure', 'medic', 'medical', 'medicine', 'medium', 'meet', 'meeting', 'message', 'mild', 'military', 'million', 'minister', 'ministry', 'misinformation', 'miss', 'mobile', 'model', 'monitor', 'month', 'mother', 'mount', 'move', 'much', 'must', 'name', 'nation', 'national', 'near', 'nearly', 'need', 'negative', 'new', 'newly', 'news', 'nine', 'novel', 'number', 'nurse', 'observation', 'offer', 'office', 'officer', 'official', 'often', 'oil', 'old', 'one', 'ongoing', 'opinion', 'order', 'organization', 'outbreak', 'output', 'outside', 'pandemic', 'panic', 'part', 'party', 'pass', 'passenger', 'patient', 'peak', 'people', 'person', 'phone', 'place', 'plan', 'plane', 'plasma', 'pneumonia', 'point', 'police', 'policy', 'poll', 'port', 'pose', 'positive', 'possible', 'post', 'potential', 'premier', 'prepare', 'president', 'press', 'prevent', 'prevention', 'price', 'prime', 'princess', 'production', 'profit', 'protect', 'protective', 'protest', 'provide', 'province', 'provincial', 'public', 'pull', 'put', 'quarantine', 'quarter', 'race', 'racist', 'raise', 'rate', 'reach', 'read', 'ready', 'receive', 'recently', 'record', 'recover', 'recovery', 'reduce', 'region', 'related', 'release', 'remain', 'report', 'reporter', 'research', 'researcher', 'resident', 'resort', 'respiratory', 'response', 'restrict', 'restriction', 'result', 'resume', 'return', 'revenue', 'rise', 'risk', 'robot', 'run', 'sale', 'san', 'say', 'scare', 'school', 'scientist', 'scramble', 'screen', 'second', 'secretary', 'sector', 'see', 'seek', 'sell', 'send', 'serious', 'service', 'set', 'several', 'severe', 'shanghai', 'share', 'ship', 'short', 'shortage', 'show', 'shut', 'sign', 'since', 'singapore', 'site', 'situation', 'six', 'ski', 'slow', 'snake', 'sneeze', 'social', 'solidarity', 'source', 'south', 'spark', 'speak', 'special', 'spike', 'spread', 'spreading', 'staff', 'stand', 'start', 'state', 'statement', 'stay', 'step', 'stick', 'still', 'stock', 'stop', 'store', 'story', 'strain', 'strand', 'street', 'strong', 'student', 'study', 'supply', 'support', 'surge', 'surgical', 'surpass', 'suspect', 'suspected', 'suspend', 'symptom', 'system', 'tackle', 'taiwan', 'take', 'talk', 'team', 'tech', 'tell', 'temporarily', 'temporary', 'term', 'test', 'thailand', 'thank', 'third', 'thousand', 'threat', 'threaten', 'three', 'throughout', 'time', 'today', 'together', 'tokyo', 'toll', 'top', 'total', 'tourism', 'tourist', 'track', 'trade', 'traditional', 'transmission', 'travel', 'traveler', 'treat', 'treatment', 'trial', 'trump', 'try', 'turn', 'two', 'united', 'university', 'update', 'urge', 'use', 'vaccine', 'victory', 'video', 'vietnam', 'view', 'virus', 'visit', 'walk', 'wall', 'wang', 'war', 'warn', 'warning', 'wash', 'washington', 'watch', 'way', 'wear', 'week', 'weigh', 'well', 'whether', 'wild', 'win', 'wish', 'within', 'woman', 'work', 'worker', 'world', 'worry', 'would', 'write', 'xinhua', 'year', 'yet', 'york', 'young', 'yuan', 'zero'], ['answer', 'question'], ['bill', 'gate'], ['festival', 'spring']]\n"
          ]
        }
      ]
    },
    {
      "cell_type": "markdown",
      "source": [
        "### Bipartition\n",
        "Partition a graph into two blocks using the Kernighan–Lin algorithm."
      ],
      "metadata": {
        "id": "4Cf7GVQOpRqn"
      }
    },
    {
      "cell_type": "code",
      "source": [
        "communities_b = community.kernighan_lin_bisection(G)"
      ],
      "metadata": {
        "id": "VQaI3Lw9YV0a"
      },
      "execution_count": 13,
      "outputs": []
    },
    {
      "cell_type": "code",
      "source": [
        "sum_China_0 = 0\n",
        "sum_USA_0 = 0\n",
        "for key in communities_b[0]:\n",
        "  if key in list(G_China.nodes()):\n",
        "    sum_China_0 += 1\n",
        "  if key in list(G_USA.nodes()):\n",
        "    sum_USA_0 += 1\n",
        "  \n",
        "sum_China_1 = 0\n",
        "sum_USA_1 = 0\n",
        "for key in communities_b[1]:\n",
        "  if key in list(G_China.nodes()):\n",
        "    sum_China_1 += 1\n",
        "  if key in list(G_USA.nodes()):\n",
        "    sum_USA_1 += 1\n"
      ],
      "metadata": {
        "id": "mL6C43rZc7IT"
      },
      "execution_count": 14,
      "outputs": []
    },
    {
      "cell_type": "code",
      "source": [
        "print(sum_China_0 /len(communities_b[0]))\n",
        "print(sum_USA_0/len(communities_b[0]))\n",
        "print(sum_China_1/len(communities_b[1]))\n",
        "print(sum_USA_1/len(communities_b[1]))"
      ],
      "metadata": {
        "id": "YLYcf_cld0Lr",
        "outputId": "0042c21f-e7e2-4984-bc75-2473ce28c744",
        "colab": {
          "base_uri": "https://localhost:8080/"
        }
      },
      "execution_count": 15,
      "outputs": [
        {
          "output_type": "stream",
          "name": "stdout",
          "text": [
            "0.22865853658536586\n",
            "0.551829268292683\n",
            "0.7042682926829268\n",
            "0.899390243902439\n"
          ]
        }
      ]
    },
    {
      "cell_type": "code",
      "source": [
        "period = '_JanFeb2020'\n",
        "China = pd.read_csv('/content/China'+period+'.csv')\n",
        "USA = pd.read_csv('/content/USA'+period+'.csv')"
      ],
      "metadata": {
        "id": "-HRq63uXefAV"
      },
      "execution_count": 17,
      "outputs": []
    },
    {
      "cell_type": "code",
      "source": [
        "text_China = extract_text(China)\n",
        "text_USA = extract_text(USA)"
      ],
      "metadata": {
        "id": "DZWg29-rgDHz",
        "colab": {
          "base_uri": "https://localhost:8080/"
        },
        "outputId": "d67d3373-393d-47d2-8413-a7f25a620f77"
      },
      "execution_count": 21,
      "outputs": [
        {
          "output_type": "stream",
          "name": "stdout",
          "text": [
            "0 / 2459\n",
            "1000 / 2459\n",
            "2000 / 2459\n",
            "0 / 3185\n",
            "1000 / 3185\n",
            "2000 / 3185\n",
            "3000 / 3185\n"
          ]
        }
      ]
    },
    {
      "cell_type": "code",
      "source": [
        "freq_dict_China = frequency_dictionary(text_China)\n",
        "freq_dict_China = dict(sorted(freq_dict_China.items(), key=lambda item: item[1], reverse = True))   #order from more frequent to less frequent word\n",
        "\n",
        "freq_dict_USA = frequency_dictionary(text_USA)\n",
        "freq_dict_USA = dict(sorted(freq_dict_USA.items(), key=lambda item: item[1], reverse = True))   #order from more frequent to less frequent word"
      ],
      "metadata": {
        "id": "Bxj38dSlgKYo"
      },
      "execution_count": 24,
      "outputs": []
    },
    {
      "cell_type": "code",
      "source": [
        "def community_check(community, dict_1, dict_2, G_1, G_2, thr):\n",
        "  sum_1 = 0\n",
        "  sum_2 = 0\n",
        "  sum_12 = 0\n",
        "  for key in community:\n",
        "    if (key in list(dict_1.keys())) and (key in list(dict_2.keys())):\n",
        "      if dict_1[key] - dict_2[key] > thr:\n",
        "        sum_1 += 1\n",
        "      elif dict_1[key] - dict_2[key] < -thr:\n",
        "        sum_2 += 1  \n",
        "      else:\n",
        "        sum_12 += 1 \n",
        "    elif key in list(G_1.nodes()):\n",
        "      sum_1 += 1\n",
        "    elif key in list(G_2.nodes()):\n",
        "      sum_2 += 1\n",
        "  return sum_1, sum_2, sum_12"
      ],
      "metadata": {
        "id": "TKPfRtcagPT0"
      },
      "execution_count": 25,
      "outputs": []
    },
    {
      "cell_type": "code",
      "source": [
        "threshold = 10\n",
        "sum_China_0, sum_USA_0, sum_China_USA_0 = community_check(communities_b[0], freq_dict_China, freq_dict_USA, G_China, G_USA, threshold)\n",
        "sum_China_1, sum_USA_1, sum_China_USA_1 = community_check(communities_b[1], freq_dict_China, freq_dict_USA, G_China, G_USA, threshold)"
      ],
      "metadata": {
        "id": "7wPUW6s2kih_"
      },
      "execution_count": 28,
      "outputs": []
    },
    {
      "cell_type": "code",
      "source": [
        "print(sum_China_0 /len(communities_b[0]))\n",
        "print(sum_USA_0/len(communities_b[0]))\n",
        "print(sum_China_USA_0/len(communities_b[0]))\n",
        "\n",
        "print(sum_China_1/len(communities_b[1]))\n",
        "print(sum_USA_1/len(communities_b[1]))\n",
        "print(sum_China_USA_1/len(communities_b[1]))"
      ],
      "metadata": {
        "colab": {
          "base_uri": "https://localhost:8080/"
        },
        "id": "3F0w8OFxri-C",
        "outputId": "0d62474e-8c1f-4234-c649-8d5bfc264a29"
      },
      "execution_count": 29,
      "outputs": [
        {
          "output_type": "stream",
          "name": "stdout",
          "text": [
            "0.125\n",
            "0.25\n",
            "0.551829268292683\n",
            "0.24695121951219512\n",
            "0.35060975609756095\n",
            "0.4024390243902439\n"
          ]
        }
      ]
    },
    {
      "cell_type": "markdown",
      "source": [
        "### Modularity-based communities\n",
        "Find communities in G using greedy modularity maximization."
      ],
      "metadata": {
        "id": "vb70Nj1kKIYb"
      }
    },
    {
      "cell_type": "code",
      "source": [
        "communities_mod = community.greedy_modularity_communities(G)\n",
        "# communities_naive_mod = community.naive_greedy_modularity_communities(G)"
      ],
      "metadata": {
        "id": "cEm-2UTOKSeB"
      },
      "execution_count": 46,
      "outputs": []
    },
    {
      "cell_type": "code",
      "source": [
        "for comm in communities_mod:\n",
        " print(comm)"
      ],
      "metadata": {
        "colab": {
          "base_uri": "https://localhost:8080/"
        },
        "id": "H6rDQKcjKwG4",
        "outputId": "39462eff-ed48-4423-9934-8606bc6a4ad6"
      },
      "execution_count": 41,
      "outputs": [
        {
          "output_type": "stream",
          "name": "stdout",
          "text": [
            "frozenset({'recently', 'inside', 'top', 'air', 'change', 'system', 'plane', 'food', 'hard', 'california', 'bad', 'amid', 'talk', 'affect', 'impact', 'dow', 'baby', 'sign', 'arrive', 'major', 'outbreak', 'early', 'best', 'speak', 'diagnose', 'globally', 'infected', 'long', 'within', 'identify', 'social', 'department', 'together', 'announce', 'asia', 'back', 'birth', 'become', 'service', 'make', 'read', 'china', 'hurt', 'respiratory', 'carry', 'autonomous', 'shanghai', 'industry', 'term', 'jump', 'market', 'wall', 'way', 'effective', 'apple', 'order', 'life', 'wang', 'nation', 'extend', 'isolation', 'fund', 'large', 'meeting', 'possible', 'growth', 'front', 'must', 'employee', 'may', 'figure', 'experience', 'much', 'revenue', 'expect', 'global', 'east', 'line', 'point', 'flu', 'leader', 'since', 'discover', 'meet', 'ambassador', 'information', 'drone', 'delivery', 'issue', 'animal', 'challenge', 'provincial', 'price', 'low', 'reporter', 'big', 'far', 'investor', 'australia', 'implement', 'begin', 'watch', 'last', 'alone', 'create', 'set', 'source', 'news', 'business', 'ensure', 'like', 'raise', 'war', 'miss', 'opinion', 'visit', 'part', 'young', 'travel', 'despite', 'shut', 'slow', 'ask', 'trade', 'come', 'keep', 'break', 'six', 'illness', 'restrict', 'stop', 'fear', 'victory', 'office', 'anti', 'give', 'message', 'resume', 'evacuee', 'advance', 'develop', 'sell', 'join', 'cross', 'foreigner', 'restriction', 'urge', 'thank', 'deal', 'strand', 'production', 'fast', 'tackle', 'economic', 'traveler', 'move', 'firm', 'border', 'loss', 'curb', 'remain', 'street', 'many', 'crisis', 'facebook', 'place', 'company', 'base', 'start', 'could', 'head', 'advisory', 'warn', 'grow', 'plan', 'spreading', 'love', 'woman', 'good', 'wild', 'cut', 'beyond', 'newly', 'ongoing', 'reduce', 'old', 'try', 'tell', 'economy', 'direct', 'wish', 'region', 'scientist', 'level', 'thousand', 'party', 'would', 'ease', 'write', 'track', 'friendship', 'full', 'joint', 'sale', 'asian', 'force', 'medic', 'stock', 'get', 'nearly', 'import', 'development', 'group', 'child', 'advise', 'mother', 'story', 'step', 'hit', 'quarter', 'ban', 'believe', 'vaccine', 'situation', 'phone', 'form', 'hundred', 'month', 'area'})\n",
            "frozenset({'yuan', 'wear', 'chain', 'limit', 'san', 'support', 'combat', 'epidemic', 'xinhua', 'show', 'spike', 'foundation', 'return', 'police', 'sneeze', 'protect', 'city', 'seek', 'effect', 'finally', 'fuel', 'name', 'headline', 'store', 'local', 'protective', 'several', 'serious', 'scare', 'fly', 'italy', 'alarm', 'today', 'exclusive', 'man', 'resident', 'anyone', 'military', 'run', 'appear', 'wash', 'jinping', 'barcelona', 'turn', 'game', 'profit', 'provide', 'output', 'future', 'tourism', 'tourist', 'find', 'strain', 'share', 'four', 'gate', 'cancel', 'often', 'potential', 'halt', 'catch', 'county', 'bank', 'tech', 'financial', 'fight', 'question', 'airport', 'work', 'germany', 'sector', 'ready', 'nurse', 'protest', 'short', 'dozen', 'currently', 'tokyo', 'billion', 'send', 'british', 'almost', 'screen', 'agency', 'premier', 'entry', 'win', 'suspend', 'ever', 'staff', 'secretary', 'shortage', 'people', 'video', 'half', 'coronavirus', 'surge', 'oil', 'aid', 'manufacturer', 'pose', 'thailand', 'also', 'supply', 'surgical', 'donate', 'misinformation', 'hand', 'export', 'likely', 'blow', 'robot', 'across', 'express', 'snake', 'zero', 'holiday', 'threaten', 'close', 'lunar', 'community', 'vietnam', 'fell', 'third', 'due', 'president', 'factory', 'effort', 'avoid', 'nine', 'school', 'contact', 'care', 'solidarity', 'post', 'false', 'cough', 'university', 'face', 'hour', 'stay', 'battle', 'earnings', 'airway', 'empty', 'student', 'weigh', 'offer', 'demand', 'contain', 'scramble', 'well', 'million', 'march', 'washington', 'mount', 'detection', 'event', 'climb', 'near', 'pull', 'temporarily', 'capital', 'help', 'home', 'dollar', 'mark', 'disrupt', 'officer', 'confidence', 'canada', 'prepare', 'additional', 'whether', 'bill', 'policy', 'job', 'plasma', 'government', 'spark', 'anger', 'stick', 'former', 'worry', 'racist', 'worker', 'trump', 'loan', 'answer', 'poll', 'warning', 'strong', 'mask', 'administration', 'medical'})\n",
            "frozenset({'discharge', 'bed', 'beijing', 'rate', 'surpass', 'infect', 'accord', 'condition', 'infection', 'korea', 'model', 'least', 'york', 'pneumonia', 'time', 'severe', 'france', 'new', 'hospital', 'human', 'fatality', 'increase', 'toll', 'hospitalize', 'reach', 'united', 'fall', 'national', 'end', 'batch', 'death', 'person', 'leishenshan', 'press', 'conference', 'council', 'live', 'recovery', 'authority', 'cure', 'suspected', 'mild', 'confirmed', 'look', 'drop', 'eighth', 'hold', 'two', 'among', 'deliver', 'total', 'continue', 'dead', 'receive', 'one', 'rise', 'fatal', 'treat', 'province', 'walk', 'late', 'include', 'race', 'macao', 'report', 'second', 'center', 'commission', 'singapore', 'family', 'critical', 'three', 'build', 'first', 'outside', 'use', 'high', 'site', 'taiwan', 'record', 'transmission', 'complete', 'year', 'case', 'health', 'kill', 'treatment', 'state', 'pass', 'south', 'release', 'temporary', 'follow', 'another', 'suspect', 'consecutive', 'number', 'day', 'observation', 'see', 'construction', 'data', 'put', 'around', 'view', 'confirm', 'epicenter', 'doctor', 'recover', 'medium', 'update', 'country', 'risk', 'makeshift', 'central', 'admit', 'symptom', 'hubei', 'daily', 'facility', 'bring', 'patient', 'die'})\n",
            "frozenset({'infectious', 'australian', 'emergency', 'kit', 'ship', 'week', 'official', 'delta', 'need', 'control', 'positive', 'diamond', 'organization', 'international', 'disembark', 'world', 'lead', 'acid', 'minister', 'cause', 'cruise', 'response', 'aboard', 'covid', 'director', 'test', 'great', 'measure', 'dock', 'say', 'drug', 'chartered', 'port', 'congress', 'general', 'passenger', 'japan', 'call', 'novel', 'declare', 'brief', 'concern', 'stand', 'basis', 'allow', 'crew', 'statement', 'ministry', 'negative', 'virus', 'spread', 'japanese', 'study', 'prevent', 'princess', 'foreign', 'public', 'chief', 'quarantine', 'citizen', 'throughout', 'confident', 'researcher', 'leave', 'prime', 'disease', 'threat', 'already', 'pandemic', 'consider', 'take', 'charter', 'peak', 'team', 'board', 'flight', 'evacuate', 'monitor', 'away', 'know', 'yet', 'panic', 'hong', 'result', 'check', 'prevention', 'liner', 'expert', 'special', 'malaysia', 'still', 'executive', 'research', 'cambodia', 'deadly', 'contagious', 'related', 'mobile'})\n",
            "frozenset({'five', 'ski', 'resort', 'french', 'contract'})\n",
            "frozenset({'clinical', 'trial'})\n",
            "frozenset({'medicine', 'traditional'})\n",
            "frozenset({'festival', 'spring'})\n"
          ]
        }
      ]
    },
    {
      "cell_type": "code",
      "source": [
        "for comm in communities_naive_mod:\n",
        " print(communities_naive_mod)"
      ],
      "metadata": {
        "id": "yRAo5-UVLfLD"
      },
      "execution_count": null,
      "outputs": []
    },
    {
      "cell_type": "markdown",
      "source": [
        "### Louvain Community Detection\n",
        "Find the best partition of a graph using the Louvain Community Detection Algorithm."
      ],
      "metadata": {
        "id": "9OCXZZs0Lyet"
      }
    },
    {
      "cell_type": "code",
      "source": [
        "# communities_louvain = community.louvain.louvain_communities(G)\n",
        "# partitions_louvain = community.louvain.louvain_partitions(G)\n",
        "\n",
        "communities_louvain = community_louvain.best_partition(G)\n",
        "\n",
        "# modularity_louvain = community.modularity(communities_louvain, G) # ERROR: not a partition\n",
        "# print(\"The modularity Q based on networkx is {}\".format(modularity_louvain))"
      ],
      "metadata": {
        "colab": {
          "base_uri": "https://localhost:8080/",
          "height": 565
        },
        "id": "aLIzxRByL0h7",
        "outputId": "69ad049d-adf4-452a-ff70-a54760e56016"
      },
      "execution_count": 55,
      "outputs": [
        {
          "output_type": "error",
          "ename": "NotAPartition",
          "evalue": "ignored",
          "traceback": [
            "\u001b[0;31m---------------------------------------------------------------------------\u001b[0m",
            "\u001b[0;31mNotAPartition\u001b[0m                             Traceback (most recent call last)",
            "\u001b[0;32m<ipython-input-55-b10561dbd4df>\u001b[0m in \u001b[0;36m<module>\u001b[0;34m()\u001b[0m\n\u001b[1;32m      3\u001b[0m \u001b[0;34m\u001b[0m\u001b[0m\n\u001b[1;32m      4\u001b[0m \u001b[0mcommunities_louvain\u001b[0m \u001b[0;34m=\u001b[0m \u001b[0mcommunity_louvain\u001b[0m\u001b[0;34m.\u001b[0m\u001b[0mbest_partition\u001b[0m\u001b[0;34m(\u001b[0m\u001b[0mG\u001b[0m\u001b[0;34m)\u001b[0m\u001b[0;34m\u001b[0m\u001b[0;34m\u001b[0m\u001b[0m\n\u001b[0;32m----> 5\u001b[0;31m \u001b[0mmodularity_louvain\u001b[0m \u001b[0;34m=\u001b[0m \u001b[0mcommunity\u001b[0m\u001b[0;34m.\u001b[0m\u001b[0mmodularity\u001b[0m\u001b[0;34m(\u001b[0m\u001b[0mcommunities_louvain\u001b[0m\u001b[0;34m,\u001b[0m \u001b[0mG\u001b[0m\u001b[0;34m)\u001b[0m\u001b[0;34m\u001b[0m\u001b[0;34m\u001b[0m\u001b[0m\n\u001b[0m\u001b[1;32m      6\u001b[0m \u001b[0mprint\u001b[0m\u001b[0;34m(\u001b[0m\u001b[0;34m\"The modularity Q based on networkx is {}\"\u001b[0m\u001b[0;34m.\u001b[0m\u001b[0mformat\u001b[0m\u001b[0;34m(\u001b[0m\u001b[0mmodularity_louvain\u001b[0m\u001b[0;34m)\u001b[0m\u001b[0;34m)\u001b[0m\u001b[0;34m\u001b[0m\u001b[0;34m\u001b[0m\u001b[0m\n",
            "\u001b[0;32m/usr/local/lib/python3.7/dist-packages/networkx/algorithms/community/quality.py\u001b[0m in \u001b[0;36mmodularity\u001b[0;34m(G, communities, weight, resolution)\u001b[0m\n\u001b[1;32m    328\u001b[0m         \u001b[0mcommunities\u001b[0m \u001b[0;34m=\u001b[0m \u001b[0mlist\u001b[0m\u001b[0;34m(\u001b[0m\u001b[0mcommunities\u001b[0m\u001b[0;34m)\u001b[0m\u001b[0;34m\u001b[0m\u001b[0;34m\u001b[0m\u001b[0m\n\u001b[1;32m    329\u001b[0m     \u001b[0;32mif\u001b[0m \u001b[0;32mnot\u001b[0m \u001b[0mis_partition\u001b[0m\u001b[0;34m(\u001b[0m\u001b[0mG\u001b[0m\u001b[0;34m,\u001b[0m \u001b[0mcommunities\u001b[0m\u001b[0;34m)\u001b[0m\u001b[0;34m:\u001b[0m\u001b[0;34m\u001b[0m\u001b[0;34m\u001b[0m\u001b[0m\n\u001b[0;32m--> 330\u001b[0;31m         \u001b[0;32mraise\u001b[0m \u001b[0mNotAPartition\u001b[0m\u001b[0;34m(\u001b[0m\u001b[0mG\u001b[0m\u001b[0;34m,\u001b[0m \u001b[0mcommunities\u001b[0m\u001b[0;34m)\u001b[0m\u001b[0;34m\u001b[0m\u001b[0;34m\u001b[0m\u001b[0m\n\u001b[0m\u001b[1;32m    331\u001b[0m \u001b[0;34m\u001b[0m\u001b[0m\n\u001b[1;32m    332\u001b[0m     \u001b[0mdirected\u001b[0m \u001b[0;34m=\u001b[0m \u001b[0mG\u001b[0m\u001b[0;34m.\u001b[0m\u001b[0mis_directed\u001b[0m\u001b[0;34m(\u001b[0m\u001b[0;34m)\u001b[0m\u001b[0;34m\u001b[0m\u001b[0;34m\u001b[0m\u001b[0m\n",
            "\u001b[0;31mNotAPartition\u001b[0m: {'talk': 0, 'china': 0, 'coronavirus': 3, 'novel': 0, 'outbreak': 0, 'university': 0, 'medical': 2, 'student': 0, 'challenge': 0, 'face': 3, 'deal': 0, 'people': 0, 'medium': 3, 'watch': 3, 'world': 5, 'make': 0, 'great': 0, 'track': 3, 'disease': 5, 'take': 0, 'hard': 3, 'health': 5, 'organization': 5, 'announce': 0, 'lead': 0, 'team': 0, 'international': 5, 'expert': 0, 'outside': 6, 'confirm': 6, 'case': 6, 'covid': 0, 'cruise': 4, 'ship': 4, 'japan': 4, 'among': 3, 'country': 0, 'asia': 3, 'live': 0, 'state': 3, 'information': 0, 'office': 3, 'brief': 0, 'prevention': 5, 'worker': 2, 'across': 0, 'nation': 0, 'line': 3, 'central': 6, 'epicenter': 6, 'since': 0, 'late': 0, 'medic': 0, 'arrive': 3, 'hubei': 6, 'province': 6, 'support': 0, 'local': 3, 'hospital': 2, 'help': 0, 'fight': 0, 'cut': 3, 'firm': 3, 'ambassador': 0, 'express': 0, 'contain': 0, 'epidemic': 0, 'nearly': 3, 'risk': 3, 'drug': 3, 'ensure': 0, 'medicine': 2, 'supply': 0, 'chief': 5, 'give': 0, 'trump': 0, 'say': 5, 'try': 3, 'share': 3, 'effort': 0, 'send': 0, 'amid': 0, 'number': 6, 'drop': 6, 'day': 6, 'virus': 0, 'offer': 0, 'system': 3, 'foreign': 0, 'minister': 0, 'wang': 0, 'include': 6, 'mask': 3, 'donate': 0, 'revenue': 3, 'show': 0, 'australia': 3, 'critical': 6, 'official': 5, 'hold': 5, 'daily': 0, 'control': 5, 'week': 4, 'total': 6, 'begin': 0, 'back': 0, 'work': 0, 'service': 0, 'one': 6, 'industry': 3, 'combat': 0, 'get': 0, 'business': 3, 'national': 5, 'comm..."
          ]
        }
      ]
    },
    {
      "cell_type": "code",
      "source": [
        "communities"
      ],
      "metadata": {
        "colab": {
          "base_uri": "https://localhost:8080/"
        },
        "id": "8eAR5RhqOKW6",
        "outputId": "63bd98a6-fd35-4828-df74-d6d07018615c"
      },
      "execution_count": 53,
      "outputs": [
        {
          "output_type": "execute_result",
          "data": {
            "text/plain": [
              "{'aboard': 6,\n",
              " 'accord': 3,\n",
              " 'acid': 6,\n",
              " 'across': 0,\n",
              " 'additional': 1,\n",
              " 'administration': 1,\n",
              " 'admit': 4,\n",
              " 'advance': 0,\n",
              " 'advise': 0,\n",
              " 'advisory': 0,\n",
              " 'affect': 1,\n",
              " 'agency': 1,\n",
              " 'aid': 0,\n",
              " 'air': 1,\n",
              " 'airport': 1,\n",
              " 'airway': 1,\n",
              " 'alarm': 1,\n",
              " 'allow': 6,\n",
              " 'almost': 1,\n",
              " 'alone': 0,\n",
              " 'already': 0,\n",
              " 'also': 6,\n",
              " 'ambassador': 0,\n",
              " 'amid': 1,\n",
              " 'among': 1,\n",
              " 'anger': 1,\n",
              " 'animal': 0,\n",
              " 'announce': 0,\n",
              " 'another': 7,\n",
              " 'answer': 1,\n",
              " 'anti': 1,\n",
              " 'anyone': 1,\n",
              " 'appear': 1,\n",
              " 'apple': 1,\n",
              " 'area': 1,\n",
              " 'around': 2,\n",
              " 'arrive': 0,\n",
              " 'asia': 1,\n",
              " 'asian': 1,\n",
              " 'ask': 0,\n",
              " 'australia': 1,\n",
              " 'australian': 1,\n",
              " 'authority': 7,\n",
              " 'autonomous': 0,\n",
              " 'avoid': 1,\n",
              " 'away': 6,\n",
              " 'baby': 4,\n",
              " 'back': 0,\n",
              " 'bad': 1,\n",
              " 'ban': 0,\n",
              " 'bank': 1,\n",
              " 'barcelona': 1,\n",
              " 'base': 1,\n",
              " 'basis': 0,\n",
              " 'batch': 7,\n",
              " 'battle': 0,\n",
              " 'become': 1,\n",
              " 'bed': 4,\n",
              " 'begin': 0,\n",
              " 'beijing': 1,\n",
              " 'believe': 0,\n",
              " 'best': 0,\n",
              " 'beyond': 2,\n",
              " 'big': 1,\n",
              " 'bill': 1,\n",
              " 'billion': 1,\n",
              " 'birth': 2,\n",
              " 'blow': 1,\n",
              " 'board': 6,\n",
              " 'border': 0,\n",
              " 'break': 0,\n",
              " 'brief': 2,\n",
              " 'bring': 7,\n",
              " 'british': 1,\n",
              " 'build': 4,\n",
              " 'business': 1,\n",
              " 'california': 1,\n",
              " 'call': 0,\n",
              " 'cambodia': 6,\n",
              " 'canada': 1,\n",
              " 'cancel': 1,\n",
              " 'capital': 1,\n",
              " 'care': 4,\n",
              " 'carry': 1,\n",
              " 'case': 7,\n",
              " 'catch': 1,\n",
              " 'cause': 0,\n",
              " 'center': 3,\n",
              " 'central': 7,\n",
              " 'chain': 4,\n",
              " 'challenge': 0,\n",
              " 'change': 1,\n",
              " 'charter': 1,\n",
              " 'chartered': 1,\n",
              " 'check': 0,\n",
              " 'chief': 3,\n",
              " 'child': 4,\n",
              " 'china': 0,\n",
              " 'citizen': 1,\n",
              " 'city': 1,\n",
              " 'climb': 1,\n",
              " 'clinical': 1,\n",
              " 'close': 1,\n",
              " 'combat': 0,\n",
              " 'come': 1,\n",
              " 'commission': 3,\n",
              " 'community': 0,\n",
              " 'company': 1,\n",
              " 'complete': 4,\n",
              " 'concern': 3,\n",
              " 'condition': 7,\n",
              " 'conference': 3,\n",
              " 'confidence': 0,\n",
              " 'confident': 0,\n",
              " 'confirm': 7,\n",
              " 'confirmed': 7,\n",
              " 'congress': 3,\n",
              " 'consecutive': 7,\n",
              " 'consider': 3,\n",
              " 'construction': 4,\n",
              " 'contact': 1,\n",
              " 'contagious': 0,\n",
              " 'contain': 0,\n",
              " 'continue': 0,\n",
              " 'contract': 1,\n",
              " 'control': 3,\n",
              " 'coronavirus': 1,\n",
              " 'cough': 1,\n",
              " 'could': 3,\n",
              " 'council': 1,\n",
              " 'country': 0,\n",
              " 'county': 1,\n",
              " 'covid': 0,\n",
              " 'create': 0,\n",
              " 'crew': 6,\n",
              " 'crisis': 0,\n",
              " 'critical': 7,\n",
              " 'cross': 0,\n",
              " 'cruise': 6,\n",
              " 'curb': 0,\n",
              " 'cure': 4,\n",
              " 'currently': 1,\n",
              " 'cut': 1,\n",
              " 'daily': 0,\n",
              " 'data': 7,\n",
              " 'day': 7,\n",
              " 'dead': 7,\n",
              " 'deadly': 1,\n",
              " 'deal': 0,\n",
              " 'death': 7,\n",
              " 'declare': 3,\n",
              " 'deliver': 4,\n",
              " 'delivery': 1,\n",
              " 'delta': 1,\n",
              " 'demand': 1,\n",
              " 'department': 1,\n",
              " 'despite': 1,\n",
              " 'detection': 1,\n",
              " 'develop': 0,\n",
              " 'development': 2,\n",
              " 'diagnose': 1,\n",
              " 'diamond': 6,\n",
              " 'die': 7,\n",
              " 'direct': 1,\n",
              " 'director': 3,\n",
              " 'discharge': 7,\n",
              " 'discover': 1,\n",
              " 'disease': 3,\n",
              " 'disembark': 6,\n",
              " 'disrupt': 1,\n",
              " 'dock': 6,\n",
              " 'doctor': 4,\n",
              " 'dollar': 1,\n",
              " 'donate': 0,\n",
              " 'dow': 1,\n",
              " 'dozen': 1,\n",
              " 'drone': 0,\n",
              " 'drop': 7,\n",
              " 'drug': 1,\n",
              " 'due': 1,\n",
              " 'early': 3,\n",
              " 'earnings': 1,\n",
              " 'ease': 1,\n",
              " 'east': 0,\n",
              " 'economic': 1,\n",
              " 'economy': 1,\n",
              " 'effect': 1,\n",
              " 'effective': 0,\n",
              " 'effort': 0,\n",
              " 'eighth': 7,\n",
              " 'emergency': 3,\n",
              " 'employee': 1,\n",
              " 'empty': 1,\n",
              " 'end': 7,\n",
              " 'ensure': 0,\n",
              " 'entry': 1,\n",
              " 'epicenter': 7,\n",
              " 'epidemic': 0,\n",
              " 'evacuate': 6,\n",
              " 'evacuee': 1,\n",
              " 'event': 1,\n",
              " 'ever': 1,\n",
              " 'exclusive': 1,\n",
              " 'executive': 3,\n",
              " 'expect': 4,\n",
              " 'experience': 1,\n",
              " 'expert': 0,\n",
              " 'export': 1,\n",
              " 'express': 0,\n",
              " 'extend': 0,\n",
              " 'face': 1,\n",
              " 'facebook': 1,\n",
              " 'facility': 4,\n",
              " 'factory': 1,\n",
              " 'fall': 1,\n",
              " 'false': 1,\n",
              " 'family': 1,\n",
              " 'far': 1,\n",
              " 'fast': 1,\n",
              " 'fatal': 7,\n",
              " 'fatality': 7,\n",
              " 'fear': 1,\n",
              " 'fell': 1,\n",
              " 'festival': 5,\n",
              " 'fight': 0,\n",
              " 'figure': 7,\n",
              " 'finally': 1,\n",
              " 'financial': 1,\n",
              " 'find': 0,\n",
              " 'firm': 1,\n",
              " 'first': 7,\n",
              " 'five': 1,\n",
              " 'flight': 1,\n",
              " 'flu': 1,\n",
              " 'fly': 1,\n",
              " 'follow': 2,\n",
              " 'food': 1,\n",
              " 'force': 1,\n",
              " 'foreign': 3,\n",
              " 'foreigner': 0,\n",
              " 'form': 0,\n",
              " 'former': 1,\n",
              " 'foundation': 0,\n",
              " 'four': 1,\n",
              " 'france': 7,\n",
              " 'french': 1,\n",
              " 'friendship': 0,\n",
              " 'front': 1,\n",
              " 'fuel': 1,\n",
              " 'full': 0,\n",
              " 'fund': 0,\n",
              " 'future': 1,\n",
              " 'game': 1,\n",
              " 'gate': 1,\n",
              " 'general': 3,\n",
              " 'germany': 1,\n",
              " 'get': 0,\n",
              " 'give': 2,\n",
              " 'global': 3,\n",
              " 'globally': 6,\n",
              " 'good': 1,\n",
              " 'government': 6,\n",
              " 'great': 0,\n",
              " 'group': 0,\n",
              " 'grow': 1,\n",
              " 'growth': 1,\n",
              " 'half': 1,\n",
              " 'halt': 1,\n",
              " 'hand': 1,\n",
              " 'hard': 1,\n",
              " 'head': 1,\n",
              " 'headline': 1,\n",
              " 'health': 3,\n",
              " 'help': 0,\n",
              " 'high': 1,\n",
              " 'hit': 1,\n",
              " 'hold': 3,\n",
              " 'holiday': 4,\n",
              " 'home': 0,\n",
              " 'hong': 6,\n",
              " 'hospital': 4,\n",
              " 'hospitalize': 7,\n",
              " 'hour': 1,\n",
              " 'hubei': 7,\n",
              " 'human': 7,\n",
              " 'hundred': 1,\n",
              " 'hurt': 1,\n",
              " 'identify': 1,\n",
              " 'illness': 1,\n",
              " 'impact': 1,\n",
              " 'implement': 1,\n",
              " 'import': 0,\n",
              " 'include': 7,\n",
              " 'increase': 7,\n",
              " 'industry': 1,\n",
              " 'infect': 6,\n",
              " 'infected': 1,\n",
              " 'infection': 7,\n",
              " 'infectious': 3,\n",
              " 'information': 0,\n",
              " 'inside': 4,\n",
              " 'international': 3,\n",
              " 'investor': 1,\n",
              " 'isolation': 4,\n",
              " 'issue': 1,\n",
              " 'italy': 1,\n",
              " 'japan': 6,\n",
              " 'japanese': 6,\n",
              " 'jinping': 0,\n",
              " 'job': 1,\n",
              " 'join': 0,\n",
              " 'joint': 0,\n",
              " 'jump': 1,\n",
              " 'keep': 1,\n",
              " 'kill': 6,\n",
              " 'kit': 6,\n",
              " 'know': 6,\n",
              " 'korea': 1,\n",
              " 'large': 0,\n",
              " 'last': 1,\n",
              " 'late': 2,\n",
              " 'lead': 0,\n",
              " 'leader': 0,\n",
              " 'least': 6,\n",
              " 'leave': 6,\n",
              " 'leishenshan': 4,\n",
              " 'level': 0,\n",
              " 'life': 0,\n",
              " 'like': 1,\n",
              " 'likely': 1,\n",
              " 'limit': 1,\n",
              " 'line': 1,\n",
              " 'liner': 6,\n",
              " 'live': 2,\n",
              " 'loan': 1,\n",
              " 'local': 1,\n",
              " 'long': 1,\n",
              " 'look': 4,\n",
              " 'loss': 1,\n",
              " 'love': 0,\n",
              " 'low': 1,\n",
              " 'lunar': 4,\n",
              " 'macao': 7,\n",
              " 'major': 1,\n",
              " 'make': 0,\n",
              " 'makeshift': 4,\n",
              " 'malaysia': 6,\n",
              " 'man': 7,\n",
              " 'manufacturer': 1,\n",
              " 'many': 0,\n",
              " 'march': 1,\n",
              " 'mark': 1,\n",
              " 'market': 1,\n",
              " 'mask': 1,\n",
              " 'may': 1,\n",
              " 'measure': 0,\n",
              " 'medic': 0,\n",
              " 'medical': 4,\n",
              " 'medicine': 4,\n",
              " 'medium': 1,\n",
              " 'meet': 0,\n",
              " 'meeting': 1,\n",
              " 'message': 0,\n",
              " 'mild': 4,\n",
              " 'military': 1,\n",
              " 'million': 0,\n",
              " 'minister': 3,\n",
              " 'ministry': 3,\n",
              " 'misinformation': 1,\n",
              " 'miss': 7,\n",
              " 'mobile': 3,\n",
              " 'model': 4,\n",
              " 'monitor': 1,\n",
              " 'month': 4,\n",
              " 'mother': 4,\n",
              " 'mount': 1,\n",
              " 'move': 1,\n",
              " 'much': 1,\n",
              " 'must': 3,\n",
              " 'name': 1,\n",
              " 'nation': 0,\n",
              " 'national': 3,\n",
              " 'near': 1,\n",
              " 'nearly': 1,\n",
              " 'need': 6,\n",
              " 'negative': 6,\n",
              " 'new': 7,\n",
              " 'newly': 1,\n",
              " 'news': 1,\n",
              " 'nine': 1,\n",
              " 'novel': 0,\n",
              " 'number': 7,\n",
              " 'nurse': 0,\n",
              " 'observation': 7,\n",
              " 'offer': 0,\n",
              " 'office': 0,\n",
              " 'officer': 1,\n",
              " 'official': 3,\n",
              " 'often': 1,\n",
              " 'oil': 1,\n",
              " 'old': 4,\n",
              " 'one': 7,\n",
              " 'ongoing': 0,\n",
              " 'opinion': 0,\n",
              " 'order': 1,\n",
              " 'organization': 3,\n",
              " 'outbreak': 1,\n",
              " 'output': 1,\n",
              " 'outside': 7,\n",
              " 'pandemic': 3,\n",
              " 'panic': 1,\n",
              " 'part': 0,\n",
              " 'party': 0,\n",
              " 'pass': 7,\n",
              " 'passenger': 6,\n",
              " 'patient': 4,\n",
              " 'peak': 1,\n",
              " 'people': 6,\n",
              " 'person': 1,\n",
              " 'phone': 0,\n",
              " 'place': 1,\n",
              " 'plan': 1,\n",
              " 'plane': 6,\n",
              " 'plasma': 4,\n",
              " 'pneumonia': 7,\n",
              " 'point': 1,\n",
              " 'police': 1,\n",
              " 'policy': 1,\n",
              " 'poll': 1,\n",
              " 'port': 6,\n",
              " 'pose': 1,\n",
              " 'positive': 6,\n",
              " 'possible': 1,\n",
              " 'post': 1,\n",
              " 'potential': 1,\n",
              " 'premier': 1,\n",
              " 'prepare': 1,\n",
              " 'president': 0,\n",
              " 'press': 3,\n",
              " 'prevent': 0,\n",
              " 'prevention': 3,\n",
              " 'price': 1,\n",
              " 'prime': 3,\n",
              " 'princess': 6,\n",
              " 'production': 1,\n",
              " 'profit': 1,\n",
              " 'protect': 1,\n",
              " 'protective': 4,\n",
              " 'protest': 1,\n",
              " 'provide': 1,\n",
              " 'province': 7,\n",
              " 'provincial': 0,\n",
              " 'public': 3,\n",
              " 'pull': 1,\n",
              " 'put': 4,\n",
              " 'quarantine': 6,\n",
              " 'quarter': 1,\n",
              " 'question': 1,\n",
              " 'race': 1,\n",
              " 'racist': 1,\n",
              " 'raise': 0,\n",
              " 'rate': 1,\n",
              " 'reach': 7,\n",
              " 'read': 0,\n",
              " 'ready': 1,\n",
              " 'receive': 4,\n",
              " 'recently': 0,\n",
              " 'record': 7,\n",
              " 'recover': 7,\n",
              " 'recovery': 4,\n",
              " 'reduce': 1,\n",
              " 'region': 0,\n",
              " 'related': 0,\n",
              " 'release': 7,\n",
              " 'remain': 0,\n",
              " 'report': 7,\n",
              " 'reporter': 4,\n",
              " 'research': 0,\n",
              " 'researcher': 0,\n",
              " 'resident': 0,\n",
              " 'resort': 1,\n",
              " 'respiratory': 1,\n",
              " 'response': 0,\n",
              " 'restrict': 0,\n",
              " 'restriction': 0,\n",
              " 'result': 1,\n",
              " 'resume': 1,\n",
              " 'return': 1,\n",
              " 'revenue': 1,\n",
              " 'rise': 7,\n",
              " 'risk': 1,\n",
              " 'robot': 0,\n",
              " 'run': 1,\n",
              " 'sale': 1,\n",
              " 'san': 1,\n",
              " 'say': 3,\n",
              " 'scare': 1,\n",
              " 'school': 1,\n",
              " 'scientist': 1,\n",
              " 'scramble': 1,\n",
              " 'screen': 1,\n",
              " 'second': 4,\n",
              " 'secretary': 1,\n",
              " 'sector': 1,\n",
              " 'see': 1,\n",
              " 'seek': 1,\n",
              " 'sell': 1,\n",
              " 'send': 0,\n",
              " 'serious': 1,\n",
              " 'service': 1,\n",
              " 'set': 1,\n",
              " 'several': 1,\n",
              " 'severe': 4,\n",
              " 'shanghai': 1,\n",
              " 'share': 1,\n",
              " 'ship': 6,\n",
              " 'short': 1,\n",
              " 'shortage': 4,\n",
              " 'show': 0,\n",
              " 'shut': 1,\n",
              " 'sign': 0,\n",
              " 'since': 1,\n",
              " 'singapore': 1,\n",
              " 'site': 4,\n",
              " 'situation': 0,\n",
              " 'six': 1,\n",
              " 'ski': 1,\n",
              " 'slow': 1,\n",
              " 'snake': 1,\n",
              " 'sneeze': 1,\n",
              " 'social': 1,\n",
              " 'solidarity': 0,\n",
              " 'source': 1,\n",
              " 'south': 1,\n",
              " 'spark': 1,\n",
              " 'speak': 1,\n",
              " 'special': 0,\n",
              " 'spike': 1,\n",
              " 'spread': 0,\n",
              " 'spreading': 2,\n",
              " 'spring': 5,\n",
              " 'staff': 4,\n",
              " 'stand': 0,\n",
              " 'start': 4,\n",
              " 'state': 1,\n",
              " 'statement': 1,\n",
              " 'stay': 0,\n",
              " 'step': 0,\n",
              " 'stick': 1,\n",
              " 'still': 1,\n",
              " 'stock': 1,\n",
              " 'stop': 0,\n",
              " 'store': 1,\n",
              " 'story': 1,\n",
              " 'strain': 1,\n",
              " 'strand': 1,\n",
              " 'street': 1,\n",
              " 'strong': 0,\n",
              " 'student': 1,\n",
              " 'study': 0,\n",
              " 'supply': 4,\n",
              " 'support': 0,\n",
              " 'surge': 1,\n",
              " 'surgical': 1,\n",
              " 'surpass': 7,\n",
              " 'suspect': 7,\n",
              " 'suspected': 7,\n",
              " 'suspend': 1,\n",
              " 'symptom': 4,\n",
              " 'system': 1,\n",
              " 'tackle': 1,\n",
              " 'taiwan': 7,\n",
              " 'take': 0,\n",
              " 'talk': 0,\n",
              " 'team': 0,\n",
              " 'tech': 1,\n",
              " 'tell': 0,\n",
              " 'temporarily': 1,\n",
              " 'temporary': 4,\n",
              " 'term': 1,\n",
              " 'test': 6,\n",
              " 'thailand': 1,\n",
              " 'thank': 0,\n",
              " 'third': 1,\n",
              " 'thousand': 1,\n",
              " 'threat': 3,\n",
              " 'threaten': 1,\n",
              " 'three': 7,\n",
              " 'throughout': 3,\n",
              " 'time': 0,\n",
              " 'today': 1,\n",
              " 'together': 0,\n",
              " 'tokyo': 1,\n",
              " 'toll': 7,\n",
              " 'top': 0,\n",
              " 'total': 7,\n",
              " 'tourism': 1,\n",
              " 'tourist': 1,\n",
              " 'track': 1,\n",
              " 'trade': 1,\n",
              " 'traditional': 4,\n",
              " 'transmission': 3,\n",
              " 'travel': 0,\n",
              " 'traveler': 0,\n",
              " 'treat': 4,\n",
              " 'treatment': 4,\n",
              " 'trial': 1,\n",
              " 'trump': 0,\n",
              " 'try': 1,\n",
              " 'turn': 1,\n",
              " 'two': 6,\n",
              " 'united': 1,\n",
              " 'university': 1,\n",
              " 'update': 2,\n",
              " 'urge': 0,\n",
              " 'use': 4,\n",
              " 'vaccine': 0,\n",
              " 'victory': 0,\n",
              " 'video': 1,\n",
              " 'vietnam': 1,\n",
              " 'view': 4,\n",
              " 'virus': 6,\n",
              " 'visit': 0,\n",
              " 'walk': 4,\n",
              " 'wall': 1,\n",
              " 'wang': 0,\n",
              " 'war': 1,\n",
              " 'warn': 1,\n",
              " 'warning': 1,\n",
              " 'wash': 1,\n",
              " 'washington': 1,\n",
              " 'watch': 1,\n",
              " 'way': 0,\n",
              " 'wear': 1,\n",
              " 'week': 6,\n",
              " 'weigh': 1,\n",
              " 'well': 1,\n",
              " 'whether': 1,\n",
              " 'wild': 0,\n",
              " 'win': 0,\n",
              " 'wish': 0,\n",
              " 'within': 4,\n",
              " 'woman': 1,\n",
              " 'work': 0,\n",
              " 'worker': 4,\n",
              " 'world': 3,\n",
              " 'worry': 1,\n",
              " 'would': 3,\n",
              " 'write': 0,\n",
              " 'xinhua': 1,\n",
              " 'year': 4,\n",
              " 'yet': 3,\n",
              " 'york': 7,\n",
              " 'young': 4,\n",
              " 'yuan': 0,\n",
              " 'zero': 1}"
            ]
          },
          "metadata": {},
          "execution_count": 53
        }
      ]
    }
  ]
}