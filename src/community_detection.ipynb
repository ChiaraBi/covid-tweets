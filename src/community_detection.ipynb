{
  "nbformat": 4,
  "nbformat_minor": 0,
  "metadata": {
    "colab": {
      "name": "community_detection.ipynb",
      "provenance": []
    },
    "kernelspec": {
      "name": "python3",
      "display_name": "Python 3"
    },
    "language_info": {
      "name": "python"
    },
    "accelerator": "GPU"
  },
  "cells": [
    {
      "cell_type": "markdown",
      "source": [
        "# Community detection"
      ],
      "metadata": {
        "id": "8JsOn3xOMKIp"
      }
    },
    {
      "cell_type": "code",
      "source": [
        "!pip install python-louvain\n",
        "!pip install scikit-network"
      ],
      "metadata": {
        "colab": {
          "base_uri": "https://localhost:8080/"
        },
        "id": "2T4rXWMMOEJj",
        "outputId": "13d2267c-53ac-405f-f054-dfb14e78f8d1"
      },
      "execution_count": 2,
      "outputs": [
        {
          "output_type": "stream",
          "name": "stdout",
          "text": [
            "Requirement already satisfied: python-louvain in /usr/local/lib/python3.7/dist-packages (0.15)\n",
            "Requirement already satisfied: numpy in /usr/local/lib/python3.7/dist-packages (from python-louvain) (1.19.5)\n",
            "Requirement already satisfied: networkx in /usr/local/lib/python3.7/dist-packages (from python-louvain) (2.6.3)\n"
          ]
        }
      ]
    },
    {
      "cell_type": "code",
      "source": [
        "from community import community_louvain\n",
        "import networkx as nx\n",
        "from networkx import edge_betweenness_centrality as betweenness\n",
        "from networkx.algorithms import community\n",
        "import pandas as pd\n",
        "import re\n",
        "import numpy as np\n",
        "from operator import itemgetter\n",
        "import itertools"
      ],
      "metadata": {
        "id": "vCg2CDL6uuuB"
      },
      "execution_count": 1,
      "outputs": []
    },
    {
      "cell_type": "code",
      "source": [
        "def network_from_edges(edges):\n",
        "  dict_edges = {}\n",
        "  for ind in range(len(edges)):\n",
        "    if edges.iloc[ind,2] > 10:\n",
        "      dict_edges[(edges.iloc[ind,0], edges.iloc[ind,1])] = edges.iloc[ind,2]\n",
        "  net = pd.DataFrame.from_dict(dict_edges,orient='index')\n",
        "  net.columns = [\"weight\"]\n",
        "  net.sort_values(by=\"weight\",inplace=True, ascending=False)\n",
        "  return dict_edges, net\n",
        "\n",
        "\n",
        "def get_graph(network):\n",
        "  G = nx.Graph()\n",
        "  for edge in network:\n",
        "      #we can filter edges by weight by uncommenting the next line and setting desired weight threshold\n",
        "      G.add_edge(edge[0], edge[1], weight=network[edge])\n",
        "  \n",
        "  #G.add_weighted_edges_from(up_weighted, weight='weight')\n",
        "  return G\n",
        "\n",
        "\n",
        "def extract_text(df):       #extract the text from the tweets and RT\n",
        "                            #works ONLY on .csv file\n",
        "  list_strings = []\n",
        "  for index in range(len(df)):\n",
        "    text = df.loc[index]['text']                          #if it is nor trucated nor a RT  i take \"text\"\n",
        "    string = -1\n",
        "    if (df.loc[index,\"truncated\"] == True):                 #if it is trucated I take \"extended_tweet\"\n",
        "        string = df.loc[index,\"extended_tweet\"]\n",
        "    if type(df.loc[index,\"retweeted_status\"]) != float:     #if it is a RT I take retweeted_status\n",
        "        string = df.loc[index,\"retweeted_status\"]\n",
        "    if type(string) == str :\n",
        "        if(re.search('full_text\\':(.+?)https',string) != None):     #if I find \"full_text\"\n",
        "          s = re.search('full_text\\':(.+?)https',string).group(1)\n",
        "        if(re.search('text\\':(.+?)https',string)!= None):\n",
        "          s = re.search('text\\':(.+?)https',string).group(1)\n",
        "        else: \n",
        "          continue\n",
        "        list_strings.append(s)\n",
        "    else:\n",
        "      list_strings.append(text)\n",
        "\n",
        "  return list_strings\n",
        "\n",
        "\n",
        "def frequency_dictionary(df):\n",
        "  unique_words = {}\n",
        "\n",
        "  for row in df:\n",
        "    for word in row.split():\n",
        "      #if the word is encountered for the first time add to dict as key and set its value to 0\n",
        "      unique_words.setdefault(word,0)\n",
        "      #increase the value (i.e the count) of the word by 1 every time it is encountered\n",
        "      unique_words[word] += 1\n",
        "\n",
        "  return unique_words\n",
        "\n",
        "\n",
        "def adj_matrix(node_list, edge_list):   \n",
        "\n",
        "  words = sorted(list(node_list['Id']))\n",
        "\n",
        "  A = pd.DataFrame(np.zeros((len(words),len(words))), columns = words, index = words)\n",
        "  print('A shape: ', A.shape)\n",
        "  for row in range(len(edge_list)):\n",
        "    if row%1000==0:\n",
        "      print(str(round(row/1000)) + '/' + str(round(len(edge_list)/1000)))\n",
        "    word1 = edge_list.iloc[row, 0]\n",
        "    word2 = edge_list.iloc[row, 1]\n",
        "    weight = edge_list.iloc[row, 2]\n",
        "    A[word1, word2] = weight\n",
        "    A[word2, word1] = weight\n",
        "  print('A shape: ', A.shape)\n",
        "  return A"
      ],
      "metadata": {
        "id": "6M8qjj00Pki1"
      },
      "execution_count": 18,
      "outputs": []
    },
    {
      "cell_type": "code",
      "source": [
        "def community_check(community, dict_1, dict_2, G_1, G_2, thr):\n",
        "  sum_1 = 0\n",
        "  sum_2 = 0\n",
        "  sum_12 = 0\n",
        "  for key in community:\n",
        "    if (key in list(dict_1.keys())) and (key in list(dict_2.keys())):\n",
        "      if dict_1[key] / sum(list(dict_1.values())) - dict_2[key] / sum(list(dict_2.values())) > thr:\n",
        "        sum_1 += 1\n",
        "      elif dict_1[key] / sum(list(dict_1.values())) - dict_2[key] / sum(list(dict_2.values())) < -thr:\n",
        "        sum_2 += 1  \n",
        "      else:\n",
        "        sum_12 += 1 \n",
        "    elif key in list(G_1.nodes()):\n",
        "      sum_1 += 1\n",
        "    elif key in list(G_2.nodes()):\n",
        "      sum_2 += 1\n",
        "  return sum_1, sum_2, sum_12"
      ],
      "metadata": {
        "id": "TKPfRtcagPT0"
      },
      "execution_count": 3,
      "outputs": []
    },
    {
      "cell_type": "markdown",
      "source": [
        "# PageRank Networks"
      ],
      "metadata": {
        "id": "7SQYN2uFpug-"
      }
    },
    {
      "cell_type": "markdown",
      "source": [
        "## All periods"
      ],
      "metadata": {
        "id": "HFpJ40-hpztP"
      }
    },
    {
      "cell_type": "code",
      "source": [
        "period = ''\n",
        "China = pd.read_csv('/content/China'+period+'.csv')\n",
        "USA = pd.read_csv('/content/USA'+period+'.csv')\n",
        "\n",
        "edges = pd.read_csv('/content/edgelist_China_USA'+period+'.csv')\n",
        "# edges_China = pd.read_csv('/content/edgelist_China'+period+'.csv')\n",
        "# edges_USA = pd.read_csv('/content/edgelist_USA'+period+'.csv')\n",
        "\n",
        "nodes = pd.read_csv('/content/nodelist_China_USA'+period+'.csv')\n",
        "\n",
        "text_China = extract_text(China)\n",
        "text_USA = extract_text(USA)\n",
        "\n",
        "freq_dict_China = frequency_dictionary(text_China)\n",
        "freq_dict_China = dict(sorted(freq_dict_China.items(), key=lambda item: item[1], reverse = True))   #order from more frequent to less frequent word\n",
        "\n",
        "freq_dict_USA = frequency_dictionary(text_USA)\n",
        "freq_dict_USA = dict(sorted(freq_dict_USA.items(), key=lambda item: item[1], reverse = True))   #order from more frequent to less frequent word\n",
        "\n",
        "net, net_df = network_from_edges(edges)\n",
        "# net_China, net_df_China = network_from_edges(edges_China)\n",
        "# net_USA, net_df_USA = network_from_edges(edges_USA)\n",
        "\n",
        "G = get_graph(net)\n",
        "# G_China = get_graph(net_China)\n",
        "# G_USA = get_graph(net_USA)"
      ],
      "metadata": {
        "id": "pcxvUc4GqAJt"
      },
      "execution_count": 4,
      "outputs": []
    },
    {
      "cell_type": "code",
      "source": [
        "print('China&USA:')\n",
        "print('Nodes: ',len(G.nodes()))\n",
        "print('Edges: ',len(G.edges()))\n",
        "print('Is connected: ',nx.is_connected(G))\n",
        "print()\n",
        "'''\n",
        "print('China:')\n",
        "print('Nodes: ',len(G_China.nodes()))\n",
        "print('Edges: ',len(G_China.edges()))\n",
        "print('Is connected: ',nx.is_connected(G_China))\n",
        "print()\n",
        "print('USA:')\n",
        "print('Nodes: ',len(G_USA.nodes()))\n",
        "print('Edges: ',len(G_USA.edges()))\n",
        "print('Is connected: ',nx.is_connected(G_USA))\n",
        "print()\n",
        "'''"
      ],
      "metadata": {
        "id": "4vfxekxfTL17",
        "outputId": "27d706fa-24b3-4803-ef6e-387b0da7787d",
        "colab": {
          "base_uri": "https://localhost:8080/",
          "height": 157
        }
      },
      "execution_count": 5,
      "outputs": [
        {
          "output_type": "stream",
          "name": "stdout",
          "text": [
            "China&USA:\n",
            "Nodes:  509\n",
            "Edges:  11982\n",
            "Is connected:  True\n",
            "\n"
          ]
        },
        {
          "output_type": "execute_result",
          "data": {
            "application/vnd.google.colaboratory.intrinsic+json": {
              "type": "string"
            },
            "text/plain": [
              "\"\\nprint('China:')\\nprint('Nodes: ',len(G_China.nodes()))\\nprint('Edges: ',len(G_China.edges()))\\nprint('Is connected: ',nx.is_connected(G_China))\\nprint()\\nprint('USA:')\\nprint('Nodes: ',len(G_USA.nodes()))\\nprint('Edges: ',len(G_USA.edges()))\\nprint('Is connected: ',nx.is_connected(G_USA))\\nprint()\\n\""
            ]
          },
          "metadata": {},
          "execution_count": 5
        }
      ]
    },
    {
      "cell_type": "markdown",
      "source": [
        "### Girvan_Newman"
      ],
      "metadata": {
        "id": "gHJ0H0vjVxe0"
      }
    },
    {
      "cell_type": "code",
      "source": [
        "community_gn = community.girvan_newman(G,)\n",
        "for c_list in community_gn:\n",
        "  tuple(print(sorted(c)) for c in c_list)"
      ],
      "metadata": {
        "colab": {
          "base_uri": "https://localhost:8080/",
          "height": 627
        },
        "id": "m1LKLdh2MM2b",
        "outputId": "d7e1deef-1c21-4ead-c381-936a58fd0b27"
      },
      "execution_count": 7,
      "outputs": [
        {
          "output_type": "stream",
          "name": "stdout",
          "text": [
            "['accord', 'across', 'add', 'administer', 'administration', 'adult', 'adviser', 'affect', 'africa', 'age', 'agency', 'ahead', 'aid', 'air', 'allow', 'almost', 'already', 'also', 'america', 'amid', 'among', 'analysis', 'announce', 'another', 'antibody', 'appear', 'approve', 'area', 'around', 'arrive', 'asian', 'ask', 'australia', 'authority', 'avoid', 'back', 'bad', 'ban', 'bank', 'base', 'batch', 'battle', 'become', 'begin', 'behind', 'beijing', 'benefit', 'big', 'bill', 'billion', 'blood', 'boost', 'brazil', 'break', 'breaking', 'bring', 'british', 'build', 'business', 'california', 'call', 'campaign', 'canada', 'cancel', 'candidate', 'capital', 'care', 'case', 'catch', 'cause', 'center', 'central', 'challenge', 'change', 'chief', 'child', 'china', 'citizen', 'city', 'claim', 'clinical', 'close', 'clot', 'combat', 'come', 'commission', 'committee', 'community', 'company', 'concern', 'condition', 'confidence', 'confirm', 'confirmed', 'contact', 'contain', 'continue', 'contract', 'control', 'coronavirus', 'could', 'country', 'court', 'covid', 'crisis', 'critical', 'cruise', 'curb', 'daily', 'data', 'day', 'deadly', 'deal', 'death', 'debate', 'declare', 'decline', 'delay', 'deliver', 'demand', 'democratic', 'department', 'despite', 'develop', 'development', 'diagnose', 'diagnosis', 'die', 'director', 'discharge', 'disease', 'doctor', 'donate', 'dos', 'dose', 'drive', 'drop', 'drug', 'due', 'early', 'ease', 'economic', 'economy', 'effect', 'effective', 'effort', 'election', 'emergency', 'employee', 'end', 'epicenter', 'epidemic', 'evacuate', 'even', 'event', 'exclusive', 'expect', 'experience', 'experimental', 'expert', 'export', 'express', 'extend', 'face', 'facility', 'fall', 'family', 'far', 'fauci', 'fear', 'federal', 'fight', 'financial', 'find', 'first', 'five', 'flight', 'flu', 'follow', 'food', 'force', 'foreign', 'former', 'four', 'france', 'free', 'french', 'full', 'fund', 'game', 'general', 'germany', 'get', 'give', 'global', 'good', 'government', 'governor', 'great', 'group', 'grow', 'growth', 'half', 'hand', 'hard', 'head', 'health', 'help', 'high', 'hit', 'hold', 'holiday', 'home', 'hong', 'hope', 'hospital', 'hour', 'house', 'hubei', 'human', 'hundred', 'illness', 'impact', 'include', 'increase', 'india', 'industry', 'infect', 'infection', 'infectious', 'institute', 'international', 'issue', 'italy', 'japan', 'job', 'joe', 'johnson', 'join', 'keep', 'kill', 'know', 'korea', 'lady', 'large', 'last', 'late', 'launch', 'lead', 'leader', 'least', 'leave', 'less', 'level', 'life', 'like', 'likely', 'limit', 'line', 'link', 'live', 'local', 'long', 'look', 'lose', 'loss', 'low', 'major', 'make', 'maker', 'man', 'many', 'march', 'mark', 'market', 'mask', 'may', 'measure', 'medical', 'medicine', 'medium', 'meet', 'member', 'mike', 'military', 'million', 'minister', 'ministry', 'month', 'move', 'much', 'nation', 'national', 'nearly', 'need', 'negative', 'new', 'news', 'next', 'night', 'nominee', 'north', 'novel', 'number', 'offer', 'office', 'official', 'old', 'one', 'open', 'order', 'organization', 'outbreak', 'outside', 'pandemic', 'part', 'pass', 'passenger', 'past', 'patient', 'pause', 'penny', 'people', 'person', 'place', 'plan', 'pneumonia', 'poll', 'population', 'positive', 'possible', 'post', 'potential', 'president', 'presidential', 'press', 'prevent', 'prevention', 'prime', 'problem', 'produce', 'production', 'protect', 'provide', 'province', 'public', 'push', 'put', 'quarantine', 'question', 'race', 'raise', 'rally', 'rare', 'rate', 'reach', 'read', 'receive', 'recent', 'record', 'recover', 'recovery', 'region', 'regulator', 'release', 'relief', 'remain', 'reopen', 'report', 'republican', 'research', 'researcher', 'resident', 'response', 'restaurant', 'restriction', 'result', 'return', 'right', 'rise', 'risk', 'rule', 'russia', 'safe', 'safety', 'sale', 'say', 'school', 'scientist', 'season', 'second', 'secretary', 'see', 'seek', 'send', 'senior', 'service', 'set', 'seven', 'several', 'severe', 'share', 'ship', 'shot', 'show', 'shut', 'side', 'sign', 'since', 'single', 'six', 'slow', 'small', 'social', 'soon', 'source', 'south', 'special', 'spike', 'spread', 'staff', 'stage', 'stand', 'start', 'state', 'statement', 'stay', 'step', 'still', 'stock', 'stop', 'story', 'street', 'strong', 'struggle', 'student', 'study', 'supply', 'support', 'surge', 'surpass', 'suspend', 'symptom', 'system', 'take', 'talk', 'team', 'tell', 'term', 'test', 'think', 'third', 'thousand', 'three', 'time', 'today', 'toll', 'top', 'total', 'track', 'transmission', 'travel', 'treat', 'treatment', 'trial', 'trump', 'try', 'turn', 'two', 'united', 'university', 'update', 'urge', 'use', 'vaccinate', 'vaccination', 'vaccine', 'variant', 'vice', 'video', 'virus', 'visit', 'volunteer', 'vote', 'want', 'war', 'warn', 'watch', 'wave', 'way', 'wear', 'week', 'well', 'whether', 'white', 'win', 'within', 'without', 'woman', 'work', 'worker', 'world', 'worry', 'would', 'year', 'yet', 'york', 'young']\n",
            "['party']\n",
            "['accord', 'across', 'add', 'administer', 'administration', 'adult', 'adviser', 'affect', 'africa', 'age', 'agency', 'ahead', 'aid', 'air', 'allow', 'almost', 'already', 'also', 'amid', 'among', 'analysis', 'announce', 'another', 'antibody', 'appear', 'approve', 'area', 'around', 'arrive', 'asian', 'ask', 'australia', 'authority', 'avoid', 'back', 'bad', 'ban', 'bank', 'base', 'batch', 'battle', 'become', 'begin', 'behind', 'beijing', 'benefit', 'big', 'bill', 'billion', 'blood', 'boost', 'brazil', 'break', 'breaking', 'bring', 'british', 'build', 'business', 'california', 'call', 'campaign', 'canada', 'cancel', 'candidate', 'capital', 'care', 'case', 'catch', 'cause', 'center', 'central', 'challenge', 'change', 'chief', 'child', 'china', 'citizen', 'city', 'claim', 'clinical', 'close', 'clot', 'combat', 'come', 'commission', 'committee', 'community', 'company', 'concern', 'condition', 'confidence', 'confirm', 'confirmed', 'contact', 'contain', 'continue', 'contract', 'control', 'coronavirus', 'could', 'country', 'court', 'covid', 'crisis', 'critical', 'cruise', 'curb', 'daily', 'data', 'day', 'deadly', 'deal', 'death', 'debate', 'declare', 'decline', 'delay', 'deliver', 'demand', 'democratic', 'department', 'despite', 'develop', 'development', 'diagnose', 'diagnosis', 'die', 'director', 'discharge', 'disease', 'doctor', 'donate', 'dos', 'dose', 'drive', 'drop', 'drug', 'due', 'early', 'ease', 'economic', 'economy', 'effect', 'effective', 'effort', 'election', 'emergency', 'employee', 'end', 'epicenter', 'epidemic', 'evacuate', 'even', 'event', 'exclusive', 'expect', 'experience', 'experimental', 'expert', 'export', 'express', 'extend', 'face', 'facility', 'fall', 'family', 'far', 'fauci', 'fear', 'federal', 'fight', 'financial', 'find', 'first', 'five', 'flight', 'flu', 'follow', 'food', 'force', 'foreign', 'former', 'four', 'france', 'free', 'french', 'full', 'fund', 'game', 'general', 'germany', 'get', 'give', 'global', 'good', 'government', 'governor', 'great', 'group', 'grow', 'growth', 'half', 'hand', 'hard', 'head', 'health', 'help', 'high', 'hit', 'hold', 'holiday', 'home', 'hong', 'hope', 'hospital', 'hour', 'house', 'hubei', 'human', 'hundred', 'illness', 'impact', 'include', 'increase', 'india', 'industry', 'infect', 'infection', 'infectious', 'institute', 'international', 'issue', 'italy', 'japan', 'job', 'joe', 'johnson', 'join', 'keep', 'kill', 'know', 'korea', 'lady', 'large', 'last', 'late', 'launch', 'lead', 'leader', 'least', 'leave', 'less', 'level', 'life', 'like', 'likely', 'limit', 'line', 'link', 'live', 'local', 'long', 'look', 'lose', 'loss', 'low', 'major', 'make', 'maker', 'man', 'many', 'march', 'mark', 'market', 'mask', 'may', 'measure', 'medical', 'medicine', 'medium', 'meet', 'member', 'mike', 'military', 'million', 'minister', 'ministry', 'month', 'move', 'much', 'nation', 'national', 'nearly', 'need', 'negative', 'new', 'news', 'next', 'night', 'nominee', 'north', 'novel', 'number', 'offer', 'office', 'official', 'old', 'one', 'open', 'order', 'organization', 'outbreak', 'outside', 'pandemic', 'part', 'pass', 'passenger', 'past', 'patient', 'pause', 'penny', 'people', 'person', 'place', 'plan', 'pneumonia', 'poll', 'population', 'positive', 'possible', 'post', 'potential', 'president', 'presidential', 'press', 'prevent', 'prevention', 'prime', 'problem', 'produce', 'production', 'protect', 'provide', 'province', 'public', 'push', 'put', 'quarantine', 'question', 'race', 'raise', 'rally', 'rare', 'rate', 'reach', 'read', 'receive', 'recent', 'record', 'recover', 'recovery', 'region', 'regulator', 'release', 'relief', 'remain', 'reopen', 'report', 'republican', 'research', 'researcher', 'resident', 'response', 'restaurant', 'restriction', 'result', 'return', 'right', 'rise', 'risk', 'rule', 'russia', 'safe', 'safety', 'sale', 'say', 'school', 'scientist', 'season', 'second', 'secretary', 'see', 'seek', 'send', 'senior', 'service', 'set', 'seven', 'several', 'severe', 'share', 'ship', 'shot', 'show', 'shut', 'side', 'sign', 'since', 'single', 'six', 'slow', 'small', 'social', 'soon', 'source', 'south', 'special', 'spike', 'spread', 'staff', 'stage', 'stand', 'start', 'state', 'statement', 'stay', 'step', 'still', 'stock', 'stop', 'story', 'street', 'strong', 'struggle', 'student', 'study', 'supply', 'support', 'surge', 'surpass', 'suspend', 'symptom', 'system', 'take', 'talk', 'team', 'tell', 'term', 'test', 'think', 'third', 'thousand', 'three', 'time', 'today', 'toll', 'top', 'total', 'track', 'transmission', 'travel', 'treat', 'treatment', 'trial', 'trump', 'try', 'turn', 'two', 'united', 'university', 'update', 'urge', 'use', 'vaccinate', 'vaccination', 'vaccine', 'variant', 'vice', 'video', 'virus', 'visit', 'volunteer', 'vote', 'want', 'war', 'warn', 'watch', 'wave', 'way', 'wear', 'week', 'well', 'whether', 'white', 'win', 'within', 'without', 'woman', 'work', 'worker', 'world', 'worry', 'would', 'year', 'yet', 'york', 'young']\n",
            "['party']\n",
            "['america']\n",
            "['accord', 'across', 'add', 'administer', 'administration', 'adult', 'adviser', 'affect', 'africa', 'age', 'agency', 'ahead', 'aid', 'air', 'allow', 'almost', 'already', 'also', 'amid', 'among', 'analysis', 'announce', 'another', 'antibody', 'appear', 'approve', 'area', 'around', 'arrive', 'asian', 'ask', 'australia', 'authority', 'avoid', 'back', 'bad', 'ban', 'bank', 'base', 'batch', 'battle', 'become', 'begin', 'behind', 'beijing', 'benefit', 'big', 'bill', 'billion', 'blood', 'boost', 'brazil', 'break', 'breaking', 'bring', 'british', 'build', 'business', 'california', 'call', 'campaign', 'canada', 'cancel', 'candidate', 'capital', 'care', 'case', 'catch', 'cause', 'center', 'central', 'challenge', 'change', 'chief', 'child', 'china', 'citizen', 'city', 'claim', 'clinical', 'close', 'clot', 'combat', 'come', 'commission', 'committee', 'community', 'company', 'concern', 'condition', 'confidence', 'confirm', 'confirmed', 'contact', 'contain', 'continue', 'contract', 'control', 'coronavirus', 'could', 'country', 'court', 'covid', 'crisis', 'critical', 'cruise', 'curb', 'daily', 'data', 'day', 'deadly', 'deal', 'death', 'debate', 'declare', 'decline', 'delay', 'deliver', 'demand', 'democratic', 'department', 'despite', 'develop', 'development', 'diagnose', 'diagnosis', 'die', 'director', 'discharge', 'disease', 'doctor', 'donate', 'dos', 'dose', 'drive', 'drop', 'drug', 'due', 'early', 'ease', 'economic', 'economy', 'effect', 'effective', 'effort', 'election', 'emergency', 'employee', 'end', 'epicenter', 'epidemic', 'evacuate', 'even', 'event', 'exclusive', 'expect', 'experience', 'experimental', 'expert', 'export', 'express', 'extend', 'face', 'facility', 'fall', 'family', 'far', 'fauci', 'fear', 'federal', 'fight', 'find', 'first', 'five', 'flight', 'flu', 'follow', 'food', 'force', 'foreign', 'former', 'four', 'france', 'free', 'french', 'full', 'fund', 'game', 'general', 'germany', 'get', 'give', 'global', 'good', 'government', 'governor', 'great', 'group', 'grow', 'growth', 'half', 'hand', 'hard', 'head', 'health', 'help', 'high', 'hit', 'hold', 'holiday', 'home', 'hong', 'hope', 'hospital', 'hour', 'house', 'hubei', 'human', 'hundred', 'illness', 'impact', 'include', 'increase', 'india', 'industry', 'infect', 'infection', 'infectious', 'institute', 'international', 'issue', 'italy', 'japan', 'job', 'joe', 'johnson', 'join', 'keep', 'kill', 'know', 'korea', 'lady', 'large', 'last', 'late', 'launch', 'lead', 'leader', 'least', 'leave', 'less', 'level', 'life', 'like', 'likely', 'limit', 'line', 'link', 'live', 'local', 'long', 'look', 'lose', 'loss', 'low', 'major', 'make', 'maker', 'man', 'many', 'march', 'mark', 'market', 'mask', 'may', 'measure', 'medical', 'medicine', 'medium', 'meet', 'member', 'mike', 'military', 'million', 'minister', 'ministry', 'month', 'move', 'much', 'nation', 'national', 'nearly', 'need', 'negative', 'new', 'news', 'next', 'night', 'nominee', 'north', 'novel', 'number', 'offer', 'office', 'official', 'old', 'one', 'open', 'order', 'organization', 'outbreak', 'outside', 'pandemic', 'part', 'pass', 'passenger', 'past', 'patient', 'pause', 'penny', 'people', 'person', 'place', 'plan', 'pneumonia', 'poll', 'population', 'positive', 'possible', 'post', 'potential', 'president', 'presidential', 'press', 'prevent', 'prevention', 'prime', 'problem', 'produce', 'production', 'protect', 'provide', 'province', 'public', 'push', 'put', 'quarantine', 'question', 'race', 'raise', 'rally', 'rare', 'rate', 'reach', 'read', 'receive', 'recent', 'record', 'recover', 'recovery', 'region', 'regulator', 'release', 'relief', 'remain', 'reopen', 'report', 'republican', 'research', 'researcher', 'resident', 'response', 'restaurant', 'restriction', 'result', 'return', 'right', 'rise', 'risk', 'rule', 'russia', 'safe', 'safety', 'sale', 'say', 'school', 'scientist', 'season', 'second', 'secretary', 'see', 'seek', 'send', 'senior', 'service', 'set', 'seven', 'several', 'severe', 'share', 'ship', 'shot', 'show', 'shut', 'side', 'sign', 'since', 'single', 'six', 'slow', 'small', 'social', 'soon', 'source', 'south', 'special', 'spike', 'spread', 'staff', 'stage', 'stand', 'start', 'state', 'statement', 'stay', 'step', 'still', 'stock', 'stop', 'story', 'street', 'strong', 'struggle', 'student', 'study', 'supply', 'support', 'surge', 'surpass', 'suspend', 'symptom', 'system', 'take', 'talk', 'team', 'tell', 'term', 'test', 'think', 'third', 'thousand', 'three', 'time', 'today', 'toll', 'top', 'total', 'track', 'transmission', 'travel', 'treat', 'treatment', 'trial', 'trump', 'try', 'turn', 'two', 'united', 'university', 'update', 'urge', 'use', 'vaccinate', 'vaccination', 'vaccine', 'variant', 'vice', 'video', 'virus', 'visit', 'volunteer', 'vote', 'want', 'war', 'warn', 'watch', 'wave', 'way', 'wear', 'week', 'well', 'whether', 'white', 'win', 'within', 'without', 'woman', 'work', 'worker', 'world', 'worry', 'would', 'year', 'yet', 'york', 'young']\n",
            "['party']\n",
            "['america']\n",
            "['financial']\n",
            "['accord', 'across', 'add', 'administer', 'administration', 'adult', 'adviser', 'affect', 'africa', 'age', 'agency', 'ahead', 'aid', 'air', 'allow', 'almost', 'already', 'also', 'amid', 'among', 'analysis', 'announce', 'another', 'antibody', 'appear', 'approve', 'area', 'around', 'arrive', 'asian', 'ask', 'australia', 'authority', 'avoid', 'back', 'bad', 'ban', 'bank', 'base', 'batch', 'battle', 'become', 'begin', 'behind', 'beijing', 'benefit', 'big', 'bill', 'billion', 'blood', 'boost', 'brazil', 'break', 'breaking', 'bring', 'british', 'build', 'business', 'california', 'call', 'campaign', 'canada', 'cancel', 'candidate', 'capital', 'care', 'case', 'catch', 'cause', 'center', 'central', 'challenge', 'change', 'chief', 'child', 'china', 'citizen', 'city', 'claim', 'clinical', 'close', 'clot', 'combat', 'come', 'commission', 'committee', 'community', 'company', 'concern', 'condition', 'confidence', 'confirm', 'confirmed', 'contact', 'contain', 'continue', 'contract', 'control', 'coronavirus', 'could', 'country', 'court', 'covid', 'crisis', 'critical', 'cruise', 'curb', 'daily', 'data', 'day', 'deadly', 'deal', 'death', 'debate', 'declare', 'decline', 'delay', 'deliver', 'demand', 'democratic', 'department', 'despite', 'develop', 'development', 'diagnose', 'diagnosis', 'die', 'director', 'discharge', 'disease', 'doctor', 'donate', 'dos', 'dose', 'drive', 'drop', 'drug', 'due', 'early', 'ease', 'economic', 'economy', 'effect', 'effective', 'effort', 'election', 'emergency', 'employee', 'end', 'epicenter', 'epidemic', 'evacuate', 'even', 'event', 'exclusive', 'expect', 'experience', 'experimental', 'expert', 'export', 'express', 'extend', 'face', 'facility', 'fall', 'family', 'far', 'fauci', 'fear', 'federal', 'fight', 'find', 'first', 'five', 'flight', 'flu', 'follow', 'food', 'force', 'foreign', 'former', 'four', 'france', 'free', 'french', 'full', 'fund', 'game', 'general', 'germany', 'get', 'give', 'global', 'good', 'government', 'governor', 'great', 'group', 'grow', 'growth', 'half', 'hand', 'hard', 'head', 'health', 'help', 'high', 'hit', 'hold', 'holiday', 'home', 'hong', 'hope', 'hospital', 'hour', 'house', 'hubei', 'human', 'hundred', 'illness', 'impact', 'include', 'increase', 'india', 'industry', 'infect', 'infection', 'infectious', 'institute', 'international', 'issue', 'italy', 'japan', 'job', 'joe', 'johnson', 'join', 'keep', 'kill', 'know', 'korea', 'lady', 'large', 'last', 'late', 'launch', 'lead', 'leader', 'least', 'leave', 'less', 'level', 'life', 'like', 'likely', 'limit', 'line', 'link', 'live', 'local', 'long', 'look', 'lose', 'loss', 'low', 'major', 'make', 'maker', 'man', 'many', 'march', 'mark', 'market', 'mask', 'may', 'measure', 'medical', 'medicine', 'medium', 'meet', 'member', 'mike', 'military', 'million', 'minister', 'ministry', 'month', 'move', 'much', 'nation', 'national', 'nearly', 'need', 'negative', 'new', 'news', 'next', 'night', 'nominee', 'north', 'novel', 'number', 'offer', 'office', 'official', 'old', 'one', 'open', 'order', 'organization', 'outbreak', 'outside', 'pandemic', 'part', 'pass', 'passenger', 'past', 'patient', 'pause', 'penny', 'people', 'person', 'place', 'plan', 'pneumonia', 'poll', 'population', 'positive', 'possible', 'post', 'potential', 'president', 'presidential', 'press', 'prevent', 'prevention', 'prime', 'problem', 'produce', 'production', 'protect', 'provide', 'province', 'public', 'push', 'put', 'quarantine', 'question', 'race', 'raise', 'rally', 'rare', 'rate', 'reach', 'read', 'receive', 'recent', 'record', 'recover', 'recovery', 'region', 'regulator', 'release', 'relief', 'remain', 'reopen', 'report', 'republican', 'research', 'researcher', 'resident', 'response', 'restaurant', 'restriction', 'result', 'return', 'right', 'rise', 'risk', 'rule', 'russia', 'safe', 'safety', 'sale', 'say', 'school', 'scientist', 'second', 'secretary', 'see', 'seek', 'send', 'senior', 'service', 'set', 'seven', 'several', 'severe', 'share', 'ship', 'shot', 'show', 'shut', 'side', 'sign', 'since', 'single', 'six', 'slow', 'small', 'social', 'soon', 'source', 'south', 'special', 'spike', 'spread', 'staff', 'stage', 'stand', 'start', 'state', 'statement', 'stay', 'step', 'still', 'stock', 'stop', 'story', 'street', 'strong', 'struggle', 'student', 'study', 'supply', 'support', 'surge', 'surpass', 'suspend', 'symptom', 'system', 'take', 'talk', 'team', 'tell', 'term', 'test', 'think', 'third', 'thousand', 'three', 'time', 'today', 'toll', 'top', 'total', 'track', 'transmission', 'travel', 'treat', 'treatment', 'trial', 'trump', 'try', 'turn', 'two', 'united', 'university', 'update', 'urge', 'use', 'vaccinate', 'vaccination', 'vaccine', 'variant', 'vice', 'video', 'virus', 'visit', 'volunteer', 'vote', 'want', 'war', 'warn', 'watch', 'wave', 'way', 'wear', 'week', 'well', 'whether', 'white', 'win', 'within', 'without', 'woman', 'work', 'worker', 'world', 'worry', 'would', 'year', 'yet', 'york', 'young']\n",
            "['party']\n",
            "['season']\n",
            "['america']\n",
            "['financial']\n"
          ]
        },
        {
          "output_type": "error",
          "ename": "KeyboardInterrupt",
          "evalue": "ignored",
          "traceback": [
            "\u001b[0;31m---------------------------------------------------------------------------\u001b[0m",
            "\u001b[0;31mKeyboardInterrupt\u001b[0m                         Traceback (most recent call last)",
            "\u001b[0;32m<ipython-input-7-7ab4995d3cbf>\u001b[0m in \u001b[0;36m<module>\u001b[0;34m()\u001b[0m\n\u001b[1;32m      1\u001b[0m \u001b[0mcommunity_gn\u001b[0m \u001b[0;34m=\u001b[0m \u001b[0mcommunity\u001b[0m\u001b[0;34m.\u001b[0m\u001b[0mgirvan_newman\u001b[0m\u001b[0;34m(\u001b[0m\u001b[0mG\u001b[0m\u001b[0;34m,\u001b[0m\u001b[0;34m)\u001b[0m\u001b[0;34m\u001b[0m\u001b[0;34m\u001b[0m\u001b[0m\n\u001b[0;32m----> 2\u001b[0;31m \u001b[0;32mfor\u001b[0m \u001b[0mc_list\u001b[0m \u001b[0;32min\u001b[0m \u001b[0mcommunity_gn\u001b[0m\u001b[0;34m:\u001b[0m\u001b[0;34m\u001b[0m\u001b[0;34m\u001b[0m\u001b[0m\n\u001b[0m\u001b[1;32m      3\u001b[0m   \u001b[0mtuple\u001b[0m\u001b[0;34m(\u001b[0m\u001b[0mprint\u001b[0m\u001b[0;34m(\u001b[0m\u001b[0msorted\u001b[0m\u001b[0;34m(\u001b[0m\u001b[0mc\u001b[0m\u001b[0;34m)\u001b[0m\u001b[0;34m)\u001b[0m \u001b[0;32mfor\u001b[0m \u001b[0mc\u001b[0m \u001b[0;32min\u001b[0m \u001b[0mc_list\u001b[0m\u001b[0;34m)\u001b[0m\u001b[0;34m\u001b[0m\u001b[0;34m\u001b[0m\u001b[0m\n",
            "\u001b[0;32m/usr/local/lib/python3.7/dist-packages/networkx/algorithms/community/centrality.py\u001b[0m in \u001b[0;36mgirvan_newman\u001b[0;34m(G, most_valuable_edge)\u001b[0m\n\u001b[1;32m    145\u001b[0m     \u001b[0mg\u001b[0m\u001b[0;34m.\u001b[0m\u001b[0mremove_edges_from\u001b[0m\u001b[0;34m(\u001b[0m\u001b[0mnx\u001b[0m\u001b[0;34m.\u001b[0m\u001b[0mselfloop_edges\u001b[0m\u001b[0;34m(\u001b[0m\u001b[0mg\u001b[0m\u001b[0;34m)\u001b[0m\u001b[0;34m)\u001b[0m\u001b[0;34m\u001b[0m\u001b[0;34m\u001b[0m\u001b[0m\n\u001b[1;32m    146\u001b[0m     \u001b[0;32mwhile\u001b[0m \u001b[0mg\u001b[0m\u001b[0;34m.\u001b[0m\u001b[0mnumber_of_edges\u001b[0m\u001b[0;34m(\u001b[0m\u001b[0;34m)\u001b[0m \u001b[0;34m>\u001b[0m \u001b[0;36m0\u001b[0m\u001b[0;34m:\u001b[0m\u001b[0;34m\u001b[0m\u001b[0;34m\u001b[0m\u001b[0m\n\u001b[0;32m--> 147\u001b[0;31m         \u001b[0;32myield\u001b[0m \u001b[0m_without_most_central_edges\u001b[0m\u001b[0;34m(\u001b[0m\u001b[0mg\u001b[0m\u001b[0;34m,\u001b[0m \u001b[0mmost_valuable_edge\u001b[0m\u001b[0;34m)\u001b[0m\u001b[0;34m\u001b[0m\u001b[0;34m\u001b[0m\u001b[0m\n\u001b[0m\u001b[1;32m    148\u001b[0m \u001b[0;34m\u001b[0m\u001b[0m\n\u001b[1;32m    149\u001b[0m \u001b[0;34m\u001b[0m\u001b[0m\n",
            "\u001b[0;32m/usr/local/lib/python3.7/dist-packages/networkx/algorithms/community/centrality.py\u001b[0m in \u001b[0;36m_without_most_central_edges\u001b[0;34m(G, most_valuable_edge)\u001b[0m\n\u001b[1;32m    164\u001b[0m     \u001b[0mnum_new_components\u001b[0m \u001b[0;34m=\u001b[0m \u001b[0moriginal_num_components\u001b[0m\u001b[0;34m\u001b[0m\u001b[0;34m\u001b[0m\u001b[0m\n\u001b[1;32m    165\u001b[0m     \u001b[0;32mwhile\u001b[0m \u001b[0mnum_new_components\u001b[0m \u001b[0;34m<=\u001b[0m \u001b[0moriginal_num_components\u001b[0m\u001b[0;34m:\u001b[0m\u001b[0;34m\u001b[0m\u001b[0;34m\u001b[0m\u001b[0m\n\u001b[0;32m--> 166\u001b[0;31m         \u001b[0medge\u001b[0m \u001b[0;34m=\u001b[0m \u001b[0mmost_valuable_edge\u001b[0m\u001b[0;34m(\u001b[0m\u001b[0mG\u001b[0m\u001b[0;34m)\u001b[0m\u001b[0;34m\u001b[0m\u001b[0;34m\u001b[0m\u001b[0m\n\u001b[0m\u001b[1;32m    167\u001b[0m         \u001b[0mG\u001b[0m\u001b[0;34m.\u001b[0m\u001b[0mremove_edge\u001b[0m\u001b[0;34m(\u001b[0m\u001b[0;34m*\u001b[0m\u001b[0medge\u001b[0m\u001b[0;34m)\u001b[0m\u001b[0;34m\u001b[0m\u001b[0;34m\u001b[0m\u001b[0m\n\u001b[1;32m    168\u001b[0m         \u001b[0mnew_components\u001b[0m \u001b[0;34m=\u001b[0m \u001b[0mtuple\u001b[0m\u001b[0;34m(\u001b[0m\u001b[0mnx\u001b[0m\u001b[0;34m.\u001b[0m\u001b[0mconnected_components\u001b[0m\u001b[0;34m(\u001b[0m\u001b[0mG\u001b[0m\u001b[0;34m)\u001b[0m\u001b[0;34m)\u001b[0m\u001b[0;34m\u001b[0m\u001b[0;34m\u001b[0m\u001b[0m\n",
            "\u001b[0;32m/usr/local/lib/python3.7/dist-packages/networkx/algorithms/community/centrality.py\u001b[0m in \u001b[0;36mmost_valuable_edge\u001b[0;34m(G)\u001b[0m\n\u001b[1;32m    136\u001b[0m             \u001b[0;31m# We have guaranteed that the graph is non-empty, so this\u001b[0m\u001b[0;34m\u001b[0m\u001b[0;34m\u001b[0m\u001b[0;34m\u001b[0m\u001b[0m\n\u001b[1;32m    137\u001b[0m             \u001b[0;31m# dictionary will never be empty.\u001b[0m\u001b[0;34m\u001b[0m\u001b[0;34m\u001b[0m\u001b[0;34m\u001b[0m\u001b[0m\n\u001b[0;32m--> 138\u001b[0;31m             \u001b[0mbetweenness\u001b[0m \u001b[0;34m=\u001b[0m \u001b[0mnx\u001b[0m\u001b[0;34m.\u001b[0m\u001b[0medge_betweenness_centrality\u001b[0m\u001b[0;34m(\u001b[0m\u001b[0mG\u001b[0m\u001b[0;34m)\u001b[0m\u001b[0;34m\u001b[0m\u001b[0;34m\u001b[0m\u001b[0m\n\u001b[0m\u001b[1;32m    139\u001b[0m             \u001b[0;32mreturn\u001b[0m \u001b[0mmax\u001b[0m\u001b[0;34m(\u001b[0m\u001b[0mbetweenness\u001b[0m\u001b[0;34m,\u001b[0m \u001b[0mkey\u001b[0m\u001b[0;34m=\u001b[0m\u001b[0mbetweenness\u001b[0m\u001b[0;34m.\u001b[0m\u001b[0mget\u001b[0m\u001b[0;34m)\u001b[0m\u001b[0;34m\u001b[0m\u001b[0;34m\u001b[0m\u001b[0m\n\u001b[1;32m    140\u001b[0m \u001b[0;34m\u001b[0m\u001b[0m\n",
            "\u001b[0;32m/usr/local/lib/python3.7/dist-packages/networkx/utils/decorators.py\u001b[0m in \u001b[0;36margmap_edge_betweenness_centrality_9\u001b[0;34m(G, k, normalized, weight, seed)\u001b[0m\n\u001b[1;32m      2\u001b[0m \u001b[0;32mfrom\u001b[0m \u001b[0mos\u001b[0m\u001b[0;34m.\u001b[0m\u001b[0mpath\u001b[0m \u001b[0;32mimport\u001b[0m \u001b[0msplitext\u001b[0m\u001b[0;34m\u001b[0m\u001b[0;34m\u001b[0m\u001b[0m\n\u001b[1;32m      3\u001b[0m \u001b[0;32mfrom\u001b[0m \u001b[0mcontextlib\u001b[0m \u001b[0;32mimport\u001b[0m \u001b[0mcontextmanager\u001b[0m\u001b[0;34m\u001b[0m\u001b[0;34m\u001b[0m\u001b[0m\n\u001b[0;32m----> 4\u001b[0;31m \u001b[0;32mfrom\u001b[0m \u001b[0mpathlib\u001b[0m \u001b[0;32mimport\u001b[0m \u001b[0mPath\u001b[0m\u001b[0;34m\u001b[0m\u001b[0;34m\u001b[0m\u001b[0m\n\u001b[0m\u001b[1;32m      5\u001b[0m \u001b[0;32mimport\u001b[0m \u001b[0mwarnings\u001b[0m\u001b[0;34m\u001b[0m\u001b[0;34m\u001b[0m\u001b[0m\n\u001b[1;32m      6\u001b[0m \u001b[0;34m\u001b[0m\u001b[0m\n",
            "\u001b[0;32m/usr/local/lib/python3.7/dist-packages/networkx/algorithms/centrality/betweenness.py\u001b[0m in \u001b[0;36medge_betweenness_centrality\u001b[0;34m(G, k, normalized, weight, seed)\u001b[0m\n\u001b[1;32m    226\u001b[0m         \u001b[0;31m# single source shortest paths\u001b[0m\u001b[0;34m\u001b[0m\u001b[0;34m\u001b[0m\u001b[0;34m\u001b[0m\u001b[0m\n\u001b[1;32m    227\u001b[0m         \u001b[0;32mif\u001b[0m \u001b[0mweight\u001b[0m \u001b[0;32mis\u001b[0m \u001b[0;32mNone\u001b[0m\u001b[0;34m:\u001b[0m  \u001b[0;31m# use BFS\u001b[0m\u001b[0;34m\u001b[0m\u001b[0;34m\u001b[0m\u001b[0m\n\u001b[0;32m--> 228\u001b[0;31m             \u001b[0mS\u001b[0m\u001b[0;34m,\u001b[0m \u001b[0mP\u001b[0m\u001b[0;34m,\u001b[0m \u001b[0msigma\u001b[0m\u001b[0;34m,\u001b[0m \u001b[0m_\u001b[0m \u001b[0;34m=\u001b[0m \u001b[0m_single_source_shortest_path_basic\u001b[0m\u001b[0;34m(\u001b[0m\u001b[0mG\u001b[0m\u001b[0;34m,\u001b[0m \u001b[0ms\u001b[0m\u001b[0;34m)\u001b[0m\u001b[0;34m\u001b[0m\u001b[0;34m\u001b[0m\u001b[0m\n\u001b[0m\u001b[1;32m    229\u001b[0m         \u001b[0;32melse\u001b[0m\u001b[0;34m:\u001b[0m  \u001b[0;31m# use Dijkstra's algorithm\u001b[0m\u001b[0;34m\u001b[0m\u001b[0;34m\u001b[0m\u001b[0m\n\u001b[1;32m    230\u001b[0m             \u001b[0mS\u001b[0m\u001b[0;34m,\u001b[0m \u001b[0mP\u001b[0m\u001b[0;34m,\u001b[0m \u001b[0msigma\u001b[0m\u001b[0;34m,\u001b[0m \u001b[0m_\u001b[0m \u001b[0;34m=\u001b[0m \u001b[0m_single_source_dijkstra_path_basic\u001b[0m\u001b[0;34m(\u001b[0m\u001b[0mG\u001b[0m\u001b[0;34m,\u001b[0m \u001b[0ms\u001b[0m\u001b[0;34m,\u001b[0m \u001b[0mweight\u001b[0m\u001b[0;34m)\u001b[0m\u001b[0;34m\u001b[0m\u001b[0;34m\u001b[0m\u001b[0m\n",
            "\u001b[0;32m/usr/local/lib/python3.7/dist-packages/networkx/algorithms/centrality/betweenness.py\u001b[0m in \u001b[0;36m_single_source_shortest_path_basic\u001b[0;34m(G, s)\u001b[0m\n\u001b[1;32m    271\u001b[0m                 \u001b[0mD\u001b[0m\u001b[0;34m[\u001b[0m\u001b[0mw\u001b[0m\u001b[0;34m]\u001b[0m \u001b[0;34m=\u001b[0m \u001b[0mDv\u001b[0m \u001b[0;34m+\u001b[0m \u001b[0;36m1\u001b[0m\u001b[0;34m\u001b[0m\u001b[0;34m\u001b[0m\u001b[0m\n\u001b[1;32m    272\u001b[0m             \u001b[0;32mif\u001b[0m \u001b[0mD\u001b[0m\u001b[0;34m[\u001b[0m\u001b[0mw\u001b[0m\u001b[0;34m]\u001b[0m \u001b[0;34m==\u001b[0m \u001b[0mDv\u001b[0m \u001b[0;34m+\u001b[0m \u001b[0;36m1\u001b[0m\u001b[0;34m:\u001b[0m  \u001b[0;31m# this is a shortest path, count paths\u001b[0m\u001b[0;34m\u001b[0m\u001b[0;34m\u001b[0m\u001b[0m\n\u001b[0;32m--> 273\u001b[0;31m                 \u001b[0msigma\u001b[0m\u001b[0;34m[\u001b[0m\u001b[0mw\u001b[0m\u001b[0;34m]\u001b[0m \u001b[0;34m+=\u001b[0m \u001b[0msigmav\u001b[0m\u001b[0;34m\u001b[0m\u001b[0;34m\u001b[0m\u001b[0m\n\u001b[0m\u001b[1;32m    274\u001b[0m                 \u001b[0mP\u001b[0m\u001b[0;34m[\u001b[0m\u001b[0mw\u001b[0m\u001b[0;34m]\u001b[0m\u001b[0;34m.\u001b[0m\u001b[0mappend\u001b[0m\u001b[0;34m(\u001b[0m\u001b[0mv\u001b[0m\u001b[0;34m)\u001b[0m  \u001b[0;31m# predecessors\u001b[0m\u001b[0;34m\u001b[0m\u001b[0;34m\u001b[0m\u001b[0m\n\u001b[1;32m    275\u001b[0m     \u001b[0;32mreturn\u001b[0m \u001b[0mS\u001b[0m\u001b[0;34m,\u001b[0m \u001b[0mP\u001b[0m\u001b[0;34m,\u001b[0m \u001b[0msigma\u001b[0m\u001b[0;34m,\u001b[0m \u001b[0mD\u001b[0m\u001b[0;34m\u001b[0m\u001b[0;34m\u001b[0m\u001b[0m\n",
            "\u001b[0;31mKeyboardInterrupt\u001b[0m: "
          ]
        }
      ]
    },
    {
      "cell_type": "code",
      "source": [
        "# VERY HEAVY COMPUTATION\n",
        "def most_central_edge(G):\n",
        "  centrality = betweenness(G, weight=\"weight\")\n",
        "  return max(centrality, key=centrality.get)\n",
        "\n",
        "community_gn_centrality = community.girvan_newman(G, most_valuable_edge=most_central_edge)\n",
        "tuple(print(sorted(c)) for c in next(community_gn_centrality))"
      ],
      "metadata": {
        "id": "KDEyXWufIJy3"
      },
      "execution_count": null,
      "outputs": []
    },
    {
      "cell_type": "code",
      "source": [
        "def heaviest(G):\n",
        "  u, v, w = max(G.edges(data=\"weight\"), key=itemgetter(2))\n",
        "  return (u, v)\n",
        "\n",
        "community_gn_heaviest = community.girvan_newman(G, most_valuable_edge=heaviest)\n",
        "tuple(print(sorted(c)) for c in next(community_gn_heaviest))"
      ],
      "metadata": {
        "id": "h6Z3tynfN1xo",
        "colab": {
          "base_uri": "https://localhost:8080/"
        },
        "outputId": "c14d2d88-d84a-4e17-8950-70c15c03fe8e"
      },
      "execution_count": 8,
      "outputs": [
        {
          "output_type": "stream",
          "name": "stdout",
          "text": [
            "['accord', 'across', 'add', 'administer', 'administration', 'adult', 'adviser', 'affect', 'africa', 'age', 'agency', 'ahead', 'aid', 'air', 'allow', 'almost', 'already', 'also', 'america', 'amid', 'among', 'analysis', 'announce', 'another', 'antibody', 'appear', 'approve', 'area', 'around', 'arrive', 'asian', 'ask', 'australia', 'authority', 'avoid', 'back', 'bad', 'ban', 'bank', 'base', 'batch', 'battle', 'become', 'begin', 'behind', 'beijing', 'benefit', 'big', 'bill', 'billion', 'blood', 'boost', 'brazil', 'break', 'breaking', 'bring', 'british', 'build', 'business', 'california', 'call', 'campaign', 'canada', 'cancel', 'candidate', 'capital', 'care', 'case', 'catch', 'cause', 'center', 'central', 'challenge', 'change', 'chief', 'child', 'china', 'citizen', 'city', 'claim', 'clinical', 'close', 'clot', 'combat', 'come', 'commission', 'committee', 'community', 'company', 'concern', 'condition', 'confidence', 'confirm', 'confirmed', 'contact', 'contain', 'continue', 'contract', 'control', 'coronavirus', 'could', 'country', 'court', 'covid', 'crisis', 'critical', 'cruise', 'curb', 'daily', 'data', 'day', 'deadly', 'deal', 'death', 'debate', 'declare', 'decline', 'delay', 'deliver', 'demand', 'democratic', 'department', 'despite', 'develop', 'development', 'diagnose', 'diagnosis', 'die', 'director', 'discharge', 'disease', 'doctor', 'donate', 'dos', 'dose', 'drive', 'drop', 'drug', 'due', 'early', 'ease', 'economic', 'economy', 'effect', 'effective', 'effort', 'election', 'emergency', 'employee', 'end', 'epicenter', 'epidemic', 'evacuate', 'even', 'event', 'exclusive', 'expect', 'experience', 'experimental', 'expert', 'export', 'express', 'extend', 'face', 'facility', 'fall', 'family', 'far', 'fauci', 'fear', 'federal', 'fight', 'financial', 'find', 'first', 'five', 'flight', 'flu', 'follow', 'food', 'force', 'foreign', 'former', 'four', 'france', 'free', 'french', 'full', 'fund', 'game', 'general', 'germany', 'get', 'give', 'global', 'good', 'government', 'governor', 'great', 'group', 'grow', 'growth', 'half', 'hand', 'hard', 'head', 'health', 'help', 'high', 'hit', 'hold', 'holiday', 'home', 'hong', 'hope', 'hospital', 'hour', 'house', 'hubei', 'human', 'hundred', 'illness', 'impact', 'include', 'increase', 'india', 'industry', 'infect', 'infection', 'infectious', 'institute', 'international', 'issue', 'italy', 'japan', 'job', 'joe', 'johnson', 'join', 'keep', 'kill', 'know', 'korea', 'lady', 'large', 'last', 'late', 'launch', 'lead', 'leader', 'least', 'leave', 'less', 'level', 'life', 'like', 'likely', 'limit', 'line', 'link', 'live', 'local', 'long', 'look', 'lose', 'loss', 'low', 'major', 'make', 'maker', 'man', 'many', 'march', 'mark', 'market', 'mask', 'may', 'measure', 'medical', 'medicine', 'medium', 'meet', 'member', 'mike', 'military', 'million', 'minister', 'ministry', 'month', 'move', 'much', 'nation', 'national', 'nearly', 'need', 'negative', 'new', 'news', 'next', 'night', 'nominee', 'north', 'novel', 'number', 'offer', 'office', 'official', 'old', 'one', 'open', 'order', 'organization', 'outbreak', 'outside', 'pandemic', 'part', 'party', 'pass', 'passenger', 'past', 'patient', 'pause', 'penny', 'people', 'person', 'place', 'plan', 'pneumonia', 'poll', 'population', 'positive', 'possible', 'post', 'potential', 'president', 'presidential', 'press', 'prevent', 'prevention', 'prime', 'problem', 'produce', 'production', 'protect', 'provide', 'province', 'public', 'push', 'put', 'quarantine', 'question', 'race', 'raise', 'rally', 'rare', 'rate', 'reach', 'read', 'receive', 'recent', 'record', 'recover', 'recovery', 'region', 'regulator', 'release', 'relief', 'remain', 'reopen', 'report', 'republican', 'research', 'researcher', 'resident', 'response', 'restaurant', 'restriction', 'result', 'return', 'right', 'rise', 'risk', 'rule', 'russia', 'safe', 'safety', 'sale', 'say', 'school', 'scientist', 'second', 'secretary', 'see', 'seek', 'send', 'senior', 'service', 'set', 'seven', 'several', 'severe', 'share', 'ship', 'shot', 'show', 'shut', 'side', 'sign', 'since', 'single', 'six', 'slow', 'small', 'social', 'soon', 'source', 'south', 'special', 'spike', 'spread', 'staff', 'stage', 'stand', 'start', 'state', 'statement', 'stay', 'step', 'still', 'stock', 'stop', 'story', 'street', 'strong', 'struggle', 'student', 'study', 'supply', 'support', 'surge', 'surpass', 'suspend', 'symptom', 'system', 'take', 'talk', 'team', 'tell', 'term', 'test', 'think', 'third', 'thousand', 'three', 'time', 'today', 'toll', 'top', 'total', 'track', 'transmission', 'travel', 'treat', 'treatment', 'trial', 'trump', 'try', 'turn', 'two', 'united', 'university', 'update', 'urge', 'use', 'vaccinate', 'vaccination', 'vaccine', 'variant', 'vice', 'video', 'virus', 'visit', 'volunteer', 'vote', 'want', 'war', 'warn', 'watch', 'wave', 'way', 'wear', 'week', 'well', 'whether', 'white', 'win', 'within', 'without', 'woman', 'work', 'worker', 'world', 'worry', 'would', 'year', 'yet', 'york', 'young']\n",
            "['season']\n"
          ]
        },
        {
          "output_type": "execute_result",
          "data": {
            "text/plain": [
              "(None, None)"
            ]
          },
          "metadata": {},
          "execution_count": 8
        }
      ]
    },
    {
      "cell_type": "markdown",
      "source": [
        "### Bipartition\n",
        "Partition a graph into two blocks using the Kernighan–Lin algorithm."
      ],
      "metadata": {
        "id": "4Cf7GVQOpRqn"
      }
    },
    {
      "cell_type": "code",
      "source": [
        "community_bipart = community.kernighan_lin_bisection(G,weight='weight')"
      ],
      "metadata": {
        "id": "VQaI3Lw9YV0a"
      },
      "execution_count": null,
      "outputs": []
    },
    {
      "cell_type": "code",
      "source": [
        "print(community_bipart[0])\n",
        "print(community_bipart[1])"
      ],
      "metadata": {
        "colab": {
          "base_uri": "https://localhost:8080/"
        },
        "id": "SIkZiLNbEgCM",
        "outputId": "9e643536-f354-4ba6-d1b6-c38f7778a12c"
      },
      "execution_count": null,
      "outputs": [
        {
          "output_type": "stream",
          "name": "stdout",
          "text": [
            "{'medium', 'crisis', 'read', 'major', 'human', 'evacuate', 'agency', 'korea', 'ban', 'mike', 'suspend', 'drop', 'urge', 'post', 'free', 'ahead', 'seek', 'research', 'within', 'secretary', 'without', 'push', 'visit', 'committee', 'track', 'industry', 'italy', 'challenge', 'special', 'batch', 'right', 'mark', 'california', 'move', 'already', 'group', 'breaking', 'life', 'critical', 'hard', 'growth', 'catch', 'try', 'delay', 'billion', 'school', 'street', 'force', 'want', 'student', 'win', 'nominee', 'former', 'relief', 'several', 'combat', 'talk', 'small', 'pneumonia', 'democratic', 'affect', 'diagnosis', 'reopen', 'court', 'seven', 'bank', 'today', 'slow', 'confidence', 'order', 'link', 'adviser', 'worry', 'great', 'donate', 'benefit', 'likely', 'debate', 'stand', 'federal', 'governor', 'boost', 'diagnose', 'potential', 'avoid', 'yet', 'build', 'turn', 'issue', 'decline', 'almost', 'penny', 'condition', 'scientist', 'break', 'war', 'express', 'base', 'employee', 'young', 'north', 'share', 'change', 'joe', 'look', 'less', 'wear', 'past', 'french', 'holiday', 'rally', 'vote', 'demand', 'place', 'think', 'stop', 'open', 'impact', 'presidential', 'launch', 'problem', 'medicine', 'statement', 'development', 'shut', 'office', 'deliver', 'full', 'financial', 'much', 'party', 'video', 'family', 'hundred', 'institute', 'rule', 'beijing', 'hope', 'food', 'arrive', 'event', 'join', 'senior', 'limit', 'put', 'provide', 'infectious', 'release', 'lose', 'social', 'british', 'stock', 'fund', 'allow', 'person', 'maker', 'america', 'ease', 'raise', 'canada', 'protect', 'soon', 'military', 'facility', 'asian', 'ask', 'like', 'struggle', 'hand', 'department', 'watch', 'poll', 'general', 'head', 'add', 'step', 'man', 'night', 'good', 'woman', 'press', 'line', 'claim', 'march', 'deal', 'flu', 'recent', 'regulator', 'researcher', 'export', 'aid', 'community', 'transmission', 'term', 'contact', 'service', 'cancel', 'capital', 'sign', 'vice', 'game', 'market', 'keep', 'experience', 'send', 'experimental', 'loss', 'race', 'question', 'produce', 'restaurant', 'whether', 'germany', 'economic', 'side', 'foreign', 'citizen', 'behind', 'severe', 'stay', 'production', 'possible', 'strong', 'drive', 'area', 'stage', 'effect', 'half', 'thousand', 'member', 'grow', 'meet', 'despite', 'exclusive', 'system', 'deadly', 'air', 'appear', 'business', 'population', 'four', 'pass', 'approve', 'sale', 'job', 'extend', 'declare', 'republican', 'season', 'source', 'bill', 'region', 'candidate', 'story'}\n",
            "{'child', 'number', 'medical', 'disease', 'nearly', 'fear', 'say', 'time', 'outside', 'test', 'mask', 'outbreak', 'johnson', 'toll', 'top', 'russia', 'receive', 'trial', 'third', 'surge', 'amid', 'rate', 'second', 'dos', 'increase', 'south', 'plan', 'fall', 'clot', 'restriction', 'news', 'high', 'travel', 'see', 'death', 'response', 'lead', 'quarantine', 'offer', 'six', 'contract', 'australia', 'big', 'warn', 'patient', 'novel', 'measure', 'contain', 'variant', 'well', 'government', 'prevention', 'university', 'concern', 'effort', 'find', 'could', 'hold', 'make', 'adult', 'epidemic', 'economy', 'around', 'china', 'give', 'low', 'province', 'include', 'record', 'infection', 'emergency', 'local', 'covid', 'blood', 'director', 'confirmed', 'official', 'case', 'since', 'end', 'authority', 'york', 'control', 'help', 'global', 'die', 'across', 'campaign', 'treat', 'way', 'call', 'prevent', 'team', 'curb', 'far', 'hospital', 'first', 'worker', 'late', 'world', 'recover', 'still', 'election', 'city', 'company', 'dose', 'drug', 'trump', 'leave', 'develop', 'house', 'support', 'come', 'old', 'hour', 'africa', 'confirm', 'report', 'week', 'treatment', 'analysis', 'france', 'leader', 'may', 'surpass', 'bring', 'need', 'announce', 'coronavirus', 'safe', 'get', 'would', 'vaccination', 'live', 'update', 'accord', 'international', 'vaccine', 'age', 'infect', 'national', 'expect', 'effective', 'start', 'million', 'even', 'close', 'long', 'care', 'hit', 'country', 'part', 'risk', 'continue', 'least', 'show', 'five', 'new', 'hubei', 'use', 'japan', 'lady', 'take', 'positive', 'also', 'become', 'face', 'return', 'month', 'white', 'among', 'study', 'prime', 'work', 'home', 'brazil', 'hong', 'another', 'state', 'clinical', 'volunteer', 'united', 'supply', 'pandemic', 'staff', 'symptom', 'data', 'negative', 'fight', 'flight', 'reach', 'many', 'last', 'cruise', 'remain', 'spike', 'spread', 'vaccinate', 'virus', 'two', 'battle', 'central', 'fauci', 'cause', 'due', 'single', 'center', 'back', 'large', 'public', 'president', 'early', 'level', 'wave', 'kill', 'resident', 'rare', 'passenger', 'bad', 'result', 'recovery', 'year', 'nation', 'ministry', 'chief', 'india', 'know', 'organization', 'pause', 'set', 'epicenter', 'commission', 'daily', 'total', 'one', 'shot', 'administration', 'illness', 'day', 'next', 'discharge', 'begin', 'tell', 'health', 'antibody', 'minister', 'people', 'ship', 'safety', 'doctor', 'expert', 'three', 'administer', 'rise', 'follow'}\n"
          ]
        }
      ]
    },
    {
      "cell_type": "code",
      "source": [
        "threshold = 0.00001\n",
        "sum_China_0, sum_USA_0, sum_China_USA_0 = community_check(community_bipart[0], freq_dict_China, freq_dict_USA, G_China, G_USA, threshold)\n",
        "sum_China_1, sum_USA_1, sum_China_USA_1 = community_check(community_bipart[1], freq_dict_China, freq_dict_USA, G_China, G_USA, threshold)"
      ],
      "metadata": {
        "id": "7wPUW6s2kih_"
      },
      "execution_count": null,
      "outputs": []
    },
    {
      "cell_type": "code",
      "source": [
        "print('First community:')\n",
        "print('China: ', round(100 * sum_China_0 / len(community_bipart[0])),'%')\n",
        "print('USA: ', round(100 * sum_USA_0 / len(community_bipart[0])),'%')\n",
        "print('China&USA: ', round(100 * sum_China_USA_0 / len(community_bipart[0])),'%')\n",
        "print()\n",
        "print('China: ', round(100 * sum_China_1 / len(community_bipart[1])),'%')\n",
        "print('USA: ', round(100 * sum_USA_1 / len(community_bipart[1])),'%')\n",
        "print('China&USA: ', round(100 * sum_China_USA_1 / len(community_bipart[1])),'%')"
      ],
      "metadata": {
        "colab": {
          "base_uri": "https://localhost:8080/"
        },
        "id": "3F0w8OFxri-C",
        "outputId": "17f48956-41d8-4613-f3f7-bec506b0376d"
      },
      "execution_count": null,
      "outputs": [
        {
          "output_type": "stream",
          "name": "stdout",
          "text": [
            "First community:\n",
            "China:  28 %\n",
            "USA:  63 %\n",
            "China&USA:  10 %\n",
            "\n",
            "China:  39 %\n",
            "USA:  53 %\n",
            "China&USA:  7 %\n"
          ]
        }
      ]
    },
    {
      "cell_type": "markdown",
      "source": [
        "### Modularity-based communities\n",
        "Find communities in G using greedy modularity maximization."
      ],
      "metadata": {
        "id": "vb70Nj1kKIYb"
      }
    },
    {
      "cell_type": "code",
      "source": [
        "community_mod = community.greedy_modularity_communities(G, n_communities=2, weight='weight')\n",
        "# communities_naive_mod = community.naive_greedy_modularity_communities(G)"
      ],
      "metadata": {
        "id": "cEm-2UTOKSeB"
      },
      "execution_count": null,
      "outputs": []
    },
    {
      "cell_type": "code",
      "source": [
        "community_mod_list = []\n",
        "for comm in community_mod:\n",
        " print(list(comm))\n",
        " community_mod_list.append(list(comm))"
      ],
      "metadata": {
        "colab": {
          "base_uri": "https://localhost:8080/"
        },
        "id": "H6rDQKcjKwG4",
        "outputId": "724e2d17-ad84-4e34-aa11-5f780e3c8418"
      },
      "execution_count": null,
      "outputs": [
        {
          "output_type": "stream",
          "name": "stdout",
          "text": [
            "['medium', 'crisis', 'medical', 'disease', 'read', 'fear', 'human', 'major', 'ban', 'evacuate', 'outside', 'suspend', 'outbreak', 'visit', 'amid', 'industry', 'challenge', 'special', 'already', 'life', 'critical', 'travel', 'growth', 'catch', 'try', 'billion', 'street', 'force', 'win', 'big', 'patient', 'measure', 'novel', 'combat', 'contain', 'pneumonia', 'affect', 'government', 'bank', 'prevention', 'confidence', 'order', 'effort', 'great', 'economy', 'epidemic', 'around', 'china', 'stand', 'avoid', 'build', 'control', 'help', 'global', 'almost', 'die', 'break', 'war', 'treat', 'express', 'employee', 'call', 'prevent', 'curb', 'hospital', 'change', 'worker', 'late', 'look', 'world', 'recover', 'city', 'holiday', 'demand', 'place', 'stop', 'leave', 'support', 'old', 'treatment', 'impact', 'shut', 'development', 'coronavirus', 'full', 'financial', 'much', 'family', 'video', 'live', 'update', 'hundred', 'beijing', 'join', 'international', 'lead', 'infect', 'care', 'close', 'social', 'stock', 'continue', 'least', 'allow', 'fund', 'raise', 'asian', 'japan', 'like', 'take', 'become', 'face', 'hand', 'department', 'watch', 'step', 'man', 'line', 'hong', 'home', 'work', 'transmission', 'community', 'pandemic', 'service', 'cancel', 'market', 'flight', 'keep', 'fight', 'send', 'many', 'loss', 'cruise', 'spread', 'restaurant', 'virus', 'economic', 'central', 'battle', 'cause', 'foreign', 'citizen', 'center', 'large', 'stay', 'production', 'resident', 'kill', 'passenger', 'thousand', 'year', 'despite', 'grow', 'organization', 'epicenter', 'air', 'deadly', 'business', 'sale', 'declare', 'people', 'ship', 'story']\n",
            "['child', 'agency', 'urge', 'post', 'johnson', 'free', 'russia', 'seek', 'research', 'receive', 'trial', 'third', 'committee', 'track', 'right', 'batch', 'california', 'second', 'move', 'news', 'dos', 'group', 'plan', 'clot', 'delay', 'school', 'response', 'offer', 'six', 'student', 'want', 'variant', 'reopen', 'university', 'link', 'concern', 'worry', 'find', 'make', 'adult', 'donate', 'likely', 'benefit', 'give', 'emergency', 'federal', 'covid', 'blood', 'boost', 'potential', 'yet', 'end', 'scientist', 'way', 'base', 'young', 'share', 'company', 'dose', 'drug', 'develop', 'launch', 'problem', 'medicine', 'may', 'deliver', 'need', 'safe', 'get', 'vaccination', 'party', 'institute', 'rule', 'arrive', 'food', 'effective', 'start', 'even', 'vaccine', 'limit', 'age', 'expect', 'provide', 'million', 'long', 'british', 'part', 'risk', 'show', 'maker', 'america', 'protect', 'canada', 'soon', 'use', 'facility', 'struggle', 'head', 'among', 'study', 'prime', 'woman', 'march', 'flu', 'deal', 'regulator', 'researcher', 'export', 'clinical', 'volunteer', 'term', 'supply', 'data', 'capital', 'sign', 'experimental', 'race', 'question', 'produce', 'vaccinate', 'side', 'due', 'behind', 'severe', 'early', 'possible', 'drive', 'wave', 'strong', 'stage', 'rare', 'half', 'effect', 'result', 'meet', 'exclusive', 'know', 'system', 'pause', 'appear', 'shot', 'illness', 'population', 'approve', 'antibody', 'extend', 'minister', 'season', 'safety', 'candidate', 'administer', 'follow']\n",
            "['would', 'say', 'test', 'mike', 'mask', 'hope', 'event', 'senior', 'put', 'top', 'ahead', 'lose', 'infectious', 'release', 'within', 'push', 'secretary', 'without', 'person', 'military', 'mark', 'ask', 'lady', 'also', 'positive', 'breaking', 'poll', 'general', 'return', 'white', 'add', 'night', 'good', 'claim', 'press', 'quarantine', 'nominee', 'contract', 'several', 'former', 'relief', 'aid', 'talk', 'small', 'well', 'staff', 'contact', 'democratic', 'diagnosis', 'court', 'symptom', 'today', 'adviser', 'vice', 'game', 'negative', 'could', 'experience', 'hold', 'remain', 'whether', 'debate', 'director', 'fauci', 'diagnose', 'official', 'back', 'turn', 'issue', 'public', 'president', 'penny', 'condition', 'campaign', 'team', 'first', 'recovery', 'member', 'election', 'joe', 'less', 'still', 'wear', 'chief', 'rally', 'vote', 'think', 'trump', 'come', 'administration', 'house', 'next', 'tell', 'job', 'week', 'analysis', 'presidential', 'republican', 'statement', 'bill', 'leader', 'office', 'doctor', 'source', 'announce']\n",
            "['number', 'nearly', 'time', 'accord', 'drop', 'national', 'toll', 'country', 'hit', 'five', 'surge', 'new', 'italy', 'hubei', 'ease', 'rate', 'increase', 'fall', 'restriction', 'hard', 'month', 'high', 'see', 'death', 'brazil', 'another', 'australia', 'warn', 'recent', 'state', 'united', 'seven', 'slow', 'reach', 'province', 'low', 'last', 'spike', 'include', 'record', 'infection', 'germany', 'local', 'two', 'governor', 'confirmed', 'case', 'single', 'authority', 'since', 'york', 'decline', 'across', 'level', 'area', 'far', 'bad', 'past', 'nation', 'ministry', 'french', 'india', 'set', 'daily', 'commission', 'one', 'total', 'day', 'four', 'open', 'hour', 'discharge', 'begin', 'pass', 'confirm', 'report', 'health', 'region', 'france', 'expert', 'surpass', 'three', 'bring', 'rise']\n",
            "['korea', 'north', 'south', 'africa']\n"
          ]
        }
      ]
    },
    {
      "cell_type": "code",
      "source": [
        "threshold = 0.00001\n",
        "for i in range(len(community_mod_list)):\n",
        "  sum_China, sum_USA, sum_China_USA = community_check(community_mod_list[i], freq_dict_China, freq_dict_USA, G_China, G_USA, threshold)\n",
        "  print('Community: ', i)\n",
        "  print('China: ', round(100 * sum_China / len(community_mod_list[i])),'%')\n",
        "  print('USA: ', round(100 * sum_USA / len(community_mod_list[i])),'%')\n",
        "  print('China&USA: ', round(100 * sum_China_USA / len(community_mod_list[i])),'%')\n",
        "  print()"
      ],
      "metadata": {
        "colab": {
          "base_uri": "https://localhost:8080/"
        },
        "id": "FQznkOANPScS",
        "outputId": "5a31da88-e684-4149-e34c-21b07e8b3026"
      },
      "execution_count": null,
      "outputs": [
        {
          "output_type": "stream",
          "name": "stdout",
          "text": [
            "Community:  0\n",
            "China:  44 %\n",
            "USA:  48 %\n",
            "China&USA:  9 %\n",
            "\n",
            "Community:  1\n",
            "China:  22 %\n",
            "USA:  68 %\n",
            "China&USA:  11 %\n",
            "\n",
            "Community:  2\n",
            "China:  23 %\n",
            "USA:  70 %\n",
            "China&USA:  7 %\n",
            "\n",
            "Community:  3\n",
            "China:  46 %\n",
            "USA:  46 %\n",
            "China&USA:  7 %\n",
            "\n",
            "Community:  4\n",
            "China:  50 %\n",
            "USA:  25 %\n",
            "China&USA:  25 %\n",
            "\n"
          ]
        }
      ]
    },
    {
      "cell_type": "markdown",
      "source": [
        "### Louvain Community Detection\n",
        "Find the best partition of a graph using the Louvain Community Detection Algorithm."
      ],
      "metadata": {
        "id": "9OCXZZs0Lyet"
      }
    },
    {
      "cell_type": "code",
      "source": [
        "# communities_louvain = community.louvain.louvain_communities(G)\n",
        "# partitions_louvain = community.louvain.louvain_partitions(G)\n",
        "\n",
        "community_louv = community_louvain.best_partition(G,weight='weight')\n",
        "\n",
        "# modularity_louvain = community.modularity(communities_louvain, G) # ERROR: not a partition\n",
        "# print(\"The modularity Q based on networkx is {}\".format(modularity_louvain))"
      ],
      "metadata": {
        "id": "aLIzxRByL0h7"
      },
      "execution_count": null,
      "outputs": []
    },
    {
      "cell_type": "code",
      "source": [
        "max = np.max(list(community_louv.values()))\n",
        "community_louvain_list = []\n",
        "for i in range(max+1):\n",
        "  community_louvain_list.append([])\n",
        "for key in list(community_louv.keys()):\n",
        "  community_louvain_list[community_louv[key]].append(key)\n",
        "for i in range(max+1):\n",
        "  print(community_louvain_list[i])"
      ],
      "metadata": {
        "colab": {
          "base_uri": "https://localhost:8080/"
        },
        "id": "hccz7ZB3BwOW",
        "outputId": "54da04ec-f612-4cda-c04f-bb5532bd430a"
      },
      "execution_count": null,
      "outputs": [
        {
          "output_type": "stream",
          "name": "stdout",
          "text": [
            "['disease', 'prevention', 'control', 'south', 'center', 'korea', 'africa', 'north']\n",
            "['china', 'coronavirus', 'novel', 'outbreak', 'global', 'continue', 'people', 'world', 'virus', 'challenge', 'face', 'expert', 'human', 'pandemic', 'medium', 'watch', 'great', 'take', 'health', 'organization', 'lead', 'international', 'cruise', 'ship', 'japan', 'live', 'worker', 'nation', 'line', 'central', 'epicenter', 'late', 'support', 'help', 'fight', 'express', 'contain', 'epidemic', 'try', 'effort', 'send', 'amid', 'foreign', 'mask', 'almost', 'work', 'service', 'industry', 'combat', 'business', 'issue', 'transmission', 'update', 'around', 'raise', 'development', 'die', 'measure', 'home', 'city', 'fund', 'battle', 'billion', 'win', 'due', 'big', 'beijing', 'pneumonia', 'economy', 'many', 'stand', 'infect', 'family', 'spread', 'protect', 'already', 'production', 'join', 'year', 'old', 'also', 'bank', 'affect', 'growth', 'far', 'evacuate', 'call', 'despite', 'become', 'full', 'keep', 'citizen', 'concern', 'close', 'loss', 'stop', 'impact', 'government', 'group', 'hong', 'economic', 'public', 'emergency', 'major', 'cause', 'holiday', 'grow', 'general', 'curb', 'warn', 'stay', 'director', 'man', 'ban', 'flight', 'suspend', 'confidence', 'travel', 'social', 'crisis', 'large', 'least', 'employee', 'special', 'read', 'place', 'resident', 'story', 'department', 'deadly', 'declare', 'order', 'war', 'demand', 'area', 'cancel', 'visit', 'sale', 'life', 'passenger', 'market', 'extend', 'hand', 'step', 'community', 'asian', 'hundred', 'kill', 'force', 'thousand', 'air', 'fear', 'stock', 'avoid', 'recent', 'street', 'shut', 'wear', 'turn', 'lose', 'school', 'america', 'job', 'restaurant', 'catch', 'struggle', 'yet', 'financial']\n",
            "['talk', 'president', 'trump', 'relief', 'house', 'aid', 'secretary', 'medical', 'first', 'test', 'positive', 'person', 'announce', 'team', 'office', 'hospital', 'chief', 'critical', 'condition', 'official', 'hold', 'week', 'treatment', 'leave', 'come', 'patient', 'diagnose', 'leader', 'discharge', 'press', 'put', 'former', 'recover', 'doctor', 'symptom', 'top', 'recovery', 'video', 'follow', 'build', 'tell', 'vice', 'good', 'return', 'facility', 'news', 'quarantine', 'staff', 'military', 'treat', 'release', 'remain', 'senior', 'statement', 'analysis', 'claim', 'administration', 'campaign', 'white', 'care', 'election', 'contact', 'negative', 'hope', 'contract', 'several', 'mark', 'without', 'diagnosis', 'lady', 'presidential', 'rally', 'debate', 'event', 'vote', 'night', 'mike', 'adviser', 'penny', 'joe', 'court', 'nominee', 'republican', 'well', 'democratic', 'breaking', 'member', 'ahead', 'game', 'bill', 'small']\n",
            "['reach', 'fall', 'case', 'million', 'death', 'accord', 'new', 'state', 'united', 'hard', 'outside', 'confirm', 'country', 'across', 'since', 'hubei', 'province', 'local', 'nearly', 'number', 'drop', 'day', 'include', 'australia', 'daily', 'total', 'begin', 'one', 'national', 'commission', 'high', 'three', 'increase', 'authority', 'slow', 'confirmed', 'see', 'report', 'toll', 'another', 'infection', 'bring', 'ministry', 'rate', 'last', 'month', 'two', 'time', 'rise', 'set', 'low', 'single', 'hour', 'restriction', 'region', 'past', 'five', 'level', 'hit', 'germany', 'brazil', 'pass', 'record', 'ease', 'york', 'india', 'surge', 'france', 'surpass', 'italy', 'governor', 'four', 'spike', 'seven', 'decline', 'bad']\n",
            "['deal', 'say', 'covid', 'vaccine', 'university', 'student', 'data', 'among', 'head', 'show', 'trial', 'make', 'vaccinate', 'track', 'infectious', 'half', 'arrive', 'third', 'risk', 'drug', 'medicine', 'supply', 'give', 'research', 'share', 'allow', 'offer', 'system', 'minister', 'donate', 'back', 'get', 'plan', 'possible', 'woman', 'deliver', 'use', 'start', 'end', 'food', 'meet', 'second', 'part', 'find', 'may', 'exclusive', 'behind', 'sign', 'post', 'response', 'much', 'company', 'soon', 'clinical', 'prime', 'scientist', 'need', 'safe', 'ask', 'long', 'could', 'receive', 'flu', 'change', 'russia', 'volunteer', 'strong', 'look', 'early', 'capital', 'develop', 'british', 'urge', 'provide', 'break', 'would', 'prevent', 'still', 'way', 'base', 'add', 'produce', 'know', 'study', 'child', 'effective', 'party', 'launch', 'appear', 'race', 'within', 'source', 'experience', 'six', 'expect', 'term', 'like', 'march', 'stage', 'boost', 'result', 'side', 'drive', 'experimental', 'move', 'open', 'batch', 'approve', 'administer', 'likely', 'dos', 'candidate', 'dose', 'seek', 'vaccination', 'population', 'shot', 'push', 'illness', 'california', 'wave', 'export', 'potential', 'limit', 'age', 'young', 'free', 'today', 'effect', 'fauci', 'blood', 'even', 'clot', 'johnson', 'adult', 'rare', 'agency', 'link', 'regulator', 'safety', 'antibody', 'canada', 'pause', 'think', 'french', 'researcher', 'institute', 'next', 'season', 'want', 'less', 'reopen', 'severe', 'rule', 'problem', 'question', 'committee', 'delay', 'federal', 'worry', 'poll', 'variant', 'right', 'benefit', 'maker', 'whether']\n"
          ]
        }
      ]
    },
    {
      "cell_type": "code",
      "source": [
        "threshold = 0.00001\n",
        "for i in range(len(community_louvain_list)):\n",
        "  sum_China, sum_USA, sum_China_USA = community_check(community_louvain_list[i], freq_dict_China, freq_dict_USA, G_China, G_USA, threshold)\n",
        "  print('Community: ', i)\n",
        "  print('China: ', round(100 * sum_China / len(community_louvain_list[i])),'%')\n",
        "  print('USA: ', round(100 * sum_USA / len(community_louvain_list[i])),'%')\n",
        "  print('China&USA: ', round(100 * sum_China_USA / len(community_louvain_list[i])),'%')\n",
        "  print()"
      ],
      "metadata": {
        "colab": {
          "base_uri": "https://localhost:8080/"
        },
        "id": "_lgezV3ERSRf",
        "outputId": "b3b2ce49-cf39-4567-81ff-b684a909d6a7"
      },
      "execution_count": null,
      "outputs": [
        {
          "output_type": "stream",
          "name": "stdout",
          "text": [
            "Community:  0\n",
            "China:  75 %\n",
            "USA:  12 %\n",
            "China&USA:  12 %\n",
            "\n",
            "Community:  1\n",
            "China:  38 %\n",
            "USA:  52 %\n",
            "China&USA:  10 %\n",
            "\n",
            "Community:  2\n",
            "China:  33 %\n",
            "USA:  62 %\n",
            "China&USA:  5 %\n",
            "\n",
            "Community:  3\n",
            "China:  47 %\n",
            "USA:  46 %\n",
            "China&USA:  7 %\n",
            "\n",
            "Community:  4\n",
            "China:  20 %\n",
            "USA:  69 %\n",
            "China&USA:  10 %\n",
            "\n"
          ]
        }
      ]
    },
    {
      "cell_type": "markdown",
      "source": [
        "### Clique percolation"
      ],
      "metadata": {
        "id": "VdsasvlOlLX0"
      }
    },
    {
      "cell_type": "code",
      "source": [
        "cliques = nx.find_cliques(G)\n",
        "# in our case cliques correspond to tweets"
      ],
      "metadata": {
        "id": "dHolEGtDnb_U"
      },
      "execution_count": 9,
      "outputs": []
    },
    {
      "cell_type": "code",
      "source": [
        "k = 7\n",
        "community_clique = community.k_clique_communities(G, k, cliques)"
      ],
      "metadata": {
        "id": "mFdPu1EYlH-y"
      },
      "execution_count": 10,
      "outputs": []
    },
    {
      "cell_type": "code",
      "source": [
        "c = next(community_clique)"
      ],
      "metadata": {
        "id": "JQEB1uq1mVy0"
      },
      "execution_count": null,
      "outputs": []
    },
    {
      "cell_type": "markdown",
      "source": [
        "### Dendogram"
      ],
      "metadata": {
        "id": "wx0btxUosYhr"
      }
    },
    {
      "cell_type": "code",
      "source": [
        "from sknetwork.hierarchy import Paris\n",
        "paris = Paris()\n",
        "adjacency = adj_matrix(nodes, edges)\n",
        "dendrogram = paris.fit_transform(adjacency)"
      ],
      "metadata": {
        "colab": {
          "base_uri": "https://localhost:8080/"
        },
        "id": "_QjOOantsbXd",
        "outputId": "0044dde0-c9e0-4c1d-826f-d00a605bc518"
      },
      "execution_count": null,
      "outputs": [
        {
          "output_type": "stream",
          "name": "stdout",
          "text": [
            "A shape:  (509, 509)\n",
            "0/79\n",
            "1/79\n",
            "2/79\n",
            "3/79\n",
            "4/79\n",
            "5/79\n",
            "6/79\n",
            "7/79\n",
            "8/79\n"
          ]
        }
      ]
    },
    {
      "cell_type": "markdown",
      "source": [
        "### Lukes partitioning"
      ],
      "metadata": {
        "id": "Df9le0yRmz0m"
      }
    },
    {
      "cell_type": "code",
      "source": [
        "max_size = 100 \n",
        "community_lukes = community.lukes_partitioning(G, max_size, edge_weight='weight')"
      ],
      "metadata": {
        "id": "8Z0GCLkam4pf",
        "colab": {
          "base_uri": "https://localhost:8080/",
          "height": 322
        },
        "outputId": "8d1e6082-c432-471b-eeda-5a1e8f960f33"
      },
      "execution_count": 8,
      "outputs": [
        {
          "output_type": "error",
          "ename": "NotATree",
          "evalue": "ignored",
          "traceback": [
            "\u001b[0;31m---------------------------------------------------------------------------\u001b[0m",
            "\u001b[0;31mNotATree\u001b[0m                                  Traceback (most recent call last)",
            "\u001b[0;32m<ipython-input-8-d51094d53f28>\u001b[0m in \u001b[0;36m<module>\u001b[0;34m()\u001b[0m\n\u001b[1;32m      1\u001b[0m \u001b[0mmax_size\u001b[0m \u001b[0;34m=\u001b[0m \u001b[0;36m100\u001b[0m\u001b[0;34m\u001b[0m\u001b[0;34m\u001b[0m\u001b[0m\n\u001b[0;32m----> 2\u001b[0;31m \u001b[0mcommunity_lukes\u001b[0m \u001b[0;34m=\u001b[0m \u001b[0mcommunity\u001b[0m\u001b[0;34m.\u001b[0m\u001b[0mlukes_partitioning\u001b[0m\u001b[0;34m(\u001b[0m\u001b[0mG\u001b[0m\u001b[0;34m,\u001b[0m \u001b[0mmax_size\u001b[0m\u001b[0;34m,\u001b[0m \u001b[0medge_weight\u001b[0m\u001b[0;34m=\u001b[0m\u001b[0;34m'weight'\u001b[0m\u001b[0;34m)\u001b[0m\u001b[0;34m\u001b[0m\u001b[0;34m\u001b[0m\u001b[0m\n\u001b[0m",
            "\u001b[0;32m/usr/local/lib/python3.7/dist-packages/networkx/algorithms/community/lukes.py\u001b[0m in \u001b[0;36mlukes_partitioning\u001b[0;34m(G, max_size, node_weight, edge_weight)\u001b[0m\n\u001b[1;32m     74\u001b[0m     \u001b[0;31m# First sanity check and tree preparation\u001b[0m\u001b[0;34m\u001b[0m\u001b[0;34m\u001b[0m\u001b[0;34m\u001b[0m\u001b[0m\n\u001b[1;32m     75\u001b[0m     \u001b[0;32mif\u001b[0m \u001b[0;32mnot\u001b[0m \u001b[0mnx\u001b[0m\u001b[0;34m.\u001b[0m\u001b[0mis_tree\u001b[0m\u001b[0;34m(\u001b[0m\u001b[0mG\u001b[0m\u001b[0;34m)\u001b[0m\u001b[0;34m:\u001b[0m\u001b[0;34m\u001b[0m\u001b[0;34m\u001b[0m\u001b[0m\n\u001b[0;32m---> 76\u001b[0;31m         \u001b[0;32mraise\u001b[0m \u001b[0mnx\u001b[0m\u001b[0;34m.\u001b[0m\u001b[0mNotATree\u001b[0m\u001b[0;34m(\u001b[0m\u001b[0;34m\"lukes_partitioning works only on trees\"\u001b[0m\u001b[0;34m)\u001b[0m\u001b[0;34m\u001b[0m\u001b[0;34m\u001b[0m\u001b[0m\n\u001b[0m\u001b[1;32m     77\u001b[0m     \u001b[0;32melse\u001b[0m\u001b[0;34m:\u001b[0m\u001b[0;34m\u001b[0m\u001b[0;34m\u001b[0m\u001b[0m\n\u001b[1;32m     78\u001b[0m         \u001b[0;32mif\u001b[0m \u001b[0mnx\u001b[0m\u001b[0;34m.\u001b[0m\u001b[0mis_directed\u001b[0m\u001b[0;34m(\u001b[0m\u001b[0mG\u001b[0m\u001b[0;34m)\u001b[0m\u001b[0;34m:\u001b[0m\u001b[0;34m\u001b[0m\u001b[0;34m\u001b[0m\u001b[0m\n",
            "\u001b[0;31mNotATree\u001b[0m: lukes_partitioning works only on trees"
          ]
        }
      ]
    },
    {
      "cell_type": "markdown",
      "source": [
        "## JanFeb2020"
      ],
      "metadata": {
        "id": "MtEAInBNuFBo"
      }
    },
    {
      "cell_type": "code",
      "source": [
        "period = '_JanFeb2020'\n",
        "China = pd.read_csv('/content/China'+period+'.csv')\n",
        "USA = pd.read_csv('/content/USA'+period+'.csv')\n",
        "\n",
        "edges = pd.read_csv('/content/edgelist_China_USA'+period+'.csv')\n",
        "edges_China = pd.read_csv('/content/edgelist_China'+period+'.csv')\n",
        "edges_USA = pd.read_csv('/content/edgelist_USA'+period+'.csv')\n",
        "\n",
        "text_China = extract_text(China)\n",
        "text_USA = extract_text(USA)\n",
        "\n",
        "freq_dict_China = frequency_dictionary(text_China)\n",
        "freq_dict_China = dict(sorted(freq_dict_China.items(), key=lambda item: item[1], reverse = True))   #order from more frequent to less frequent word\n",
        "\n",
        "freq_dict_USA = frequency_dictionary(text_USA)\n",
        "freq_dict_USA = dict(sorted(freq_dict_USA.items(), key=lambda item: item[1], reverse = True))   #order from more frequent to less frequent word\n",
        "\n",
        "net, net_df = network_from_edges(edges)\n",
        "net_China, net_df_China = network_from_edges(edges_China)\n",
        "net_USA, net_df_USA = network_from_edges(edges_USA)\n",
        "\n",
        "G = get_graph(net)\n",
        "G_China = get_graph(net_China)\n",
        "G_USA = get_graph(net_USA)"
      ],
      "metadata": {
        "id": "JXG6bFSfyOAN"
      },
      "execution_count": null,
      "outputs": []
    },
    {
      "cell_type": "code",
      "source": [
        "print('China&USA:')\n",
        "print('Nodes: ',len(G.nodes()))\n",
        "print('Edges: ',len(G.edges()))\n",
        "print('Is connected: ',nx.is_connected(G))\n",
        "print()\n",
        "print('China:')\n",
        "print('Nodes: ',len(G_China.nodes()))\n",
        "print('Edges: ',len(G_China.edges()))\n",
        "print('Is connected: ',nx.is_connected(G_China))\n",
        "print()\n",
        "print('USA:')\n",
        "print('Nodes: ',len(G_USA.nodes()))\n",
        "print('Edges: ',len(G_USA.edges()))\n",
        "print('Is connected: ',nx.is_connected(G_USA))\n",
        "print()"
      ],
      "metadata": {
        "outputId": "fb7201e2-5c4b-4fa0-fc7f-b7cad933a000",
        "colab": {
          "base_uri": "https://localhost:8080/"
        },
        "id": "4r6duJTOyOAN"
      },
      "execution_count": null,
      "outputs": [
        {
          "output_type": "stream",
          "name": "stdout",
          "text": [
            "China&USA:\n",
            "Nodes:  454\n",
            "Edges:  3254\n",
            "Is connected:  True\n",
            "\n",
            "China:\n",
            "Nodes:  300\n",
            "Edges:  1391\n",
            "Is connected:  False\n",
            "\n",
            "USA:\n",
            "Nodes:  435\n",
            "Edges:  1746\n",
            "Is connected:  True\n",
            "\n"
          ]
        }
      ]
    },
    {
      "cell_type": "markdown",
      "source": [
        "### Bipartition\n",
        "Partition a graph into two blocks using the Kernighan–Lin algorithm."
      ],
      "metadata": {
        "id": "twsmoWm3yOAP"
      }
    },
    {
      "cell_type": "code",
      "source": [
        "community_bipart = community.kernighan_lin_bisection(G,weight='weight')"
      ],
      "metadata": {
        "id": "FSgWgoDuyOAP"
      },
      "execution_count": null,
      "outputs": []
    },
    {
      "cell_type": "code",
      "source": [
        "print(community_bipart[0])\n",
        "print(community_bipart[1])"
      ],
      "metadata": {
        "colab": {
          "base_uri": "https://localhost:8080/"
        },
        "outputId": "5a2548aa-f167-4ad7-bb5a-946b4f0e71f5",
        "id": "fmJ8EmWEyOAP"
      },
      "execution_count": null,
      "outputs": [
        {
          "output_type": "stream",
          "name": "stdout",
          "text": [
            "{'officer', 'cough', 'child', 'singapore', 'quarter', 'run', 'nearly', 'read', 'major', 'human', 'fast', 'ban', 'border', 'phone', 'evacuee', 'infected', 'charter', 'urge', 'mother', 'temporarily', 'top', 'research', 'receive', 'trial', 'visit', 'must', 'investor', 'industry', 'yuan', 'special', 'california', 'miss', 'wash', 'move', 'news', 'increase', 'plan', 'fall', 'life', 'critical', 'strand', 'restriction', 'hard', 'group', 'growth', 'try', 'billion', 'street', 'force', 'offer', 'six', 'student', 'australia', 'front', 'contract', 'several', 'talk', 'near', 'well', 'affect', 'bank', 'slow', 'today', 'order', 'university', 'wang', 'apple', 'low', 'baby', 'recently', 'wall', 'headline', 'diagnose', 'potential', 'avoid', 'turn', 'issue', 'aboard', 'robot', 'strain', 'almost', 'condition', 'scientist', 'way', 'animal', 'base', 'wish', 'share', 'away', 'situation', 'look', 'still', 'dozen', 'wear', 'nurse', 'demand', 'respiratory', 'tokyo', 'meeting', 'place', 'fly', 'trump', 'develop', 'come', 'asia', 'france', 'medicine', 'leader', 'statement', 'office', 'thailand', 'airport', 'ensure', 'full', 'cure', 'would', 'protective', 'much', 'family', 'party', 'hundred', 'isolation', 'arrive', 'food', 'join', 'surgical', 'limit', 'put', 'provide', 'newly', 'care', 'long', 'release', 'infectious', 'social', 'police', 'anti', 'part', 'five', 'allow', 'person', 'fund', 'raise', 'protect', 'military', 'facility', 'asian', 'ask', 'carry', 'shortage', 'also', 'hand', 'australian', 'sell', 'general', 'watch', 'trade', 'head', 'among', 'good', 'woman', 'line', 'information', 'model', 'deal', 'flu', 'researcher', 'aid', 'community', 'transmission', 'clinical', 'pandemic', 'contact', 'service', 'panic', 'cancel', 'data', 'best', 'negative', 'keep', 'reach', 'many', 'last', 'shanghai', 'race', 'question', 'whether', 'economic', 'screen', 'currently', 'check', 'cut', 'together', 'plane', 'severe', 'large', 'dollar', 'production', 'possible', 'reporter', 'area', 'threat', 'result', 'thousand', 'recovery', 'firm', 'grow', 'meet', 'system', 'daily', 'set', 'nine', 'air', 'appear', 'east', 'illness', 'four', 'tell', 'pass', 'xinhua', 'finally', 'sale', 'extend', 'medic', 'inside', 'source', 'story'}\n",
            "{'medium', 'globally', 'number', 'medical', 'disease', 'fear', 'say', 'evacuate', 'time', 'suspend', 'brief', 'mask', 'test', 'korea', 'drop', 'outside', 'outbreak', 'toll', 'conference', 'dock', 'amid', 'board', 'rate', 'second', 'already', 'south', 'high', 'travel', 'see', 'death', 'response', 'lunar', 'quarantine', 'win', 'warn', 'big', 'patient', 'novel', 'measure', 'combat', 'contain', 'related', 'construction', 'pneumonia', 'government', 'macao', 'prevention', 'concern', 'effort', 'confidence', 'find', 'could', 'make', 'hold', 'taiwan', 'epidemic', 'donate', 'economy', 'around', 'province', 'great', 'give', 'china', 'include', 'record', 'infection', 'emergency', 'stand', 'local', 'covid', 'director', 'confirmed', 'official', 'case', 'since', 'end', 'bed', 'control', 'authority', 'build', 'help', 'global', 'die', 'across', 'treat', 'express', 'call', 'prevent', 'team', 'curb', 'far', 'hospital', 'first', 'worker', 'late', 'world', 'recover', 'city', 'holiday', 'company', 'drug', 'stop', 'leave', 'support', 'old', 'confirm', 'report', 'week', 'treatment', 'impact', 'development', 'may', 'need', 'bring', 'announce', 'coronavirus', 'get', 'princess', 'update', 'live', 'video', 'leishenshan', 'japanese', 'accord', 'spreading', 'beijing', 'vaccine', 'international', 'start', 'infect', 'national', 'expect', 'lead', 'solidarity', 'million', 'jinping', 'country', 'hit', 'close', 'stock', 'risk', 'show', 'least', 'continue', 'new', 'hubei', 'use', 'japan', 'like', 'take', 'positive', 'face', 'become', 'dead', 'department', 'return', 'month', 'diamond', 'step', 'study', 'man', 'press', 'work', 'hong', 'home', 'suspected', 'another', 'makeshift', 'state', 'suspect', 'staff', 'supply', 'united', 'symptom', 'market', 'fight', 'flight', 'beyond', 'send', 'cruise', 'remain', 'spread', 'virus', 'two', 'central', 'battle', 'cause', 'foreign', 'due', 'citizen', 'back', 'center', 'public', 'president', 'stay', 'early', 'level', 'resident', 'strong', 'kill', 'passenger', 'year', 'despite', 'ministry', 'chief', 'know', 'organization', 'commission', 'epicenter', 'one', 'total', 'deadly', 'business', 'day', 'discharge', 'begin', 'health', 'minister', 'declare', 'people', 'region', 'ship', 'doctor', 'expert', 'three', 'rise', 'follow'}\n"
          ]
        }
      ]
    },
    {
      "cell_type": "code",
      "source": [
        "threshold = 0.00001\n",
        "sum_China_0, sum_USA_0, sum_China_USA_0 = community_check(community_bipart[0], freq_dict_China, freq_dict_USA, G_China, G_USA, threshold)\n",
        "sum_China_1, sum_USA_1, sum_China_USA_1 = community_check(community_bipart[1], freq_dict_China, freq_dict_USA, G_China, G_USA, threshold)"
      ],
      "metadata": {
        "id": "wZhVpV2JyOAQ"
      },
      "execution_count": null,
      "outputs": []
    },
    {
      "cell_type": "code",
      "source": [
        "print('First community:')\n",
        "print('China: ', round(100 * sum_China_0 / len(community_bipart[0])),'%')\n",
        "print('USA: ', round(100 * sum_USA_0 / len(community_bipart[0])),'%')\n",
        "print('China&USA: ', round(100 * sum_China_USA_0 / len(community_bipart[0])),'%')\n",
        "print()\n",
        "print('China: ', round(100 * sum_China_1 / len(community_bipart[1])),'%')\n",
        "print('USA: ', round(100 * sum_USA_1 / len(community_bipart[1])),'%')\n",
        "print('China&USA: ', round(100 * sum_China_USA_1 / len(community_bipart[1])),'%')"
      ],
      "metadata": {
        "colab": {
          "base_uri": "https://localhost:8080/"
        },
        "outputId": "b47b60b9-5305-4065-8dfe-7da51b5b56e2",
        "id": "7HM09YrXyOAQ"
      },
      "execution_count": null,
      "outputs": [
        {
          "output_type": "stream",
          "name": "stdout",
          "text": [
            "First community:\n",
            "China:  42 %\n",
            "USA:  52 %\n",
            "China&USA:  5 %\n",
            "\n",
            "China:  46 %\n",
            "USA:  51 %\n",
            "China&USA:  3 %\n"
          ]
        }
      ]
    },
    {
      "cell_type": "markdown",
      "source": [
        "### Modularity-based communities\n",
        "Find communities in G using greedy modularity maximization."
      ],
      "metadata": {
        "id": "hgFcAdfVyOAQ"
      }
    },
    {
      "cell_type": "code",
      "source": [
        "community_mod = community.greedy_modularity_communities(G, n_communities=2, weight='weight')\n",
        "# communities_naive_mod = community.naive_greedy_modularity_communities(G)"
      ],
      "metadata": {
        "id": "b6x96Xl6yOAQ"
      },
      "execution_count": null,
      "outputs": []
    },
    {
      "cell_type": "code",
      "source": [
        "community_mod_list = []\n",
        "for comm in community_mod:\n",
        " print(list(comm))\n",
        " community_mod_list.append(list(comm))"
      ],
      "metadata": {
        "colab": {
          "base_uri": "https://localhost:8080/"
        },
        "outputId": "8ab73801-1988-4e6a-9542-238236ef776e",
        "id": "03WgRC7DyOAR"
      },
      "execution_count": null,
      "outputs": [
        {
          "output_type": "stream",
          "name": "stdout",
          "text": [
            "['officer', 'cough', 'quarter', 'singapore', 'medium', 'run', 'nearly', 'fear', 'ban', 'korea', 'evacuee', 'suspend', 'infected', 'charter', 'urge', 'temporarily', 'trial', 'investor', 'industry', 'rate', 'california', 'wash', 'move', 'news', 'plan', 'fall', 'south', 'restriction', 'strand', 'hard', 'high', 'travel', 'growth', 'try', 'see', 'billion', 'street', 'force', 'six', 'front', 'contract', 'australia', 'warn', 'big', 'several', 'near', 'well', 'affect', 'university', 'bank', 'today', 'slow', 'order', 'economy', 'apple', 'low', 'recently', 'wall', 'headline', 'diagnose', 'potential', 'avoid', 'since', 'issue', 'turn', 'strain', 'almost', 'base', 'share', 'far', 'still', 'dozen', 'wear', 'demand', 'respiratory', 'meeting', 'tokyo', 'drug', 'place', 'fly', 'come', 'asia', 'impact', 'statement', 'may', 'office', 'need', 'thailand', 'airport', 'coronavirus', 'get', 'much', 'family', 'hundred', 'arrive', 'food', 'limit', 'provide', 'close', 'hit', 'social', 'police', 'anti', 'part', 'stock', 'fund', 'risk', 'five', 'person', 'raise', 'protect', 'military', 'asian', 'like', 'become', 'hand', 'department', 'australian', 'sell', 'watch', 'return', 'head', 'among', 'good', 'woman', 'line', 'flu', 'state', 'clinical', 'united', 'contact', 'panic', 'cancel', 'market', 'flight', 'keep', 'last', 'shanghai', 'race', 'question', 'whether', 'economic', 'screen', 'due', 'currently', 'citizen', 'cut', 'back', 'dollar', 'possible', 'level', 'area', 'thousand', 'result', 'firm', 'grow', 'despite', 'know', 'system', 'set', 'nine', 'air', 'appear', 'business', 'illness', 'four', 'xinhua', 'finally', 'sale', 'source', 'story']\n",
            "['globally', 'read', 'major', 'fast', 'time', 'border', 'phone', 'brief', 'mask', 'outbreak', 'top', 'research', 'visit', 'amid', 'yuan', 'special', 'group', 'life', 'response', 'offer', 'win', 'student', 'measure', 'novel', 'combat', 'contain', 'talk', 'prevention', 'confidence', 'effort', 'find', 'wang', 'make', 'epidemic', 'donate', 'around', 'china', 'give', 'stand', 'local', 'control', 'robot', 'help', 'across', 'scientist', 'animal', 'way', 'express', 'call', 'wish', 'team', 'prevent', 'curb', 'situation', 'late', 'nurse', 'city', 'company', 'trump', 'stop', 'develop', 'support', 'leader', 'development', 'announce', 'ensure', 'full', 'party', 'live', 'video', 'update', 'spreading', 'beijing', 'join', 'vaccine', 'surgical', 'solidarity', 'million', 'newly', 'jinping', 'long', 'country', 'continue', 'show', 'least', 'ask', 'carry', 'shortage', 'take', 'face', 'trade', 'step', 'work', 'information', 'home', 'deal', 'researcher', 'aid', 'community', 'supply', 'service', 'best', 'fight', 'beyond', 'send', 'many', 'remain', 'spread', 'battle', 'foreign', 'check', 'together', 'large', 'stay', 'president', 'production', 'resident', 'strong', 'meet', 'daily', 'deadly', 'east', 'begin', 'tell', 'extend', 'medic', 'expert', 'follow']\n",
            "['taiwan', 'reach', 'province', 'number', 'include', 'record', 'human', 'infection', 'outside', 'central', 'drop', 'confirmed', 'case', 'toll', 'authority', 'end', 'release', 'die', 'condition', 'new', 'hubei', 'miss', 'first', 'increase', 'dead', 'critical', 'recover', 'man', 'epicenter', 'death', 'one', 'total', 'another', 'suspected', 'day', 'discharge', 'pass', 'confirm', 'suspect', 'report', 'pneumonia', 'region', 'france', 'macao', 'data', 'three', 'bring', 'rise']\n",
            "['child', 'protective', 'cure', 'baby', 'medical', 'leishenshan', 'isolation', 'start', 'mother', 'infect', 'put', 'expect', 'build', 'care', 'bed', 'severe', 'receive', 'treat', 'reporter', 'use', 'second', 'facility', 'hospital', 'recovery', 'worker', 'year', 'look', 'holiday', 'month', 'lunar', 'model', 'makeshift', 'patient', 'old', 'construction', 'treatment', 'staff', 'inside', 'medicine', 'symptom', 'doctor']\n",
            "['would', 'disease', 'emergency', 'say', 'accord', 'director', 'international', 'official', 'national', 'center', 'conference', 'infectious', 'public', 'global', 'early', 'must', 'threat', 'world', 'ministry', 'chief', 'general', 'organization', 'commission', 'press', 'could', 'transmission', 'health', 'pandemic', 'minister', 'declare', 'concern', 'hold']\n",
            "['also', 'positive', 'cruise', 'away', 'princess', 'diamond', 'virus', 'japanese', 'two', 'evacuate', 'test', 'hong', 'leave', 'quarantine', 'plane', 'aboard', 'dock', 'week', 'allow', 'board', 'government', 'kill', 'people', 'ship', 'negative', 'passenger', 'japan']\n",
            "['great', 'covid', 'study', 'cause', 'related', 'lead', 'already']\n"
          ]
        }
      ]
    },
    {
      "cell_type": "code",
      "source": [
        "threshold = 0.00001\n",
        "for i in range(len(community_mod_list)):\n",
        "  sum_China, sum_USA, sum_China_USA = community_check(community_mod_list[i], freq_dict_China, freq_dict_USA, G_China, G_USA, threshold)\n",
        "  print('Community: ', i)\n",
        "  print('China: ', round(100 * sum_China / len(community_mod_list[i])),'%')\n",
        "  print('USA: ', round(100 * sum_USA / len(community_mod_list[i])),'%')\n",
        "  print('China&USA: ', round(100 * sum_China_USA / len(community_mod_list[i])),'%')\n",
        "  print()"
      ],
      "metadata": {
        "colab": {
          "base_uri": "https://localhost:8080/"
        },
        "outputId": "7aa69900-d7ba-4bed-89c7-847f2ad08243",
        "id": "Pv-gtHN8yOAR"
      },
      "execution_count": null,
      "outputs": [
        {
          "output_type": "stream",
          "name": "stdout",
          "text": [
            "Community:  0\n",
            "China:  26 %\n",
            "USA:  69 %\n",
            "China&USA:  4 %\n",
            "\n",
            "Community:  1\n",
            "China:  63 %\n",
            "USA:  34 %\n",
            "China&USA:  2 %\n",
            "\n",
            "Community:  2\n",
            "China:  46 %\n",
            "USA:  46 %\n",
            "China&USA:  8 %\n",
            "\n",
            "Community:  3\n",
            "China:  76 %\n",
            "USA:  20 %\n",
            "China&USA:  5 %\n",
            "\n",
            "Community:  4\n",
            "China:  47 %\n",
            "USA:  47 %\n",
            "China&USA:  6 %\n",
            "\n",
            "Community:  5\n",
            "China:  19 %\n",
            "USA:  78 %\n",
            "China&USA:  0 %\n",
            "\n",
            "Community:  6\n",
            "China:  29 %\n",
            "USA:  71 %\n",
            "China&USA:  0 %\n",
            "\n"
          ]
        }
      ]
    },
    {
      "cell_type": "markdown",
      "source": [
        "### Louvain Community Detection\n",
        "Find the best partition of a graph using the Louvain Community Detection Algorithm."
      ],
      "metadata": {
        "id": "c8g4PIsOyOAR"
      }
    },
    {
      "cell_type": "code",
      "source": [
        "# communities_louvain = community.louvain.louvain_communities(G)\n",
        "# partitions_louvain = community.louvain.louvain_partitions(G)\n",
        "\n",
        "community_louv = community_louvain.best_partition(G,weight='weight')\n",
        "\n",
        "# modularity_louvain = community.modularity(communities_louvain, G) # ERROR: not a partition\n",
        "# print(\"The modularity Q based on networkx is {}\".format(modularity_louvain))"
      ],
      "metadata": {
        "id": "HAC-IeD1yOAS"
      },
      "execution_count": null,
      "outputs": []
    },
    {
      "cell_type": "code",
      "source": [
        "max = np.max(list(community_louv.values()))\n",
        "community_louvain_list = []\n",
        "for i in range(max+1):\n",
        "  community_louvain_list.append([])\n",
        "for key in list(community_louv.keys()):\n",
        "  community_louvain_list[community_louv[key]].append(key)\n",
        "for i in range(max+1):\n",
        "  print(community_louvain_list[i])"
      ],
      "metadata": {
        "colab": {
          "base_uri": "https://localhost:8080/"
        },
        "outputId": "4f9a78bb-4289-49cc-fd27-af7fa3e786d1",
        "id": "6FjUtqq1yOAS"
      },
      "execution_count": null,
      "outputs": [
        {
          "output_type": "stream",
          "name": "stdout",
          "text": [
            "['live', 'brief', 'late', 'give', 'update', 'around', 'development', 'follow', 'beyond', 'spreading']\n",
            "['talk', 'china', 'coronavirus', 'novel', 'outbreak', 'university', 'student', 'face', 'deal', 'medium', 'watch', 'make', 'take', 'hard', 'announce', 'team', 'expert', 'among', 'country', 'asia', 'state', 'information', 'office', 'across', 'line', 'since', 'medic', 'arrive', 'support', 'local', 'help', 'fight', 'cut', 'firm', 'express', 'contain', 'epidemic', 'nearly', 'risk', 'drug', 'ensure', 'trump', 'try', 'share', 'effort', 'send', 'amid', 'offer', 'system', 'foreign', 'wang', 'mask', 'donate', 'show', 'australia', 'daily', 'begin', 'back', 'work', 'service', 'industry', 'combat', 'get', 'business', 'issue', 'plan', 'possible', 'high', 'raise', 'woman', 'measure', 'south', 'leave', 'home', 'city', 'food', 'come', 'fund', 'battle', 'billion', 'dollar', 'win', 'meet', 'due', 'big', 'beijing', 'economy', 'fast', 'part', 'slow', 'many', 'find', 'aid', 'may', 'stand', 'infected', 'see', 'spread', 'response', 'diagnose', 'much', 'yuan', 'company', 'production', 'president', 'solidarity', 'join', 'leader', 'recently', 'east', 'million', 'affect', 'growth', 'far', 'phone', 'call', 'despite', 'scientist', 'respiratory', 'need', 'become', 'full', 'together', 'keep', 'citizen', 'ask', 'head', 'nurse', 'close', 'rate', 'long', 'last', 'stop', 'impact', 'government', 'group', 'flu', 'top', 'economic', 'situation', 'major', 'video', 'grow', 'united', 'curb', 'warn', 'stay', 'strong', 'time', 'strand', 'tell', 'ban', 'flight', 'suspend', 'confidence', 'develop', 'vaccine', 'low', 'travel', 'urge', 'good', 'social', 'large', 'prevent', 'trade', 'restriction', 'still', 'way', 'border', 'return', 'special', 'base', 'newly', 'read', 'news', 'place', 'resident', 'know', 'shanghai', 'anti', 'story', 'department', 'five', 'deadly', 'party', 'level', 'continue', 'order', 'source', 'demand', 'six', 'hit', 'area', 'cancel', 'visit', 'sale', 'life', 'animal', 'sell', 'market', 'meeting', 'extend', 'hand', 'xinhua', 'like', 'wish', 'jinping', 'best', 'step', 'community', 'check', 'carry', 'hundred', 'apple', 'robot', 'force', 'thousand', 'air', 'remain', 'fear', 'trial', 'stock', 'record', 'move', 'avoid', 'temporarily', 'globally', 'wall', 'evacuee', 'street', 'illness', 'fall', 'california', 'contact', 'clinical', 'airport', 'korea', 'nine', 'singapore', 'thailand', 'surgical', 'wear', 'protect', 'turn', 'police', 'statement', 'panic', 'currently', 'researcher', 'research', 'charter', 'wash', 'question', 'finally', 'near', 'well', 'today', 'appear', 'provide', 'dozen', 'asian', 'several', 'headline', 'whether', 'quarter', 'potential', 'run', 'limit', 'screen', 'fly', 'bank', 'investor', 'contract', 'almost', 'officer', 'tokyo', 'cough', 'front']\n",
            "['medical', 'worker', 'hospital', 'medicine', 'supply', 'treatment', 'use', 'start', 'second', 'patient', 'inside', 'year', 'old', 'put', 'isolation', 'recover', 'reporter', 'doctor', 'makeshift', 'symptom', 'month', 'baby', 'cure', 'holiday', 'mother', 'set', 'build', 'bed', 'shortage', 'child', 'race', 'staff', 'military', 'treat', 'expect', 'model', 'lunar', 'look', 'leishenshan', 'receive', 'construction', 'recovery', 'protective', 'severe', 'care', 'facility']\n",
            "['world', 'disease', 'health', 'organization', 'international', 'prevention', 'chief', 'say', 'minister', 'official', 'hold', 'control', 'national', 'commission', 'transmission', 'global', 'accord', 'press', 'conference', 'ministry', 'concern', 'could', 'public', 'emergency', 'general', 'director', 'early', 'would', 'threat', 'center', 'declare', 'must', 'human', 'pandemic', 'infectious']\n",
            "['people', 'cruise', 'ship', 'japan', 'virus', 'week', 'infect', 'also', 'evacuate', 'test', 'hong', 'two', 'plane', 'least', 'positive', 'quarantine', 'passenger', 'kill', 'japanese', 'diamond', 'princess', 'board', 'dock', 'aboard', 'allow', 'away', 'result', 'australian', 'negative']\n",
            "['great', 'lead', 'outside', 'confirm', 'case', 'covid', 'central', 'epicenter', 'hubei', 'province', 'number', 'drop', 'day', 'include', 'critical', 'total', 'one', 'new', 'end', 'three', 'die', 'increase', 'miss', 'authority', 'pneumonia', 'death', 'confirmed', 'family', 'dead', 'discharge', 'first', 'report', 'suspected', 'toll', 'another', 'macao', 'taiwan', 'infection', 'bring', 'cause', 'rise', 'man', 'region', 'pass', 'study', 'related', 'france', 'person', 'release', 'reach', 'strain', 'suspect', 'four', 'condition', 'data', 'already']\n"
          ]
        }
      ]
    },
    {
      "cell_type": "code",
      "source": [
        "threshold = 0.00001\n",
        "for i in range(len(community_louvain_list)):\n",
        "  sum_China, sum_USA, sum_China_USA = community_check(community_louvain_list[i], freq_dict_China, freq_dict_USA, G_China, G_USA, threshold)\n",
        "  print('Community: ', i)\n",
        "  print('China: ', round(100 * sum_China / len(community_louvain_list[i])),'%')\n",
        "  print('USA: ', round(100 * sum_USA / len(community_louvain_list[i])),'%')\n",
        "  print('China&USA: ', round(100 * sum_China_USA / len(community_louvain_list[i])),'%')\n",
        "  print()"
      ],
      "metadata": {
        "colab": {
          "base_uri": "https://localhost:8080/"
        },
        "outputId": "235c1910-9413-4607-a487-2819e9c4c8cf",
        "id": "iz960EOOyOAS"
      },
      "execution_count": null,
      "outputs": [
        {
          "output_type": "stream",
          "name": "stdout",
          "text": [
            "Community:  0\n",
            "China:  40 %\n",
            "USA:  60 %\n",
            "China&USA:  0 %\n",
            "\n",
            "Community:  1\n",
            "China:  42 %\n",
            "USA:  54 %\n",
            "China&USA:  3 %\n",
            "\n",
            "Community:  2\n",
            "China:  74 %\n",
            "USA:  24 %\n",
            "China&USA:  2 %\n",
            "\n",
            "Community:  3\n",
            "China:  49 %\n",
            "USA:  43 %\n",
            "China&USA:  9 %\n",
            "\n",
            "Community:  4\n",
            "China:  17 %\n",
            "USA:  76 %\n",
            "China&USA:  3 %\n",
            "\n",
            "Community:  5\n",
            "China:  43 %\n",
            "USA:  50 %\n",
            "China&USA:  7 %\n",
            "\n"
          ]
        }
      ]
    },
    {
      "cell_type": "markdown",
      "source": [
        "## SeptOct2020"
      ],
      "metadata": {
        "id": "x4rjFc5aymsS"
      }
    },
    {
      "cell_type": "code",
      "source": [
        "period = '_SeptOct2020'\n",
        "China = pd.read_csv('/content/China'+period+'.csv')\n",
        "USA = pd.read_csv('/content/USA'+period+'.csv')\n",
        "\n",
        "edges = pd.read_csv('/content/edgelist_China_USA'+period+'.csv')\n",
        "edges_China = pd.read_csv('/content/edgelist_China'+period+'.csv')\n",
        "edges_USA = pd.read_csv('/content/edgelist_USA'+period+'.csv')\n",
        "\n",
        "text_China = extract_text(China)\n",
        "text_USA = extract_text(USA)\n",
        "\n",
        "freq_dict_China = frequency_dictionary(text_China)\n",
        "freq_dict_China = dict(sorted(freq_dict_China.items(), key=lambda item: item[1], reverse = True))   #order from more frequent to less frequent word\n",
        "\n",
        "freq_dict_USA = frequency_dictionary(text_USA)\n",
        "freq_dict_USA = dict(sorted(freq_dict_USA.items(), key=lambda item: item[1], reverse = True))   #order from more frequent to less frequent word\n",
        "\n",
        "net, net_df = network_from_edges(edges)\n",
        "net_China, net_df_China = network_from_edges(edges_China)\n",
        "net_USA, net_df_USA = network_from_edges(edges_USA)\n",
        "\n",
        "G = get_graph(net)\n",
        "G_China = get_graph(net_China)\n",
        "G_USA = get_graph(net_USA)"
      ],
      "metadata": {
        "id": "aHy74BPdymsT"
      },
      "execution_count": null,
      "outputs": []
    },
    {
      "cell_type": "code",
      "source": [
        "print('China&USA:')\n",
        "print('Nodes: ',len(G.nodes()))\n",
        "print('Edges: ',len(G.edges()))\n",
        "print('Is connected: ',nx.is_connected(G))\n",
        "print()\n",
        "print('China:')\n",
        "print('Nodes: ',len(G_China.nodes()))\n",
        "print('Edges: ',len(G_China.edges()))\n",
        "print('Is connected: ',nx.is_connected(G_China))\n",
        "print()\n",
        "print('USA:')\n",
        "print('Nodes: ',len(G_USA.nodes()))\n",
        "print('Edges: ',len(G_USA.edges()))\n",
        "print('Is connected: ',nx.is_connected(G_USA))\n",
        "print()"
      ],
      "metadata": {
        "outputId": "969de869-313a-4a08-a60d-d4e9529df60d",
        "colab": {
          "base_uri": "https://localhost:8080/"
        },
        "id": "rmOntpbPymsU"
      },
      "execution_count": null,
      "outputs": [
        {
          "output_type": "stream",
          "name": "stdout",
          "text": [
            "China&USA:\n",
            "Nodes:  507\n",
            "Edges:  5768\n",
            "Is connected:  True\n",
            "\n",
            "China:\n",
            "Nodes:  173\n",
            "Edges:  556\n",
            "Is connected:  False\n",
            "\n",
            "USA:\n",
            "Nodes:  512\n",
            "Edges:  4963\n",
            "Is connected:  True\n",
            "\n"
          ]
        }
      ]
    },
    {
      "cell_type": "markdown",
      "source": [
        "### Bipartition\n",
        "Partition a graph into two blocks using the Kernighan–Lin algorithm."
      ],
      "metadata": {
        "id": "3jtoRKf2ymsU"
      }
    },
    {
      "cell_type": "code",
      "source": [
        "community_bipart = community.kernighan_lin_bisection(G,weight='weight')"
      ],
      "metadata": {
        "id": "l0nnBYp-ymsU"
      },
      "execution_count": null,
      "outputs": []
    },
    {
      "cell_type": "code",
      "source": [
        "print(community_bipart[0])\n",
        "print(community_bipart[1])"
      ],
      "metadata": {
        "colab": {
          "base_uri": "https://localhost:8080/"
        },
        "outputId": "fabc3cdf-f43d-4873-d621-1426d5bcb396",
        "id": "ioHEdWrzymsV"
      },
      "execution_count": null,
      "outputs": [
        {
          "output_type": "stream",
          "name": "stdout",
          "text": [
            "{'sen', 'medium', 'crisis', 'child', 'available', 'major', 'speaker', 'korea', 'protest', 'outside', 'urge', 'post', 'free', 'ahead', 'seek', 'within', 'research', 'receive', 'push', 'without', 'secretary', 'third', 'italy', 'industry', 'physician', 'challenge', 'boom', 'right', 'already', 'move', 'group', 'breaking', 'life', 'hard', 'might', 'catch', 'delay', 'try', 'billion', 'package', 'school', 'street', 'bar', 'six', 'offer', 'supreme', 'democrat', 'senator', 'student', 'win', 'several', 'novel', 'relief', 'vulnerable', 'contain', 'talk', 'small', 'seven', 'reopen', 'milestone', 'bank', 'slow', 'today', 'effort', 'order', 'court', 'prevention', 'voter', 'worry', 'epidemic', 'benefit', 'likely', 'pay', 'federal', 'local', 'director', 'happen', 'boost', 'message', 'avoid', 'yet', 'control', 'turn', 'gathering', 'decline', 'almost', 'impose', 'scientist', 'war', 'way', 'employee', 'winter', 'young', 'stimulus', 'nancy', 'team', 'north', 'play', 'base', 'share', 'prevent', 'change', 'jersey', 'look', 'less', 'french', 'holiday', 'demand', 'company', 'vote', 'previous', 'story', 'think', 'place', 'stop', 'senate', 'support', 'amy', 'open', 'register', 'impact', 'statement', 'development', 'enough', 'office', 'shut', 'player', 'bring', 'full', 'political', 'financial', 'much', 'approval', 'family', 'video', 'party', 'live', 'update', 'institute', 'expose', 'nationwide', 'international', 'effective', 'age', 'senior', 'provide', 'congress', 'lose', 'release', 'long', 'reduce', 'social', 'british', 'stock', 'task', 'mayor', 'least', 'fund', 'allow', 'person', 'maker', 'america', 'compare', 'protect', 'soon', 'raise', 'immunity', 'facility', 'ask', 'serious', 'like', 'promise', 'also', 'struggle', 'morning', 'watch', 'poll', 'supporter', 'add', 'among', 'night', 'good', 'press', 'woman', 'resurgence', 'qingdao', 'another', 'flu', 'recent', 'aid', 'transmission', 'future', 'climate', 'term', 'supply', 'service', 'market', 'game', 'flight', 'experience', 'keep', 'send', 'reach', 'loss', 'twitter', 'race', 'question', 'produce', 'restaurant', 'whether', 'trillion', 'germany', 'battle', 'feel', 'side', 'severe', 'stay', 'plastic', 'possible', 'resident', 'strong', 'kill', 'real', 'survive', 'half', 'effect', 'bad', 'thousand', 'firm', 'member', 'handling', 'town', 'despite', 'meet', 'system', 'commission', 'activity', 'nine', 'air', 'shot', 'business', 'trail', 'self', 'four', 'pass', 'review', 'approve', 'job', 'season', 'region', 'bill', 'protocol', 'immune'}\n",
            "{'number', 'medical', 'disease', 'nearly', 'fear', 'say', 'time', 'test', 'mike', 'mask', 'reed', 'outbreak', 'johnson', 'toll', 'top', 'authorization', 'russia', 'trial', 'surge', 'amid', 'rate', 'mark', 'second', 'news', 'south', 'increase', 'plan', 'fall', 'restriction', 'high', 'travel', 'see', 'death', 'response', 'force', 'quarantine', 'want', 'nominee', 'australia', 'warn', 'big', 'contract', 'former', 'patient', 'measure', 'well', 'democratic', 'diagnosis', 'government', 'university', 'adviser', 'concern', 'find', 'hold', 'make', 'could', 'economy', 'adult', 'around', 'low', 'china', 'give', 'include', 'record', 'infection', 'debate', 'emergency', 'covid', 'walter', 'governor', 'potential', 'official', 'case', 'since', 'end', 'authority', 'york', 'help', 'issue', 'global', 'die', 'penny', 'condition', 'treat', 'across', 'campaign', 'tally', 'call', 'curb', 'far', 'hospital', 'first', 'worker', 'joe', 'election', 'recover', 'still', 'past', 'city', 'world', 'wear', 'late', 'rally', 'dose', 'drug', 'trump', 'leave', 'develop', 'come', 'house', 'old', 'hour', 'africa', 'confirm', 'report', 'week', 'treatment', 'analysis', 'presidential', 'france', 'leader', 'may', 'surpass', 'need', 'announce', 'coronavirus', 'safe', 'get', 'would', 'aide', 'wife', 'accord', 'rule', 'hope', 'food', 'vaccine', 'event', 'join', 'infect', 'lead', 'expect', 'national', 'participant', 'million', 'start', 'care', 'hit', 'close', 'put', 'country', 'part', 'risk', 'show', 'continue', 'five', 'new', 'ease', 'military', 'use', 'lady', 'take', 'positive', 'become', 'face', 'general', 'return', 'month', 'white', 'head', 'study', 'claim', 'prime', 'work', 'home', 'hick', 'brazil', 'deal', 'state', 'researcher', 'clinical', 'volunteer', 'staff', 'united', 'contact', 'pandemic', 'clear', 'symptom', 'data', 'sign', 'vice', 'negative', 'fight', 'experimental', 'many', 'last', 'remain', 'spike', 'spread', 'virus', 'coverage', 'economic', 'kamala', 'two', 'fauci', 'cause', 'due', 'single', 'center', 'back', 'large', 'public', 'president', 'early', 'level', 'wave', 'even', 'stage', 'result', 'recovery', 'year', 'nation', 'ministry', 'chief', 'exclusive', 'trend', 'india', 'know', 'organization', 'set', 'daily', 'pause', 'one', 'total', 'appear', 'administration', 'day', 'illness', 'next', 'begin', 'tell', 'antibody', 'health', 'minister', 'people', 'republican', 'source', 'safety', 'tweet', 'candidate', 'doctor', 'expert', 'three', 'rise', 'follow'}\n"
          ]
        }
      ]
    },
    {
      "cell_type": "code",
      "source": [
        "threshold = 0.00001\n",
        "sum_China_0, sum_USA_0, sum_China_USA_0 = community_check(community_bipart[0], freq_dict_China, freq_dict_USA, G_China, G_USA, threshold)\n",
        "sum_China_1, sum_USA_1, sum_China_USA_1 = community_check(community_bipart[1], freq_dict_China, freq_dict_USA, G_China, G_USA, threshold)"
      ],
      "metadata": {
        "id": "f-kx3K49ymsV"
      },
      "execution_count": null,
      "outputs": []
    },
    {
      "cell_type": "code",
      "source": [
        "print('First community:')\n",
        "print('China: ', round(100 * sum_China_0 / len(community_bipart[0])),'%')\n",
        "print('USA: ', round(100 * sum_USA_0 / len(community_bipart[0])),'%')\n",
        "print('China&USA: ', round(100 * sum_China_USA_0 / len(community_bipart[0])),'%')\n",
        "print()\n",
        "print('China: ', round(100 * sum_China_1 / len(community_bipart[1])),'%')\n",
        "print('USA: ', round(100 * sum_USA_1 / len(community_bipart[1])),'%')\n",
        "print('China&USA: ', round(100 * sum_China_USA_1 / len(community_bipart[1])),'%')"
      ],
      "metadata": {
        "colab": {
          "base_uri": "https://localhost:8080/"
        },
        "outputId": "0c9fc259-d2d7-4602-d11e-62b6efd079f5",
        "id": "KNcMrcjbymsV"
      },
      "execution_count": null,
      "outputs": [
        {
          "output_type": "stream",
          "name": "stdout",
          "text": [
            "First community:\n",
            "China:  29 %\n",
            "USA:  64 %\n",
            "China&USA:  6 %\n",
            "\n",
            "China:  39 %\n",
            "USA:  57 %\n",
            "China&USA:  5 %\n"
          ]
        }
      ]
    },
    {
      "cell_type": "markdown",
      "source": [
        "### Modularity-based communities\n",
        "Find communities in G using greedy modularity maximization."
      ],
      "metadata": {
        "id": "8ul-KgK6ymsW"
      }
    },
    {
      "cell_type": "code",
      "source": [
        "community_mod = community.greedy_modularity_communities(G, n_communities=2, weight='weight')\n",
        "# communities_naive_mod = community.naive_greedy_modularity_communities(G)"
      ],
      "metadata": {
        "id": "CVldHHsBymsW"
      },
      "execution_count": null,
      "outputs": []
    },
    {
      "cell_type": "code",
      "source": [
        "community_mod_list = []\n",
        "for comm in community_mod:\n",
        " print(list(comm))\n",
        " community_mod_list.append(list(comm))"
      ],
      "metadata": {
        "colab": {
          "base_uri": "https://localhost:8080/"
        },
        "outputId": "1073e7bf-8c39-4cd6-f088-d4fdb4c9b866",
        "id": "3J3nNC37ymsW"
      },
      "execution_count": null,
      "outputs": [
        {
          "output_type": "stream",
          "name": "stdout",
          "text": [
            "['available', 'protest', 'post', 'authorization', 'free', 'johnson', 'russia', 'seek', 'receive', 'push', 'trial', 'third', 'industry', 'challenge', 'right', 'second', 'news', 'plan', 'group', 'life', 'catch', 'delay', 'try', 'billion', 'response', 'offer', 'win', 'want', 'patient', 'contain', 'bank', 'concern', 'worry', 'find', 'make', 'adult', 'likely', 'benefit', 'emergency', 'pay', 'covid', 'boost', 'potential', 'end', 'help', 'gathering', 'scientist', 'employee', 'young', 'play', 'share', 'worker', 'late', 'french', 'company', 'dose', 'drug', 'develop', 'support', 'old', 'open', 'development', 'enough', 'may', 'need', 'full', 'safe', 'get', 'financial', 'would', 'approval', 'party', 'institute', 'rule', 'food', 'effective', 'join', 'even', 'age', 'vaccine', 'infect', 'participant', 'provide', 'reduce', 'long', 'social', 'british', 'part', 'risk', 'show', 'fund', 'maker', 'compare', 'raise', 'protect', 'soon', 'immunity', 'use', 'facility', 'like', 'serious', 'promise', 'become', 'head', 'study', 'prime', 'woman', 'work', 'home', 'deal', 'flu', 'researcher', 'transmission', 'clinical', 'volunteer', 'term', 'supply', 'service', 'clear', 'data', 'immune', 'sign', 'market', 'fight', 'experimental', 'loss', 'race', 'question', 'produce', 'coverage', 'two', 'battle', 'side', 'due', 'single', 'back', 'severe', 'plastic', 'early', 'possible', 'resident', 'wave', 'strong', 'stage', 'real', 'survive', 'effect', 'result', 'firm', 'despite', 'meet', 'exclusive', 'know', 'system', 'pause', 'activity', 'appear', 'shot', 'illness', 'review', 'approve', 'antibody', 'minister', 'season', 'safety', 'candidate', 'protocol', 'story', 'follow']\n",
            "['sen', 'crisis', 'medical', 'fear', 'speaker', 'say', 'outside', 'test', 'mike', 'mask', 'reed', 'top', 'ahead', 'secretary', 'without', 'physician', 'mark', 'move', 'breaking', 'travel', 'package', 'supreme', 'quarantine', 'nominee', 'democrat', 'contract', 'senator', 'several', 'relief', 'former', 'talk', 'small', 'well', 'democratic', 'diagnosis', 'court', 'adviser', 'hold', 'voter', 'give', 'include', 'debate', 'director', 'happen', 'walter', 'message', 'official', 'avoid', 'turn', 'penny', 'condition', 'campaign', 'treat', 'way', 'base', 'call', 'stimulus', 'nancy', 'team', 'hospital', 'first', 'jersey', 'election', 'less', 'joe', 'still', 'wear', 'rally', 'vote', 'place', 'think', 'trump', 'stop', 'leave', 'senate', 'come', 'house', 'amy', 'week', 'treatment', 'analysis', 'presidential', 'statement', 'leader', 'office', 'player', 'announce', 'political', 'much', 'video', 'aide', 'wife', 'expose', 'hope', 'international', 'event', 'senior', 'put', 'congress', 'release', 'stock', 'continue', 'least', 'person', 'military', 'ask', 'lady', 'take', 'also', 'positive', 'face', 'morning', 'general', 'poll', 'return', 'supporter', 'white', 'add', 'night', 'good', 'claim', 'press', 'hick', 'aid', 'staff', 'contact', 'symptom', 'vice', 'game', 'negative', 'flight', 'experience', 'send', 'twitter', 'remain', 'whether', 'trillion', 'virus', 'economic', 'kamala', 'feel', 'fauci', 'center', 'stay', 'public', 'president', 'recovery', 'member', 'handling', 'town', 'chief', 'commission', 'air', 'trail', 'administration', 'self', 'four', 'next', 'begin', 'tell', 'republican', 'bill', 'source', 'tweet', 'doctor', 'three']\n",
            "['medium', 'child', 'number', 'nearly', 'major', 'time', 'outbreak', 'toll', 'within', 'research', 'surge', 'amid', 'italy', 'boom', 'rate', 'already', 'increase', 'fall', 'restriction', 'hard', 'might', 'high', 'see', 'school', 'street', 'death', 'force', 'bar', 'six', 'student', 'australia', 'warn', 'big', 'vulnerable', 'novel', 'measure', 'government', 'reopen', 'seven', 'milestone', 'university', 'today', 'slow', 'order', 'effort', 'could', 'epidemic', 'economy', 'around', 'low', 'china', 'record', 'infection', 'federal', 'local', 'governor', 'case', 'yet', 'authority', 'since', 'york', 'issue', 'global', 'decline', 'almost', 'die', 'impose', 'across', 'war', 'tally', 'winter', 'far', 'curb', 'past', 'look', 'recover', 'world', 'city', 'holiday', 'previous', 'hour', 'register', 'confirm', 'report', 'impact', 'france', 'shut', 'surpass', 'bring', 'coronavirus', 'family', 'live', 'accord', 'nationwide', 'start', 'lead', 'national', 'expect', 'million', 'care', 'lose', 'close', 'country', 'hit', 'mayor', 'task', 'allow', 'five', 'new', 'america', 'ease', 'struggle', 'month', 'among', 'resurgence', 'qingdao', 'brazil', 'another', 'recent', 'state', 'future', 'united', 'pandemic', 'many', 'last', 'spike', 'restaurant', 'spread', 'germany', 'cause', 'large', 'level', 'kill', 'half', 'bad', 'thousand', 'year', 'nation', 'ministry', 'trend', 'india', 'organization', 'set', 'daily', 'one', 'nine', 'total', 'business', 'day', 'pass', 'job', 'health', 'region', 'people', 'expert', 'rise']\n",
            "['reach', 'south', 'control', 'africa', 'disease', 'korea', 'prevention', 'prevent', 'urge', 'north']\n",
            "['demand', 'watch', 'update', 'keep']\n",
            "['change', 'climate']\n"
          ]
        }
      ]
    },
    {
      "cell_type": "code",
      "source": [
        "threshold = 0.00001\n",
        "for i in range(len(community_mod_list)):\n",
        "  sum_China, sum_USA, sum_China_USA = community_check(community_mod_list[i], freq_dict_China, freq_dict_USA, G_China, G_USA, threshold)\n",
        "  print('Community: ', i)\n",
        "  print('China: ', round(100 * sum_China / len(community_mod_list[i])),'%')\n",
        "  print('USA: ', round(100 * sum_USA / len(community_mod_list[i])),'%')\n",
        "  print('China&USA: ', round(100 * sum_China_USA / len(community_mod_list[i])),'%')\n",
        "  print()"
      ],
      "metadata": {
        "colab": {
          "base_uri": "https://localhost:8080/"
        },
        "outputId": "1f592f7d-75b2-4134-c70a-e9208c006cc9",
        "id": "Dr2L_0OiymsW"
      },
      "execution_count": null,
      "outputs": [
        {
          "output_type": "stream",
          "name": "stdout",
          "text": [
            "Community:  0\n",
            "China:  23 %\n",
            "USA:  72 %\n",
            "China&USA:  5 %\n",
            "\n",
            "Community:  1\n",
            "China:  30 %\n",
            "USA:  65 %\n",
            "China&USA:  5 %\n",
            "\n",
            "Community:  2\n",
            "China:  50 %\n",
            "USA:  44 %\n",
            "China&USA:  6 %\n",
            "\n",
            "Community:  3\n",
            "China:  50 %\n",
            "USA:  50 %\n",
            "China&USA:  0 %\n",
            "\n",
            "Community:  4\n",
            "China:  25 %\n",
            "USA:  75 %\n",
            "China&USA:  0 %\n",
            "\n",
            "Community:  5\n",
            "China:  0 %\n",
            "USA:  100 %\n",
            "China&USA:  0 %\n",
            "\n"
          ]
        }
      ]
    },
    {
      "cell_type": "markdown",
      "source": [
        "### Louvain Community Detection\n",
        "Find the best partition of a graph using the Louvain Community Detection Algorithm."
      ],
      "metadata": {
        "id": "pLJZJbXiymsX"
      }
    },
    {
      "cell_type": "code",
      "source": [
        "# communities_louvain = community.louvain.louvain_communities(G)\n",
        "# partitions_louvain = community.louvain.louvain_partitions(G)\n",
        "\n",
        "community_louv = community_louvain.best_partition(G,weight='weight')\n",
        "\n",
        "# modularity_louvain = community.modularity(communities_louvain, G) # ERROR: not a partition\n",
        "# print(\"The modularity Q based on networkx is {}\".format(modularity_louvain))"
      ],
      "metadata": {
        "id": "CsASGTD_ymsX"
      },
      "execution_count": null,
      "outputs": []
    },
    {
      "cell_type": "code",
      "source": [
        "max = np.max(list(community_louv.values()))\n",
        "community_louvain_list = []\n",
        "for i in range(max+1):\n",
        "  community_louvain_list.append([])\n",
        "for key in list(community_louv.keys()):\n",
        "  community_louvain_list[community_louv[key]].append(key)\n",
        "for i in range(max+1):\n",
        "  print(community_louvain_list[i])"
      ],
      "metadata": {
        "colab": {
          "base_uri": "https://localhost:8080/"
        },
        "outputId": "2000d5b7-cdce-4b3a-b829-28efeaa55cb7",
        "id": "RGOv1FS_ymsX"
      },
      "execution_count": null,
      "outputs": [
        {
          "output_type": "stream",
          "name": "stdout",
          "text": [
            "['daily', 'case', 'coronavirus', 'infection', 'high', 'since', 'number', 'new', 'hit', 'record', 'italy', 'week', 'report', 'health', 'time', 'increase', 'death', 'month', 'country', 'rise', 'france', 'see', 'expert', 'surpass', 'million', 'toll', 'confirm', 'one', 'resurgence', 'accord', 'ministry', 'register', 'national', 'student', 'university', 'local', 'across', 'pass', 'today', 'second', 'wave', 'surge', 'bring', 'total', 'tally', 'india', 'brazil', 'winter', 'could', 'milestone', 'outbreak', 'spread', 'measure', 'past', 'hour', 'city', 'far', 'day', 'state', 'set', 'york', 'qingdao', 'last', 'fall', 'germany', 'start', 'spike', 'two', 'authority', 'six', 'school', 'region', 'restriction', 'seven', 'nine', 'nationwide', 'three', 'decline', 'nearly', 'rate', 'australia', 'low', 'level', 'ease', 'another', 'warn', 'half', 'force', 'almost', 'research', 'trend', 'slow', 'task', 'novel', 'home', 'business', 'mayor', 'street', 'resident', 'governor', 'allow', 'previous', 'reopen']\n",
            "['covid', 'around', 'concern', 'pandemic', 'many', 'among', 'people', 'raise', 'amid', 'close', 'patient', 'government', 'africa', 'world', 'push', 'china', 'back', 'united', 'lead', 'severe', 'gathering', 'minister', 'organization', 'nation', 'large', 'bar', 'die', 'impose', 'french', 'big', 'bad', 'child', 'curb', 'live', 'fear', 'south', 'cause', 'korea', 'care', 'worker', 'federal', 'medium', 'expect', 'end', 'year', 'next', 'call', 'despite', 'prime', 'crisis', 'become', 'issue', 'fight', 'recent', 'find', 'leader', 'side', 'worry', 'possible', 'less', 'risk', 'reduce', 'order', 'life', 'struggle', 'support', 'yet', 'kill', 'challenge', 'economy', 'hard', 'impact', 'long', 'major', 'season', 'place', 'british', 'rule', 'contain', 'transmission', 'loss', 'offer', 'family', 'america', 'recover', 'system', 'fund', 'even', 'age', 'prevent', 'war', 'lose', 'group', 'holiday', 'seek', 'firm', 'restaurant', 'help', 'market', 'provide', 'economic', 'look', 'know', 'plastic', 'effort', 'thousand', 'already', 'change', 'protest', 'protect', 'battle', 'need', 'billion', 'win', 'term', 'vulnerable', 'general', 'flu', 'bank', 'social', 'question', 'job', 'within', 'urge', 'catch', 'north', 'likely', 'play', 'effect', 'avoid', 'woman', 'right', 'climate', 'epidemic', 'open', 'shut', 'move', 'might', 'service', 'meet', 'industry', 'full', 'boost', 'supply', 'party', 'future', 'story', 'protocol', 'benefit', 'financial', 'boom']\n",
            "['get', 'sign', 'emergency', 'data', 'late', 'global', 'follow', 'show', 'single', 'russia', 'virus', 'may', 'compare', 'part', 'vaccine', 'update', 'use', 'produce', 'development', 'immunity', 'study', 'researcher', 'potential', 'drug', 'response', 'illness', 'join', 'source', 'infect', 'news', 'approve', 'make', 'work', 'due', 'survive', 'candidate', 'clinical', 'trial', 'keep', 'johnson', 'immune', 'old', 'early', 'race', 'watch', 'company', 'stage', 'food', 'would', 'strong', 'coverage', 'participant', 'scientist', 'young', 'experimental', 'volunteer', 'safe', 'result', 'plan', 'receive', 'enough', 'develop', 'want', 'demand', 'clear', 'antibody', 'appear', 'safety', 'adult', 'exclusive', 'share', 'pause', 'dose', 'institute', 'approval', 'facility', 'head', 'promise', 'effective', 'available', 'soon', 'pay', 'real', 'shot', 'authorization', 'serious', 'review', 'maker']\n",
            "['mark', 'test', 'first', 'say', 'top', 'take', 'reach', 'commission', 'announce', 'positive', 'continue', 'official', 'center', 'disease', 'control', 'public', 'face', 'begin', 'four', 'president', 'trump', 'include', 'also', 'travel', 'hospital', 'remain', 'five', 'come', 'without', 'doctor', 'analysis', 'add', 'ahead', 'handling', 'hope', 'give', 'person', 'diagnosis', 'quarantine', 'contact', 'white', 'house', 'least', 'stay', 'much', 'try', 'deal', 'contract', 'leave', 'walter', 'reed', 'medical', 'return', 'employee', 'stop', 'bill', 'wife', 'senior', 'member', 'democratic', 'presidential', 'joe', 'negative', 'stock', 'lady', 'send', 'recovery', 'still', 'way', 'free', 'breaking', 'experience', 'hold', 'sen', 'kamala', 'campaign', 'night', 'chief', 'player', 'twitter', 'tweet', 'claim', 'whether', 'video', 'military', 'director', 'international', 'republican', 'mike', 'trillion', 'relief', 'democrat', 'staff', 'vice', 'penny', 'nominee', 'debate', 'mask', 'treatment', 'press', 'secretary', 'tell', 'team', 'congress', 'message', 'supporter', 'symptom', 'wear', 'think', 'happen', 'speaker', 'nancy', 'amy', 'supreme', 'court', 'event', 'post', 'release', 'well', 'activity', 'fauci', 'like', 'administration', 'senate', 'town', 'adviser', 'election', 'small', 'political', 'turn', 'ask', 'poll', 'put', 'third', 'vote', 'aid', 'package', 'rally', 'delay', 'air', 'aide', 'stimulus', 'trail', 'several', 'senator', 'former', 'hick', 'morning', 'prevention', 'expose', 'talk', 'self', 'office', 'treat', 'good', 'statement', 'physician', 'voter', 'outside', 'jersey', 'condition', 'base', 'flight', 'game', 'feel']\n"
          ]
        }
      ]
    },
    {
      "cell_type": "code",
      "source": [
        "threshold = 0.00001\n",
        "for i in range(len(community_louvain_list)):\n",
        "  sum_China, sum_USA, sum_China_USA = community_check(community_louvain_list[i], freq_dict_China, freq_dict_USA, G_China, G_USA, threshold)\n",
        "  print('Community: ', i)\n",
        "  print('China: ', round(100 * sum_China / len(community_louvain_list[i])),'%')\n",
        "  print('USA: ', round(100 * sum_USA / len(community_louvain_list[i])),'%')\n",
        "  print('China&USA: ', round(100 * sum_China_USA / len(community_louvain_list[i])),'%')\n",
        "  print()"
      ],
      "metadata": {
        "colab": {
          "base_uri": "https://localhost:8080/"
        },
        "outputId": "9f55c837-4f0a-46d5-9159-cda180559c7f",
        "id": "b635ZAptymsY"
      },
      "execution_count": null,
      "outputs": [
        {
          "output_type": "stream",
          "name": "stdout",
          "text": [
            "Community:  0\n",
            "China:  54 %\n",
            "USA:  39 %\n",
            "China&USA:  7 %\n",
            "\n",
            "Community:  1\n",
            "China:  29 %\n",
            "USA:  66 %\n",
            "China&USA:  5 %\n",
            "\n",
            "Community:  2\n",
            "China:  24 %\n",
            "USA:  74 %\n",
            "China&USA:  2 %\n",
            "\n",
            "Community:  3\n",
            "China:  31 %\n",
            "USA:  62 %\n",
            "China&USA:  6 %\n",
            "\n"
          ]
        }
      ]
    },
    {
      "cell_type": "markdown",
      "source": [
        "## MarchApril2021"
      ],
      "metadata": {
        "id": "neF-Ru8Ny7XH"
      }
    },
    {
      "cell_type": "code",
      "source": [
        "period = '_MarchApril2021'\n",
        "China = pd.read_csv('/content/China'+period+'.csv')\n",
        "USA = pd.read_csv('/content/USA'+period+'.csv')\n",
        "\n",
        "edges = pd.read_csv('/content/edgelist_China_USA'+period+'.csv')\n",
        "edges_China = pd.read_csv('/content/edgelist_China'+period+'.csv')\n",
        "edges_USA = pd.read_csv('/content/edgelist_USA'+period+'.csv')\n",
        "\n",
        "text_China = extract_text(China)\n",
        "text_USA = extract_text(USA)\n",
        "\n",
        "freq_dict_China = frequency_dictionary(text_China)\n",
        "freq_dict_China = dict(sorted(freq_dict_China.items(), key=lambda item: item[1], reverse = True))   #order from more frequent to less frequent word\n",
        "\n",
        "freq_dict_USA = frequency_dictionary(text_USA)\n",
        "freq_dict_USA = dict(sorted(freq_dict_USA.items(), key=lambda item: item[1], reverse = True))   #order from more frequent to less frequent word\n",
        "\n",
        "net, net_df = network_from_edges(edges)\n",
        "net_China, net_df_China = network_from_edges(edges_China)\n",
        "net_USA, net_df_USA = network_from_edges(edges_USA)\n",
        "\n",
        "G = get_graph(net)\n",
        "G_China = get_graph(net_China)\n",
        "G_USA = get_graph(net_USA)"
      ],
      "metadata": {
        "id": "dPY3pyLdy7XJ"
      },
      "execution_count": null,
      "outputs": []
    },
    {
      "cell_type": "code",
      "source": [
        "print('China&USA:')\n",
        "print('Nodes: ',len(G.nodes()))\n",
        "print('Edges: ',len(G.edges()))\n",
        "print('Is connected: ',nx.is_connected(G))\n",
        "print()\n",
        "print('China:')\n",
        "print('Nodes: ',len(G_China.nodes()))\n",
        "print('Edges: ',len(G_China.edges()))\n",
        "print('Is connected: ',nx.is_connected(G_China))\n",
        "print()\n",
        "print('USA:')\n",
        "print('Nodes: ',len(G_USA.nodes()))\n",
        "print('Edges: ',len(G_USA.edges()))\n",
        "print('Is connected: ',nx.is_connected(G_USA))\n",
        "print()"
      ],
      "metadata": {
        "outputId": "6d2edd24-3d50-439a-b85a-0f7c8bd7249f",
        "colab": {
          "base_uri": "https://localhost:8080/"
        },
        "id": "n4b8FnrRy7XJ"
      },
      "execution_count": null,
      "outputs": [
        {
          "output_type": "stream",
          "name": "stdout",
          "text": [
            "China&USA:\n",
            "Nodes:  500\n",
            "Edges:  3018\n",
            "Is connected:  True\n",
            "\n",
            "China:\n",
            "Nodes:  206\n",
            "Edges:  638\n",
            "Is connected:  True\n",
            "\n",
            "USA:\n",
            "Nodes:  491\n",
            "Edges:  2285\n",
            "Is connected:  True\n",
            "\n"
          ]
        }
      ]
    },
    {
      "cell_type": "markdown",
      "source": [
        "### Bipartition\n",
        "Partition a graph into two blocks using the Kernighan–Lin algorithm."
      ],
      "metadata": {
        "id": "JazZIV9Ny7XK"
      }
    },
    {
      "cell_type": "code",
      "source": [
        "community_bipart = community.kernighan_lin_bisection(G,weight='weight')"
      ],
      "metadata": {
        "id": "QmEIP7suy7XK"
      },
      "execution_count": null,
      "outputs": []
    },
    {
      "cell_type": "code",
      "source": [
        "print(community_bipart[0])\n",
        "print(community_bipart[1])"
      ],
      "metadata": {
        "colab": {
          "base_uri": "https://localhost:8080/"
        },
        "outputId": "1cd89413-6e82-4dbf-c7b1-ceba6ff562ad",
        "id": "5DO3AhI6y7XK"
      },
      "execution_count": null,
      "outputs": [
        {
          "output_type": "stream",
          "name": "stdout",
          "text": [
            "{'child', 'number', 'disease', 'nearly', 'time', 'say', 'test', 'korea', 'agency', 'ban', 'urge', 'johnson', 'toll', 'top', 'free', 'russia', 'research', 'receive', 'trial', 'surge', 'third', 'amid', 'committee', 'track', 'rate', 'special', 'batch', 'second', 'expand', 'dos', 'south', 'group', 'increase', 'fall', 'restriction', 'clot', 'plan', 'high', 'travel', 'delay', 'see', 'response', 'school', 'death', 'six', 'offer', 'australia', 'warn', 'patient', 'variant', 'government', 'prevention', 'university', 'concern', 'link', 'order', 'find', 'could', 'make', 'adult', 'donate', 'benefit', 'outweigh', 'low', 'china', 'give', 'around', 'province', 'include', 'record', 'infection', 'emergency', 'local', 'covid', 'federal', 'blood', 'director', 'official', 'case', 'efficacy', 'eligible', 'end', 'control', 'help', 'since', 'global', 'across', 'war', 'animal', 'way', 'base', 'young', 'call', 'intensive', 'prevent', 'african', 'team', 'far', 'hospital', 'first', 'world', 'still', 'city', 'company', 'dose', 'drug', 'symptomatic', 'stop', 'develop', 'house', 'old', 'register', 'africa', 'confirm', 'report', 'week', 'analysis', 'problem', 'france', 'medicine', 'leader', 'may', 'office', 'deliver', 'surpass', 'need', 'announce', 'coronavirus', 'speak', 'get', 'safe', 'would', 'goal', 'vaccination', 'live', 'update', 'accord', 'arrive', 'require', 'effective', 'vaccine', 'even', 'age', 'national', 'expect', 'start', 'million', 'infectious', 'close', 'hit', 'care', 'country', 'risk', 'show', 'least', 'continue', 'new', 'recommend', 'maker', 'canada', 'soon', 'use', 'ask', 'take', 'positive', 'become', 'face', 'month', 'white', 'among', 'study', 'prime', 'work', 'brazil', 'march', 'another', 'regulator', 'state', 'export', 'shipment', 'clinical', 'michigan', 'united', 'pandemic', 'supply', 'data', 'fight', 'reach', 'many', 'union', 'last', 'produce', 'spread', 'vaccinate', 'virus', 'germany', 'two', 'fauci', 'side', 'cause', 'due', 'single', 'center', 'back', 'severe', 'passport', 'president', 'origin', 'possible', 'wave', 'brain', 'rare', 'half', 'effect', 'bad', 'year', 'jab', 'meet', 'ministry', 'nation', 'india', 'know', 'pause', 'set', 'organization', 'commission', 'daily', 'one', 'yunnan', 'delivery', 'total', 'shot', 'air', 'day', 'administration', 'population', 'next', 'begin', 'review', 'approve', 'health', 'minister', 'people', 'safety', 'doctor', 'expert', 'three', 'administer', 'rise', 'follow'}\n",
            "{'easter', 'medium', 'target', 'crisis', 'quarter', 'medical', 'fear', 'major', 'human', 'border', 'suspend', 'mask', 'drop', 'outbreak', 'authorization', 'ahead', 'within', 'seek', 'push', 'massive', 'without', 'visit', 'must', 'challenge', 'right', 'mark', 'mass', 'california', 'black', 'move', 'forecast', 'news', 'breaking', 'life', 'hard', 'growth', 'fourth', 'investigate', 'billion', 'street', 'win', 'want', 'contract', 'suffer', 'big', 'student', 'several', 'relief', 'former', 'hop', 'measure', 'talk', 'small', 'well', 'disorder', 'affect', 'reopen', 'seven', 'today', 'slow', 'effort', 'protection', 'worry', 'hold', 'economy', 'great', 'likely', 'every', 'beach', 'hospitalization', 'pressure', 'pay', 'governor', 'boost', 'potential', 'decide', 'yet', 'authority', 'york', 'issue', 'reason', 'gathering', 'decline', 'almost', 'resume', 'die', 'impose', 'campaign', 'scientist', 'break', 'strain', 'consider', 'share', 'investigation', 'curb', 'extra', 'change', 'joe', 'late', 'worker', 'recover', 'french', 'longer', 'look', 'less', 'demand', 'lift', 'plant', 'tokyo', 'place', 'think', 'trump', 'leave', 'executive', 'come', 'support', 'inoculation', 'hour', 'open', 'impact', 'facebook', 'launch', 'bring', 'thailand', 'full', 'agree', 'fresh', 'much', 'approval', 'family', 'immunization', 'program', 'institute', 'rule', 'access', 'food', 'hope', 'event', 'join', 'crowd', 'lead', 'limit', 'put', 'international', 'provide', 'wait', 'senior', 'lose', 'release', 'long', 'british', 'social', 'part', 'anti', 'fund', 'five', 'person', 'site', 'allow', 'america', 'ease', 'raise', 'protect', 'detect', 'military', 'card', 'asian', 'block', 'japan', 'like', 'also', 'struggle', 'watch', 'chile', 'return', 'general', 'add', 'head', 'step', 'good', 'claim', 'woman', 'line', 'ever', 'hong', 'information', 'home', 'deal', 'recent', 'researcher', 'spring', 'community', 'decision', 'service', 'symptom', 'similar', 'capital', 'sign', 'misinformation', 'game', 'keep', 'experience', 'send', 'fully', 'remain', 'race', 'spike', 'question', 'cite', 'whether', 'economic', 'coverage', 'foreign', 'behind', 'forward', 'large', 'public', 'production', 'early', 'double', 'level', 'inoculate', 'area', 'drive', 'resident', 'strong', 'write', 'threaten', 'result', 'thousand', 'average', 'member', 'overseas', 'despite', 'exclusive', 'grow', 'chief', 'roll', 'system', 'business', 'illness', 'four', 'tell', 'pass', 'antibody', 'extend', 'region', 'source', 'ship', 'story'}\n"
          ]
        }
      ]
    },
    {
      "cell_type": "code",
      "source": [
        "threshold = 0.00001\n",
        "sum_China_0, sum_USA_0, sum_China_USA_0 = community_check(community_bipart[0], freq_dict_China, freq_dict_USA, G_China, G_USA, threshold)\n",
        "sum_China_1, sum_USA_1, sum_China_USA_1 = community_check(community_bipart[1], freq_dict_China, freq_dict_USA, G_China, G_USA, threshold)"
      ],
      "metadata": {
        "id": "gBCox5oUy7XL"
      },
      "execution_count": null,
      "outputs": []
    },
    {
      "cell_type": "code",
      "source": [
        "print('First community:')\n",
        "print('China: ', round(100 * sum_China_0 / len(community_bipart[0])),'%')\n",
        "print('USA: ', round(100 * sum_USA_0 / len(community_bipart[0])),'%')\n",
        "print('China&USA: ', round(100 * sum_China_USA_0 / len(community_bipart[0])),'%')\n",
        "print()\n",
        "print('China: ', round(100 * sum_China_1 / len(community_bipart[1])),'%')\n",
        "print('USA: ', round(100 * sum_USA_1 / len(community_bipart[1])),'%')\n",
        "print('China&USA: ', round(100 * sum_China_USA_1 / len(community_bipart[1])),'%')"
      ],
      "metadata": {
        "colab": {
          "base_uri": "https://localhost:8080/"
        },
        "outputId": "71ab1c9f-f474-486a-ffe5-0bc467b2b328",
        "id": "Aq1GP7Xmy7XL"
      },
      "execution_count": null,
      "outputs": [
        {
          "output_type": "stream",
          "name": "stdout",
          "text": [
            "First community:\n",
            "China:  39 %\n",
            "USA:  59 %\n",
            "China&USA:  2 %\n",
            "\n",
            "China:  30 %\n",
            "USA:  63 %\n",
            "China&USA:  6 %\n"
          ]
        }
      ]
    },
    {
      "cell_type": "markdown",
      "source": [
        "### Modularity-based communities\n",
        "Find communities in G using greedy modularity maximization."
      ],
      "metadata": {
        "id": "qOfXh_A-y7XL"
      }
    },
    {
      "cell_type": "code",
      "source": [
        "community_mod = community.greedy_modularity_communities(G, n_communities=2, weight='weight')\n",
        "# communities_naive_mod = community.naive_greedy_modularity_communities(G)"
      ],
      "metadata": {
        "id": "Dxio0eqLy7XL"
      },
      "execution_count": null,
      "outputs": []
    },
    {
      "cell_type": "code",
      "source": [
        "community_mod_list = []\n",
        "for comm in community_mod:\n",
        " print(list(comm))\n",
        " community_mod_list.append(list(comm))"
      ],
      "metadata": {
        "colab": {
          "base_uri": "https://localhost:8080/"
        },
        "outputId": "d3557969-c8af-4fbe-8a7e-fa5651efa1b8",
        "id": "W7uac0aMy7XM"
      },
      "execution_count": null,
      "outputs": [
        {
          "output_type": "stream",
          "name": "stdout",
          "text": [
            "['easter', 'quarter', 'child', 'crisis', 'number', 'nearly', 'fear', 'major', 'human', 'time', 'border', 'test', 'drop', 'outbreak', 'toll', 'ahead', 'seek', 'research', 'push', 'massive', 'third', 'visit', 'surge', 'amid', 'challenge', 'rate', 'california', 'mark', 'move', 'forecast', 'news', 'increase', 'life', 'restriction', 'hard', 'high', 'travel', 'growth', 'fourth', 'see', 'school', 'street', 'death', 'suffer', 'big', 'warn', 'patient', 'relief', 'measure', 'variant', 'affect', 'seven', 'reopen', 'today', 'worry', 'hold', 'could', 'great', 'economy', 'likely', 'province', 'every', 'low', 'record', 'beach', 'infection', 'pressure', 'pay', 'local', 'covid', 'case', 'yet', 'since', 'york', 'help', 'gathering', 'global', 'almost', 'decline', 'strain', 'die', 'impose', 'intensive', 'share', 'curb', 'hospital', 'worker', 'change', 'longer', 'less', 'recover', 'french', 'city', 'demand', 'lift', 'tokyo', 'story', 'think', 'place', 'leave', 'old', 'open', 'hour', 'report', 'week', 'analysis', 'france', 'surpass', 'bring', 'coronavirus', 'family', 'update', 'institute', 'accord', 'rule', 'food', 'international', 'event', 'crowd', 'join', 'lead', 'lose', 'release', 'long', 'close', 'care', 'hit', 'part', 'anti', 'show', 'allow', 'fund', 'five', 'new', 'america', 'ease', 'raise', 'detect', 'asian', 'block', 'japan', 'positive', 'face', 'struggle', 'watch', 'general', 'chile', 'return', 'month', 'add', 'head', 'step', 'study', 'claim', 'line', 'ever', 'work', 'home', 'brazil', 'another', 'recent', 'state', 'researcher', 'spring', 'community', 'michigan', 'united', 'pandemic', 'service', 'symptom', 'data', 'capital', 'game', 'fight', 'experience', 'last', 'remain', 'spread', 'spike', 'cite', 'virus', 'coverage', 'economic', 'two', 'behind', 'single', 'back', 'early', 'double', 'origin', 'strong', 'resident', 'wave', 'area', 'write', 'bad', 'thousand', 'average', 'member', 'overseas', 'year', 'grow', 'despite', 'chief', 'india', 'system', 'set', 'daily', 'yunnan', 'total', 'business', 'day', 'four', 'next', 'begin', 'pass', 'extend', 'region', 'three', 'rise']\n",
            "['target', 'ban', 'suspend', 'mask', 'urge', 'free', 'receive', 'without', 'batch', 'mass', 'second', 'black', 'expand', 'dos', 'plan', 'group', 'delay', 'billion', 'offer', 'contract', 'australia', 'hop', 'several', 'talk', 'small', 'well', 'slow', 'protection', 'effort', 'make', 'adult', 'donate', 'china', 'include', 'boost', 'official', 'eligible', 'end', 'resume', 'across', 'campaign', 'scientist', 'way', 'young', 'consider', 'african', 'first', 'extra', 'joe', 'late', 'company', 'plant', 'dose', 'stop', 'come', 'support', 'inoculation', 'launch', 'office', 'announce', 'full', 'agree', 'get', 'fresh', 'goal', 'would', 'approval', 'vaccination', 'immunization', 'program', 'arrive', 'access', 'vaccine', 'start', 'senior', 'limit', 'national', 'put', 'expect', 'provide', 'wait', 'million', 'country', 'continue', 'least', 'maker', 'site', 'protect', 'canada', 'military', 'card', 'like', 'take', 'also', 'become', 'good', 'prime', 'hong', 'march', 'deal', 'export', 'shipment', 'supply', 'similar', 'keep', 'send', 'many', 'union', 'fully', 'race', 'question', 'produce', 'vaccinate', 'whether', 'foreign', 'president', 'production', 'inoculate', 'drive', 'half', 'threaten', 'jab', 'roll', 'commission', 'one', 'delivery', 'population', 'tell', 'minister', 'people', 'ship', 'safety', 'administer']\n",
            "['safe', 'medical', 'say', 'agency', 'age', 'authorization', 'johnson', 'top', 'infectious', 'british', 'within', 'risk', 'must', 'recommend', 'committee', 'track', 'soon', 'use', 'ask', 'breaking', 'clot', 'investigate', 'woman', 'six', 'want', 'win', 'regulator', 'decision', 'disorder', 'link', 'concern', 'find', 'outweigh', 'benefit', 'deliver', 'give', 'emergency', 'germany', 'federal', 'director', 'blood', 'cause', 'side', 'due', 'decide', 'authority', 'public', 'level', 'possible', 'brain', 'rare', 'effect', 'investigation', 'still', 'exclusive', 'ministry', 'meet', 'know', 'pause', 'drug', 'develop', 'executive', 'shot', 'confirm', 'review', 'approve', 'health', 'impact', 'problem', 'medicine', 'source', 'may', 'expert', 'need', 'follow']\n",
            "['south', 'disease', 'hospitalization', 'korea', 'symptomatic', 'effective', 'information', 'center', 'illness', 'efficacy', 'large', 'africa', 'control', 'severe', 'clinical', 'trial', 'base', 'prevention', 'prevent', 'result']\n",
            "['speak', 'live', 'white', 'fauci', 'response', 'trump', 'air', 'administration', 'house', 'former', 'antibody', 'break', 'war', 'leader', 'special', 'doctor', 'team']\n",
            "['fall', 'issue', 'university', 'passport', 'person', 'among', 'thailand', 'government', 'require', 'governor', 'sign', 'order', 'student']\n",
            "['reach', 'russia', 'around', 'register', 'world', 'nation', 'animal', 'organization', 'call', 'even', 'far']\n",
            "['look', 'much', 'reason', 'potential', 'hope', 'forward', 'right']\n",
            "['social', 'misinformation', 'medium', 'facebook']\n"
          ]
        }
      ]
    },
    {
      "cell_type": "code",
      "source": [
        "threshold = 0.00001\n",
        "for i in range(len(community_mod_list)):\n",
        "  sum_China, sum_USA, sum_China_USA = community_check(community_mod_list[i], freq_dict_China, freq_dict_USA, G_China, G_USA, threshold)\n",
        "  print('Community: ', i)\n",
        "  print('China: ', round(100 * sum_China / len(community_mod_list[i])),'%')\n",
        "  print('USA: ', round(100 * sum_USA / len(community_mod_list[i])),'%')\n",
        "  print('China&USA: ', round(100 * sum_China_USA / len(community_mod_list[i])),'%')\n",
        "  print()"
      ],
      "metadata": {
        "colab": {
          "base_uri": "https://localhost:8080/"
        },
        "outputId": "e79b738f-3ea6-420a-89d7-5f1b3e0d2a4c",
        "id": "TN3X27vcy7XM"
      },
      "execution_count": null,
      "outputs": [
        {
          "output_type": "stream",
          "name": "stdout",
          "text": [
            "Community:  0\n",
            "China:  39 %\n",
            "USA:  54 %\n",
            "China&USA:  6 %\n",
            "\n",
            "Community:  1\n",
            "China:  40 %\n",
            "USA:  57 %\n",
            "China&USA:  3 %\n",
            "\n",
            "Community:  2\n",
            "China:  17 %\n",
            "USA:  81 %\n",
            "China&USA:  1 %\n",
            "\n",
            "Community:  3\n",
            "China:  40 %\n",
            "USA:  60 %\n",
            "China&USA:  0 %\n",
            "\n",
            "Community:  4\n",
            "China:  12 %\n",
            "USA:  82 %\n",
            "China&USA:  6 %\n",
            "\n",
            "Community:  5\n",
            "China:  15 %\n",
            "USA:  77 %\n",
            "China&USA:  8 %\n",
            "\n",
            "Community:  6\n",
            "China:  55 %\n",
            "USA:  45 %\n",
            "China&USA:  0 %\n",
            "\n",
            "Community:  7\n",
            "China:  43 %\n",
            "USA:  57 %\n",
            "China&USA:  0 %\n",
            "\n",
            "Community:  8\n",
            "China:  0 %\n",
            "USA:  100 %\n",
            "China&USA:  0 %\n",
            "\n"
          ]
        }
      ]
    },
    {
      "cell_type": "markdown",
      "source": [
        "### Louvain Community Detection\n",
        "Find the best partition of a graph using the Louvain Community Detection Algorithm."
      ],
      "metadata": {
        "id": "40-UY25Yy7XM"
      }
    },
    {
      "cell_type": "code",
      "source": [
        "# communities_louvain = community.louvain.louvain_communities(G)\n",
        "# partitions_louvain = community.louvain.louvain_partitions(G)\n",
        "\n",
        "community_louv = community_louvain.best_partition(G,weight='weight')\n",
        "\n",
        "# modularity_louvain = community.modularity(communities_louvain, G) # ERROR: not a partition\n",
        "# print(\"The modularity Q based on networkx is {}\".format(modularity_louvain))"
      ],
      "metadata": {
        "id": "1IHv9lYPy7XN"
      },
      "execution_count": null,
      "outputs": []
    },
    {
      "cell_type": "code",
      "source": [
        "max = np.max(list(community_louv.values()))\n",
        "community_louvain_list = []\n",
        "for i in range(max+1):\n",
        "  community_louvain_list.append([])\n",
        "for key in list(community_louv.keys()):\n",
        "  community_louvain_list[community_louv[key]].append(key)\n",
        "for i in range(max+1):\n",
        "  print(community_louvain_list[i])"
      ],
      "metadata": {
        "colab": {
          "base_uri": "https://localhost:8080/"
        },
        "outputId": "23010943-8f5c-4edf-ff86-0f3d9e2a2fea",
        "id": "W-3bELz6y7XN"
      },
      "execution_count": null,
      "outputs": [
        {
          "output_type": "stream",
          "name": "stdout",
          "text": [
            "['find', 'expert', 'top', 'risk', 'shot', 'give', 'drug', 'germany', 'side', 'confirm', 'recommend', 'review', 'blood', 'clot', 'link', 'rare', 'medicine', 'agency', 'possible', 'due', 'effect', 'brain', 'committee', 'benefit', 'johnson', 'single', 'six', 'investigate', 'decide', 'next', 'woman', 'federal', 'regulator', 'disorder', 'problem', 'cause', 'soon', 'pause', 'outweigh', 'infectious', 'decision']\n",
            "['one', 'people', 'first', 'time', 'receive', 'least', 'dose', 'adult', 'population', 'get', 'vaccinate', 'announce', 'jab', 'extra', 'take', 'make', 'vaccination', 'office', 'mass', 'site', 'become', 'half', 'president', 'drive', 'detect', 'university', 'require', 'student', 'young', 'joe', 'eligible', 'effort', 'way', 'campaign', 'mask', 'back', 'goal', 'fully', 'among', 'free', 'come', 'target', 'fall', 'person', 'card']\n",
            "['covid', 'third', 'wave', 'low', 'pandemic', 'pass', 'bring', 'could', 'response', 'black', 'america', 'lose', 'child', 'close', 'like', 'claim', 'lift', 'restriction', 'business', 'head', 'life', 'team', 'care', 'amid', 'france', 'die', 'full', 'talk', 'school', 'increase', 'join', 'group', 'rate', 'leader', 'return', 'gathering', 'warn', 'large', 'leave', 'tokyo', 'question', 'asian', 'community', 'fight', 'impact', 'place', 'test', 'positive', 'long', 'patient', 'seek', 'capital', 'several', 'thousand', 'part', 'impose', 'spread', 'despite', 'pressure', 'ahead', 'quarter', 'border', 'general', 'reopen', 'recent', 'area', 'help', 'register', 'facebook', 'open', 'california', 'work', 'event', 'hold', 'special', 'hard', 'antibody', 'family', 'visit', 'ease', 'thailand', 'allow', 'game', 'without', 'crowd', 'much', 'share', 'major', 'economy', 'big', 'hospital', 'recover', 'push', 'double', 'social', 'strong', 'look', 'travel', 'behind', 'today', 'right', 'crisis', 'chile', 'chief', 'resident', 'lead', 'affect', 'worker', 'include', 'almost', 'seven', 'move', 'fresh', 'region', 'struggle', 'medium', 'easter', 'rule', 'hope', 'longer', 'fear', 'system', 'french', 'symptom', 'release', 'curb', 'intensive', 'add', 'anti', 'think', 'four', 'experience', 'ever', 'well', 'russia', 'animal', 'japan', 'measure', 'home', 'remain', 'pay', 'doctor', 'another', 'launch', 'service', 'step', 'urge', 'research', 'house', 'spring', 'food', 'potential', 'early', 'reason', 'white', 'former', 'trump', 'yet', 'misinformation', 'raise', 'issue', 'begin', 'member', 'extend', 'less', 'relief', 'administration', 'human', 'grow', 'break', 'beach', 'fourth', 'executive', 'massive', 'worry', 'scientist', 'challenge', 'change', 'outbreak', 'great', 'speak', 'live', 'demand', 'drop', 'track', 'line', 'story', 'street', 'air', 'suffer', 'put', 'researcher', 'write', 'war', 'race', 'fauci', 'forward']\n",
            "['death', 'toll', 'surpass', 'mark', 'rise', 'new', 'virus', 'brazil', 'number', 'report', 'coronavirus', 'case', 'month', 'record', 'daily', 'high', 'surge', 'variant', 'year', 'last', 'hit', 'hour', 'bad', 'day', 'accord', 'total', 'set', 'see', 'state', 'city', 'week', 'infection', 'two', 'average', 'every', 'india', 'spike', 'three', 'since', 'michigan', 'study', 'province', 'five', 'overseas', 'old', 'nearly', 'united', 'strain', 'york', 'local', 'yunnan', 'origin', 'decline', 'update', 'coverage']\n",
            "['say', 'disease', 'even', 'data', 'would', 'result', 'africa', 'hospitalization', 'control', 'british', 'show', 'south', 'base', 'director', 'center', 'prevention', 'need', 'clinical', 'trial', 'win', 'medical', 'may', 'still', 'effective', 'safe', 'level', 'efficacy', 'within', 'information', 'prevent', 'symptomatic', 'illness', 'severe', 'likely', 'know', 'korea', 'exclusive', 'investigation', 'analysis', 'want', 'meet', 'breaking', 'source', 'must']\n",
            "['country', 'health', 'world', 'second', 'ministry', 'million', 'national', 'vaccine', 'nation', 'dos', 'government', 'far', 'administer', 'passport', 'ban', 'continue', 'around', 'develop', 'public', 'many', 'support', 'reach', 'use', 'authority', 'follow', 'approve', 'inoculation', 'age', 'organization', 'concern', 'across', 'china', 'march', 'official', 'end', 'donate', 'inoculate', 'batch', 'arrive', 'hop', 'roll', 'prime', 'minister', 'news', 'face', 'governor', 'ask', 'limit', 'late', 'foreign', 'shipment', 'boost', 'immunization', 'company', 'order', 'billion', 'emergency', 'authorization', 'institute', 'expect', 'agree', 'african', 'supply', 'start', 'keep', 'safety', 'produce', 'delay', 'consider', 'commission', 'call', 'sign', 'plant', 'senior', 'slow', 'production', 'provide', 'maker', 'also', 'similar', 'deliver', 'military', 'approval', 'cite', 'threaten', 'offer', 'hong', 'good', 'expand', 'resume', 'stop', 'union', 'export', 'access', 'suspend', 'deal', 'canada', 'send', 'plan', 'protect', 'program', 'block', 'small', 'contract', 'whether', 'australia', 'tell', 'protection', 'wait', 'delivery', 'ship']\n",
            "['global', 'watch', 'fund', 'economic', 'international', 'growth', 'forecast']\n"
          ]
        }
      ]
    },
    {
      "cell_type": "code",
      "source": [
        "threshold = 0.00001\n",
        "for i in range(len(community_louvain_list)):\n",
        "  sum_China, sum_USA, sum_China_USA = community_check(community_louvain_list[i], freq_dict_China, freq_dict_USA, G_China, G_USA, threshold)\n",
        "  print('Community: ', i)\n",
        "  print('China: ', round(100 * sum_China / len(community_louvain_list[i])),'%')\n",
        "  print('USA: ', round(100 * sum_USA / len(community_louvain_list[i])),'%')\n",
        "  print('China&USA: ', round(100 * sum_China_USA / len(community_louvain_list[i])),'%')\n",
        "  print()"
      ],
      "metadata": {
        "colab": {
          "base_uri": "https://localhost:8080/"
        },
        "outputId": "fc505a0c-1b8f-4dbd-b742-d2044f958eb2",
        "id": "rI-mhoy4y7XN"
      },
      "execution_count": null,
      "outputs": [
        {
          "output_type": "stream",
          "name": "stdout",
          "text": [
            "Community:  0\n",
            "China:  12 %\n",
            "USA:  85 %\n",
            "China&USA:  2 %\n",
            "\n",
            "Community:  1\n",
            "China:  31 %\n",
            "USA:  67 %\n",
            "China&USA:  0 %\n",
            "\n",
            "Community:  2\n",
            "China:  29 %\n",
            "USA:  62 %\n",
            "China&USA:  8 %\n",
            "\n",
            "Community:  3\n",
            "China:  58 %\n",
            "USA:  42 %\n",
            "China&USA:  0 %\n",
            "\n",
            "Community:  4\n",
            "China:  27 %\n",
            "USA:  73 %\n",
            "China&USA:  0 %\n",
            "\n",
            "Community:  5\n",
            "China:  43 %\n",
            "USA:  53 %\n",
            "China&USA:  4 %\n",
            "\n",
            "Community:  6\n",
            "China:  43 %\n",
            "USA:  57 %\n",
            "China&USA:  0 %\n",
            "\n"
          ]
        }
      ]
    }
  ]
}