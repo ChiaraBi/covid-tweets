{
  "nbformat": 4,
  "nbformat_minor": 0,
  "metadata": {
    "colab": {
      "name": "community_detection.ipynb",
      "provenance": []
    },
    "kernelspec": {
      "name": "python3",
      "display_name": "Python 3"
    },
    "language_info": {
      "name": "python"
    },
    "accelerator": "GPU"
  },
  "cells": [
    {
      "cell_type": "markdown",
      "source": [
        "# Community detection"
      ],
      "metadata": {
        "id": "8JsOn3xOMKIp"
      }
    },
    {
      "cell_type": "code",
      "source": [
        "!pip install python-louvain\n",
        "!pip install scikit-network"
      ],
      "metadata": {
        "id": "2T4rXWMMOEJj"
      },
      "execution_count": null,
      "outputs": []
    },
    {
      "cell_type": "code",
      "source": [
        "from community import community_louvain\n",
        "import itertools\n",
        "import networkx as nx\n",
        "from networkx import edge_betweenness_centrality as betweenness\n",
        "from networkx.algorithms import community\n",
        "import numpy as np\n",
        "from operator import itemgetter\n",
        "import pandas as pd\n",
        "import re"
      ],
      "metadata": {
        "id": "vCg2CDL6uuuB"
      },
      "execution_count": 1,
      "outputs": []
    },
    {
      "cell_type": "code",
      "source": [
        "def network_from_edges(edges):\n",
        "  dict_edges = {}\n",
        "  for ind in range(len(edges)):\n",
        "    if edges.iloc[ind,2] > 10:\n",
        "      dict_edges[(edges.iloc[ind,0], edges.iloc[ind,1])] = edges.iloc[ind,2]\n",
        "  net = pd.DataFrame.from_dict(dict_edges,orient='index')\n",
        "  net.columns = [\"weight\"]\n",
        "  net.sort_values(by=\"weight\",inplace=True, ascending=False)\n",
        "  return dict_edges, net\n",
        "\n",
        "\n",
        "def get_graph(network):\n",
        "  G = nx.Graph()\n",
        "  for edge in network:\n",
        "      #we can filter edges by weight by uncommenting the next line and setting desired weight threshold\n",
        "      G.add_edge(edge[0], edge[1], weight=network[edge])\n",
        "  \n",
        "  #G.add_weighted_edges_from(up_weighted, weight='weight')\n",
        "  return G\n",
        "\n",
        "\n",
        "def extract_text(df):       #extract the text from the tweets and RT\n",
        "                            #works ONLY on .csv file\n",
        "  list_strings = []\n",
        "  for index in range(len(df)):\n",
        "    text = df.loc[index]['text']                          #if it is nor trucated nor a RT  i take \"text\"\n",
        "    string = -1\n",
        "    if (df.loc[index,\"truncated\"] == True):                 #if it is trucated I take \"extended_tweet\"\n",
        "        string = df.loc[index,\"extended_tweet\"]\n",
        "    if type(df.loc[index,\"retweeted_status\"]) != float:     #if it is a RT I take retweeted_status\n",
        "        string = df.loc[index,\"retweeted_status\"]\n",
        "    if type(string) == str :\n",
        "        if(re.search('full_text\\':(.+?)https',string) != None):     #if I find \"full_text\"\n",
        "          s = re.search('full_text\\':(.+?)https',string).group(1)\n",
        "        if(re.search('text\\':(.+?)https',string)!= None):\n",
        "          s = re.search('text\\':(.+?)https',string).group(1)\n",
        "        else: \n",
        "          continue\n",
        "        list_strings.append(s)\n",
        "    else:\n",
        "      list_strings.append(text)\n",
        "\n",
        "  return list_strings\n",
        "\n",
        "\n",
        "def frequency_dictionary(df):\n",
        "  unique_words = {}\n",
        "\n",
        "  for row in df:\n",
        "    for word in row.split():\n",
        "      #if the word is encountered for the first time add to dict as key and set its value to 0\n",
        "      unique_words.setdefault(word,0)\n",
        "      #increase the value (i.e the count) of the word by 1 every time it is encountered\n",
        "      unique_words[word] += 1\n",
        "\n",
        "  return unique_words\n",
        "\n",
        "\n",
        "def adj_matrix(node_list, edge_list):   \n",
        "\n",
        "  words = sorted(list(node_list['Id']))\n",
        "\n",
        "  A = pd.DataFrame(np.zeros((len(words),len(words))), columns = words, index = words)\n",
        "  print('A shape: ', A.shape)\n",
        "  for row in range(len(edge_list)):\n",
        "    if row%1000==0:\n",
        "      print(str(round(row/1000)) + '/' + str(round(len(edge_list)/1000)))\n",
        "    word1 = edge_list.iloc[row, 0]\n",
        "    word2 = edge_list.iloc[row, 1]\n",
        "    weight = edge_list.iloc[row, 2]\n",
        "    A[word1, word2] = weight\n",
        "    A[word2, word1] = weight\n",
        "  print('A shape: ', A.shape)\n",
        "  return A"
      ],
      "metadata": {
        "id": "6M8qjj00Pki1"
      },
      "execution_count": 2,
      "outputs": []
    },
    {
      "cell_type": "code",
      "source": [
        "def community_check(community, dict_1, dict_2, G_1, G_2, thr):\n",
        "  sum_1 = 0\n",
        "  sum_2 = 0\n",
        "  sum_12 = 0\n",
        "  for key in community:\n",
        "    if (key in list(dict_1.keys())) and (key in list(dict_2.keys())):\n",
        "      if dict_1[key] / sum(list(dict_1.values())) - dict_2[key] / sum(list(dict_2.values())) > thr:\n",
        "        sum_1 += 1\n",
        "      elif dict_1[key] / sum(list(dict_1.values())) - dict_2[key] / sum(list(dict_2.values())) < -thr:\n",
        "        sum_2 += 1  \n",
        "      else:\n",
        "        sum_12 += 1 \n",
        "    elif key in list(G_1.nodes()):\n",
        "      sum_1 += 1\n",
        "    elif key in list(G_2.nodes()):\n",
        "      sum_2 += 1\n",
        "  return sum_1, sum_2, sum_12"
      ],
      "metadata": {
        "id": "TKPfRtcagPT0"
      },
      "execution_count": 3,
      "outputs": []
    },
    {
      "cell_type": "code",
      "source": [
        "# Functions for measuring the quality of a partition (into communities).\n",
        "\n",
        "def compute_metrics(G, partition):\n",
        "\n",
        "  # Returns the coverage of a partition.\n",
        "  coverage = community.coverage(G, partition)\n",
        "\n",
        "  # Returns the coverage and performance of a partition of G.\n",
        "  quality = community.partition_quality(G, partition)\n",
        "\n",
        "  performance = community.performance(G, partition)\n",
        "\n",
        "  # Returns the modularity of the given partition of the graph.\n",
        "  modularity = community.modularity(G, partition)\n",
        "\n",
        "  print(\"Coverage: \", coverage)\n",
        "  # print(\"Quality: \", quality) # Coverage and performance\n",
        "  print(\"Performance: \", performance)\n",
        "  print(\"Modularity: \", modularity)\n",
        "\n",
        "  return coverage, quality, performance, modularity\n"
      ],
      "metadata": {
        "id": "POLncCkKj-4y"
      },
      "execution_count": 115,
      "outputs": []
    },
    {
      "cell_type": "markdown",
      "source": [
        "# PageRank Networks"
      ],
      "metadata": {
        "id": "7SQYN2uFpug-"
      }
    },
    {
      "cell_type": "markdown",
      "source": [
        "## All periods"
      ],
      "metadata": {
        "id": "HFpJ40-hpztP"
      }
    },
    {
      "cell_type": "code",
      "source": [
        "period = ''\n",
        "China = pd.read_csv('/content/China'+period+'.csv')\n",
        "USA = pd.read_csv('/content/USA'+period+'.csv')\n",
        "\n",
        "edges = pd.read_csv('/content/edgelist_China_USA'+period+'.csv')\n",
        "edges_China = pd.read_csv('/content/edgelist_China'+period+'.csv')\n",
        "edges_USA = pd.read_csv('/content/edgelist_USA'+period+'.csv')\n",
        "\n",
        "nodes = pd.read_csv('/content/nodelist_China_USA'+period+'.csv')\n",
        "\n",
        "text_China = extract_text(China)\n",
        "text_USA = extract_text(USA)\n",
        "\n",
        "freq_dict_China = frequency_dictionary(text_China)\n",
        "freq_dict_China = dict(sorted(freq_dict_China.items(), key=lambda item: item[1], reverse = True))   #order from more frequent to less frequent word\n",
        "\n",
        "freq_dict_USA = frequency_dictionary(text_USA)\n",
        "freq_dict_USA = dict(sorted(freq_dict_USA.items(), key=lambda item: item[1], reverse = True))   #order from more frequent to less frequent word\n",
        "\n",
        "net, net_df = network_from_edges(edges)\n",
        "net_China, net_df_China = network_from_edges(edges_China)\n",
        "net_USA, net_df_USA = network_from_edges(edges_USA)\n",
        "\n",
        "G = get_graph(net)\n",
        "G_China = get_graph(net_China)\n",
        "G_USA = get_graph(net_USA)"
      ],
      "metadata": {
        "id": "pcxvUc4GqAJt"
      },
      "execution_count": 150,
      "outputs": []
    },
    {
      "cell_type": "code",
      "source": [
        "print('China&USA:')\n",
        "print('Nodes: ',len(G.nodes()))\n",
        "print('Edges: ',len(G.edges()))\n",
        "print('Is connected: ',nx.is_connected(G))\n",
        "print()\n",
        "\n",
        "print('China:')\n",
        "print('Nodes: ',len(G_China.nodes()))\n",
        "print('Edges: ',len(G_China.edges()))\n",
        "print('Is connected: ',nx.is_connected(G_China))\n",
        "print()\n",
        "print('USA:')\n",
        "print('Nodes: ',len(G_USA.nodes()))\n",
        "print('Edges: ',len(G_USA.edges()))\n",
        "print('Is connected: ',nx.is_connected(G_USA))\n",
        "print()"
      ],
      "metadata": {
        "id": "4vfxekxfTL17",
        "outputId": "11bf39a8-8bd1-4aa6-c779-1eb34f4cafe9",
        "colab": {
          "base_uri": "https://localhost:8080/"
        }
      },
      "execution_count": 151,
      "outputs": [
        {
          "output_type": "stream",
          "name": "stdout",
          "text": [
            "China&USA:\n",
            "Nodes:  509\n",
            "Edges:  11982\n",
            "Is connected:  True\n",
            "\n",
            "China:\n",
            "Nodes:  445\n",
            "Edges:  3042\n",
            "Is connected:  False\n",
            "\n",
            "USA:\n",
            "Nodes:  522\n",
            "Edges:  8973\n",
            "Is connected:  True\n",
            "\n"
          ]
        }
      ]
    },
    {
      "cell_type": "markdown",
      "source": [
        "### Girvan_Newman"
      ],
      "metadata": {
        "id": "gHJ0H0vjVxe0"
      }
    },
    {
      "cell_type": "code",
      "source": [
        "community_gn = community.girvan_newman(G,)\n",
        "for c_list in community_gn:\n",
        "  tuple(print(sorted(c)) for c in c_list)"
      ],
      "metadata": {
        "colab": {
          "base_uri": "https://localhost:8080/",
          "height": 418
        },
        "id": "m1LKLdh2MM2b",
        "outputId": "24faa38d-1e5f-4ccb-86a1-de6fc56ef62f"
      },
      "execution_count": 7,
      "outputs": [
        {
          "output_type": "stream",
          "name": "stdout",
          "text": [
            "['accord', 'across', 'add', 'administer', 'administration', 'adult', 'adviser', 'affect', 'africa', 'age', 'agency', 'ahead', 'aid', 'air', 'allow', 'almost', 'already', 'also', 'america', 'amid', 'among', 'analysis', 'announce', 'another', 'antibody', 'appear', 'approve', 'area', 'around', 'arrive', 'asian', 'ask', 'australia', 'authority', 'avoid', 'back', 'bad', 'ban', 'bank', 'base', 'batch', 'battle', 'become', 'begin', 'behind', 'beijing', 'benefit', 'big', 'bill', 'billion', 'blood', 'boost', 'brazil', 'break', 'breaking', 'bring', 'british', 'build', 'business', 'california', 'call', 'campaign', 'canada', 'cancel', 'candidate', 'capital', 'care', 'case', 'catch', 'cause', 'center', 'central', 'challenge', 'change', 'chief', 'child', 'china', 'citizen', 'city', 'claim', 'clinical', 'close', 'clot', 'combat', 'come', 'commission', 'committee', 'community', 'company', 'concern', 'condition', 'confidence', 'confirm', 'confirmed', 'contact', 'contain', 'continue', 'contract', 'control', 'coronavirus', 'could', 'country', 'court', 'covid', 'crisis', 'critical', 'cruise', 'curb', 'daily', 'data', 'day', 'deadly', 'deal', 'death', 'debate', 'declare', 'decline', 'delay', 'deliver', 'demand', 'democratic', 'department', 'despite', 'develop', 'development', 'diagnose', 'diagnosis', 'die', 'director', 'discharge', 'disease', 'doctor', 'donate', 'dos', 'dose', 'drive', 'drop', 'drug', 'due', 'early', 'ease', 'economic', 'economy', 'effect', 'effective', 'effort', 'election', 'emergency', 'employee', 'end', 'epicenter', 'epidemic', 'evacuate', 'even', 'event', 'exclusive', 'expect', 'experience', 'experimental', 'expert', 'export', 'express', 'extend', 'face', 'facility', 'fall', 'family', 'far', 'fauci', 'fear', 'federal', 'fight', 'financial', 'find', 'first', 'five', 'flight', 'flu', 'follow', 'food', 'force', 'foreign', 'former', 'four', 'france', 'free', 'french', 'full', 'fund', 'game', 'general', 'germany', 'get', 'give', 'global', 'good', 'government', 'governor', 'great', 'group', 'grow', 'growth', 'half', 'hand', 'hard', 'head', 'health', 'help', 'high', 'hit', 'hold', 'holiday', 'home', 'hong', 'hope', 'hospital', 'hour', 'house', 'hubei', 'human', 'hundred', 'illness', 'impact', 'include', 'increase', 'india', 'industry', 'infect', 'infection', 'infectious', 'institute', 'international', 'issue', 'italy', 'japan', 'job', 'joe', 'johnson', 'join', 'keep', 'kill', 'know', 'korea', 'lady', 'large', 'last', 'late', 'launch', 'lead', 'leader', 'least', 'leave', 'less', 'level', 'life', 'like', 'likely', 'limit', 'line', 'link', 'live', 'local', 'long', 'look', 'lose', 'loss', 'low', 'major', 'make', 'maker', 'man', 'many', 'march', 'mark', 'market', 'mask', 'may', 'measure', 'medical', 'medicine', 'medium', 'meet', 'member', 'mike', 'military', 'million', 'minister', 'ministry', 'month', 'move', 'much', 'nation', 'national', 'nearly', 'need', 'negative', 'new', 'news', 'next', 'night', 'nominee', 'north', 'novel', 'number', 'offer', 'office', 'official', 'old', 'one', 'open', 'order', 'organization', 'outbreak', 'outside', 'pandemic', 'part', 'pass', 'passenger', 'past', 'patient', 'pause', 'penny', 'people', 'person', 'place', 'plan', 'pneumonia', 'poll', 'population', 'positive', 'possible', 'post', 'potential', 'president', 'presidential', 'press', 'prevent', 'prevention', 'prime', 'problem', 'produce', 'production', 'protect', 'provide', 'province', 'public', 'push', 'put', 'quarantine', 'question', 'race', 'raise', 'rally', 'rare', 'rate', 'reach', 'read', 'receive', 'recent', 'record', 'recover', 'recovery', 'region', 'regulator', 'release', 'relief', 'remain', 'reopen', 'report', 'republican', 'research', 'researcher', 'resident', 'response', 'restaurant', 'restriction', 'result', 'return', 'right', 'rise', 'risk', 'rule', 'russia', 'safe', 'safety', 'sale', 'say', 'school', 'scientist', 'season', 'second', 'secretary', 'see', 'seek', 'send', 'senior', 'service', 'set', 'seven', 'several', 'severe', 'share', 'ship', 'shot', 'show', 'shut', 'side', 'sign', 'since', 'single', 'six', 'slow', 'small', 'social', 'soon', 'source', 'south', 'special', 'spike', 'spread', 'staff', 'stage', 'stand', 'start', 'state', 'statement', 'stay', 'step', 'still', 'stock', 'stop', 'story', 'street', 'strong', 'struggle', 'student', 'study', 'supply', 'support', 'surge', 'surpass', 'suspend', 'symptom', 'system', 'take', 'talk', 'team', 'tell', 'term', 'test', 'think', 'third', 'thousand', 'three', 'time', 'today', 'toll', 'top', 'total', 'track', 'transmission', 'travel', 'treat', 'treatment', 'trial', 'trump', 'try', 'turn', 'two', 'united', 'university', 'update', 'urge', 'use', 'vaccinate', 'vaccination', 'vaccine', 'variant', 'vice', 'video', 'virus', 'visit', 'volunteer', 'vote', 'want', 'war', 'warn', 'watch', 'wave', 'way', 'wear', 'week', 'well', 'whether', 'white', 'win', 'within', 'without', 'woman', 'work', 'worker', 'world', 'worry', 'would', 'year', 'yet', 'york', 'young']\n",
            "['party']\n"
          ]
        },
        {
          "output_type": "error",
          "ename": "KeyboardInterrupt",
          "evalue": "ignored",
          "traceback": [
            "\u001b[0;31m---------------------------------------------------------------------------\u001b[0m",
            "\u001b[0;31mKeyboardInterrupt\u001b[0m                         Traceback (most recent call last)",
            "\u001b[0;32m<ipython-input-7-7ab4995d3cbf>\u001b[0m in \u001b[0;36m<module>\u001b[0;34m()\u001b[0m\n\u001b[1;32m      1\u001b[0m \u001b[0mcommunity_gn\u001b[0m \u001b[0;34m=\u001b[0m \u001b[0mcommunity\u001b[0m\u001b[0;34m.\u001b[0m\u001b[0mgirvan_newman\u001b[0m\u001b[0;34m(\u001b[0m\u001b[0mG\u001b[0m\u001b[0;34m,\u001b[0m\u001b[0;34m)\u001b[0m\u001b[0;34m\u001b[0m\u001b[0;34m\u001b[0m\u001b[0m\n\u001b[0;32m----> 2\u001b[0;31m \u001b[0;32mfor\u001b[0m \u001b[0mc_list\u001b[0m \u001b[0;32min\u001b[0m \u001b[0mcommunity_gn\u001b[0m\u001b[0;34m:\u001b[0m\u001b[0;34m\u001b[0m\u001b[0;34m\u001b[0m\u001b[0m\n\u001b[0m\u001b[1;32m      3\u001b[0m   \u001b[0mtuple\u001b[0m\u001b[0;34m(\u001b[0m\u001b[0mprint\u001b[0m\u001b[0;34m(\u001b[0m\u001b[0msorted\u001b[0m\u001b[0;34m(\u001b[0m\u001b[0mc\u001b[0m\u001b[0;34m)\u001b[0m\u001b[0;34m)\u001b[0m \u001b[0;32mfor\u001b[0m \u001b[0mc\u001b[0m \u001b[0;32min\u001b[0m \u001b[0mc_list\u001b[0m\u001b[0;34m)\u001b[0m\u001b[0;34m\u001b[0m\u001b[0;34m\u001b[0m\u001b[0m\n",
            "\u001b[0;32m/usr/local/lib/python3.7/dist-packages/networkx/algorithms/community/centrality.py\u001b[0m in \u001b[0;36mgirvan_newman\u001b[0;34m(G, most_valuable_edge)\u001b[0m\n\u001b[1;32m    145\u001b[0m     \u001b[0mg\u001b[0m\u001b[0;34m.\u001b[0m\u001b[0mremove_edges_from\u001b[0m\u001b[0;34m(\u001b[0m\u001b[0mnx\u001b[0m\u001b[0;34m.\u001b[0m\u001b[0mselfloop_edges\u001b[0m\u001b[0;34m(\u001b[0m\u001b[0mg\u001b[0m\u001b[0;34m)\u001b[0m\u001b[0;34m)\u001b[0m\u001b[0;34m\u001b[0m\u001b[0;34m\u001b[0m\u001b[0m\n\u001b[1;32m    146\u001b[0m     \u001b[0;32mwhile\u001b[0m \u001b[0mg\u001b[0m\u001b[0;34m.\u001b[0m\u001b[0mnumber_of_edges\u001b[0m\u001b[0;34m(\u001b[0m\u001b[0;34m)\u001b[0m \u001b[0;34m>\u001b[0m \u001b[0;36m0\u001b[0m\u001b[0;34m:\u001b[0m\u001b[0;34m\u001b[0m\u001b[0;34m\u001b[0m\u001b[0m\n\u001b[0;32m--> 147\u001b[0;31m         \u001b[0;32myield\u001b[0m \u001b[0m_without_most_central_edges\u001b[0m\u001b[0;34m(\u001b[0m\u001b[0mg\u001b[0m\u001b[0;34m,\u001b[0m \u001b[0mmost_valuable_edge\u001b[0m\u001b[0;34m)\u001b[0m\u001b[0;34m\u001b[0m\u001b[0;34m\u001b[0m\u001b[0m\n\u001b[0m\u001b[1;32m    148\u001b[0m \u001b[0;34m\u001b[0m\u001b[0m\n\u001b[1;32m    149\u001b[0m \u001b[0;34m\u001b[0m\u001b[0m\n",
            "\u001b[0;32m/usr/local/lib/python3.7/dist-packages/networkx/algorithms/community/centrality.py\u001b[0m in \u001b[0;36m_without_most_central_edges\u001b[0;34m(G, most_valuable_edge)\u001b[0m\n\u001b[1;32m    164\u001b[0m     \u001b[0mnum_new_components\u001b[0m \u001b[0;34m=\u001b[0m \u001b[0moriginal_num_components\u001b[0m\u001b[0;34m\u001b[0m\u001b[0;34m\u001b[0m\u001b[0m\n\u001b[1;32m    165\u001b[0m     \u001b[0;32mwhile\u001b[0m \u001b[0mnum_new_components\u001b[0m \u001b[0;34m<=\u001b[0m \u001b[0moriginal_num_components\u001b[0m\u001b[0;34m:\u001b[0m\u001b[0;34m\u001b[0m\u001b[0;34m\u001b[0m\u001b[0m\n\u001b[0;32m--> 166\u001b[0;31m         \u001b[0medge\u001b[0m \u001b[0;34m=\u001b[0m \u001b[0mmost_valuable_edge\u001b[0m\u001b[0;34m(\u001b[0m\u001b[0mG\u001b[0m\u001b[0;34m)\u001b[0m\u001b[0;34m\u001b[0m\u001b[0;34m\u001b[0m\u001b[0m\n\u001b[0m\u001b[1;32m    167\u001b[0m         \u001b[0mG\u001b[0m\u001b[0;34m.\u001b[0m\u001b[0mremove_edge\u001b[0m\u001b[0;34m(\u001b[0m\u001b[0;34m*\u001b[0m\u001b[0medge\u001b[0m\u001b[0;34m)\u001b[0m\u001b[0;34m\u001b[0m\u001b[0;34m\u001b[0m\u001b[0m\n\u001b[1;32m    168\u001b[0m         \u001b[0mnew_components\u001b[0m \u001b[0;34m=\u001b[0m \u001b[0mtuple\u001b[0m\u001b[0;34m(\u001b[0m\u001b[0mnx\u001b[0m\u001b[0;34m.\u001b[0m\u001b[0mconnected_components\u001b[0m\u001b[0;34m(\u001b[0m\u001b[0mG\u001b[0m\u001b[0;34m)\u001b[0m\u001b[0;34m)\u001b[0m\u001b[0;34m\u001b[0m\u001b[0;34m\u001b[0m\u001b[0m\n",
            "\u001b[0;32m/usr/local/lib/python3.7/dist-packages/networkx/algorithms/community/centrality.py\u001b[0m in \u001b[0;36mmost_valuable_edge\u001b[0;34m(G)\u001b[0m\n\u001b[1;32m    136\u001b[0m             \u001b[0;31m# We have guaranteed that the graph is non-empty, so this\u001b[0m\u001b[0;34m\u001b[0m\u001b[0;34m\u001b[0m\u001b[0;34m\u001b[0m\u001b[0m\n\u001b[1;32m    137\u001b[0m             \u001b[0;31m# dictionary will never be empty.\u001b[0m\u001b[0;34m\u001b[0m\u001b[0;34m\u001b[0m\u001b[0;34m\u001b[0m\u001b[0m\n\u001b[0;32m--> 138\u001b[0;31m             \u001b[0mbetweenness\u001b[0m \u001b[0;34m=\u001b[0m \u001b[0mnx\u001b[0m\u001b[0;34m.\u001b[0m\u001b[0medge_betweenness_centrality\u001b[0m\u001b[0;34m(\u001b[0m\u001b[0mG\u001b[0m\u001b[0;34m)\u001b[0m\u001b[0;34m\u001b[0m\u001b[0;34m\u001b[0m\u001b[0m\n\u001b[0m\u001b[1;32m    139\u001b[0m             \u001b[0;32mreturn\u001b[0m \u001b[0mmax\u001b[0m\u001b[0;34m(\u001b[0m\u001b[0mbetweenness\u001b[0m\u001b[0;34m,\u001b[0m \u001b[0mkey\u001b[0m\u001b[0;34m=\u001b[0m\u001b[0mbetweenness\u001b[0m\u001b[0;34m.\u001b[0m\u001b[0mget\u001b[0m\u001b[0;34m)\u001b[0m\u001b[0;34m\u001b[0m\u001b[0;34m\u001b[0m\u001b[0m\n\u001b[1;32m    140\u001b[0m \u001b[0;34m\u001b[0m\u001b[0m\n",
            "\u001b[0;32m/usr/local/lib/python3.7/dist-packages/networkx/utils/decorators.py\u001b[0m in \u001b[0;36margmap_edge_betweenness_centrality_9\u001b[0;34m(G, k, normalized, weight, seed)\u001b[0m\n\u001b[1;32m      2\u001b[0m \u001b[0;32mfrom\u001b[0m \u001b[0mos\u001b[0m\u001b[0;34m.\u001b[0m\u001b[0mpath\u001b[0m \u001b[0;32mimport\u001b[0m \u001b[0msplitext\u001b[0m\u001b[0;34m\u001b[0m\u001b[0;34m\u001b[0m\u001b[0m\n\u001b[1;32m      3\u001b[0m \u001b[0;32mfrom\u001b[0m \u001b[0mcontextlib\u001b[0m \u001b[0;32mimport\u001b[0m \u001b[0mcontextmanager\u001b[0m\u001b[0;34m\u001b[0m\u001b[0;34m\u001b[0m\u001b[0m\n\u001b[0;32m----> 4\u001b[0;31m \u001b[0;32mfrom\u001b[0m \u001b[0mpathlib\u001b[0m \u001b[0;32mimport\u001b[0m \u001b[0mPath\u001b[0m\u001b[0;34m\u001b[0m\u001b[0;34m\u001b[0m\u001b[0m\n\u001b[0m\u001b[1;32m      5\u001b[0m \u001b[0;32mimport\u001b[0m \u001b[0mwarnings\u001b[0m\u001b[0;34m\u001b[0m\u001b[0;34m\u001b[0m\u001b[0m\n\u001b[1;32m      6\u001b[0m \u001b[0;34m\u001b[0m\u001b[0m\n",
            "\u001b[0;32m/usr/local/lib/python3.7/dist-packages/networkx/algorithms/centrality/betweenness.py\u001b[0m in \u001b[0;36medge_betweenness_centrality\u001b[0;34m(G, k, normalized, weight, seed)\u001b[0m\n\u001b[1;32m    226\u001b[0m         \u001b[0;31m# single source shortest paths\u001b[0m\u001b[0;34m\u001b[0m\u001b[0;34m\u001b[0m\u001b[0;34m\u001b[0m\u001b[0m\n\u001b[1;32m    227\u001b[0m         \u001b[0;32mif\u001b[0m \u001b[0mweight\u001b[0m \u001b[0;32mis\u001b[0m \u001b[0;32mNone\u001b[0m\u001b[0;34m:\u001b[0m  \u001b[0;31m# use BFS\u001b[0m\u001b[0;34m\u001b[0m\u001b[0;34m\u001b[0m\u001b[0m\n\u001b[0;32m--> 228\u001b[0;31m             \u001b[0mS\u001b[0m\u001b[0;34m,\u001b[0m \u001b[0mP\u001b[0m\u001b[0;34m,\u001b[0m \u001b[0msigma\u001b[0m\u001b[0;34m,\u001b[0m \u001b[0m_\u001b[0m \u001b[0;34m=\u001b[0m \u001b[0m_single_source_shortest_path_basic\u001b[0m\u001b[0;34m(\u001b[0m\u001b[0mG\u001b[0m\u001b[0;34m,\u001b[0m \u001b[0ms\u001b[0m\u001b[0;34m)\u001b[0m\u001b[0;34m\u001b[0m\u001b[0;34m\u001b[0m\u001b[0m\n\u001b[0m\u001b[1;32m    229\u001b[0m         \u001b[0;32melse\u001b[0m\u001b[0;34m:\u001b[0m  \u001b[0;31m# use Dijkstra's algorithm\u001b[0m\u001b[0;34m\u001b[0m\u001b[0;34m\u001b[0m\u001b[0m\n\u001b[1;32m    230\u001b[0m             \u001b[0mS\u001b[0m\u001b[0;34m,\u001b[0m \u001b[0mP\u001b[0m\u001b[0;34m,\u001b[0m \u001b[0msigma\u001b[0m\u001b[0;34m,\u001b[0m \u001b[0m_\u001b[0m \u001b[0;34m=\u001b[0m \u001b[0m_single_source_dijkstra_path_basic\u001b[0m\u001b[0;34m(\u001b[0m\u001b[0mG\u001b[0m\u001b[0;34m,\u001b[0m \u001b[0ms\u001b[0m\u001b[0;34m,\u001b[0m \u001b[0mweight\u001b[0m\u001b[0;34m)\u001b[0m\u001b[0;34m\u001b[0m\u001b[0;34m\u001b[0m\u001b[0m\n",
            "\u001b[0;32m/usr/local/lib/python3.7/dist-packages/networkx/algorithms/centrality/betweenness.py\u001b[0m in \u001b[0;36m_single_source_shortest_path_basic\u001b[0;34m(G, s)\u001b[0m\n\u001b[1;32m    270\u001b[0m                 \u001b[0mQ\u001b[0m\u001b[0;34m.\u001b[0m\u001b[0mappend\u001b[0m\u001b[0;34m(\u001b[0m\u001b[0mw\u001b[0m\u001b[0;34m)\u001b[0m\u001b[0;34m\u001b[0m\u001b[0;34m\u001b[0m\u001b[0m\n\u001b[1;32m    271\u001b[0m                 \u001b[0mD\u001b[0m\u001b[0;34m[\u001b[0m\u001b[0mw\u001b[0m\u001b[0;34m]\u001b[0m \u001b[0;34m=\u001b[0m \u001b[0mDv\u001b[0m \u001b[0;34m+\u001b[0m \u001b[0;36m1\u001b[0m\u001b[0;34m\u001b[0m\u001b[0;34m\u001b[0m\u001b[0m\n\u001b[0;32m--> 272\u001b[0;31m             \u001b[0;32mif\u001b[0m \u001b[0mD\u001b[0m\u001b[0;34m[\u001b[0m\u001b[0mw\u001b[0m\u001b[0;34m]\u001b[0m \u001b[0;34m==\u001b[0m \u001b[0mDv\u001b[0m \u001b[0;34m+\u001b[0m \u001b[0;36m1\u001b[0m\u001b[0;34m:\u001b[0m  \u001b[0;31m# this is a shortest path, count paths\u001b[0m\u001b[0;34m\u001b[0m\u001b[0;34m\u001b[0m\u001b[0m\n\u001b[0m\u001b[1;32m    273\u001b[0m                 \u001b[0msigma\u001b[0m\u001b[0;34m[\u001b[0m\u001b[0mw\u001b[0m\u001b[0;34m]\u001b[0m \u001b[0;34m+=\u001b[0m \u001b[0msigmav\u001b[0m\u001b[0;34m\u001b[0m\u001b[0;34m\u001b[0m\u001b[0m\n\u001b[1;32m    274\u001b[0m                 \u001b[0mP\u001b[0m\u001b[0;34m[\u001b[0m\u001b[0mw\u001b[0m\u001b[0;34m]\u001b[0m\u001b[0;34m.\u001b[0m\u001b[0mappend\u001b[0m\u001b[0;34m(\u001b[0m\u001b[0mv\u001b[0m\u001b[0;34m)\u001b[0m  \u001b[0;31m# predecessors\u001b[0m\u001b[0;34m\u001b[0m\u001b[0;34m\u001b[0m\u001b[0m\n",
            "\u001b[0;31mKeyboardInterrupt\u001b[0m: "
          ]
        }
      ]
    },
    {
      "cell_type": "code",
      "source": [
        "# VERY HEAVY COMPUTATION\n",
        "def most_central_edge(G):\n",
        "  centrality = betweenness(G, weight=\"weight\")\n",
        "  return max(centrality, key=centrality.get)\n",
        "\n",
        "community_gn_centrality = community.girvan_newman(G, most_valuable_edge=most_central_edge)\n",
        "tuple(print(sorted(c)) for c in next(community_gn_centrality))"
      ],
      "metadata": {
        "id": "KDEyXWufIJy3"
      },
      "execution_count": null,
      "outputs": []
    },
    {
      "cell_type": "code",
      "source": [
        "def heaviest(G):\n",
        "  u, v, w = max(G.edges(data=\"weight\"), key=itemgetter(2))\n",
        "  return (u, v)\n",
        "\n",
        "community_gn_heaviest = community.girvan_newman(G, most_valuable_edge=heaviest)\n",
        "tuple(print(sorted(c)) for c in next(community_gn_heaviest))"
      ],
      "metadata": {
        "id": "h6Z3tynfN1xo",
        "colab": {
          "base_uri": "https://localhost:8080/"
        },
        "outputId": "3f4a069f-9201-4a45-ff82-8b4a6122f39e"
      },
      "execution_count": 8,
      "outputs": [
        {
          "output_type": "stream",
          "name": "stdout",
          "text": [
            "['accord', 'across', 'add', 'administer', 'administration', 'adult', 'adviser', 'affect', 'africa', 'age', 'agency', 'ahead', 'aid', 'air', 'allow', 'almost', 'already', 'also', 'america', 'amid', 'among', 'analysis', 'announce', 'another', 'antibody', 'appear', 'approve', 'area', 'around', 'arrive', 'asian', 'ask', 'australia', 'authority', 'avoid', 'back', 'bad', 'ban', 'bank', 'base', 'batch', 'battle', 'become', 'begin', 'behind', 'beijing', 'benefit', 'big', 'bill', 'billion', 'blood', 'boost', 'brazil', 'break', 'breaking', 'bring', 'british', 'build', 'business', 'california', 'call', 'campaign', 'canada', 'cancel', 'candidate', 'capital', 'care', 'case', 'catch', 'cause', 'center', 'central', 'challenge', 'change', 'chief', 'child', 'china', 'citizen', 'city', 'claim', 'clinical', 'close', 'clot', 'combat', 'come', 'commission', 'committee', 'community', 'company', 'concern', 'condition', 'confidence', 'confirm', 'confirmed', 'contact', 'contain', 'continue', 'contract', 'control', 'coronavirus', 'could', 'country', 'court', 'covid', 'crisis', 'critical', 'cruise', 'curb', 'daily', 'data', 'day', 'deadly', 'deal', 'death', 'debate', 'declare', 'decline', 'delay', 'deliver', 'demand', 'democratic', 'department', 'despite', 'develop', 'development', 'diagnose', 'diagnosis', 'die', 'director', 'discharge', 'disease', 'doctor', 'donate', 'dos', 'dose', 'drive', 'drop', 'drug', 'due', 'early', 'ease', 'economic', 'economy', 'effect', 'effective', 'effort', 'election', 'emergency', 'employee', 'end', 'epicenter', 'epidemic', 'evacuate', 'even', 'event', 'exclusive', 'expect', 'experience', 'experimental', 'expert', 'export', 'express', 'extend', 'face', 'facility', 'fall', 'family', 'far', 'fauci', 'fear', 'federal', 'fight', 'financial', 'find', 'first', 'five', 'flight', 'flu', 'follow', 'food', 'force', 'foreign', 'former', 'four', 'france', 'free', 'french', 'full', 'fund', 'game', 'general', 'germany', 'get', 'give', 'global', 'good', 'government', 'governor', 'great', 'group', 'grow', 'growth', 'half', 'hand', 'hard', 'head', 'health', 'help', 'high', 'hit', 'hold', 'holiday', 'home', 'hong', 'hope', 'hospital', 'hour', 'house', 'hubei', 'human', 'hundred', 'illness', 'impact', 'include', 'increase', 'india', 'industry', 'infect', 'infection', 'infectious', 'institute', 'international', 'issue', 'italy', 'japan', 'job', 'joe', 'johnson', 'join', 'keep', 'kill', 'know', 'korea', 'lady', 'large', 'last', 'late', 'launch', 'lead', 'leader', 'least', 'leave', 'less', 'level', 'life', 'like', 'likely', 'limit', 'line', 'link', 'live', 'local', 'long', 'look', 'lose', 'loss', 'low', 'major', 'make', 'maker', 'man', 'many', 'march', 'mark', 'market', 'mask', 'may', 'measure', 'medical', 'medicine', 'medium', 'meet', 'member', 'mike', 'military', 'million', 'minister', 'ministry', 'month', 'move', 'much', 'nation', 'national', 'nearly', 'need', 'negative', 'new', 'news', 'next', 'night', 'nominee', 'north', 'novel', 'number', 'offer', 'office', 'official', 'old', 'one', 'open', 'order', 'organization', 'outbreak', 'outside', 'pandemic', 'part', 'party', 'pass', 'passenger', 'past', 'patient', 'pause', 'penny', 'people', 'person', 'place', 'plan', 'pneumonia', 'poll', 'population', 'positive', 'possible', 'post', 'potential', 'president', 'presidential', 'press', 'prevent', 'prevention', 'prime', 'problem', 'produce', 'production', 'protect', 'provide', 'province', 'public', 'push', 'put', 'quarantine', 'question', 'race', 'raise', 'rally', 'rare', 'rate', 'reach', 'read', 'receive', 'recent', 'record', 'recover', 'recovery', 'region', 'regulator', 'release', 'relief', 'remain', 'reopen', 'report', 'republican', 'research', 'researcher', 'resident', 'response', 'restaurant', 'restriction', 'result', 'return', 'right', 'rise', 'risk', 'rule', 'russia', 'safe', 'safety', 'sale', 'say', 'school', 'scientist', 'second', 'secretary', 'see', 'seek', 'send', 'senior', 'service', 'set', 'seven', 'several', 'severe', 'share', 'ship', 'shot', 'show', 'shut', 'side', 'sign', 'since', 'single', 'six', 'slow', 'small', 'social', 'soon', 'source', 'south', 'special', 'spike', 'spread', 'staff', 'stage', 'stand', 'start', 'state', 'statement', 'stay', 'step', 'still', 'stock', 'stop', 'story', 'street', 'strong', 'struggle', 'student', 'study', 'supply', 'support', 'surge', 'surpass', 'suspend', 'symptom', 'system', 'take', 'talk', 'team', 'tell', 'term', 'test', 'think', 'third', 'thousand', 'three', 'time', 'today', 'toll', 'top', 'total', 'track', 'transmission', 'travel', 'treat', 'treatment', 'trial', 'trump', 'try', 'turn', 'two', 'united', 'university', 'update', 'urge', 'use', 'vaccinate', 'vaccination', 'vaccine', 'variant', 'vice', 'video', 'virus', 'visit', 'volunteer', 'vote', 'want', 'war', 'warn', 'watch', 'wave', 'way', 'wear', 'week', 'well', 'whether', 'white', 'win', 'within', 'without', 'woman', 'work', 'worker', 'world', 'worry', 'would', 'year', 'yet', 'york', 'young']\n",
            "['season']\n"
          ]
        },
        {
          "output_type": "execute_result",
          "data": {
            "text/plain": [
              "(None, None)"
            ]
          },
          "metadata": {},
          "execution_count": 8
        }
      ]
    },
    {
      "cell_type": "markdown",
      "source": [
        "### Bipartition\n",
        "Partition a graph into two blocks using the Kernighan–Lin algorithm."
      ],
      "metadata": {
        "id": "4Cf7GVQOpRqn"
      }
    },
    {
      "cell_type": "code",
      "source": [
        "community_bipart = community.kernighan_lin_bisection(G,weight='weight')"
      ],
      "metadata": {
        "id": "VQaI3Lw9YV0a"
      },
      "execution_count": 152,
      "outputs": []
    },
    {
      "cell_type": "code",
      "source": [
        "print(community_bipart[0])\n",
        "print(community_bipart[1])"
      ],
      "metadata": {
        "colab": {
          "base_uri": "https://localhost:8080/"
        },
        "id": "SIkZiLNbEgCM",
        "outputId": "e978d137-a393-4702-8524-9a89a453ab9c"
      },
      "execution_count": 153,
      "outputs": [
        {
          "output_type": "stream",
          "name": "stdout",
          "text": [
            "{'stage', 'approve', 'committee', 'korea', 'add', 'express', 'beijing', 'today', 'declare', 'special', 'strong', 'launch', 'population', 'adviser', 'service', 'facility', 'rule', 'federal', 'north', 'family', 'sale', 'share', 'arrive', 'whether', 'keep', 'pass', 'experimental', 'fall', 'loss', 'human', 'democratic', 'experience', 'secretary', 'season', 'game', 'hard', 'person', 'hundred', 'exclusive', 'free', 'export', 'stay', 'side', 'evacuate', 'air', 'young', 'within', 'area', 'press', 'base', 'vice', 'reach', 'regulator', 'track', 'bank', 'transmission', 'almost', 'appear', 'republican', 'step', 'place', 'move', 'hand', 'decline', 'talk', 'drive', 'governor', 'force', 'research', 'group', 'drop', 'confidence', 'stop', 'good', 'past', 'court', 'breaking', 'system', 'produce', 'full', 'poll', 'party', 'hope', 'industry', 'diagnosis', 'deal', 'pneumonia', 'combat', 'italy', 'growth', 'yet', 'rally', 'statement', 'military', 'like', 'department', 'head', 'release', 'post', 'great', 'employee', 'among', 'effect', 'major', 'scientist', 'business', 'former', 'night', 'boost', 'issue', 'visit', 'likely', 'french', 'deadly', 'seek', 'america', 'nominee', 'possible', 'development', 'want', 'california', 'look', 'right', 'four', 'agency', 'story', 'meet', 'potential', 'ahead', 'street', 'impact', 'much', 'demand', 'shut', 'put', 'despite', 'penny', 'aid', 'sign', 'question', 'ease', 'seven', 'capital', 'woman', 'fund', 'affect', 'reopen', 'protect', 'small', 'event', 'school', 'region', 'maker', 'flu', 'financial', 'delay', 'half', 'diagnose', 'open', 'bill', 'already', 'extend', 'infectious', 'challenge', 'worry', 'term', 'billion', 'student', 'production', 'holiday', 'severe', 'contact', 'urge', 'limit', 'thousand', 'critical', 'senior', 'war', 'asian', 'british', 'watch', 'think', 'problem', 'donate', 'push', 'citizen', 'grow', 'food', 'change', 'link', 'race', 'mark', 'director', 'claim', 'without', 'video', 'market', 'foreign', 'life', 'community', 'catch', 'ban', 'march', 'institute', 'vote', 'line', 'build', 'office', 'relief', 'soon', 'university', 'suspend', 'stand', 'condition', 'researcher', 'provide', 'slow', 'stock', 'recent', 'behind', 'deliver', 'medium', 'avoid', 'wear', 'struggle', 'economic', 'benefit', 'order', 'lose', 'crisis', 'raise', 'medicine', 'turn', 'join', 'read', 'allow', 'cancel', 'less', 'win', 'restaurant', 'send', 'several', 'germany', 'man', 'ask', 'mike', 'try', 'member', 'batch', 'job', 'social', 'canada', 'general', 'break'}\n",
            "{'company', 'day', 'france', 'global', 'mask', 'surpass', 'year', 'johnson', 'hospital', 'doctor', 'million', 'receive', 'spike', 'brazil', 'result', 'coronavirus', 'care', 'news', 'australia', 'clinical', 'vaccine', 'adult', 'epicenter', 'clot', 'level', 'announce', 'new', 'authority', 'say', 'dose', 'even', 'debate', 'week', 'also', 'month', 'surge', 'end', 'may', 'early', 'japan', 'time', 'prime', 'commission', 'recovery', 'ship', 'develop', 'five', 'prevent', 'drug', 'toll', 'recover', 'state', 'study', 'economy', 'third', 'know', 'flight', 'need', 'people', 'medical', 'six', 'update', 'discharge', 'take', 'around', 'become', 'emergency', 'patient', 'big', 'infect', 'find', 'due', 'outside', 'epidemic', 'shot', 'supply', 'disease', 'total', 'next', 'restriction', 'blood', 'south', 'campaign', 'battle', 'large', 'analysis', 'passenger', 'help', 'local', 'last', 'hold', 'home', 'work', 'province', 'way', 'risk', 'ministry', 'center', 'well', 'data', 'set', 'high', 'official', 'make', 'get', 'rise', 'kill', 'candidate', 'low', 'international', 'fauci', 'africa', 'come', 'top', 'still', 'russia', 'many', 'dos', 'travel', 'control', 'another', 'bad', 'since', 'tell', 'bring', 'hong', 'support', 'cruise', 'offer', 'would', 'continue', 'united', 'wave', 'central', 'remain', 'call', 'lead', 'rate', 'nearly', 'second', 'report', 'team', 'pause', 'part', 'minister', 'across', 'novel', 'world', 'return', 'president', 'fear', 'outbreak', 'hit', 'record', 'hubei', 'symptom', 'plan', 'one', 'measure', 'presidential', 'safe', 'china', 'country', 'face', 'source', 'nation', 'accord', 'give', 'see', 'treatment', 'chief', 'least', 'effective', 'government', 'show', 'could', 'first', 'response', 'death', 'begin', 'live', 'treat', 'variant', 'contract', 'case', 'prevention', 'volunteer', 'daily', 'administer', 'confirmed', 'election', 'close', 'expert', 'fight', 'age', 'child', 'trial', 'use', 'leave', 'amid', 'concern', 'vaccinate', 'effort', 'expect', 'back', 'curb', 'far', 'antibody', 'negative', 'cause', 'resident', 'national', 'covid', 'health', 'public', 'single', 'old', 'follow', 'hour', 'vaccination', 'confirm', 'three', 'test', 'start', 'administration', 'warn', 'trump', 'rare', 'city', 'pandemic', 'staff', 'contain', 'number', 'infection', 'die', 'white', 'late', 'positive', 'virus', 'organization', 'leader', 'increase', 'lady', 'illness', 'worker', 'house', 'include', 'india', 'york', 'safety', 'joe', 'two', 'long', 'spread', 'quarantine'}\n"
          ]
        }
      ]
    },
    {
      "cell_type": "code",
      "source": [
        "threshold = 0.00001\n",
        "sum_China_0, sum_USA_0, sum_China_USA_0 = community_check(community_bipart[0], freq_dict_China, freq_dict_USA, G_China, G_USA, threshold)\n",
        "sum_China_1, sum_USA_1, sum_China_USA_1 = community_check(community_bipart[1], freq_dict_China, freq_dict_USA, G_China, G_USA, threshold)"
      ],
      "metadata": {
        "id": "7wPUW6s2kih_"
      },
      "execution_count": 154,
      "outputs": []
    },
    {
      "cell_type": "code",
      "source": [
        "print('First community:')\n",
        "print('China: ', round(100 * sum_China_0 / len(community_bipart[0])),'%')\n",
        "print('USA: ', round(100 * sum_USA_0 / len(community_bipart[0])),'%')\n",
        "print('China&USA: ', round(100 * sum_China_USA_0 / len(community_bipart[0])),'%')\n",
        "print()\n",
        "print('China: ', round(100 * sum_China_1 / len(community_bipart[1])),'%')\n",
        "print('USA: ', round(100 * sum_USA_1 / len(community_bipart[1])),'%')\n",
        "print('China&USA: ', round(100 * sum_China_USA_1 / len(community_bipart[1])),'%')"
      ],
      "metadata": {
        "colab": {
          "base_uri": "https://localhost:8080/"
        },
        "id": "3F0w8OFxri-C",
        "outputId": "d0aee0e3-83cf-436a-be12-bf7ac0795169"
      },
      "execution_count": 155,
      "outputs": [
        {
          "output_type": "stream",
          "name": "stdout",
          "text": [
            "First community:\n",
            "China:  28 %\n",
            "USA:  62 %\n",
            "China&USA:  10 %\n",
            "\n",
            "China:  38 %\n",
            "USA:  54 %\n",
            "China&USA:  7 %\n"
          ]
        }
      ]
    },
    {
      "cell_type": "markdown",
      "source": [
        "**Metrics**"
      ],
      "metadata": {
        "id": "lQxZRbE_06_j"
      }
    },
    {
      "cell_type": "code",
      "source": [
        "_ = compute_metrics(G, community_bipart)"
      ],
      "metadata": {
        "colab": {
          "base_uri": "https://localhost:8080/"
        },
        "id": "3X7gis4I0-6R",
        "outputId": "3c75d1ce-ee9c-41f4-fa9e-42162ddcba00"
      },
      "execution_count": 156,
      "outputs": [
        {
          "output_type": "stream",
          "name": "stdout",
          "text": [
            "Coverage:  0.6846937072275079\n",
            "Performance:  0.5352164967591232\n",
            "Modularity:  -0.00705109029492303\n"
          ]
        }
      ]
    },
    {
      "cell_type": "markdown",
      "source": [
        "### Modularity-based communities\n",
        "Find communities in G using greedy modularity maximization."
      ],
      "metadata": {
        "id": "vb70Nj1kKIYb"
      }
    },
    {
      "cell_type": "code",
      "source": [
        "community_mod = community.greedy_modularity_communities(G, n_communities=2, weight='weight')\n",
        "# communities_naive_mod = community.naive_greedy_modularity_communities(G)"
      ],
      "metadata": {
        "id": "cEm-2UTOKSeB"
      },
      "execution_count": 157,
      "outputs": []
    },
    {
      "cell_type": "code",
      "source": [
        "community_mod_list = []\n",
        "for comm in community_mod:\n",
        " print(list(comm))\n",
        " community_mod_list.append(list(comm))\n",
        "\n",
        " # The first community might be related to"
      ],
      "metadata": {
        "colab": {
          "base_uri": "https://localhost:8080/"
        },
        "id": "H6rDQKcjKwG4",
        "outputId": "726c007e-1353-4e4d-a60d-5d282e5f505e"
      },
      "execution_count": 158,
      "outputs": [
        {
          "output_type": "stream",
          "name": "stdout",
          "text": [
            "['global', 'express', 'year', 'hospital', 'beijing', 'declare', 'special', 'care', 'coronavirus', 'service', 'family', 'sale', 'epicenter', 'keep', 'human', 'loss', 'hundred', 'japan', 'stay', 'ship', 'evacuate', 'air', 'prevent', 'recover', 'economy', 'almost', 'bank', 'transmission', 'place', 'step', 'flight', 'people', 'medical', 'hand', 'update', 'force', 'take', 'around', 'become', 'patient', 'big', 'infect', 'outside', 'epidemic', 'confidence', 'stop', 'disease', 'full', 'battle', 'large', 'industry', 'passenger', 'help', 'pneumonia', 'combat', 'growth', 'home', 'work', 'like', 'center', 'department', 'great', 'employee', 'business', 'major', 'kill', 'international', 'visit', 'deadly', 'development', 'many', 'look', 'story', 'travel', 'control', 'shut', 'impact', 'street', 'much', 'demand', 'hong', 'support', 'despite', 'cruise', 'continue', 'fund', 'affect', 'central', 'lead', 'call', 'novel', 'world', 'fear', 'outbreak', 'financial', 'measure', 'china', 'already', 'face', 'challenge', 'government', 'billion', 'treatment', 'least', 'production', 'holiday', 'live', 'thousand', 'treat', 'critical', 'war', 'prevention', 'asian', 'watch', 'close', 'fight', 'amid', 'grow', 'citizen', 'leave', 'change', 'effort', 'video', 'foreign', 'market', 'curb', 'life', 'community', 'catch', 'ban', 'cause', 'resident', 'line', 'build', 'stand', 'suspend', 'old', 'stock', 'medium', 'avoid', 'economic', 'city', 'pandemic', 'raise', 'order', 'crisis', 'contain', 'join', 'read', 'die', 'allow', 'late', 'cancel', 'virus', 'win', 'organization', 'restaurant', 'send', 'man', 'try', 'worker', 'social', 'spread', 'break']\n",
            "['company', 'stage', 'committee', 'approve', 'johnson', 'million', 'receive', 'strong', 'result', 'launch', 'news', 'population', 'clinical', 'facility', 'vaccine', 'rule', 'federal', 'adult', 'arrive', 'share', 'clot', 'experimental', 'season', 'dose', 'even', 'exclusive', 'end', 'free', 'may', 'early', 'prime', 'export', 'develop', 'side', 'drug', 'young', 'base', 'track', 'study', 'regulator', 'third', 'appear', 'know', 'need', 'move', 'six', 'drive', 'emergency', 'due', 'research', 'find', 'group', 'shot', 'supply', 'system', 'produce', 'blood', 'party', 'deal', 'yet', 'way', 'risk', 'head', 'data', 'post', 'make', 'among', 'get', 'effect', 'scientist', 'boost', 'candidate', 'likely', 'seek', 'america', 'california', 'possible', 'want', 'russia', 'right', 'dos', 'agency', 'meet', 'potential', 'sign', 'question', 'offer', 'capital', 'woman', 'wave', 'reopen', 'protect', 'second', 'pause', 'part', 'minister', 'school', 'flu', 'maker', 'delay', 'plan', 'half', 'safe', 'extend', 'worry', 'term', 'give', 'student', 'effective', 'show', 'severe', 'response', 'limit', 'urge', 'variant', 'british', 'volunteer', 'administer', 'problem', 'donate', 'child', 'age', 'trial', 'use', 'food', 'concern', 'race', 'link', 'vaccinate', 'expect', 'antibody', 'march', 'institute', 'university', 'covid', 'soon', 'follow', 'researcher', 'provide', 'vaccination', 'deliver', 'behind', 'start', 'struggle', 'rare', 'benefit', 'medicine', 'illness', 'safety', 'batch', 'canada', 'long']\n",
            "['ahead', 'tell', 'add', 'put', 'aid', 'mask', 'penny', 'doctor', 'would', 'today', 'remain', 'adviser', 'team', 'small', 'whether', 'announce', 'event', 'return', 'president', 'democratic', 'experience', 'secretary', 'game', 'presidential', 'symptom', 'say', 'person', 'diagnose', 'debate', 'also', 'week', 'bill', 'infectious', 'source', 'recovery', 'chief', 'first', 'could', 'within', 'contact', 'press', 'vice', 'contract', 'senior', 'republican', 'think', 'election', 'push', 'talk', 'mark', 'director', 'claim', 'back', 'without', 'good', 'court', 'breaking', 'next', 'campaign', 'negative', 'vote', 'office', 'relief', 'poll', 'hope', 'analysis', 'public', 'diagnosis', 'condition', 'hold', 'test', 'rally', 'statement', 'wear', 'administration', 'military', 'trump', 'lose', 'staff', 'well', 'turn', 'release', 'official', 'night', 'positive', 'less', 'white', 'former', 'issue', 'leader', 'several', 'lady', 'member', 'mike', 'ask', 'house', 'fauci', 'nominee', 'job', 'come', 'top', 'still', 'joe', 'general', 'quarantine']\n",
            "['bad', 'since', 'day', 'france', 'bring', 'surpass', 'seven', 'ease', 'spike', 'united', 'rate', 'brazil', 'nearly', 'australia', 'report', 'across', 'level', 'pass', 'new', 'fall', 'authority', 'hit', 'region', 'record', 'hard', 'hubei', 'one', 'open', 'surge', 'month', 'country', 'time', 'nation', 'accord', 'commission', 'see', 'five', 'death', 'area', 'begin', 'toll', 'reach', 'state', 'case', 'daily', 'decline', 'governor', 'discharge', 'four', 'drop', 'past', 'far', 'restriction', 'total', 'national', 'health', 'single', 'hour', 'local', 'slow', 'italy', 'recent', 'last', 'confirm', 'three', 'province', 'warn', 'ministry', 'number', 'infection', 'set', 'high', 'rise', 'increase', 'germany', 'low', 'include', 'india', 'french', 'york', 'two', 'confirmed', 'another', 'expert']\n",
            "['south', 'north', 'africa', 'korea']\n"
          ]
        }
      ]
    },
    {
      "cell_type": "code",
      "source": [
        "threshold = 0.00001\n",
        "for i in range(len(community_mod_list)):\n",
        "  sum_China, sum_USA, sum_China_USA = community_check(community_mod_list[i], freq_dict_China, freq_dict_USA, G_China, G_USA, threshold)\n",
        "  print('Community: ', i)\n",
        "  print('China: ', round(100 * sum_China / len(community_mod_list[i])),'%')\n",
        "  print('USA: ', round(100 * sum_USA / len(community_mod_list[i])),'%')\n",
        "  print('China&USA: ', round(100 * sum_China_USA / len(community_mod_list[i])),'%')\n",
        "  print()"
      ],
      "metadata": {
        "colab": {
          "base_uri": "https://localhost:8080/"
        },
        "id": "FQznkOANPScS",
        "outputId": "d69b527c-2caa-463f-ad62-2526cc87a209"
      },
      "execution_count": 159,
      "outputs": [
        {
          "output_type": "stream",
          "name": "stdout",
          "text": [
            "Community:  0\n",
            "China:  44 %\n",
            "USA:  48 %\n",
            "China&USA:  9 %\n",
            "\n",
            "Community:  1\n",
            "China:  22 %\n",
            "USA:  68 %\n",
            "China&USA:  11 %\n",
            "\n",
            "Community:  2\n",
            "China:  23 %\n",
            "USA:  70 %\n",
            "China&USA:  7 %\n",
            "\n",
            "Community:  3\n",
            "China:  46 %\n",
            "USA:  46 %\n",
            "China&USA:  7 %\n",
            "\n",
            "Community:  4\n",
            "China:  50 %\n",
            "USA:  25 %\n",
            "China&USA:  25 %\n",
            "\n"
          ]
        }
      ]
    },
    {
      "cell_type": "markdown",
      "source": [
        "**Metrics**"
      ],
      "metadata": {
        "id": "gaTTWgLW8jj9"
      }
    },
    {
      "cell_type": "code",
      "source": [
        "_ = compute_metrics(G, community_mod_list)"
      ],
      "metadata": {
        "outputId": "966df612-2c9c-4a32-8069-fa4d56acfe03",
        "colab": {
          "base_uri": "https://localhost:8080/"
        },
        "id": "bci0i4pC8jj-"
      },
      "execution_count": 160,
      "outputs": [
        {
          "output_type": "stream",
          "name": "stdout",
          "text": [
            "Coverage:  0.3890836254381572\n",
            "Performance:  0.718051451819996\n",
            "Modularity:  0.1837115988393901\n"
          ]
        }
      ]
    },
    {
      "cell_type": "markdown",
      "source": [
        "### Louvain Community Detection\n",
        "Find the best partition of a graph using the Louvain Community Detection Algorithm."
      ],
      "metadata": {
        "id": "9OCXZZs0Lyet"
      }
    },
    {
      "cell_type": "code",
      "source": [
        "community_louv = community_louvain.best_partition(G,weight='weight')\n",
        "\n",
        "# modularity_louvain = community.modularity(communities_louvain, G) # ERROR: not a partition\n",
        "# print(\"The modularity Q based on networkx is {}\".format(modularity_louvain))"
      ],
      "metadata": {
        "id": "aLIzxRByL0h7"
      },
      "execution_count": 161,
      "outputs": []
    },
    {
      "cell_type": "code",
      "source": [
        "max = np.max(list(community_louv.values()))\n",
        "community_louvain_list = []\n",
        "for i in range(max+1):\n",
        "  community_louvain_list.append([])\n",
        "for key in list(community_louv.keys()):\n",
        "  community_louvain_list[community_louv[key]].append(key)\n",
        "for i in range(max+1):\n",
        "  print(community_louvain_list[i])"
      ],
      "metadata": {
        "colab": {
          "base_uri": "https://localhost:8080/"
        },
        "id": "hccz7ZB3BwOW",
        "outputId": "c91bfee6-04b3-4daf-f481-2609368cf503"
      },
      "execution_count": 162,
      "outputs": [
        {
          "output_type": "stream",
          "name": "stdout",
          "text": [
            "['infectious', 'disease', 'prevention', 'control', 'south', 'center', 'korea', 'africa', 'north']\n",
            "['china', 'coronavirus', 'novel', 'outbreak', 'people', 'medical', 'virus', 'challenge', 'face', 'human', 'medium', 'watch', 'great', 'hard', 'outside', 'cruise', 'ship', 'japan', 'live', 'worker', 'across', 'line', 'central', 'epicenter', 'late', 'hubei', 'province', 'support', 'local', 'hospital', 'help', 'fight', 'express', 'contain', 'epidemic', 'try', 'effort', 'send', 'amid', 'drop', 'allow', 'foreign', 'mask', 'critical', 'work', 'service', 'industry', 'combat', 'business', 'national', 'commission', 'treatment', 'transmission', 'update', 'around', 'development', 'die', 'measure', 'leave', 'home', 'city', 'battle', 'win', 'due', 'authority', 'beijing', 'pneumonia', 'economy', 'many', 'stand', 'infect', 'family', 'patient', 'spread', 'already', 'production', 'year', 'old', 'discharge', 'affect', 'evacuate', 'put', 'despite', 'become', 'full', 'recover', 'keep', 'citizen', 'close', 'loss', 'stop', 'impact', 'government', 'group', 'hong', 'major', 'cause', 'holiday', 'grow', 'curb', 'follow', 'stay', 'man', 'build', 'ban', 'flight', 'suspend', 'confidence', 'travel', 'social', 'least', 'employee', 'facility', 'read', 'place', 'quarantine', 'resident', 'department', 'deadly', 'order', 'demand', 'area', 'treat', 'cancel', 'visit', 'sale', 'life', 'passenger', 'market', 'extend', 'hand', 'step', 'community', 'asian', 'hundred', 'kill', 'thousand', 'fear', 'stock', 'avoid', 'street', 'shut', 'care', 'wear', 'restaurant', 'catch', 'financial']\n",
            "['deal', 'covid', 'vaccine', 'university', 'student', 'data', 'among', 'head', 'show', 'trial', 'make', 'vaccinate', 'track', 'arrive', 'risk', 'drug', 'medicine', 'supply', 'give', 'research', 'share', 'offer', 'system', 'minister', 'donate', 'back', 'get', 'plan', 'possible', 'woman', 'deliver', 'use', 'start', 'end', 'food', 'billion', 'meet', 'part', 'find', 'may', 'exclusive', 'behind', 'sign', 'post', 'protect', 'company', 'soon', 'clinical', 'prime', 'scientist', 'need', 'safe', 'long', 'receive', 'flu', 'russia', 'volunteer', 'strong', 'early', 'capital', 'develop', 'british', 'urge', 'provide', 'break', 'prevent', 'way', 'base', 'produce', 'know', 'study', 'story', 'child', 'effective', 'party', 'launch', 'appear', 'race', 'six', 'expect', 'term', 'march', 'stage', 'boost', 'result', 'side', 'drive', 'experimental', 'move', 'open', 'batch', 'approve', 'administer', 'likely', 'dos', 'candidate', 'dose', 'seek', 'vaccination', 'population', 'shot', 'push', 'illness', 'california', 'export', 'potential', 'limit', 'age', 'young', 'free', 'effect', 'blood', 'even', 'clot', 'johnson', 'adult', 'rare', 'agency', 'link', 'regulator', 'safety', 'antibody', 'canada', 'pause', 'french', 'researcher', 'institute', 'season', 'school', 'want', 'less', 'reopen', 'severe', 'rule', 'problem', 'question', 'committee', 'delay', 'federal', 'worry', 'struggle', 'poll', 'variant', 'right', 'benefit', 'maker']\n",
            "['global', 'world', 'expert', 'health', 'organization', 'lead', 'international', 'nation', 'issue', 'raise', 'fund', 'bank', 'growth', 'far', 'concern', 'could', 'public', 'emergency', 'warn', 'crisis', 'declare', 'within', 'yet']\n",
            "['continue', 'reach', 'fall', 'case', 'million', 'death', 'accord', 'new', 'state', 'united', 'confirm', 'half', 'country', 'since', 'nearly', 'third', 'number', 'day', 'include', 'australia', 'daily', 'week', 'almost', 'total', 'begin', 'one', 'high', 'three', 'increase', 'second', 'big', 'slow', 'confirmed', 'see', 'report', 'toll', 'another', 'infection', 'bring', 'ministry', 'rate', 'last', 'month', 'two', 'time', 'rise', 'set', 'low', 'large', 'single', 'hour', 'restriction', 'region', 'past', 'five', 'level', 'hit', 'germany', 'force', 'brazil', 'pass', 'record', 'ease', 'recent', 'wave', 'york', 'india', 'surge', 'france', 'surpass', 'italy', 'governor', 'four', 'spike', 'seven', 'decline', 'bad']\n",
            "['talk', 'president', 'trump', 'say', 'relief', 'house', 'aid', 'secretary', 'first', 'test', 'positive', 'person', 'pandemic', 'take', 'announce', 'team', 'office', 'chief', 'condition', 'official', 'hold', 'come', 'response', 'diagnose', 'much', 'join', 'leader', 'also', 'press', 'call', 'former', 'ask', 'doctor', 'symptom', 'top', 'change', 'economic', 'recovery', 'video', 'general', 'look', 'director', 'tell', 'vice', 'good', 'would', 'still', 'return', 'special', 'news', 'add', 'staff', 'source', 'war', 'military', 'experience', 'release', 'like', 'air', 'remain', 'senior', 'statement', 'analysis', 'claim', 'administration', 'campaign', 'white', 'election', 'contact', 'negative', 'hope', 'contract', 'turn', 'several', 'lose', 'today', 'fauci', 'mark', 'without', 'think', 'diagnosis', 'next', 'lady', 'presidential', 'rally', 'debate', 'america', 'event', 'vote', 'night', 'mike', 'adviser', 'penny', 'joe', 'court', 'nominee', 'republican', 'well', 'democratic', 'breaking', 'member', 'job', 'ahead', 'game', 'bill', 'small', 'whether']\n"
          ]
        }
      ]
    },
    {
      "cell_type": "code",
      "source": [
        "threshold = 0.00001\n",
        "for i in range(len(community_louvain_list)):\n",
        "  sum_China, sum_USA, sum_China_USA = community_check(community_louvain_list[i], freq_dict_China, freq_dict_USA, G_China, G_USA, threshold)\n",
        "  print('Community: ', i)\n",
        "  print('China: ', round(100 * sum_China / len(community_louvain_list[i])),'%')\n",
        "  print('USA: ', round(100 * sum_USA / len(community_louvain_list[i])),'%')\n",
        "  print('China&USA: ', round(100 * sum_China_USA / len(community_louvain_list[i])),'%')\n",
        "  print()"
      ],
      "metadata": {
        "colab": {
          "base_uri": "https://localhost:8080/"
        },
        "id": "_lgezV3ERSRf",
        "outputId": "cee8cb59-ca41-40f7-b751-15962eed45af"
      },
      "execution_count": 163,
      "outputs": [
        {
          "output_type": "stream",
          "name": "stdout",
          "text": [
            "Community:  0\n",
            "China:  67 %\n",
            "USA:  22 %\n",
            "China&USA:  11 %\n",
            "\n",
            "Community:  1\n",
            "China:  47 %\n",
            "USA:  45 %\n",
            "China&USA:  8 %\n",
            "\n",
            "Community:  2\n",
            "China:  21 %\n",
            "USA:  69 %\n",
            "China&USA:  10 %\n",
            "\n",
            "Community:  3\n",
            "China:  22 %\n",
            "USA:  65 %\n",
            "China&USA:  13 %\n",
            "\n",
            "Community:  4\n",
            "China:  38 %\n",
            "USA:  53 %\n",
            "China&USA:  9 %\n",
            "\n",
            "Community:  5\n",
            "China:  28 %\n",
            "USA:  65 %\n",
            "China&USA:  7 %\n",
            "\n"
          ]
        }
      ]
    },
    {
      "cell_type": "markdown",
      "source": [
        "**Metrics**"
      ],
      "metadata": {
        "id": "E00tpmcx9DjD"
      }
    },
    {
      "cell_type": "code",
      "source": [
        "_ = compute_metrics(G, community_louvain_list)"
      ],
      "metadata": {
        "outputId": "dc7e04fe-08ed-4036-fc6e-257fa0b3894e",
        "colab": {
          "base_uri": "https://localhost:8080/"
        },
        "id": "xLee4N1S9DjE"
      },
      "execution_count": 164,
      "outputs": [
        {
          "output_type": "stream",
          "name": "stdout",
          "text": [
            "Coverage:  0.35645134368218995\n",
            "Performance:  0.7397862104172146\n",
            "Modularity:  0.18387625749187272\n"
          ]
        }
      ]
    },
    {
      "cell_type": "markdown",
      "source": [
        "### Clique percolation"
      ],
      "metadata": {
        "id": "VdsasvlOlLX0"
      }
    },
    {
      "cell_type": "code",
      "source": [
        "cliques = nx.find_cliques(G)\n",
        "# in our case cliques correspond to tweets"
      ],
      "metadata": {
        "id": "dHolEGtDnb_U"
      },
      "execution_count": 9,
      "outputs": []
    },
    {
      "cell_type": "code",
      "source": [
        "k = 7\n",
        "community_clique = community.k_clique_communities(G, k, cliques)"
      ],
      "metadata": {
        "id": "mFdPu1EYlH-y"
      },
      "execution_count": 10,
      "outputs": []
    },
    {
      "cell_type": "code",
      "source": [
        "c = next(community_clique)"
      ],
      "metadata": {
        "id": "JQEB1uq1mVy0"
      },
      "execution_count": null,
      "outputs": []
    },
    {
      "cell_type": "markdown",
      "source": [
        "### Dendogram"
      ],
      "metadata": {
        "id": "wx0btxUosYhr"
      }
    },
    {
      "cell_type": "code",
      "source": [
        "from sknetwork.hierarchy import Paris\n",
        "paris = Paris()\n",
        "adjacency = adj_matrix(nodes, edges)\n",
        "dendrogram = paris.fit_transform(adjacency)"
      ],
      "metadata": {
        "colab": {
          "base_uri": "https://localhost:8080/"
        },
        "id": "_QjOOantsbXd",
        "outputId": "0044dde0-c9e0-4c1d-826f-d00a605bc518"
      },
      "execution_count": null,
      "outputs": [
        {
          "output_type": "stream",
          "name": "stdout",
          "text": [
            "A shape:  (509, 509)\n",
            "0/79\n",
            "1/79\n",
            "2/79\n",
            "3/79\n",
            "4/79\n",
            "5/79\n",
            "6/79\n",
            "7/79\n",
            "8/79\n",
            "9/79\n",
            "10/79\n",
            "11/79\n",
            "12/79\n",
            "13/79\n",
            "14/79\n",
            "15/79\n",
            "16/79\n",
            "17/79\n",
            "18/79\n",
            "19/79\n",
            "20/79\n",
            "21/79\n",
            "22/79\n",
            "23/79\n",
            "24/79\n",
            "25/79\n",
            "26/79\n",
            "27/79\n",
            "28/79\n",
            "29/79\n",
            "30/79\n",
            "31/79\n",
            "32/79\n",
            "33/79\n",
            "34/79\n",
            "35/79\n",
            "36/79\n",
            "37/79\n",
            "38/79\n",
            "39/79\n",
            "40/79\n",
            "41/79\n",
            "42/79\n",
            "43/79\n",
            "44/79\n"
          ]
        }
      ]
    },
    {
      "cell_type": "markdown",
      "source": [
        "### Lukes partitioning"
      ],
      "metadata": {
        "id": "Df9le0yRmz0m"
      }
    },
    {
      "cell_type": "code",
      "source": [
        "max_size = 100 \n",
        "community_lukes = community.lukes_partitioning(G, max_size, edge_weight='weight')"
      ],
      "metadata": {
        "id": "8Z0GCLkam4pf",
        "colab": {
          "base_uri": "https://localhost:8080/",
          "height": 322
        },
        "outputId": "8d1e6082-c432-471b-eeda-5a1e8f960f33"
      },
      "execution_count": 8,
      "outputs": [
        {
          "output_type": "error",
          "ename": "NotATree",
          "evalue": "ignored",
          "traceback": [
            "\u001b[0;31m---------------------------------------------------------------------------\u001b[0m",
            "\u001b[0;31mNotATree\u001b[0m                                  Traceback (most recent call last)",
            "\u001b[0;32m<ipython-input-8-d51094d53f28>\u001b[0m in \u001b[0;36m<module>\u001b[0;34m()\u001b[0m\n\u001b[1;32m      1\u001b[0m \u001b[0mmax_size\u001b[0m \u001b[0;34m=\u001b[0m \u001b[0;36m100\u001b[0m\u001b[0;34m\u001b[0m\u001b[0;34m\u001b[0m\u001b[0m\n\u001b[0;32m----> 2\u001b[0;31m \u001b[0mcommunity_lukes\u001b[0m \u001b[0;34m=\u001b[0m \u001b[0mcommunity\u001b[0m\u001b[0;34m.\u001b[0m\u001b[0mlukes_partitioning\u001b[0m\u001b[0;34m(\u001b[0m\u001b[0mG\u001b[0m\u001b[0;34m,\u001b[0m \u001b[0mmax_size\u001b[0m\u001b[0;34m,\u001b[0m \u001b[0medge_weight\u001b[0m\u001b[0;34m=\u001b[0m\u001b[0;34m'weight'\u001b[0m\u001b[0;34m)\u001b[0m\u001b[0;34m\u001b[0m\u001b[0;34m\u001b[0m\u001b[0m\n\u001b[0m",
            "\u001b[0;32m/usr/local/lib/python3.7/dist-packages/networkx/algorithms/community/lukes.py\u001b[0m in \u001b[0;36mlukes_partitioning\u001b[0;34m(G, max_size, node_weight, edge_weight)\u001b[0m\n\u001b[1;32m     74\u001b[0m     \u001b[0;31m# First sanity check and tree preparation\u001b[0m\u001b[0;34m\u001b[0m\u001b[0;34m\u001b[0m\u001b[0;34m\u001b[0m\u001b[0m\n\u001b[1;32m     75\u001b[0m     \u001b[0;32mif\u001b[0m \u001b[0;32mnot\u001b[0m \u001b[0mnx\u001b[0m\u001b[0;34m.\u001b[0m\u001b[0mis_tree\u001b[0m\u001b[0;34m(\u001b[0m\u001b[0mG\u001b[0m\u001b[0;34m)\u001b[0m\u001b[0;34m:\u001b[0m\u001b[0;34m\u001b[0m\u001b[0;34m\u001b[0m\u001b[0m\n\u001b[0;32m---> 76\u001b[0;31m         \u001b[0;32mraise\u001b[0m \u001b[0mnx\u001b[0m\u001b[0;34m.\u001b[0m\u001b[0mNotATree\u001b[0m\u001b[0;34m(\u001b[0m\u001b[0;34m\"lukes_partitioning works only on trees\"\u001b[0m\u001b[0;34m)\u001b[0m\u001b[0;34m\u001b[0m\u001b[0;34m\u001b[0m\u001b[0m\n\u001b[0m\u001b[1;32m     77\u001b[0m     \u001b[0;32melse\u001b[0m\u001b[0;34m:\u001b[0m\u001b[0;34m\u001b[0m\u001b[0;34m\u001b[0m\u001b[0m\n\u001b[1;32m     78\u001b[0m         \u001b[0;32mif\u001b[0m \u001b[0mnx\u001b[0m\u001b[0;34m.\u001b[0m\u001b[0mis_directed\u001b[0m\u001b[0;34m(\u001b[0m\u001b[0mG\u001b[0m\u001b[0;34m)\u001b[0m\u001b[0;34m:\u001b[0m\u001b[0;34m\u001b[0m\u001b[0;34m\u001b[0m\u001b[0m\n",
            "\u001b[0;31mNotATree\u001b[0m: lukes_partitioning works only on trees"
          ]
        }
      ]
    },
    {
      "cell_type": "markdown",
      "source": [
        "### BigCLAM"
      ],
      "metadata": {
        "id": "D3ekV9r_6r30"
      }
    },
    {
      "cell_type": "code",
      "source": [
        "! git clone https://github.com/RobRomijnders/bigclam.git"
      ],
      "metadata": {
        "id": "93xXTG7n6vyQ"
      },
      "execution_count": null,
      "outputs": []
    },
    {
      "cell_type": "markdown",
      "source": [
        "## JanFeb2020"
      ],
      "metadata": {
        "id": "MtEAInBNuFBo"
      }
    },
    {
      "cell_type": "code",
      "source": [
        "period = '_JanFeb2020'\n",
        "China = pd.read_csv('/content/China'+period+'.csv')\n",
        "USA = pd.read_csv('/content/USA'+period+'.csv')\n",
        "\n",
        "edges = pd.read_csv('/content/edgelist_China_USA'+period+'.csv')\n",
        "edges_China = pd.read_csv('/content/edgelist_China'+period+'.csv')\n",
        "edges_USA = pd.read_csv('/content/edgelist_USA'+period+'.csv')\n",
        "\n",
        "text_China = extract_text(China)\n",
        "text_USA = extract_text(USA)\n",
        "\n",
        "freq_dict_China = frequency_dictionary(text_China)\n",
        "freq_dict_China = dict(sorted(freq_dict_China.items(), key=lambda item: item[1], reverse = True))   #order from more frequent to less frequent word\n",
        "\n",
        "freq_dict_USA = frequency_dictionary(text_USA)\n",
        "freq_dict_USA = dict(sorted(freq_dict_USA.items(), key=lambda item: item[1], reverse = True))   #order from more frequent to less frequent word\n",
        "\n",
        "net, net_df = network_from_edges(edges)\n",
        "net_China, net_df_China = network_from_edges(edges_China)\n",
        "net_USA, net_df_USA = network_from_edges(edges_USA)\n",
        "\n",
        "G = get_graph(net)\n",
        "G_China = get_graph(net_China)\n",
        "G_USA = get_graph(net_USA)"
      ],
      "metadata": {
        "id": "JXG6bFSfyOAN"
      },
      "execution_count": 135,
      "outputs": []
    },
    {
      "cell_type": "code",
      "source": [
        "print('China&USA:')\n",
        "print('Nodes: ',len(G.nodes()))\n",
        "print('Edges: ',len(G.edges()))\n",
        "print('Is connected: ',nx.is_connected(G))\n",
        "print()\n",
        "print('China:')\n",
        "print('Nodes: ',len(G_China.nodes()))\n",
        "print('Edges: ',len(G_China.edges()))\n",
        "print('Is connected: ',nx.is_connected(G_China))\n",
        "print()\n",
        "print('USA:')\n",
        "print('Nodes: ',len(G_USA.nodes()))\n",
        "print('Edges: ',len(G_USA.edges()))\n",
        "print('Is connected: ',nx.is_connected(G_USA))\n",
        "print()"
      ],
      "metadata": {
        "outputId": "8a7cf6e8-8c93-479a-9875-45ee9618a945",
        "colab": {
          "base_uri": "https://localhost:8080/"
        },
        "id": "4r6duJTOyOAN"
      },
      "execution_count": 136,
      "outputs": [
        {
          "output_type": "stream",
          "name": "stdout",
          "text": [
            "China&USA:\n",
            "Nodes:  454\n",
            "Edges:  3254\n",
            "Is connected:  True\n",
            "\n",
            "China:\n",
            "Nodes:  300\n",
            "Edges:  1391\n",
            "Is connected:  False\n",
            "\n",
            "USA:\n",
            "Nodes:  435\n",
            "Edges:  1746\n",
            "Is connected:  True\n",
            "\n"
          ]
        }
      ]
    },
    {
      "cell_type": "markdown",
      "source": [
        "### Bipartition\n",
        "Partition a graph into two blocks using the Kernighan–Lin algorithm."
      ],
      "metadata": {
        "id": "twsmoWm3yOAP"
      }
    },
    {
      "cell_type": "code",
      "source": [
        "community_bipart = community.kernighan_lin_bisection(G,weight='weight')"
      ],
      "metadata": {
        "id": "FSgWgoDuyOAP"
      },
      "execution_count": 137,
      "outputs": []
    },
    {
      "cell_type": "code",
      "source": [
        "print(community_bipart[0])\n",
        "print(community_bipart[1])"
      ],
      "metadata": {
        "colab": {
          "base_uri": "https://localhost:8080/"
        },
        "outputId": "8f341d80-fea7-4a62-f2aa-131921e61968",
        "id": "fmJ8EmWEyOAP"
      },
      "execution_count": 138,
      "outputs": [
        {
          "output_type": "stream",
          "name": "stdout",
          "text": [
            "{'wish', 'france', 'together', 'korea', 'evacuee', 'today', 'receive', 'special', 'result', 'care', 'news', 'carry', 'australia', 'clinical', 'service', 'facility', 'quarter', 'nurse', 'front', 'family', 'arrive', 'police', 'share', 'keep', 'sale', 'pass', 'singapore', 'whether', 'fall', 'respiratory', 'protective', 'hard', 'dozen', 'person', 'also', 'hundred', 'strand', 'recovery', 'develop', 'animal', 'five', 'air', 'area', 'base', 'recently', 'reach', 'almost', 'bank', 'appear', 'cough', 'place', 'away', 'move', 'six', 'hand', 'dollar', 'talk', 'force', 'plane', 'research', 'group', 'robot', 'firm', 'good', 'mother', 'shortage', 'restriction', 'system', 'south', 'full', 'tokyo', 'asia', 'party', 'industry', 'large', 'deal', 'isolation', 'last', 'growth', 'statement', 'military', 'baby', 'nine', 'way', 'border', 'well', 'head', 'release', 'investor', 'data', 'fly', 'among', 'major', 'set', 'reporter', 'scientist', 'australian', 'issue', 'shanghai', 'thailand', 'low', 'visit', 'fast', 'wash', 'wall', 'possible', 'california', 'come', 'cure', 'top', 'many', 'still', 'look', 'story', 'model', 'four', 'meet', 'potential', 'street', 'tell', 'much', 'demand', 'put', 'aid', 'phone', 'question', 'offer', 'would', 'woman', 'fund', 'affect', 'cut', 'near', 'nearly', 'protect', 'miss', 'part', 'currently', 'medic', 'must', 'headline', 'best', 'flu', 'meeting', 'plan', 'yuan', 'panic', 'diagnose', 'extend', 'infectious', 'source', 'threat', 'billion', 'student', 'production', 'severe', 'contact', 'limit', 'urge', 'thousand', 'situation', 'contract', 'critical', 'run', 'asian', 'daily', 'watch', 'screen', 'child', 'grow', 'trial', 'charter', 'food', 'ensure', 'officer', 'race', 'community', 'life', 'east', 'wang', 'apple', 'newly', 'infected', 'negative', 'ban', 'trade', 'line', 'university', 'office', 'inside', 'researcher', 'condition', 'provide', 'sell', 'slow', 'avoid', 'anti', 'wear', 'trump', 'economic', 'raise', 'order', 'pandemic', 'medicine', 'join', 'turn', 'read', 'allow', 'temporarily', 'cancel', 'aboard', 'leader', 'airport', 'several', 'increase', 'information', 'xinhua', 'illness', 'ask', 'try', 'check', 'surgical', 'social', 'finally', 'strain', 'long', 'general'}\n",
            "{'company', 'day', 'global', 'mask', 'express', 'year', 'doctor', 'hospital', 'beijing', 'million', 'declare', 'strong', 'related', 'coronavirus', 'vaccine', 'macao', 'epicenter', 'level', 'announce', 'new', 'human', 'authority', 'say', 'dock', 'globally', 'week', 'month', 'end', 'may', 'early', 'japan', 'time', 'beyond', 'commission', 'stay', 'ship', 'evacuate', 'prevent', 'drug', 'press', 'toll', 'recover', 'state', 'study', 'economy', 'transmission', 'know', 'step', 'people', 'brief', 'need', 'flight', 'dead', 'medical', 'update', 'discharge', 'take', 'around', 'become', 'emergency', 'patient', 'big', 'infect', 'find', 'due', 'outside', 'epidemic', 'drop', 'confidence', 'stop', 'supply', 'disease', 'total', 'battle', 'passenger', 'help', 'pneumonia', 'combat', 'local', 'hold', 'home', 'work', 'board', 'province', 'like', 'suspected', 'risk', 'ministry', 'center', 'department', 'high', 'great', 'business', 'makeshift', 'rise', 'make', 'official', 'get', 'kill', 'international', 'deadly', 'development', 'travel', 'control', 'another', 'taiwan', 'since', 'impact', 'bring', 'hong', 'support', 'despite', 'cruise', 'continue', 'united', 'remain', 'central', 'solidarity', 'call', 'lead', 'rate', 'second', 'report', 'team', 'minister', 'across', 'novel', 'world', 'return', 'president', 'fear', 'outbreak', 'hit', 'region', 'spreading', 'record', 'hubei', 'symptom', 'one', 'measure', 'quarantine', 'china', 'already', 'country', 'face', 'accord', 'give', 'government', 'see', 'treatment', 'chief', 'least', 'show', 'holiday', 'first', 'could', 'response', 'death', 'begin', 'live', 'treat', 'jinping', 'case', 'prevention', 'construction', 'close', 'donate', 'amid', 'fight', 'citizen', 'use', 'leave', 'conference', 'concern', 'princess', 'effort', 'leishenshan', 'director', 'expect', 'lunar', 'back', 'bed', 'video', 'foreign', 'market', 'curb', 'far', 'cause', 'resident', 'national', 'covid', 'build', 'health', 'public', 'suspend', 'stand', 'old', 'follow', 'confirm', 'stock', 'three', 'test', 'diamond', 'medium', 'start', 'warn', 'city', 'staff', 'contain', 'number', 'suspect', 'die', 'infection', 'positive', 'virus', 'late', 'win', 'organization', 'send', 'japanese', 'man', 'worker', 'include', 'two', 'confirmed', 'spread', 'expert'}\n"
          ]
        }
      ]
    },
    {
      "cell_type": "code",
      "source": [
        "threshold = 0.00001\n",
        "sum_China_0, sum_USA_0, sum_China_USA_0 = community_check(community_bipart[0], freq_dict_China, freq_dict_USA, G_China, G_USA, threshold)\n",
        "sum_China_1, sum_USA_1, sum_China_USA_1 = community_check(community_bipart[1], freq_dict_China, freq_dict_USA, G_China, G_USA, threshold)"
      ],
      "metadata": {
        "id": "wZhVpV2JyOAQ"
      },
      "execution_count": 139,
      "outputs": []
    },
    {
      "cell_type": "code",
      "source": [
        "print('First community:')\n",
        "print('China: ', round(100 * sum_China_0 / len(community_bipart[0])),'%')\n",
        "print('USA: ', round(100 * sum_USA_0 / len(community_bipart[0])),'%')\n",
        "print('China&USA: ', round(100 * sum_China_USA_0 / len(community_bipart[0])),'%')\n",
        "print()\n",
        "print('China: ', round(100 * sum_China_1 / len(community_bipart[1])),'%')\n",
        "print('USA: ', round(100 * sum_USA_1 / len(community_bipart[1])),'%')\n",
        "print('China&USA: ', round(100 * sum_China_USA_1 / len(community_bipart[1])),'%')"
      ],
      "metadata": {
        "colab": {
          "base_uri": "https://localhost:8080/"
        },
        "outputId": "97a2d40f-cdab-4d3c-9f93-c33b99296c3d",
        "id": "7HM09YrXyOAQ"
      },
      "execution_count": 140,
      "outputs": [
        {
          "output_type": "stream",
          "name": "stdout",
          "text": [
            "First community:\n",
            "China:  43 %\n",
            "USA:  52 %\n",
            "China&USA:  4 %\n",
            "\n",
            "China:  45 %\n",
            "USA:  51 %\n",
            "China&USA:  4 %\n"
          ]
        }
      ]
    },
    {
      "cell_type": "markdown",
      "source": [
        "**Metrics**"
      ],
      "metadata": {
        "id": "sut0dINk9pKc"
      }
    },
    {
      "cell_type": "code",
      "source": [
        "_ = compute_metrics(G, community_bipart)"
      ],
      "metadata": {
        "outputId": "ad99aa99-695f-42cd-8522-1ccc7f4432b6",
        "colab": {
          "base_uri": "https://localhost:8080/"
        },
        "id": "GVWHKzWs9pKd"
      },
      "execution_count": 141,
      "outputs": [
        {
          "output_type": "stream",
          "name": "stdout",
          "text": [
            "Coverage:  0.8097725875845113\n",
            "Performance:  0.5207087356925441\n",
            "Modularity:  0.000738799589312081\n"
          ]
        }
      ]
    },
    {
      "cell_type": "markdown",
      "source": [
        "### Modularity-based communities\n",
        "Find communities in G using greedy modularity maximization."
      ],
      "metadata": {
        "id": "hgFcAdfVyOAQ"
      }
    },
    {
      "cell_type": "code",
      "source": [
        "community_mod = community.greedy_modularity_communities(G, n_communities=2, weight='weight')\n",
        "# communities_naive_mod = community.naive_greedy_modularity_communities(G)"
      ],
      "metadata": {
        "id": "b6x96Xl6yOAQ"
      },
      "execution_count": 142,
      "outputs": []
    },
    {
      "cell_type": "code",
      "source": [
        "community_mod_list = []\n",
        "for comm in community_mod:\n",
        " print(list(comm))\n",
        " community_mod_list.append(list(comm))"
      ],
      "metadata": {
        "colab": {
          "base_uri": "https://localhost:8080/"
        },
        "outputId": "c725db4a-9164-43ee-a515-c5cd29cc2c8e",
        "id": "03WgRC7DyOAR"
      },
      "execution_count": 143,
      "outputs": [
        {
          "output_type": "stream",
          "name": "stdout",
          "text": [
            "['evacuee', 'korea', 'today', 'result', 'coronavirus', 'news', 'australia', 'clinical', 'quarter', 'front', 'family', 'arrive', 'police', 'share', 'whether', 'sale', 'level', 'keep', 'respiratory', 'singapore', 'fall', 'hard', 'dozen', 'person', 'hundred', 'may', 'strand', 'five', 'air', 'drug', 'area', 'base', 'recently', 'state', 'economy', 'almost', 'bank', 'appear', 'cough', 'place', 'know', 'flight', 'need', 'move', 'six', 'dollar', 'hand', 'force', 'become', 'big', 'due', 'good', 'firm', 'system', 'restriction', 'south', 'tokyo', 'asia', 'industry', 'last', 'growth', 'statement', 'military', 'nine', 'like', 'risk', 'well', 'department', 'head', 'investor', 'set', 'high', 'fly', 'among', 'business', 'get', 'australian', 'issue', 'shanghai', 'thailand', 'low', 'wash', 'wall', 'possible', 'california', 'come', 'still', 'story', 'four', 'travel', 'since', 'potential', 'impact', 'street', 'much', 'demand', 'despite', 'question', 'woman', 'fund', 'united', 'affect', 'cut', 'near', 'rate', 'nearly', 'protect', 'part', 'currently', 'return', 'fear', 'headline', 'hit', 'flu', 'meeting', 'plan', 'panic', 'diagnose', 'source', 'billion', 'see', 'contact', 'urge', 'limit', 'thousand', 'contract', 'run', 'asian', 'watch', 'close', 'screen', 'grow', 'citizen', 'trial', 'charter', 'food', 'officer', 'race', 'back', 'market', 'far', 'ban', 'apple', 'infected', 'university', 'line', 'office', 'suspend', 'sell', 'provide', 'slow', 'stock', 'medium', 'avoid', 'anti', 'wear', 'warn', 'economic', 'order', 'raise', 'turn', 'temporarily', 'cancel', 'airport', 'several', 'xinhua', 'illness', 'try', 'social', 'finally', 'strain']\n",
            "['company', 'wish', 'together', 'mask', 'express', 'beijing', 'million', 'special', 'strong', 'carry', 'service', 'vaccine', 'nurse', 'announce', 'globally', 'time', 'beyond', 'stay', 'develop', 'animal', 'prevent', 'step', 'brief', 'talk', 'update', 'take', 'around', 'research', 'find', 'group', 'epidemic', 'robot', 'stop', 'confidence', 'supply', 'shortage', 'full', 'battle', 'party', 'large', 'deal', 'help', 'combat', 'local', 'home', 'work', 'way', 'border', 'make', 'major', 'scientist', 'fast', 'visit', 'deadly', 'development', 'top', 'many', 'control', 'meet', 'tell', 'support', 'aid', 'phone', 'offer', 'continue', 'remain', 'call', 'solidarity', 'team', 'across', 'medic', 'novel', 'president', 'outbreak', 'best', 'spreading', 'measure', 'yuan', 'china', 'extend', 'country', 'face', 'give', 'student', 'least', 'production', 'show', 'response', 'begin', 'live', 'situation', 'jinping', 'prevention', 'daily', 'donate', 'amid', 'fight', 'ensure', 'effort', 'video', 'foreign', 'curb', 'life', 'community', 'east', 'wang', 'newly', 'resident', 'trade', 'stand', 'researcher', 'follow', 'trump', 'city', 'contain', 'join', 'read', 'late', 'win', 'send', 'leader', 'information', 'ask', 'check', 'surgical', 'long', 'spread', 'expert']\n",
            "['day', 'france', 'bring', 'outside', 'drop', 'central', 'total', 'miss', 'report', 'macao', 'epicenter', 'condition', 'pneumonia', 'pass', 'confirm', 'new', 'human', 'three', 'authority', 'region', 'province', 'record', 'hubei', 'one', 'suspected', 'end', 'number', 'data', 'suspect', 'release', 'die', 'infection', 'rise', 'first', 'increase', 'man', 'death', 'recover', 'toll', 'reach', 'include', 'critical', 'case', 'dead', 'confirmed', 'discharge', 'another', 'taiwan']\n",
            "['look', 'patient', 'leishenshan', 'infect', 'expect', 'put', 'lunar', 'year', 'doctor', 'bed', 'hospital', 'receive', 'mother', 'care', 'build', 'second', 'facility', 'inside', 'old', 'isolation', 'protective', 'start', 'baby', 'symptom', 'child', 'month', 'staff', 'medicine', 'makeshift', 'reporter', 'treatment', 'recovery', 'holiday', 'severe', 'worker', 'treat', 'construction', 'cure', 'medical', 'model', 'use']\n",
            "['concern', 'emergency', 'director', 'global', 'would', 'declare', 'disease', 'national', 'health', 'public', 'minister', 'world', 'must', 'hold', 'say', 'pandemic', 'center', 'ministry', 'early', 'infectious', 'official', 'threat', 'accord', 'organization', 'commission', 'chief', 'could', 'press', 'international', 'transmission', 'general', 'conference']\n",
            "['dock', 'princess', 'week', 'also', 'hong', 'japan', 'cruise', 'allow', 'positive', 'virus', 'government', 'aboard', 'ship', 'japanese', 'evacuate', 'diamond', 'negative', 'kill', 'away', 'passenger', 'people', 'two', 'test', 'board', 'plane', 'leave', 'quarantine']\n",
            "['great', 'cause', 'covid', 'study', 'related', 'already', 'lead']\n"
          ]
        }
      ]
    },
    {
      "cell_type": "code",
      "source": [
        "threshold = 0.00001\n",
        "for i in range(len(community_mod_list)):\n",
        "  sum_China, sum_USA, sum_China_USA = community_check(community_mod_list[i], freq_dict_China, freq_dict_USA, G_China, G_USA, threshold)\n",
        "  print('Community: ', i)\n",
        "  print('China: ', round(100 * sum_China / len(community_mod_list[i])),'%')\n",
        "  print('USA: ', round(100 * sum_USA / len(community_mod_list[i])),'%')\n",
        "  print('China&USA: ', round(100 * sum_China_USA / len(community_mod_list[i])),'%')\n",
        "  print()"
      ],
      "metadata": {
        "colab": {
          "base_uri": "https://localhost:8080/"
        },
        "outputId": "da8cc7e5-6969-4739-8f2a-e223517bd58a",
        "id": "Pv-gtHN8yOAR"
      },
      "execution_count": 144,
      "outputs": [
        {
          "output_type": "stream",
          "name": "stdout",
          "text": [
            "Community:  0\n",
            "China:  26 %\n",
            "USA:  69 %\n",
            "China&USA:  4 %\n",
            "\n",
            "Community:  1\n",
            "China:  63 %\n",
            "USA:  34 %\n",
            "China&USA:  2 %\n",
            "\n",
            "Community:  2\n",
            "China:  46 %\n",
            "USA:  46 %\n",
            "China&USA:  8 %\n",
            "\n",
            "Community:  3\n",
            "China:  76 %\n",
            "USA:  20 %\n",
            "China&USA:  5 %\n",
            "\n",
            "Community:  4\n",
            "China:  47 %\n",
            "USA:  47 %\n",
            "China&USA:  6 %\n",
            "\n",
            "Community:  5\n",
            "China:  19 %\n",
            "USA:  78 %\n",
            "China&USA:  0 %\n",
            "\n",
            "Community:  6\n",
            "China:  29 %\n",
            "USA:  71 %\n",
            "China&USA:  0 %\n",
            "\n"
          ]
        }
      ]
    },
    {
      "cell_type": "markdown",
      "source": [
        "**Metrics**"
      ],
      "metadata": {
        "id": "EzxTuZyhAzVs"
      }
    },
    {
      "cell_type": "code",
      "source": [
        "_ = compute_metrics(G, community_mod_list)"
      ],
      "metadata": {
        "outputId": "a8cbcda9-40e4-4e27-fa0e-c7f064a0c2fe",
        "colab": {
          "base_uri": "https://localhost:8080/"
        },
        "id": "Ls9sZ8ykAzVt"
      },
      "execution_count": 145,
      "outputs": [
        {
          "output_type": "stream",
          "name": "stdout",
          "text": [
            "Coverage:  0.4164105716041795\n",
            "Performance:  0.7469342902432146\n",
            "Modularity:  0.21828728489729782\n"
          ]
        }
      ]
    },
    {
      "cell_type": "markdown",
      "source": [
        "### Louvain Community Detection\n",
        "Find the best partition of a graph using the Louvain Community Detection Algorithm."
      ],
      "metadata": {
        "id": "c8g4PIsOyOAR"
      }
    },
    {
      "cell_type": "code",
      "source": [
        "# communities_louvain = community.louvain.louvain_communities(G)\n",
        "# partitions_louvain = community.louvain.louvain_partitions(G)\n",
        "\n",
        "community_louv = community_louvain.best_partition(G,weight='weight')\n",
        "\n",
        "# modularity_louvain = community.modularity(communities_louvain, G) # ERROR: not a partition\n",
        "# print(\"The modularity Q based on networkx is {}\".format(modularity_louvain))"
      ],
      "metadata": {
        "id": "HAC-IeD1yOAS"
      },
      "execution_count": 146,
      "outputs": []
    },
    {
      "cell_type": "code",
      "source": [
        "max = np.max(list(community_louv.values()))\n",
        "community_louvain_list = []\n",
        "for i in range(max+1):\n",
        "  community_louvain_list.append([])\n",
        "for key in list(community_louv.keys()):\n",
        "  community_louvain_list[community_louv[key]].append(key)\n",
        "for i in range(max+1):\n",
        "  print(community_louvain_list[i])"
      ],
      "metadata": {
        "colab": {
          "base_uri": "https://localhost:8080/"
        },
        "outputId": "86607167-594b-4d1c-d50d-829d8e8990ba",
        "id": "6FjUtqq1yOAS"
      },
      "execution_count": 147,
      "outputs": [
        {
          "output_type": "stream",
          "name": "stdout",
          "text": [
            "['talk', 'china', 'coronavirus', 'novel', 'outbreak', 'university', 'student', 'face', 'deal', 'medium', 'watch', 'make', 'take', 'hard', 'announce', 'team', 'expert', 'among', 'country', 'asia', 'state', 'information', 'office', 'across', 'line', 'since', 'medic', 'arrive', 'support', 'local', 'help', 'fight', 'cut', 'firm', 'express', 'contain', 'epidemic', 'nearly', 'risk', 'drug', 'ensure', 'give', 'trump', 'try', 'share', 'effort', 'send', 'amid', 'offer', 'system', 'wang', 'mask', 'donate', 'show', 'australia', 'daily', 'begin', 'back', 'work', 'service', 'industry', 'combat', 'get', 'business', 'issue', 'plan', 'possible', 'high', 'raise', 'woman', 'measure', 'south', 'leave', 'home', 'city', 'food', 'come', 'fund', 'battle', 'billion', 'dollar', 'win', 'meet', 'due', 'big', 'beijing', 'economy', 'fast', 'part', 'slow', 'many', 'find', 'aid', 'may', 'stand', 'infected', 'see', 'spread', 'response', 'diagnose', 'much', 'yuan', 'company', 'production', 'president', 'solidarity', 'join', 'leader', 'recently', 'east', 'million', 'affect', 'growth', 'far', 'phone', 'call', 'despite', 'scientist', 'respiratory', 'become', 'full', 'together', 'keep', 'citizen', 'ask', 'head', 'nurse', 'close', 'rate', 'long', 'last', 'could', 'stop', 'impact', 'government', 'group', 'flu', 'top', 'economic', 'situation', 'major', 'video', 'grow', 'united', 'curb', 'warn', 'stay', 'strong', 'mother', 'time', 'man', 'strand', 'tell', 'ban', 'flight', 'suspend', 'confidence', 'develop', 'vaccine', 'low', 'travel', 'urge', 'good', 'social', 'large', 'prevent', 'trade', 'restriction', 'still', 'way', 'border', 'return', 'special', 'base', 'newly', 'read', 'news', 'place', 'resident', 'shanghai', 'anti', 'story', 'child', 'department', 'five', 'deadly', 'party', 'level', 'continue', 'order', 'source', 'demand', 'six', 'hit', 'area', 'cancel', 'visit', 'sale', 'life', 'animal', 'sell', 'market', 'meeting', 'extend', 'hand', 'xinhua', 'like', 'wish', 'jinping', 'best', 'step', 'community', 'check', 'carry', 'hundred', 'apple', 'robot', 'force', 'thousand', 'air', 'remain', 'fear', 'trial', 'stock', 'record', 'move', 'avoid', 'temporarily', 'globally', 'wall', 'evacuee', 'street', 'illness', 'fall', 'california', 'contact', 'clinical', 'airport', 'korea', 'nine', 'singapore', 'thailand', 'surgical', 'wear', 'protect', 'turn', 'police', 'panic', 'currently', 'researcher', 'research', 'charter', 'wash', 'question', 'finally', 'near', 'well', 'today', 'appear', 'provide', 'dozen', 'asian', 'several', 'headline', 'whether', 'quarter', 'potential', 'run', 'limit', 'screen', 'fly', 'bank', 'investor', 'contract', 'almost', 'officer', 'tokyo', 'cough', 'front']\n",
            "['outside', 'confirm', 'case', 'central', 'epicenter', 'hubei', 'province', 'number', 'drop', 'day', 'include', 'critical', 'total', 'one', 'new', 'end', 'three', 'die', 'increase', 'miss', 'authority', 'pneumonia', 'death', 'confirmed', 'family', 'dead', 'discharge', 'first', 'report', 'suspected', 'toll', 'another', 'macao', 'taiwan', 'infection', 'recover', 'bring', 'rise', 'region', 'pass', 'france', 'person', 'release', 'reach', 'strain', 'suspect', 'four', 'condition', 'data']\n",
            "['live', 'brief', 'late', 'update', 'around', 'development', 'follow', 'beyond', 'spreading']\n",
            "['medical', 'worker', 'hospital', 'medicine', 'supply', 'treatment', 'use', 'start', 'second', 'patient', 'inside', 'year', 'old', 'put', 'isolation', 'reporter', 'doctor', 'makeshift', 'symptom', 'month', 'baby', 'cure', 'holiday', 'set', 'build', 'bed', 'shortage', 'race', 'staff', 'military', 'treat', 'expect', 'model', 'lunar', 'look', 'leishenshan', 'receive', 'construction', 'recovery', 'protective', 'severe', 'care', 'facility']\n",
            "['great', 'lead', 'covid', 'cause', 'study', 'related', 'already']\n",
            "['people', 'cruise', 'ship', 'japan', 'virus', 'week', 'infect', 'also', 'evacuate', 'test', 'need', 'hong', 'two', 'plane', 'least', 'positive', 'quarantine', 'know', 'passenger', 'kill', 'japanese', 'diamond', 'princess', 'board', 'dock', 'aboard', 'allow', 'away', 'result', 'australian', 'negative']\n",
            "['world', 'disease', 'health', 'organization', 'international', 'prevention', 'chief', 'say', 'foreign', 'minister', 'official', 'hold', 'control', 'national', 'commission', 'transmission', 'global', 'accord', 'press', 'conference', 'ministry', 'concern', 'public', 'emergency', 'general', 'director', 'early', 'would', 'threat', 'center', 'declare', 'must', 'human', 'pandemic', 'infectious', 'statement']\n"
          ]
        }
      ]
    },
    {
      "cell_type": "code",
      "source": [
        "threshold = 0.00001\n",
        "for i in range(len(community_louvain_list)):\n",
        "  sum_China, sum_USA, sum_China_USA = community_check(community_louvain_list[i], freq_dict_China, freq_dict_USA, G_China, G_USA, threshold)\n",
        "  print('Community: ', i)\n",
        "  print('China: ', round(100 * sum_China / len(community_louvain_list[i])),'%')\n",
        "  print('USA: ', round(100 * sum_USA / len(community_louvain_list[i])),'%')\n",
        "  print('China&USA: ', round(100 * sum_China_USA / len(community_louvain_list[i])),'%')\n",
        "  print()"
      ],
      "metadata": {
        "colab": {
          "base_uri": "https://localhost:8080/"
        },
        "outputId": "63320c58-dd35-44ee-e523-986f3e6a04a4",
        "id": "iz960EOOyOAS"
      },
      "execution_count": 148,
      "outputs": [
        {
          "output_type": "stream",
          "name": "stdout",
          "text": [
            "Community:  0\n",
            "China:  42 %\n",
            "USA:  54 %\n",
            "China&USA:  3 %\n",
            "\n",
            "Community:  1\n",
            "China:  47 %\n",
            "USA:  45 %\n",
            "China&USA:  8 %\n",
            "\n",
            "Community:  2\n",
            "China:  33 %\n",
            "USA:  67 %\n",
            "China&USA:  0 %\n",
            "\n",
            "Community:  3\n",
            "China:  72 %\n",
            "USA:  26 %\n",
            "China&USA:  2 %\n",
            "\n",
            "Community:  4\n",
            "China:  29 %\n",
            "USA:  71 %\n",
            "China&USA:  0 %\n",
            "\n",
            "Community:  5\n",
            "China:  16 %\n",
            "USA:  77 %\n",
            "China&USA:  3 %\n",
            "\n",
            "Community:  6\n",
            "China:  50 %\n",
            "USA:  42 %\n",
            "China&USA:  8 %\n",
            "\n"
          ]
        }
      ]
    },
    {
      "cell_type": "markdown",
      "source": [
        "**Metrics**"
      ],
      "metadata": {
        "id": "JFWAH5TXBzCR"
      }
    },
    {
      "cell_type": "code",
      "source": [
        "_ = compute_metrics(G, community_louvain_list)"
      ],
      "metadata": {
        "outputId": "f5a6fae7-7d4a-4ec5-b07c-542a2d5659d2",
        "colab": {
          "base_uri": "https://localhost:8080/"
        },
        "id": "YcHXKCVbBzCZ"
      },
      "execution_count": 149,
      "outputs": [
        {
          "output_type": "stream",
          "name": "stdout",
          "text": [
            "Coverage:  0.5009219422249539\n",
            "Performance:  0.5915045073956298\n",
            "Modularity:  0.2218519183055515\n"
          ]
        }
      ]
    },
    {
      "cell_type": "markdown",
      "source": [
        "## SeptOct2020"
      ],
      "metadata": {
        "id": "x4rjFc5aymsS"
      }
    },
    {
      "cell_type": "code",
      "source": [
        "period = '_SeptOct2020'\n",
        "China = pd.read_csv('/content/China'+period+'.csv')\n",
        "USA = pd.read_csv('/content/USA'+period+'.csv')\n",
        "\n",
        "edges = pd.read_csv('/content/edgelist_China_USA'+period+'.csv')\n",
        "edges_China = pd.read_csv('/content/edgelist_China'+period+'.csv')\n",
        "edges_USA = pd.read_csv('/content/edgelist_USA'+period+'.csv')\n",
        "\n",
        "text_China = extract_text(China)\n",
        "text_USA = extract_text(USA)\n",
        "\n",
        "freq_dict_China = frequency_dictionary(text_China)\n",
        "freq_dict_China = dict(sorted(freq_dict_China.items(), key=lambda item: item[1], reverse = True))   #order from more frequent to less frequent word\n",
        "\n",
        "freq_dict_USA = frequency_dictionary(text_USA)\n",
        "freq_dict_USA = dict(sorted(freq_dict_USA.items(), key=lambda item: item[1], reverse = True))   #order from more frequent to less frequent word\n",
        "\n",
        "net, net_df = network_from_edges(edges)\n",
        "net_China, net_df_China = network_from_edges(edges_China)\n",
        "net_USA, net_df_USA = network_from_edges(edges_USA)\n",
        "\n",
        "G = get_graph(net)\n",
        "G_China = get_graph(net_China)\n",
        "G_USA = get_graph(net_USA)"
      ],
      "metadata": {
        "id": "aHy74BPdymsT"
      },
      "execution_count": 119,
      "outputs": []
    },
    {
      "cell_type": "code",
      "source": [
        "print('China&USA:')\n",
        "print('Nodes: ',len(G.nodes()))\n",
        "print('Edges: ',len(G.edges()))\n",
        "print('Is connected: ',nx.is_connected(G))\n",
        "print()\n",
        "print('China:')\n",
        "print('Nodes: ',len(G_China.nodes()))\n",
        "print('Edges: ',len(G_China.edges()))\n",
        "print('Is connected: ',nx.is_connected(G_China))\n",
        "print()\n",
        "print('USA:')\n",
        "print('Nodes: ',len(G_USA.nodes()))\n",
        "print('Edges: ',len(G_USA.edges()))\n",
        "print('Is connected: ',nx.is_connected(G_USA))\n",
        "print()"
      ],
      "metadata": {
        "outputId": "ed8e783e-c49e-4d6e-ff4f-44a1122c2036",
        "colab": {
          "base_uri": "https://localhost:8080/"
        },
        "id": "rmOntpbPymsU"
      },
      "execution_count": 120,
      "outputs": [
        {
          "output_type": "stream",
          "name": "stdout",
          "text": [
            "China&USA:\n",
            "Nodes:  507\n",
            "Edges:  5768\n",
            "Is connected:  True\n",
            "\n",
            "China:\n",
            "Nodes:  173\n",
            "Edges:  556\n",
            "Is connected:  False\n",
            "\n",
            "USA:\n",
            "Nodes:  512\n",
            "Edges:  4963\n",
            "Is connected:  True\n",
            "\n"
          ]
        }
      ]
    },
    {
      "cell_type": "markdown",
      "source": [
        "### Bipartition\n",
        "Partition a graph into two blocks using the Kernighan–Lin algorithm."
      ],
      "metadata": {
        "id": "3jtoRKf2ymsU"
      }
    },
    {
      "cell_type": "code",
      "source": [
        "community_bipart = community.kernighan_lin_bisection(G,weight='weight')"
      ],
      "metadata": {
        "id": "l0nnBYp-ymsU"
      },
      "execution_count": 122,
      "outputs": []
    },
    {
      "cell_type": "code",
      "source": [
        "print(community_bipart[0])\n",
        "print(community_bipart[1])"
      ],
      "metadata": {
        "colab": {
          "base_uri": "https://localhost:8080/"
        },
        "outputId": "f9f74223-6635-47a8-9d4e-5141ce4ffb5c",
        "id": "ioHEdWrzymsV"
      },
      "execution_count": 123,
      "outputs": [
        {
          "output_type": "stream",
          "name": "stdout",
          "text": [
            "{'company', 'france', 'approve', 'korea', 'add', 'milestone', 'real', 'today', 'receive', 'enough', 'strong', 'boom', 'promise', 'facility', 'service', 'rule', 'federal', 'north', 'family', 'share', 'whether', 'keep', 'loss', 'experience', 'season', 'game', 'hard', 'person', 'also', 'stimulus', 'bar', 'free', 'gathering', 'player', 'physician', 'commission', 'stay', 'mayor', 'immune', 'side', 'sen', 'within', 'prevent', 'air', 'young', 'press', 'base', 'recover', 'democrat', 'senator', 'bank', 'transmission', 'almost', 'third', 'republican', 'place', 'flight', 'move', 'six', 'decline', 'update', 'research', 'group', 'outside', 'epidemic', 'shot', 'stop', 'firm', 'good', 'supply', 'package', 'court', 'breaking', 'system', 'register', 'produce', 'south', 'pay', 'full', 'battle', 'poll', 'party', 'industry', 'voter', 'survive', 'local', 'italy', 'yet', 'nationwide', 'jersey', 'statement', 'nine', 'like', 'way', 'expose', 'feel', 'release', 'post', 'night', 'business', 'among', 'major', 'twitter', 'scientist', 'effect', 'employee', 'boost', 'issue', 'immunity', 'plastic', 'kill', 'international', 'serious', 'likely', 'french', 'protocol', 'seek', 'america', 'development', 'possible', 'town', 'look', 'right', 'story', 'control', 'four', 'another', 'meet', 'qingdao', 'impose', 'bad', 'ahead', 'street', 'shut', 'much', 'bring', 'demand', 'impact', 'support', 'despite', 'self', 'seven', 'question', 'offer', 'woman', 'fund', 'lead', 'message', 'reopen', 'previous', 'protest', 'protect', 'amy', 'congress', 'team', 'small', 'novel', 'fear', 'school', 'region', 'maker', 'financial', 'flu', 'delay', 'future', 'half', 'open', 'trillion', 'already', 'challenge', 'term', 'worry', 'billion', 'student', 'least', 'effective', 'holiday', 'severe', 'urge', 'live', 'thousand', 'senior', 'war', 'prevention', 'british', 'watch', 'play', 'think', 'child', 'push', 'age', 'political', 'change', 'race', 'effort', 'director', 'compare', 'supreme', 'video', 'market', 'life', 'activity', 'catch', 'winter', 'institute', 'resident', 'vote', 'cause', 'office', 'soon', 'researcher', 'provide', 'stock', 'slow', 'recent', 'medium', 'avoid', 'task', 'struggle', 'review', 'benefit', 'reduce', 'lose', 'crisis', 'raise', 'contain', 'turn', 'approval', 'order', 'allow', 'morning', 'handling', 'less', 'win', 'restaurant', 'send', 'might', 'trail', 'several', 'happen', 'germany', 'member', 'senate', 'try', 'ask', 'vulnerable', 'job', 'available', 'social', 'long', 'climate', 'supporter', 'resurgence'}\n",
            "{'day', 'stage', 'global', 'nancy', 'mask', 'surpass', 'year', 'johnson', 'hospital', 'doctor', 'million', 'spike', 'coverage', 'result', 'brazil', 'coronavirus', 'care', 'news', 'australia', 'clinical', 'participant', 'vaccine', 'adviser', 'adult', 'level', 'announce', 'pass', 'experimental', 'new', 'democratic', 'authority', 'fall', 'aide', 'secretary', 'say', 'dose', 'debate', 'even', 'week', 'surge', 'trend', 'month', 'end', 'may', 'reed', 'exclusive', 'prime', 'early', 'time', 'recovery', 'develop', 'five', 'drug', 'vice', 'toll', 'state', 'economy', 'reach', 'study', 'appear', 'know', 'people', 'need', 'medical', 'talk', 'force', 'take', 'governor', 'around', 'become', 'emergency', 'patient', 'infect', 'big', 'find', 'due', 'past', 'disease', 'total', 'next', 'campaign', 'restriction', 'large', 'hope', 'analysis', 'diagnosis', 'deal', 'hick', 'help', 'tweet', 'last', 'hold', 'home', 'work', 'rally', 'military', 'risk', 'ministry', 'center', 'well', 'head', 'data', 'high', 'official', 'make', 'get', 'rise', 'set', 'former', 'kamala', 'candidate', 'low', 'fauci', 'nominee', 'africa', 'want', 'come', 'russia', 'top', 'many', 'still', 'travel', 'since', 'potential', 'tell', 'tally', 'put', 'aid', 'penny', 'wife', 'sign', 'ease', 'would', 'continue', 'united', 'wave', 'remain', 'call', 'rate', 'nearly', 'second', 'report', 'pause', 'part', 'minister', 'across', 'world', 'return', 'president', 'event', 'outbreak', 'hit', 'record', 'presidential', 'symptom', 'plan', 'measure', 'one', 'authorization', 'safe', 'china', 'bill', 'country', 'face', 'source', 'accord', 'nation', 'government', 'give', 'see', 'chief', 'treatment', 'show', 'first', 'could', 'response', 'contact', 'begin', 'death', 'treat', 'contract', 'case', 'volunteer', 'daily', 'election', 'close', 'expert', 'fight', 'amid', 'trial', 'use', 'leave', 'food', 'concern', 'mark', 'expect', 'claim', 'back', 'without', 'curb', 'far', 'antibody', 'negative', 'national', 'covid', 'university', 'relief', 'health', 'public', 'spread', 'old', 'clear', 'condition', 'follow', 'hour', 'single', 'confirm', 'three', 'test', 'start', 'wear', 'administration', 'warn', 'trump', 'economic', 'city', 'pandemic', 'staff', 'number', 'join', 'infection', 'die', 'white', 'virus', 'positive', 'walter', 'late', 'organization', 'leader', 'increase', 'lady', 'mike', 'illness', 'worker', 'house', 'include', 'india', 'york', 'safety', 'speaker', 'joe', 'two', 'general', 'quarantine'}\n"
          ]
        }
      ]
    },
    {
      "cell_type": "code",
      "source": [
        "threshold = 0.00001\n",
        "sum_China_0, sum_USA_0, sum_China_USA_0 = community_check(community_bipart[0], freq_dict_China, freq_dict_USA, G_China, G_USA, threshold)\n",
        "sum_China_1, sum_USA_1, sum_China_USA_1 = community_check(community_bipart[1], freq_dict_China, freq_dict_USA, G_China, G_USA, threshold)"
      ],
      "metadata": {
        "id": "f-kx3K49ymsV"
      },
      "execution_count": 124,
      "outputs": []
    },
    {
      "cell_type": "code",
      "source": [
        "print('First community:')\n",
        "print('China: ', round(100 * sum_China_0 / len(community_bipart[0])),'%')\n",
        "print('USA: ', round(100 * sum_USA_0 / len(community_bipart[0])),'%')\n",
        "print('China&USA: ', round(100 * sum_China_USA_0 / len(community_bipart[0])),'%')\n",
        "print()\n",
        "print('China: ', round(100 * sum_China_1 / len(community_bipart[1])),'%')\n",
        "print('USA: ', round(100 * sum_USA_1 / len(community_bipart[1])),'%')\n",
        "print('China&USA: ', round(100 * sum_China_USA_1 / len(community_bipart[1])),'%')"
      ],
      "metadata": {
        "colab": {
          "base_uri": "https://localhost:8080/"
        },
        "outputId": "f2b24b05-7837-435a-d4e4-f933e4c4de68",
        "id": "KNcMrcjbymsV"
      },
      "execution_count": 125,
      "outputs": [
        {
          "output_type": "stream",
          "name": "stdout",
          "text": [
            "First community:\n",
            "China:  28 %\n",
            "USA:  65 %\n",
            "China&USA:  6 %\n",
            "\n",
            "China:  39 %\n",
            "USA:  56 %\n",
            "China&USA:  4 %\n"
          ]
        }
      ]
    },
    {
      "cell_type": "markdown",
      "source": [
        "**Metrics**"
      ],
      "metadata": {
        "id": "sSUfH9uwB8Bz"
      }
    },
    {
      "cell_type": "code",
      "source": [
        "_ = compute_metrics(G, community_bipart)"
      ],
      "metadata": {
        "outputId": "a25f07fc-d9a3-47b4-c033-1b8a533fe5a6",
        "colab": {
          "base_uri": "https://localhost:8080/"
        },
        "id": "eNE1YveLB8Bz"
      },
      "execution_count": 126,
      "outputs": [
        {
          "output_type": "stream",
          "name": "stdout",
          "text": [
            "Coverage:  0.7115117891816921\n",
            "Performance:  0.5200084196739715\n",
            "Modularity:  -0.0027572798112494128\n"
          ]
        }
      ]
    },
    {
      "cell_type": "markdown",
      "source": [
        "### Modularity-based communities\n",
        "Find communities in G using greedy modularity maximization."
      ],
      "metadata": {
        "id": "8ul-KgK6ymsW"
      }
    },
    {
      "cell_type": "code",
      "source": [
        "community_mod = community.greedy_modularity_communities(G, n_communities=2, weight='weight')\n",
        "# communities_naive_mod = community.naive_greedy_modularity_communities(G)"
      ],
      "metadata": {
        "id": "CVldHHsBymsW"
      },
      "execution_count": 127,
      "outputs": []
    },
    {
      "cell_type": "code",
      "source": [
        "community_mod_list = []\n",
        "for comm in community_mod:\n",
        " print(list(comm))\n",
        " community_mod_list.append(list(comm))"
      ],
      "metadata": {
        "colab": {
          "base_uri": "https://localhost:8080/"
        },
        "outputId": "04c789bf-6486-4d47-a743-eac20fff1411",
        "id": "3J3nNC37ymsW"
      },
      "execution_count": 128,
      "outputs": [
        {
          "output_type": "stream",
          "name": "stdout",
          "text": [
            "['company', 'stage', 'approve', 'johnson', 'real', 'receive', 'enough', 'coverage', 'strong', 'result', 'promise', 'news', 'participant', 'service', 'facility', 'clinical', 'rule', 'adult', 'vaccine', 'share', 'experimental', 'loss', 'season', 'dose', 'even', 'exclusive', 'end', 'free', 'gathering', 'may', 'prime', 'early', 'immune', 'develop', 'side', 'drug', 'young', 'study', 'bank', 'transmission', 'third', 'appear', 'know', 'need', 'become', 'emergency', 'patient', 'infect', 'due', 'find', 'group', 'shot', 'firm', 'supply', 'system', 'pay', 'produce', 'full', 'battle', 'party', 'industry', 'deal', 'help', 'survive', 'home', 'work', 'like', 'risk', 'head', 'data', 'post', 'employee', 'make', 'get', 'effect', 'scientist', 'boost', 'plastic', 'immunity', 'candidate', 'serious', 'likely', 'french', 'protocol', 'seek', 'development', 'possible', 'want', 'russia', 'story', 'right', 'meet', 'potential', 'support', 'despite', 'sign', 'question', 'offer', 'would', 'woman', 'fund', 'wave', 'protest', 'protect', 'second', 'pause', 'part', 'minister', 'maker', 'flu', 'financial', 'delay', 'plan', 'authorization', 'open', 'safe', 'challenge', 'worry', 'term', 'billion', 'effective', 'show', 'severe', 'response', 'british', 'volunteer', 'play', 'fight', 'age', 'push', 'trial', 'use', 'food', 'concern', 'race', 'compare', 'back', 'market', 'life', 'activity', 'catch', 'antibody', 'institute', 'resident', 'covid', 'soon', 'single', 'old', 'researcher', 'provide', 'follow', 'clear', 'review', 'benefit', 'reduce', 'raise', 'contain', 'join', 'approval', 'late', 'win', 'illness', 'try', 'worker', 'safety', 'available', 'social', 'two', 'long']\n",
            "['add', 'nancy', 'mask', 'doctor', 'hospital', 'adviser', 'whether', 'announce', 'democratic', 'experience', 'aide', 'game', 'secretary', 'say', 'person', 'debate', 'week', 'also', 'stimulus', 'player', 'reed', 'physician', 'commission', 'recovery', 'stay', 'sen', 'air', 'press', 'base', 'vice', 'democrat', 'senator', 'place', 'republican', 'flight', 'move', 'medical', 'talk', 'take', 'outside', 'stop', 'good', 'package', 'court', 'breaking', 'next', 'campaign', 'poll', 'hope', 'analysis', 'diagnosis', 'hick', 'voter', 'tweet', 'hold', 'rally', 'jersey', 'statement', 'military', 'way', 'expose', 'center', 'feel', 'well', 'general', 'release', 'official', 'night', 'twitter', 'former', 'kamala', 'international', 'fauci', 'nominee', 'town', 'come', 'top', 'still', 'four', 'travel', 'ahead', 'self', 'much', 'tell', 'put', 'aid', 'penny', 'wife', 'continue', 'remain', 'call', 'message', 'amy', 'congress', 'team', 'small', 'return', 'event', 'fear', 'president', 'presidential', 'symptom', 'bill', 'trillion', 'face', 'source', 'give', 'treatment', 'chief', 'least', 'first', 'contact', 'begin', 'treat', 'contract', 'senior', 'think', 'election', 'political', 'leave', 'mark', 'director', 'claim', 'supreme', 'video', 'without', 'negative', 'vote', 'office', 'relief', 'public', 'condition', 'stock', 'three', 'test', 'avoid', 'wear', 'administration', 'economic', 'trump', 'staff', 'crisis', 'turn', 'handling', 'morning', 'less', 'positive', 'virus', 'white', 'walter', 'send', 'leader', 'trail', 'happen', 'several', 'lady', 'member', 'mike', 'senate', 'ask', 'house', 'include', 'speaker', 'joe', 'supporter', 'quarantine']\n",
            "['day', 'france', 'global', 'year', 'surpass', 'million', 'milestone', 'today', 'spike', 'boom', 'brazil', 'care', 'coronavirus', 'australia', 'federal', 'family', 'level', 'pass', 'new', 'authority', 'fall', 'hard', 'surge', 'trend', 'month', 'bar', 'time', 'mayor', 'five', 'within', 'recover', 'toll', 'state', 'economy', 'almost', 'people', 'six', 'decline', 'governor', 'force', 'around', 'big', 'research', 'epidemic', 'past', 'restriction', 'register', 'total', 'large', 'local', 'last', 'italy', 'yet', 'nationwide', 'nine', 'ministry', 'set', 'high', 'business', 'among', 'major', 'rise', 'issue', 'kill', 'low', 'america', 'many', 'look', 'another', 'bad', 'impose', 'qingdao', 'shut', 'impact', 'street', 'since', 'tally', 'bring', 'seven', 'ease', 'united', 'lead', 'reopen', 'previous', 'rate', 'nearly', 'report', 'across', 'novel', 'world', 'outbreak', 'school', 'hit', 'region', 'record', 'future', 'one', 'half', 'measure', 'china', 'already', 'country', 'nation', 'accord', 'government', 'see', 'student', 'holiday', 'could', 'death', 'live', 'thousand', 'case', 'war', 'daily', 'close', 'child', 'amid', 'effort', 'expect', 'curb', 'far', 'winter', 'cause', 'national', 'university', 'health', 'hour', 'slow', 'confirm', 'recent', 'medium', 'start', 'task', 'struggle', 'warn', 'city', 'lose', 'order', 'pandemic', 'resurgence', 'number', 'infection', 'die', 'allow', 'organization', 'restaurant', 'might', 'increase', 'germany', 'india', 'vulnerable', 'york', 'job', 'spread', 'expert']\n",
            "['south', 'urge', 'reach', 'korea', 'prevention', 'north', 'africa', 'control', 'disease', 'prevent']\n",
            "['update', 'keep', 'watch', 'demand']\n",
            "['change', 'climate']\n"
          ]
        }
      ]
    },
    {
      "cell_type": "code",
      "source": [
        "threshold = 0.00001\n",
        "for i in range(len(community_mod_list)):\n",
        "  sum_China, sum_USA, sum_China_USA = community_check(community_mod_list[i], freq_dict_China, freq_dict_USA, G_China, G_USA, threshold)\n",
        "  print('Community: ', i)\n",
        "  print('China: ', round(100 * sum_China / len(community_mod_list[i])),'%')\n",
        "  print('USA: ', round(100 * sum_USA / len(community_mod_list[i])),'%')\n",
        "  print('China&USA: ', round(100 * sum_China_USA / len(community_mod_list[i])),'%')\n",
        "  print()"
      ],
      "metadata": {
        "colab": {
          "base_uri": "https://localhost:8080/"
        },
        "outputId": "fa247bbc-8f12-4895-a22d-524a7ae7fdb2",
        "id": "Dr2L_0OiymsW"
      },
      "execution_count": 129,
      "outputs": [
        {
          "output_type": "stream",
          "name": "stdout",
          "text": [
            "Community:  0\n",
            "China:  23 %\n",
            "USA:  72 %\n",
            "China&USA:  5 %\n",
            "\n",
            "Community:  1\n",
            "China:  30 %\n",
            "USA:  65 %\n",
            "China&USA:  5 %\n",
            "\n",
            "Community:  2\n",
            "China:  50 %\n",
            "USA:  44 %\n",
            "China&USA:  6 %\n",
            "\n",
            "Community:  3\n",
            "China:  50 %\n",
            "USA:  50 %\n",
            "China&USA:  0 %\n",
            "\n",
            "Community:  4\n",
            "China:  25 %\n",
            "USA:  75 %\n",
            "China&USA:  0 %\n",
            "\n",
            "Community:  5\n",
            "China:  0 %\n",
            "USA:  100 %\n",
            "China&USA:  0 %\n",
            "\n"
          ]
        }
      ]
    },
    {
      "cell_type": "markdown",
      "source": [
        "**Metrics**"
      ],
      "metadata": {
        "id": "5BZSooXqB_3K"
      }
    },
    {
      "cell_type": "code",
      "source": [
        "_ = compute_metrics(G, community_mod_list)"
      ],
      "metadata": {
        "outputId": "a95855e6-b684-417e-91a6-d69b318809eb",
        "colab": {
          "base_uri": "https://localhost:8080/"
        },
        "id": "3Hbk7whOB_3K"
      },
      "execution_count": 130,
      "outputs": [
        {
          "output_type": "stream",
          "name": "stdout",
          "text": [
            "Coverage:  0.5409153952843273\n",
            "Performance:  0.691582664826812\n",
            "Modularity:  0.22681624599609804\n"
          ]
        }
      ]
    },
    {
      "cell_type": "markdown",
      "source": [
        "### Louvain Community Detection\n",
        "Find the best partition of a graph using the Louvain Community Detection Algorithm."
      ],
      "metadata": {
        "id": "pLJZJbXiymsX"
      }
    },
    {
      "cell_type": "code",
      "source": [
        "# communities_louvain = community.louvain.louvain_communities(G)\n",
        "# partitions_louvain = community.louvain.louvain_partitions(G)\n",
        "\n",
        "community_louv = community_louvain.best_partition(G, weight='weight')\n",
        "\n",
        "# modularity_louvain = community.modularity(communities_louvain, G) # ERROR: not a partition\n",
        "# print(\"The modularity Q based on networkx is {}\".format(modularity_louvain))"
      ],
      "metadata": {
        "id": "CsASGTD_ymsX"
      },
      "execution_count": 131,
      "outputs": []
    },
    {
      "cell_type": "code",
      "source": [
        "max = np.max(list(community_louv.values()))\n",
        "community_louvain_list = []\n",
        "for i in range(max+1):\n",
        "  community_louvain_list.append([])\n",
        "for key in list(community_louv.keys()):\n",
        "  community_louvain_list[community_louv[key]].append(key)\n",
        "for i in range(max+1):\n",
        "  print(community_louvain_list[i])"
      ],
      "metadata": {
        "colab": {
          "base_uri": "https://localhost:8080/"
        },
        "outputId": "4c8f272e-4ecb-4b81-f75e-9a3bcb1bcfa2",
        "id": "RGOv1FS_ymsX"
      },
      "execution_count": 132,
      "outputs": [
        {
          "output_type": "stream",
          "name": "stdout",
          "text": [
            "['daily', 'case', 'coronavirus', 'infection', 'high', 'since', 'number', 'new', 'hit', 'record', 'italy', 'week', 'report', 'health', 'time', 'increase', 'death', 'month', 'country', 'rise', 'france', 'see', 'expert', 'surpass', 'million', 'toll', 'confirm', 'one', 'resurgence', 'accord', 'ministry', 'register', 'national', 'student', 'university', 'local', 'among', 'across', 'pass', 'today', 'second', 'wave', 'surge', 'close', 'government', 'bring', 'total', 'tally', 'india', 'brazil', 'winter', 'could', 'milestone', 'outbreak', 'spread', 'measure', 'past', 'hour', 'city', 'far', 'day', 'state', 'set', 'york', 'qingdao', 'last', 'united', 'fall', 'germany', 'start', 'spike', 'two', 'authority', 'six', 'school', 'region', 'minister', 'restriction', 'seven', 'nine', 'nationwide', 'three', 'decline', 'nearly', 'bar', 'rate', 'australia', 'low', 'impose', 'level', 'ease', 'another', 'warn', 'half', 'child', 'curb', 'force', 'almost', 'research', 'trend', 'slow', 'federal', 'task', 'prime', 'novel', 'worry', 'business', 'mayor', 'street', 'place', 'british', 'restaurant', 'governor', 'allow', 'previous', 'reopen']\n",
            "['covid', 'around', 'get', 'sign', 'concern', 'pandemic', 'many', 'emergency', 'data', 'late', 'global', 'follow', 'people', 'raise', 'amid', 'patient', 'show', 'africa', 'disease', 'control', 'world', 'push', 'china', 'back', 'single', 'russia', 'lead', 'severe', 'virus', 'gathering', 'organization', 'may', 'nation', 'compare', 'large', 'die', 'french', 'big', 'part', 'bad', 'vaccine', 'live', 'update', 'fear', 'use', 'south', 'cause', 'korea', 'care', 'worker', 'medium', 'expect', 'produce', 'end', 'year', 'development', 'next', 'call', 'despite', 'crisis', 'immunity', 'become', 'issue', 'fight', 'recent', 'study', 'researcher', 'find', 'potential', 'drug', 'response', 'leader', 'side', 'illness', 'join', 'infect', 'home', 'possible', 'news', 'approve', 'make', 'less', 'risk', 'reduce', 'work', 'order', 'life', 'due', 'survive', 'struggle', 'candidate', 'support', 'clinical', 'trial', 'yet', 'kill', 'challenge', 'economy', 'hard', 'keep', 'resident', 'impact', 'long', 'major', 'season', 'johnson', 'rule', 'immune', 'contain', 'transmission', 'loss', 'offer', 'family', 'america', 'recover', 'system', 'fund', 'even', 'age', 'old', 'prevent', 'early', 'war', 'lose', 'race', 'group', 'watch', 'holiday', 'company', 'seek', 'firm', 'stage', 'help', 'food', 'market', 'provide', 'strong', 'economic', 'coverage', 'look', 'participant', 'scientist', 'know', 'plastic', 'effort', 'young', 'thousand', 'already', 'experimental', 'change', 'protest', 'protect', 'volunteer', 'battle', 'need', 'safe', 'billion', 'win', 'term', 'result', 'plan', 'vulnerable', 'receive', 'general', 'flu', 'enough', 'bank', 'develop', 'social', 'question', 'want', 'demand', 'job', 'clear', 'within', 'antibody', 'appear', 'urge', 'catch', 'safety', 'adult', 'exclusive', 'north', 'likely', 'share', 'pause', 'play', 'effect', 'dose', 'avoid', 'woman', 'prevention', 'right', 'institute', 'approval', 'climate', 'facility', 'epidemic', 'head', 'open', 'shut', 'move', 'might', 'promise', 'effective', 'service', 'meet', 'industry', 'full', 'boost', 'supply', 'party', 'future', 'available', 'soon', 'story', 'pay', 'real', 'protocol', 'shot', 'benefit', 'authorization', 'serious', 'review', 'financial', 'boom', 'maker']\n",
            "['mark', 'test', 'first', 'say', 'top', 'take', 'reach', 'commission', 'announce', 'positive', 'continue', 'official', 'center', 'public', 'face', 'begin', 'four', 'president', 'trump', 'include', 'also', 'travel', 'hospital', 'remain', 'five', 'come', 'without', 'doctor', 'analysis', 'add', 'ahead', 'handling', 'hope', 'give', 'person', 'diagnosis', 'quarantine', 'contact', 'source', 'white', 'house', 'least', 'stay', 'much', 'try', 'deal', 'contract', 'leave', 'walter', 'reed', 'medical', 'return', 'employee', 'stop', 'bill', 'wife', 'senior', 'member', 'democratic', 'presidential', 'joe', 'negative', 'stock', 'lady', 'send', 'recovery', 'still', 'way', 'free', 'breaking', 'experience', 'hold', 'sen', 'kamala', 'campaign', 'night', 'chief', 'player', 'twitter', 'tweet', 'claim', 'whether', 'video', 'military', 'director', 'international', 'republican', 'mike', 'trillion', 'relief', 'democrat', 'staff', 'vice', 'penny', 'nominee', 'debate', 'mask', 'treatment', 'press', 'secretary', 'tell', 'team', 'congress', 'message', 'supporter', 'symptom', 'wear', 'think', 'happen', 'speaker', 'nancy', 'amy', 'supreme', 'court', 'event', 'post', 'release', 'well', 'would', 'activity', 'fauci', 'like', 'administration', 'senate', 'town', 'adviser', 'election', 'small', 'political', 'turn', 'ask', 'poll', 'put', 'third', 'vote', 'aid', 'package', 'rally', 'delay', 'air', 'aide', 'stimulus', 'trail', 'several', 'senator', 'former', 'hick', 'morning', 'expose', 'talk', 'self', 'office', 'treat', 'good', 'statement', 'physician', 'voter', 'outside', 'jersey', 'condition', 'base', 'flight', 'game', 'feel']\n"
          ]
        }
      ]
    },
    {
      "cell_type": "code",
      "source": [
        "threshold = 0.00001\n",
        "for i in range(len(community_louvain_list)):\n",
        "  sum_China, sum_USA, sum_China_USA = community_check(community_louvain_list[i], freq_dict_China, freq_dict_USA, G_China, G_USA, threshold)\n",
        "  print('Community: ', i)\n",
        "  print('China: ', round(100 * sum_China / len(community_louvain_list[i])),'%')\n",
        "  print('USA: ', round(100 * sum_USA / len(community_louvain_list[i])),'%')\n",
        "  print('China&USA: ', round(100 * sum_China_USA / len(community_louvain_list[i])),'%')\n",
        "  print()"
      ],
      "metadata": {
        "colab": {
          "base_uri": "https://localhost:8080/"
        },
        "outputId": "5431909b-fead-4c6d-c86a-7a2f58f08496",
        "id": "b635ZAptymsY"
      },
      "execution_count": 133,
      "outputs": [
        {
          "output_type": "stream",
          "name": "stdout",
          "text": [
            "Community:  0\n",
            "China:  52 %\n",
            "USA:  42 %\n",
            "China&USA:  6 %\n",
            "\n",
            "Community:  1\n",
            "China:  28 %\n",
            "USA:  68 %\n",
            "China&USA:  4 %\n",
            "\n",
            "Community:  2\n",
            "China:  30 %\n",
            "USA:  63 %\n",
            "China&USA:  6 %\n",
            "\n"
          ]
        }
      ]
    },
    {
      "cell_type": "markdown",
      "source": [
        "**Metrics**"
      ],
      "metadata": {
        "id": "QfhBzhvTB-Kp"
      }
    },
    {
      "cell_type": "code",
      "source": [
        "_ = compute_metrics(G, community_louvain_list)"
      ],
      "metadata": {
        "outputId": "a8eb814f-8a3f-4fe4-ddb9-47abcc8c0262",
        "colab": {
          "base_uri": "https://localhost:8080/"
        },
        "id": "g9Ir1J20B-Kp"
      },
      "execution_count": 134,
      "outputs": [
        {
          "output_type": "stream",
          "name": "stdout",
          "text": [
            "Coverage:  0.5402219140083218\n",
            "Performance:  0.647441744431711\n",
            "Modularity:  0.22715740893142422\n"
          ]
        }
      ]
    },
    {
      "cell_type": "markdown",
      "source": [
        "## MarchApril2021"
      ],
      "metadata": {
        "id": "neF-Ru8Ny7XH"
      }
    },
    {
      "cell_type": "code",
      "source": [
        "period = '_MarchApril2021'\n",
        "China = pd.read_csv('/content/China'+period+'.csv')\n",
        "USA = pd.read_csv('/content/USA'+period+'.csv')\n",
        "\n",
        "edges = pd.read_csv('/content/edgelist_China_USA'+period+'.csv')\n",
        "edges_China = pd.read_csv('/content/edgelist_China'+period+'.csv')\n",
        "edges_USA = pd.read_csv('/content/edgelist_USA'+period+'.csv')\n",
        "\n",
        "text_China = extract_text(China)\n",
        "text_USA = extract_text(USA)\n",
        "\n",
        "freq_dict_China = frequency_dictionary(text_China)\n",
        "freq_dict_China = dict(sorted(freq_dict_China.items(), key=lambda item: item[1], reverse = True))   #order from more frequent to less frequent word\n",
        "\n",
        "freq_dict_USA = frequency_dictionary(text_USA)\n",
        "freq_dict_USA = dict(sorted(freq_dict_USA.items(), key=lambda item: item[1], reverse = True))   #order from more frequent to less frequent word\n",
        "\n",
        "net, net_df = network_from_edges(edges)\n",
        "net_China, net_df_China = network_from_edges(edges_China)\n",
        "net_USA, net_df_USA = network_from_edges(edges_USA)\n",
        "\n",
        "G = get_graph(net)\n",
        "G_China = get_graph(net_China)\n",
        "G_USA = get_graph(net_USA)"
      ],
      "metadata": {
        "id": "dPY3pyLdy7XJ"
      },
      "execution_count": 100,
      "outputs": []
    },
    {
      "cell_type": "code",
      "source": [
        "print('China&USA:')\n",
        "print('Nodes: ',len(G.nodes()))\n",
        "print('Edges: ',len(G.edges()))\n",
        "print('Is connected: ',nx.is_connected(G))\n",
        "print()\n",
        "print('China:')\n",
        "print('Nodes: ',len(G_China.nodes()))\n",
        "print('Edges: ',len(G_China.edges()))\n",
        "print('Is connected: ',nx.is_connected(G_China))\n",
        "print()\n",
        "print('USA:')\n",
        "print('Nodes: ',len(G_USA.nodes()))\n",
        "print('Edges: ',len(G_USA.edges()))\n",
        "print('Is connected: ',nx.is_connected(G_USA))\n",
        "print()"
      ],
      "metadata": {
        "outputId": "18fcb48d-6864-40fa-de11-75e33f5d3832",
        "colab": {
          "base_uri": "https://localhost:8080/"
        },
        "id": "n4b8FnrRy7XJ"
      },
      "execution_count": 101,
      "outputs": [
        {
          "output_type": "stream",
          "name": "stdout",
          "text": [
            "China&USA:\n",
            "Nodes:  500\n",
            "Edges:  3018\n",
            "Is connected:  True\n",
            "\n",
            "China:\n",
            "Nodes:  206\n",
            "Edges:  638\n",
            "Is connected:  True\n",
            "\n",
            "USA:\n",
            "Nodes:  491\n",
            "Edges:  2285\n",
            "Is connected:  True\n",
            "\n"
          ]
        }
      ]
    },
    {
      "cell_type": "markdown",
      "source": [
        "### Bipartition\n",
        "Partition a graph into two blocks using the Kernighan–Lin algorithm."
      ],
      "metadata": {
        "id": "JazZIV9Ny7XK"
      }
    },
    {
      "cell_type": "code",
      "source": [
        "community_bipart = community.kernighan_lin_bisection(G,weight='weight')"
      ],
      "metadata": {
        "id": "QmEIP7suy7XK"
      },
      "execution_count": 102,
      "outputs": []
    },
    {
      "cell_type": "code",
      "source": [
        "print(community_bipart[0])\n",
        "print(community_bipart[1])"
      ],
      "metadata": {
        "colab": {
          "base_uri": "https://localhost:8080/"
        },
        "outputId": "f0842894-3ced-409e-d3a6-3c141f6759db",
        "id": "5DO3AhI6y7XK"
      },
      "execution_count": 103,
      "outputs": [
        {
          "output_type": "stream",
          "name": "stdout",
          "text": [
            "{'wait', 'add', 'double', 'passport', 'mask', 'plant', 'today', 'inoculate', 'strong', 'coverage', 'fourth', 'result', 'launch', 'news', 'service', 'quarter', 'rule', 'average', 'family', 'share', 'overseas', 'level', 'whether', 'keep', 'pass', 'fall', 'human', 'authority', 'experience', 'game', 'hard', 'person', 'also', 'exclusive', 'forecast', 'gathering', 'japan', 'early', 'detect', 'ship', 'five', 'within', 'facebook', 'area', 'cite', 'recover', 'require', 'write', 'almost', 'economy', 'place', 'step', 'immunization', 'move', 'medical', 'investigate', 'decline', 'talk', 'mass', 'governor', 'ever', 'consider', 'big', 'decide', 'drop', 'good', 'similar', 'breaking', 'pay', 'system', 'full', 'large', 'hope', 'tokyo', 'suffer', 'deal', 'growth', 'hold', 'yet', 'home', 'military', 'like', 'threaten', 'extra', 'border', 'protection', 'executive', 'well', 'head', 'release', 'great', 'business', 'among', 'major', 'scientist', 'former', 'boost', 'issue', 'thailand', 'international', 'visit', 'likely', 'french', 'america', 'california', 'want', 'come', 'resume', 'look', 'right', 'four', 'story', 'block', 'impose', 'potential', 'impact', 'street', 'every', 'much', 'demand', 'ahead', 'tell', 'support', 'put', 'hong', 'bring', 'seven', 'sign', 'question', 'ease', 'despite', 'capital', 'woman', 'spring', 'fund', 'longer', 'affect', 'remain', 'lead', 'beach', 'reopen', 'crowd', 'protect', 'fully', 'small', 'part', 'pressure', 'return', 'event', 'fear', 'outbreak', 'must', 'card', 'access', 'black', 'reason', 'program', 'region', 'symptom', 'measure', 'authorization', 'open', 'chile', 'extend', 'source', 'challenge', 'worry', 'billion', 'chief', 'student', 'production', 'limit', 'thousand', 'contract', 'senior', 'asian', 'british', 'watch', 'think', 'push', 'grow', 'agree', 'hop', 'leave', 'food', 'change', 'mark', 'effort', 'race', 'claim', 'easter', 'without', 'misinformation', 'life', 'curb', 'community', 'antibody', 'institute', 'resident', 'line', 'university', 'relief', 'inoculation', 'investigation', 'suspend', 'researcher', 'provide', 'hour', 'slow', 'recent', 'forward', 'behind', 'medium', 'lift', 'anti', 'struggle', 'economic', 'trump', 'lose', 'raise', 'order', 'crisis', 'disorder', 'approval', 'join', 'target', 'die', 'massive', 'late', 'hospitalization', 'less', 'allow', 'win', 'decision', 'send', 'several', 'information', 'member', 'illness', 'worker', 'site', 'fresh', 'roll', 'york', 'social', 'joe', 'strain', 'long', 'general', 'break'}\n",
            "{'company', 'brain', 'day', 'france', 'committee', 'korea', 'approve', 'global', 'year', 'surpass', 'doctor', 'hospital', 'johnson', 'million', 'receive', 'spike', 'intensive', 'special', 'brazil', 'care', 'coronavirus', 'population', 'australia', 'clinical', 'vaccine', 'federal', 'adult', 'arrive', 'clot', 'announce', 'new', 'dose', 'say', 'even', 'week', 'surge', 'month', 'end', 'may', 'free', 'prime', 'time', 'export', 'commission', 'develop', 'side', 'animal', 'prevent', 'air', 'drug', 'young', 'toll', 'base', 'track', 'reach', 'study', 'regulator', 'third', 'state', 'know', 'people', 'need', 'yunnan', 'six', 'update', 'drive', 'take', 'around', 'union', 'become', 'emergency', 'patient', 'due', 'find', 'research', 'group', 'shot', 'eligible', 'stop', 'supply', 'delivery', 'disease', 'restriction', 'register', 'campaign', 'total', 'south', 'next', 'blood', 'produce', 'analysis', 'help', 'local', 'last', 'work', 'province', 'way', 'risk', 'center', 'ministry', 'shipment', 'speak', 'data', 'set', 'high', 'official', 'make', 'get', 'effect', 'rise', 'low', 'expand', 'recommend', 'efficacy', 'seek', 'africa', 'fauci', 'possible', 'top', 'russia', 'many', 'still', 'dos', 'agency', 'travel', 'control', 'meet', 'another', 'bad', 'since', 'offer', 'continue', 'would', 'united', 'wave', 'jab', 'call', 'rate', 'nearly', 'second', 'report', 'pause', 'team', 'minister', 'across', 'world', 'symptomatic', 'outweigh', 'president', 'school', 'hit', 'maker', 'record', 'delay', 'plan', 'half', 'one', 'safe', 'china', 'country', 'infectious', 'face', 'nation', 'give', 'government', 'see', 'accord', 'effective', 'least', 'show', 'first', 'severe', 'could', 'response', 'death', 'urge', 'live', 'begin', 'variant', 'case', 'war', 'prevention', 'daily', 'administer', 'problem', 'close', 'donate', 'african', 'fight', 'age', 'trial', 'amid', 'use', 'child', 'concern', 'link', 'vaccinate', 'director', 'expect', 'origin', 'back', 'foreign', 'far', 'ban', 'march', 'cause', 'national', 'covid', 'office', 'health', 'soon', 'public', 'goal', 'old', 'follow', 'single', 'vaccination', 'confirm', 'deliver', 'three', 'michigan', 'test', 'start', 'administration', 'warn', 'review', 'benefit', 'pandemic', 'city', 'rare', 'medicine', 'number', 'infection', 'white', 'virus', 'positive', 'organization', 'leader', 'increase', 'germany', 'ask', 'house', 'include', 'india', 'batch', 'safety', 'canada', 'two', 'spread', 'expert'}\n"
          ]
        }
      ]
    },
    {
      "cell_type": "code",
      "source": [
        "threshold = 0.00001\n",
        "sum_China_0, sum_USA_0, sum_China_USA_0 = community_check(community_bipart[0], freq_dict_China, freq_dict_USA, G_China, G_USA, threshold)\n",
        "sum_China_1, sum_USA_1, sum_China_USA_1 = community_check(community_bipart[1], freq_dict_China, freq_dict_USA, G_China, G_USA, threshold)"
      ],
      "metadata": {
        "id": "gBCox5oUy7XL"
      },
      "execution_count": 104,
      "outputs": []
    },
    {
      "cell_type": "code",
      "source": [
        "print('First community:')\n",
        "print('China: ', round(100 * sum_China_0 / len(community_bipart[0])),'%')\n",
        "print('USA: ', round(100 * sum_USA_0 / len(community_bipart[0])),'%')\n",
        "print('China&USA: ', round(100 * sum_China_USA_0 / len(community_bipart[0])),'%')\n",
        "print()\n",
        "print('China: ', round(100 * sum_China_1 / len(community_bipart[1])),'%')\n",
        "print('USA: ', round(100 * sum_USA_1 / len(community_bipart[1])),'%')\n",
        "print('China&USA: ', round(100 * sum_China_USA_1 / len(community_bipart[1])),'%')"
      ],
      "metadata": {
        "colab": {
          "base_uri": "https://localhost:8080/"
        },
        "outputId": "d9e103f8-f69b-4c26-b1b8-247ec8886e73",
        "id": "Aq1GP7Xmy7XL"
      },
      "execution_count": 105,
      "outputs": [
        {
          "output_type": "stream",
          "name": "stdout",
          "text": [
            "First community:\n",
            "China:  29 %\n",
            "USA:  64 %\n",
            "China&USA:  6 %\n",
            "\n",
            "China:  40 %\n",
            "USA:  58 %\n",
            "China&USA:  2 %\n"
          ]
        }
      ]
    },
    {
      "cell_type": "markdown",
      "source": [
        "**Metrics**"
      ],
      "metadata": {
        "id": "vAu9P9qdCV6g"
      }
    },
    {
      "cell_type": "code",
      "source": [
        "_ = compute_metrics(G, community_bipart)"
      ],
      "metadata": {
        "outputId": "a00ebea9-5268-4efc-a2b4-0acbad880dda",
        "colab": {
          "base_uri": "https://localhost:8080/"
        },
        "id": "FW5ZyMEwCV6g"
      },
      "execution_count": 118,
      "outputs": [
        {
          "output_type": "stream",
          "name": "stdout",
          "text": [
            "Coverage:  0.7823061630218688\n",
            "Performance:  0.5146613226452906\n",
            "Modularity:  -0.00029443991038140185\n"
          ]
        }
      ]
    },
    {
      "cell_type": "markdown",
      "source": [
        "### Modularity-based communities\n",
        "Find communities in G using greedy modularity maximization."
      ],
      "metadata": {
        "id": "qOfXh_A-y7XL"
      }
    },
    {
      "cell_type": "code",
      "source": [
        "community_mod = community.greedy_modularity_communities(G, n_communities=2, weight='weight')\n",
        "# communities_naive_mod = community.naive_greedy_modularity_communities(G)"
      ],
      "metadata": {
        "id": "Dxio0eqLy7XL"
      },
      "execution_count": 106,
      "outputs": []
    },
    {
      "cell_type": "code",
      "source": [
        "community_mod_list = []\n",
        "for comm in community_mod:\n",
        " print(list(comm))\n",
        " community_mod_list.append(list(comm))"
      ],
      "metadata": {
        "colab": {
          "base_uri": "https://localhost:8080/"
        },
        "outputId": "4692f694-b5ac-402d-c388-27337d761226",
        "id": "W7uac0aMy7XM"
      },
      "execution_count": 107,
      "outputs": [
        {
          "output_type": "stream",
          "name": "stdout",
          "text": [
            "['day', 'france', 'add', 'global', 'double', 'surpass', 'year', 'hospital', 'today', 'spike', 'intensive', 'strong', 'coverage', 'fourth', 'brazil', 'care', 'news', 'coronavirus', 'service', 'quarter', 'rule', 'average', 'family', 'share', 'overseas', 'pass', 'new', 'human', 'experience', 'game', 'hard', 'week', 'surge', 'month', 'forecast', 'gathering', 'early', 'japan', 'detect', 'time', 'five', 'area', 'cite', 'recover', 'toll', 'write', 'study', 'almost', 'economy', 'state', 'third', 'place', 'step', 'yunnan', 'move', 'decline', 'two', 'update', 'patient', 'ever', 'big', 'research', 'drop', 'system', 'pay', 'total', 'next', 'restriction', 'suffer', 'tokyo', 'analysis', 'help', 'local', 'last', 'hold', 'growth', 'yet', 'work', 'home', 'province', 'border', 'general', 'head', 'data', 'release', 'set', 'high', 'great', 'business', 'major', 'rise', 'low', 'visit', 'likely', 'international', 'french', 'seek', 'america', 'california', 'story', 'four', 'travel', 'block', 'another', 'bad', 'impose', 'since', 'ahead', 'street', 'every', 'bring', 'demand', 'despite', 'seven', 'ease', 'capital', 'spring', 'fund', 'longer', 'united', 'remain', 'affect', 'wave', 'lead', 'beach', 'crowd', 'reopen', 'rate', 'nearly', 'report', 'part', 'pressure', 'return', 'event', 'fear', 'outbreak', 'school', 'hit', 'region', 'record', 'symptom', 'measure', 'open', 'chile', 'extend', 'face', 'challenge', 'worry', 'accord', 'see', 'chief', 'show', 'could', 'death', 'begin', 'thousand', 'variant', 'case', 'asian', 'daily', 'watch', 'think', 'close', 'push', 'fight', 'child', 'grow', 'amid', 'leave', 'food', 'change', 'mark', 'claim', 'easter', 'origin', 'back', 'curb', 'community', 'life', 'institute', 'resident', 'line', 'covid', 'relief', 'old', 'researcher', 'single', 'hour', 'recent', 'three', 'behind', 'michigan', 'lift', 'test', 'anti', 'struggle', 'warn', 'economic', 'city', 'raise', 'lose', 'pandemic', 'crisis', 'number', 'join', 'infection', 'die', 'massive', 'allow', 'positive', 'virus', 'less', 'increase', 'member', 'worker', 'india', 'york', 'strain', 'long', 'spread']\n",
            "['company', 'wait', 'mask', 'plant', 'million', 'receive', 'launch', 'population', 'australia', 'vaccine', 'adult', 'arrive', 'whether', 'keep', 'announce', 'dose', 'also', 'end', 'free', 'prime', 'export', 'commission', 'ship', 'young', 'people', 'immunization', 'talk', 'drive', 'mass', 'take', 'union', 'become', 'consider', 'group', 'stop', 'eligible', 'good', 'supply', 'similar', 'delivery', 'campaign', 'produce', 'full', 'deal', 'military', 'like', 'way', 'threaten', 'extra', 'protection', 'well', 'shipment', 'official', 'make', 'get', 'scientist', 'boost', 'expand', 'come', 'many', 'resume', 'dos', 'inoculate', 'tell', 'hong', 'support', 'put', 'question', 'offer', 'continue', 'would', 'jab', 'protect', 'second', 'fully', 'small', 'minister', 'across', 'president', 'card', 'access', 'program', 'black', 'maker', 'delay', 'plan', 'one', 'half', 'china', 'country', 'billion', 'least', 'production', 'first', 'limit', 'urge', 'contract', 'senior', 'administer', 'donate', 'african', 'agree', 'hop', 'race', 'effort', 'vaccinate', 'expect', 'without', 'foreign', 'ban', 'march', 'national', 'inoculation', 'office', 'goal', 'suspend', 'provide', 'vaccination', 'slow', 'start', 'approval', 'target', 'late', 'send', 'several', 'include', 'site', 'fresh', 'roll', 'safety', 'batch', 'canada', 'joe']\n",
            "['brain', 'impact', 'approve', 'committee', 'johnson', 'woman', 'pause', 'federal', 'clot', 'level', 'outweigh', 'must', 'authority', 'say', 'authorization', 'exclusive', 'may', 'safe', 'source', 'infectious', 'give', 'develop', 'side', 'within', 'drug', 'track', 'regulator', 'british', 'know', 'need', 'problem', 'medical', 'six', 'investigate', 'age', 'use', 'concern', 'emergency', 'link', 'due', 'director', 'find', 'decide', 'shot', 'breaking', 'blood', 'cause', 'soon', 'health', 'public', 'investigation', 'follow', 'confirm', 'deliver', 'review', 'rare', 'benefit', 'risk', 'executive', 'ministry', 'medicine', 'disorder', 'effect', 'win', 'decision', 'germany', 'ask', 'recommend', 'possible', 'want', 'top', 'still', 'agency', 'meet', 'expert']\n",
            "['korea', 'center', 'hospitalization', 'effective', 'disease', 'severe', 'information', 'prevent', 'south', 'result', 'illness', 'base', 'clinical', 'large', 'efficacy', 'prevention', 'africa', 'symptomatic', 'trial', 'control']\n",
            "['trump', 'speak', 'doctor', 'white', 'former', 'special', 'leader', 'antibody', 'air', 'response', 'live', 'house', 'team', 'war', 'fauci', 'administration', 'break']\n",
            "['thailand', 'person', 'university', 'require', 'order', 'passport', 'sign', 'among', 'government', 'fall', 'student', 'governor', 'issue']\n",
            "['even', 'reach', 'world', 'register', 'nation', 'russia', 'organization', 'far', 'animal', 'call', 'around']\n",
            "['potential', 'much', 'forward', 'look', 'right', 'hope', 'reason']\n",
            "['medium', 'social', 'facebook', 'misinformation']\n"
          ]
        }
      ]
    },
    {
      "cell_type": "code",
      "source": [
        "threshold = 0.00001\n",
        "for i in range(len(community_mod_list)):\n",
        "  sum_China, sum_USA, sum_China_USA = community_check(community_mod_list[i], freq_dict_China, freq_dict_USA, G_China, G_USA, threshold)\n",
        "  print('Community: ', i)\n",
        "  print('China: ', round(100 * sum_China / len(community_mod_list[i])),'%')\n",
        "  print('USA: ', round(100 * sum_USA / len(community_mod_list[i])),'%')\n",
        "  print('China&USA: ', round(100 * sum_China_USA / len(community_mod_list[i])),'%')\n",
        "  print()"
      ],
      "metadata": {
        "colab": {
          "base_uri": "https://localhost:8080/"
        },
        "outputId": "57491717-77c9-45d3-f1d0-23d769b2c09c",
        "id": "TN3X27vcy7XM"
      },
      "execution_count": 108,
      "outputs": [
        {
          "output_type": "stream",
          "name": "stdout",
          "text": [
            "Community:  0\n",
            "China:  39 %\n",
            "USA:  54 %\n",
            "China&USA:  6 %\n",
            "\n",
            "Community:  1\n",
            "China:  40 %\n",
            "USA:  57 %\n",
            "China&USA:  3 %\n",
            "\n",
            "Community:  2\n",
            "China:  17 %\n",
            "USA:  81 %\n",
            "China&USA:  1 %\n",
            "\n",
            "Community:  3\n",
            "China:  40 %\n",
            "USA:  60 %\n",
            "China&USA:  0 %\n",
            "\n",
            "Community:  4\n",
            "China:  12 %\n",
            "USA:  82 %\n",
            "China&USA:  6 %\n",
            "\n",
            "Community:  5\n",
            "China:  15 %\n",
            "USA:  77 %\n",
            "China&USA:  8 %\n",
            "\n",
            "Community:  6\n",
            "China:  55 %\n",
            "USA:  45 %\n",
            "China&USA:  0 %\n",
            "\n",
            "Community:  7\n",
            "China:  43 %\n",
            "USA:  57 %\n",
            "China&USA:  0 %\n",
            "\n",
            "Community:  8\n",
            "China:  0 %\n",
            "USA:  100 %\n",
            "China&USA:  0 %\n",
            "\n"
          ]
        }
      ]
    },
    {
      "cell_type": "markdown",
      "source": [
        "**Metrics**"
      ],
      "metadata": {
        "id": "_T5VDUd0CYQ3"
      }
    },
    {
      "cell_type": "code",
      "source": [
        "_ = compute_metrics(G, community_mod_list)"
      ],
      "metadata": {
        "outputId": "357775a9-dabf-47d4-b4f8-6896cb56e408",
        "colab": {
          "base_uri": "https://localhost:8080/"
        },
        "id": "YSy2gx3qCYQ3"
      },
      "execution_count": 117,
      "outputs": [
        {
          "output_type": "stream",
          "name": "stdout",
          "text": [
            "Coverage:  0.5089463220675944\n",
            "Performance:  0.7108216432865732\n",
            "Modularity:  0.17671835270017283\n"
          ]
        }
      ]
    },
    {
      "cell_type": "markdown",
      "source": [
        "### Louvain Community Detection\n",
        "Find the best partition of a graph using the Louvain Community Detection Algorithm."
      ],
      "metadata": {
        "id": "40-UY25Yy7XM"
      }
    },
    {
      "cell_type": "code",
      "source": [
        "# communities_louvain = community.louvain.louvain_communities(G)\n",
        "# partitions_louvain = community.louvain.louvain_partitions(G)\n",
        "\n",
        "community_louv = community_louvain.best_partition(G,weight='weight')\n",
        "\n",
        "# modularity_louvain = community.modularity(communities_louvain, G) # ERROR: not a partition\n",
        "# print(\"The modularity Q based on networkx is {}\".format(modularity_louvain))"
      ],
      "metadata": {
        "id": "1IHv9lYPy7XN"
      },
      "execution_count": 109,
      "outputs": []
    },
    {
      "cell_type": "code",
      "source": [
        "max = np.max(list(community_louv.values()))\n",
        "community_louvain_list = []\n",
        "for i in range(max+1):\n",
        "  community_louvain_list.append([])\n",
        "for key in list(community_louv.keys()):\n",
        "  community_louvain_list[community_louv[key]].append(key)\n",
        "for i in range(max+1):\n",
        "  print(community_louvain_list[i])"
      ],
      "metadata": {
        "colab": {
          "base_uri": "https://localhost:8080/"
        },
        "outputId": "f8ab09dd-2583-481f-8ba8-56d169cbb016",
        "id": "W-3bELz6y7XN"
      },
      "execution_count": 110,
      "outputs": [
        {
          "output_type": "stream",
          "name": "stdout",
          "text": [
            "['covid', 'low', 'pandemic', 'pass', 'bring', 'see', 'response', 'america', 'lose', 'child', 'close', 'like', 'claim', 'lift', 'restriction', 'around', 'business', 'head', 'life', 'team', 'care', 'france', 'reach', 'die', 'full', 'talk', 'school', 'follow', 'increase', 'join', 'rate', 'leader', 'march', 'return', 'gathering', 'warn', 'leave', 'tokyo', 'question', 'asian', 'community', 'fight', 'impact', 'place', 'test', 'positive', 'long', 'patient', 'seek', 'capital', 'germany', 'several', 'thousand', 'part', 'impose', 'spread', 'despite', 'pressure', 'ahead', 'quarter', 'border', 'news', 'general', 'three', 'reopen', 'face', 'recent', 'area', 'help', 'facebook', 'open', 'california', 'late', 'work', 'event', 'hold', 'special', 'hard', 'antibody', 'boost', 'family', 'visit', 'ease', 'thailand', 'allow', 'game', 'without', 'crowd', 'much', 'share', 'major', 'economy', 'big', 'hospital', 'recover', 'institute', 'push', 'agree', 'double', 'detect', 'social', 'medical', 'strong', 'look', 'travel', 'behind', 'keep', 'today', 'right', 'crisis', 'chile', 'chief', 'resident', 'lead', 'university', 'require', 'student', 'affect', 'young', 'worker', 'include', 'almost', 'seven', 'move', 'fresh', 'region', 'struggle', 'call', 'medium', 'easter', 'rule', 'hope', 'longer', 'fear', 'system', 'french', 'symptom', 'release', 'curb', 'intensive', 'add', 'anti', 'think', 'four', 'experience', 'ever', 'well', 'japan', 'measure', 'home', 'provide', 'level', 'remain', 'pay', 'doctor', 'another', 'launch', 'service', 'step', 'research', 'house', 'spring', 'food', 'potential', 'early', 'cite', 'reason', 'white', 'former', 'trump', 'yet', 'misinformation', 'raise', 'issue', 'begin', 'member', 'extend', 'less', 'relief', 'administration', 'human', 'grow', 'among', 'break', 'beach', 'fourth', 'massive', 'worry', 'scientist', 'challenge', 'access', 'change', 'outbreak', 'great', 'speak', 'live', 'demand', 'protect', 'drop', 'line', 'story', 'street', 'air', 'suffer', 'fall', 'put', 'researcher', 'write', 'war', 'wait', 'race', 'person', 'fauci', 'forward']\n",
            "['one', 'country', 'second', 'people', 'million', 'first', 'national', 'vaccine', 'black', 'receive', 'least', 'dose', 'dos', 'adult', 'shot', 'population', 'get', 'vaccinate', 'announce', 'government', 'jab', 'give', 'administer', 'would', 'passport', 'ban', 'continue', 'result', 'extra', 'develop', 'take', 'many', 'support', 'make', 'use', 'group', 'vaccination', 'approve', 'inoculation', 'age', 'concern', 'across', 'china', 'office', 'mass', 'two', 'site', 'become', 'end', 'donate', 'inoculate', 'south', 'batch', 'arrive', 'hop', 'roll', 'half', 'prime', 'minister', 'need', 'governor', 'ask', 'register', 'limit', 'foreign', 'shipment', 'president', 'immunization', 'drive', 'order', 'billion', 'emergency', 'authorization', 'expect', 'african', 'supply', 'start', 'safety', 'produce', 'delay', 'consider', 'commission', 'joe', 'eligible', 'may', 'effort', 'sign', 'way', 'slow', 'campaign', 'production', 'russia', 'animal', 'maker', 'also', 'similar', 'deliver', 'military', 'approval', 'urge', 'mask', 'threaten', 'back', 'offer', 'hong', 'good', 'goal', 'expand', 'decide', 'resume', 'fully', 'stop', 'union', 'export', 'executive', 'suspend', 'deal', 'free', 'canada', 'send', 'plan', 'come', 'program', 'track', 'block', 'target', 'small', 'know', 'korea', 'whether', 'australia', 'meet', 'tell', 'protection', 'delivery', 'ship', 'card']\n",
            "['death', 'toll', 'surpass', 'mark', 'third', 'rise', 'new', 'wave', 'virus', 'brazil', 'number', 'report', 'coronavirus', 'case', 'month', 'record', 'daily', 'high', 'surge', 'variant', 'hit', 'hour', 'bad', 'day', 'accord', 'time', 'total', 'set', 'state', 'city', 'amid', 'infection', 'average', 'every', 'india', 'spike', 'since', 'michigan', 'study', 'province', 'five', 'overseas', 'nearly', 'united', 'strain', 'york', 'local', 'yunnan', 'origin', 'decline', 'update', 'coverage']\n",
            "['health', 'world', 'ministry', 'nation', 'far', 'public', 'authority', 'organization', 'official', 'senior']\n",
            "['global', 'year', 'last', 'week', 'watch', 'fund', 'old', 'economic', 'international', 'next', 'growth', 'forecast']\n",
            "['say', 'expert', 'top', 'disease', 'could', 'even', 'data', 'africa', 'hospitalization', 'control', 'large', 'british', 'show', 'base', 'director', 'center', 'prevention', 'clinical', 'trial', 'company', 'win', 'still', 'effective', 'safe', 'efficacy', 'within', 'information', 'prevent', 'symptomatic', 'illness', 'severe', 'likely', 'exclusive', 'investigation', 'analysis', 'want', 'breaking', 'source', 'infectious', 'must']\n",
            "['find', 'risk', 'drug', 'side', 'confirm', 'recommend', 'review', 'blood', 'clot', 'link', 'rare', 'medicine', 'agency', 'possible', 'due', 'effect', 'brain', 'committee', 'benefit', 'johnson', 'plant', 'single', 'six', 'investigate', 'woman', 'federal', 'regulator', 'disorder', 'problem', 'cause', 'soon', 'contract', 'pause', 'outweigh', 'decision']\n"
          ]
        }
      ]
    },
    {
      "cell_type": "code",
      "source": [
        "threshold = 0.00001\n",
        "for i in range(len(community_louvain_list)):\n",
        "  sum_China, sum_USA, sum_China_USA = community_check(community_louvain_list[i], freq_dict_China, freq_dict_USA, G_China, G_USA, threshold)\n",
        "  print('Community: ', i)\n",
        "  print('China: ', round(100 * sum_China / len(community_louvain_list[i])),'%')\n",
        "  print('USA: ', round(100 * sum_USA / len(community_louvain_list[i])),'%')\n",
        "  print('China&USA: ', round(100 * sum_China_USA / len(community_louvain_list[i])),'%')\n",
        "  print()"
      ],
      "metadata": {
        "colab": {
          "base_uri": "https://localhost:8080/"
        },
        "outputId": "a94b81f8-3501-48d3-e1b7-7f5586fb961f",
        "id": "rI-mhoy4y7XN"
      },
      "execution_count": 111,
      "outputs": [
        {
          "output_type": "stream",
          "name": "stdout",
          "text": [
            "Community:  0\n",
            "China:  30 %\n",
            "USA:  62 %\n",
            "China&USA:  7 %\n",
            "\n",
            "Community:  1\n",
            "China:  38 %\n",
            "USA:  59 %\n",
            "China&USA:  3 %\n",
            "\n",
            "Community:  2\n",
            "China:  50 %\n",
            "USA:  48 %\n",
            "China&USA:  2 %\n",
            "\n",
            "Community:  3\n",
            "China:  60 %\n",
            "USA:  40 %\n",
            "China&USA:  0 %\n",
            "\n",
            "Community:  4\n",
            "China:  58 %\n",
            "USA:  42 %\n",
            "China&USA:  0 %\n",
            "\n",
            "Community:  5\n",
            "China:  28 %\n",
            "USA:  72 %\n",
            "China&USA:  0 %\n",
            "\n",
            "Community:  6\n",
            "China:  17 %\n",
            "USA:  80 %\n",
            "China&USA:  3 %\n",
            "\n"
          ]
        }
      ]
    },
    {
      "cell_type": "markdown",
      "source": [
        "**Metrics**"
      ],
      "metadata": {
        "id": "VFY_7zZrCa1f"
      }
    },
    {
      "cell_type": "code",
      "source": [
        "_ = compute_metrics(G, community_louvain_list)"
      ],
      "metadata": {
        "outputId": "b91e6b3c-b15b-40fd-ff16-807d98532a97",
        "colab": {
          "base_uri": "https://localhost:8080/"
        },
        "id": "A3-3e_U-Ca1f"
      },
      "execution_count": 116,
      "outputs": [
        {
          "output_type": "stream",
          "name": "stdout",
          "text": [
            "Coverage:  0.4463220675944334\n",
            "Performance:  0.7174909819639279\n",
            "Modularity:  0.1789428682732272\n"
          ]
        }
      ]
    }
  ]
}