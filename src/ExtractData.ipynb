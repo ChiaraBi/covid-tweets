{
  "nbformat": 4,
  "nbformat_minor": 0,
  "metadata": {
    "colab": {
      "name": "covid_tweets.ipynb",
      "provenance": [],
      "collapsed_sections": []
    },
    "kernelspec": {
      "name": "python3",
      "display_name": "Python 3"
    },
    "language_info": {
      "name": "python"
    }
  },
  "cells": [
    {
      "cell_type": "markdown",
      "metadata": {
        "id": "-CcFArp20gru"
      },
      "source": [
        "# Setup"
      ]
    },
    {
      "cell_type": "code",
      "metadata": {
        "id": "mhhMyEYd0PeM"
      },
      "source": [
        "import os\n",
        "import requests \n",
        "import pandas as pd \n",
        "import time\n",
        "from google.colab import files"
      ],
      "execution_count": 2,
      "outputs": []
    },
    {
      "cell_type": "code",
      "metadata": {
        "id": "9FWD9TUL0Y-X"
      },
      "source": [
        "os.environ['TOKEN'] = # INSERT TOKEN HERE\n",
        "env_label = # INSERT ENVIRONMENT LABEL HERE"
      ],
      "execution_count": 3,
      "outputs": []
    },
    {
      "cell_type": "code",
      "metadata": {
        "id": "OWLd433c0dOy"
      },
      "source": [
        "# Header for autentication\n",
        "def create_headers(bearer_token):\n",
        "    headers = {\"Authorization\": \"Bearer {}\".format(bearer_token)}\n",
        "    return headers"
      ],
      "execution_count": 6,
      "outputs": []
    },
    {
      "cell_type": "code",
      "metadata": {
        "id": "AD3ooxsH0fxF"
      },
      "source": [
        "headers = create_headers(os.environ['TOKEN'])"
      ],
      "execution_count": 5,
      "outputs": []
    },
    {
      "cell_type": "markdown",
      "metadata": {
        "id": "-YYNcRQb0u2g"
      },
      "source": [
        "# Download data\n"
      ]
    },
    {
      "cell_type": "code",
      "metadata": {
        "id": "C9GAyMvS0y8C"
      },
      "source": [
        "def create_url(keyword, start_date, end_date, env_label, endpoint=\"30day\"):\n",
        "    # endpoint can be \"30day\" or \"fullarchive\"\n",
        "    \n",
        "    search_url = \"https://api.twitter.com/1.1/tweets/search/{}.json\".format(endpoint+\"/\"+env_label) \n",
        "    # change params based on the endpoint you are using\n",
        "    query_params = {'query': keyword, 'fromDate': start_date, 'toDate': end_date}\n",
        "    return (search_url, query_params)\n",
        "\n",
        "\n",
        "# Continue the request for data until there's no relevant data wrt to the query_params\n",
        "def connect_to_endpoint(url, headers, params, next_token = None):\n",
        "    if next_token is not None and next_token != '':\n",
        "      params['next'] = next_token\n",
        "    response = requests.request(\"GET\", url, headers = headers, params = params)\n",
        "    if response.status_code != 200:  # there's an error (e.g. 404 not found)\n",
        "        raise Exception(response.status_code, response.text)\n",
        "    return response.json()\n",
        "\n",
        "\n",
        "def get_data(keyword, start_time, end_time, next_token, env_label, endpoint):\n",
        "  results = []\n",
        "  while next_token is not None:\n",
        "    url = create_url(keyword, start_time,end_time, env_label, endpoint)\n",
        "    json_response = connect_to_endpoint(url[0], headers, url[1], next_token)\n",
        "    \n",
        "    if \"results\" in json_response:\n",
        "      results.extend(json_response[\"results\"])\n",
        "\n",
        "    if \"next\" in json_response:\n",
        "        next_token = json_response[\"next\"]\n",
        "    else:\n",
        "      next_token = None\n",
        "    time.sleep(2)   # there's a limit on the requests per minutes\n",
        "                    # so we wait 2 seconds before performing the next request\n",
        "  return results\n",
        "\n",
        "\n",
        "def get_single_response(keyword, start_time, end_time, env_label, endpoint):\n",
        "  results = []\n",
        "  url = create_url(keyword, start_time,end_time, env_label, endpoint)\n",
        "  json_response = connect_to_endpoint(url[0], headers, url[1])\n",
        "  \n",
        "  if \"results\" in json_response:\n",
        "    results.extend(json_response[\"results\"])\n",
        "  \n",
        "  return results"
      ],
      "execution_count": 7,
      "outputs": []
    },
    {
      "cell_type": "code",
      "metadata": {
        "id": "V83ZHOuq1AwD"
      },
      "source": [
        "# If you are using the 30day endpoint, make sure you specify dates that are within 30day range.\n",
        "# Date format: Year-Month-Day Time\n",
        "\n",
        "# WUHAN OUTBREAK AND EARLY PANDEMIC\n",
        "start_date = \"202001220000\" \n",
        "end_date = \"202002120000\" \n",
        "endpoint = \"fullarchive\"\n",
        "\n",
        "# KEYWORDS: Wuhan, China, Coronavirus\n",
        "\n",
        "# ((((((2019-nCoV gives 0 results))))))"
      ],
      "execution_count": 8,
      "outputs": []
    },
    {
      "cell_type": "code",
      "metadata": {
        "id": "KcXzRbxHpYwK"
      },
      "source": [
        "# EARLY PANDEMIC - COVID\n",
        "start_date = \"202002120000\" \n",
        "end_date = \"202002200000\" \n",
        "endpoint = \"fullarchive\"\n",
        "\n",
        "# KEYWORDS: Wuhan, China, Coronavirus, Covid"
      ],
      "execution_count": null,
      "outputs": []
    },
    {
      "cell_type": "code",
      "metadata": {
        "id": "_FPt-u3hrmpq"
      },
      "source": [
        "# AFTERWARD PHASE - DELTA\n",
        "# delta began to spread in India in late 2020\n",
        "# delta is the worldwide dominant variant in June/July 2021 \n",
        "start_date = \"?\"\n",
        "end_date = \"?\" \n",
        "endpoint = \"fullarchive\"\n",
        "\n",
        "# KEYWORDS: Delta"
      ],
      "execution_count": null,
      "outputs": []
    },
    {
      "cell_type": "code",
      "metadata": {
        "id": "yXgzr_Bbr2HC"
      },
      "source": [
        "# AFTERWARD PHASE - OMICRON\n",
        "# first case on November 22, 2021\n",
        "start_date = None\n",
        "end_date = None \n",
        "endpoint = \"30day\"\n",
        "\n",
        "# KEYWORDS: Omicron"
      ],
      "execution_count": null,
      "outputs": []
    },
    {
      "cell_type": "code",
      "metadata": {
        "id": "3f5T4RTwoQX4"
      },
      "source": [
        "# International News Accounts\n",
        "\n",
        "# OUTSIDE CHINA\n",
        "# from:BBCWorld, CNN, AP, AJEnglish, Reuters\n",
        "\n",
        "# INSIDE CHINA\n",
        "# from: XHNews, CGTNOfficial\n",
        "\n",
        "# LANGUAGE\n",
        "# lang:en"
      ],
      "execution_count": null,
      "outputs": []
    },
    {
      "cell_type": "code",
      "metadata": {
        "id": "u8qv2CZO3agu"
      },
      "source": [
        "# DON'T RUN UNLESS YOU ARE SURE, WARNING !#!##@!!!\n",
        "account = \"AJEnglish\"\n",
        "keyword = \"covid\"\n",
        "start_date = \"202001220000\" \n",
        "end_date = \"202002220000\" \n",
        "full_keyword = \"from:\"+account+\" \"+keyword+\" lang:en\"\n",
        "all_tweets = get_data(full_keyword, start_date, end_date, '', env_label, endpoint)"
      ],
      "execution_count": 111,
      "outputs": []
    },
    {
      "cell_type": "code",
      "metadata": {
        "id": "5QvpqOk-AdIi"
      },
      "source": [
        "all_tweets_df = pd.DataFrame(all_tweets)"
      ],
      "execution_count": 112,
      "outputs": []
    },
    {
      "cell_type": "code",
      "metadata": {
        "colab": {
          "base_uri": "https://localhost:8080/"
        },
        "id": "Dekh5Sl7xiOg",
        "outputId": "ad772ed4-daa5-4fe1-dabd-b5366f8ccdf2"
      },
      "source": [
        "len(all_tweets_df)"
      ],
      "execution_count": 113,
      "outputs": [
        {
          "output_type": "execute_result",
          "data": {
            "text/plain": [
              "4"
            ]
          },
          "metadata": {},
          "execution_count": 113
        }
      ]
    },
    {
      "cell_type": "code",
      "metadata": {
        "id": "raVtCkInEHtp",
        "colab": {
          "base_uri": "https://localhost:8080/",
          "height": 17
        },
        "outputId": "1ef26d1f-853f-4f6f-bcc2-b86f240717f8"
      },
      "source": [
        "label = account+\"_\"+keyword+\"_\"+start_date+\"_\"+end_date\n",
        "all_tweets_df.to_csv(label+\".csv\", index=False)\n",
        "all_tweets_df.to_pickle(label+\".pkl\")\n",
        "files.download(label+\".csv\")\n",
        "files.download(label+\".pkl\")"
      ],
      "execution_count": 114,
      "outputs": [
        {
          "output_type": "display_data",
          "data": {
            "application/javascript": [
              "\n",
              "    async function download(id, filename, size) {\n",
              "      if (!google.colab.kernel.accessAllowed) {\n",
              "        return;\n",
              "      }\n",
              "      const div = document.createElement('div');\n",
              "      const label = document.createElement('label');\n",
              "      label.textContent = `Downloading \"${filename}\": `;\n",
              "      div.appendChild(label);\n",
              "      const progress = document.createElement('progress');\n",
              "      progress.max = size;\n",
              "      div.appendChild(progress);\n",
              "      document.body.appendChild(div);\n",
              "\n",
              "      const buffers = [];\n",
              "      let downloaded = 0;\n",
              "\n",
              "      const channel = await google.colab.kernel.comms.open(id);\n",
              "      // Send a message to notify the kernel that we're ready.\n",
              "      channel.send({})\n",
              "\n",
              "      for await (const message of channel.messages) {\n",
              "        // Send a message to notify the kernel that we're ready.\n",
              "        channel.send({})\n",
              "        if (message.buffers) {\n",
              "          for (const buffer of message.buffers) {\n",
              "            buffers.push(buffer);\n",
              "            downloaded += buffer.byteLength;\n",
              "            progress.value = downloaded;\n",
              "          }\n",
              "        }\n",
              "      }\n",
              "      const blob = new Blob(buffers, {type: 'application/binary'});\n",
              "      const a = document.createElement('a');\n",
              "      a.href = window.URL.createObjectURL(blob);\n",
              "      a.download = filename;\n",
              "      div.appendChild(a);\n",
              "      a.click();\n",
              "      div.remove();\n",
              "    }\n",
              "  "
            ],
            "text/plain": [
              "<IPython.core.display.Javascript object>"
            ]
          },
          "metadata": {}
        },
        {
          "output_type": "display_data",
          "data": {
            "application/javascript": [
              "download(\"download_046949b3-7e54-44d0-975b-1d7fbd4e08ac\", \"AJEnglish_covid_202001220000_202002220000.csv\", 11627)"
            ],
            "text/plain": [
              "<IPython.core.display.Javascript object>"
            ]
          },
          "metadata": {}
        },
        {
          "output_type": "display_data",
          "data": {
            "application/javascript": [
              "\n",
              "    async function download(id, filename, size) {\n",
              "      if (!google.colab.kernel.accessAllowed) {\n",
              "        return;\n",
              "      }\n",
              "      const div = document.createElement('div');\n",
              "      const label = document.createElement('label');\n",
              "      label.textContent = `Downloading \"${filename}\": `;\n",
              "      div.appendChild(label);\n",
              "      const progress = document.createElement('progress');\n",
              "      progress.max = size;\n",
              "      div.appendChild(progress);\n",
              "      document.body.appendChild(div);\n",
              "\n",
              "      const buffers = [];\n",
              "      let downloaded = 0;\n",
              "\n",
              "      const channel = await google.colab.kernel.comms.open(id);\n",
              "      // Send a message to notify the kernel that we're ready.\n",
              "      channel.send({})\n",
              "\n",
              "      for await (const message of channel.messages) {\n",
              "        // Send a message to notify the kernel that we're ready.\n",
              "        channel.send({})\n",
              "        if (message.buffers) {\n",
              "          for (const buffer of message.buffers) {\n",
              "            buffers.push(buffer);\n",
              "            downloaded += buffer.byteLength;\n",
              "            progress.value = downloaded;\n",
              "          }\n",
              "        }\n",
              "      }\n",
              "      const blob = new Blob(buffers, {type: 'application/binary'});\n",
              "      const a = document.createElement('a');\n",
              "      a.href = window.URL.createObjectURL(blob);\n",
              "      a.download = filename;\n",
              "      div.appendChild(a);\n",
              "      a.click();\n",
              "      div.remove();\n",
              "    }\n",
              "  "
            ],
            "text/plain": [
              "<IPython.core.display.Javascript object>"
            ]
          },
          "metadata": {}
        },
        {
          "output_type": "display_data",
          "data": {
            "application/javascript": [
              "download(\"download_f7bd73c0-f9f0-4ed0-af6d-5a0dd65e4519\", \"AJEnglish_covid_202001220000_202002220000.pkl\", 9743)"
            ],
            "text/plain": [
              "<IPython.core.display.Javascript object>"
            ]
          },
          "metadata": {}
        }
      ]
    }
  ]
}