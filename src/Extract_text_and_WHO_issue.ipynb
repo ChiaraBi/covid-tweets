{
  "nbformat": 4,
  "nbformat_minor": 0,
  "metadata": {
    "colab": {
      "name": "progetto.ipynb",
      "provenance": [],
      "collapsed_sections": []
    },
    "kernelspec": {
      "name": "python3",
      "display_name": "Python 3"
    },
    "language_info": {
      "name": "python"
    }
  },
  "cells": [
    {
      "cell_type": "code",
      "execution_count": 98,
      "metadata": {
        "colab": {
          "base_uri": "https://localhost:8080/"
        },
        "id": "eF9L_FdqykZL",
        "outputId": "23c79874-8193-43d1-ea46-10b22ad55a51"
      },
      "outputs": [
        {
          "output_type": "stream",
          "name": "stdout",
          "text": [
            "Drive already mounted at /content/drive; to attempt to forcibly remount, call drive.mount(\"/content/drive\", force_remount=True).\n"
          ]
        }
      ],
      "source": [
        "from google.colab import drive\n",
        "drive.mount('/content/drive')"
      ]
    },
    {
      "cell_type": "code",
      "source": [
        "import requests \n",
        "import pandas as pd \n",
        "import time\n",
        "import re\n",
        "import string\n",
        "import nltk\n",
        "import numpy as np\n",
        "from nltk.corpus import stopwords\n",
        "\n",
        "nltk.download('stopwords')\n",
        "pd.set_option('display.max_colwidth', None)\n"
      ],
      "metadata": {
        "id": "Eiguk1S-03AK",
        "colab": {
          "base_uri": "https://localhost:8080/"
        },
        "outputId": "4f17cc36-37b6-423d-ceda-0f902b8777c8"
      },
      "execution_count": 99,
      "outputs": [
        {
          "output_type": "stream",
          "name": "stdout",
          "text": [
            "[nltk_data] Downloading package stopwords to /root/nltk_data...\n",
            "[nltk_data]   Package stopwords is already up-to-date!\n"
          ]
        }
      ]
    },
    {
      "cell_type": "code",
      "source": [
        "def isnotNaN(num):          #return true only if num is not NaN\n",
        "    return num == num \n",
        "\n",
        "def extract_text(df):     # extract the text from the tweets, works only with .pkl file\n",
        "\n",
        "  list_strings = []\n",
        "  for index in range(len(df)):\n",
        "\n",
        "      #print(index)\n",
        "      if isnotNaN(df.loc[index]['retweeted_status']):             #if it is a RT I take the text from the original tweet\n",
        "        if (df.loc[index]['retweeted_status']['truncated']) == True :                   #if the text is truncated I take the full text\n",
        "          string = (df.loc[index]['retweeted_status']['extended_tweet'])[\"full_text\"]\n",
        "        else : \n",
        "          string = df.loc[index]['retweeted_status']['text']                            #if the text is not truncated I take simply the text\n",
        "      elif df.loc[index]['truncated'] == True :                   #if the text is truncated and it is not a RT I take the full text\n",
        "        string = (df.loc[index]['extended_tweet'])[\"full_text\"]\n",
        "      else : \n",
        "        string = df.loc[index]['text']                            #if the text is not truncated and it is not a RT I take simply the text\n",
        "        \n",
        "      #print(string)   \n",
        "      list_strings.append(string)\n",
        "\n",
        "\n",
        "  return list_strings\n",
        "\n",
        "\n",
        "def who_clean(df):     #TO RUN ONLY on tweets collected using \"WHO\" keyword\n",
        "                       #df is actually a list of strings\n",
        "\n",
        "  list_strings = []\n",
        "  for index in range(len(df)):\n",
        "    string = df[index]\n",
        "    if string.find(\"WHO\") != -1:\n",
        "       list_strings.append(string)    #only if the tweet contains \"WHO\" I add it to the list\n",
        "\n",
        "  return list_strings\n"
      ],
      "metadata": {
        "id": "j4oUEkL_Sacz"
      },
      "execution_count": 101,
      "outputs": []
    },
    {
      "cell_type": "code",
      "metadata": {
        "id": "Z8Nrv5jv1e5W"
      },
      "source": [
        "def cleaner(tweet,word_list = stopwords.words('english')):\n",
        "    tweet = re.sub(\"@[A-Za-z0-9]+\",\"\",tweet) # remove mentions\n",
        "    tweet = re.sub(\"#[A-Za-z0-9]+\", \"\",tweet) # remove hashtags\n",
        "    tweet = re.sub(r\"(?:\\@|http?\\://|https?\\://|www)\\S+\", \"\", tweet) # remove http links\n",
        "    tweet = \" \".join(tweet.split())\n",
        "    tweet = str.lower(tweet) #to lowercase\n",
        "    table = str.maketrans(dict.fromkeys(string.punctuation)) \n",
        "    tweet = tweet.translate(table)# remove punctuation  \n",
        "\n",
        "    special_characters = ['rt','dr','“','rt','the','to','of','a','an','on','has','have','had','is','was','did','n','et','ha','lt','1','2','5']\n",
        "\n",
        "    tweet = tweet.split()      \n",
        "    tweet = ' '.join([ word for word in tweet if word not in word_list and word not in special_characters  ])   #remove useless words\n",
        "        \n",
        "    return tweet"
      ],
      "execution_count": 102,
      "outputs": []
    },
    {
      "cell_type": "code",
      "source": [
        "tweets_ap = pd.read_pickle(\"/content/drive/MyDrive/NS data project/AP/AP_WHO_202103170000_202104170000.pkl\")\n",
        "df_copy = tweets_ap.copy()\n",
        "#tweets_filtered[\"clean_text\"] = tweets_filtered[\"text\"].map(cleaner)\n",
        "#column_list = [\"text\",\"clean_text\"]\n",
        "#tweets_filtered = tweets_filtered[column_list]\n",
        "#tweets_filtered\n",
        "#display(tweets_filtered[\"clean_text\"])\n",
        "#print(tweets_filtered[\"clean_text\"].to_string())\n",
        "\n",
        "\n",
        "  "
      ],
      "metadata": {
        "id": "LA_c27qV03Wp"
      },
      "execution_count": 103,
      "outputs": []
    },
    {
      "cell_type": "code",
      "source": [
        "df_text = extract_text(df_copy)\n",
        "df_text[0:10]\n",
        "#cleaned_df_text = [cleaner(el) for el in df_text]\n",
        "#cleaned_df_text[0:10]"
      ],
      "metadata": {
        "colab": {
          "base_uri": "https://localhost:8080/"
        },
        "id": "nUVIK6jeNnQk",
        "outputId": "a2423602-a87c-43da-dde0-fd3d9def575b"
      },
      "execution_count": 107,
      "outputs": [
        {
          "output_type": "execute_result",
          "data": {
            "text/plain": [
              "['Prosecutors who oversaw a grand jury investigation into the death of Daniel Prude last year in Rochester, New York, undercut the case with testimony from a medical expert who said officers who held Prude down until he stopped breathing did nothing wrong. https://t.co/Xtwj1WqQ7U',\n",
              " 'New Englanders who had enjoyed an early spring were brought back to a cold, blustery reality with a storm packing powerful wind gusts, lashing rain and heavy, wet snow. A foot of snow had fallen in western New Hampshire by midday. https://t.co/cAFFBhWet2',\n",
              " 'Actor Helen McCrory, who played a crime family matriarch in \"Peaky Blinders\" and the scheming Narcissa Malfoy in the \"Harry Potter\" films, has died at age 52. Her husband, actor Damian Lewis, says she died at home after a \"heroic battle with cancer.\"\\n\\nhttps://t.co/ZiGZarUzzM',\n",
              " 'Liberty University is suing former leader Jerry Falwell Jr. for millions in damages. It says Falwell failed to disclose an alleged extortion attempt by a man who had a yearslong sexual relationship with Falwell’s wife.\\n\\nhttps://t.co/kzTlUhBjTn',\n",
              " 'Imprisoned Russian opposition leader Alexei Navalny, who has been on hunger strike since March 31, described threats to force-feed him, using “straitjacket and other pleasures,” in a message from behind bars. https://t.co/1dyM1RNFA3',\n",
              " 'Doctors in Kosovo doctors threatened to take action in support of a colleague who was arrested for refusing to treat a patient after working hours. Police reported that a pulmonologist was detained and local health authorities suspended him from work. https://t.co/nJQNmwSCNH',\n",
              " 'The family of 12-year-old Tamir Rice, who was shot and killed by Cleveland police in 2014, asked the Justice Department to reopen the case into his death after it was closed in the waning weeks of the Trump administration. https://t.co/4ri1DW3Vrt',\n",
              " \"One of the Louisville police officers who shot Breonna Taylor is writing a book. Sgt. Jonathan Mattingly's book is to be published by Tennessee-based Post Hill Press, distributed by Simon &amp; Schuster.\\n\\nhttps://t.co/TmdFtQcED7\",\n",
              " \"A musician who created a podcast about the disappearance of California college student Kristin Smart is being credited with helping police make an arrest in the case 25 years later. A sheriff said Chris Lambert's show helped bring new witnesses forward. https://t.co/VZs8Og0u4Z\",\n",
              " \"Daunte Wright's family is calling for more serious charges against the white former police officer who fatally shot him. Former Brooklyn Center, Minnesota, police officer Kim Potter has been charged with second-degree manslaughter. https://t.co/KVJPwDeCqs\"]"
            ]
          },
          "metadata": {},
          "execution_count": 107
        }
      ]
    },
    {
      "cell_type": "code",
      "source": [
        "df_clean = who_clean(df_text)\n",
        "df_clean"
      ],
      "metadata": {
        "colab": {
          "base_uri": "https://localhost:8080/"
        },
        "id": "xlMT5N3FmYrG",
        "outputId": "041bbd9f-19cf-4901-d653-d39b25078bf6"
      },
      "execution_count": 105,
      "outputs": [
        {
          "output_type": "execute_result",
          "data": {
            "text/plain": [
              "['The World Health Organization says the pandemic death toll has surpassed 1 million in WHO’s Europe region, which includes Russia and stretches into Central Asia   https://t.co/AKvPr9BYpK',\n",
              " \"Virus update: \\n• WHO: Europe surpasses 1 million virus deaths.\\n• Homeless Americans get a chance at COVID-19 shot.\\n• Indian cities close as new virus cases hit 200K.\\n• Bangkok nightlife reveals Thailand's virus stumbles.\\n\\nFollow all @AP coverage: https://t.co/VXkYBHXIdr\",\n",
              " 'India says it is approving the use of all coronavirus vaccines that have been given an emergency nod by the WHO or regulators in the U.S., Europe, Britain or Japan. The country is seeing a crippling surge of infections that could overwhelm hospitals. https://t.co/7HxhWNa6Lw',\n",
              " \"Prosecutors are investigating whether a World Health Organization official lied to them and had a WHO report on Italy's coronavirus response spiked to spare the Italian government embarrassment and liability.  https://t.co/98m4QQitWH\",\n",
              " 'North Korea continued to claim in its latest report to the WHO that it hasn’t detected a single case of COVID-19 in more than a year of the pandemic. The claim is widely doubted given the country’s poor health infrastructure and porous border with China. https://t.co/6MdvKW94kq']"
            ]
          },
          "metadata": {},
          "execution_count": 105
        }
      ]
    },
    {
      "cell_type": "code",
      "source": [
        ""
      ],
      "metadata": {
        "id": "_LnyE9N8G6U6"
      },
      "execution_count": null,
      "outputs": []
    }
  ]
}