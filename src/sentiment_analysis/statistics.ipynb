{
 "cells": [
  {
   "cell_type": "code",
   "execution_count": 2,
   "metadata": {},
   "outputs": [],
   "source": [
    "import os\n",
    "import requests\n",
    "import time\n",
    "import string\n",
    "import pandas as pd\n",
    "import seaborn as sns\n",
    "import numpy as np\n",
    "import matplotlib.pyplot as plt\n",
    "import seaborn as sns\n"
   ]
  },
  {
   "cell_type": "code",
   "execution_count": 79,
   "metadata": {},
   "outputs": [
    {
     "name": "stderr",
     "output_type": "stream",
     "text": [
      "/home/ftrole/anaconda3/lib/python3.8/site-packages/openpyxl/styles/stylesheet.py:226: UserWarning: Workbook contains no default style, apply openpyxl's default\n",
      "  warn(\"Workbook contains no default style, apply openpyxl's default\")\n"
     ]
    },
    {
     "name": "stdout",
     "output_type": "stream",
     "text": [
      "china unique tweets 4637\n",
      "america unique tweets 11911\n"
     ]
    }
   ],
   "source": [
    "# division per country and periods\n",
    "# start by dividing the liwk files by country and time periods.\n",
    "\n",
    "# read files\n",
    "pdLIWK = pd.read_excel('../../LIWK_files/LIWC2015 Results (all_tweets).xlsx',\n",
    "                       engine='openpyxl', dtype={\"Source (A)\": str})\n",
    "pd_indexes = pd.read_csv(\n",
    "    '../../LIWK_files/all_tweets.csv', dtype={\"id_str\": str})\n",
    "\n",
    "china = pd.read_csv(\n",
    "    \"../../data/covid_coronavirus_vaccine_aggregration/4.countries/China.csv\", dtype={\"id_str\": str})\n",
    "america = pd.read_csv(\n",
    "    \"../../data/covid_coronavirus_vaccine_aggregration/4.countries/USA.csv\", dtype={\"id_str\": str})\n",
    "\n",
    "china1 = pd.read_csv(\n",
    "    \"../../data/covid_coronavirus_vaccine_aggregration/3.countries+periods/China_JanFeb2020.csv\", dtype={\"id_str\": str})\n",
    "china2 = pd.read_csv(\n",
    "    \"../../data/covid_coronavirus_vaccine_aggregration/3.countries+periods/China_SeptOct2020.csv\", dtype={\"id_str\": str})\n",
    "china3 = pd.read_csv(\n",
    "    \"../../data/covid_coronavirus_vaccine_aggregration/3.countries+periods/China_MarchApril2021.csv\", dtype={\"id_str\": str})\n",
    "\n",
    "america1 = pd.read_csv(\n",
    "    \"../../data/covid_coronavirus_vaccine_aggregration/3.countries+periods/USA_JanFeb2020.csv\", dtype={\"id_str\": str})\n",
    "america2 = pd.read_csv(\n",
    "    \"../../data/covid_coronavirus_vaccine_aggregration/3.countries+periods/USA_SeptOct2020.csv\", dtype={\"id_str\": str})\n",
    "america3 = pd.read_csv(\n",
    "    \"../../data/covid_coronavirus_vaccine_aggregration/3.countries+periods/USA_MarchApril2021.csv\", dtype={\"id_str\": str})\n",
    "\n",
    "\n",
    "pdLIWK[\"Source (A)\"] = pd_indexes[\"id_str\"]\n",
    "\n",
    "print(\"china unique tweets\", len(np.unique(china[\"id_str\"])))\n",
    "print(\"america unique tweets\", len(np.unique(america[\"id_str\"])))\n",
    "# save the sub df of the result in new files\n",
    "\n",
    "america1L = pdLIWK[pdLIWK[\"Source (A)\"].isin(america1[\"id_str\"])]\n",
    "america2L = pdLIWK[pdLIWK[\"Source (A)\"].isin(america2[\"id_str\"])]\n",
    "america3L = pdLIWK[pdLIWK[\"Source (A)\"].isin(america3[\"id_str\"])]\n",
    "\n",
    "americaTL = pdLIWK[pdLIWK[\"Source (A)\"].isin(america[\"id_str\"])]\n",
    "\n",
    "china1L = pdLIWK[pdLIWK[\"Source (A)\"].isin(china1[\"id_str\"])]\n",
    "china2L = pdLIWK[pdLIWK[\"Source (A)\"].isin(china2[\"id_str\"])]\n",
    "china3L = pdLIWK[pdLIWK[\"Source (A)\"].isin(china3[\"id_str\"])]\n",
    "\n",
    "chinaTL = pdLIWK[pdLIWK[\"Source (A)\"].isin(china[\"id_str\"])]\n"
   ]
  },
  {
   "cell_type": "code",
   "execution_count": 4,
   "metadata": {},
   "outputs": [
    {
     "data": {
      "text/html": [
       "<div>\n",
       "<style scoped>\n",
       "    .dataframe tbody tr th:only-of-type {\n",
       "        vertical-align: middle;\n",
       "    }\n",
       "\n",
       "    .dataframe tbody tr th {\n",
       "        vertical-align: top;\n",
       "    }\n",
       "\n",
       "    .dataframe thead th {\n",
       "        text-align: right;\n",
       "    }\n",
       "</style>\n",
       "<table border=\"1\" class=\"dataframe\">\n",
       "  <thead>\n",
       "    <tr style=\"text-align: right;\">\n",
       "      <th></th>\n",
       "      <th>Source (A)</th>\n",
       "      <th>Source (B)</th>\n",
       "      <th>WC</th>\n",
       "      <th>Analytic</th>\n",
       "      <th>Clout</th>\n",
       "      <th>Authentic</th>\n",
       "      <th>Tone</th>\n",
       "      <th>WPS</th>\n",
       "      <th>Sixltr</th>\n",
       "      <th>Dic</th>\n",
       "      <th>...</th>\n",
       "      <th>Comma</th>\n",
       "      <th>Colon</th>\n",
       "      <th>SemiC</th>\n",
       "      <th>QMark</th>\n",
       "      <th>Exclam</th>\n",
       "      <th>Dash</th>\n",
       "      <th>Quote</th>\n",
       "      <th>Apostro</th>\n",
       "      <th>Parenth</th>\n",
       "      <th>OtherP</th>\n",
       "    </tr>\n",
       "  </thead>\n",
       "  <tbody>\n",
       "    <tr>\n",
       "      <th>0</th>\n",
       "      <td>1230806996087169024</td>\n",
       "      <td>\"'Shameful'\\n\\nUkrainians attack a bus carryi...</td>\n",
       "      <td>15.0</td>\n",
       "      <td>99.00</td>\n",
       "      <td>50.00</td>\n",
       "      <td>10.08</td>\n",
       "      <td>1.00</td>\n",
       "      <td>15.0</td>\n",
       "      <td>40.00</td>\n",
       "      <td>46.67</td>\n",
       "      <td>...</td>\n",
       "      <td>0.00</td>\n",
       "      <td>0.00</td>\n",
       "      <td>0.0</td>\n",
       "      <td>0.0</td>\n",
       "      <td>0.0</td>\n",
       "      <td>0.0</td>\n",
       "      <td>6.67</td>\n",
       "      <td>13.33</td>\n",
       "      <td>0.0</td>\n",
       "      <td>13.33</td>\n",
       "    </tr>\n",
       "    <tr>\n",
       "      <th>1</th>\n",
       "      <td>1230735700745539590</td>\n",
       "      <td>RT @AJENews: China's Hubei says 220 people fro...</td>\n",
       "      <td>23.0</td>\n",
       "      <td>93.26</td>\n",
       "      <td>90.38</td>\n",
       "      <td>1.00</td>\n",
       "      <td>25.77</td>\n",
       "      <td>23.0</td>\n",
       "      <td>21.74</td>\n",
       "      <td>52.17</td>\n",
       "      <td>...</td>\n",
       "      <td>0.00</td>\n",
       "      <td>4.35</td>\n",
       "      <td>0.0</td>\n",
       "      <td>0.0</td>\n",
       "      <td>0.0</td>\n",
       "      <td>0.0</td>\n",
       "      <td>0.00</td>\n",
       "      <td>8.70</td>\n",
       "      <td>0.0</td>\n",
       "      <td>17.39</td>\n",
       "    </tr>\n",
       "    <tr>\n",
       "      <th>2</th>\n",
       "      <td>1230647176990253061</td>\n",
       "      <td>China coronavirus outbreak: All the latest upd...</td>\n",
       "      <td>12.0</td>\n",
       "      <td>98.14</td>\n",
       "      <td>50.00</td>\n",
       "      <td>23.51</td>\n",
       "      <td>25.77</td>\n",
       "      <td>12.0</td>\n",
       "      <td>33.33</td>\n",
       "      <td>41.67</td>\n",
       "      <td>...</td>\n",
       "      <td>0.00</td>\n",
       "      <td>8.33</td>\n",
       "      <td>0.0</td>\n",
       "      <td>0.0</td>\n",
       "      <td>0.0</td>\n",
       "      <td>0.0</td>\n",
       "      <td>0.00</td>\n",
       "      <td>0.00</td>\n",
       "      <td>0.0</td>\n",
       "      <td>16.67</td>\n",
       "    </tr>\n",
       "    <tr>\n",
       "      <th>3</th>\n",
       "      <td>1230375401874169866</td>\n",
       "      <td>China expels foreign journalists as coronaviru...</td>\n",
       "      <td>13.0</td>\n",
       "      <td>93.26</td>\n",
       "      <td>50.00</td>\n",
       "      <td>1.40</td>\n",
       "      <td>25.77</td>\n",
       "      <td>13.0</td>\n",
       "      <td>30.77</td>\n",
       "      <td>38.46</td>\n",
       "      <td>...</td>\n",
       "      <td>0.00</td>\n",
       "      <td>0.00</td>\n",
       "      <td>0.0</td>\n",
       "      <td>0.0</td>\n",
       "      <td>0.0</td>\n",
       "      <td>0.0</td>\n",
       "      <td>0.00</td>\n",
       "      <td>0.00</td>\n",
       "      <td>0.0</td>\n",
       "      <td>15.38</td>\n",
       "    </tr>\n",
       "    <tr>\n",
       "      <th>4</th>\n",
       "      <td>1230292370027163649</td>\n",
       "      <td>China coronavirus outbreak: All the latest upd...</td>\n",
       "      <td>12.0</td>\n",
       "      <td>98.14</td>\n",
       "      <td>50.00</td>\n",
       "      <td>23.51</td>\n",
       "      <td>25.77</td>\n",
       "      <td>12.0</td>\n",
       "      <td>33.33</td>\n",
       "      <td>50.00</td>\n",
       "      <td>...</td>\n",
       "      <td>0.00</td>\n",
       "      <td>8.33</td>\n",
       "      <td>0.0</td>\n",
       "      <td>0.0</td>\n",
       "      <td>0.0</td>\n",
       "      <td>0.0</td>\n",
       "      <td>0.00</td>\n",
       "      <td>0.00</td>\n",
       "      <td>0.0</td>\n",
       "      <td>16.67</td>\n",
       "    </tr>\n",
       "    <tr>\n",
       "      <th>...</th>\n",
       "      <td>...</td>\n",
       "      <td>...</td>\n",
       "      <td>...</td>\n",
       "      <td>...</td>\n",
       "      <td>...</td>\n",
       "      <td>...</td>\n",
       "      <td>...</td>\n",
       "      <td>...</td>\n",
       "      <td>...</td>\n",
       "      <td>...</td>\n",
       "      <td>...</td>\n",
       "      <td>...</td>\n",
       "      <td>...</td>\n",
       "      <td>...</td>\n",
       "      <td>...</td>\n",
       "      <td>...</td>\n",
       "      <td>...</td>\n",
       "      <td>...</td>\n",
       "      <td>...</td>\n",
       "      <td>...</td>\n",
       "      <td>...</td>\n",
       "    </tr>\n",
       "    <tr>\n",
       "      <th>4574</th>\n",
       "      <td>1220470777100808197</td>\n",
       "      <td>Lam says Hong Kong has system in place to hand...</td>\n",
       "      <td>21.0</td>\n",
       "      <td>96.66</td>\n",
       "      <td>68.29</td>\n",
       "      <td>2.82</td>\n",
       "      <td>25.77</td>\n",
       "      <td>21.0</td>\n",
       "      <td>14.29</td>\n",
       "      <td>33.33</td>\n",
       "      <td>...</td>\n",
       "      <td>0.00</td>\n",
       "      <td>0.00</td>\n",
       "      <td>0.0</td>\n",
       "      <td>0.0</td>\n",
       "      <td>0.0</td>\n",
       "      <td>0.0</td>\n",
       "      <td>0.00</td>\n",
       "      <td>0.00</td>\n",
       "      <td>0.0</td>\n",
       "      <td>19.05</td>\n",
       "    </tr>\n",
       "    <tr>\n",
       "      <th>4575</th>\n",
       "      <td>1220427456680800257</td>\n",
       "      <td>Wall Street hit by coronavirus concerns, weak ...</td>\n",
       "      <td>18.0</td>\n",
       "      <td>97.07</td>\n",
       "      <td>50.00</td>\n",
       "      <td>4.97</td>\n",
       "      <td>1.00</td>\n",
       "      <td>18.0</td>\n",
       "      <td>27.78</td>\n",
       "      <td>44.44</td>\n",
       "      <td>...</td>\n",
       "      <td>5.56</td>\n",
       "      <td>0.00</td>\n",
       "      <td>0.0</td>\n",
       "      <td>0.0</td>\n",
       "      <td>0.0</td>\n",
       "      <td>0.0</td>\n",
       "      <td>0.00</td>\n",
       "      <td>0.00</td>\n",
       "      <td>0.0</td>\n",
       "      <td>22.22</td>\n",
       "    </tr>\n",
       "    <tr>\n",
       "      <th>4576</th>\n",
       "      <td>1220398288349863937</td>\n",
       "      <td>'Amid fears of a new Chinese coronavirus, Lag...</td>\n",
       "      <td>25.0</td>\n",
       "      <td>99.00</td>\n",
       "      <td>65.56</td>\n",
       "      <td>1.59</td>\n",
       "      <td>1.00</td>\n",
       "      <td>25.0</td>\n",
       "      <td>44.00</td>\n",
       "      <td>68.00</td>\n",
       "      <td>...</td>\n",
       "      <td>4.00</td>\n",
       "      <td>0.00</td>\n",
       "      <td>0.0</td>\n",
       "      <td>0.0</td>\n",
       "      <td>0.0</td>\n",
       "      <td>0.0</td>\n",
       "      <td>0.00</td>\n",
       "      <td>4.00</td>\n",
       "      <td>0.0</td>\n",
       "      <td>0.00</td>\n",
       "    </tr>\n",
       "    <tr>\n",
       "      <th>4577</th>\n",
       "      <td>1219921523173183489</td>\n",
       "      <td>Hong Kong on high alert to tackle coronavirus ...</td>\n",
       "      <td>19.0</td>\n",
       "      <td>98.71</td>\n",
       "      <td>50.00</td>\n",
       "      <td>4.05</td>\n",
       "      <td>25.77</td>\n",
       "      <td>19.0</td>\n",
       "      <td>21.05</td>\n",
       "      <td>26.32</td>\n",
       "      <td>...</td>\n",
       "      <td>0.00</td>\n",
       "      <td>0.00</td>\n",
       "      <td>0.0</td>\n",
       "      <td>0.0</td>\n",
       "      <td>0.0</td>\n",
       "      <td>0.0</td>\n",
       "      <td>0.00</td>\n",
       "      <td>0.00</td>\n",
       "      <td>0.0</td>\n",
       "      <td>21.05</td>\n",
       "    </tr>\n",
       "    <tr>\n",
       "      <th>4578</th>\n",
       "      <td>1219825704059179015</td>\n",
       "      <td>Yen supported, yuan frail on coronavirus conce...</td>\n",
       "      <td>17.0</td>\n",
       "      <td>97.21</td>\n",
       "      <td>50.00</td>\n",
       "      <td>1.00</td>\n",
       "      <td>98.87</td>\n",
       "      <td>17.0</td>\n",
       "      <td>29.41</td>\n",
       "      <td>41.18</td>\n",
       "      <td>...</td>\n",
       "      <td>5.88</td>\n",
       "      <td>0.00</td>\n",
       "      <td>0.0</td>\n",
       "      <td>0.0</td>\n",
       "      <td>0.0</td>\n",
       "      <td>0.0</td>\n",
       "      <td>0.00</td>\n",
       "      <td>0.00</td>\n",
       "      <td>0.0</td>\n",
       "      <td>23.53</td>\n",
       "    </tr>\n",
       "  </tbody>\n",
       "</table>\n",
       "<p>3156 rows × 95 columns</p>\n",
       "</div>"
      ],
      "text/plain": [
       "               Source (A)                                         Source (B)  \\\n",
       "0     1230806996087169024   \"'Shameful'\\n\\nUkrainians attack a bus carryi...   \n",
       "1     1230735700745539590  RT @AJENews: China's Hubei says 220 people fro...   \n",
       "2     1230647176990253061  China coronavirus outbreak: All the latest upd...   \n",
       "3     1230375401874169866  China expels foreign journalists as coronaviru...   \n",
       "4     1230292370027163649  China coronavirus outbreak: All the latest upd...   \n",
       "...                   ...                                                ...   \n",
       "4574  1220470777100808197  Lam says Hong Kong has system in place to hand...   \n",
       "4575  1220427456680800257  Wall Street hit by coronavirus concerns, weak ...   \n",
       "4576  1220398288349863937   'Amid fears of a new Chinese coronavirus, Lag...   \n",
       "4577  1219921523173183489  Hong Kong on high alert to tackle coronavirus ...   \n",
       "4578  1219825704059179015  Yen supported, yuan frail on coronavirus conce...   \n",
       "\n",
       "        WC  Analytic  Clout  Authentic   Tone   WPS  Sixltr    Dic  ...  \\\n",
       "0     15.0     99.00  50.00      10.08   1.00  15.0   40.00  46.67  ...   \n",
       "1     23.0     93.26  90.38       1.00  25.77  23.0   21.74  52.17  ...   \n",
       "2     12.0     98.14  50.00      23.51  25.77  12.0   33.33  41.67  ...   \n",
       "3     13.0     93.26  50.00       1.40  25.77  13.0   30.77  38.46  ...   \n",
       "4     12.0     98.14  50.00      23.51  25.77  12.0   33.33  50.00  ...   \n",
       "...    ...       ...    ...        ...    ...   ...     ...    ...  ...   \n",
       "4574  21.0     96.66  68.29       2.82  25.77  21.0   14.29  33.33  ...   \n",
       "4575  18.0     97.07  50.00       4.97   1.00  18.0   27.78  44.44  ...   \n",
       "4576  25.0     99.00  65.56       1.59   1.00  25.0   44.00  68.00  ...   \n",
       "4577  19.0     98.71  50.00       4.05  25.77  19.0   21.05  26.32  ...   \n",
       "4578  17.0     97.21  50.00       1.00  98.87  17.0   29.41  41.18  ...   \n",
       "\n",
       "      Comma  Colon  SemiC  QMark  Exclam  Dash  Quote  Apostro  Parenth  \\\n",
       "0      0.00   0.00    0.0    0.0     0.0   0.0   6.67    13.33      0.0   \n",
       "1      0.00   4.35    0.0    0.0     0.0   0.0   0.00     8.70      0.0   \n",
       "2      0.00   8.33    0.0    0.0     0.0   0.0   0.00     0.00      0.0   \n",
       "3      0.00   0.00    0.0    0.0     0.0   0.0   0.00     0.00      0.0   \n",
       "4      0.00   8.33    0.0    0.0     0.0   0.0   0.00     0.00      0.0   \n",
       "...     ...    ...    ...    ...     ...   ...    ...      ...      ...   \n",
       "4574   0.00   0.00    0.0    0.0     0.0   0.0   0.00     0.00      0.0   \n",
       "4575   5.56   0.00    0.0    0.0     0.0   0.0   0.00     0.00      0.0   \n",
       "4576   4.00   0.00    0.0    0.0     0.0   0.0   0.00     4.00      0.0   \n",
       "4577   0.00   0.00    0.0    0.0     0.0   0.0   0.00     0.00      0.0   \n",
       "4578   5.88   0.00    0.0    0.0     0.0   0.0   0.00     0.00      0.0   \n",
       "\n",
       "      OtherP  \n",
       "0      13.33  \n",
       "1      17.39  \n",
       "2      16.67  \n",
       "3      15.38  \n",
       "4      16.67  \n",
       "...      ...  \n",
       "4574   19.05  \n",
       "4575   22.22  \n",
       "4576    0.00  \n",
       "4577   21.05  \n",
       "4578   23.53  \n",
       "\n",
       "[3156 rows x 95 columns]"
      ]
     },
     "execution_count": 4,
     "metadata": {},
     "output_type": "execute_result"
    }
   ],
   "source": [
    "america1L\n"
   ]
  },
  {
   "cell_type": "markdown",
   "metadata": {},
   "source": [
    "# Marker statistics"
   ]
  },
  {
   "cell_type": "code",
   "execution_count": 5,
   "metadata": {},
   "outputs": [
    {
     "name": "stderr",
     "output_type": "stream",
     "text": [
      "/tmp/ipykernel_4630/2847452728.py:2: FutureWarning: Dropping of nuisance columns in DataFrame reductions (with 'numeric_only=None') is deprecated; in a future version this will raise TypeError.  Select only valid columns before calling the reduction.\n",
      "  print(\"china:\\n \", chinaTL.mean(axis=0)[[\"Authentic\", \"they\", \"anger\", \"negemo\", \"posemo\", \"death\",\n"
     ]
    },
    {
     "name": "stdout",
     "output_type": "stream",
     "text": [
      "china:\n",
      "  Authentic       28.266114\n",
      "they             0.270231\n",
      "anger            0.717975\n",
      "negemo           1.411658\n",
      "posemo           1.433567\n",
      "death            0.526905\n",
      "focuspresent     5.028799\n",
      "focuspast        1.725428\n",
      "focusfuture      0.576271\n",
      "affiliation      1.032894\n",
      "drives           6.157958\n",
      "achieve          1.454108\n",
      "power            3.190153\n",
      "Clout           63.153146\n",
      "dtype: float64\n"
     ]
    },
    {
     "name": "stderr",
     "output_type": "stream",
     "text": [
      "/tmp/ipykernel_4630/2847452728.py:4: FutureWarning: Dropping of nuisance columns in DataFrame reductions (with 'numeric_only=None') is deprecated; in a future version this will raise TypeError.  Select only valid columns before calling the reduction.\n",
      "  print(\"\\n USA:\\n \", americaTL.mean(axis=0)[[\"Authentic\", \"they\", \"anger\", \"negemo\", \"posemo\", \"death\",\n",
      "/tmp/ipykernel_4630/2847452728.py:7: FutureWarning: Dropping of nuisance columns in DataFrame reductions (with 'numeric_only=None') is deprecated; in a future version this will raise TypeError.  Select only valid columns before calling the reduction.\n",
      "  print(\"china:\\n \", china1L.mean(axis=0)[[\"Authentic\", \"they\", \"anger\", \"negemo\", \"posemo\", \"death\",\n",
      "/tmp/ipykernel_4630/2847452728.py:9: FutureWarning: Dropping of nuisance columns in DataFrame reductions (with 'numeric_only=None') is deprecated; in a future version this will raise TypeError.  Select only valid columns before calling the reduction.\n",
      "  print(\"\\n USA:\\n \", america1L.mean(axis=0)[[\"Authentic\", \"they\", \"anger\", \"negemo\", \"posemo\", \"death\",\n",
      "/tmp/ipykernel_4630/2847452728.py:12: FutureWarning: Dropping of nuisance columns in DataFrame reductions (with 'numeric_only=None') is deprecated; in a future version this will raise TypeError.  Select only valid columns before calling the reduction.\n",
      "  print(\"china:\\n \", china2L.mean(axis=0)[[\"Authentic\", \"they\", \"anger\", \"negemo\", \"posemo\", \"death\",\n"
     ]
    },
    {
     "name": "stdout",
     "output_type": "stream",
     "text": [
      "\n",
      " USA:\n",
      "  Authentic       20.876167\n",
      "they             0.203771\n",
      "anger            0.341949\n",
      "negemo           1.398439\n",
      "posemo           1.110855\n",
      "death            0.506842\n",
      "focuspresent     4.219470\n",
      "focuspast        1.545400\n",
      "focusfuture      0.666743\n",
      "affiliation      0.916808\n",
      "drives           6.078750\n",
      "achieve          1.222466\n",
      "power            3.121190\n",
      "Clout           60.917008\n",
      "dtype: float64\n",
      "china:\n",
      "  Authentic       24.744241\n",
      "they             0.320588\n",
      "anger            1.126122\n",
      "negemo           1.834975\n",
      "posemo           1.610263\n",
      "death            0.677882\n",
      "focuspresent     5.101847\n",
      "focuspast        1.566155\n",
      "focusfuture      0.522940\n",
      "affiliation      1.224862\n",
      "drives           6.349174\n",
      "achieve          1.566914\n",
      "power            3.249454\n",
      "Clout           64.579416\n",
      "dtype: float64\n",
      "\n",
      " USA:\n",
      "  Authentic       24.111404\n",
      "they             0.175792\n",
      "anger            0.387335\n",
      "negemo           1.488859\n",
      "posemo           0.603866\n",
      "death            0.757630\n",
      "focuspresent     4.137025\n",
      "focuspast        1.501800\n",
      "focusfuture      0.478824\n",
      "affiliation      0.839224\n",
      "drives           4.851847\n",
      "achieve          1.052494\n",
      "power            2.357158\n",
      "Clout           60.199411\n",
      "dtype: float64\n",
      "china:\n",
      "  Authentic       31.908981\n",
      "they             0.216979\n",
      "anger            0.340098\n",
      "negemo           1.000912\n",
      "posemo           1.374683\n",
      "death            0.418079\n",
      "focuspresent     5.426005\n",
      "focuspast        1.940384\n",
      "focusfuture      0.751394\n",
      "affiliation      0.900563\n",
      "drives           6.158141\n",
      "achieve          1.302976\n",
      "power            3.217623\n",
      "Clout           62.118633\n",
      "dtype: float64\n",
      "\n",
      " USA:\n",
      "  Authentic       20.294760\n",
      "they             0.209821\n",
      "anger            0.335913\n",
      "negemo           1.361891\n",
      "posemo           1.437427\n",
      "death            0.399754\n",
      "focuspresent     4.297961\n",
      "focuspast        1.725081\n",
      "focusfuture      0.762390\n",
      "affiliation      0.965256\n",
      "drives           6.824362\n",
      "achieve          1.333745\n",
      "power            3.636821\n",
      "Clout           61.582202\n",
      "dtype: float64\n",
      "china:\n",
      "  Authentic       32.167080\n",
      "they             0.215616\n",
      "anger            0.221643\n",
      "negemo           0.915688\n",
      "posemo           1.114080\n",
      "death            0.312384\n",
      "focuspresent     4.475545\n",
      "focuspast        1.851679\n",
      "focusfuture      0.515491\n",
      "affiliation      0.754089\n",
      "drives           5.748366\n",
      "achieve          1.363580\n",
      "power            3.035741\n",
      "Clout           61.132991\n",
      "dtype: float64\n",
      "\n",
      " USA:\n",
      "  Authentic       18.708581\n",
      "they             0.220768\n",
      "anger            0.307909\n",
      "negemo           1.372615\n",
      "posemo           1.047376\n",
      "death            0.445006\n",
      "focuspresent     4.165685\n",
      "focuspast        1.280378\n",
      "focusfuture      0.686704\n",
      "affiliation      0.909709\n",
      "drives           6.001645\n",
      "achieve          1.198113\n",
      "power            2.985313\n",
      "Clout           60.479650\n",
      "dtype: float64\n"
     ]
    },
    {
     "name": "stderr",
     "output_type": "stream",
     "text": [
      "/tmp/ipykernel_4630/2847452728.py:14: FutureWarning: Dropping of nuisance columns in DataFrame reductions (with 'numeric_only=None') is deprecated; in a future version this will raise TypeError.  Select only valid columns before calling the reduction.\n",
      "  print(\"\\n USA:\\n \", america2L.mean(axis=0)[[\"Authentic\", \"they\", \"anger\", \"negemo\", \"posemo\", \"death\",\n",
      "/tmp/ipykernel_4630/2847452728.py:18: FutureWarning: Dropping of nuisance columns in DataFrame reductions (with 'numeric_only=None') is deprecated; in a future version this will raise TypeError.  Select only valid columns before calling the reduction.\n",
      "  print(\"china:\\n \", china3L.mean(axis=0)[[\"Authentic\", \"they\", \"anger\", \"negemo\", \"posemo\", \"death\",\n",
      "/tmp/ipykernel_4630/2847452728.py:20: FutureWarning: Dropping of nuisance columns in DataFrame reductions (with 'numeric_only=None') is deprecated; in a future version this will raise TypeError.  Select only valid columns before calling the reduction.\n",
      "  print(\"\\n USA:\\n \", america3L.mean(axis=0)[[\"Authentic\", \"they\", \"anger\", \"negemo\", \"posemo\", \"death\",\n"
     ]
    }
   ],
   "source": [
    "# china vs america\n",
    "print(\"china:\\n \", chinaTL.mean(axis=0)[[\"Authentic\", \"they\", \"anger\", \"negemo\", \"posemo\", \"death\",\n",
    "      \"focuspresent\", \"focuspast\", \"focusfuture\", \"affiliation\", \"drives\", \"achieve\", \"power\", \"Clout\"]])\n",
    "print(\"\\n USA:\\n \", americaTL.mean(axis=0)[[\"Authentic\", \"they\", \"anger\", \"negemo\", \"posemo\", \"death\",\n",
    "      \"focuspresent\", \"focuspast\", \"focusfuture\", \"affiliation\", \"drives\", \"achieve\", \"power\", \"Clout\"]])\n",
    "# china1 vs america1\n",
    "print(\"china:\\n \", china1L.mean(axis=0)[[\"Authentic\", \"they\", \"anger\", \"negemo\", \"posemo\", \"death\",\n",
    "      \"focuspresent\", \"focuspast\", \"focusfuture\", \"affiliation\", \"drives\", \"achieve\", \"power\", \"Clout\"]])\n",
    "print(\"\\n USA:\\n \", america1L.mean(axis=0)[[\"Authentic\", \"they\", \"anger\", \"negemo\", \"posemo\", \"death\",\n",
    "      \"focuspresent\", \"focuspast\", \"focusfuture\", \"affiliation\", \"drives\", \"achieve\", \"power\", \"Clout\"]])\n",
    "# china2 vs america2\n",
    "print(\"china:\\n \", china2L.mean(axis=0)[[\"Authentic\", \"they\", \"anger\", \"negemo\", \"posemo\", \"death\",\n",
    "      \"focuspresent\", \"focuspast\", \"focusfuture\", \"affiliation\", \"drives\", \"achieve\", \"power\", \"Clout\"]])\n",
    "print(\"\\n USA:\\n \", america2L.mean(axis=0)[[\"Authentic\", \"they\", \"anger\", \"negemo\", \"posemo\", \"death\",\n",
    "      \"focuspresent\", \"focuspast\", \"focusfuture\", \"affiliation\", \"drives\", \"achieve\", \"power\", \"Clout\"]])\n",
    "\n",
    "# china3 vs america3\n",
    "print(\"china:\\n \", china3L.mean(axis=0)[[\"Authentic\", \"they\", \"anger\", \"negemo\", \"posemo\", \"death\",\n",
    "      \"focuspresent\", \"focuspast\", \"focusfuture\", \"affiliation\", \"drives\", \"achieve\", \"power\", \"Clout\"]])\n",
    "print(\"\\n USA:\\n \", america3L.mean(axis=0)[[\"Authentic\", \"they\", \"anger\", \"negemo\", \"posemo\", \"death\",\n",
    "      \"focuspresent\", \"focuspast\", \"focusfuture\", \"affiliation\", \"drives\", \"achieve\", \"power\", \"Clout\"]])\n"
   ]
  },
  {
   "cell_type": "markdown",
   "metadata": {},
   "source": [
    "## Box plots\n"
   ]
  },
  {
   "cell_type": "markdown",
   "metadata": {},
   "source": [
    "### Comparison China - America: Total"
   ]
  },
  {
   "cell_type": "markdown",
   "metadata": {},
   "source": [
    "#### LIWC summary variables"
   ]
  },
  {
   "cell_type": "code",
   "execution_count": 26,
   "metadata": {},
   "outputs": [
    {
     "name": "stderr",
     "output_type": "stream",
     "text": [
      "/tmp/ipykernel_4630/2097951405.py:2: FutureWarning: Dropping of nuisance columns in DataFrame reductions (with 'numeric_only=None') is deprecated; in a future version this will raise TypeError.  Select only valid columns before calling the reduction.\n",
      "  america_total = pd.DataFrame(americaTL.mean(\n",
      "/tmp/ipykernel_4630/2097951405.py:9: FutureWarning: Dropping of nuisance columns in DataFrame reductions (with 'numeric_only=None') is deprecated; in a future version this will raise TypeError.  Select only valid columns before calling the reduction.\n",
      "  china_total = pd.DataFrame(chinaTL.mean(\n"
     ]
    },
    {
     "data": {
      "image/png": "[encoded data removed]",
      "text/plain": [
       "<Figure size 432x288 with 1 Axes>"
      ]
     },
     "metadata": {
      "needs_background": "light"
     },
     "output_type": "display_data"
    }
   ],
   "source": [
    "# total\n",
    "america_total = pd.DataFrame(americaTL.mean(\n",
    "    axis=0)[[\"Analytic\", \"Clout\", \"Authentic\", \"Tone\"]])\n",
    "america_total.rename(columns={0: \"value\"}, inplace=True)\n",
    "america_total['sentiment'] = america_total.index\n",
    "america_total.reset_index(drop=True, inplace=True)\n",
    "america_total.insert(0, 'country', 'America')\n",
    "\n",
    "china_total = pd.DataFrame(chinaTL.mean(\n",
    "    axis=0)[[\"Analytic\", \"Clout\", \"Authentic\", \"Tone\"]])\n",
    "china_total.rename(columns={0: \"value\"}, inplace=True)\n",
    "china_total['sentiment'] = china_total.index\n",
    "china_total.reset_index(drop=True, inplace=True)\n",
    "china_total.insert(0, 'country', 'China')\n",
    "\n",
    "total = pd.concat([america_total, china_total])\n",
    "\n",
    "total\n",
    "tot = sns.barplot(data=total, x='sentiment', hue='country', y=\"value\")\n",
    "tot.set(ylabel='Value')\n",
    "plt.show()\n"
   ]
  },
  {
   "cell_type": "markdown",
   "metadata": {},
   "source": [
    "#### all markers comparison"
   ]
  },
  {
   "cell_type": "code",
   "execution_count": 49,
   "metadata": {},
   "outputs": [
    {
     "name": "stderr",
     "output_type": "stream",
     "text": [
      "/tmp/ipykernel_4630/3751834741.py:2: FutureWarning: Dropping of nuisance columns in DataFrame reductions (with 'numeric_only=None') is deprecated; in a future version this will raise TypeError.  Select only valid columns before calling the reduction.\n",
      "  america_total = pd.DataFrame(americaTL.mean(\n",
      "/tmp/ipykernel_4630/3751834741.py:9: FutureWarning: Dropping of nuisance columns in DataFrame reductions (with 'numeric_only=None') is deprecated; in a future version this will raise TypeError.  Select only valid columns before calling the reduction.\n",
      "  china_total = pd.DataFrame(chinaTL.mean(\n"
     ]
    },
    {
     "data": {
      "image/png": "[encoded data removed]",
      "text/plain": [
       "<Figure size 432x288 with 1 Axes>"
      ]
     },
     "metadata": {
      "needs_background": "light"
     },
     "output_type": "display_data"
    }
   ],
   "source": [
    "# total\n",
    "america_total = pd.DataFrame(americaTL.mean(\n",
    "    axis=0)[[\"negemo\", \"posemo\", \"focuspast\", \"focuspresent\", \"focusfuture\", \"we\", \"they\", \"drives\"]])\n",
    "america_total.rename(columns={0: \"value\"}, inplace=True)\n",
    "america_total['sentiment'] = america_total.index\n",
    "america_total.reset_index(drop=True, inplace=True)\n",
    "america_total.insert(0, 'country', 'America')\n",
    "\n",
    "china_total = pd.DataFrame(chinaTL.mean(\n",
    "    axis=0)[[\"negemo\", \"posemo\", \"focuspast\", \"focuspresent\", \"focusfuture\", \"we\", \"they\", \"drives\"]])\n",
    "china_total.rename(columns={0: \"value\"}, inplace=True)\n",
    "china_total['sentiment'] = china_total.index\n",
    "china_total.reset_index(drop=True, inplace=True)\n",
    "china_total.insert(0, 'country', 'China')\n",
    "\n",
    "total = pd.concat([america_total, china_total])\n",
    "total['sentiment'].replace({'focuspast': 'past', 'focuspresent': 'present',\n",
    "             'focusfuture': 'future'}, inplace=True)\n",
    "\n",
    "tot = sns.barplot(data=total, x='sentiment', hue='country', y=\"value\")\n",
    "tot.set(xlabel=\"\", ylabel='')\n",
    "tot.legend(title=\"\")\n",
    "tot.tick_params(labelsize=10)\n",
    "plt.show()\n"
   ]
  },
  {
   "cell_type": "markdown",
   "metadata": {},
   "source": [
    "#### Few thoughts\n",
    "The value of the marker 'Authentic' and clout is the only main difference\n"
   ]
  },
  {
   "cell_type": "markdown",
   "metadata": {},
   "source": [
    "### Analysis on the single periods\n",
    "Comparison between countries on different periods"
   ]
  },
  {
   "cell_type": "markdown",
   "metadata": {},
   "source": [
    "negemo"
   ]
  },
  {
   "cell_type": "code",
   "execution_count": 18,
   "metadata": {},
   "outputs": [
    {
     "name": "stderr",
     "output_type": "stream",
     "text": [
      "/tmp/ipykernel_4630/3670397422.py:1: FutureWarning: Dropping of nuisance columns in DataFrame reductions (with 'numeric_only=None') is deprecated; in a future version this will raise TypeError.  Select only valid columns before calling the reduction.\n",
      "  america_periods = pd.concat([america1L.mean(axis=0)[[\"negemo\"]], america2L.mean(\n",
      "/tmp/ipykernel_4630/3670397422.py:2: FutureWarning: Dropping of nuisance columns in DataFrame reductions (with 'numeric_only=None') is deprecated; in a future version this will raise TypeError.  Select only valid columns before calling the reduction.\n",
      "  axis=0)[[\"negemo\"]], america3L.mean(axis=0)[[\"negemo\"]]])\n",
      "/tmp/ipykernel_4630/3670397422.py:9: FutureWarning: Dropping of nuisance columns in DataFrame reductions (with 'numeric_only=None') is deprecated; in a future version this will raise TypeError.  Select only valid columns before calling the reduction.\n",
      "  china_periods = pd.concat([china1L.mean(axis=0)[[\"negemo\"]], china2L.mean(\n",
      "/tmp/ipykernel_4630/3670397422.py:10: FutureWarning: Dropping of nuisance columns in DataFrame reductions (with 'numeric_only=None') is deprecated; in a future version this will raise TypeError.  Select only valid columns before calling the reduction.\n",
      "  axis=0)[[\"negemo\"]], china3L.mean(axis=0)[[\"negemo\"]]])\n"
     ]
    },
    {
     "data": {
      "image/png": "[encoded data removed]",
      "text/plain": [
       "<Figure size 432x288 with 1 Axes>"
      ]
     },
     "metadata": {
      "needs_background": "light"
     },
     "output_type": "display_data"
    }
   ],
   "source": [
    "america_periods = pd.concat([america1L.mean(axis=0)[[\"negemo\"]], america2L.mean(\n",
    "    axis=0)[[\"negemo\"]], america3L.mean(axis=0)[[\"negemo\"]]])\n",
    "america_periods = pd.DataFrame(america_periods)\n",
    "america_periods.rename(columns={0: \"value\"}, inplace=True)\n",
    "america_periods.reset_index(drop=True, inplace=True)\n",
    "america_periods.insert(0, 'country', 'America')\n",
    "america_periods.insert(1, 'period', ['1st period', '2nd period', '3rd period'])\n",
    "\n",
    "china_periods = pd.concat([china1L.mean(axis=0)[[\"negemo\"]], china2L.mean(\n",
    "    axis=0)[[\"negemo\"]], china3L.mean(axis=0)[[\"negemo\"]]])\n",
    "china_periods = pd.DataFrame(china_periods)\n",
    "china_periods.rename(columns={0: \"value\"}, inplace=True)\n",
    "china_periods.reset_index(drop=True, inplace=True)\n",
    "china_periods.insert(0, 'country', 'China')\n",
    "china_periods.insert(1, 'period', ['1st period', '2nd period', '3rd period'])\n",
    "\n",
    "total_periods = pd.concat([america_periods, china_periods])\n",
    "\n",
    "total_periods = sns.barplot(\n",
    "    data=total_periods, x='period', hue='country', y=\"value\")\n",
    "total_periods.set(xlabel=\"\", ylabel=\"\")\n",
    "total_periods.legend(title=\"\")\n",
    "plt.show()\n"
   ]
  },
  {
   "cell_type": "markdown",
   "metadata": {},
   "source": [
    "posemo"
   ]
  },
  {
   "cell_type": "code",
   "execution_count": 19,
   "metadata": {},
   "outputs": [
    {
     "name": "stderr",
     "output_type": "stream",
     "text": [
      "/tmp/ipykernel_4630/1659765434.py:1: FutureWarning: Dropping of nuisance columns in DataFrame reductions (with 'numeric_only=None') is deprecated; in a future version this will raise TypeError.  Select only valid columns before calling the reduction.\n",
      "  america_periods = pd.concat([america1L.mean(axis=0)[[\"posemo\"]], america2L.mean(\n",
      "/tmp/ipykernel_4630/1659765434.py:2: FutureWarning: Dropping of nuisance columns in DataFrame reductions (with 'numeric_only=None') is deprecated; in a future version this will raise TypeError.  Select only valid columns before calling the reduction.\n",
      "  axis=0)[[\"posemo\"]], america3L.mean(axis=0)[[\"posemo\"]]])\n",
      "/tmp/ipykernel_4630/1659765434.py:9: FutureWarning: Dropping of nuisance columns in DataFrame reductions (with 'numeric_only=None') is deprecated; in a future version this will raise TypeError.  Select only valid columns before calling the reduction.\n",
      "  china_periods = pd.concat([china1L.mean(axis=0)[[\"posemo\"]], china2L.mean(\n",
      "/tmp/ipykernel_4630/1659765434.py:10: FutureWarning: Dropping of nuisance columns in DataFrame reductions (with 'numeric_only=None') is deprecated; in a future version this will raise TypeError.  Select only valid columns before calling the reduction.\n",
      "  axis=0)[[\"posemo\"]], china3L.mean(axis=0)[[\"posemo\"]]])\n"
     ]
    },
    {
     "data": {
      "image/png": "[encoded data removed]",
      "text/plain": [
       "<Figure size 432x288 with 1 Axes>"
      ]
     },
     "metadata": {
      "needs_background": "light"
     },
     "output_type": "display_data"
    }
   ],
   "source": [
    "america_periods = pd.concat([america1L.mean(axis=0)[[\"posemo\"]], america2L.mean(\n",
    "    axis=0)[[\"posemo\"]], america3L.mean(axis=0)[[\"posemo\"]]])\n",
    "america_periods = pd.DataFrame(america_periods)\n",
    "america_periods.rename(columns={0: \"value\"}, inplace=True)\n",
    "america_periods.reset_index(drop=True, inplace=True)\n",
    "america_periods.insert(0, 'country', 'America')\n",
    "america_periods.insert(1, 'period', ['1st period', '2nd period', '3rd period'])\n",
    "\n",
    "china_periods = pd.concat([china1L.mean(axis=0)[[\"posemo\"]], china2L.mean(\n",
    "    axis=0)[[\"posemo\"]], china3L.mean(axis=0)[[\"posemo\"]]])\n",
    "china_periods = pd.DataFrame(china_periods)\n",
    "china_periods.rename(columns={0: \"value\"}, inplace=True)\n",
    "china_periods.reset_index(drop=True, inplace=True)\n",
    "china_periods.insert(0, 'country', 'China')\n",
    "china_periods.insert(1, 'period', ['1st period', '2nd period', '3rd period'])\n",
    "\n",
    "total_periods = pd.concat([america_periods, china_periods])\n",
    "\n",
    "total_periods = sns.barplot(\n",
    "    data=total_periods, x='period', hue='country', y=\"value\")\n",
    "total_periods.set(xlabel=\"\", ylabel=\"\")\n",
    "total_periods.legend(title=\"\")\n",
    "plt.show()\n"
   ]
  },
  {
   "cell_type": "markdown",
   "metadata": {},
   "source": [
    "drives"
   ]
  },
  {
   "cell_type": "code",
   "execution_count": 20,
   "metadata": {},
   "outputs": [
    {
     "name": "stderr",
     "output_type": "stream",
     "text": [
      "/tmp/ipykernel_4630/1452105147.py:1: FutureWarning: Dropping of nuisance columns in DataFrame reductions (with 'numeric_only=None') is deprecated; in a future version this will raise TypeError.  Select only valid columns before calling the reduction.\n",
      "  america_periods = pd.concat([america1L.mean(axis=0)[[\"drives\"]], america2L.mean(\n",
      "/tmp/ipykernel_4630/1452105147.py:2: FutureWarning: Dropping of nuisance columns in DataFrame reductions (with 'numeric_only=None') is deprecated; in a future version this will raise TypeError.  Select only valid columns before calling the reduction.\n",
      "  axis=0)[[\"drives\"]], america3L.mean(axis=0)[[\"drives\"]]])\n",
      "/tmp/ipykernel_4630/1452105147.py:9: FutureWarning: Dropping of nuisance columns in DataFrame reductions (with 'numeric_only=None') is deprecated; in a future version this will raise TypeError.  Select only valid columns before calling the reduction.\n",
      "  china_periods = pd.concat([china1L.mean(axis=0)[[\"drives\"]], china2L.mean(\n",
      "/tmp/ipykernel_4630/1452105147.py:10: FutureWarning: Dropping of nuisance columns in DataFrame reductions (with 'numeric_only=None') is deprecated; in a future version this will raise TypeError.  Select only valid columns before calling the reduction.\n",
      "  axis=0)[[\"drives\"]], china3L.mean(axis=0)[[\"drives\"]]])\n"
     ]
    },
    {
     "data": {
      "image/png": "[encoded data removed]",
      "text/plain": [
       "<Figure size 432x288 with 1 Axes>"
      ]
     },
     "metadata": {
      "needs_background": "light"
     },
     "output_type": "display_data"
    }
   ],
   "source": [
    "america_periods = pd.concat([america1L.mean(axis=0)[[\"drives\"]], america2L.mean(\n",
    "    axis=0)[[\"drives\"]], america3L.mean(axis=0)[[\"drives\"]]])\n",
    "america_periods = pd.DataFrame(america_periods)\n",
    "america_periods.rename(columns={0: \"value\"}, inplace=True)\n",
    "america_periods.reset_index(drop=True, inplace=True)\n",
    "america_periods.insert(0, 'country', 'America')\n",
    "america_periods.insert(1, 'period', ['1st period', '2nd period', '3rd period'])\n",
    "\n",
    "china_periods = pd.concat([china1L.mean(axis=0)[[\"drives\"]], china2L.mean(\n",
    "    axis=0)[[\"drives\"]], china3L.mean(axis=0)[[\"drives\"]]])\n",
    "china_periods = pd.DataFrame(china_periods)\n",
    "china_periods.rename(columns={0: \"value\"}, inplace=True)\n",
    "china_periods.reset_index(drop=True, inplace=True)\n",
    "china_periods.insert(0, 'country', 'China')\n",
    "china_periods.insert(1, 'period', ['1st period', '2nd period', '3rd period'])\n",
    "\n",
    "total_periods = pd.concat([america_periods, china_periods])\n",
    "\n",
    "total_periods = sns.barplot(\n",
    "    data=total_periods, x='period', hue='country', y=\"value\")\n",
    "total_periods.set(xlabel=\"\", ylabel=\"\")\n",
    "total_periods.legend(title=\"\")\n",
    "plt.show()\n"
   ]
  },
  {
   "cell_type": "markdown",
   "metadata": {},
   "source": [
    "we"
   ]
  },
  {
   "cell_type": "code",
   "execution_count": 21,
   "metadata": {},
   "outputs": [
    {
     "name": "stderr",
     "output_type": "stream",
     "text": [
      "/tmp/ipykernel_4630/3282345843.py:1: FutureWarning: Dropping of nuisance columns in DataFrame reductions (with 'numeric_only=None') is deprecated; in a future version this will raise TypeError.  Select only valid columns before calling the reduction.\n",
      "  america_periods = pd.concat([america1L.mean(axis=0)[[\"we\"]], america2L.mean(\n",
      "/tmp/ipykernel_4630/3282345843.py:2: FutureWarning: Dropping of nuisance columns in DataFrame reductions (with 'numeric_only=None') is deprecated; in a future version this will raise TypeError.  Select only valid columns before calling the reduction.\n",
      "  axis=0)[[\"we\"]], america3L.mean(axis=0)[[\"we\"]]])\n",
      "/tmp/ipykernel_4630/3282345843.py:9: FutureWarning: Dropping of nuisance columns in DataFrame reductions (with 'numeric_only=None') is deprecated; in a future version this will raise TypeError.  Select only valid columns before calling the reduction.\n",
      "  china_periods = pd.concat([china1L.mean(axis=0)[[\"we\"]], china2L.mean(\n",
      "/tmp/ipykernel_4630/3282345843.py:10: FutureWarning: Dropping of nuisance columns in DataFrame reductions (with 'numeric_only=None') is deprecated; in a future version this will raise TypeError.  Select only valid columns before calling the reduction.\n",
      "  axis=0)[[\"we\"]], china3L.mean(axis=0)[[\"we\"]]])\n"
     ]
    },
    {
     "data": {
      "image/png": "[encoded data removed]",
      "text/plain": [
       "<Figure size 432x288 with 1 Axes>"
      ]
     },
     "metadata": {
      "needs_background": "light"
     },
     "output_type": "display_data"
    }
   ],
   "source": [
    "america_periods = pd.concat([america1L.mean(axis=0)[[\"we\"]], america2L.mean(\n",
    "    axis=0)[[\"we\"]], america3L.mean(axis=0)[[\"we\"]]])\n",
    "america_periods = pd.DataFrame(america_periods)\n",
    "america_periods.rename(columns={0: \"value\"}, inplace=True)\n",
    "america_periods.reset_index(drop=True, inplace=True)\n",
    "america_periods.insert(0, 'country', 'America')\n",
    "america_periods.insert(1, 'period', ['1st period', '2nd period', '3rd period'])\n",
    "\n",
    "china_periods = pd.concat([china1L.mean(axis=0)[[\"we\"]], china2L.mean(\n",
    "    axis=0)[[\"we\"]], china3L.mean(axis=0)[[\"we\"]]])\n",
    "china_periods = pd.DataFrame(china_periods)\n",
    "china_periods.rename(columns={0: \"value\"}, inplace=True)\n",
    "china_periods.reset_index(drop=True, inplace=True)\n",
    "china_periods.insert(0, 'country', 'China')\n",
    "china_periods.insert(1, 'period', ['1st period', '2nd period', '3rd period'])\n",
    "\n",
    "total_periods = pd.concat([america_periods, china_periods])\n",
    "\n",
    "total_periods = sns.barplot(\n",
    "    data=total_periods, x='period', hue='country', y=\"value\")\n",
    "total_periods.set(xlabel=\"\", ylabel=\"\")\n",
    "total_periods.legend(title=\"\")\n",
    "plt.show()\n"
   ]
  },
  {
   "cell_type": "markdown",
   "metadata": {},
   "source": [
    "they"
   ]
  },
  {
   "cell_type": "code",
   "execution_count": 22,
   "metadata": {},
   "outputs": [
    {
     "name": "stderr",
     "output_type": "stream",
     "text": [
      "/tmp/ipykernel_4630/863561226.py:1: FutureWarning: Dropping of nuisance columns in DataFrame reductions (with 'numeric_only=None') is deprecated; in a future version this will raise TypeError.  Select only valid columns before calling the reduction.\n",
      "  america_periods = pd.concat([america1L.mean(axis=0)[[\"they\"]], america2L.mean(\n",
      "/tmp/ipykernel_4630/863561226.py:2: FutureWarning: Dropping of nuisance columns in DataFrame reductions (with 'numeric_only=None') is deprecated; in a future version this will raise TypeError.  Select only valid columns before calling the reduction.\n",
      "  axis=0)[[\"they\"]], america3L.mean(axis=0)[[\"they\"]]])\n",
      "/tmp/ipykernel_4630/863561226.py:9: FutureWarning: Dropping of nuisance columns in DataFrame reductions (with 'numeric_only=None') is deprecated; in a future version this will raise TypeError.  Select only valid columns before calling the reduction.\n",
      "  china_periods = pd.concat([china1L.mean(axis=0)[[\"they\"]], china2L.mean(\n",
      "/tmp/ipykernel_4630/863561226.py:10: FutureWarning: Dropping of nuisance columns in DataFrame reductions (with 'numeric_only=None') is deprecated; in a future version this will raise TypeError.  Select only valid columns before calling the reduction.\n",
      "  axis=0)[[\"they\"]], china3L.mean(axis=0)[[\"they\"]]])\n"
     ]
    },
    {
     "data": {
      "image/png": "[encoded data removed]",
      "text/plain": [
       "<Figure size 432x288 with 1 Axes>"
      ]
     },
     "metadata": {
      "needs_background": "light"
     },
     "output_type": "display_data"
    }
   ],
   "source": [
    "america_periods = pd.concat([america1L.mean(axis=0)[[\"they\"]], america2L.mean(\n",
    "    axis=0)[[\"they\"]], america3L.mean(axis=0)[[\"they\"]]])\n",
    "america_periods = pd.DataFrame(america_periods)\n",
    "america_periods.rename(columns={0: \"value\"}, inplace=True)\n",
    "america_periods.reset_index(drop=True, inplace=True)\n",
    "america_periods.insert(0, 'country', 'America')\n",
    "america_periods.insert(1, 'period', ['1st period', '2nd period', '3rd period'])\n",
    "\n",
    "china_periods = pd.concat([china1L.mean(axis=0)[[\"they\"]], china2L.mean(\n",
    "    axis=0)[[\"they\"]], china3L.mean(axis=0)[[\"they\"]]])\n",
    "china_periods = pd.DataFrame(china_periods)\n",
    "china_periods.rename(columns={0: \"value\"}, inplace=True)\n",
    "china_periods.reset_index(drop=True, inplace=True)\n",
    "china_periods.insert(0, 'country', 'China')\n",
    "china_periods.insert(1, 'period', ['1st period', '2nd period', '3rd period'])\n",
    "\n",
    "total_periods = pd.concat([america_periods, china_periods])\n",
    "\n",
    "total_periods = sns.barplot(\n",
    "    data=total_periods, x='period', hue='country', y=\"value\")\n",
    "total_periods.set(xlabel=\"\", ylabel=\"\")\n",
    "total_periods.legend(title=\"\")\n",
    "plt.show()\n"
   ]
  },
  {
   "cell_type": "markdown",
   "metadata": {},
   "source": [
    "focuspast "
   ]
  },
  {
   "cell_type": "code",
   "execution_count": 23,
   "metadata": {},
   "outputs": [
    {
     "name": "stderr",
     "output_type": "stream",
     "text": [
      "/tmp/ipykernel_4630/1482357278.py:1: FutureWarning: Dropping of nuisance columns in DataFrame reductions (with 'numeric_only=None') is deprecated; in a future version this will raise TypeError.  Select only valid columns before calling the reduction.\n",
      "  america_periods = pd.concat([america1L.mean(axis=0)[[\"focuspast\"]], america2L.mean(\n",
      "/tmp/ipykernel_4630/1482357278.py:2: FutureWarning: Dropping of nuisance columns in DataFrame reductions (with 'numeric_only=None') is deprecated; in a future version this will raise TypeError.  Select only valid columns before calling the reduction.\n",
      "  axis=0)[[\"focuspast\"]], america3L.mean(axis=0)[[\"focuspast\"]]])\n",
      "/tmp/ipykernel_4630/1482357278.py:9: FutureWarning: Dropping of nuisance columns in DataFrame reductions (with 'numeric_only=None') is deprecated; in a future version this will raise TypeError.  Select only valid columns before calling the reduction.\n",
      "  china_periods = pd.concat([china1L.mean(axis=0)[[\"focuspast\"]], china2L.mean(\n",
      "/tmp/ipykernel_4630/1482357278.py:10: FutureWarning: Dropping of nuisance columns in DataFrame reductions (with 'numeric_only=None') is deprecated; in a future version this will raise TypeError.  Select only valid columns before calling the reduction.\n",
      "  axis=0)[[\"focuspast\"]], china3L.mean(axis=0)[[\"focuspast\"]]])\n"
     ]
    },
    {
     "data": {
      "image/png": "[encoded data removed]",
      "text/plain": [
       "<Figure size 432x288 with 1 Axes>"
      ]
     },
     "metadata": {
      "needs_background": "light"
     },
     "output_type": "display_data"
    }
   ],
   "source": [
    "america_periods = pd.concat([america1L.mean(axis=0)[[\"focuspast\"]], america2L.mean(\n",
    "    axis=0)[[\"focuspast\"]], america3L.mean(axis=0)[[\"focuspast\"]]])\n",
    "america_periods = pd.DataFrame(america_periods)\n",
    "america_periods.rename(columns={0: \"value\"}, inplace=True)\n",
    "america_periods.reset_index(drop=True, inplace=True)\n",
    "america_periods.insert(0, 'country', 'America')\n",
    "america_periods.insert(1, 'period', ['1st period', '2nd period', '3rd period'])\n",
    "\n",
    "china_periods = pd.concat([china1L.mean(axis=0)[[\"focuspast\"]], china2L.mean(\n",
    "    axis=0)[[\"focuspast\"]], china3L.mean(axis=0)[[\"focuspast\"]]])\n",
    "china_periods = pd.DataFrame(china_periods)\n",
    "china_periods.rename(columns={0: \"value\"}, inplace=True)\n",
    "china_periods.reset_index(drop=True, inplace=True)\n",
    "china_periods.insert(0, 'country', 'China')\n",
    "china_periods.insert(1, 'period', ['1st period', '2nd period', '3rd period'])\n",
    "\n",
    "total_periods = pd.concat([america_periods, china_periods])\n",
    "\n",
    "total_periods = sns.barplot(\n",
    "    data=total_periods, x='period', hue='country', y=\"value\")\n",
    "total_periods.set(xlabel=\"\", ylabel=\"\")\n",
    "total_periods.legend(title=\"\")\n",
    "plt.show()\n"
   ]
  },
  {
   "cell_type": "markdown",
   "metadata": {},
   "source": [
    "focuspresent"
   ]
  },
  {
   "cell_type": "code",
   "execution_count": 24,
   "metadata": {},
   "outputs": [
    {
     "name": "stderr",
     "output_type": "stream",
     "text": [
      "/tmp/ipykernel_4630/3804908725.py:1: FutureWarning: Dropping of nuisance columns in DataFrame reductions (with 'numeric_only=None') is deprecated; in a future version this will raise TypeError.  Select only valid columns before calling the reduction.\n",
      "  america_periods = pd.concat([america1L.mean(axis=0)[[\"focuspresent\"]], america2L.mean(\n",
      "/tmp/ipykernel_4630/3804908725.py:2: FutureWarning: Dropping of nuisance columns in DataFrame reductions (with 'numeric_only=None') is deprecated; in a future version this will raise TypeError.  Select only valid columns before calling the reduction.\n",
      "  axis=0)[[\"focuspresent\"]], america3L.mean(axis=0)[[\"focuspresent\"]]])\n",
      "/tmp/ipykernel_4630/3804908725.py:9: FutureWarning: Dropping of nuisance columns in DataFrame reductions (with 'numeric_only=None') is deprecated; in a future version this will raise TypeError.  Select only valid columns before calling the reduction.\n",
      "  china_periods = pd.concat([china1L.mean(axis=0)[[\"focuspresent\"]], china2L.mean(\n",
      "/tmp/ipykernel_4630/3804908725.py:10: FutureWarning: Dropping of nuisance columns in DataFrame reductions (with 'numeric_only=None') is deprecated; in a future version this will raise TypeError.  Select only valid columns before calling the reduction.\n",
      "  axis=0)[[\"focuspresent\"]], china3L.mean(axis=0)[[\"focuspresent\"]]])\n"
     ]
    },
    {
     "data": {
      "image/png": "[encoded data removed]",
      "text/plain": [
       "<Figure size 432x288 with 1 Axes>"
      ]
     },
     "metadata": {
      "needs_background": "light"
     },
     "output_type": "display_data"
    }
   ],
   "source": [
    "america_periods = pd.concat([america1L.mean(axis=0)[[\"focuspresent\"]], america2L.mean(\n",
    "    axis=0)[[\"focuspresent\"]], america3L.mean(axis=0)[[\"focuspresent\"]]])\n",
    "america_periods = pd.DataFrame(america_periods)\n",
    "america_periods.rename(columns={0: \"value\"}, inplace=True)\n",
    "america_periods.reset_index(drop=True, inplace=True)\n",
    "america_periods.insert(0, 'country', 'America')\n",
    "america_periods.insert(1, 'period', ['1st period', '2nd period', '3rd period'])\n",
    "\n",
    "china_periods = pd.concat([china1L.mean(axis=0)[[\"focuspresent\"]], china2L.mean(\n",
    "    axis=0)[[\"focuspresent\"]], china3L.mean(axis=0)[[\"focuspresent\"]]])\n",
    "china_periods = pd.DataFrame(china_periods)\n",
    "china_periods.rename(columns={0: \"value\"}, inplace=True)\n",
    "china_periods.reset_index(drop=True, inplace=True)\n",
    "china_periods.insert(0, 'country', 'China')\n",
    "china_periods.insert(1, 'period', ['1st period', '2nd period', '3rd period'])\n",
    "\n",
    "total_periods = pd.concat([america_periods, china_periods])\n",
    "\n",
    "total_periods = sns.barplot(\n",
    "    data=total_periods, x='period', hue='country', y=\"value\")\n",
    "total_periods.set(xlabel=\"\", ylabel=\"\")\n",
    "total_periods.legend(title=\"\")\n",
    "plt.show()\n"
   ]
  },
  {
   "cell_type": "markdown",
   "metadata": {},
   "source": [
    "focusfuture"
   ]
  },
  {
   "cell_type": "code",
   "execution_count": 25,
   "metadata": {},
   "outputs": [
    {
     "name": "stderr",
     "output_type": "stream",
     "text": [
      "/tmp/ipykernel_4630/1411745742.py:1: FutureWarning: Dropping of nuisance columns in DataFrame reductions (with 'numeric_only=None') is deprecated; in a future version this will raise TypeError.  Select only valid columns before calling the reduction.\n",
      "  america_periods = pd.concat([america1L.mean(axis=0)[[\"focusfuture\"]], america2L.mean(\n",
      "/tmp/ipykernel_4630/1411745742.py:2: FutureWarning: Dropping of nuisance columns in DataFrame reductions (with 'numeric_only=None') is deprecated; in a future version this will raise TypeError.  Select only valid columns before calling the reduction.\n",
      "  axis=0)[[\"focusfuture\"]], america3L.mean(axis=0)[[\"focusfuture\"]]])\n",
      "/tmp/ipykernel_4630/1411745742.py:9: FutureWarning: Dropping of nuisance columns in DataFrame reductions (with 'numeric_only=None') is deprecated; in a future version this will raise TypeError.  Select only valid columns before calling the reduction.\n",
      "  china_periods = pd.concat([china1L.mean(axis=0)[[\"focusfuture\"]], china2L.mean(\n",
      "/tmp/ipykernel_4630/1411745742.py:10: FutureWarning: Dropping of nuisance columns in DataFrame reductions (with 'numeric_only=None') is deprecated; in a future version this will raise TypeError.  Select only valid columns before calling the reduction.\n",
      "  axis=0)[[\"focusfuture\"]], china3L.mean(axis=0)[[\"focusfuture\"]]])\n"
     ]
    },
    {
     "data": {
      "image/png": "[encoded data removed]",
      "text/plain": [
       "<Figure size 432x288 with 1 Axes>"
      ]
     },
     "metadata": {
      "needs_background": "light"
     },
     "output_type": "display_data"
    }
   ],
   "source": [
    "america_periods = pd.concat([america1L.mean(axis=0)[[\"focusfuture\"]], america2L.mean(\n",
    "    axis=0)[[\"focusfuture\"]], america3L.mean(axis=0)[[\"focusfuture\"]]])\n",
    "america_periods = pd.DataFrame(america_periods)\n",
    "america_periods.rename(columns={0: \"value\"}, inplace=True)\n",
    "america_periods.reset_index(drop=True, inplace=True)\n",
    "america_periods.insert(0, 'country', 'America')\n",
    "america_periods.insert(1, 'period', ['1st period', '2nd period', '3rd period'])\n",
    "\n",
    "china_periods = pd.concat([china1L.mean(axis=0)[[\"focusfuture\"]], china2L.mean(\n",
    "    axis=0)[[\"focusfuture\"]], china3L.mean(axis=0)[[\"focusfuture\"]]])\n",
    "china_periods = pd.DataFrame(china_periods)\n",
    "china_periods.rename(columns={0: \"value\"}, inplace=True)\n",
    "china_periods.reset_index(drop=True, inplace=True)\n",
    "china_periods.insert(0, 'country', 'China')\n",
    "china_periods.insert(1, 'period', ['1st period', '2nd period', '3rd period'])\n",
    "\n",
    "total_periods = pd.concat([america_periods, china_periods])\n",
    "\n",
    "total_periods = sns.barplot(\n",
    "    data=total_periods, x='period', hue='country', y=\"value\")\n",
    "total_periods.set(xlabel=\"\", ylabel=\"\")\n",
    "total_periods.legend(title=\"\")\n",
    "plt.show()\n"
   ]
  },
  {
   "cell_type": "markdown",
   "metadata": {},
   "source": [
    "#### Few thoughts\n",
    "Big difference on we:much bigger in america"
   ]
  },
  {
   "cell_type": "markdown",
   "metadata": {},
   "source": [
    "## Search correlation with linear regression"
   ]
  },
  {
   "cell_type": "code",
   "execution_count": 100,
   "metadata": {},
   "outputs": [],
   "source": [
    "china_tot_reg=chinaTL.copy()\n",
    "china_tot_reg.insert(loc=0,column=\"country\", value=\"China\")\n",
    "america_tot_reg=americaTL.copy()\n",
    "america_tot_reg.insert(loc=0, column=\"country\", value=\"America\")\n",
    "\n",
    "tot_reg=pd.concat([china_tot_reg, america_tot_reg])\n",
    "\n",
    "china_1_reg=china1L.copy()\n",
    "china_1_reg.insert(loc=0,column=\"country\", value=\"China\")\n",
    "china_1_reg.insert(loc=0,column=\"period\", value=\"1st period\")\n",
    "china_2_reg=china2L.copy()\n",
    "china_2_reg.insert(loc=0,column=\"country\", value=\"China\")\n",
    "china_2_reg.insert(loc=0,column=\"period\", value=\"2nd period\")\n",
    "china_3_reg=china3L.copy()\n",
    "china_3_reg.insert(loc=0,column=\"country\", value=\"China\")\n",
    "china_3_reg.insert(loc=0,column=\"period\", value=\"3rd period\")\n",
    "america_1_reg=america1L.copy()\n",
    "america_1_reg.insert(loc=0, column=\"country\", value=\"America\")\n",
    "america_1_reg.insert(loc=0,column=\"period\", value=\"1st period\")\n",
    "america_2_reg=america2L.copy()\n",
    "america_2_reg.insert(loc=0, column=\"country\", value=\"America\")\n",
    "america_2_reg.insert(loc=0,column=\"period\", value=\"2nd period\")\n",
    "america_3_reg=america3L.copy()\n",
    "america_3_reg.insert(loc=0, column=\"country\", value=\"America\")\n",
    "america_3_reg.insert(loc=0,column=\"period\", value=\"3rd period\")\n",
    "\n",
    "periods_reg=pd.concat([china_1_reg, america_1_reg, china_2_reg, america_2_reg, china_3_reg, america_3_reg])"
   ]
  },
  {
   "cell_type": "code",
   "execution_count": 99,
   "metadata": {},
   "outputs": [
    {
     "data": {
      "text/plain": [
       "<seaborn.axisgrid.FacetGrid at 0x7f0fbb122ac0>"
      ]
     },
     "execution_count": 99,
     "metadata": {},
     "output_type": "execute_result"
    },
    {
     "data": {
      "image/png": "[encoded data removed]",
      "text/plain": [
       "<Figure size 437.25x360 with 1 Axes>"
      ]
     },
     "metadata": {
      "needs_background": "light"
     },
     "output_type": "display_data"
    }
   ],
   "source": [
    "sns.lmplot(x=\"they\", y=\"negemo\", data=tot_reg, hue='country', scatter=False)"
   ]
  },
  {
   "cell_type": "code",
   "execution_count": 106,
   "metadata": {},
   "outputs": [
    {
     "data": {
      "text/plain": [
       "<seaborn.axisgrid.FacetGrid at 0x7f0fba15d8e0>"
      ]
     },
     "execution_count": 106,
     "metadata": {},
     "output_type": "execute_result"
    },
    {
     "data": {
      "image/png": "[encoded data removed]",
      "text/plain": [
       "<Figure size 1157.25x360 with 3 Axes>"
      ]
     },
     "metadata": {
      "needs_background": "light"
     },
     "output_type": "display_data"
    }
   ],
   "source": [
    "sns.lmplot(x=\"they\", y=\"negemo\", data=periods_reg, hue='country', col='period', scatter=False)"
   ]
  }
 ],
 "metadata": {
  "interpreter": {
   "hash": "b837477f779fd3ba2d0322b81b1029ddb351865459e937252cad76539e5747ee"
  },
  "kernelspec": {
   "display_name": "Python 3.8.12 64-bit ('base': conda)",
   "language": "python",
   "name": "python3"
  },
  "language_info": {
   "codemirror_mode": {
    "name": "ipython",
    "version": 3
   },
   "file_extension": ".py",
   "mimetype": "text/x-python",
   "name": "python",
   "nbconvert_exporter": "python",
   "pygments_lexer": "ipython3",
   "version": "3.8.12"
  },
  "orig_nbformat": 4
 },
 "nbformat": 4,
 "nbformat_minor": 2
}
