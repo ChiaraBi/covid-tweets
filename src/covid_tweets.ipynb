{
  "nbformat": 4,
  "nbformat_minor": 0,
  "metadata": {
    "colab": {
      "name": "covid-tweets.ipynb",
      "provenance": []
    },
    "kernelspec": {
      "name": "python3",
      "display_name": "Python 3"
    },
    "language_info": {
      "name": "python"
    }
  },
  "cells": [
    {
      "cell_type": "markdown",
      "metadata": {
        "id": "-CcFArp20gru"
      },
      "source": [
        "# Setup"
      ]
    },
    {
      "cell_type": "code",
      "metadata": {
        "id": "mhhMyEYd0PeM"
      },
      "source": [
        "import os\n",
        "os.environ['TOKEN'] = '#BEARER TOKEN HERE'\n",
        "env_label = '#ENVIROMENT LABEL HERE'"
      ],
      "execution_count": 1,
      "outputs": []
    },
    {
      "cell_type": "code",
      "metadata": {
        "id": "9FWD9TUL0Y-X"
      },
      "source": [
        "import requests \n",
        "import pandas as pd \n",
        "import time"
      ],
      "execution_count": 3,
      "outputs": []
    },
    {
      "cell_type": "code",
      "metadata": {
        "id": "OWLd433c0dOy"
      },
      "source": [
        "def create_headers(bearer_token):\n",
        "    headers = {\"Authorization\": \"Bearer {}\".format(bearer_token)}\n",
        "    return headers"
      ],
      "execution_count": 4,
      "outputs": []
    },
    {
      "cell_type": "code",
      "metadata": {
        "id": "AD3ooxsH0fxF"
      },
      "source": [
        "headers = create_headers(os.environ['TOKEN'])"
      ],
      "execution_count": 5,
      "outputs": []
    },
    {
      "cell_type": "markdown",
      "metadata": {
        "id": "-YYNcRQb0u2g"
      },
      "source": [
        "# Download data\n"
      ]
    },
    {
      "cell_type": "code",
      "metadata": {
        "id": "C9GAyMvS0y8C"
      },
      "source": [
        "def create_url(keyword, start_date, end_date, env_label, endpoint=\"30day\"):\n",
        "    # endpoint can be \"30day\" or \"fullarchive\"\n",
        "    \n",
        "    search_url = \"https://api.twitter.com/1.1/tweets/search/{}.json\".format(endpoint+\"/\"+env_label) \n",
        "    # change params based on the endpoint you are using\n",
        "    query_params = {'query': keyword, 'fromDate': start_date, 'toDate': end_date}\n",
        "    return (search_url, query_params)\n",
        "\n",
        "\n",
        "def connect_to_endpoint(url, headers, params, next_token = None):\n",
        "    if next_token is not None and next_token != '':\n",
        "      params['next'] = next_token\n",
        "    response = requests.request(\"GET\", url, headers = headers, params = params)\n",
        "    if response.status_code != 200:\n",
        "        raise Exception(response.status_code, response.text)\n",
        "    return response.json()\n",
        "\n",
        "\n",
        "def get_data(keyword, start_time, end_time, next_token, env_label, endpoint):\n",
        "  results = []\n",
        "  \n",
        "  while next_token is not None:\n",
        "    ##this part here for one request\n",
        "    url = create_url(keyword, start_time,end_time, env_label, endpoint)\n",
        "    json_response = connect_to_endpoint(url[0], headers, url[1], next_token)\n",
        "    \n",
        "    if \"results\" in json_response:\n",
        "      results.extend(json_response[\"results\"])\n",
        "    ### up until this point\n",
        "    if \"next\" in json_response:\n",
        "        next_token = json_response[\"next\"]\n",
        "    else:\n",
        "      next_token = None\n",
        "    time.sleep(2)\n",
        "  \n",
        "  return results\n",
        "\n",
        "\n",
        "def get_single_response(keyword, start_time, end_time, env_label, endpoint):\n",
        "  # endpoint can be fullarchive or 30day\n",
        "  results = []\n",
        "  url = create_url(keyword, start_time,end_time, env_label, endpoint)\n",
        "  json_response = connect_to_endpoint(url[0], headers, url[1])\n",
        "  \n",
        "  if \"results\" in json_response:\n",
        "    results.extend(json_response[\"results\"])\n",
        "  \n",
        "  return results"
      ],
      "execution_count": 65,
      "outputs": []
    },
    {
      "cell_type": "code",
      "metadata": {
        "id": "V83ZHOuq1AwD"
      },
      "source": [
        "# Request parameters\n",
        "\n",
        "# if you are using the 30day endpoint, make sure you specify dates that are within 30day range!\n",
        "start_date = None # \"202110270000\"\n",
        "end_date = None # \"202111250000\"\n",
        "\n",
        "endpoint = \"30day\"\n",
        "\n",
        "# keyword = \"from:BBCWorld covid lang:en\"\n",
        "# keyword = \"from:CNN covid lang:en\"\n",
        "# keyword = \"from:AP covid lang:en\"\n",
        "# keyword = \"from:Reuters covid lang:en\"\n",
        "# keyword = \"from:XHNews covid lang:en\"\n",
        "keyword = \"from:CGTNOfficial covid lang:en\"\n",
        "\n",
        "# result_type=popular\n",
        "# is:verified"
      ],
      "execution_count": 91,
      "outputs": []
    },
    {
      "cell_type": "code",
      "metadata": {
        "id": "9Aoh6LaE4Oav"
      },
      "source": [
        "# IMPORTANT: run this cell only if you really need it\n",
        "tweets = get_single_response(keyword, start_date, end_date, env_label, endpoint)"
      ],
      "execution_count": 85,
      "outputs": []
    },
    {
      "cell_type": "code",
      "metadata": {
        "id": "u8qv2CZO3agu"
      },
      "source": [
        "all_tweets = get_data(keyword, start_date, end_date, '', env_label, endpoint)"
      ],
      "execution_count": 92,
      "outputs": []
    },
    {
      "cell_type": "code",
      "metadata": {
        "id": "5QvpqOk-AdIi"
      },
      "source": [
        "all_tweets_df = pd.DataFrame(all_tweets)"
      ],
      "execution_count": 93,
      "outputs": []
    },
    {
      "cell_type": "code",
      "metadata": {
        "colab": {
          "base_uri": "https://localhost:8080/",
          "height": 615
        },
        "id": "FY9EUPnlAhqZ",
        "outputId": "ea3abbad-033f-40a4-b161-53a763e7d8a2"
      },
      "source": [
        "all_tweets_df.head()"
      ],
      "execution_count": 94,
      "outputs": [
        {
          "output_type": "execute_result",
          "data": {
            "text/html": [
              "<div>\n",
              "<style scoped>\n",
              "    .dataframe tbody tr th:only-of-type {\n",
              "        vertical-align: middle;\n",
              "    }\n",
              "\n",
              "    .dataframe tbody tr th {\n",
              "        vertical-align: top;\n",
              "    }\n",
              "\n",
              "    .dataframe thead th {\n",
              "        text-align: right;\n",
              "    }\n",
              "</style>\n",
              "<table border=\"1\" class=\"dataframe\">\n",
              "  <thead>\n",
              "    <tr style=\"text-align: right;\">\n",
              "      <th></th>\n",
              "      <th>created_at</th>\n",
              "      <th>id</th>\n",
              "      <th>id_str</th>\n",
              "      <th>text</th>\n",
              "      <th>display_text_range</th>\n",
              "      <th>source</th>\n",
              "      <th>truncated</th>\n",
              "      <th>in_reply_to_status_id</th>\n",
              "      <th>in_reply_to_status_id_str</th>\n",
              "      <th>in_reply_to_user_id</th>\n",
              "      <th>in_reply_to_user_id_str</th>\n",
              "      <th>in_reply_to_screen_name</th>\n",
              "      <th>user</th>\n",
              "      <th>geo</th>\n",
              "      <th>coordinates</th>\n",
              "      <th>place</th>\n",
              "      <th>contributors</th>\n",
              "      <th>is_quote_status</th>\n",
              "      <th>extended_tweet</th>\n",
              "      <th>quote_count</th>\n",
              "      <th>reply_count</th>\n",
              "      <th>retweet_count</th>\n",
              "      <th>favorite_count</th>\n",
              "      <th>entities</th>\n",
              "      <th>favorited</th>\n",
              "      <th>retweeted</th>\n",
              "      <th>possibly_sensitive</th>\n",
              "      <th>filter_level</th>\n",
              "      <th>lang</th>\n",
              "      <th>matching_rules</th>\n",
              "      <th>quoted_status_id</th>\n",
              "      <th>quoted_status_id_str</th>\n",
              "      <th>quoted_status</th>\n",
              "      <th>quoted_status_permalink</th>\n",
              "      <th>extended_entities</th>\n",
              "      <th>retweeted_status</th>\n",
              "    </tr>\n",
              "  </thead>\n",
              "  <tbody>\n",
              "    <tr>\n",
              "      <th>0</th>\n",
              "      <td>Mon Nov 29 07:40:00 +0000 2021</td>\n",
              "      <td>1465224005963722753</td>\n",
              "      <td>1465224005963722753</td>\n",
              "      <td>The newly discovered COVID-19 variant #Omicron...</td>\n",
              "      <td>[0, 140]</td>\n",
              "      <td>&lt;a href=\"https://mobile.twitter.com\" rel=\"nofo...</td>\n",
              "      <td>True</td>\n",
              "      <td>NaN</td>\n",
              "      <td>None</td>\n",
              "      <td>NaN</td>\n",
              "      <td>None</td>\n",
              "      <td>None</td>\n",
              "      <td>{'id': 1115874631, 'id_str': '1115874631', 'na...</td>\n",
              "      <td>None</td>\n",
              "      <td>None</td>\n",
              "      <td>None</td>\n",
              "      <td>None</td>\n",
              "      <td>False</td>\n",
              "      <td>{'full_text': 'The newly discovered COVID-19 v...</td>\n",
              "      <td>0</td>\n",
              "      <td>1</td>\n",
              "      <td>3</td>\n",
              "      <td>16</td>\n",
              "      <td>{'hashtags': [{'text': 'Omicron', 'indices': [...</td>\n",
              "      <td>False</td>\n",
              "      <td>False</td>\n",
              "      <td>False</td>\n",
              "      <td>low</td>\n",
              "      <td>en</td>\n",
              "      <td>[{'tag': None}]</td>\n",
              "      <td>NaN</td>\n",
              "      <td>NaN</td>\n",
              "      <td>NaN</td>\n",
              "      <td>NaN</td>\n",
              "      <td>NaN</td>\n",
              "      <td>NaN</td>\n",
              "    </tr>\n",
              "    <tr>\n",
              "      <th>1</th>\n",
              "      <td>Mon Nov 29 02:40:00 +0000 2021</td>\n",
              "      <td>1465148508550287363</td>\n",
              "      <td>1465148508550287363</td>\n",
              "      <td>The Chinese mainland recorded 41 confirmed COV...</td>\n",
              "      <td>NaN</td>\n",
              "      <td>&lt;a href=\"https://mobile.twitter.com\" rel=\"nofo...</td>\n",
              "      <td>True</td>\n",
              "      <td>NaN</td>\n",
              "      <td>None</td>\n",
              "      <td>NaN</td>\n",
              "      <td>None</td>\n",
              "      <td>None</td>\n",
              "      <td>{'id': 1115874631, 'id_str': '1115874631', 'na...</td>\n",
              "      <td>None</td>\n",
              "      <td>None</td>\n",
              "      <td>None</td>\n",
              "      <td>None</td>\n",
              "      <td>False</td>\n",
              "      <td>{'full_text': 'The Chinese mainland recorded 4...</td>\n",
              "      <td>0</td>\n",
              "      <td>0</td>\n",
              "      <td>11</td>\n",
              "      <td>17</td>\n",
              "      <td>{'hashtags': [], 'urls': [{'url': 'https://t.c...</td>\n",
              "      <td>False</td>\n",
              "      <td>False</td>\n",
              "      <td>False</td>\n",
              "      <td>low</td>\n",
              "      <td>en</td>\n",
              "      <td>[{'tag': None}]</td>\n",
              "      <td>NaN</td>\n",
              "      <td>NaN</td>\n",
              "      <td>NaN</td>\n",
              "      <td>NaN</td>\n",
              "      <td>NaN</td>\n",
              "      <td>NaN</td>\n",
              "    </tr>\n",
              "    <tr>\n",
              "      <th>2</th>\n",
              "      <td>Mon Nov 29 02:00:01 +0000 2021</td>\n",
              "      <td>1465138447321124869</td>\n",
              "      <td>1465138447321124869</td>\n",
              "      <td>It is not yet clear if the #Omicron variant is...</td>\n",
              "      <td>[0, 140]</td>\n",
              "      <td>&lt;a href=\"https://mobile.twitter.com\" rel=\"nofo...</td>\n",
              "      <td>True</td>\n",
              "      <td>NaN</td>\n",
              "      <td>None</td>\n",
              "      <td>NaN</td>\n",
              "      <td>None</td>\n",
              "      <td>None</td>\n",
              "      <td>{'id': 1115874631, 'id_str': '1115874631', 'na...</td>\n",
              "      <td>None</td>\n",
              "      <td>None</td>\n",
              "      <td>None</td>\n",
              "      <td>None</td>\n",
              "      <td>False</td>\n",
              "      <td>{'full_text': 'It is not yet clear if the #Omi...</td>\n",
              "      <td>0</td>\n",
              "      <td>0</td>\n",
              "      <td>5</td>\n",
              "      <td>13</td>\n",
              "      <td>{'hashtags': [{'text': 'Omicron', 'indices': [...</td>\n",
              "      <td>False</td>\n",
              "      <td>False</td>\n",
              "      <td>False</td>\n",
              "      <td>low</td>\n",
              "      <td>en</td>\n",
              "      <td>[{'tag': None}]</td>\n",
              "      <td>NaN</td>\n",
              "      <td>NaN</td>\n",
              "      <td>NaN</td>\n",
              "      <td>NaN</td>\n",
              "      <td>NaN</td>\n",
              "      <td>NaN</td>\n",
              "    </tr>\n",
              "    <tr>\n",
              "      <th>3</th>\n",
              "      <td>Mon Nov 29 00:03:31 +0000 2021</td>\n",
              "      <td>1465109127277924356</td>\n",
              "      <td>1465109127277924356</td>\n",
              "      <td>COVID-19: S. African president warns of fourth...</td>\n",
              "      <td>NaN</td>\n",
              "      <td>&lt;a href=\"https://mobile.twitter.com\" rel=\"nofo...</td>\n",
              "      <td>False</td>\n",
              "      <td>NaN</td>\n",
              "      <td>None</td>\n",
              "      <td>NaN</td>\n",
              "      <td>None</td>\n",
              "      <td>None</td>\n",
              "      <td>{'id': 1115874631, 'id_str': '1115874631', 'na...</td>\n",
              "      <td>None</td>\n",
              "      <td>None</td>\n",
              "      <td>None</td>\n",
              "      <td>None</td>\n",
              "      <td>False</td>\n",
              "      <td>NaN</td>\n",
              "      <td>2</td>\n",
              "      <td>1</td>\n",
              "      <td>7</td>\n",
              "      <td>25</td>\n",
              "      <td>{'hashtags': [], 'urls': [{'url': 'https://t.c...</td>\n",
              "      <td>False</td>\n",
              "      <td>False</td>\n",
              "      <td>False</td>\n",
              "      <td>low</td>\n",
              "      <td>en</td>\n",
              "      <td>[{'tag': None}]</td>\n",
              "      <td>NaN</td>\n",
              "      <td>NaN</td>\n",
              "      <td>NaN</td>\n",
              "      <td>NaN</td>\n",
              "      <td>NaN</td>\n",
              "      <td>NaN</td>\n",
              "    </tr>\n",
              "    <tr>\n",
              "      <th>4</th>\n",
              "      <td>Sun Nov 28 21:31:09 +0000 2021</td>\n",
              "      <td>1465070786331488260</td>\n",
              "      <td>1465070786331488260</td>\n",
              "      <td>The COVID-19 #Omicron variant is sparking glob...</td>\n",
              "      <td>[0, 140]</td>\n",
              "      <td>&lt;a href=\"https://about.twitter.com/products/tw...</td>\n",
              "      <td>True</td>\n",
              "      <td>NaN</td>\n",
              "      <td>None</td>\n",
              "      <td>NaN</td>\n",
              "      <td>None</td>\n",
              "      <td>None</td>\n",
              "      <td>{'id': 1115874631, 'id_str': '1115874631', 'na...</td>\n",
              "      <td>None</td>\n",
              "      <td>None</td>\n",
              "      <td>None</td>\n",
              "      <td>None</td>\n",
              "      <td>True</td>\n",
              "      <td>{'full_text': 'The COVID-19 #Omicron variant i...</td>\n",
              "      <td>0</td>\n",
              "      <td>2</td>\n",
              "      <td>6</td>\n",
              "      <td>3</td>\n",
              "      <td>{'hashtags': [{'text': 'Omicron', 'indices': [...</td>\n",
              "      <td>False</td>\n",
              "      <td>False</td>\n",
              "      <td>False</td>\n",
              "      <td>low</td>\n",
              "      <td>en</td>\n",
              "      <td>[{'tag': None}]</td>\n",
              "      <td>1.465070e+18</td>\n",
              "      <td>1465070494319788042</td>\n",
              "      <td>{'created_at': 'Sun Nov 28 21:30:00 +0000 2021...</td>\n",
              "      <td>{'url': 'https://t.co/s9p1WnWVMQ', 'expanded':...</td>\n",
              "      <td>NaN</td>\n",
              "      <td>NaN</td>\n",
              "    </tr>\n",
              "  </tbody>\n",
              "</table>\n",
              "</div>"
            ],
            "text/plain": [
              "                       created_at  ...  retweeted_status\n",
              "0  Mon Nov 29 07:40:00 +0000 2021  ...               NaN\n",
              "1  Mon Nov 29 02:40:00 +0000 2021  ...               NaN\n",
              "2  Mon Nov 29 02:00:01 +0000 2021  ...               NaN\n",
              "3  Mon Nov 29 00:03:31 +0000 2021  ...               NaN\n",
              "4  Sun Nov 28 21:31:09 +0000 2021  ...               NaN\n",
              "\n",
              "[5 rows x 36 columns]"
            ]
          },
          "metadata": {},
          "execution_count": 94
        }
      ]
    },
    {
      "cell_type": "code",
      "metadata": {
        "id": "raVtCkInEHtp"
      },
      "source": [
        "all_tweets_df.to_csv(\"CGTNOfficial_all_tweets_df.csv\", index=False)"
      ],
      "execution_count": 95,
      "outputs": []
    },
    {
      "cell_type": "markdown",
      "metadata": {
        "id": "NxkgMWNt-_OT"
      },
      "source": [
        "## Get Tweets from a specific user\n",
        "\n",
        "API Reference: https://developer.twitter.com/en/docs/twitter-api/v1/tweets/timelines/api-reference/get-statuses-user_timeline\n",
        "\n",
        "BBC Twitter accounts: `BBCWorld`, `BBC`, `BBCPolitics`, `BBCBreaking`, `BBCNews` (UK), `BBCNewsAsia`, `BBCNewsNorthAmerica`\n"
      ]
    },
    {
      "cell_type": "code",
      "metadata": {
        "id": "X3pE8TowB0Zg"
      },
      "source": [
        "endpoint = \"30day\""
      ],
      "execution_count": 33,
      "outputs": []
    },
    {
      "cell_type": "code",
      "metadata": {
        "id": "2HQFIX639S_R"
      },
      "source": [
        "def create_user_url(screen_name, env_label, endpoint=\"30day\"):\n",
        "  user_url = \"https://api.twitter.com/1.1/statuses/user_timeline.json\" \n",
        "  # change params based on the endpoint you are using\n",
        "  query_params = {'screen_name': screen_name}\n",
        "  return (user_url, query_params)\n",
        "\n",
        "def get_single_user_response(screen_name, env_label, endpoint):\n",
        "  # endpoint can be fullarchive or 30day\n",
        "  results = []\n",
        "  url = create_user_url(screen_name, env_label, endpoint)\n",
        "  json_response = connect_to_endpoint(url[0], headers, url[1])\n",
        "  \n",
        "  if \"results\" in json_response:\n",
        "    results.extend(json_response[\"results\"])\n",
        "  \n",
        "  return results\n"
      ],
      "execution_count": 8,
      "outputs": []
    },
    {
      "cell_type": "code",
      "metadata": {
        "id": "jX_1O9wgB49o"
      },
      "source": [
        "# Request parameters\n",
        "screen_name = \"BBC\""
      ],
      "execution_count": null,
      "outputs": []
    },
    {
      "cell_type": "code",
      "metadata": {
        "id": "wXwQEuaK_Uxc"
      },
      "source": [
        "# IMPORTANT: run this cell only if you really need it\n",
        "BBC_tweets = get_single_user_response(screen_name, env_label, endpoint)"
      ],
      "execution_count": 62,
      "outputs": []
    },
    {
      "cell_type": "code",
      "metadata": {
        "colab": {
          "base_uri": "https://localhost:8080/"
        },
        "id": "0cSbhQUFCNBB",
        "outputId": "42332613-91d9-4389-d079-0f09073094b1"
      },
      "source": [
        "len(BBC_tweets)"
      ],
      "execution_count": 63,
      "outputs": [
        {
          "output_type": "execute_result",
          "data": {
            "text/plain": [
              "0"
            ]
          },
          "metadata": {},
          "execution_count": 63
        }
      ]
    }
  ]
}