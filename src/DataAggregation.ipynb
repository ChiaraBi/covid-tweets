{
  "nbformat": 4,
  "nbformat_minor": 0,
  "metadata": {
    "colab": {
      "name": "DataAggregation.ipynb",
      "provenance": []
    },
    "kernelspec": {
      "name": "python3",
      "display_name": "Python 3"
    },
    "language_info": {
      "name": "python"
    }
  },
  "cells": [
    {
      "cell_type": "code",
      "execution_count": 114,
      "metadata": {
        "colab": {
          "base_uri": "https://localhost:8080/"
        },
        "id": "gerdfCjND8sE",
        "outputId": "33817193-a006-4550-ea86-c05b82f4b38d"
      },
      "outputs": [
        {
          "output_type": "stream",
          "name": "stdout",
          "text": [
            "[nltk_data] Downloading package stopwords to /root/nltk_data...\n",
            "[nltk_data]   Package stopwords is already up-to-date!\n"
          ]
        },
        {
          "output_type": "execute_result",
          "data": {
            "text/plain": [
              "True"
            ]
          },
          "metadata": {},
          "execution_count": 114
        }
      ],
      "source": [
        "import os\n",
        "import requests \n",
        "import time\n",
        "import string\n",
        "import networkx as nx\n",
        "import itertools\n",
        "import networkx as nx\n",
        "import pandas as pd\n",
        "import json\n",
        "import re\n",
        "import math\n",
        "import numpy as np\n",
        "import matplotlib.pyplot as plt\n",
        "from sklearn.feature_extraction.text import TfidfVectorizer\n",
        "import nltk\n",
        "from nltk.corpus import stopwords\n",
        "from google.colab import files\n",
        "\n",
        "nltk.download('stopwords')"
      ]
    },
    {
      "cell_type": "markdown",
      "source": [
        "OUTSIDE CHINA:\n",
        "  * AJEnglish\n",
        "  * AP\n",
        "  * BBCWorld\n",
        "  * CNN\n",
        "  * Reuters\n",
        "\n",
        "INSIDE CHINA:\n",
        "  * CGTNOfficial\n",
        "  * XHNews"
      ],
      "metadata": {
        "id": "pws2bYCUo7aF"
      }
    },
    {
      "cell_type": "markdown",
      "source": [
        "# JanFeb2020"
      ],
      "metadata": {
        "id": "hv9IJ7TBzAvA"
      }
    },
    {
      "cell_type": "markdown",
      "source": [
        "## USA: JanFeb2020"
      ],
      "metadata": {
        "id": "-iimLMccnG3e"
      }
    },
    {
      "cell_type": "code",
      "source": [
        "period = \"JanFeb2020\"\n",
        "country = \"USA\"\n",
        "\n",
        "USA_202001_202002 = AJ_202001_202002.append(AP_202001_202002, ignore_index=True)\n",
        "USA_202001_202002 = USA_202001_202002.append(BBC_202001_202002, ignore_index=True)\n",
        "USA_202001_202002 = USA_202001_202002.append(CNN_202001_202002, ignore_index=True)\n",
        "USA_202001_202002 = USA_202001_202002.append(R_202001_202002, ignore_index=True)\n",
        "\n",
        "label = country+\"_\"+period\n",
        "USA_202001_202002.to_csv(label+\".csv\", index=False)\n",
        "files.download(label+\".csv\")"
      ],
      "metadata": {
        "id": "YgpEJjmKqbGX",
        "outputId": "dbdeca52-2b8d-40e0-ffa4-5ff3e917bc53",
        "colab": {
          "base_uri": "https://localhost:8080/",
          "height": 0
        }
      },
      "execution_count": 175,
      "outputs": [
        {
          "output_type": "display_data",
          "data": {
            "application/javascript": [
              "\n",
              "    async function download(id, filename, size) {\n",
              "      if (!google.colab.kernel.accessAllowed) {\n",
              "        return;\n",
              "      }\n",
              "      const div = document.createElement('div');\n",
              "      const label = document.createElement('label');\n",
              "      label.textContent = `Downloading \"${filename}\": `;\n",
              "      div.appendChild(label);\n",
              "      const progress = document.createElement('progress');\n",
              "      progress.max = size;\n",
              "      div.appendChild(progress);\n",
              "      document.body.appendChild(div);\n",
              "\n",
              "      const buffers = [];\n",
              "      let downloaded = 0;\n",
              "\n",
              "      const channel = await google.colab.kernel.comms.open(id);\n",
              "      // Send a message to notify the kernel that we're ready.\n",
              "      channel.send({})\n",
              "\n",
              "      for await (const message of channel.messages) {\n",
              "        // Send a message to notify the kernel that we're ready.\n",
              "        channel.send({})\n",
              "        if (message.buffers) {\n",
              "          for (const buffer of message.buffers) {\n",
              "            buffers.push(buffer);\n",
              "            downloaded += buffer.byteLength;\n",
              "            progress.value = downloaded;\n",
              "          }\n",
              "        }\n",
              "      }\n",
              "      const blob = new Blob(buffers, {type: 'application/binary'});\n",
              "      const a = document.createElement('a');\n",
              "      a.href = window.URL.createObjectURL(blob);\n",
              "      a.download = filename;\n",
              "      div.appendChild(a);\n",
              "      a.click();\n",
              "      div.remove();\n",
              "    }\n",
              "  "
            ],
            "text/plain": [
              "<IPython.core.display.Javascript object>"
            ]
          },
          "metadata": {}
        },
        {
          "output_type": "display_data",
          "data": {
            "application/javascript": [
              "download(\"download_a10cf07e-6aad-47d4-ac26-eb379b5a959e\", \"USA_JanFeb2020.csv\", 27016854)"
            ],
            "text/plain": [
              "<IPython.core.display.Javascript object>"
            ]
          },
          "metadata": {}
        }
      ]
    },
    {
      "cell_type": "markdown",
      "source": [
        "## China: JanFeb2020"
      ],
      "metadata": {
        "id": "bgQC2SWSnank"
      }
    },
    {
      "cell_type": "code",
      "source": [
        "period = \"JanFeb2020\"\n",
        "country = \"China\"\n",
        "\n",
        "China_202001_202002 = CGTN_202001_202002.append(XHN_202001_202002, ignore_index=True)\n",
        "\n",
        "label = country+\"_\"+period\n",
        "China_202001_202002.to_csv(label+\".csv\", index=False)\n",
        "files.download(label+\".csv\")"
      ],
      "metadata": {
        "id": "W8F4bcamrruV",
        "outputId": "3f42a35c-d90e-49bf-af41-bfe7b38eb6c0",
        "colab": {
          "base_uri": "https://localhost:8080/",
          "height": 0
        }
      },
      "execution_count": 176,
      "outputs": [
        {
          "output_type": "display_data",
          "data": {
            "application/javascript": [
              "\n",
              "    async function download(id, filename, size) {\n",
              "      if (!google.colab.kernel.accessAllowed) {\n",
              "        return;\n",
              "      }\n",
              "      const div = document.createElement('div');\n",
              "      const label = document.createElement('label');\n",
              "      label.textContent = `Downloading \"${filename}\": `;\n",
              "      div.appendChild(label);\n",
              "      const progress = document.createElement('progress');\n",
              "      progress.max = size;\n",
              "      div.appendChild(progress);\n",
              "      document.body.appendChild(div);\n",
              "\n",
              "      const buffers = [];\n",
              "      let downloaded = 0;\n",
              "\n",
              "      const channel = await google.colab.kernel.comms.open(id);\n",
              "      // Send a message to notify the kernel that we're ready.\n",
              "      channel.send({})\n",
              "\n",
              "      for await (const message of channel.messages) {\n",
              "        // Send a message to notify the kernel that we're ready.\n",
              "        channel.send({})\n",
              "        if (message.buffers) {\n",
              "          for (const buffer of message.buffers) {\n",
              "            buffers.push(buffer);\n",
              "            downloaded += buffer.byteLength;\n",
              "            progress.value = downloaded;\n",
              "          }\n",
              "        }\n",
              "      }\n",
              "      const blob = new Blob(buffers, {type: 'application/binary'});\n",
              "      const a = document.createElement('a');\n",
              "      a.href = window.URL.createObjectURL(blob);\n",
              "      a.download = filename;\n",
              "      div.appendChild(a);\n",
              "      a.click();\n",
              "      div.remove();\n",
              "    }\n",
              "  "
            ],
            "text/plain": [
              "<IPython.core.display.Javascript object>"
            ]
          },
          "metadata": {}
        },
        {
          "output_type": "display_data",
          "data": {
            "application/javascript": [
              "download(\"download_c02d8e0b-12f8-48c3-8d95-345f587ec1bd\", \"China_JanFeb2020.csv\", 23833235)"
            ],
            "text/plain": [
              "<IPython.core.display.Javascript object>"
            ]
          },
          "metadata": {}
        }
      ]
    },
    {
      "cell_type": "markdown",
      "source": [
        "## China and USA: JanFeb2020"
      ],
      "metadata": {
        "id": "e-zvrfPLnuor"
      }
    },
    {
      "cell_type": "code",
      "source": [
        "period = \"JanFeb2020\"\n",
        "country = \"China&USA\"\n",
        "\n",
        "ChinaUSA_202001_202002 = China_202001_202002.append(USA_202001_202002, ignore_index=True)\n",
        "\n",
        "label = country+\"_\"+period\n",
        "ChinaUSA_202001_202002.to_csv(label+\".csv\", index=False)\n",
        "files.download(label+\".csv\")"
      ],
      "metadata": {
        "colab": {
          "base_uri": "https://localhost:8080/",
          "height": 0
        },
        "id": "l15mGiWiwlNk",
        "outputId": "387b5e61-c214-41c1-d9a8-ec121ccf2f1c"
      },
      "execution_count": 177,
      "outputs": [
        {
          "output_type": "display_data",
          "data": {
            "application/javascript": [
              "\n",
              "    async function download(id, filename, size) {\n",
              "      if (!google.colab.kernel.accessAllowed) {\n",
              "        return;\n",
              "      }\n",
              "      const div = document.createElement('div');\n",
              "      const label = document.createElement('label');\n",
              "      label.textContent = `Downloading \"${filename}\": `;\n",
              "      div.appendChild(label);\n",
              "      const progress = document.createElement('progress');\n",
              "      progress.max = size;\n",
              "      div.appendChild(progress);\n",
              "      document.body.appendChild(div);\n",
              "\n",
              "      const buffers = [];\n",
              "      let downloaded = 0;\n",
              "\n",
              "      const channel = await google.colab.kernel.comms.open(id);\n",
              "      // Send a message to notify the kernel that we're ready.\n",
              "      channel.send({})\n",
              "\n",
              "      for await (const message of channel.messages) {\n",
              "        // Send a message to notify the kernel that we're ready.\n",
              "        channel.send({})\n",
              "        if (message.buffers) {\n",
              "          for (const buffer of message.buffers) {\n",
              "            buffers.push(buffer);\n",
              "            downloaded += buffer.byteLength;\n",
              "            progress.value = downloaded;\n",
              "          }\n",
              "        }\n",
              "      }\n",
              "      const blob = new Blob(buffers, {type: 'application/binary'});\n",
              "      const a = document.createElement('a');\n",
              "      a.href = window.URL.createObjectURL(blob);\n",
              "      a.download = filename;\n",
              "      div.appendChild(a);\n",
              "      a.click();\n",
              "      div.remove();\n",
              "    }\n",
              "  "
            ],
            "text/plain": [
              "<IPython.core.display.Javascript object>"
            ]
          },
          "metadata": {}
        },
        {
          "output_type": "display_data",
          "data": {
            "application/javascript": [
              "download(\"download_4e147da0-2fe8-4af5-8ac6-3f25d13e2be8\", \"China&USA_JanFeb2020.csv\", 50849595)"
            ],
            "text/plain": [
              "<IPython.core.display.Javascript object>"
            ]
          },
          "metadata": {}
        }
      ]
    },
    {
      "cell_type": "markdown",
      "source": [
        "## Accounts: JanFeb2020"
      ],
      "metadata": {
        "id": "vjdySAeWJJmb"
      }
    },
    {
      "cell_type": "code",
      "source": [
        "period = \"JanFeb2020\""
      ],
      "metadata": {
        "id": "ik-1zi60bUgP"
      },
      "execution_count": 142,
      "outputs": []
    },
    {
      "cell_type": "code",
      "source": [
        "account = \"AJ\"\n",
        "\n",
        "AJ_202001_202002=pd.read_csv('/content/AJEnglish_china_202001220000_202002220000.csv')\n",
        "AJ_202001_202002 = AJ_202001_202002.append(pd.read_csv('/content/AJEnglish_coronavirus_202001220000_202002220000.csv'),\n",
        "                                           ignore_index=True)\n",
        "AJ_202001_202002 = AJ_202001_202002.append(pd.read_csv('/content/AJEnglish_covid_202001220000_202002220000.csv'),\n",
        "                                           ignore_index=True)\n",
        "AJ_202001_202002 = AJ_202001_202002.append(pd.read_csv('/content/AJEnglish_wuhan_202001220000_202002220000.csv'),\n",
        "                                           ignore_index=True)\n",
        "\n",
        "label = account+\"_\"+period\n",
        "AJ_202001_202002.to_csv(label+\".csv\", index=False)\n",
        "files.download(label+\".csv\")"
      ],
      "metadata": {
        "colab": {
          "base_uri": "https://localhost:8080/",
          "height": 0
        },
        "id": "X-anv-6PGf9L",
        "outputId": "d5659a1e-2c14-47ba-e899-a10512e47f28"
      },
      "execution_count": 143,
      "outputs": [
        {
          "output_type": "display_data",
          "data": {
            "application/javascript": [
              "\n",
              "    async function download(id, filename, size) {\n",
              "      if (!google.colab.kernel.accessAllowed) {\n",
              "        return;\n",
              "      }\n",
              "      const div = document.createElement('div');\n",
              "      const label = document.createElement('label');\n",
              "      label.textContent = `Downloading \"${filename}\": `;\n",
              "      div.appendChild(label);\n",
              "      const progress = document.createElement('progress');\n",
              "      progress.max = size;\n",
              "      div.appendChild(progress);\n",
              "      document.body.appendChild(div);\n",
              "\n",
              "      const buffers = [];\n",
              "      let downloaded = 0;\n",
              "\n",
              "      const channel = await google.colab.kernel.comms.open(id);\n",
              "      // Send a message to notify the kernel that we're ready.\n",
              "      channel.send({})\n",
              "\n",
              "      for await (const message of channel.messages) {\n",
              "        // Send a message to notify the kernel that we're ready.\n",
              "        channel.send({})\n",
              "        if (message.buffers) {\n",
              "          for (const buffer of message.buffers) {\n",
              "            buffers.push(buffer);\n",
              "            downloaded += buffer.byteLength;\n",
              "            progress.value = downloaded;\n",
              "          }\n",
              "        }\n",
              "      }\n",
              "      const blob = new Blob(buffers, {type: 'application/binary'});\n",
              "      const a = document.createElement('a');\n",
              "      a.href = window.URL.createObjectURL(blob);\n",
              "      a.download = filename;\n",
              "      div.appendChild(a);\n",
              "      a.click();\n",
              "      div.remove();\n",
              "    }\n",
              "  "
            ],
            "text/plain": [
              "<IPython.core.display.Javascript object>"
            ]
          },
          "metadata": {}
        },
        {
          "output_type": "display_data",
          "data": {
            "application/javascript": [
              "download(\"download_63513ed8-2bcc-4d75-85e8-fa4e68db0399\", \"AJ_JanFeb2020.csv\", 2421996)"
            ],
            "text/plain": [
              "<IPython.core.display.Javascript object>"
            ]
          },
          "metadata": {}
        }
      ]
    },
    {
      "cell_type": "code",
      "source": [
        "account = \"AP\"\n",
        "\n",
        "AP_202001_202002=pd.read_csv('/content/AP_china_202001220000_202002220000.csv')\n",
        "AP_202001_202002 = AP_202001_202002.append(pd.read_csv('/content/AP_coronavirus_202001220000_202002220000.csv'),\n",
        "                                           ignore_index=True)\n",
        "AP_202001_202002 = AP_202001_202002.append(pd.read_csv('/content/AP_covid_202001220000_202002220000.csv'),\n",
        "                                           ignore_index=True)\n",
        "AP_202001_202002 = AP_202001_202002.append(pd.read_csv('/content/AP_wuhan_202001220000_202002220000.csv'),\n",
        "                                           ignore_index=True)\n",
        "\n",
        "label = account+\"_\"+period\n",
        "AP_202001_202002.to_csv(label+\".csv\", index=False)\n",
        "files.download(label+\".csv\")"
      ],
      "metadata": {
        "colab": {
          "base_uri": "https://localhost:8080/",
          "height": 0
        },
        "id": "kHlzLUM1KnXr",
        "outputId": "6253a13a-0e37-4ff0-d35b-0d1669f7badd"
      },
      "execution_count": 144,
      "outputs": [
        {
          "output_type": "display_data",
          "data": {
            "application/javascript": [
              "\n",
              "    async function download(id, filename, size) {\n",
              "      if (!google.colab.kernel.accessAllowed) {\n",
              "        return;\n",
              "      }\n",
              "      const div = document.createElement('div');\n",
              "      const label = document.createElement('label');\n",
              "      label.textContent = `Downloading \"${filename}\": `;\n",
              "      div.appendChild(label);\n",
              "      const progress = document.createElement('progress');\n",
              "      progress.max = size;\n",
              "      div.appendChild(progress);\n",
              "      document.body.appendChild(div);\n",
              "\n",
              "      const buffers = [];\n",
              "      let downloaded = 0;\n",
              "\n",
              "      const channel = await google.colab.kernel.comms.open(id);\n",
              "      // Send a message to notify the kernel that we're ready.\n",
              "      channel.send({})\n",
              "\n",
              "      for await (const message of channel.messages) {\n",
              "        // Send a message to notify the kernel that we're ready.\n",
              "        channel.send({})\n",
              "        if (message.buffers) {\n",
              "          for (const buffer of message.buffers) {\n",
              "            buffers.push(buffer);\n",
              "            downloaded += buffer.byteLength;\n",
              "            progress.value = downloaded;\n",
              "          }\n",
              "        }\n",
              "      }\n",
              "      const blob = new Blob(buffers, {type: 'application/binary'});\n",
              "      const a = document.createElement('a');\n",
              "      a.href = window.URL.createObjectURL(blob);\n",
              "      a.download = filename;\n",
              "      div.appendChild(a);\n",
              "      a.click();\n",
              "      div.remove();\n",
              "    }\n",
              "  "
            ],
            "text/plain": [
              "<IPython.core.display.Javascript object>"
            ]
          },
          "metadata": {}
        },
        {
          "output_type": "display_data",
          "data": {
            "application/javascript": [
              "download(\"download_8adc1ecc-56b2-4270-89d4-c377aed86fd7\", \"AP_JanFeb2020.csv\", 664633)"
            ],
            "text/plain": [
              "<IPython.core.display.Javascript object>"
            ]
          },
          "metadata": {}
        }
      ]
    },
    {
      "cell_type": "code",
      "source": [
        "account = \"BBC\"\n",
        "\n",
        "BBC_202001_202002=pd.read_csv('/content/BBCWorld_china_202001220000_202002220000.csv')\n",
        "BBC_202001_202002 = BBC_202001_202002.append(pd.read_csv('/content/BBCWorld_coronavirus_202001220000_202002220000.csv'),\n",
        "                                           ignore_index=True)\n",
        "BBC_202001_202002 = BBC_202001_202002.append(pd.read_csv('/content/BBCWorld_covid_202001220000_202002220000.csv'),\n",
        "                                           ignore_index=True)\n",
        "BBC_202001_202002 = BBC_202001_202002.append(pd.read_csv('/content/BBCWorld_wuhan_202001220000_202002220000.csv'),\n",
        "                                           ignore_index=True)\n",
        "\n",
        "label = account+\"_\"+period\n",
        "BBC_202001_202002.to_csv(label+\".csv\", index=False)\n",
        "files.download(label+\".csv\")"
      ],
      "metadata": {
        "colab": {
          "base_uri": "https://localhost:8080/",
          "height": 0
        },
        "id": "UmznPwfhONTt",
        "outputId": "306d9096-8568-4dcf-a057-0d6bc8eabf59"
      },
      "execution_count": 145,
      "outputs": [
        {
          "output_type": "display_data",
          "data": {
            "application/javascript": [
              "\n",
              "    async function download(id, filename, size) {\n",
              "      if (!google.colab.kernel.accessAllowed) {\n",
              "        return;\n",
              "      }\n",
              "      const div = document.createElement('div');\n",
              "      const label = document.createElement('label');\n",
              "      label.textContent = `Downloading \"${filename}\": `;\n",
              "      div.appendChild(label);\n",
              "      const progress = document.createElement('progress');\n",
              "      progress.max = size;\n",
              "      div.appendChild(progress);\n",
              "      document.body.appendChild(div);\n",
              "\n",
              "      const buffers = [];\n",
              "      let downloaded = 0;\n",
              "\n",
              "      const channel = await google.colab.kernel.comms.open(id);\n",
              "      // Send a message to notify the kernel that we're ready.\n",
              "      channel.send({})\n",
              "\n",
              "      for await (const message of channel.messages) {\n",
              "        // Send a message to notify the kernel that we're ready.\n",
              "        channel.send({})\n",
              "        if (message.buffers) {\n",
              "          for (const buffer of message.buffers) {\n",
              "            buffers.push(buffer);\n",
              "            downloaded += buffer.byteLength;\n",
              "            progress.value = downloaded;\n",
              "          }\n",
              "        }\n",
              "      }\n",
              "      const blob = new Blob(buffers, {type: 'application/binary'});\n",
              "      const a = document.createElement('a');\n",
              "      a.href = window.URL.createObjectURL(blob);\n",
              "      a.download = filename;\n",
              "      div.appendChild(a);\n",
              "      a.click();\n",
              "      div.remove();\n",
              "    }\n",
              "  "
            ],
            "text/plain": [
              "<IPython.core.display.Javascript object>"
            ]
          },
          "metadata": {}
        },
        {
          "output_type": "display_data",
          "data": {
            "application/javascript": [
              "download(\"download_ad9cee32-8f61-4d8b-90ac-e20d25ae883c\", \"BBC_JanFeb2020.csv\", 1093302)"
            ],
            "text/plain": [
              "<IPython.core.display.Javascript object>"
            ]
          },
          "metadata": {}
        }
      ]
    },
    {
      "cell_type": "code",
      "source": [
        "account = \"CGTN\"\n",
        "\n",
        "CGTN_202001_202002=pd.read_csv('/content/CGTNOfficial_China_202001220000_202002220000.csv')\n",
        "CGTN_202001_202002 = CGTN_202001_202002.append(pd.read_csv('/content/CGTNOfficial_Coronavirus_202001220000_202002220000.csv'),\n",
        "                                           ignore_index=True)\n",
        "CGTN_202001_202002 = CGTN_202001_202002.append(pd.read_csv('/content/CGTNOfficial_covid_202001220000_202002220000.csv'),\n",
        "                                           ignore_index=True)\n",
        "CGTN_202001_202002 = CGTN_202001_202002.append(pd.read_csv('/content/CGTNOfficial_Wuhan_202001220000_202002220000.csv'),\n",
        "                                           ignore_index=True)\n",
        "\n",
        "label = account+\"_\"+period\n",
        "CGTN_202001_202002.to_csv(label+\".csv\", index=False)\n",
        "files.download(label+\".csv\")"
      ],
      "metadata": {
        "colab": {
          "base_uri": "https://localhost:8080/",
          "height": 0
        },
        "id": "ohkhlswqQhhL",
        "outputId": "2dd7a5e2-049b-4e00-9226-80687a70ef5a"
      },
      "execution_count": 146,
      "outputs": [
        {
          "output_type": "display_data",
          "data": {
            "application/javascript": [
              "\n",
              "    async function download(id, filename, size) {\n",
              "      if (!google.colab.kernel.accessAllowed) {\n",
              "        return;\n",
              "      }\n",
              "      const div = document.createElement('div');\n",
              "      const label = document.createElement('label');\n",
              "      label.textContent = `Downloading \"${filename}\": `;\n",
              "      div.appendChild(label);\n",
              "      const progress = document.createElement('progress');\n",
              "      progress.max = size;\n",
              "      div.appendChild(progress);\n",
              "      document.body.appendChild(div);\n",
              "\n",
              "      const buffers = [];\n",
              "      let downloaded = 0;\n",
              "\n",
              "      const channel = await google.colab.kernel.comms.open(id);\n",
              "      // Send a message to notify the kernel that we're ready.\n",
              "      channel.send({})\n",
              "\n",
              "      for await (const message of channel.messages) {\n",
              "        // Send a message to notify the kernel that we're ready.\n",
              "        channel.send({})\n",
              "        if (message.buffers) {\n",
              "          for (const buffer of message.buffers) {\n",
              "            buffers.push(buffer);\n",
              "            downloaded += buffer.byteLength;\n",
              "            progress.value = downloaded;\n",
              "          }\n",
              "        }\n",
              "      }\n",
              "      const blob = new Blob(buffers, {type: 'application/binary'});\n",
              "      const a = document.createElement('a');\n",
              "      a.href = window.URL.createObjectURL(blob);\n",
              "      a.download = filename;\n",
              "      div.appendChild(a);\n",
              "      a.click();\n",
              "      div.remove();\n",
              "    }\n",
              "  "
            ],
            "text/plain": [
              "<IPython.core.display.Javascript object>"
            ]
          },
          "metadata": {}
        },
        {
          "output_type": "display_data",
          "data": {
            "application/javascript": [
              "download(\"download_2dbf09c7-0354-40d1-bb8f-389e60c52485\", \"CGTN_JanFeb2020.csv\", 10745185)"
            ],
            "text/plain": [
              "<IPython.core.display.Javascript object>"
            ]
          },
          "metadata": {}
        }
      ]
    },
    {
      "cell_type": "code",
      "source": [
        "account = \"CNN\"\n",
        "\n",
        "CNN_202001_202002=pd.read_csv('/content/CNN_china_202001220000_202002220000.csv')\n",
        "CNN_202001_202002 = CNN_202001_202002.append(pd.read_csv('/content/CNN_coronavirus_202001220000_202002220000.csv'),\n",
        "                                           ignore_index=True)\n",
        "CNN_202001_202002 = CNN_202001_202002.append(pd.read_csv('/content/CNN_covid_202001220000_202002220000.csv'),\n",
        "                                           ignore_index=True)\n",
        "CNN_202001_202002 = CNN_202001_202002.append(pd.read_csv('/content/CNN_wuhan_202001220000_202002220000.csv'),\n",
        "                                           ignore_index=True)\n",
        "\n",
        "label = account+\"_\"+period\n",
        "CNN_202001_202002.to_csv(label+\".csv\", index=False)\n",
        "files.download(label+\".csv\")"
      ],
      "metadata": {
        "colab": {
          "base_uri": "https://localhost:8080/",
          "height": 0
        },
        "id": "JeXz5JRRSlZo",
        "outputId": "bb28cd8a-53e4-4b33-bdac-d2d00e453181"
      },
      "execution_count": 147,
      "outputs": [
        {
          "output_type": "display_data",
          "data": {
            "application/javascript": [
              "\n",
              "    async function download(id, filename, size) {\n",
              "      if (!google.colab.kernel.accessAllowed) {\n",
              "        return;\n",
              "      }\n",
              "      const div = document.createElement('div');\n",
              "      const label = document.createElement('label');\n",
              "      label.textContent = `Downloading \"${filename}\": `;\n",
              "      div.appendChild(label);\n",
              "      const progress = document.createElement('progress');\n",
              "      progress.max = size;\n",
              "      div.appendChild(progress);\n",
              "      document.body.appendChild(div);\n",
              "\n",
              "      const buffers = [];\n",
              "      let downloaded = 0;\n",
              "\n",
              "      const channel = await google.colab.kernel.comms.open(id);\n",
              "      // Send a message to notify the kernel that we're ready.\n",
              "      channel.send({})\n",
              "\n",
              "      for await (const message of channel.messages) {\n",
              "        // Send a message to notify the kernel that we're ready.\n",
              "        channel.send({})\n",
              "        if (message.buffers) {\n",
              "          for (const buffer of message.buffers) {\n",
              "            buffers.push(buffer);\n",
              "            downloaded += buffer.byteLength;\n",
              "            progress.value = downloaded;\n",
              "          }\n",
              "        }\n",
              "      }\n",
              "      const blob = new Blob(buffers, {type: 'application/binary'});\n",
              "      const a = document.createElement('a');\n",
              "      a.href = window.URL.createObjectURL(blob);\n",
              "      a.download = filename;\n",
              "      div.appendChild(a);\n",
              "      a.click();\n",
              "      div.remove();\n",
              "    }\n",
              "  "
            ],
            "text/plain": [
              "<IPython.core.display.Javascript object>"
            ]
          },
          "metadata": {}
        },
        {
          "output_type": "display_data",
          "data": {
            "application/javascript": [
              "download(\"download_14cdb4c4-91ca-4fd5-8b6e-72a5aba12013\", \"CNN_JanFeb2020.csv\", 5073521)"
            ],
            "text/plain": [
              "<IPython.core.display.Javascript object>"
            ]
          },
          "metadata": {}
        }
      ]
    },
    {
      "cell_type": "code",
      "source": [
        "account = \"R\"\n",
        "\n",
        "R_202001_202002=pd.read_csv('/content/Reuters_china_202001220000_202002220000.csv')\n",
        "R_202001_202002 = R_202001_202002.append(pd.read_csv('/content/Reuters_coronavirus_202001220000_202002220000.csv'),\n",
        "                                           ignore_index=True)\n",
        "R_202001_202002 = R_202001_202002.append(pd.read_csv('/content/Reuters_covid_202001220000_202002220000.csv'),\n",
        "                                           ignore_index=True)\n",
        "R_202001_202002 = R_202001_202002.append(pd.read_csv('/content/Reuters_wuhan_202001220000_202002220000.csv'),\n",
        "                                           ignore_index=True)\n",
        "\n",
        "label = account+\"_\"+period\n",
        "R_202001_202002.to_csv(label+\".csv\", index=False)\n",
        "files.download(label+\".csv\")"
      ],
      "metadata": {
        "colab": {
          "base_uri": "https://localhost:8080/",
          "height": 0
        },
        "id": "sJn1iwX-VPXV",
        "outputId": "5c24cb8f-29b8-4b54-e697-6bd9fdc9e04e"
      },
      "execution_count": 148,
      "outputs": [
        {
          "output_type": "display_data",
          "data": {
            "application/javascript": [
              "\n",
              "    async function download(id, filename, size) {\n",
              "      if (!google.colab.kernel.accessAllowed) {\n",
              "        return;\n",
              "      }\n",
              "      const div = document.createElement('div');\n",
              "      const label = document.createElement('label');\n",
              "      label.textContent = `Downloading \"${filename}\": `;\n",
              "      div.appendChild(label);\n",
              "      const progress = document.createElement('progress');\n",
              "      progress.max = size;\n",
              "      div.appendChild(progress);\n",
              "      document.body.appendChild(div);\n",
              "\n",
              "      const buffers = [];\n",
              "      let downloaded = 0;\n",
              "\n",
              "      const channel = await google.colab.kernel.comms.open(id);\n",
              "      // Send a message to notify the kernel that we're ready.\n",
              "      channel.send({})\n",
              "\n",
              "      for await (const message of channel.messages) {\n",
              "        // Send a message to notify the kernel that we're ready.\n",
              "        channel.send({})\n",
              "        if (message.buffers) {\n",
              "          for (const buffer of message.buffers) {\n",
              "            buffers.push(buffer);\n",
              "            downloaded += buffer.byteLength;\n",
              "            progress.value = downloaded;\n",
              "          }\n",
              "        }\n",
              "      }\n",
              "      const blob = new Blob(buffers, {type: 'application/binary'});\n",
              "      const a = document.createElement('a');\n",
              "      a.href = window.URL.createObjectURL(blob);\n",
              "      a.download = filename;\n",
              "      div.appendChild(a);\n",
              "      a.click();\n",
              "      div.remove();\n",
              "    }\n",
              "  "
            ],
            "text/plain": [
              "<IPython.core.display.Javascript object>"
            ]
          },
          "metadata": {}
        },
        {
          "output_type": "display_data",
          "data": {
            "application/javascript": [
              "download(\"download_2b89a442-6c4c-48d1-93a4-c8fe8c23745d\", \"R_JanFeb2020.csv\", 17746585)"
            ],
            "text/plain": [
              "<IPython.core.display.Javascript object>"
            ]
          },
          "metadata": {}
        }
      ]
    },
    {
      "cell_type": "code",
      "source": [
        "account = \"XHN\"\n",
        "\n",
        "XHN_202001_202002=pd.read_csv('/content/XHNews_China_202001220000_202002220000.csv')\n",
        "XHN_202001_202002 = XHN_202001_202002.append(pd.read_csv('/content/XHNews_Coronavirus_202001220000_202002220000.csv'),\n",
        "                                           ignore_index=True)\n",
        "XHN_202001_202002 = XHN_202001_202002.append(pd.read_csv('/content/XHNews_Covid_202001220000_202002220000.csv'),\n",
        "                                           ignore_index=True)\n",
        "XHN_202001_202002 = XHN_202001_202002.append(pd.read_csv('/content/XHNews_Wuhan_202001220000_202002220000.csv'),\n",
        "                                           ignore_index=True)\n",
        "\n",
        "label = account+\"_\"+period\n",
        "XHN_202001_202002.to_csv(label+\".csv\", index=False)\n",
        "files.download(label+\".csv\")"
      ],
      "metadata": {
        "colab": {
          "base_uri": "https://localhost:8080/",
          "height": 0
        },
        "id": "P7zJe5rhXd0y",
        "outputId": "7238e3ee-9ca5-4a4a-f11c-a4d008201f8c"
      },
      "execution_count": 149,
      "outputs": [
        {
          "output_type": "display_data",
          "data": {
            "application/javascript": [
              "\n",
              "    async function download(id, filename, size) {\n",
              "      if (!google.colab.kernel.accessAllowed) {\n",
              "        return;\n",
              "      }\n",
              "      const div = document.createElement('div');\n",
              "      const label = document.createElement('label');\n",
              "      label.textContent = `Downloading \"${filename}\": `;\n",
              "      div.appendChild(label);\n",
              "      const progress = document.createElement('progress');\n",
              "      progress.max = size;\n",
              "      div.appendChild(progress);\n",
              "      document.body.appendChild(div);\n",
              "\n",
              "      const buffers = [];\n",
              "      let downloaded = 0;\n",
              "\n",
              "      const channel = await google.colab.kernel.comms.open(id);\n",
              "      // Send a message to notify the kernel that we're ready.\n",
              "      channel.send({})\n",
              "\n",
              "      for await (const message of channel.messages) {\n",
              "        // Send a message to notify the kernel that we're ready.\n",
              "        channel.send({})\n",
              "        if (message.buffers) {\n",
              "          for (const buffer of message.buffers) {\n",
              "            buffers.push(buffer);\n",
              "            downloaded += buffer.byteLength;\n",
              "            progress.value = downloaded;\n",
              "          }\n",
              "        }\n",
              "      }\n",
              "      const blob = new Blob(buffers, {type: 'application/binary'});\n",
              "      const a = document.createElement('a');\n",
              "      a.href = window.URL.createObjectURL(blob);\n",
              "      a.download = filename;\n",
              "      div.appendChild(a);\n",
              "      a.click();\n",
              "      div.remove();\n",
              "    }\n",
              "  "
            ],
            "text/plain": [
              "<IPython.core.display.Javascript object>"
            ]
          },
          "metadata": {}
        },
        {
          "output_type": "display_data",
          "data": {
            "application/javascript": [
              "download(\"download_e7532043-cca4-4be0-81cf-e9a6cd42ddbb\", \"XHN_JanFeb2020.csv\", 13078628)"
            ],
            "text/plain": [
              "<IPython.core.display.Javascript object>"
            ]
          },
          "metadata": {}
        }
      ]
    },
    {
      "cell_type": "markdown",
      "source": [
        "# SeptOct2020"
      ],
      "metadata": {
        "id": "ljNDK7RWy6cN"
      }
    },
    {
      "cell_type": "markdown",
      "source": [
        "## USA: SeptOct2020"
      ],
      "metadata": {
        "id": "uzkqS67-nS7X"
      }
    },
    {
      "cell_type": "code",
      "source": [
        "period = \"SeptOct2020\"\n",
        "country = \"USA\"\n",
        "\n",
        "USA_202009_202010 = AJ_202009_202010.append(AP_202009_202010, ignore_index=True)\n",
        "USA_202009_202010 = USA_202009_202010.append(BBC_202009_202010, ignore_index=True)\n",
        "USA_202009_202010 = USA_202009_202010.append(CNN_202009_202010, ignore_index=True)\n",
        "USA_202009_202010 = USA_202009_202010.append(R_202009_202010, ignore_index=True)\n",
        "\n",
        "label = country+\"_\"+period\n",
        "USA_202009_202010.to_csv(label+\".csv\", index=False)\n",
        "files.download(label+\".csv\")"
      ],
      "metadata": {
        "id": "eCVqp3hNo3QJ",
        "outputId": "25b1cc4f-4ec3-40bc-9855-c64e12ef2477",
        "colab": {
          "base_uri": "https://localhost:8080/",
          "height": 0
        }
      },
      "execution_count": 178,
      "outputs": [
        {
          "output_type": "display_data",
          "data": {
            "application/javascript": [
              "\n",
              "    async function download(id, filename, size) {\n",
              "      if (!google.colab.kernel.accessAllowed) {\n",
              "        return;\n",
              "      }\n",
              "      const div = document.createElement('div');\n",
              "      const label = document.createElement('label');\n",
              "      label.textContent = `Downloading \"${filename}\": `;\n",
              "      div.appendChild(label);\n",
              "      const progress = document.createElement('progress');\n",
              "      progress.max = size;\n",
              "      div.appendChild(progress);\n",
              "      document.body.appendChild(div);\n",
              "\n",
              "      const buffers = [];\n",
              "      let downloaded = 0;\n",
              "\n",
              "      const channel = await google.colab.kernel.comms.open(id);\n",
              "      // Send a message to notify the kernel that we're ready.\n",
              "      channel.send({})\n",
              "\n",
              "      for await (const message of channel.messages) {\n",
              "        // Send a message to notify the kernel that we're ready.\n",
              "        channel.send({})\n",
              "        if (message.buffers) {\n",
              "          for (const buffer of message.buffers) {\n",
              "            buffers.push(buffer);\n",
              "            downloaded += buffer.byteLength;\n",
              "            progress.value = downloaded;\n",
              "          }\n",
              "        }\n",
              "      }\n",
              "      const blob = new Blob(buffers, {type: 'application/binary'});\n",
              "      const a = document.createElement('a');\n",
              "      a.href = window.URL.createObjectURL(blob);\n",
              "      a.download = filename;\n",
              "      div.appendChild(a);\n",
              "      a.click();\n",
              "      div.remove();\n",
              "    }\n",
              "  "
            ],
            "text/plain": [
              "<IPython.core.display.Javascript object>"
            ]
          },
          "metadata": {}
        },
        {
          "output_type": "display_data",
          "data": {
            "application/javascript": [
              "download(\"download_1016c156-49dd-4e74-831a-4483cc425e72\", \"USA_SeptOct2020.csv\", 31101175)"
            ],
            "text/plain": [
              "<IPython.core.display.Javascript object>"
            ]
          },
          "metadata": {}
        }
      ]
    },
    {
      "cell_type": "markdown",
      "source": [
        "## China: SeptOct2020"
      ],
      "metadata": {
        "id": "5wr6YDqWnanl"
      }
    },
    {
      "cell_type": "code",
      "source": [
        "period = \"SeptOct2020\"\n",
        "country = \"China\"\n",
        "\n",
        "China_202009_202010 = CGTN_202009_202010.append(XHN_202009_202010, ignore_index=True)\n",
        "\n",
        "label = country+\"_\"+period\n",
        "China_202009_202010.to_csv(label+\".csv\", index=False)\n",
        "files.download(label+\".csv\")"
      ],
      "metadata": {
        "id": "GKaKGekVr4he",
        "outputId": "492fae82-37f7-4ad3-d7fd-4e7e3e2cc831",
        "colab": {
          "base_uri": "https://localhost:8080/",
          "height": 0
        }
      },
      "execution_count": 179,
      "outputs": [
        {
          "output_type": "display_data",
          "data": {
            "application/javascript": [
              "\n",
              "    async function download(id, filename, size) {\n",
              "      if (!google.colab.kernel.accessAllowed) {\n",
              "        return;\n",
              "      }\n",
              "      const div = document.createElement('div');\n",
              "      const label = document.createElement('label');\n",
              "      label.textContent = `Downloading \"${filename}\": `;\n",
              "      div.appendChild(label);\n",
              "      const progress = document.createElement('progress');\n",
              "      progress.max = size;\n",
              "      div.appendChild(progress);\n",
              "      document.body.appendChild(div);\n",
              "\n",
              "      const buffers = [];\n",
              "      let downloaded = 0;\n",
              "\n",
              "      const channel = await google.colab.kernel.comms.open(id);\n",
              "      // Send a message to notify the kernel that we're ready.\n",
              "      channel.send({})\n",
              "\n",
              "      for await (const message of channel.messages) {\n",
              "        // Send a message to notify the kernel that we're ready.\n",
              "        channel.send({})\n",
              "        if (message.buffers) {\n",
              "          for (const buffer of message.buffers) {\n",
              "            buffers.push(buffer);\n",
              "            downloaded += buffer.byteLength;\n",
              "            progress.value = downloaded;\n",
              "          }\n",
              "        }\n",
              "      }\n",
              "      const blob = new Blob(buffers, {type: 'application/binary'});\n",
              "      const a = document.createElement('a');\n",
              "      a.href = window.URL.createObjectURL(blob);\n",
              "      a.download = filename;\n",
              "      div.appendChild(a);\n",
              "      a.click();\n",
              "      div.remove();\n",
              "    }\n",
              "  "
            ],
            "text/plain": [
              "<IPython.core.display.Javascript object>"
            ]
          },
          "metadata": {}
        },
        {
          "output_type": "display_data",
          "data": {
            "application/javascript": [
              "download(\"download_b3526be5-8a83-4148-8901-b2875026f042\", \"China_SeptOct2020.csv\", 15311593)"
            ],
            "text/plain": [
              "<IPython.core.display.Javascript object>"
            ]
          },
          "metadata": {}
        }
      ]
    },
    {
      "cell_type": "markdown",
      "source": [
        "## China and USA: SeptOct2020"
      ],
      "metadata": {
        "id": "xPczNR5_xNZ-"
      }
    },
    {
      "cell_type": "code",
      "source": [
        "period = \"SeptOct2020\"\n",
        "country = \"China&USA\"\n",
        "\n",
        "ChinaUSA_202009_202010 = China_202009_202010.append(USA_202009_202010, ignore_index=True)\n",
        "\n",
        "label = country+\"_\"+period\n",
        "ChinaUSA_202009_202010.to_csv(label+\".csv\", index=False)\n",
        "files.download(label+\".csv\")"
      ],
      "metadata": {
        "outputId": "94cf9f11-234b-4fb0-a135-e1fbc9c340eb",
        "colab": {
          "base_uri": "https://localhost:8080/",
          "height": 0
        },
        "id": "yEJogqY3xNaD"
      },
      "execution_count": 180,
      "outputs": [
        {
          "output_type": "display_data",
          "data": {
            "application/javascript": [
              "\n",
              "    async function download(id, filename, size) {\n",
              "      if (!google.colab.kernel.accessAllowed) {\n",
              "        return;\n",
              "      }\n",
              "      const div = document.createElement('div');\n",
              "      const label = document.createElement('label');\n",
              "      label.textContent = `Downloading \"${filename}\": `;\n",
              "      div.appendChild(label);\n",
              "      const progress = document.createElement('progress');\n",
              "      progress.max = size;\n",
              "      div.appendChild(progress);\n",
              "      document.body.appendChild(div);\n",
              "\n",
              "      const buffers = [];\n",
              "      let downloaded = 0;\n",
              "\n",
              "      const channel = await google.colab.kernel.comms.open(id);\n",
              "      // Send a message to notify the kernel that we're ready.\n",
              "      channel.send({})\n",
              "\n",
              "      for await (const message of channel.messages) {\n",
              "        // Send a message to notify the kernel that we're ready.\n",
              "        channel.send({})\n",
              "        if (message.buffers) {\n",
              "          for (const buffer of message.buffers) {\n",
              "            buffers.push(buffer);\n",
              "            downloaded += buffer.byteLength;\n",
              "            progress.value = downloaded;\n",
              "          }\n",
              "        }\n",
              "      }\n",
              "      const blob = new Blob(buffers, {type: 'application/binary'});\n",
              "      const a = document.createElement('a');\n",
              "      a.href = window.URL.createObjectURL(blob);\n",
              "      a.download = filename;\n",
              "      div.appendChild(a);\n",
              "      a.click();\n",
              "      div.remove();\n",
              "    }\n",
              "  "
            ],
            "text/plain": [
              "<IPython.core.display.Javascript object>"
            ]
          },
          "metadata": {}
        },
        {
          "output_type": "display_data",
          "data": {
            "application/javascript": [
              "download(\"download_ccbef31e-5cf1-4203-b8c7-b2bbe6750e63\", \"China&USA_SeptOct2020.csv\", 46412274)"
            ],
            "text/plain": [
              "<IPython.core.display.Javascript object>"
            ]
          },
          "metadata": {}
        }
      ]
    },
    {
      "cell_type": "markdown",
      "source": [
        "## Accounts: SeptOct2020"
      ],
      "metadata": {
        "id": "HQ1GF_RPJNNt"
      }
    },
    {
      "cell_type": "code",
      "source": [
        "period = \"SeptOct2020\""
      ],
      "metadata": {
        "id": "gXObuezmdR6m"
      },
      "execution_count": 150,
      "outputs": []
    },
    {
      "cell_type": "code",
      "source": [
        "account = \"AJ\"\n",
        "\n",
        "AJ_202009_202010=pd.read_csv('/content/AJEnglish_china_202009200000_202010210000.csv')\n",
        "AJ_202009_202010 = AJ_202009_202010.append(pd.read_csv('/content/AJEnglish_coronavirus_202009200000_202010210000.csv'),\n",
        "                                           ignore_index=True)\n",
        "AJ_202009_202010 = AJ_202009_202010.append(pd.read_csv('/content/AJEnglish_covid_202009200000_202010210000.csv'),\n",
        "                                           ignore_index=True)\n",
        "AJ_202009_202010 = AJ_202009_202010.append(pd.read_csv('/content/AJEnglish_vaccine_202009200000_202010210000.csv'),\n",
        "                                           ignore_index=True)\n",
        "AJ_202009_202010 = AJ_202009_202010.append(pd.read_csv('/content/AJEnglish_wuhan_202009200000_202010210000.csv'),\n",
        "                                           ignore_index=True)\n",
        "\n",
        "label = account+\"_\"+period\n",
        "AJ_202009_202010.to_csv(label+\".csv\", index=False)\n",
        "files.download(label+\".csv\")"
      ],
      "metadata": {
        "colab": {
          "base_uri": "https://localhost:8080/",
          "height": 0
        },
        "id": "C8hAaZDLHQsY",
        "outputId": "4203543f-8a10-48a5-c075-eb5bef03a479"
      },
      "execution_count": 151,
      "outputs": [
        {
          "output_type": "display_data",
          "data": {
            "application/javascript": [
              "\n",
              "    async function download(id, filename, size) {\n",
              "      if (!google.colab.kernel.accessAllowed) {\n",
              "        return;\n",
              "      }\n",
              "      const div = document.createElement('div');\n",
              "      const label = document.createElement('label');\n",
              "      label.textContent = `Downloading \"${filename}\": `;\n",
              "      div.appendChild(label);\n",
              "      const progress = document.createElement('progress');\n",
              "      progress.max = size;\n",
              "      div.appendChild(progress);\n",
              "      document.body.appendChild(div);\n",
              "\n",
              "      const buffers = [];\n",
              "      let downloaded = 0;\n",
              "\n",
              "      const channel = await google.colab.kernel.comms.open(id);\n",
              "      // Send a message to notify the kernel that we're ready.\n",
              "      channel.send({})\n",
              "\n",
              "      for await (const message of channel.messages) {\n",
              "        // Send a message to notify the kernel that we're ready.\n",
              "        channel.send({})\n",
              "        if (message.buffers) {\n",
              "          for (const buffer of message.buffers) {\n",
              "            buffers.push(buffer);\n",
              "            downloaded += buffer.byteLength;\n",
              "            progress.value = downloaded;\n",
              "          }\n",
              "        }\n",
              "      }\n",
              "      const blob = new Blob(buffers, {type: 'application/binary'});\n",
              "      const a = document.createElement('a');\n",
              "      a.href = window.URL.createObjectURL(blob);\n",
              "      a.download = filename;\n",
              "      div.appendChild(a);\n",
              "      a.click();\n",
              "      div.remove();\n",
              "    }\n",
              "  "
            ],
            "text/plain": [
              "<IPython.core.display.Javascript object>"
            ]
          },
          "metadata": {}
        },
        {
          "output_type": "display_data",
          "data": {
            "application/javascript": [
              "download(\"download_dfffc71d-9059-4dae-82af-a8b6fa17d481\", \"AJ_SeptOct2020.csv\", 2341081)"
            ],
            "text/plain": [
              "<IPython.core.display.Javascript object>"
            ]
          },
          "metadata": {}
        }
      ]
    },
    {
      "cell_type": "code",
      "source": [
        "account = \"AP\"\n",
        "\n",
        "AP_202009_202010=pd.read_csv('/content/AP_china_202009200000_202010210000.csv')\n",
        "AP_202009_202010 = AP_202009_202010.append(pd.read_csv('/content/AP_coronavirus_202009200000_202010210000.csv'),\n",
        "                                           ignore_index=True)\n",
        "AP_202009_202010 = AP_202009_202010.append(pd.read_csv('/content/AP_covid_202009200000_202010210000.csv'),\n",
        "                                           ignore_index=True)\n",
        "AP_202009_202010 = AP_202009_202010.append(pd.read_csv('/content/AP_vaccine_202009200000_202010210000.csv'),\n",
        "                                           ignore_index=True)\n",
        "# EMPTY : Wuhan\n",
        "\n",
        "label = account+\"_\"+period\n",
        "AP_202009_202010.to_csv(label+\".csv\", index=False)\n",
        "files.download(label+\".csv\")"
      ],
      "metadata": {
        "colab": {
          "base_uri": "https://localhost:8080/",
          "height": 0
        },
        "id": "c94jGtJkL8os",
        "outputId": "019f4551-554e-48e8-b9f5-ce7fb6a4d479"
      },
      "execution_count": 152,
      "outputs": [
        {
          "output_type": "display_data",
          "data": {
            "application/javascript": [
              "\n",
              "    async function download(id, filename, size) {\n",
              "      if (!google.colab.kernel.accessAllowed) {\n",
              "        return;\n",
              "      }\n",
              "      const div = document.createElement('div');\n",
              "      const label = document.createElement('label');\n",
              "      label.textContent = `Downloading \"${filename}\": `;\n",
              "      div.appendChild(label);\n",
              "      const progress = document.createElement('progress');\n",
              "      progress.max = size;\n",
              "      div.appendChild(progress);\n",
              "      document.body.appendChild(div);\n",
              "\n",
              "      const buffers = [];\n",
              "      let downloaded = 0;\n",
              "\n",
              "      const channel = await google.colab.kernel.comms.open(id);\n",
              "      // Send a message to notify the kernel that we're ready.\n",
              "      channel.send({})\n",
              "\n",
              "      for await (const message of channel.messages) {\n",
              "        // Send a message to notify the kernel that we're ready.\n",
              "        channel.send({})\n",
              "        if (message.buffers) {\n",
              "          for (const buffer of message.buffers) {\n",
              "            buffers.push(buffer);\n",
              "            downloaded += buffer.byteLength;\n",
              "            progress.value = downloaded;\n",
              "          }\n",
              "        }\n",
              "      }\n",
              "      const blob = new Blob(buffers, {type: 'application/binary'});\n",
              "      const a = document.createElement('a');\n",
              "      a.href = window.URL.createObjectURL(blob);\n",
              "      a.download = filename;\n",
              "      div.appendChild(a);\n",
              "      a.click();\n",
              "      div.remove();\n",
              "    }\n",
              "  "
            ],
            "text/plain": [
              "<IPython.core.display.Javascript object>"
            ]
          },
          "metadata": {}
        },
        {
          "output_type": "display_data",
          "data": {
            "application/javascript": [
              "download(\"download_b8ff22f7-2a72-4e24-80d4-14289402c580\", \"AP_SeptOct2020.csv\", 2051675)"
            ],
            "text/plain": [
              "<IPython.core.display.Javascript object>"
            ]
          },
          "metadata": {}
        }
      ]
    },
    {
      "cell_type": "code",
      "source": [
        "account = \"BBC\"\n",
        "\n",
        "BBC_202009_202010=pd.read_csv('/content/BBCWorld_china_202009200000_202010210000.csv')\n",
        "BBC_202009_202010 = BBC_202009_202010.append(pd.read_csv('/content/BBCWorld_coronavirus_202009200000_202010210000.csv'),\n",
        "                                           ignore_index=True)\n",
        "BBC_202009_202010 = BBC_202009_202010.append(pd.read_csv('/content/BBCWorld_covid_202009200000_202010210000.csv'),\n",
        "                                           ignore_index=True)\n",
        "BBC_202009_202010 = BBC_202009_202010.append(pd.read_csv('/content/BBCWorld_vaccine_202009200000_202010210000.csv'),\n",
        "                                           ignore_index=True)\n",
        "# EMPTY: Wuhan\n",
        "\n",
        "label = account+\"_\"+period\n",
        "BBC_202009_202010.to_csv(label+\".csv\", index=False)\n",
        "files.download(label+\".csv\")"
      ],
      "metadata": {
        "colab": {
          "base_uri": "https://localhost:8080/",
          "height": 0
        },
        "id": "S6IIhAMxO6ce",
        "outputId": "ac7b89f1-9ed0-4f91-93cd-154cb81e7238"
      },
      "execution_count": 153,
      "outputs": [
        {
          "output_type": "display_data",
          "data": {
            "application/javascript": [
              "\n",
              "    async function download(id, filename, size) {\n",
              "      if (!google.colab.kernel.accessAllowed) {\n",
              "        return;\n",
              "      }\n",
              "      const div = document.createElement('div');\n",
              "      const label = document.createElement('label');\n",
              "      label.textContent = `Downloading \"${filename}\": `;\n",
              "      div.appendChild(label);\n",
              "      const progress = document.createElement('progress');\n",
              "      progress.max = size;\n",
              "      div.appendChild(progress);\n",
              "      document.body.appendChild(div);\n",
              "\n",
              "      const buffers = [];\n",
              "      let downloaded = 0;\n",
              "\n",
              "      const channel = await google.colab.kernel.comms.open(id);\n",
              "      // Send a message to notify the kernel that we're ready.\n",
              "      channel.send({})\n",
              "\n",
              "      for await (const message of channel.messages) {\n",
              "        // Send a message to notify the kernel that we're ready.\n",
              "        channel.send({})\n",
              "        if (message.buffers) {\n",
              "          for (const buffer of message.buffers) {\n",
              "            buffers.push(buffer);\n",
              "            downloaded += buffer.byteLength;\n",
              "            progress.value = downloaded;\n",
              "          }\n",
              "        }\n",
              "      }\n",
              "      const blob = new Blob(buffers, {type: 'application/binary'});\n",
              "      const a = document.createElement('a');\n",
              "      a.href = window.URL.createObjectURL(blob);\n",
              "      a.download = filename;\n",
              "      div.appendChild(a);\n",
              "      a.click();\n",
              "      div.remove();\n",
              "    }\n",
              "  "
            ],
            "text/plain": [
              "<IPython.core.display.Javascript object>"
            ]
          },
          "metadata": {}
        },
        {
          "output_type": "display_data",
          "data": {
            "application/javascript": [
              "download(\"download_a2736f0b-c58b-4796-854d-b68bd51fd606\", \"BBC_SeptOct2020.csv\", 939539)"
            ],
            "text/plain": [
              "<IPython.core.display.Javascript object>"
            ]
          },
          "metadata": {}
        }
      ]
    },
    {
      "cell_type": "code",
      "source": [
        "account = \"CGTN\"\n",
        "\n",
        "CGTN_202009_202010=pd.read_csv('/content/CGTNOfficial_china_202009200000_202010220000.csv')\n",
        "CGTN_202009_202010 = CGTN_202009_202010.append(pd.read_csv('/content/CGTNOfficial_covid_202009200000_202010220000.csv'),\n",
        "                                           ignore_index=True)\n",
        "CGTN_202009_202010 = CGTN_202009_202010.append(pd.read_csv('/content/CGTNOfficial_vaccine_202009200000_202010220000.csv'),\n",
        "                                           ignore_index=True)\n",
        "CGTN_202009_202010 = CGTN_202009_202010.append(pd.read_csv('/content/CGTNOfficial_coronavirus_202009200000_202010220000.csv'),\n",
        "                                           ignore_index=True)\n",
        "CGTN_202009_202010 = CGTN_202009_202010.append(pd.read_csv('/content/CGTNOfficial_wuhan_202009200000_202010220000.csv'),\n",
        "                                           ignore_index=True)\n",
        "\n",
        "label = account+\"_\"+period\n",
        "CGTN_202009_202010.to_csv(label+\".csv\", index=False)\n",
        "files.download(label+\".csv\")"
      ],
      "metadata": {
        "colab": {
          "base_uri": "https://localhost:8080/",
          "height": 0
        },
        "id": "7u4dnXfeRDqc",
        "outputId": "33f27aff-95ce-4840-d3b8-50922848c3b8"
      },
      "execution_count": 154,
      "outputs": [
        {
          "output_type": "display_data",
          "data": {
            "application/javascript": [
              "\n",
              "    async function download(id, filename, size) {\n",
              "      if (!google.colab.kernel.accessAllowed) {\n",
              "        return;\n",
              "      }\n",
              "      const div = document.createElement('div');\n",
              "      const label = document.createElement('label');\n",
              "      label.textContent = `Downloading \"${filename}\": `;\n",
              "      div.appendChild(label);\n",
              "      const progress = document.createElement('progress');\n",
              "      progress.max = size;\n",
              "      div.appendChild(progress);\n",
              "      document.body.appendChild(div);\n",
              "\n",
              "      const buffers = [];\n",
              "      let downloaded = 0;\n",
              "\n",
              "      const channel = await google.colab.kernel.comms.open(id);\n",
              "      // Send a message to notify the kernel that we're ready.\n",
              "      channel.send({})\n",
              "\n",
              "      for await (const message of channel.messages) {\n",
              "        // Send a message to notify the kernel that we're ready.\n",
              "        channel.send({})\n",
              "        if (message.buffers) {\n",
              "          for (const buffer of message.buffers) {\n",
              "            buffers.push(buffer);\n",
              "            downloaded += buffer.byteLength;\n",
              "            progress.value = downloaded;\n",
              "          }\n",
              "        }\n",
              "      }\n",
              "      const blob = new Blob(buffers, {type: 'application/binary'});\n",
              "      const a = document.createElement('a');\n",
              "      a.href = window.URL.createObjectURL(blob);\n",
              "      a.download = filename;\n",
              "      div.appendChild(a);\n",
              "      a.click();\n",
              "      div.remove();\n",
              "    }\n",
              "  "
            ],
            "text/plain": [
              "<IPython.core.display.Javascript object>"
            ]
          },
          "metadata": {}
        },
        {
          "output_type": "display_data",
          "data": {
            "application/javascript": [
              "download(\"download_d50ec2a8-9070-4fec-b4fa-72db84edcf9f\", \"CGTN_SeptOct2020.csv\", 8230440)"
            ],
            "text/plain": [
              "<IPython.core.display.Javascript object>"
            ]
          },
          "metadata": {}
        }
      ]
    },
    {
      "cell_type": "code",
      "source": [
        "account = \"CNN\"\n",
        "\n",
        "CNN_202009_202010=pd.read_csv('/content/CNN_china_202009200000_202010210000.csv')\n",
        "CNN_202009_202010 = CNN_202009_202010.append(pd.read_csv('/content/CNN_coronavirus_202009200000_202010210000.csv'),\n",
        "                                           ignore_index=True)\n",
        "CNN_202009_202010 = CNN_202009_202010.append(pd.read_csv('/content/CNN_covid_202009200000_202010210000.csv'),\n",
        "                                           ignore_index=True)\n",
        "CNN_202009_202010 = CNN_202009_202010.append(pd.read_csv('/content/CNN_vaccine_202009200000_202010210000.csv'),\n",
        "                                           ignore_index=True)\n",
        "CNN_202009_202010 = CNN_202009_202010.append(pd.read_csv('/content/CNN_wuhan_202009200000_202010210000.csv'),\n",
        "                                           ignore_index=True)\n",
        "\n",
        "label = account+\"_\"+period\n",
        "CNN_202009_202010.to_csv(label+\".csv\", index=False)\n",
        "files.download(label+\".csv\")"
      ],
      "metadata": {
        "colab": {
          "base_uri": "https://localhost:8080/",
          "height": 0
        },
        "id": "0nc6w-A1TKyF",
        "outputId": "d0805f8e-171f-4fa1-ce44-e15d3ccc95c2"
      },
      "execution_count": 155,
      "outputs": [
        {
          "output_type": "display_data",
          "data": {
            "application/javascript": [
              "\n",
              "    async function download(id, filename, size) {\n",
              "      if (!google.colab.kernel.accessAllowed) {\n",
              "        return;\n",
              "      }\n",
              "      const div = document.createElement('div');\n",
              "      const label = document.createElement('label');\n",
              "      label.textContent = `Downloading \"${filename}\": `;\n",
              "      div.appendChild(label);\n",
              "      const progress = document.createElement('progress');\n",
              "      progress.max = size;\n",
              "      div.appendChild(progress);\n",
              "      document.body.appendChild(div);\n",
              "\n",
              "      const buffers = [];\n",
              "      let downloaded = 0;\n",
              "\n",
              "      const channel = await google.colab.kernel.comms.open(id);\n",
              "      // Send a message to notify the kernel that we're ready.\n",
              "      channel.send({})\n",
              "\n",
              "      for await (const message of channel.messages) {\n",
              "        // Send a message to notify the kernel that we're ready.\n",
              "        channel.send({})\n",
              "        if (message.buffers) {\n",
              "          for (const buffer of message.buffers) {\n",
              "            buffers.push(buffer);\n",
              "            downloaded += buffer.byteLength;\n",
              "            progress.value = downloaded;\n",
              "          }\n",
              "        }\n",
              "      }\n",
              "      const blob = new Blob(buffers, {type: 'application/binary'});\n",
              "      const a = document.createElement('a');\n",
              "      a.href = window.URL.createObjectURL(blob);\n",
              "      a.download = filename;\n",
              "      div.appendChild(a);\n",
              "      a.click();\n",
              "      div.remove();\n",
              "    }\n",
              "  "
            ],
            "text/plain": [
              "<IPython.core.display.Javascript object>"
            ]
          },
          "metadata": {}
        },
        {
          "output_type": "display_data",
          "data": {
            "application/javascript": [
              "download(\"download_cf64d0c9-a4fc-4c74-bf42-094702f976fb\", \"CNN_SeptOct2020.csv\", 4449945)"
            ],
            "text/plain": [
              "<IPython.core.display.Javascript object>"
            ]
          },
          "metadata": {}
        }
      ]
    },
    {
      "cell_type": "code",
      "source": [
        "account = \"R\"\n",
        "\n",
        "R_202009_202010=pd.read_csv('/content/Reuters_china_202009200000_202010210000.csv')\n",
        "R_202009_202010 = R_202009_202010.append(pd.read_csv('/content/Reuters_covid_202009200000_202010210000.csv'),\n",
        "                                           ignore_index=True)\n",
        "R_202009_202010 = R_202009_202010.append(pd.read_csv('/content/Reuters_vaccine_202009200000_202010210000.csv'),\n",
        "                                           ignore_index=True)\n",
        "R_202009_202010 = R_202009_202010.append(pd.read_csv('/content/Reuters_coronavirus_202009200000_202010220000.csv'),\n",
        "                                           ignore_index=True)\n",
        "R_202009_202010 = R_202009_202010.append(pd.read_csv('/content/Reuters_wuhan_202009200000_202010210000.csv'),\n",
        "                                           ignore_index=True)\n",
        "\n",
        "label = account+\"_\"+period\n",
        "R_202009_202010.to_csv(label+\".csv\", index=False)\n",
        "files.download(label+\".csv\")"
      ],
      "metadata": {
        "colab": {
          "base_uri": "https://localhost:8080/",
          "height": 0
        },
        "id": "EcaYUMCdVb9C",
        "outputId": "1276453e-952c-4411-ddbf-d02d2de9521e"
      },
      "execution_count": 156,
      "outputs": [
        {
          "output_type": "display_data",
          "data": {
            "application/javascript": [
              "\n",
              "    async function download(id, filename, size) {\n",
              "      if (!google.colab.kernel.accessAllowed) {\n",
              "        return;\n",
              "      }\n",
              "      const div = document.createElement('div');\n",
              "      const label = document.createElement('label');\n",
              "      label.textContent = `Downloading \"${filename}\": `;\n",
              "      div.appendChild(label);\n",
              "      const progress = document.createElement('progress');\n",
              "      progress.max = size;\n",
              "      div.appendChild(progress);\n",
              "      document.body.appendChild(div);\n",
              "\n",
              "      const buffers = [];\n",
              "      let downloaded = 0;\n",
              "\n",
              "      const channel = await google.colab.kernel.comms.open(id);\n",
              "      // Send a message to notify the kernel that we're ready.\n",
              "      channel.send({})\n",
              "\n",
              "      for await (const message of channel.messages) {\n",
              "        // Send a message to notify the kernel that we're ready.\n",
              "        channel.send({})\n",
              "        if (message.buffers) {\n",
              "          for (const buffer of message.buffers) {\n",
              "            buffers.push(buffer);\n",
              "            downloaded += buffer.byteLength;\n",
              "            progress.value = downloaded;\n",
              "          }\n",
              "        }\n",
              "      }\n",
              "      const blob = new Blob(buffers, {type: 'application/binary'});\n",
              "      const a = document.createElement('a');\n",
              "      a.href = window.URL.createObjectURL(blob);\n",
              "      a.download = filename;\n",
              "      div.appendChild(a);\n",
              "      a.click();\n",
              "      div.remove();\n",
              "    }\n",
              "  "
            ],
            "text/plain": [
              "<IPython.core.display.Javascript object>"
            ]
          },
          "metadata": {}
        },
        {
          "output_type": "display_data",
          "data": {
            "application/javascript": [
              "download(\"download_d85b5a42-bb2e-49a7-8d12-ac1d63b0c9d6\", \"R_SeptOct2020.csv\", 21308707)"
            ],
            "text/plain": [
              "<IPython.core.display.Javascript object>"
            ]
          },
          "metadata": {}
        }
      ]
    },
    {
      "cell_type": "code",
      "source": [
        "account = \"XHN\"\n",
        "\n",
        "XHN_202009_202010=pd.read_csv('/content/XHNews_china_202009200000_202010220000.csv')\n",
        "XHN_202009_202010 = XHN_202009_202010.append(pd.read_csv('/content/XHNews_covid_202009200000_202010220000.csv'),\n",
        "                                           ignore_index=True)\n",
        "XHN_202009_202010 = XHN_202009_202010.append(pd.read_csv('/content/XHNews_vaccine_202009200000_202010220000.csv'),\n",
        "                                           ignore_index=True)\n",
        "XHN_202009_202010 = XHN_202009_202010.append(pd.read_csv('/content/XHNews_coronavirus_202009200000_202010220000.csv'),\n",
        "                                           ignore_index=True)\n",
        "XHN_202009_202010 = XHN_202009_202010.append(pd.read_csv('/content/XHNews_wuhan_202009200000_202010210000.csv'),\n",
        "                                           ignore_index=True)\n",
        "\n",
        "label = account+\"_\"+period\n",
        "XHN_202009_202010.to_csv(label+\".csv\", index=False)\n",
        "files.download(label+\".csv\")"
      ],
      "metadata": {
        "colab": {
          "base_uri": "https://localhost:8080/",
          "height": 0
        },
        "id": "QGO_bK_JWU1c",
        "outputId": "ef8e5872-8837-49bd-9466-2ea76d284971"
      },
      "execution_count": 157,
      "outputs": [
        {
          "output_type": "display_data",
          "data": {
            "application/javascript": [
              "\n",
              "    async function download(id, filename, size) {\n",
              "      if (!google.colab.kernel.accessAllowed) {\n",
              "        return;\n",
              "      }\n",
              "      const div = document.createElement('div');\n",
              "      const label = document.createElement('label');\n",
              "      label.textContent = `Downloading \"${filename}\": `;\n",
              "      div.appendChild(label);\n",
              "      const progress = document.createElement('progress');\n",
              "      progress.max = size;\n",
              "      div.appendChild(progress);\n",
              "      document.body.appendChild(div);\n",
              "\n",
              "      const buffers = [];\n",
              "      let downloaded = 0;\n",
              "\n",
              "      const channel = await google.colab.kernel.comms.open(id);\n",
              "      // Send a message to notify the kernel that we're ready.\n",
              "      channel.send({})\n",
              "\n",
              "      for await (const message of channel.messages) {\n",
              "        // Send a message to notify the kernel that we're ready.\n",
              "        channel.send({})\n",
              "        if (message.buffers) {\n",
              "          for (const buffer of message.buffers) {\n",
              "            buffers.push(buffer);\n",
              "            downloaded += buffer.byteLength;\n",
              "            progress.value = downloaded;\n",
              "          }\n",
              "        }\n",
              "      }\n",
              "      const blob = new Blob(buffers, {type: 'application/binary'});\n",
              "      const a = document.createElement('a');\n",
              "      a.href = window.URL.createObjectURL(blob);\n",
              "      a.download = filename;\n",
              "      div.appendChild(a);\n",
              "      a.click();\n",
              "      div.remove();\n",
              "    }\n",
              "  "
            ],
            "text/plain": [
              "<IPython.core.display.Javascript object>"
            ]
          },
          "metadata": {}
        },
        {
          "output_type": "display_data",
          "data": {
            "application/javascript": [
              "download(\"download_55c2fe75-e956-4201-8739-945c15003a75\", \"XHN_SeptOct2020.csv\", 7075149)"
            ],
            "text/plain": [
              "<IPython.core.display.Javascript object>"
            ]
          },
          "metadata": {}
        }
      ]
    },
    {
      "cell_type": "markdown",
      "source": [
        "# MarchApril2021"
      ],
      "metadata": {
        "id": "dHCTFC88ywMG"
      }
    },
    {
      "cell_type": "markdown",
      "source": [
        "## USA: MarchApril2021"
      ],
      "metadata": {
        "id": "mDcKUEWBnTB6"
      }
    },
    {
      "cell_type": "code",
      "source": [
        "period = \"MarchApril2021\"\n",
        "country = \"USA\"\n",
        "\n",
        "USA_202103_202104 = AJ_202103_202104.append(AP_202103_202104, ignore_index=True)\n",
        "USA_202103_202104 = USA_202103_202104.append(BBC_202103_202104, ignore_index=True)\n",
        "USA_202103_202104 = USA_202103_202104.append(CNN_202103_202104, ignore_index=True)\n",
        "USA_202103_202104 = USA_202103_202104.append(R_202103_202104, ignore_index=True)\n",
        "\n",
        "label = country+\"_\"+period\n",
        "USA_202103_202104.to_csv(label+\".csv\", index=False)\n",
        "files.download(label+\".csv\")"
      ],
      "metadata": {
        "id": "xwuG0Iu5q5-7",
        "outputId": "eaf06137-b4f9-4082-9903-e63fbc5827f9",
        "colab": {
          "base_uri": "https://localhost:8080/",
          "height": 17
        }
      },
      "execution_count": 181,
      "outputs": [
        {
          "output_type": "display_data",
          "data": {
            "application/javascript": [
              "\n",
              "    async function download(id, filename, size) {\n",
              "      if (!google.colab.kernel.accessAllowed) {\n",
              "        return;\n",
              "      }\n",
              "      const div = document.createElement('div');\n",
              "      const label = document.createElement('label');\n",
              "      label.textContent = `Downloading \"${filename}\": `;\n",
              "      div.appendChild(label);\n",
              "      const progress = document.createElement('progress');\n",
              "      progress.max = size;\n",
              "      div.appendChild(progress);\n",
              "      document.body.appendChild(div);\n",
              "\n",
              "      const buffers = [];\n",
              "      let downloaded = 0;\n",
              "\n",
              "      const channel = await google.colab.kernel.comms.open(id);\n",
              "      // Send a message to notify the kernel that we're ready.\n",
              "      channel.send({})\n",
              "\n",
              "      for await (const message of channel.messages) {\n",
              "        // Send a message to notify the kernel that we're ready.\n",
              "        channel.send({})\n",
              "        if (message.buffers) {\n",
              "          for (const buffer of message.buffers) {\n",
              "            buffers.push(buffer);\n",
              "            downloaded += buffer.byteLength;\n",
              "            progress.value = downloaded;\n",
              "          }\n",
              "        }\n",
              "      }\n",
              "      const blob = new Blob(buffers, {type: 'application/binary'});\n",
              "      const a = document.createElement('a');\n",
              "      a.href = window.URL.createObjectURL(blob);\n",
              "      a.download = filename;\n",
              "      div.appendChild(a);\n",
              "      a.click();\n",
              "      div.remove();\n",
              "    }\n",
              "  "
            ],
            "text/plain": [
              "<IPython.core.display.Javascript object>"
            ]
          },
          "metadata": {}
        },
        {
          "output_type": "display_data",
          "data": {
            "application/javascript": [
              "download(\"download_a52b8133-31b6-4d4b-a05e-92fc8516d9c4\", \"USA_MarchApril2021.csv\", 18771507)"
            ],
            "text/plain": [
              "<IPython.core.display.Javascript object>"
            ]
          },
          "metadata": {}
        }
      ]
    },
    {
      "cell_type": "markdown",
      "source": [
        "## China: MarchApril2021"
      ],
      "metadata": {
        "id": "J5kO0klTnanl"
      }
    },
    {
      "cell_type": "code",
      "source": [
        "period = \"MarchApril2021\"\n",
        "country = \"China\"\n",
        "\n",
        "China_202103_202104 = CGTN_202103_202104.append(XHN_202103_202104, ignore_index=True)\n",
        "\n",
        "label = country+\"_\"+period\n",
        "China_202103_202104.to_csv(label+\".csv\", index=False)\n",
        "files.download(label+\".csv\")"
      ],
      "metadata": {
        "id": "ZTqXKLE9r-ww",
        "outputId": "0cddf66e-82b8-4aa1-e5d5-75f72a979784",
        "colab": {
          "base_uri": "https://localhost:8080/",
          "height": 17
        }
      },
      "execution_count": 182,
      "outputs": [
        {
          "output_type": "display_data",
          "data": {
            "application/javascript": [
              "\n",
              "    async function download(id, filename, size) {\n",
              "      if (!google.colab.kernel.accessAllowed) {\n",
              "        return;\n",
              "      }\n",
              "      const div = document.createElement('div');\n",
              "      const label = document.createElement('label');\n",
              "      label.textContent = `Downloading \"${filename}\": `;\n",
              "      div.appendChild(label);\n",
              "      const progress = document.createElement('progress');\n",
              "      progress.max = size;\n",
              "      div.appendChild(progress);\n",
              "      document.body.appendChild(div);\n",
              "\n",
              "      const buffers = [];\n",
              "      let downloaded = 0;\n",
              "\n",
              "      const channel = await google.colab.kernel.comms.open(id);\n",
              "      // Send a message to notify the kernel that we're ready.\n",
              "      channel.send({})\n",
              "\n",
              "      for await (const message of channel.messages) {\n",
              "        // Send a message to notify the kernel that we're ready.\n",
              "        channel.send({})\n",
              "        if (message.buffers) {\n",
              "          for (const buffer of message.buffers) {\n",
              "            buffers.push(buffer);\n",
              "            downloaded += buffer.byteLength;\n",
              "            progress.value = downloaded;\n",
              "          }\n",
              "        }\n",
              "      }\n",
              "      const blob = new Blob(buffers, {type: 'application/binary'});\n",
              "      const a = document.createElement('a');\n",
              "      a.href = window.URL.createObjectURL(blob);\n",
              "      a.download = filename;\n",
              "      div.appendChild(a);\n",
              "      a.click();\n",
              "      div.remove();\n",
              "    }\n",
              "  "
            ],
            "text/plain": [
              "<IPython.core.display.Javascript object>"
            ]
          },
          "metadata": {}
        },
        {
          "output_type": "display_data",
          "data": {
            "application/javascript": [
              "download(\"download_71e872f5-1693-4b00-8fb2-0ef49c2c84ce\", \"China_MarchApril2021.csv\", 7518515)"
            ],
            "text/plain": [
              "<IPython.core.display.Javascript object>"
            ]
          },
          "metadata": {}
        }
      ]
    },
    {
      "cell_type": "markdown",
      "source": [
        "## China and USA: MarchApril2021"
      ],
      "metadata": {
        "id": "j2OLKek9xo_z"
      }
    },
    {
      "cell_type": "code",
      "source": [
        "period = \"MarchApril2021\"\n",
        "country = \"China&USA\"\n",
        "\n",
        "ChinaUSA_202103_202104 = China_202103_202104.append(USA_202103_202104, ignore_index=True)\n",
        "\n",
        "label = country+\"_\"+period\n",
        "ChinaUSA_202103_202104.to_csv(label+\".csv\", index=False)\n",
        "files.download(label+\".csv\")"
      ],
      "metadata": {
        "outputId": "da8f1710-93ea-4b68-c82e-adce9fc29667",
        "colab": {
          "base_uri": "https://localhost:8080/",
          "height": 17
        },
        "id": "glSPsYcwxo_0"
      },
      "execution_count": 183,
      "outputs": [
        {
          "output_type": "display_data",
          "data": {
            "application/javascript": [
              "\n",
              "    async function download(id, filename, size) {\n",
              "      if (!google.colab.kernel.accessAllowed) {\n",
              "        return;\n",
              "      }\n",
              "      const div = document.createElement('div');\n",
              "      const label = document.createElement('label');\n",
              "      label.textContent = `Downloading \"${filename}\": `;\n",
              "      div.appendChild(label);\n",
              "      const progress = document.createElement('progress');\n",
              "      progress.max = size;\n",
              "      div.appendChild(progress);\n",
              "      document.body.appendChild(div);\n",
              "\n",
              "      const buffers = [];\n",
              "      let downloaded = 0;\n",
              "\n",
              "      const channel = await google.colab.kernel.comms.open(id);\n",
              "      // Send a message to notify the kernel that we're ready.\n",
              "      channel.send({})\n",
              "\n",
              "      for await (const message of channel.messages) {\n",
              "        // Send a message to notify the kernel that we're ready.\n",
              "        channel.send({})\n",
              "        if (message.buffers) {\n",
              "          for (const buffer of message.buffers) {\n",
              "            buffers.push(buffer);\n",
              "            downloaded += buffer.byteLength;\n",
              "            progress.value = downloaded;\n",
              "          }\n",
              "        }\n",
              "      }\n",
              "      const blob = new Blob(buffers, {type: 'application/binary'});\n",
              "      const a = document.createElement('a');\n",
              "      a.href = window.URL.createObjectURL(blob);\n",
              "      a.download = filename;\n",
              "      div.appendChild(a);\n",
              "      a.click();\n",
              "      div.remove();\n",
              "    }\n",
              "  "
            ],
            "text/plain": [
              "<IPython.core.display.Javascript object>"
            ]
          },
          "metadata": {}
        },
        {
          "output_type": "display_data",
          "data": {
            "application/javascript": [
              "download(\"download_a88bf5bf-9e5e-4598-8958-49a0b6d73b5b\", \"China&USA_MarchApril2021.csv\", 26291118)"
            ],
            "text/plain": [
              "<IPython.core.display.Javascript object>"
            ]
          },
          "metadata": {}
        }
      ]
    },
    {
      "cell_type": "markdown",
      "source": [
        "## Accounts: MarchApril2021"
      ],
      "metadata": {
        "id": "K0vJWtgLJSod"
      }
    },
    {
      "cell_type": "code",
      "source": [
        "period = \"MarchApril2021\""
      ],
      "metadata": {
        "id": "kg8vZLKId9U0"
      },
      "execution_count": 158,
      "outputs": []
    },
    {
      "cell_type": "code",
      "source": [
        "account = \"AJ\"\n",
        "\n",
        "AJ_202103_202104=pd.read_csv('/content/AJEnglish_WHO_202103170000_202104170000.csv')\n",
        "AJ_202103_202104 = AJ_202103_202104.append(pd.read_csv('/content/AJEnglish_covid_202103170000_202104170000.csv'),\n",
        "                                           ignore_index=True)\n",
        "AJ_202103_202104 = AJ_202103_202104.append(pd.read_csv('/content/AJEnglish_vaccine_202103170000_202104170000.csv'),\n",
        "                                           ignore_index=True)\n",
        "\n",
        "label = account+\"_\"+period\n",
        "AJ_202103_202104.to_csv(label+\".csv\", index=False)\n",
        "files.download(label+\".csv\")"
      ],
      "metadata": {
        "colab": {
          "base_uri": "https://localhost:8080/",
          "height": 0
        },
        "id": "Xm-DZ9vdEiKh",
        "outputId": "02cf1182-7b59-4706-fd3f-975ea259934a"
      },
      "execution_count": 159,
      "outputs": [
        {
          "output_type": "display_data",
          "data": {
            "application/javascript": [
              "\n",
              "    async function download(id, filename, size) {\n",
              "      if (!google.colab.kernel.accessAllowed) {\n",
              "        return;\n",
              "      }\n",
              "      const div = document.createElement('div');\n",
              "      const label = document.createElement('label');\n",
              "      label.textContent = `Downloading \"${filename}\": `;\n",
              "      div.appendChild(label);\n",
              "      const progress = document.createElement('progress');\n",
              "      progress.max = size;\n",
              "      div.appendChild(progress);\n",
              "      document.body.appendChild(div);\n",
              "\n",
              "      const buffers = [];\n",
              "      let downloaded = 0;\n",
              "\n",
              "      const channel = await google.colab.kernel.comms.open(id);\n",
              "      // Send a message to notify the kernel that we're ready.\n",
              "      channel.send({})\n",
              "\n",
              "      for await (const message of channel.messages) {\n",
              "        // Send a message to notify the kernel that we're ready.\n",
              "        channel.send({})\n",
              "        if (message.buffers) {\n",
              "          for (const buffer of message.buffers) {\n",
              "            buffers.push(buffer);\n",
              "            downloaded += buffer.byteLength;\n",
              "            progress.value = downloaded;\n",
              "          }\n",
              "        }\n",
              "      }\n",
              "      const blob = new Blob(buffers, {type: 'application/binary'});\n",
              "      const a = document.createElement('a');\n",
              "      a.href = window.URL.createObjectURL(blob);\n",
              "      a.download = filename;\n",
              "      div.appendChild(a);\n",
              "      a.click();\n",
              "      div.remove();\n",
              "    }\n",
              "  "
            ],
            "text/plain": [
              "<IPython.core.display.Javascript object>"
            ]
          },
          "metadata": {}
        },
        {
          "output_type": "display_data",
          "data": {
            "application/javascript": [
              "download(\"download_98743d1f-b764-4535-97a5-0ec97b85b003\", \"AJ_MarchApril2021.csv\", 2594416)"
            ],
            "text/plain": [
              "<IPython.core.display.Javascript object>"
            ]
          },
          "metadata": {}
        }
      ]
    },
    {
      "cell_type": "code",
      "source": [
        "account = \"AP\"\n",
        "\n",
        "AP_202103_202104=pd.read_csv('/content/AP_WHO_202103170000_202104170000.csv')\n",
        "AP_202103_202104 = AP_202103_202104.append(pd.read_csv('/content/AP_covid_202103170000_202104170000.csv'),\n",
        "                                           ignore_index=True)\n",
        "AP_202103_202104 = AP_202103_202104.append(pd.read_csv('/content/AP_vaccine_202103170000_202104170000.csv'),\n",
        "                                           ignore_index=True)\n",
        "\n",
        "label = account+\"_\"+period\n",
        "AP_202103_202104.to_csv(label+\".csv\", index=False)\n",
        "files.download(label+\".csv\")"
      ],
      "metadata": {
        "colab": {
          "base_uri": "https://localhost:8080/",
          "height": 0
        },
        "id": "XuzvZjU9N0NC",
        "outputId": "cd055592-be46-4584-d678-318561976e16"
      },
      "execution_count": 160,
      "outputs": [
        {
          "output_type": "display_data",
          "data": {
            "application/javascript": [
              "\n",
              "    async function download(id, filename, size) {\n",
              "      if (!google.colab.kernel.accessAllowed) {\n",
              "        return;\n",
              "      }\n",
              "      const div = document.createElement('div');\n",
              "      const label = document.createElement('label');\n",
              "      label.textContent = `Downloading \"${filename}\": `;\n",
              "      div.appendChild(label);\n",
              "      const progress = document.createElement('progress');\n",
              "      progress.max = size;\n",
              "      div.appendChild(progress);\n",
              "      document.body.appendChild(div);\n",
              "\n",
              "      const buffers = [];\n",
              "      let downloaded = 0;\n",
              "\n",
              "      const channel = await google.colab.kernel.comms.open(id);\n",
              "      // Send a message to notify the kernel that we're ready.\n",
              "      channel.send({})\n",
              "\n",
              "      for await (const message of channel.messages) {\n",
              "        // Send a message to notify the kernel that we're ready.\n",
              "        channel.send({})\n",
              "        if (message.buffers) {\n",
              "          for (const buffer of message.buffers) {\n",
              "            buffers.push(buffer);\n",
              "            downloaded += buffer.byteLength;\n",
              "            progress.value = downloaded;\n",
              "          }\n",
              "        }\n",
              "      }\n",
              "      const blob = new Blob(buffers, {type: 'application/binary'});\n",
              "      const a = document.createElement('a');\n",
              "      a.href = window.URL.createObjectURL(blob);\n",
              "      a.download = filename;\n",
              "      div.appendChild(a);\n",
              "      a.click();\n",
              "      div.remove();\n",
              "    }\n",
              "  "
            ],
            "text/plain": [
              "<IPython.core.display.Javascript object>"
            ]
          },
          "metadata": {}
        },
        {
          "output_type": "display_data",
          "data": {
            "application/javascript": [
              "download(\"download_05ed4e11-ef8f-4183-942e-1ace4246ca03\", \"AP_MarchApril2021.csv\", 1828461)"
            ],
            "text/plain": [
              "<IPython.core.display.Javascript object>"
            ]
          },
          "metadata": {}
        }
      ]
    },
    {
      "cell_type": "code",
      "source": [
        "account = \"BBC\"\n",
        "\n",
        "BBC_202103_202104=pd.read_csv('/content/BBCWorld_WHO_202103170000_202104170000.csv')\n",
        "BBC_202103_202104 = BBC_202103_202104.append(pd.read_csv('/content/BBCWorld_covid_202103170000_202104170000.csv'),\n",
        "                                           ignore_index=True)\n",
        "BBC_202103_202104 = BBC_202103_202104.append(pd.read_csv('/content/BBCWorld_vaccine_202103170000_202104170000.csv'),\n",
        "                                           ignore_index=True)\n",
        "\n",
        "label = account+\"_\"+period\n",
        "BBC_202103_202104.to_csv(label+\".csv\", index=False)\n",
        "files.download(label+\".csv\")"
      ],
      "metadata": {
        "colab": {
          "base_uri": "https://localhost:8080/",
          "height": 0
        },
        "id": "224895S8P9V0",
        "outputId": "3333d3f3-daa4-415b-a9a1-e1a92958bbe4"
      },
      "execution_count": 161,
      "outputs": [
        {
          "output_type": "display_data",
          "data": {
            "application/javascript": [
              "\n",
              "    async function download(id, filename, size) {\n",
              "      if (!google.colab.kernel.accessAllowed) {\n",
              "        return;\n",
              "      }\n",
              "      const div = document.createElement('div');\n",
              "      const label = document.createElement('label');\n",
              "      label.textContent = `Downloading \"${filename}\": `;\n",
              "      div.appendChild(label);\n",
              "      const progress = document.createElement('progress');\n",
              "      progress.max = size;\n",
              "      div.appendChild(progress);\n",
              "      document.body.appendChild(div);\n",
              "\n",
              "      const buffers = [];\n",
              "      let downloaded = 0;\n",
              "\n",
              "      const channel = await google.colab.kernel.comms.open(id);\n",
              "      // Send a message to notify the kernel that we're ready.\n",
              "      channel.send({})\n",
              "\n",
              "      for await (const message of channel.messages) {\n",
              "        // Send a message to notify the kernel that we're ready.\n",
              "        channel.send({})\n",
              "        if (message.buffers) {\n",
              "          for (const buffer of message.buffers) {\n",
              "            buffers.push(buffer);\n",
              "            downloaded += buffer.byteLength;\n",
              "            progress.value = downloaded;\n",
              "          }\n",
              "        }\n",
              "      }\n",
              "      const blob = new Blob(buffers, {type: 'application/binary'});\n",
              "      const a = document.createElement('a');\n",
              "      a.href = window.URL.createObjectURL(blob);\n",
              "      a.download = filename;\n",
              "      div.appendChild(a);\n",
              "      a.click();\n",
              "      div.remove();\n",
              "    }\n",
              "  "
            ],
            "text/plain": [
              "<IPython.core.display.Javascript object>"
            ]
          },
          "metadata": {}
        },
        {
          "output_type": "display_data",
          "data": {
            "application/javascript": [
              "download(\"download_c2c0afe9-6d17-46c8-b4e6-3530bb4ed149\", \"BBC_MarchApril2021.csv\", 1041780)"
            ],
            "text/plain": [
              "<IPython.core.display.Javascript object>"
            ]
          },
          "metadata": {}
        }
      ]
    },
    {
      "cell_type": "code",
      "source": [
        "account = \"CGTN\"\n",
        "\n",
        "CGTN_202103_202104=pd.read_csv('/content/CGTNOfficial_WHO_202103170000_202104170000.csv')\n",
        "CGTN_202103_202104 = CGTN_202103_202104.append(pd.read_csv('/content/CGTNOfficial_covid_202103170000_202104170000.csv'),\n",
        "                                           ignore_index=True)\n",
        "CGTN_202103_202104 = CGTN_202103_202104.append(pd.read_csv('/content/CGTNOfficial_vaccine_202103170000_202104170000.csv'),\n",
        "                                           ignore_index=True)\n",
        "\n",
        "label = account+\"_\"+period\n",
        "CGTN_202103_202104.to_csv(label+\".csv\", index=False)\n",
        "files.download(label+\".csv\")"
      ],
      "metadata": {
        "colab": {
          "base_uri": "https://localhost:8080/",
          "height": 0
        },
        "id": "SzRd5U8AR92G",
        "outputId": "ccd9a0b6-0325-42ae-c26a-822557420705"
      },
      "execution_count": 162,
      "outputs": [
        {
          "output_type": "display_data",
          "data": {
            "application/javascript": [
              "\n",
              "    async function download(id, filename, size) {\n",
              "      if (!google.colab.kernel.accessAllowed) {\n",
              "        return;\n",
              "      }\n",
              "      const div = document.createElement('div');\n",
              "      const label = document.createElement('label');\n",
              "      label.textContent = `Downloading \"${filename}\": `;\n",
              "      div.appendChild(label);\n",
              "      const progress = document.createElement('progress');\n",
              "      progress.max = size;\n",
              "      div.appendChild(progress);\n",
              "      document.body.appendChild(div);\n",
              "\n",
              "      const buffers = [];\n",
              "      let downloaded = 0;\n",
              "\n",
              "      const channel = await google.colab.kernel.comms.open(id);\n",
              "      // Send a message to notify the kernel that we're ready.\n",
              "      channel.send({})\n",
              "\n",
              "      for await (const message of channel.messages) {\n",
              "        // Send a message to notify the kernel that we're ready.\n",
              "        channel.send({})\n",
              "        if (message.buffers) {\n",
              "          for (const buffer of message.buffers) {\n",
              "            buffers.push(buffer);\n",
              "            downloaded += buffer.byteLength;\n",
              "            progress.value = downloaded;\n",
              "          }\n",
              "        }\n",
              "      }\n",
              "      const blob = new Blob(buffers, {type: 'application/binary'});\n",
              "      const a = document.createElement('a');\n",
              "      a.href = window.URL.createObjectURL(blob);\n",
              "      a.download = filename;\n",
              "      div.appendChild(a);\n",
              "      a.click();\n",
              "      div.remove();\n",
              "    }\n",
              "  "
            ],
            "text/plain": [
              "<IPython.core.display.Javascript object>"
            ]
          },
          "metadata": {}
        },
        {
          "output_type": "display_data",
          "data": {
            "application/javascript": [
              "download(\"download_1c120c52-5328-4016-9b3e-4adc8123e752\", \"CGTN_MarchApril2021.csv\", 4745106)"
            ],
            "text/plain": [
              "<IPython.core.display.Javascript object>"
            ]
          },
          "metadata": {}
        }
      ]
    },
    {
      "cell_type": "code",
      "source": [
        "account = \"CNN\"\n",
        "\n",
        "CNN_202103_202104=pd.read_csv('/content/CNN_WHO_202103170000_202104170000.csv')\n",
        "CNN_202103_202104 = CNN_202103_202104.append(pd.read_csv('/content/CNN_covid_202103170000_202104170000.csv'),\n",
        "                                           ignore_index=True)\n",
        "CNN_202103_202104 = CNN_202103_202104.append(pd.read_csv('/content/CNN_vaccine_202103170000_202104170000.csv'),\n",
        "                                           ignore_index=True)\n",
        "\n",
        "label = account+\"_\"+period\n",
        "CNN_202103_202104.to_csv(label+\".csv\", index=False)\n",
        "files.download(label+\".csv\")"
      ],
      "metadata": {
        "colab": {
          "base_uri": "https://localhost:8080/",
          "height": 0
        },
        "id": "v7iorBisUr7_",
        "outputId": "2afdfcb1-8516-4d49-d2fa-4cdaed339f06"
      },
      "execution_count": 163,
      "outputs": [
        {
          "output_type": "display_data",
          "data": {
            "application/javascript": [
              "\n",
              "    async function download(id, filename, size) {\n",
              "      if (!google.colab.kernel.accessAllowed) {\n",
              "        return;\n",
              "      }\n",
              "      const div = document.createElement('div');\n",
              "      const label = document.createElement('label');\n",
              "      label.textContent = `Downloading \"${filename}\": `;\n",
              "      div.appendChild(label);\n",
              "      const progress = document.createElement('progress');\n",
              "      progress.max = size;\n",
              "      div.appendChild(progress);\n",
              "      document.body.appendChild(div);\n",
              "\n",
              "      const buffers = [];\n",
              "      let downloaded = 0;\n",
              "\n",
              "      const channel = await google.colab.kernel.comms.open(id);\n",
              "      // Send a message to notify the kernel that we're ready.\n",
              "      channel.send({})\n",
              "\n",
              "      for await (const message of channel.messages) {\n",
              "        // Send a message to notify the kernel that we're ready.\n",
              "        channel.send({})\n",
              "        if (message.buffers) {\n",
              "          for (const buffer of message.buffers) {\n",
              "            buffers.push(buffer);\n",
              "            downloaded += buffer.byteLength;\n",
              "            progress.value = downloaded;\n",
              "          }\n",
              "        }\n",
              "      }\n",
              "      const blob = new Blob(buffers, {type: 'application/binary'});\n",
              "      const a = document.createElement('a');\n",
              "      a.href = window.URL.createObjectURL(blob);\n",
              "      a.download = filename;\n",
              "      div.appendChild(a);\n",
              "      a.click();\n",
              "      div.remove();\n",
              "    }\n",
              "  "
            ],
            "text/plain": [
              "<IPython.core.display.Javascript object>"
            ]
          },
          "metadata": {}
        },
        {
          "output_type": "display_data",
          "data": {
            "application/javascript": [
              "download(\"download_802780fb-c50d-4f23-84cc-9ad8082ed0ac\", \"CNN_MarchApril2021.csv\", 2348678)"
            ],
            "text/plain": [
              "<IPython.core.display.Javascript object>"
            ]
          },
          "metadata": {}
        }
      ]
    },
    {
      "cell_type": "code",
      "source": [
        "account = \"R\"\n",
        "\n",
        "R_202103_202104=pd.read_csv('/content/Reuters_WHO_202103170000_202104170000.csv')\n",
        "R_202103_202104 = R_202103_202104.append(pd.read_csv('/content/Reuters_covid_202103170000_202104170000.csv'),\n",
        "                                           ignore_index=True)\n",
        "R_202103_202104 = R_202103_202104.append(pd.read_csv('/content/Reuters_vaccine_202103170000_202104170000.csv'),\n",
        "                                           ignore_index=True)\n",
        "\n",
        "label = account+\"_\"+period\n",
        "R_202103_202104.to_csv(label+\".csv\", index=False)\n",
        "files.download(label+\".csv\")"
      ],
      "metadata": {
        "colab": {
          "base_uri": "https://localhost:8080/",
          "height": 0
        },
        "id": "DFcDFMoOV3NM",
        "outputId": "41945405-a59a-484f-e087-77528c0f66d1"
      },
      "execution_count": 164,
      "outputs": [
        {
          "output_type": "display_data",
          "data": {
            "application/javascript": [
              "\n",
              "    async function download(id, filename, size) {\n",
              "      if (!google.colab.kernel.accessAllowed) {\n",
              "        return;\n",
              "      }\n",
              "      const div = document.createElement('div');\n",
              "      const label = document.createElement('label');\n",
              "      label.textContent = `Downloading \"${filename}\": `;\n",
              "      div.appendChild(label);\n",
              "      const progress = document.createElement('progress');\n",
              "      progress.max = size;\n",
              "      div.appendChild(progress);\n",
              "      document.body.appendChild(div);\n",
              "\n",
              "      const buffers = [];\n",
              "      let downloaded = 0;\n",
              "\n",
              "      const channel = await google.colab.kernel.comms.open(id);\n",
              "      // Send a message to notify the kernel that we're ready.\n",
              "      channel.send({})\n",
              "\n",
              "      for await (const message of channel.messages) {\n",
              "        // Send a message to notify the kernel that we're ready.\n",
              "        channel.send({})\n",
              "        if (message.buffers) {\n",
              "          for (const buffer of message.buffers) {\n",
              "            buffers.push(buffer);\n",
              "            downloaded += buffer.byteLength;\n",
              "            progress.value = downloaded;\n",
              "          }\n",
              "        }\n",
              "      }\n",
              "      const blob = new Blob(buffers, {type: 'application/binary'});\n",
              "      const a = document.createElement('a');\n",
              "      a.href = window.URL.createObjectURL(blob);\n",
              "      a.download = filename;\n",
              "      div.appendChild(a);\n",
              "      a.click();\n",
              "      div.remove();\n",
              "    }\n",
              "  "
            ],
            "text/plain": [
              "<IPython.core.display.Javascript object>"
            ]
          },
          "metadata": {}
        },
        {
          "output_type": "display_data",
          "data": {
            "application/javascript": [
              "download(\"download_1142fa0e-cae0-4eeb-8c2e-e8d19ec3c1b2\", \"R_MarchApril2021.csv\", 10937418)"
            ],
            "text/plain": [
              "<IPython.core.display.Javascript object>"
            ]
          },
          "metadata": {}
        }
      ]
    },
    {
      "cell_type": "code",
      "source": [
        "account = \"XHN\"\n",
        "\n",
        "XHN_202103_202104=pd.read_csv('/content/XHNews_WHO_202103170000_202104170000.csv')\n",
        "XHN_202103_202104 = XHN_202103_202104.append(pd.read_csv('/content/XHNews_covid_202103170000_202104170000.csv'),\n",
        "                                           ignore_index=True)\n",
        "XHN_202103_202104 = XHN_202103_202104.append(pd.read_csv('/content/XHNews_vaccine_202103170000_202104170000.csv'),\n",
        "                                           ignore_index=True)\n",
        "\n",
        "label = account+\"_\"+period\n",
        "XHN_202103_202104.to_csv(label+\".csv\", index=False)\n",
        "files.download(label+\".csv\")"
      ],
      "metadata": {
        "colab": {
          "base_uri": "https://localhost:8080/",
          "height": 0
        },
        "id": "v_DdKq4_V_-T",
        "outputId": "110325a7-8bad-4c1b-bd3e-fc5f8d4eeb7b"
      },
      "execution_count": 165,
      "outputs": [
        {
          "output_type": "display_data",
          "data": {
            "application/javascript": [
              "\n",
              "    async function download(id, filename, size) {\n",
              "      if (!google.colab.kernel.accessAllowed) {\n",
              "        return;\n",
              "      }\n",
              "      const div = document.createElement('div');\n",
              "      const label = document.createElement('label');\n",
              "      label.textContent = `Downloading \"${filename}\": `;\n",
              "      div.appendChild(label);\n",
              "      const progress = document.createElement('progress');\n",
              "      progress.max = size;\n",
              "      div.appendChild(progress);\n",
              "      document.body.appendChild(div);\n",
              "\n",
              "      const buffers = [];\n",
              "      let downloaded = 0;\n",
              "\n",
              "      const channel = await google.colab.kernel.comms.open(id);\n",
              "      // Send a message to notify the kernel that we're ready.\n",
              "      channel.send({})\n",
              "\n",
              "      for await (const message of channel.messages) {\n",
              "        // Send a message to notify the kernel that we're ready.\n",
              "        channel.send({})\n",
              "        if (message.buffers) {\n",
              "          for (const buffer of message.buffers) {\n",
              "            buffers.push(buffer);\n",
              "            downloaded += buffer.byteLength;\n",
              "            progress.value = downloaded;\n",
              "          }\n",
              "        }\n",
              "      }\n",
              "      const blob = new Blob(buffers, {type: 'application/binary'});\n",
              "      const a = document.createElement('a');\n",
              "      a.href = window.URL.createObjectURL(blob);\n",
              "      a.download = filename;\n",
              "      div.appendChild(a);\n",
              "      a.click();\n",
              "      div.remove();\n",
              "    }\n",
              "  "
            ],
            "text/plain": [
              "<IPython.core.display.Javascript object>"
            ]
          },
          "metadata": {}
        },
        {
          "output_type": "display_data",
          "data": {
            "application/javascript": [
              "download(\"download_36f30424-f552-474f-834e-967abb2a1cc8\", \"XHN_MarchApril2021.csv\", 2771235)"
            ],
            "text/plain": [
              "<IPython.core.display.Javascript object>"
            ]
          },
          "metadata": {}
        }
      ]
    },
    {
      "cell_type": "markdown",
      "source": [
        "# All"
      ],
      "metadata": {
        "id": "oC1mZhSQy0dO"
      }
    },
    {
      "cell_type": "markdown",
      "source": [
        "## USA: all"
      ],
      "metadata": {
        "id": "1ryXnRxknhQj"
      }
    },
    {
      "cell_type": "code",
      "source": [
        "country = \"USA\"\n",
        "\n",
        "USA = USA_202001_202002.append(USA_202009_202010, ignore_index=True)\n",
        "USA = USA.append(USA_202103_202104, ignore_index=True)\n",
        "\n",
        "USA.to_csv(country+\".csv\", index=False)\n",
        "files.download(country+\".csv\")"
      ],
      "metadata": {
        "id": "0Xs2OQGasZIz",
        "outputId": "579a0fac-81d9-462f-cd45-d982131d2d52",
        "colab": {
          "base_uri": "https://localhost:8080/",
          "height": 17
        }
      },
      "execution_count": 189,
      "outputs": [
        {
          "output_type": "display_data",
          "data": {
            "application/javascript": [
              "\n",
              "    async function download(id, filename, size) {\n",
              "      if (!google.colab.kernel.accessAllowed) {\n",
              "        return;\n",
              "      }\n",
              "      const div = document.createElement('div');\n",
              "      const label = document.createElement('label');\n",
              "      label.textContent = `Downloading \"${filename}\": `;\n",
              "      div.appendChild(label);\n",
              "      const progress = document.createElement('progress');\n",
              "      progress.max = size;\n",
              "      div.appendChild(progress);\n",
              "      document.body.appendChild(div);\n",
              "\n",
              "      const buffers = [];\n",
              "      let downloaded = 0;\n",
              "\n",
              "      const channel = await google.colab.kernel.comms.open(id);\n",
              "      // Send a message to notify the kernel that we're ready.\n",
              "      channel.send({})\n",
              "\n",
              "      for await (const message of channel.messages) {\n",
              "        // Send a message to notify the kernel that we're ready.\n",
              "        channel.send({})\n",
              "        if (message.buffers) {\n",
              "          for (const buffer of message.buffers) {\n",
              "            buffers.push(buffer);\n",
              "            downloaded += buffer.byteLength;\n",
              "            progress.value = downloaded;\n",
              "          }\n",
              "        }\n",
              "      }\n",
              "      const blob = new Blob(buffers, {type: 'application/binary'});\n",
              "      const a = document.createElement('a');\n",
              "      a.href = window.URL.createObjectURL(blob);\n",
              "      a.download = filename;\n",
              "      div.appendChild(a);\n",
              "      a.click();\n",
              "      div.remove();\n",
              "    }\n",
              "  "
            ],
            "text/plain": [
              "<IPython.core.display.Javascript object>"
            ]
          },
          "metadata": {}
        },
        {
          "output_type": "display_data",
          "data": {
            "application/javascript": [
              "download(\"download_55eb76fd-1900-4884-a655-6b87c6a7e381\", \"USA.csv\", 76904456)"
            ],
            "text/plain": [
              "<IPython.core.display.Javascript object>"
            ]
          },
          "metadata": {}
        }
      ]
    },
    {
      "cell_type": "markdown",
      "source": [
        "## China: all"
      ],
      "metadata": {
        "id": "VMKLUrc4nkbv"
      }
    },
    {
      "cell_type": "code",
      "source": [
        "country = \"China\"\n",
        "\n",
        "China = China_202001_202002.append(China_202009_202010, ignore_index=True)\n",
        "China = China.append(USA_202103_202104, ignore_index=True)\n",
        "\n",
        "China.to_csv(country+\".csv\", index=False)\n",
        "files.download(country+\".csv\")"
      ],
      "metadata": {
        "id": "hS7oyQkrvBOI",
        "outputId": "e1209d5a-3079-49c9-d623-8092c59d52a9",
        "colab": {
          "base_uri": "https://localhost:8080/",
          "height": 17
        }
      },
      "execution_count": 190,
      "outputs": [
        {
          "output_type": "display_data",
          "data": {
            "application/javascript": [
              "\n",
              "    async function download(id, filename, size) {\n",
              "      if (!google.colab.kernel.accessAllowed) {\n",
              "        return;\n",
              "      }\n",
              "      const div = document.createElement('div');\n",
              "      const label = document.createElement('label');\n",
              "      label.textContent = `Downloading \"${filename}\": `;\n",
              "      div.appendChild(label);\n",
              "      const progress = document.createElement('progress');\n",
              "      progress.max = size;\n",
              "      div.appendChild(progress);\n",
              "      document.body.appendChild(div);\n",
              "\n",
              "      const buffers = [];\n",
              "      let downloaded = 0;\n",
              "\n",
              "      const channel = await google.colab.kernel.comms.open(id);\n",
              "      // Send a message to notify the kernel that we're ready.\n",
              "      channel.send({})\n",
              "\n",
              "      for await (const message of channel.messages) {\n",
              "        // Send a message to notify the kernel that we're ready.\n",
              "        channel.send({})\n",
              "        if (message.buffers) {\n",
              "          for (const buffer of message.buffers) {\n",
              "            buffers.push(buffer);\n",
              "            downloaded += buffer.byteLength;\n",
              "            progress.value = downloaded;\n",
              "          }\n",
              "        }\n",
              "      }\n",
              "      const blob = new Blob(buffers, {type: 'application/binary'});\n",
              "      const a = document.createElement('a');\n",
              "      a.href = window.URL.createObjectURL(blob);\n",
              "      a.download = filename;\n",
              "      div.appendChild(a);\n",
              "      a.click();\n",
              "      div.remove();\n",
              "    }\n",
              "  "
            ],
            "text/plain": [
              "<IPython.core.display.Javascript object>"
            ]
          },
          "metadata": {}
        },
        {
          "output_type": "display_data",
          "data": {
            "application/javascript": [
              "download(\"download_3ee0b696-9018-438f-bc3c-94c8ad700de4\", \"China.csv\", 57923321)"
            ],
            "text/plain": [
              "<IPython.core.display.Javascript object>"
            ]
          },
          "metadata": {}
        }
      ]
    },
    {
      "cell_type": "markdown",
      "source": [
        "## China and USA: all"
      ],
      "metadata": {
        "id": "1a63o_krn_fM"
      }
    },
    {
      "cell_type": "code",
      "source": [
        "country = \"China&USA\"\n",
        "\n",
        "ChinaUSA = China.append(USA, ignore_index=True)\n",
        "\n",
        "ChinaUSA.to_csv(country+\".csv\", index=False)\n",
        "files.download(country+\".csv\")"
      ],
      "metadata": {
        "id": "IpBlQiDPvPMq",
        "outputId": "f0c1e28d-5680-4eec-8a4f-f82ceb55cfc3",
        "colab": {
          "base_uri": "https://localhost:8080/",
          "height": 17
        }
      },
      "execution_count": 191,
      "outputs": [
        {
          "output_type": "display_data",
          "data": {
            "application/javascript": [
              "\n",
              "    async function download(id, filename, size) {\n",
              "      if (!google.colab.kernel.accessAllowed) {\n",
              "        return;\n",
              "      }\n",
              "      const div = document.createElement('div');\n",
              "      const label = document.createElement('label');\n",
              "      label.textContent = `Downloading \"${filename}\": `;\n",
              "      div.appendChild(label);\n",
              "      const progress = document.createElement('progress');\n",
              "      progress.max = size;\n",
              "      div.appendChild(progress);\n",
              "      document.body.appendChild(div);\n",
              "\n",
              "      const buffers = [];\n",
              "      let downloaded = 0;\n",
              "\n",
              "      const channel = await google.colab.kernel.comms.open(id);\n",
              "      // Send a message to notify the kernel that we're ready.\n",
              "      channel.send({})\n",
              "\n",
              "      for await (const message of channel.messages) {\n",
              "        // Send a message to notify the kernel that we're ready.\n",
              "        channel.send({})\n",
              "        if (message.buffers) {\n",
              "          for (const buffer of message.buffers) {\n",
              "            buffers.push(buffer);\n",
              "            downloaded += buffer.byteLength;\n",
              "            progress.value = downloaded;\n",
              "          }\n",
              "        }\n",
              "      }\n",
              "      const blob = new Blob(buffers, {type: 'application/binary'});\n",
              "      const a = document.createElement('a');\n",
              "      a.href = window.URL.createObjectURL(blob);\n",
              "      a.download = filename;\n",
              "      div.appendChild(a);\n",
              "      a.click();\n",
              "      div.remove();\n",
              "    }\n",
              "  "
            ],
            "text/plain": [
              "<IPython.core.display.Javascript object>"
            ]
          },
          "metadata": {}
        },
        {
          "output_type": "display_data",
          "data": {
            "application/javascript": [
              "download(\"download_e7abfa78-33d9-459b-84d8-f5711d24b96d\", \"China&USA.csv\", 134827276)"
            ],
            "text/plain": [
              "<IPython.core.display.Javascript object>"
            ]
          },
          "metadata": {}
        }
      ]
    }
  ]
}