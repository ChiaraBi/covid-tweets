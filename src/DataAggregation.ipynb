{
  "nbformat": 4,
  "nbformat_minor": 0,
  "metadata": {
    "colab": {
      "name": "DataAggregation.ipynb",
      "provenance": []
    },
    "kernelspec": {
      "name": "python3",
      "display_name": "Python 3"
    },
    "language_info": {
      "name": "python"
    }
  },
  "cells": [
    {
      "cell_type": "code",
      "execution_count": 26,
      "metadata": {
        "colab": {
          "base_uri": "https://localhost:8080/"
        },
        "id": "gerdfCjND8sE",
        "outputId": "af3c1d5c-32ad-4d07-a8d9-ec097511d95c"
      },
      "outputs": [
        {
          "output_type": "stream",
          "name": "stdout",
          "text": [
            "[nltk_data] Downloading package stopwords to /root/nltk_data...\n",
            "[nltk_data]   Package stopwords is already up-to-date!\n"
          ]
        },
        {
          "output_type": "execute_result",
          "data": {
            "text/plain": [
              "True"
            ]
          },
          "metadata": {},
          "execution_count": 26
        }
      ],
      "source": [
        "import os\n",
        "import requests \n",
        "import time\n",
        "import string\n",
        "import networkx as nx\n",
        "import itertools\n",
        "import networkx as nx\n",
        "import pandas as pd\n",
        "import json\n",
        "import re\n",
        "import math\n",
        "import numpy as np\n",
        "import matplotlib.pyplot as plt\n",
        "from sklearn.feature_extraction.text import TfidfVectorizer\n",
        "import nltk\n",
        "from nltk.corpus import stopwords\n",
        "from google.colab import files\n",
        "\n",
        "nltk.download('stopwords')"
      ]
    },
    {
      "cell_type": "markdown",
      "source": [
        "OUTSIDE CHINA:\n",
        "  * AJEnglish\n",
        "  * AP\n",
        "  * BBCWorld\n",
        "  * CNN\n",
        "  * Reuters\n",
        "\n",
        "INSIDE CHINA:\n",
        "  * CGTNOfficial\n",
        "  * XHNews"
      ],
      "metadata": {
        "id": "pws2bYCUo7aF"
      }
    },
    {
      "cell_type": "markdown",
      "source": [
        "# Clean WHO/who: already done, don't run"
      ],
      "metadata": {
        "id": "G5oT2EhJhGkl"
      }
    },
    {
      "cell_type": "code",
      "source": [
        "def who_clean(df):\n",
        "\n",
        "  for index in range(len(df)):\n",
        "    text = df.loc[index,\"extended_tweet\"]\n",
        "    if type(text) == float:  # if the text is nan\n",
        "      df.drop(index = index, inplace=True)\n",
        "    elif text.find(\"WHO\") == -1:\n",
        "        df.drop(index = index, inplace=True)\n",
        "\n",
        "  return df"
      ],
      "metadata": {
        "id": "va7HOozThGEM"
      },
      "execution_count": null,
      "outputs": []
    },
    {
      "cell_type": "code",
      "source": [
        "label = \"AP_WHO_202103170000_202104170000\"\n",
        "path = '/content/'+label+'.csv'\n",
        "df = pd.read_csv(path)\n",
        "df = who_clean(df)\n",
        "\n",
        "df.to_csv(label+\".csv\", index=False)\n",
        "files.download(label+\".csv\")"
      ],
      "metadata": {
        "id": "RfeTelKwj4VI"
      },
      "execution_count": null,
      "outputs": []
    },
    {
      "cell_type": "markdown",
      "source": [
        "Add two columns for:\n",
        "* account source\n",
        "* period"
      ],
      "metadata": {
        "id": "nSy7_l9dsFkZ"
      }
    },
    {
      "cell_type": "markdown",
      "source": [
        "# JanFeb2020"
      ],
      "metadata": {
        "id": "hv9IJ7TBzAvA"
      }
    },
    {
      "cell_type": "code",
      "source": [
        "period = \"JanFeb2020\""
      ],
      "metadata": {
        "id": "ik-1zi60bUgP"
      },
      "execution_count": 67,
      "outputs": []
    },
    {
      "cell_type": "markdown",
      "source": [
        "## Accounts: JanFeb2020"
      ],
      "metadata": {
        "id": "vjdySAeWJJmb"
      }
    },
    {
      "cell_type": "code",
      "source": [
        "account = \"AJ\"\n",
        "\n",
        "AJ_202001_202002=pd.read_csv('/content/AJEnglish_china_202001220000_202002220000.csv')\n",
        "AJ_202001_202002 = AJ_202001_202002.append(pd.read_csv('/content/AJEnglish_coronavirus_202001220000_202002220000.csv'),\n",
        "                                           ignore_index=True)\n",
        "AJ_202001_202002 = AJ_202001_202002.append(pd.read_csv('/content/AJEnglish_covid_202001220000_202002220000.csv'),\n",
        "                                           ignore_index=True)\n",
        "AJ_202001_202002 = AJ_202001_202002.append(pd.read_csv('/content/AJEnglish_wuhan_202001220000_202002220000.csv'),\n",
        "                                           ignore_index=True)\n",
        "AJ_202001_202002['account'] = 'AJ'\n",
        "AJ_202001_202002['period'] = period\n",
        "\n",
        "label = account+\"_\"+period\n",
        "AJ_202001_202002.to_csv(label+\".csv\", index=False)\n",
        "files.download(label+\".csv\")"
      ],
      "metadata": {
        "id": "X-anv-6PGf9L",
        "colab": {
          "base_uri": "https://localhost:8080/",
          "height": 17
        },
        "outputId": "702f7ee7-7bf0-4729-a441-d5882472e8ec"
      },
      "execution_count": 39,
      "outputs": [
        {
          "output_type": "display_data",
          "data": {
            "application/javascript": [
              "\n",
              "    async function download(id, filename, size) {\n",
              "      if (!google.colab.kernel.accessAllowed) {\n",
              "        return;\n",
              "      }\n",
              "      const div = document.createElement('div');\n",
              "      const label = document.createElement('label');\n",
              "      label.textContent = `Downloading \"${filename}\": `;\n",
              "      div.appendChild(label);\n",
              "      const progress = document.createElement('progress');\n",
              "      progress.max = size;\n",
              "      div.appendChild(progress);\n",
              "      document.body.appendChild(div);\n",
              "\n",
              "      const buffers = [];\n",
              "      let downloaded = 0;\n",
              "\n",
              "      const channel = await google.colab.kernel.comms.open(id);\n",
              "      // Send a message to notify the kernel that we're ready.\n",
              "      channel.send({})\n",
              "\n",
              "      for await (const message of channel.messages) {\n",
              "        // Send a message to notify the kernel that we're ready.\n",
              "        channel.send({})\n",
              "        if (message.buffers) {\n",
              "          for (const buffer of message.buffers) {\n",
              "            buffers.push(buffer);\n",
              "            downloaded += buffer.byteLength;\n",
              "            progress.value = downloaded;\n",
              "          }\n",
              "        }\n",
              "      }\n",
              "      const blob = new Blob(buffers, {type: 'application/binary'});\n",
              "      const a = document.createElement('a');\n",
              "      a.href = window.URL.createObjectURL(blob);\n",
              "      a.download = filename;\n",
              "      div.appendChild(a);\n",
              "      a.click();\n",
              "      div.remove();\n",
              "    }\n",
              "  "
            ],
            "text/plain": [
              "<IPython.core.display.Javascript object>"
            ]
          },
          "metadata": {}
        },
        {
          "output_type": "display_data",
          "data": {
            "application/javascript": [
              "download(\"download_a51b22ab-e628-45d6-a6c4-94ef5b75f476\", \"AJ_JanFeb2020.csv\", 2430383)"
            ],
            "text/plain": [
              "<IPython.core.display.Javascript object>"
            ]
          },
          "metadata": {}
        }
      ]
    },
    {
      "cell_type": "code",
      "source": [
        "account = \"AP\"\n",
        "\n",
        "AP_202001_202002=pd.read_csv('/content/AP_china_202001220000_202002220000.csv')\n",
        "AP_202001_202002 = AP_202001_202002.append(pd.read_csv('/content/AP_coronavirus_202001220000_202002220000.csv'),\n",
        "                                           ignore_index=True)\n",
        "AP_202001_202002 = AP_202001_202002.append(pd.read_csv('/content/AP_covid_202001220000_202002220000.csv'),\n",
        "                                           ignore_index=True)\n",
        "AP_202001_202002 = AP_202001_202002.append(pd.read_csv('/content/AP_wuhan_202001220000_202002220000.csv'),\n",
        "                                           ignore_index=True)\n",
        "AP_202001_202002['account'] = 'AP'\n",
        "AP_202001_202002['period'] = period\n",
        "\n",
        "label = account+\"_\"+period\n",
        "AP_202001_202002.to_csv(label+\".csv\", index=False)\n",
        "files.download(label+\".csv\")"
      ],
      "metadata": {
        "colab": {
          "base_uri": "https://localhost:8080/",
          "height": 17
        },
        "id": "kHlzLUM1KnXr",
        "outputId": "54885b48-7aaa-4b94-8eb3-b4eaf9dd683e"
      },
      "execution_count": 40,
      "outputs": [
        {
          "output_type": "display_data",
          "data": {
            "application/javascript": [
              "\n",
              "    async function download(id, filename, size) {\n",
              "      if (!google.colab.kernel.accessAllowed) {\n",
              "        return;\n",
              "      }\n",
              "      const div = document.createElement('div');\n",
              "      const label = document.createElement('label');\n",
              "      label.textContent = `Downloading \"${filename}\": `;\n",
              "      div.appendChild(label);\n",
              "      const progress = document.createElement('progress');\n",
              "      progress.max = size;\n",
              "      div.appendChild(progress);\n",
              "      document.body.appendChild(div);\n",
              "\n",
              "      const buffers = [];\n",
              "      let downloaded = 0;\n",
              "\n",
              "      const channel = await google.colab.kernel.comms.open(id);\n",
              "      // Send a message to notify the kernel that we're ready.\n",
              "      channel.send({})\n",
              "\n",
              "      for await (const message of channel.messages) {\n",
              "        // Send a message to notify the kernel that we're ready.\n",
              "        channel.send({})\n",
              "        if (message.buffers) {\n",
              "          for (const buffer of message.buffers) {\n",
              "            buffers.push(buffer);\n",
              "            downloaded += buffer.byteLength;\n",
              "            progress.value = downloaded;\n",
              "          }\n",
              "        }\n",
              "      }\n",
              "      const blob = new Blob(buffers, {type: 'application/binary'});\n",
              "      const a = document.createElement('a');\n",
              "      a.href = window.URL.createObjectURL(blob);\n",
              "      a.download = filename;\n",
              "      div.appendChild(a);\n",
              "      a.click();\n",
              "      div.remove();\n",
              "    }\n",
              "  "
            ],
            "text/plain": [
              "<IPython.core.display.Javascript object>"
            ]
          },
          "metadata": {}
        },
        {
          "output_type": "display_data",
          "data": {
            "application/javascript": [
              "download(\"download_9a379023-4177-40ec-b717-e8073a07442f\", \"AP_JanFeb2020.csv\", 667574)"
            ],
            "text/plain": [
              "<IPython.core.display.Javascript object>"
            ]
          },
          "metadata": {}
        }
      ]
    },
    {
      "cell_type": "code",
      "source": [
        "account = \"BBC\"\n",
        "\n",
        "BBC_202001_202002=pd.read_csv('/content/BBCWorld_china_202001220000_202002220000.csv')\n",
        "BBC_202001_202002 = BBC_202001_202002.append(pd.read_csv('/content/BBCWorld_coronavirus_202001220000_202002220000.csv'),\n",
        "                                           ignore_index=True)\n",
        "BBC_202001_202002 = BBC_202001_202002.append(pd.read_csv('/content/BBCWorld_covid_202001220000_202002220000.csv'),\n",
        "                                           ignore_index=True)\n",
        "BBC_202001_202002 = BBC_202001_202002.append(pd.read_csv('/content/BBCWorld_wuhan_202001220000_202002220000.csv'),\n",
        "                                           ignore_index=True)\n",
        "BBC_202001_202002['account'] = 'BBC'\n",
        "BBC_202001_202002['period'] = period\n",
        "\n",
        "label = account+\"_\"+period\n",
        "BBC_202001_202002.to_csv(label+\".csv\", index=False)\n",
        "files.download(label+\".csv\")"
      ],
      "metadata": {
        "id": "UmznPwfhONTt",
        "colab": {
          "base_uri": "https://localhost:8080/",
          "height": 17
        },
        "outputId": "a425b2c7-4fa5-4040-cd16-546f4d12df37"
      },
      "execution_count": 41,
      "outputs": [
        {
          "output_type": "display_data",
          "data": {
            "application/javascript": [
              "\n",
              "    async function download(id, filename, size) {\n",
              "      if (!google.colab.kernel.accessAllowed) {\n",
              "        return;\n",
              "      }\n",
              "      const div = document.createElement('div');\n",
              "      const label = document.createElement('label');\n",
              "      label.textContent = `Downloading \"${filename}\": `;\n",
              "      div.appendChild(label);\n",
              "      const progress = document.createElement('progress');\n",
              "      progress.max = size;\n",
              "      div.appendChild(progress);\n",
              "      document.body.appendChild(div);\n",
              "\n",
              "      const buffers = [];\n",
              "      let downloaded = 0;\n",
              "\n",
              "      const channel = await google.colab.kernel.comms.open(id);\n",
              "      // Send a message to notify the kernel that we're ready.\n",
              "      channel.send({})\n",
              "\n",
              "      for await (const message of channel.messages) {\n",
              "        // Send a message to notify the kernel that we're ready.\n",
              "        channel.send({})\n",
              "        if (message.buffers) {\n",
              "          for (const buffer of message.buffers) {\n",
              "            buffers.push(buffer);\n",
              "            downloaded += buffer.byteLength;\n",
              "            progress.value = downloaded;\n",
              "          }\n",
              "        }\n",
              "      }\n",
              "      const blob = new Blob(buffers, {type: 'application/binary'});\n",
              "      const a = document.createElement('a');\n",
              "      a.href = window.URL.createObjectURL(blob);\n",
              "      a.download = filename;\n",
              "      div.appendChild(a);\n",
              "      a.click();\n",
              "      div.remove();\n",
              "    }\n",
              "  "
            ],
            "text/plain": [
              "<IPython.core.display.Javascript object>"
            ]
          },
          "metadata": {}
        },
        {
          "output_type": "display_data",
          "data": {
            "application/javascript": [
              "download(\"download_15a3d70d-574f-4a34-9905-7f8f60701c17\", \"BBC_JanFeb2020.csv\", 1098027)"
            ],
            "text/plain": [
              "<IPython.core.display.Javascript object>"
            ]
          },
          "metadata": {}
        }
      ]
    },
    {
      "cell_type": "code",
      "source": [
        "account = \"CGTN\"\n",
        "\n",
        "CGTN_202001_202002=pd.read_csv('/content/CGTNOfficial_China_202001220000_202002220000.csv')\n",
        "CGTN_202001_202002 = CGTN_202001_202002.append(pd.read_csv('/content/CGTNOfficial_Coronavirus_202001220000_202002220000.csv'),\n",
        "                                           ignore_index=True)\n",
        "CGTN_202001_202002 = CGTN_202001_202002.append(pd.read_csv('/content/CGTNOfficial_covid_202001220000_202002220000.csv'),\n",
        "                                           ignore_index=True)\n",
        "CGTN_202001_202002 = CGTN_202001_202002.append(pd.read_csv('/content/CGTNOfficial_Wuhan_202001220000_202002220000.csv'),\n",
        "                                           ignore_index=True)\n",
        "CGTN_202001_202002['account'] = 'CGTN'\n",
        "CGTN_202001_202002['period'] = period\n",
        "\n",
        "label = account+\"_\"+period\n",
        "CGTN_202001_202002.to_csv(label+\".csv\", index=False)\n",
        "files.download(label+\".csv\")"
      ],
      "metadata": {
        "id": "ohkhlswqQhhL",
        "colab": {
          "base_uri": "https://localhost:8080/",
          "height": 17
        },
        "outputId": "c3e7f2c6-3003-4a25-a4f2-9519b72a5013"
      },
      "execution_count": 42,
      "outputs": [
        {
          "output_type": "display_data",
          "data": {
            "application/javascript": [
              "\n",
              "    async function download(id, filename, size) {\n",
              "      if (!google.colab.kernel.accessAllowed) {\n",
              "        return;\n",
              "      }\n",
              "      const div = document.createElement('div');\n",
              "      const label = document.createElement('label');\n",
              "      label.textContent = `Downloading \"${filename}\": `;\n",
              "      div.appendChild(label);\n",
              "      const progress = document.createElement('progress');\n",
              "      progress.max = size;\n",
              "      div.appendChild(progress);\n",
              "      document.body.appendChild(div);\n",
              "\n",
              "      const buffers = [];\n",
              "      let downloaded = 0;\n",
              "\n",
              "      const channel = await google.colab.kernel.comms.open(id);\n",
              "      // Send a message to notify the kernel that we're ready.\n",
              "      channel.send({})\n",
              "\n",
              "      for await (const message of channel.messages) {\n",
              "        // Send a message to notify the kernel that we're ready.\n",
              "        channel.send({})\n",
              "        if (message.buffers) {\n",
              "          for (const buffer of message.buffers) {\n",
              "            buffers.push(buffer);\n",
              "            downloaded += buffer.byteLength;\n",
              "            progress.value = downloaded;\n",
              "          }\n",
              "        }\n",
              "      }\n",
              "      const blob = new Blob(buffers, {type: 'application/binary'});\n",
              "      const a = document.createElement('a');\n",
              "      a.href = window.URL.createObjectURL(blob);\n",
              "      a.download = filename;\n",
              "      div.appendChild(a);\n",
              "      a.click();\n",
              "      div.remove();\n",
              "    }\n",
              "  "
            ],
            "text/plain": [
              "<IPython.core.display.Javascript object>"
            ]
          },
          "metadata": {}
        },
        {
          "output_type": "display_data",
          "data": {
            "application/javascript": [
              "download(\"download_2e1f962f-95e0-44d9-bf2a-eea5f753acc7\", \"CGTN_JanFeb2020.csv\", 10783856)"
            ],
            "text/plain": [
              "<IPython.core.display.Javascript object>"
            ]
          },
          "metadata": {}
        }
      ]
    },
    {
      "cell_type": "code",
      "source": [
        "account = \"CNN\"\n",
        "\n",
        "CNN_202001_202002=pd.read_csv('/content/CNN_china_202001220000_202002220000.csv')\n",
        "CNN_202001_202002 = CNN_202001_202002.append(pd.read_csv('/content/CNN_coronavirus_202001220000_202002220000.csv'),\n",
        "                                           ignore_index=True)\n",
        "CNN_202001_202002 = CNN_202001_202002.append(pd.read_csv('/content/CNN_covid_202001220000_202002220000.csv'),\n",
        "                                           ignore_index=True)\n",
        "CNN_202001_202002 = CNN_202001_202002.append(pd.read_csv('/content/CNN_wuhan_202001220000_202002220000.csv'),\n",
        "                                           ignore_index=True)\n",
        "CNN_202001_202002['account'] = 'CNN'\n",
        "CNN_202001_202002['period'] = period\n",
        "\n",
        "label = account+\"_\"+period\n",
        "CNN_202001_202002.to_csv(label+\".csv\", index=False)\n",
        "files.download(label+\".csv\")"
      ],
      "metadata": {
        "id": "JeXz5JRRSlZo",
        "colab": {
          "base_uri": "https://localhost:8080/",
          "height": 17
        },
        "outputId": "2e1bba22-62df-4669-cd7b-fea2c67a39a6"
      },
      "execution_count": 43,
      "outputs": [
        {
          "output_type": "display_data",
          "data": {
            "application/javascript": [
              "\n",
              "    async function download(id, filename, size) {\n",
              "      if (!google.colab.kernel.accessAllowed) {\n",
              "        return;\n",
              "      }\n",
              "      const div = document.createElement('div');\n",
              "      const label = document.createElement('label');\n",
              "      label.textContent = `Downloading \"${filename}\": `;\n",
              "      div.appendChild(label);\n",
              "      const progress = document.createElement('progress');\n",
              "      progress.max = size;\n",
              "      div.appendChild(progress);\n",
              "      document.body.appendChild(div);\n",
              "\n",
              "      const buffers = [];\n",
              "      let downloaded = 0;\n",
              "\n",
              "      const channel = await google.colab.kernel.comms.open(id);\n",
              "      // Send a message to notify the kernel that we're ready.\n",
              "      channel.send({})\n",
              "\n",
              "      for await (const message of channel.messages) {\n",
              "        // Send a message to notify the kernel that we're ready.\n",
              "        channel.send({})\n",
              "        if (message.buffers) {\n",
              "          for (const buffer of message.buffers) {\n",
              "            buffers.push(buffer);\n",
              "            downloaded += buffer.byteLength;\n",
              "            progress.value = downloaded;\n",
              "          }\n",
              "        }\n",
              "      }\n",
              "      const blob = new Blob(buffers, {type: 'application/binary'});\n",
              "      const a = document.createElement('a');\n",
              "      a.href = window.URL.createObjectURL(blob);\n",
              "      a.download = filename;\n",
              "      div.appendChild(a);\n",
              "      a.click();\n",
              "      div.remove();\n",
              "    }\n",
              "  "
            ],
            "text/plain": [
              "<IPython.core.display.Javascript object>"
            ]
          },
          "metadata": {}
        },
        {
          "output_type": "display_data",
          "data": {
            "application/javascript": [
              "download(\"download_7edaa906-3922-4c9b-bfe8-f394c08c55a6\", \"CNN_JanFeb2020.csv\", 5099126)"
            ],
            "text/plain": [
              "<IPython.core.display.Javascript object>"
            ]
          },
          "metadata": {}
        }
      ]
    },
    {
      "cell_type": "code",
      "source": [
        "account = \"R\"\n",
        "\n",
        "R_202001_202002=pd.read_csv('/content/Reuters_china_202001220000_202002220000.csv')\n",
        "R_202001_202002 = R_202001_202002.append(pd.read_csv('/content/Reuters_coronavirus_202001220000_202002220000.csv'),\n",
        "                                           ignore_index=True)\n",
        "R_202001_202002 = R_202001_202002.append(pd.read_csv('/content/Reuters_covid_202001220000_202002220000.csv'),\n",
        "                                           ignore_index=True)\n",
        "R_202001_202002 = R_202001_202002.append(pd.read_csv('/content/Reuters_wuhan_202001220000_202002220000.csv'),\n",
        "                                           ignore_index=True)\n",
        "R_202001_202002['account'] = 'R'\n",
        "R_202001_202002['period'] = period\n",
        "\n",
        "label = account+\"_\"+period\n",
        "R_202001_202002.to_csv(label+\".csv\", index=False)\n",
        "files.download(label+\".csv\")"
      ],
      "metadata": {
        "id": "sJn1iwX-VPXV",
        "colab": {
          "base_uri": "https://localhost:8080/",
          "height": 17
        },
        "outputId": "ce6f3492-ec25-45fa-8b0f-343672415375"
      },
      "execution_count": 44,
      "outputs": [
        {
          "output_type": "display_data",
          "data": {
            "application/javascript": [
              "\n",
              "    async function download(id, filename, size) {\n",
              "      if (!google.colab.kernel.accessAllowed) {\n",
              "        return;\n",
              "      }\n",
              "      const div = document.createElement('div');\n",
              "      const label = document.createElement('label');\n",
              "      label.textContent = `Downloading \"${filename}\": `;\n",
              "      div.appendChild(label);\n",
              "      const progress = document.createElement('progress');\n",
              "      progress.max = size;\n",
              "      div.appendChild(progress);\n",
              "      document.body.appendChild(div);\n",
              "\n",
              "      const buffers = [];\n",
              "      let downloaded = 0;\n",
              "\n",
              "      const channel = await google.colab.kernel.comms.open(id);\n",
              "      // Send a message to notify the kernel that we're ready.\n",
              "      channel.send({})\n",
              "\n",
              "      for await (const message of channel.messages) {\n",
              "        // Send a message to notify the kernel that we're ready.\n",
              "        channel.send({})\n",
              "        if (message.buffers) {\n",
              "          for (const buffer of message.buffers) {\n",
              "            buffers.push(buffer);\n",
              "            downloaded += buffer.byteLength;\n",
              "            progress.value = downloaded;\n",
              "          }\n",
              "        }\n",
              "      }\n",
              "      const blob = new Blob(buffers, {type: 'application/binary'});\n",
              "      const a = document.createElement('a');\n",
              "      a.href = window.URL.createObjectURL(blob);\n",
              "      a.download = filename;\n",
              "      div.appendChild(a);\n",
              "      a.click();\n",
              "      div.remove();\n",
              "    }\n",
              "  "
            ],
            "text/plain": [
              "<IPython.core.display.Javascript object>"
            ]
          },
          "metadata": {}
        },
        {
          "output_type": "display_data",
          "data": {
            "application/javascript": [
              "download(\"download_2c5675f6-1873-41fd-b10f-94e82ae27f56\", \"R_JanFeb2020.csv\", 17807596)"
            ],
            "text/plain": [
              "<IPython.core.display.Javascript object>"
            ]
          },
          "metadata": {}
        }
      ]
    },
    {
      "cell_type": "code",
      "source": [
        "account = \"XHN\"\n",
        "\n",
        "XHN_202001_202002=pd.read_csv('/content/XHNews_China_202001220000_202002220000.csv')\n",
        "XHN_202001_202002 = XHN_202001_202002.append(pd.read_csv('/content/XHNews_Coronavirus_202001220000_202002220000.csv'),\n",
        "                                           ignore_index=True)\n",
        "XHN_202001_202002 = XHN_202001_202002.append(pd.read_csv('/content/XHNews_Covid_202001220000_202002220000.csv'),\n",
        "                                           ignore_index=True)\n",
        "XHN_202001_202002 = XHN_202001_202002.append(pd.read_csv('/content/XHNews_Wuhan_202001220000_202002220000.csv'),\n",
        "                                           ignore_index=True)\n",
        "XHN_202001_202002['account'] = 'XHN'\n",
        "XHN_202001_202002['period'] = period\n",
        "\n",
        "label = account+\"_\"+period\n",
        "XHN_202001_202002.to_csv(label+\".csv\", index=False)\n",
        "files.download(label+\".csv\")"
      ],
      "metadata": {
        "id": "P7zJe5rhXd0y",
        "colab": {
          "base_uri": "https://localhost:8080/",
          "height": 17
        },
        "outputId": "da739e58-9755-4701-b5f8-ff36e6fd54b9"
      },
      "execution_count": 45,
      "outputs": [
        {
          "output_type": "display_data",
          "data": {
            "application/javascript": [
              "\n",
              "    async function download(id, filename, size) {\n",
              "      if (!google.colab.kernel.accessAllowed) {\n",
              "        return;\n",
              "      }\n",
              "      const div = document.createElement('div');\n",
              "      const label = document.createElement('label');\n",
              "      label.textContent = `Downloading \"${filename}\": `;\n",
              "      div.appendChild(label);\n",
              "      const progress = document.createElement('progress');\n",
              "      progress.max = size;\n",
              "      div.appendChild(progress);\n",
              "      document.body.appendChild(div);\n",
              "\n",
              "      const buffers = [];\n",
              "      let downloaded = 0;\n",
              "\n",
              "      const channel = await google.colab.kernel.comms.open(id);\n",
              "      // Send a message to notify the kernel that we're ready.\n",
              "      channel.send({})\n",
              "\n",
              "      for await (const message of channel.messages) {\n",
              "        // Send a message to notify the kernel that we're ready.\n",
              "        channel.send({})\n",
              "        if (message.buffers) {\n",
              "          for (const buffer of message.buffers) {\n",
              "            buffers.push(buffer);\n",
              "            downloaded += buffer.byteLength;\n",
              "            progress.value = downloaded;\n",
              "          }\n",
              "        }\n",
              "      }\n",
              "      const blob = new Blob(buffers, {type: 'application/binary'});\n",
              "      const a = document.createElement('a');\n",
              "      a.href = window.URL.createObjectURL(blob);\n",
              "      a.download = filename;\n",
              "      div.appendChild(a);\n",
              "      a.click();\n",
              "      div.remove();\n",
              "    }\n",
              "  "
            ],
            "text/plain": [
              "<IPython.core.display.Javascript object>"
            ]
          },
          "metadata": {}
        },
        {
          "output_type": "display_data",
          "data": {
            "application/javascript": [
              "download(\"download_453689f8-8742-4937-9353-a5d08e9616ec\", \"XHN_JanFeb2020.csv\", 13115543)"
            ],
            "text/plain": [
              "<IPython.core.display.Javascript object>"
            ]
          },
          "metadata": {}
        }
      ]
    },
    {
      "cell_type": "markdown",
      "source": [
        "## USA: JanFeb2020"
      ],
      "metadata": {
        "id": "-iimLMccnG3e"
      }
    },
    {
      "cell_type": "code",
      "source": [
        "country = \"USA\"\n",
        "\n",
        "USA_202001_202002 = AJ_202001_202002.append(AP_202001_202002, ignore_index=True)\n",
        "USA_202001_202002 = USA_202001_202002.append(BBC_202001_202002, ignore_index=True)\n",
        "USA_202001_202002 = USA_202001_202002.append(CNN_202001_202002, ignore_index=True)\n",
        "USA_202001_202002 = USA_202001_202002.append(R_202001_202002, ignore_index=True)\n",
        "\n",
        "label = country+\"_\"+period\n",
        "USA_202001_202002.to_csv(label+\".csv\", index=False)\n",
        "files.download(label+\".csv\")"
      ],
      "metadata": {
        "id": "YgpEJjmKqbGX",
        "outputId": "0c841493-e915-4ab4-c542-14b039452d1f",
        "colab": {
          "base_uri": "https://localhost:8080/",
          "height": 17
        }
      },
      "execution_count": 68,
      "outputs": [
        {
          "output_type": "display_data",
          "data": {
            "application/javascript": [
              "\n",
              "    async function download(id, filename, size) {\n",
              "      if (!google.colab.kernel.accessAllowed) {\n",
              "        return;\n",
              "      }\n",
              "      const div = document.createElement('div');\n",
              "      const label = document.createElement('label');\n",
              "      label.textContent = `Downloading \"${filename}\": `;\n",
              "      div.appendChild(label);\n",
              "      const progress = document.createElement('progress');\n",
              "      progress.max = size;\n",
              "      div.appendChild(progress);\n",
              "      document.body.appendChild(div);\n",
              "\n",
              "      const buffers = [];\n",
              "      let downloaded = 0;\n",
              "\n",
              "      const channel = await google.colab.kernel.comms.open(id);\n",
              "      // Send a message to notify the kernel that we're ready.\n",
              "      channel.send({})\n",
              "\n",
              "      for await (const message of channel.messages) {\n",
              "        // Send a message to notify the kernel that we're ready.\n",
              "        channel.send({})\n",
              "        if (message.buffers) {\n",
              "          for (const buffer of message.buffers) {\n",
              "            buffers.push(buffer);\n",
              "            downloaded += buffer.byteLength;\n",
              "            progress.value = downloaded;\n",
              "          }\n",
              "        }\n",
              "      }\n",
              "      const blob = new Blob(buffers, {type: 'application/binary'});\n",
              "      const a = document.createElement('a');\n",
              "      a.href = window.URL.createObjectURL(blob);\n",
              "      a.download = filename;\n",
              "      div.appendChild(a);\n",
              "      a.click();\n",
              "      div.remove();\n",
              "    }\n",
              "  "
            ],
            "text/plain": [
              "<IPython.core.display.Javascript object>"
            ]
          },
          "metadata": {}
        },
        {
          "output_type": "display_data",
          "data": {
            "application/javascript": [
              "download(\"download_230649c4-3fcf-48f2-92bf-0b24dd58594a\", \"USA_JanFeb2020.csv\", 27119463)"
            ],
            "text/plain": [
              "<IPython.core.display.Javascript object>"
            ]
          },
          "metadata": {}
        }
      ]
    },
    {
      "cell_type": "markdown",
      "source": [
        "## China: JanFeb2020"
      ],
      "metadata": {
        "id": "bgQC2SWSnank"
      }
    },
    {
      "cell_type": "code",
      "source": [
        "country = \"China\"\n",
        "\n",
        "China_202001_202002 = CGTN_202001_202002.append(XHN_202001_202002, ignore_index=True)\n",
        "\n",
        "label = country+\"_\"+period\n",
        "China_202001_202002.to_csv(label+\".csv\", index=False)\n",
        "files.download(label+\".csv\")"
      ],
      "metadata": {
        "id": "W8F4bcamrruV",
        "outputId": "54d5b38e-91db-4ed4-b35e-da2dfdd58c4d",
        "colab": {
          "base_uri": "https://localhost:8080/",
          "height": 17
        }
      },
      "execution_count": 69,
      "outputs": [
        {
          "output_type": "display_data",
          "data": {
            "application/javascript": [
              "\n",
              "    async function download(id, filename, size) {\n",
              "      if (!google.colab.kernel.accessAllowed) {\n",
              "        return;\n",
              "      }\n",
              "      const div = document.createElement('div');\n",
              "      const label = document.createElement('label');\n",
              "      label.textContent = `Downloading \"${filename}\": `;\n",
              "      div.appendChild(label);\n",
              "      const progress = document.createElement('progress');\n",
              "      progress.max = size;\n",
              "      div.appendChild(progress);\n",
              "      document.body.appendChild(div);\n",
              "\n",
              "      const buffers = [];\n",
              "      let downloaded = 0;\n",
              "\n",
              "      const channel = await google.colab.kernel.comms.open(id);\n",
              "      // Send a message to notify the kernel that we're ready.\n",
              "      channel.send({})\n",
              "\n",
              "      for await (const message of channel.messages) {\n",
              "        // Send a message to notify the kernel that we're ready.\n",
              "        channel.send({})\n",
              "        if (message.buffers) {\n",
              "          for (const buffer of message.buffers) {\n",
              "            buffers.push(buffer);\n",
              "            downloaded += buffer.byteLength;\n",
              "            progress.value = downloaded;\n",
              "          }\n",
              "        }\n",
              "      }\n",
              "      const blob = new Blob(buffers, {type: 'application/binary'});\n",
              "      const a = document.createElement('a');\n",
              "      a.href = window.URL.createObjectURL(blob);\n",
              "      a.download = filename;\n",
              "      div.appendChild(a);\n",
              "      a.click();\n",
              "      div.remove();\n",
              "    }\n",
              "  "
            ],
            "text/plain": [
              "<IPython.core.display.Javascript object>"
            ]
          },
          "metadata": {}
        },
        {
          "output_type": "display_data",
          "data": {
            "application/javascript": [
              "download(\"download_8cbe4c6d-aadb-4bb5-bfb9-6a2c85e9469c\", \"China_JanFeb2020.csv\", 23908806)"
            ],
            "text/plain": [
              "<IPython.core.display.Javascript object>"
            ]
          },
          "metadata": {}
        }
      ]
    },
    {
      "cell_type": "markdown",
      "source": [
        "## China and USA: JanFeb2020"
      ],
      "metadata": {
        "id": "e-zvrfPLnuor"
      }
    },
    {
      "cell_type": "code",
      "source": [
        "country = \"China&USA\"\n",
        "\n",
        "ChinaUSA_202001_202002 = China_202001_202002.append(USA_202001_202002, ignore_index=True)\n",
        "\n",
        "label = country+\"_\"+period\n",
        "ChinaUSA_202001_202002.to_csv(label+\".csv\", index=False)\n",
        "files.download(label+\".csv\")"
      ],
      "metadata": {
        "colab": {
          "base_uri": "https://localhost:8080/",
          "height": 17
        },
        "id": "l15mGiWiwlNk",
        "outputId": "d0a42c93-2743-45ac-de6e-8d8c15c3ba83"
      },
      "execution_count": 70,
      "outputs": [
        {
          "output_type": "display_data",
          "data": {
            "application/javascript": [
              "\n",
              "    async function download(id, filename, size) {\n",
              "      if (!google.colab.kernel.accessAllowed) {\n",
              "        return;\n",
              "      }\n",
              "      const div = document.createElement('div');\n",
              "      const label = document.createElement('label');\n",
              "      label.textContent = `Downloading \"${filename}\": `;\n",
              "      div.appendChild(label);\n",
              "      const progress = document.createElement('progress');\n",
              "      progress.max = size;\n",
              "      div.appendChild(progress);\n",
              "      document.body.appendChild(div);\n",
              "\n",
              "      const buffers = [];\n",
              "      let downloaded = 0;\n",
              "\n",
              "      const channel = await google.colab.kernel.comms.open(id);\n",
              "      // Send a message to notify the kernel that we're ready.\n",
              "      channel.send({})\n",
              "\n",
              "      for await (const message of channel.messages) {\n",
              "        // Send a message to notify the kernel that we're ready.\n",
              "        channel.send({})\n",
              "        if (message.buffers) {\n",
              "          for (const buffer of message.buffers) {\n",
              "            buffers.push(buffer);\n",
              "            downloaded += buffer.byteLength;\n",
              "            progress.value = downloaded;\n",
              "          }\n",
              "        }\n",
              "      }\n",
              "      const blob = new Blob(buffers, {type: 'application/binary'});\n",
              "      const a = document.createElement('a');\n",
              "      a.href = window.URL.createObjectURL(blob);\n",
              "      a.download = filename;\n",
              "      div.appendChild(a);\n",
              "      a.click();\n",
              "      div.remove();\n",
              "    }\n",
              "  "
            ],
            "text/plain": [
              "<IPython.core.display.Javascript object>"
            ]
          },
          "metadata": {}
        },
        {
          "output_type": "display_data",
          "data": {
            "application/javascript": [
              "download(\"download_2badd575-660e-408d-8176-1398f849dc9b\", \"China&USA_JanFeb2020.csv\", 51027760)"
            ],
            "text/plain": [
              "<IPython.core.display.Javascript object>"
            ]
          },
          "metadata": {}
        }
      ]
    },
    {
      "cell_type": "markdown",
      "source": [
        "# SeptOct2020"
      ],
      "metadata": {
        "id": "ljNDK7RWy6cN"
      }
    },
    {
      "cell_type": "code",
      "source": [
        "period = \"SeptOct2020\""
      ],
      "metadata": {
        "id": "gXObuezmdR6m"
      },
      "execution_count": 71,
      "outputs": []
    },
    {
      "cell_type": "markdown",
      "source": [
        "## Accounts: SeptOct2020"
      ],
      "metadata": {
        "id": "HQ1GF_RPJNNt"
      }
    },
    {
      "cell_type": "code",
      "source": [
        "account = \"AJ\"\n",
        "\n",
        "AJ_202009_202010=pd.read_csv('/content/AJEnglish_china_202009200000_202010210000.csv')\n",
        "AJ_202009_202010 = AJ_202009_202010.append(pd.read_csv('/content/AJEnglish_coronavirus_202009200000_202010210000.csv'),\n",
        "                                           ignore_index=True)\n",
        "AJ_202009_202010 = AJ_202009_202010.append(pd.read_csv('/content/AJEnglish_covid_202009200000_202010210000.csv'),\n",
        "                                           ignore_index=True)\n",
        "AJ_202009_202010 = AJ_202009_202010.append(pd.read_csv('/content/AJEnglish_vaccine_202009200000_202010210000.csv'),\n",
        "                                           ignore_index=True)\n",
        "AJ_202009_202010 = AJ_202009_202010.append(pd.read_csv('/content/AJEnglish_wuhan_202009200000_202010210000.csv'),\n",
        "                                           ignore_index=True)\n",
        "AJ_202009_202010['account'] = 'AJ'\n",
        "AJ_202009_202010['period'] = period\n",
        "\n",
        "label = account+\"_\"+period\n",
        "AJ_202009_202010.to_csv(label+\".csv\", index=False)\n",
        "files.download(label+\".csv\")"
      ],
      "metadata": {
        "id": "C8hAaZDLHQsY",
        "colab": {
          "base_uri": "https://localhost:8080/",
          "height": 17
        },
        "outputId": "e93c5ba1-e896-4d06-f2cd-2045e80be628"
      },
      "execution_count": 48,
      "outputs": [
        {
          "output_type": "display_data",
          "data": {
            "application/javascript": [
              "\n",
              "    async function download(id, filename, size) {\n",
              "      if (!google.colab.kernel.accessAllowed) {\n",
              "        return;\n",
              "      }\n",
              "      const div = document.createElement('div');\n",
              "      const label = document.createElement('label');\n",
              "      label.textContent = `Downloading \"${filename}\": `;\n",
              "      div.appendChild(label);\n",
              "      const progress = document.createElement('progress');\n",
              "      progress.max = size;\n",
              "      div.appendChild(progress);\n",
              "      document.body.appendChild(div);\n",
              "\n",
              "      const buffers = [];\n",
              "      let downloaded = 0;\n",
              "\n",
              "      const channel = await google.colab.kernel.comms.open(id);\n",
              "      // Send a message to notify the kernel that we're ready.\n",
              "      channel.send({})\n",
              "\n",
              "      for await (const message of channel.messages) {\n",
              "        // Send a message to notify the kernel that we're ready.\n",
              "        channel.send({})\n",
              "        if (message.buffers) {\n",
              "          for (const buffer of message.buffers) {\n",
              "            buffers.push(buffer);\n",
              "            downloaded += buffer.byteLength;\n",
              "            progress.value = downloaded;\n",
              "          }\n",
              "        }\n",
              "      }\n",
              "      const blob = new Blob(buffers, {type: 'application/binary'});\n",
              "      const a = document.createElement('a');\n",
              "      a.href = window.URL.createObjectURL(blob);\n",
              "      a.download = filename;\n",
              "      div.appendChild(a);\n",
              "      a.click();\n",
              "      div.remove();\n",
              "    }\n",
              "  "
            ],
            "text/plain": [
              "<IPython.core.display.Javascript object>"
            ]
          },
          "metadata": {}
        },
        {
          "output_type": "display_data",
          "data": {
            "application/javascript": [
              "download(\"download_f93eac67-e321-436e-8730-01b0c2eabc50\", \"AJ_SeptOct2020.csv\", 2350096)"
            ],
            "text/plain": [
              "<IPython.core.display.Javascript object>"
            ]
          },
          "metadata": {}
        }
      ]
    },
    {
      "cell_type": "code",
      "source": [
        "account = \"AP\"\n",
        "\n",
        "AP_202009_202010=pd.read_csv('/content/AP_china_202009200000_202010210000.csv')\n",
        "AP_202009_202010 = AP_202009_202010.append(pd.read_csv('/content/AP_coronavirus_202009200000_202010210000.csv'),\n",
        "                                           ignore_index=True)\n",
        "AP_202009_202010 = AP_202009_202010.append(pd.read_csv('/content/AP_covid_202009200000_202010210000.csv'),\n",
        "                                           ignore_index=True)\n",
        "AP_202009_202010 = AP_202009_202010.append(pd.read_csv('/content/AP_vaccine_202009200000_202010210000.csv'),\n",
        "                                           ignore_index=True)\n",
        "# EMPTY : Wuhan\n",
        "\n",
        "AP_202009_202010['account'] = 'AP'\n",
        "AP_202009_202010['period'] = period\n",
        "\n",
        "label = account+\"_\"+period\n",
        "AP_202009_202010.to_csv(label+\".csv\", index=False)\n",
        "files.download(label+\".csv\")"
      ],
      "metadata": {
        "id": "c94jGtJkL8os",
        "colab": {
          "base_uri": "https://localhost:8080/",
          "height": 17
        },
        "outputId": "84530a6f-94fc-4d73-d20f-08dc376cacd9"
      },
      "execution_count": 49,
      "outputs": [
        {
          "output_type": "display_data",
          "data": {
            "application/javascript": [
              "\n",
              "    async function download(id, filename, size) {\n",
              "      if (!google.colab.kernel.accessAllowed) {\n",
              "        return;\n",
              "      }\n",
              "      const div = document.createElement('div');\n",
              "      const label = document.createElement('label');\n",
              "      label.textContent = `Downloading \"${filename}\": `;\n",
              "      div.appendChild(label);\n",
              "      const progress = document.createElement('progress');\n",
              "      progress.max = size;\n",
              "      div.appendChild(progress);\n",
              "      document.body.appendChild(div);\n",
              "\n",
              "      const buffers = [];\n",
              "      let downloaded = 0;\n",
              "\n",
              "      const channel = await google.colab.kernel.comms.open(id);\n",
              "      // Send a message to notify the kernel that we're ready.\n",
              "      channel.send({})\n",
              "\n",
              "      for await (const message of channel.messages) {\n",
              "        // Send a message to notify the kernel that we're ready.\n",
              "        channel.send({})\n",
              "        if (message.buffers) {\n",
              "          for (const buffer of message.buffers) {\n",
              "            buffers.push(buffer);\n",
              "            downloaded += buffer.byteLength;\n",
              "            progress.value = downloaded;\n",
              "          }\n",
              "        }\n",
              "      }\n",
              "      const blob = new Blob(buffers, {type: 'application/binary'});\n",
              "      const a = document.createElement('a');\n",
              "      a.href = window.URL.createObjectURL(blob);\n",
              "      a.download = filename;\n",
              "      div.appendChild(a);\n",
              "      a.click();\n",
              "      div.remove();\n",
              "    }\n",
              "  "
            ],
            "text/plain": [
              "<IPython.core.display.Javascript object>"
            ]
          },
          "metadata": {}
        },
        {
          "output_type": "display_data",
          "data": {
            "application/javascript": [
              "download(\"download_552f5a85-4954-44ac-bde3-7f8ffed0249f\", \"AP_SeptOct2020.csv\", 2060360)"
            ],
            "text/plain": [
              "<IPython.core.display.Javascript object>"
            ]
          },
          "metadata": {}
        }
      ]
    },
    {
      "cell_type": "code",
      "source": [
        "account = \"BBC\"\n",
        "\n",
        "BBC_202009_202010=pd.read_csv('/content/BBCWorld_china_202009200000_202010210000.csv')\n",
        "BBC_202009_202010 = BBC_202009_202010.append(pd.read_csv('/content/BBCWorld_coronavirus_202009200000_202010210000.csv'),\n",
        "                                           ignore_index=True)\n",
        "BBC_202009_202010 = BBC_202009_202010.append(pd.read_csv('/content/BBCWorld_covid_202009200000_202010210000.csv'),\n",
        "                                           ignore_index=True)\n",
        "BBC_202009_202010 = BBC_202009_202010.append(pd.read_csv('/content/BBCWorld_vaccine_202009200000_202010210000.csv'),\n",
        "                                           ignore_index=True)\n",
        "# EMPTY: Wuhan\n",
        "\n",
        "BBC_202009_202010['account'] = 'BBC'\n",
        "BBC_202009_202010['period'] = period\n",
        "\n",
        "label = account+\"_\"+period\n",
        "BBC_202009_202010.to_csv(label+\".csv\", index=False)\n",
        "files.download(label+\".csv\")"
      ],
      "metadata": {
        "colab": {
          "base_uri": "https://localhost:8080/",
          "height": 17
        },
        "id": "S6IIhAMxO6ce",
        "outputId": "fbdb3f58-8694-4cd7-f29b-01e0d7a03036"
      },
      "execution_count": 50,
      "outputs": [
        {
          "output_type": "display_data",
          "data": {
            "application/javascript": [
              "\n",
              "    async function download(id, filename, size) {\n",
              "      if (!google.colab.kernel.accessAllowed) {\n",
              "        return;\n",
              "      }\n",
              "      const div = document.createElement('div');\n",
              "      const label = document.createElement('label');\n",
              "      label.textContent = `Downloading \"${filename}\": `;\n",
              "      div.appendChild(label);\n",
              "      const progress = document.createElement('progress');\n",
              "      progress.max = size;\n",
              "      div.appendChild(progress);\n",
              "      document.body.appendChild(div);\n",
              "\n",
              "      const buffers = [];\n",
              "      let downloaded = 0;\n",
              "\n",
              "      const channel = await google.colab.kernel.comms.open(id);\n",
              "      // Send a message to notify the kernel that we're ready.\n",
              "      channel.send({})\n",
              "\n",
              "      for await (const message of channel.messages) {\n",
              "        // Send a message to notify the kernel that we're ready.\n",
              "        channel.send({})\n",
              "        if (message.buffers) {\n",
              "          for (const buffer of message.buffers) {\n",
              "            buffers.push(buffer);\n",
              "            downloaded += buffer.byteLength;\n",
              "            progress.value = downloaded;\n",
              "          }\n",
              "        }\n",
              "      }\n",
              "      const blob = new Blob(buffers, {type: 'application/binary'});\n",
              "      const a = document.createElement('a');\n",
              "      a.href = window.URL.createObjectURL(blob);\n",
              "      a.download = filename;\n",
              "      div.appendChild(a);\n",
              "      a.click();\n",
              "      div.remove();\n",
              "    }\n",
              "  "
            ],
            "text/plain": [
              "<IPython.core.display.Javascript object>"
            ]
          },
          "metadata": {}
        },
        {
          "output_type": "display_data",
          "data": {
            "application/javascript": [
              "download(\"download_06177896-36f4-4612-b20c-24ef181e01fb\", \"BBC_SeptOct2020.csv\", 943746)"
            ],
            "text/plain": [
              "<IPython.core.display.Javascript object>"
            ]
          },
          "metadata": {}
        }
      ]
    },
    {
      "cell_type": "code",
      "source": [
        "account = \"CGTN\"\n",
        "\n",
        "CGTN_202009_202010=pd.read_csv('/content/CGTNOfficial_china_202009200000_202010220000.csv')\n",
        "CGTN_202009_202010 = CGTN_202009_202010.append(pd.read_csv('/content/CGTNOfficial_covid_202009200000_202010220000.csv'),\n",
        "                                           ignore_index=True)\n",
        "CGTN_202009_202010 = CGTN_202009_202010.append(pd.read_csv('/content/CGTNOfficial_vaccine_202009200000_202010220000.csv'),\n",
        "                                           ignore_index=True)\n",
        "CGTN_202009_202010 = CGTN_202009_202010.append(pd.read_csv('/content/CGTNOfficial_coronavirus_202009200000_202010220000.csv'),\n",
        "                                           ignore_index=True)\n",
        "CGTN_202009_202010 = CGTN_202009_202010.append(pd.read_csv('/content/CGTNOfficial_wuhan_202009200000_202010220000.csv'),\n",
        "                                           ignore_index=True)\n",
        "CGTN_202009_202010['account'] = 'CGTN'\n",
        "CGTN_202009_202010['period'] = period\n",
        "\n",
        "label = account+\"_\"+period\n",
        "CGTN_202009_202010.to_csv(label+\".csv\", index=False)\n",
        "files.download(label+\".csv\")"
      ],
      "metadata": {
        "id": "7u4dnXfeRDqc",
        "colab": {
          "base_uri": "https://localhost:8080/",
          "height": 17
        },
        "outputId": "b2f7e9c6-5ea7-4a30-aab7-1b3d4473d165"
      },
      "execution_count": 51,
      "outputs": [
        {
          "output_type": "display_data",
          "data": {
            "application/javascript": [
              "\n",
              "    async function download(id, filename, size) {\n",
              "      if (!google.colab.kernel.accessAllowed) {\n",
              "        return;\n",
              "      }\n",
              "      const div = document.createElement('div');\n",
              "      const label = document.createElement('label');\n",
              "      label.textContent = `Downloading \"${filename}\": `;\n",
              "      div.appendChild(label);\n",
              "      const progress = document.createElement('progress');\n",
              "      progress.max = size;\n",
              "      div.appendChild(progress);\n",
              "      document.body.appendChild(div);\n",
              "\n",
              "      const buffers = [];\n",
              "      let downloaded = 0;\n",
              "\n",
              "      const channel = await google.colab.kernel.comms.open(id);\n",
              "      // Send a message to notify the kernel that we're ready.\n",
              "      channel.send({})\n",
              "\n",
              "      for await (const message of channel.messages) {\n",
              "        // Send a message to notify the kernel that we're ready.\n",
              "        channel.send({})\n",
              "        if (message.buffers) {\n",
              "          for (const buffer of message.buffers) {\n",
              "            buffers.push(buffer);\n",
              "            downloaded += buffer.byteLength;\n",
              "            progress.value = downloaded;\n",
              "          }\n",
              "        }\n",
              "      }\n",
              "      const blob = new Blob(buffers, {type: 'application/binary'});\n",
              "      const a = document.createElement('a');\n",
              "      a.href = window.URL.createObjectURL(blob);\n",
              "      a.download = filename;\n",
              "      div.appendChild(a);\n",
              "      a.click();\n",
              "      div.remove();\n",
              "    }\n",
              "  "
            ],
            "text/plain": [
              "<IPython.core.display.Javascript object>"
            ]
          },
          "metadata": {}
        },
        {
          "output_type": "display_data",
          "data": {
            "application/javascript": [
              "download(\"download_fdf6f30a-a9d9-46df-a180-bd3e9d5f524b\", \"CGTN_SeptOct2020.csv\", 8261344)"
            ],
            "text/plain": [
              "<IPython.core.display.Javascript object>"
            ]
          },
          "metadata": {}
        }
      ]
    },
    {
      "cell_type": "code",
      "source": [
        "account = \"CNN\"\n",
        "\n",
        "CNN_202009_202010=pd.read_csv('/content/CNN_china_202009200000_202010210000.csv')\n",
        "CNN_202009_202010 = CNN_202009_202010.append(pd.read_csv('/content/CNN_coronavirus_202009200000_202010210000.csv'),\n",
        "                                           ignore_index=True)\n",
        "CNN_202009_202010 = CNN_202009_202010.append(pd.read_csv('/content/CNN_covid_202009200000_202010210000.csv'),\n",
        "                                           ignore_index=True)\n",
        "CNN_202009_202010 = CNN_202009_202010.append(pd.read_csv('/content/CNN_vaccine_202009200000_202010210000.csv'),\n",
        "                                           ignore_index=True)\n",
        "CNN_202009_202010 = CNN_202009_202010.append(pd.read_csv('/content/CNN_wuhan_202009200000_202010210000.csv'),\n",
        "                                           ignore_index=True)\n",
        "\n",
        "CNN_202009_202010['account'] = 'CNN'\n",
        "CNN_202009_202010['period'] = period\n",
        "\n",
        "label = account+\"_\"+period\n",
        "CNN_202009_202010.to_csv(label+\".csv\", index=False)\n",
        "files.download(label+\".csv\")"
      ],
      "metadata": {
        "id": "0nc6w-A1TKyF",
        "colab": {
          "base_uri": "https://localhost:8080/",
          "height": 17
        },
        "outputId": "ded55b71-0f69-4540-b68b-f1cc73cc0909"
      },
      "execution_count": 52,
      "outputs": [
        {
          "output_type": "display_data",
          "data": {
            "application/javascript": [
              "\n",
              "    async function download(id, filename, size) {\n",
              "      if (!google.colab.kernel.accessAllowed) {\n",
              "        return;\n",
              "      }\n",
              "      const div = document.createElement('div');\n",
              "      const label = document.createElement('label');\n",
              "      label.textContent = `Downloading \"${filename}\": `;\n",
              "      div.appendChild(label);\n",
              "      const progress = document.createElement('progress');\n",
              "      progress.max = size;\n",
              "      div.appendChild(progress);\n",
              "      document.body.appendChild(div);\n",
              "\n",
              "      const buffers = [];\n",
              "      let downloaded = 0;\n",
              "\n",
              "      const channel = await google.colab.kernel.comms.open(id);\n",
              "      // Send a message to notify the kernel that we're ready.\n",
              "      channel.send({})\n",
              "\n",
              "      for await (const message of channel.messages) {\n",
              "        // Send a message to notify the kernel that we're ready.\n",
              "        channel.send({})\n",
              "        if (message.buffers) {\n",
              "          for (const buffer of message.buffers) {\n",
              "            buffers.push(buffer);\n",
              "            downloaded += buffer.byteLength;\n",
              "            progress.value = downloaded;\n",
              "          }\n",
              "        }\n",
              "      }\n",
              "      const blob = new Blob(buffers, {type: 'application/binary'});\n",
              "      const a = document.createElement('a');\n",
              "      a.href = window.URL.createObjectURL(blob);\n",
              "      a.download = filename;\n",
              "      div.appendChild(a);\n",
              "      a.click();\n",
              "      div.remove();\n",
              "    }\n",
              "  "
            ],
            "text/plain": [
              "<IPython.core.display.Javascript object>"
            ]
          },
          "metadata": {}
        },
        {
          "output_type": "display_data",
          "data": {
            "application/javascript": [
              "download(\"download_551634a8-6af9-4e83-8f6e-0e57a5a53c28\", \"CNN_SeptOct2020.csv\", 4472136)"
            ],
            "text/plain": [
              "<IPython.core.display.Javascript object>"
            ]
          },
          "metadata": {}
        }
      ]
    },
    {
      "cell_type": "code",
      "source": [
        "account = \"R\"\n",
        "\n",
        "R_202009_202010=pd.read_csv('/content/Reuters_china_202009200000_202010210000.csv')\n",
        "R_202009_202010 = R_202009_202010.append(pd.read_csv('/content/Reuters_covid_202009200000_202010210000.csv'),\n",
        "                                           ignore_index=True)\n",
        "R_202009_202010 = R_202009_202010.append(pd.read_csv('/content/Reuters_vaccine_202009200000_202010210000.csv'),\n",
        "                                           ignore_index=True)\n",
        "R_202009_202010 = R_202009_202010.append(pd.read_csv('/content/Reuters_coronavirus_202009200000_202010220000.csv'),\n",
        "                                           ignore_index=True)\n",
        "R_202009_202010 = R_202009_202010.append(pd.read_csv('/content/Reuters_wuhan_202009200000_202010210000.csv'),\n",
        "                                           ignore_index=True)\n",
        "R_202009_202010['account'] = 'R'\n",
        "R_202009_202010['period'] = period\n",
        "\n",
        "label = account+\"_\"+period\n",
        "R_202009_202010.to_csv(label+\".csv\", index=False)\n",
        "files.download(label+\".csv\")"
      ],
      "metadata": {
        "id": "EcaYUMCdVb9C",
        "colab": {
          "base_uri": "https://localhost:8080/",
          "height": 17
        },
        "outputId": "a570818e-ee6e-4ba2-bfaa-959ecec01d18"
      },
      "execution_count": 53,
      "outputs": [
        {
          "output_type": "display_data",
          "data": {
            "application/javascript": [
              "\n",
              "    async function download(id, filename, size) {\n",
              "      if (!google.colab.kernel.accessAllowed) {\n",
              "        return;\n",
              "      }\n",
              "      const div = document.createElement('div');\n",
              "      const label = document.createElement('label');\n",
              "      label.textContent = `Downloading \"${filename}\": `;\n",
              "      div.appendChild(label);\n",
              "      const progress = document.createElement('progress');\n",
              "      progress.max = size;\n",
              "      div.appendChild(progress);\n",
              "      document.body.appendChild(div);\n",
              "\n",
              "      const buffers = [];\n",
              "      let downloaded = 0;\n",
              "\n",
              "      const channel = await google.colab.kernel.comms.open(id);\n",
              "      // Send a message to notify the kernel that we're ready.\n",
              "      channel.send({})\n",
              "\n",
              "      for await (const message of channel.messages) {\n",
              "        // Send a message to notify the kernel that we're ready.\n",
              "        channel.send({})\n",
              "        if (message.buffers) {\n",
              "          for (const buffer of message.buffers) {\n",
              "            buffers.push(buffer);\n",
              "            downloaded += buffer.byteLength;\n",
              "            progress.value = downloaded;\n",
              "          }\n",
              "        }\n",
              "      }\n",
              "      const blob = new Blob(buffers, {type: 'application/binary'});\n",
              "      const a = document.createElement('a');\n",
              "      a.href = window.URL.createObjectURL(blob);\n",
              "      a.download = filename;\n",
              "      div.appendChild(a);\n",
              "      a.click();\n",
              "      div.remove();\n",
              "    }\n",
              "  "
            ],
            "text/plain": [
              "<IPython.core.display.Javascript object>"
            ]
          },
          "metadata": {}
        },
        {
          "output_type": "display_data",
          "data": {
            "application/javascript": [
              "download(\"download_cbe183e6-e001-4caf-8b27-57c264b6379d\", \"R_SeptOct2020.csv\", 21386604)"
            ],
            "text/plain": [
              "<IPython.core.display.Javascript object>"
            ]
          },
          "metadata": {}
        }
      ]
    },
    {
      "cell_type": "code",
      "source": [
        "account = \"XHN\"\n",
        "\n",
        "XHN_202009_202010=pd.read_csv('/content/XHNews_china_202009200000_202010220000.csv')\n",
        "XHN_202009_202010 = XHN_202009_202010.append(pd.read_csv('/content/XHNews_covid_202009200000_202010220000.csv'),\n",
        "                                           ignore_index=True)\n",
        "XHN_202009_202010 = XHN_202009_202010.append(pd.read_csv('/content/XHNews_vaccine_202009200000_202010220000.csv'),\n",
        "                                           ignore_index=True)\n",
        "XHN_202009_202010 = XHN_202009_202010.append(pd.read_csv('/content/XHNews_coronavirus_202009200000_202010220000.csv'),\n",
        "                                           ignore_index=True)\n",
        "XHN_202009_202010 = XHN_202009_202010.append(pd.read_csv('/content/XHNews_wuhan_202009200000_202010210000.csv'),\n",
        "                                           ignore_index=True)\n",
        "\n",
        "XHN_202009_202010['account'] = 'XHN'\n",
        "XHN_202009_202010['period'] = period\n",
        "\n",
        "label = account+\"_\"+period\n",
        "XHN_202009_202010.to_csv(label+\".csv\", index=False)\n",
        "files.download(label+\".csv\")"
      ],
      "metadata": {
        "id": "QGO_bK_JWU1c",
        "colab": {
          "base_uri": "https://localhost:8080/",
          "height": 17
        },
        "outputId": "bce972b2-ba28-43fd-a44f-7eb95970e4f8"
      },
      "execution_count": 54,
      "outputs": [
        {
          "output_type": "display_data",
          "data": {
            "application/javascript": [
              "\n",
              "    async function download(id, filename, size) {\n",
              "      if (!google.colab.kernel.accessAllowed) {\n",
              "        return;\n",
              "      }\n",
              "      const div = document.createElement('div');\n",
              "      const label = document.createElement('label');\n",
              "      label.textContent = `Downloading \"${filename}\": `;\n",
              "      div.appendChild(label);\n",
              "      const progress = document.createElement('progress');\n",
              "      progress.max = size;\n",
              "      div.appendChild(progress);\n",
              "      document.body.appendChild(div);\n",
              "\n",
              "      const buffers = [];\n",
              "      let downloaded = 0;\n",
              "\n",
              "      const channel = await google.colab.kernel.comms.open(id);\n",
              "      // Send a message to notify the kernel that we're ready.\n",
              "      channel.send({})\n",
              "\n",
              "      for await (const message of channel.messages) {\n",
              "        // Send a message to notify the kernel that we're ready.\n",
              "        channel.send({})\n",
              "        if (message.buffers) {\n",
              "          for (const buffer of message.buffers) {\n",
              "            buffers.push(buffer);\n",
              "            downloaded += buffer.byteLength;\n",
              "            progress.value = downloaded;\n",
              "          }\n",
              "        }\n",
              "      }\n",
              "      const blob = new Blob(buffers, {type: 'application/binary'});\n",
              "      const a = document.createElement('a');\n",
              "      a.href = window.URL.createObjectURL(blob);\n",
              "      a.download = filename;\n",
              "      div.appendChild(a);\n",
              "      a.click();\n",
              "      div.remove();\n",
              "    }\n",
              "  "
            ],
            "text/plain": [
              "<IPython.core.display.Javascript object>"
            ]
          },
          "metadata": {}
        },
        {
          "output_type": "display_data",
          "data": {
            "application/javascript": [
              "download(\"download_aba6d2ce-8593-4dde-b54a-19f10402acca\", \"XHN_SeptOct2020.csv\", 7095660)"
            ],
            "text/plain": [
              "<IPython.core.display.Javascript object>"
            ]
          },
          "metadata": {}
        }
      ]
    },
    {
      "cell_type": "markdown",
      "source": [
        "## USA: SeptOct2020"
      ],
      "metadata": {
        "id": "uzkqS67-nS7X"
      }
    },
    {
      "cell_type": "code",
      "source": [
        "country = \"USA\"\n",
        "\n",
        "USA_202009_202010 = AJ_202009_202010.append(AP_202009_202010, ignore_index=True)\n",
        "USA_202009_202010 = USA_202009_202010.append(BBC_202009_202010, ignore_index=True)\n",
        "USA_202009_202010 = USA_202009_202010.append(CNN_202009_202010, ignore_index=True)\n",
        "USA_202009_202010 = USA_202009_202010.append(R_202009_202010, ignore_index=True)\n",
        "\n",
        "label = country+\"_\"+period\n",
        "USA_202009_202010.to_csv(label+\".csv\", index=False)\n",
        "files.download(label+\".csv\")"
      ],
      "metadata": {
        "id": "eCVqp3hNo3QJ",
        "outputId": "7faeebc2-cf58-4184-e9bd-796f2ac3b6c4",
        "colab": {
          "base_uri": "https://localhost:8080/",
          "height": 17
        }
      },
      "execution_count": 72,
      "outputs": [
        {
          "output_type": "display_data",
          "data": {
            "application/javascript": [
              "\n",
              "    async function download(id, filename, size) {\n",
              "      if (!google.colab.kernel.accessAllowed) {\n",
              "        return;\n",
              "      }\n",
              "      const div = document.createElement('div');\n",
              "      const label = document.createElement('label');\n",
              "      label.textContent = `Downloading \"${filename}\": `;\n",
              "      div.appendChild(label);\n",
              "      const progress = document.createElement('progress');\n",
              "      progress.max = size;\n",
              "      div.appendChild(progress);\n",
              "      document.body.appendChild(div);\n",
              "\n",
              "      const buffers = [];\n",
              "      let downloaded = 0;\n",
              "\n",
              "      const channel = await google.colab.kernel.comms.open(id);\n",
              "      // Send a message to notify the kernel that we're ready.\n",
              "      channel.send({})\n",
              "\n",
              "      for await (const message of channel.messages) {\n",
              "        // Send a message to notify the kernel that we're ready.\n",
              "        channel.send({})\n",
              "        if (message.buffers) {\n",
              "          for (const buffer of message.buffers) {\n",
              "            buffers.push(buffer);\n",
              "            downloaded += buffer.byteLength;\n",
              "            progress.value = downloaded;\n",
              "          }\n",
              "        }\n",
              "      }\n",
              "      const blob = new Blob(buffers, {type: 'application/binary'});\n",
              "      const a = document.createElement('a');\n",
              "      a.href = window.URL.createObjectURL(blob);\n",
              "      a.download = filename;\n",
              "      div.appendChild(a);\n",
              "      a.click();\n",
              "      div.remove();\n",
              "    }\n",
              "  "
            ],
            "text/plain": [
              "<IPython.core.display.Javascript object>"
            ]
          },
          "metadata": {}
        },
        {
          "output_type": "display_data",
          "data": {
            "application/javascript": [
              "download(\"download_0a5dd5c1-5549-49f4-8401-7981bdee47c8\", \"USA_SeptOct2020.csv\", 31223110)"
            ],
            "text/plain": [
              "<IPython.core.display.Javascript object>"
            ]
          },
          "metadata": {}
        }
      ]
    },
    {
      "cell_type": "markdown",
      "source": [
        "## China: SeptOct2020"
      ],
      "metadata": {
        "id": "5wr6YDqWnanl"
      }
    },
    {
      "cell_type": "code",
      "source": [
        "country = \"China\"\n",
        "\n",
        "China_202009_202010 = CGTN_202009_202010.append(XHN_202009_202010, ignore_index=True)\n",
        "\n",
        "label = country+\"_\"+period\n",
        "China_202009_202010.to_csv(label+\".csv\", index=False)\n",
        "files.download(label+\".csv\")"
      ],
      "metadata": {
        "id": "GKaKGekVr4he",
        "outputId": "c80f271f-f20b-465e-d451-0c72ddd0ef7c",
        "colab": {
          "base_uri": "https://localhost:8080/",
          "height": 17
        }
      },
      "execution_count": 73,
      "outputs": [
        {
          "output_type": "display_data",
          "data": {
            "application/javascript": [
              "\n",
              "    async function download(id, filename, size) {\n",
              "      if (!google.colab.kernel.accessAllowed) {\n",
              "        return;\n",
              "      }\n",
              "      const div = document.createElement('div');\n",
              "      const label = document.createElement('label');\n",
              "      label.textContent = `Downloading \"${filename}\": `;\n",
              "      div.appendChild(label);\n",
              "      const progress = document.createElement('progress');\n",
              "      progress.max = size;\n",
              "      div.appendChild(progress);\n",
              "      document.body.appendChild(div);\n",
              "\n",
              "      const buffers = [];\n",
              "      let downloaded = 0;\n",
              "\n",
              "      const channel = await google.colab.kernel.comms.open(id);\n",
              "      // Send a message to notify the kernel that we're ready.\n",
              "      channel.send({})\n",
              "\n",
              "      for await (const message of channel.messages) {\n",
              "        // Send a message to notify the kernel that we're ready.\n",
              "        channel.send({})\n",
              "        if (message.buffers) {\n",
              "          for (const buffer of message.buffers) {\n",
              "            buffers.push(buffer);\n",
              "            downloaded += buffer.byteLength;\n",
              "            progress.value = downloaded;\n",
              "          }\n",
              "        }\n",
              "      }\n",
              "      const blob = new Blob(buffers, {type: 'application/binary'});\n",
              "      const a = document.createElement('a');\n",
              "      a.href = window.URL.createObjectURL(blob);\n",
              "      a.download = filename;\n",
              "      div.appendChild(a);\n",
              "      a.click();\n",
              "      div.remove();\n",
              "    }\n",
              "  "
            ],
            "text/plain": [
              "<IPython.core.display.Javascript object>"
            ]
          },
          "metadata": {}
        },
        {
          "output_type": "display_data",
          "data": {
            "application/javascript": [
              "download(\"download_6fadf050-0153-4d57-9260-a0ffa08d20bb\", \"China_SeptOct2020.csv\", 15362993)"
            ],
            "text/plain": [
              "<IPython.core.display.Javascript object>"
            ]
          },
          "metadata": {}
        }
      ]
    },
    {
      "cell_type": "markdown",
      "source": [
        "## China and USA: SeptOct2020"
      ],
      "metadata": {
        "id": "xPczNR5_xNZ-"
      }
    },
    {
      "cell_type": "code",
      "source": [
        "country = \"China&USA\"\n",
        "\n",
        "ChinaUSA_202009_202010 = China_202009_202010.append(USA_202009_202010, ignore_index=True)\n",
        "\n",
        "label = country+\"_\"+period\n",
        "ChinaUSA_202009_202010.to_csv(label+\".csv\", index=False)\n",
        "files.download(label+\".csv\")"
      ],
      "metadata": {
        "outputId": "2a563a48-2abe-454d-a585-58151f01f304",
        "colab": {
          "base_uri": "https://localhost:8080/",
          "height": 17
        },
        "id": "yEJogqY3xNaD"
      },
      "execution_count": 74,
      "outputs": [
        {
          "output_type": "display_data",
          "data": {
            "application/javascript": [
              "\n",
              "    async function download(id, filename, size) {\n",
              "      if (!google.colab.kernel.accessAllowed) {\n",
              "        return;\n",
              "      }\n",
              "      const div = document.createElement('div');\n",
              "      const label = document.createElement('label');\n",
              "      label.textContent = `Downloading \"${filename}\": `;\n",
              "      div.appendChild(label);\n",
              "      const progress = document.createElement('progress');\n",
              "      progress.max = size;\n",
              "      div.appendChild(progress);\n",
              "      document.body.appendChild(div);\n",
              "\n",
              "      const buffers = [];\n",
              "      let downloaded = 0;\n",
              "\n",
              "      const channel = await google.colab.kernel.comms.open(id);\n",
              "      // Send a message to notify the kernel that we're ready.\n",
              "      channel.send({})\n",
              "\n",
              "      for await (const message of channel.messages) {\n",
              "        // Send a message to notify the kernel that we're ready.\n",
              "        channel.send({})\n",
              "        if (message.buffers) {\n",
              "          for (const buffer of message.buffers) {\n",
              "            buffers.push(buffer);\n",
              "            downloaded += buffer.byteLength;\n",
              "            progress.value = downloaded;\n",
              "          }\n",
              "        }\n",
              "      }\n",
              "      const blob = new Blob(buffers, {type: 'application/binary'});\n",
              "      const a = document.createElement('a');\n",
              "      a.href = window.URL.createObjectURL(blob);\n",
              "      a.download = filename;\n",
              "      div.appendChild(a);\n",
              "      a.click();\n",
              "      div.remove();\n",
              "    }\n",
              "  "
            ],
            "text/plain": [
              "<IPython.core.display.Javascript object>"
            ]
          },
          "metadata": {}
        },
        {
          "output_type": "display_data",
          "data": {
            "application/javascript": [
              "download(\"download_7d8cbefa-d277-4756-b1c6-f2dc7b2c28e3\", \"China&USA_SeptOct2020.csv\", 46585594)"
            ],
            "text/plain": [
              "<IPython.core.display.Javascript object>"
            ]
          },
          "metadata": {}
        }
      ]
    },
    {
      "cell_type": "markdown",
      "source": [
        "# MarchApril2021"
      ],
      "metadata": {
        "id": "dHCTFC88ywMG"
      }
    },
    {
      "cell_type": "code",
      "source": [
        "period = \"MarchApril2021\""
      ],
      "metadata": {
        "id": "kg8vZLKId9U0"
      },
      "execution_count": 75,
      "outputs": []
    },
    {
      "cell_type": "markdown",
      "source": [
        "## Accounts: MarchApril2021"
      ],
      "metadata": {
        "id": "K0vJWtgLJSod"
      }
    },
    {
      "cell_type": "code",
      "source": [
        "account = \"AJ\"\n",
        "\n",
        "AJ_202103_202104=pd.read_csv('/content/AJEnglish_WHO_202103170000_202104170000.csv')\n",
        "AJ_202103_202104 = AJ_202103_202104.append(pd.read_csv('/content/AJEnglish_covid_202103170000_202104170000.csv'),\n",
        "                                           ignore_index=True)\n",
        "AJ_202103_202104 = AJ_202103_202104.append(pd.read_csv('/content/AJEnglish_vaccine_202103170000_202104170000.csv'),\n",
        "                                           ignore_index=True)\n",
        "AJ_202103_202104['account'] = 'AJ'\n",
        "AJ_202103_202104['period'] = period\n",
        "\n",
        "label = account+\"_\"+period\n",
        "AJ_202103_202104.to_csv(label+\".csv\", index=False)\n",
        "files.download(label+\".csv\")"
      ],
      "metadata": {
        "id": "Xm-DZ9vdEiKh",
        "colab": {
          "base_uri": "https://localhost:8080/",
          "height": 17
        },
        "outputId": "76b9d2e7-0220-433a-d6e3-e39ba0797d65"
      },
      "execution_count": 57,
      "outputs": [
        {
          "output_type": "display_data",
          "data": {
            "application/javascript": [
              "\n",
              "    async function download(id, filename, size) {\n",
              "      if (!google.colab.kernel.accessAllowed) {\n",
              "        return;\n",
              "      }\n",
              "      const div = document.createElement('div');\n",
              "      const label = document.createElement('label');\n",
              "      label.textContent = `Downloading \"${filename}\": `;\n",
              "      div.appendChild(label);\n",
              "      const progress = document.createElement('progress');\n",
              "      progress.max = size;\n",
              "      div.appendChild(progress);\n",
              "      document.body.appendChild(div);\n",
              "\n",
              "      const buffers = [];\n",
              "      let downloaded = 0;\n",
              "\n",
              "      const channel = await google.colab.kernel.comms.open(id);\n",
              "      // Send a message to notify the kernel that we're ready.\n",
              "      channel.send({})\n",
              "\n",
              "      for await (const message of channel.messages) {\n",
              "        // Send a message to notify the kernel that we're ready.\n",
              "        channel.send({})\n",
              "        if (message.buffers) {\n",
              "          for (const buffer of message.buffers) {\n",
              "            buffers.push(buffer);\n",
              "            downloaded += buffer.byteLength;\n",
              "            progress.value = downloaded;\n",
              "          }\n",
              "        }\n",
              "      }\n",
              "      const blob = new Blob(buffers, {type: 'application/binary'});\n",
              "      const a = document.createElement('a');\n",
              "      a.href = window.URL.createObjectURL(blob);\n",
              "      a.download = filename;\n",
              "      div.appendChild(a);\n",
              "      a.click();\n",
              "      div.remove();\n",
              "    }\n",
              "  "
            ],
            "text/plain": [
              "<IPython.core.display.Javascript object>"
            ]
          },
          "metadata": {}
        },
        {
          "output_type": "display_data",
          "data": {
            "application/javascript": [
              "download(\"download_3e0a1012-9b02-4a09-af76-cc0606bd7f7f\", \"AJ_MarchApril2021.csv\", 1913698)"
            ],
            "text/plain": [
              "<IPython.core.display.Javascript object>"
            ]
          },
          "metadata": {}
        }
      ]
    },
    {
      "cell_type": "code",
      "source": [
        "account = \"AP\"\n",
        "\n",
        "AP_202103_202104=pd.read_csv('/content/AP_WHO_202103170000_202104170000.csv')\n",
        "AP_202103_202104 = AP_202103_202104.append(pd.read_csv('/content/AP_covid_202103170000_202104170000.csv'),\n",
        "                                           ignore_index=True)\n",
        "AP_202103_202104 = AP_202103_202104.append(pd.read_csv('/content/AP_vaccine_202103170000_202104170000.csv'),\n",
        "                                           ignore_index=True)\n",
        "AP_202103_202104['account'] = 'AP'\n",
        "AP_202103_202104['period'] = period\n",
        "\n",
        "label = account+\"_\"+period\n",
        "AP_202103_202104.to_csv(label+\".csv\", index=False)\n",
        "files.download(label+\".csv\")"
      ],
      "metadata": {
        "id": "XuzvZjU9N0NC",
        "colab": {
          "base_uri": "https://localhost:8080/",
          "height": 17
        },
        "outputId": "cbe454dc-dfc4-431e-acdc-b2f985f390b2"
      },
      "execution_count": 58,
      "outputs": [
        {
          "output_type": "display_data",
          "data": {
            "application/javascript": [
              "\n",
              "    async function download(id, filename, size) {\n",
              "      if (!google.colab.kernel.accessAllowed) {\n",
              "        return;\n",
              "      }\n",
              "      const div = document.createElement('div');\n",
              "      const label = document.createElement('label');\n",
              "      label.textContent = `Downloading \"${filename}\": `;\n",
              "      div.appendChild(label);\n",
              "      const progress = document.createElement('progress');\n",
              "      progress.max = size;\n",
              "      div.appendChild(progress);\n",
              "      document.body.appendChild(div);\n",
              "\n",
              "      const buffers = [];\n",
              "      let downloaded = 0;\n",
              "\n",
              "      const channel = await google.colab.kernel.comms.open(id);\n",
              "      // Send a message to notify the kernel that we're ready.\n",
              "      channel.send({})\n",
              "\n",
              "      for await (const message of channel.messages) {\n",
              "        // Send a message to notify the kernel that we're ready.\n",
              "        channel.send({})\n",
              "        if (message.buffers) {\n",
              "          for (const buffer of message.buffers) {\n",
              "            buffers.push(buffer);\n",
              "            downloaded += buffer.byteLength;\n",
              "            progress.value = downloaded;\n",
              "          }\n",
              "        }\n",
              "      }\n",
              "      const blob = new Blob(buffers, {type: 'application/binary'});\n",
              "      const a = document.createElement('a');\n",
              "      a.href = window.URL.createObjectURL(blob);\n",
              "      a.download = filename;\n",
              "      div.appendChild(a);\n",
              "      a.click();\n",
              "      div.remove();\n",
              "    }\n",
              "  "
            ],
            "text/plain": [
              "<IPython.core.display.Javascript object>"
            ]
          },
          "metadata": {}
        },
        {
          "output_type": "display_data",
          "data": {
            "application/javascript": [
              "download(\"download_c163fc2d-6a01-4d79-a58e-3d4587871bff\", \"AP_MarchApril2021.csv\", 1037903)"
            ],
            "text/plain": [
              "<IPython.core.display.Javascript object>"
            ]
          },
          "metadata": {}
        }
      ]
    },
    {
      "cell_type": "code",
      "source": [
        "account = \"BBC\"\n",
        "\n",
        "BBC_202103_202104=pd.read_csv('/content/BBCWorld_WHO_202103170000_202104170000.csv')\n",
        "BBC_202103_202104 = BBC_202103_202104.append(pd.read_csv('/content/BBCWorld_covid_202103170000_202104170000.csv'),\n",
        "                                           ignore_index=True)\n",
        "BBC_202103_202104 = BBC_202103_202104.append(pd.read_csv('/content/BBCWorld_vaccine_202103170000_202104170000.csv'),\n",
        "                                           ignore_index=True)\n",
        "BBC_202103_202104['account'] = 'BBC'\n",
        "BBC_202103_202104['period'] = period\n",
        "\n",
        "label = account+\"_\"+period\n",
        "BBC_202103_202104.to_csv(label+\".csv\", index=False)\n",
        "files.download(label+\".csv\")"
      ],
      "metadata": {
        "id": "224895S8P9V0",
        "colab": {
          "base_uri": "https://localhost:8080/",
          "height": 17
        },
        "outputId": "aa8d9c2f-abed-4aeb-9b15-63d311a0571a"
      },
      "execution_count": 59,
      "outputs": [
        {
          "output_type": "display_data",
          "data": {
            "application/javascript": [
              "\n",
              "    async function download(id, filename, size) {\n",
              "      if (!google.colab.kernel.accessAllowed) {\n",
              "        return;\n",
              "      }\n",
              "      const div = document.createElement('div');\n",
              "      const label = document.createElement('label');\n",
              "      label.textContent = `Downloading \"${filename}\": `;\n",
              "      div.appendChild(label);\n",
              "      const progress = document.createElement('progress');\n",
              "      progress.max = size;\n",
              "      div.appendChild(progress);\n",
              "      document.body.appendChild(div);\n",
              "\n",
              "      const buffers = [];\n",
              "      let downloaded = 0;\n",
              "\n",
              "      const channel = await google.colab.kernel.comms.open(id);\n",
              "      // Send a message to notify the kernel that we're ready.\n",
              "      channel.send({})\n",
              "\n",
              "      for await (const message of channel.messages) {\n",
              "        // Send a message to notify the kernel that we're ready.\n",
              "        channel.send({})\n",
              "        if (message.buffers) {\n",
              "          for (const buffer of message.buffers) {\n",
              "            buffers.push(buffer);\n",
              "            downloaded += buffer.byteLength;\n",
              "            progress.value = downloaded;\n",
              "          }\n",
              "        }\n",
              "      }\n",
              "      const blob = new Blob(buffers, {type: 'application/binary'});\n",
              "      const a = document.createElement('a');\n",
              "      a.href = window.URL.createObjectURL(blob);\n",
              "      a.download = filename;\n",
              "      div.appendChild(a);\n",
              "      a.click();\n",
              "      div.remove();\n",
              "    }\n",
              "  "
            ],
            "text/plain": [
              "<IPython.core.display.Javascript object>"
            ]
          },
          "metadata": {}
        },
        {
          "output_type": "display_data",
          "data": {
            "application/javascript": [
              "download(\"download_deeea549-0fb3-4620-a53c-4d9d47cc94bd\", \"BBC_MarchApril2021.csv\", 781273)"
            ],
            "text/plain": [
              "<IPython.core.display.Javascript object>"
            ]
          },
          "metadata": {}
        }
      ]
    },
    {
      "cell_type": "code",
      "source": [
        "account = \"CGTN\"\n",
        "\n",
        "CGTN_202103_202104=pd.read_csv('/content/CGTNOfficial_WHO_202103170000_202104170000.csv')\n",
        "CGTN_202103_202104 = CGTN_202103_202104.append(pd.read_csv('/content/CGTNOfficial_covid_202103170000_202104170000.csv'),\n",
        "                                           ignore_index=True)\n",
        "CGTN_202103_202104 = CGTN_202103_202104.append(pd.read_csv('/content/CGTNOfficial_vaccine_202103170000_202104170000.csv'),\n",
        "                                           ignore_index=True)\n",
        "CGTN_202103_202104['account'] = 'CGTN'\n",
        "CGTN_202103_202104['period'] = period\n",
        "\n",
        "label = account+\"_\"+period\n",
        "CGTN_202103_202104.to_csv(label+\".csv\", index=False)\n",
        "files.download(label+\".csv\")"
      ],
      "metadata": {
        "id": "SzRd5U8AR92G",
        "colab": {
          "base_uri": "https://localhost:8080/",
          "height": 17
        },
        "outputId": "7e646291-3915-48e8-9fb1-f4b23fe6f1ed"
      },
      "execution_count": 60,
      "outputs": [
        {
          "output_type": "display_data",
          "data": {
            "application/javascript": [
              "\n",
              "    async function download(id, filename, size) {\n",
              "      if (!google.colab.kernel.accessAllowed) {\n",
              "        return;\n",
              "      }\n",
              "      const div = document.createElement('div');\n",
              "      const label = document.createElement('label');\n",
              "      label.textContent = `Downloading \"${filename}\": `;\n",
              "      div.appendChild(label);\n",
              "      const progress = document.createElement('progress');\n",
              "      progress.max = size;\n",
              "      div.appendChild(progress);\n",
              "      document.body.appendChild(div);\n",
              "\n",
              "      const buffers = [];\n",
              "      let downloaded = 0;\n",
              "\n",
              "      const channel = await google.colab.kernel.comms.open(id);\n",
              "      // Send a message to notify the kernel that we're ready.\n",
              "      channel.send({})\n",
              "\n",
              "      for await (const message of channel.messages) {\n",
              "        // Send a message to notify the kernel that we're ready.\n",
              "        channel.send({})\n",
              "        if (message.buffers) {\n",
              "          for (const buffer of message.buffers) {\n",
              "            buffers.push(buffer);\n",
              "            downloaded += buffer.byteLength;\n",
              "            progress.value = downloaded;\n",
              "          }\n",
              "        }\n",
              "      }\n",
              "      const blob = new Blob(buffers, {type: 'application/binary'});\n",
              "      const a = document.createElement('a');\n",
              "      a.href = window.URL.createObjectURL(blob);\n",
              "      a.download = filename;\n",
              "      div.appendChild(a);\n",
              "      a.click();\n",
              "      div.remove();\n",
              "    }\n",
              "  "
            ],
            "text/plain": [
              "<IPython.core.display.Javascript object>"
            ]
          },
          "metadata": {}
        },
        {
          "output_type": "display_data",
          "data": {
            "application/javascript": [
              "download(\"download_a95fb399-b074-421a-8e9e-412fab5e0941\", \"CGTN_MarchApril2021.csv\", 3938518)"
            ],
            "text/plain": [
              "<IPython.core.display.Javascript object>"
            ]
          },
          "metadata": {}
        }
      ]
    },
    {
      "cell_type": "code",
      "source": [
        "account = \"CNN\"\n",
        "\n",
        "CNN_202103_202104=pd.read_csv('/content/CNN_WHO_202103170000_202104170000.csv')\n",
        "CNN_202103_202104 = CNN_202103_202104.append(pd.read_csv('/content/CNN_covid_202103170000_202104170000.csv'),\n",
        "                                           ignore_index=True)\n",
        "CNN_202103_202104 = CNN_202103_202104.append(pd.read_csv('/content/CNN_vaccine_202103170000_202104170000.csv'),\n",
        "                                           ignore_index=True)\n",
        "CNN_202103_202104['account'] = 'CNN'\n",
        "CNN_202103_202104['period'] = period\n",
        "\n",
        "label = account+\"_\"+period\n",
        "CNN_202103_202104.to_csv(label+\".csv\", index=False)\n",
        "files.download(label+\".csv\")"
      ],
      "metadata": {
        "id": "v7iorBisUr7_",
        "colab": {
          "base_uri": "https://localhost:8080/",
          "height": 17
        },
        "outputId": "ee43091c-7871-4046-8444-4162d5ca6756"
      },
      "execution_count": 61,
      "outputs": [
        {
          "output_type": "display_data",
          "data": {
            "application/javascript": [
              "\n",
              "    async function download(id, filename, size) {\n",
              "      if (!google.colab.kernel.accessAllowed) {\n",
              "        return;\n",
              "      }\n",
              "      const div = document.createElement('div');\n",
              "      const label = document.createElement('label');\n",
              "      label.textContent = `Downloading \"${filename}\": `;\n",
              "      div.appendChild(label);\n",
              "      const progress = document.createElement('progress');\n",
              "      progress.max = size;\n",
              "      div.appendChild(progress);\n",
              "      document.body.appendChild(div);\n",
              "\n",
              "      const buffers = [];\n",
              "      let downloaded = 0;\n",
              "\n",
              "      const channel = await google.colab.kernel.comms.open(id);\n",
              "      // Send a message to notify the kernel that we're ready.\n",
              "      channel.send({})\n",
              "\n",
              "      for await (const message of channel.messages) {\n",
              "        // Send a message to notify the kernel that we're ready.\n",
              "        channel.send({})\n",
              "        if (message.buffers) {\n",
              "          for (const buffer of message.buffers) {\n",
              "            buffers.push(buffer);\n",
              "            downloaded += buffer.byteLength;\n",
              "            progress.value = downloaded;\n",
              "          }\n",
              "        }\n",
              "      }\n",
              "      const blob = new Blob(buffers, {type: 'application/binary'});\n",
              "      const a = document.createElement('a');\n",
              "      a.href = window.URL.createObjectURL(blob);\n",
              "      a.download = filename;\n",
              "      div.appendChild(a);\n",
              "      a.click();\n",
              "      div.remove();\n",
              "    }\n",
              "  "
            ],
            "text/plain": [
              "<IPython.core.display.Javascript object>"
            ]
          },
          "metadata": {}
        },
        {
          "output_type": "display_data",
          "data": {
            "application/javascript": [
              "download(\"download_b3e34065-0572-463c-ac02-6057ee08f6a5\", \"CNN_MarchApril2021.csv\", 1675589)"
            ],
            "text/plain": [
              "<IPython.core.display.Javascript object>"
            ]
          },
          "metadata": {}
        }
      ]
    },
    {
      "cell_type": "code",
      "source": [
        "account = \"R\"\n",
        "\n",
        "R_202103_202104=pd.read_csv('/content/Reuters_WHO_202103170000_202104170000.csv')\n",
        "R_202103_202104 = R_202103_202104.append(pd.read_csv('/content/Reuters_covid_202103170000_202104170000.csv'),\n",
        "                                           ignore_index=True)\n",
        "R_202103_202104 = R_202103_202104.append(pd.read_csv('/content/Reuters_vaccine_202103170000_202104170000.csv'),\n",
        "                                           ignore_index=True)\n",
        "R_202103_202104['account'] = 'R'\n",
        "R_202103_202104['period'] = period\n",
        "\n",
        "label = account+\"_\"+period\n",
        "R_202103_202104.to_csv(label+\".csv\", index=False)\n",
        "files.download(label+\".csv\")"
      ],
      "metadata": {
        "id": "DFcDFMoOV3NM",
        "colab": {
          "base_uri": "https://localhost:8080/",
          "height": 17
        },
        "outputId": "fbfd917c-de3c-408b-c03a-bb126cfc304e"
      },
      "execution_count": 62,
      "outputs": [
        {
          "output_type": "display_data",
          "data": {
            "application/javascript": [
              "\n",
              "    async function download(id, filename, size) {\n",
              "      if (!google.colab.kernel.accessAllowed) {\n",
              "        return;\n",
              "      }\n",
              "      const div = document.createElement('div');\n",
              "      const label = document.createElement('label');\n",
              "      label.textContent = `Downloading \"${filename}\": `;\n",
              "      div.appendChild(label);\n",
              "      const progress = document.createElement('progress');\n",
              "      progress.max = size;\n",
              "      div.appendChild(progress);\n",
              "      document.body.appendChild(div);\n",
              "\n",
              "      const buffers = [];\n",
              "      let downloaded = 0;\n",
              "\n",
              "      const channel = await google.colab.kernel.comms.open(id);\n",
              "      // Send a message to notify the kernel that we're ready.\n",
              "      channel.send({})\n",
              "\n",
              "      for await (const message of channel.messages) {\n",
              "        // Send a message to notify the kernel that we're ready.\n",
              "        channel.send({})\n",
              "        if (message.buffers) {\n",
              "          for (const buffer of message.buffers) {\n",
              "            buffers.push(buffer);\n",
              "            downloaded += buffer.byteLength;\n",
              "            progress.value = downloaded;\n",
              "          }\n",
              "        }\n",
              "      }\n",
              "      const blob = new Blob(buffers, {type: 'application/binary'});\n",
              "      const a = document.createElement('a');\n",
              "      a.href = window.URL.createObjectURL(blob);\n",
              "      a.download = filename;\n",
              "      div.appendChild(a);\n",
              "      a.click();\n",
              "      div.remove();\n",
              "    }\n",
              "  "
            ],
            "text/plain": [
              "<IPython.core.display.Javascript object>"
            ]
          },
          "metadata": {}
        },
        {
          "output_type": "display_data",
          "data": {
            "application/javascript": [
              "download(\"download_5e242eea-cf7f-4d6f-b1b7-5f9c3da36883\", \"R_MarchApril2021.csv\", 8952813)"
            ],
            "text/plain": [
              "<IPython.core.display.Javascript object>"
            ]
          },
          "metadata": {}
        }
      ]
    },
    {
      "cell_type": "code",
      "source": [
        "account = \"XHN\"\n",
        "\n",
        "XHN_202103_202104=pd.read_csv('/content/XHNews_WHO_202103170000_202104170000.csv')\n",
        "XHN_202103_202104 = XHN_202103_202104.append(pd.read_csv('/content/XHNews_covid_202103170000_202104170000.csv'),\n",
        "                                           ignore_index=True)\n",
        "XHN_202103_202104 = XHN_202103_202104.append(pd.read_csv('/content/XHNews_vaccine_202103170000_202104170000.csv'),\n",
        "                                           ignore_index=True)\n",
        "XHN_202103_202104['account'] = 'XHN'\n",
        "XHN_202103_202104['period'] = period\n",
        "\n",
        "label = account+\"_\"+period\n",
        "XHN_202103_202104.to_csv(label+\".csv\", index=False)\n",
        "files.download(label+\".csv\")"
      ],
      "metadata": {
        "id": "v_DdKq4_V_-T",
        "colab": {
          "base_uri": "https://localhost:8080/",
          "height": 17
        },
        "outputId": "324b3a4f-6121-4b1c-9c4b-334d331898e6"
      },
      "execution_count": 63,
      "outputs": [
        {
          "output_type": "display_data",
          "data": {
            "application/javascript": [
              "\n",
              "    async function download(id, filename, size) {\n",
              "      if (!google.colab.kernel.accessAllowed) {\n",
              "        return;\n",
              "      }\n",
              "      const div = document.createElement('div');\n",
              "      const label = document.createElement('label');\n",
              "      label.textContent = `Downloading \"${filename}\": `;\n",
              "      div.appendChild(label);\n",
              "      const progress = document.createElement('progress');\n",
              "      progress.max = size;\n",
              "      div.appendChild(progress);\n",
              "      document.body.appendChild(div);\n",
              "\n",
              "      const buffers = [];\n",
              "      let downloaded = 0;\n",
              "\n",
              "      const channel = await google.colab.kernel.comms.open(id);\n",
              "      // Send a message to notify the kernel that we're ready.\n",
              "      channel.send({})\n",
              "\n",
              "      for await (const message of channel.messages) {\n",
              "        // Send a message to notify the kernel that we're ready.\n",
              "        channel.send({})\n",
              "        if (message.buffers) {\n",
              "          for (const buffer of message.buffers) {\n",
              "            buffers.push(buffer);\n",
              "            downloaded += buffer.byteLength;\n",
              "            progress.value = downloaded;\n",
              "          }\n",
              "        }\n",
              "      }\n",
              "      const blob = new Blob(buffers, {type: 'application/binary'});\n",
              "      const a = document.createElement('a');\n",
              "      a.href = window.URL.createObjectURL(blob);\n",
              "      a.download = filename;\n",
              "      div.appendChild(a);\n",
              "      a.click();\n",
              "      div.remove();\n",
              "    }\n",
              "  "
            ],
            "text/plain": [
              "<IPython.core.display.Javascript object>"
            ]
          },
          "metadata": {}
        },
        {
          "output_type": "display_data",
          "data": {
            "application/javascript": [
              "download(\"download_bb85a0d2-3767-4cab-a157-11e716ecd386\", \"XHN_MarchApril2021.csv\", 2458593)"
            ],
            "text/plain": [
              "<IPython.core.display.Javascript object>"
            ]
          },
          "metadata": {}
        }
      ]
    },
    {
      "cell_type": "markdown",
      "source": [
        "## USA: MarchApril2021"
      ],
      "metadata": {
        "id": "mDcKUEWBnTB6"
      }
    },
    {
      "cell_type": "code",
      "source": [
        "country = \"USA\"\n",
        "\n",
        "USA_202103_202104 = AJ_202103_202104.append(AP_202103_202104, ignore_index=True)\n",
        "USA_202103_202104 = USA_202103_202104.append(BBC_202103_202104, ignore_index=True)\n",
        "USA_202103_202104 = USA_202103_202104.append(CNN_202103_202104, ignore_index=True)\n",
        "USA_202103_202104 = USA_202103_202104.append(R_202103_202104, ignore_index=True)\n",
        "\n",
        "label = country+\"_\"+period\n",
        "USA_202103_202104.to_csv(label+\".csv\", index=False)\n",
        "files.download(label+\".csv\")"
      ],
      "metadata": {
        "id": "xwuG0Iu5q5-7",
        "outputId": "2da26f48-6222-49af-8623-6eff50844ebd",
        "colab": {
          "base_uri": "https://localhost:8080/",
          "height": 17
        }
      },
      "execution_count": 76,
      "outputs": [
        {
          "output_type": "display_data",
          "data": {
            "application/javascript": [
              "\n",
              "    async function download(id, filename, size) {\n",
              "      if (!google.colab.kernel.accessAllowed) {\n",
              "        return;\n",
              "      }\n",
              "      const div = document.createElement('div');\n",
              "      const label = document.createElement('label');\n",
              "      label.textContent = `Downloading \"${filename}\": `;\n",
              "      div.appendChild(label);\n",
              "      const progress = document.createElement('progress');\n",
              "      progress.max = size;\n",
              "      div.appendChild(progress);\n",
              "      document.body.appendChild(div);\n",
              "\n",
              "      const buffers = [];\n",
              "      let downloaded = 0;\n",
              "\n",
              "      const channel = await google.colab.kernel.comms.open(id);\n",
              "      // Send a message to notify the kernel that we're ready.\n",
              "      channel.send({})\n",
              "\n",
              "      for await (const message of channel.messages) {\n",
              "        // Send a message to notify the kernel that we're ready.\n",
              "        channel.send({})\n",
              "        if (message.buffers) {\n",
              "          for (const buffer of message.buffers) {\n",
              "            buffers.push(buffer);\n",
              "            downloaded += buffer.byteLength;\n",
              "            progress.value = downloaded;\n",
              "          }\n",
              "        }\n",
              "      }\n",
              "      const blob = new Blob(buffers, {type: 'application/binary'});\n",
              "      const a = document.createElement('a');\n",
              "      a.href = window.URL.createObjectURL(blob);\n",
              "      a.download = filename;\n",
              "      div.appendChild(a);\n",
              "      a.click();\n",
              "      div.remove();\n",
              "    }\n",
              "  "
            ],
            "text/plain": [
              "<IPython.core.display.Javascript object>"
            ]
          },
          "metadata": {}
        },
        {
          "output_type": "display_data",
          "data": {
            "application/javascript": [
              "download(\"download_febcc6a5-dec2-44bf-8951-2476fe570454\", \"USA_MarchApril2021.csv\", 14377211)"
            ],
            "text/plain": [
              "<IPython.core.display.Javascript object>"
            ]
          },
          "metadata": {}
        }
      ]
    },
    {
      "cell_type": "markdown",
      "source": [
        "## China: MarchApril2021"
      ],
      "metadata": {
        "id": "J5kO0klTnanl"
      }
    },
    {
      "cell_type": "code",
      "source": [
        "country = \"China\"\n",
        "\n",
        "China_202103_202104 = CGTN_202103_202104.append(XHN_202103_202104, ignore_index=True)\n",
        "\n",
        "label = country+\"_\"+period\n",
        "China_202103_202104.to_csv(label+\".csv\", index=False)\n",
        "files.download(label+\".csv\")"
      ],
      "metadata": {
        "id": "ZTqXKLE9r-ww",
        "outputId": "0665a874-7a91-4d5b-d549-6b01768a892e",
        "colab": {
          "base_uri": "https://localhost:8080/",
          "height": 17
        }
      },
      "execution_count": 77,
      "outputs": [
        {
          "output_type": "display_data",
          "data": {
            "application/javascript": [
              "\n",
              "    async function download(id, filename, size) {\n",
              "      if (!google.colab.kernel.accessAllowed) {\n",
              "        return;\n",
              "      }\n",
              "      const div = document.createElement('div');\n",
              "      const label = document.createElement('label');\n",
              "      label.textContent = `Downloading \"${filename}\": `;\n",
              "      div.appendChild(label);\n",
              "      const progress = document.createElement('progress');\n",
              "      progress.max = size;\n",
              "      div.appendChild(progress);\n",
              "      document.body.appendChild(div);\n",
              "\n",
              "      const buffers = [];\n",
              "      let downloaded = 0;\n",
              "\n",
              "      const channel = await google.colab.kernel.comms.open(id);\n",
              "      // Send a message to notify the kernel that we're ready.\n",
              "      channel.send({})\n",
              "\n",
              "      for await (const message of channel.messages) {\n",
              "        // Send a message to notify the kernel that we're ready.\n",
              "        channel.send({})\n",
              "        if (message.buffers) {\n",
              "          for (const buffer of message.buffers) {\n",
              "            buffers.push(buffer);\n",
              "            downloaded += buffer.byteLength;\n",
              "            progress.value = downloaded;\n",
              "          }\n",
              "        }\n",
              "      }\n",
              "      const blob = new Blob(buffers, {type: 'application/binary'});\n",
              "      const a = document.createElement('a');\n",
              "      a.href = window.URL.createObjectURL(blob);\n",
              "      a.download = filename;\n",
              "      div.appendChild(a);\n",
              "      a.click();\n",
              "      div.remove();\n",
              "    }\n",
              "  "
            ],
            "text/plain": [
              "<IPython.core.display.Javascript object>"
            ]
          },
          "metadata": {}
        },
        {
          "output_type": "display_data",
          "data": {
            "application/javascript": [
              "download(\"download_8b231229-1be4-4d54-903b-83db0ff899c1\", \"China_MarchApril2021.csv\", 6398980)"
            ],
            "text/plain": [
              "<IPython.core.display.Javascript object>"
            ]
          },
          "metadata": {}
        }
      ]
    },
    {
      "cell_type": "markdown",
      "source": [
        "## China and USA: MarchApril2021"
      ],
      "metadata": {
        "id": "j2OLKek9xo_z"
      }
    },
    {
      "cell_type": "code",
      "source": [
        "country = \"China&USA\"\n",
        "\n",
        "ChinaUSA_202103_202104 = China_202103_202104.append(USA_202103_202104, ignore_index=True)\n",
        "\n",
        "label = country+\"_\"+period\n",
        "ChinaUSA_202103_202104.to_csv(label+\".csv\", index=False)\n",
        "files.download(label+\".csv\")"
      ],
      "metadata": {
        "outputId": "86bee27a-cd36-4da9-f5be-8e4c20779369",
        "colab": {
          "base_uri": "https://localhost:8080/",
          "height": 0
        },
        "id": "glSPsYcwxo_0"
      },
      "execution_count": 78,
      "outputs": [
        {
          "output_type": "display_data",
          "data": {
            "application/javascript": [
              "\n",
              "    async function download(id, filename, size) {\n",
              "      if (!google.colab.kernel.accessAllowed) {\n",
              "        return;\n",
              "      }\n",
              "      const div = document.createElement('div');\n",
              "      const label = document.createElement('label');\n",
              "      label.textContent = `Downloading \"${filename}\": `;\n",
              "      div.appendChild(label);\n",
              "      const progress = document.createElement('progress');\n",
              "      progress.max = size;\n",
              "      div.appendChild(progress);\n",
              "      document.body.appendChild(div);\n",
              "\n",
              "      const buffers = [];\n",
              "      let downloaded = 0;\n",
              "\n",
              "      const channel = await google.colab.kernel.comms.open(id);\n",
              "      // Send a message to notify the kernel that we're ready.\n",
              "      channel.send({})\n",
              "\n",
              "      for await (const message of channel.messages) {\n",
              "        // Send a message to notify the kernel that we're ready.\n",
              "        channel.send({})\n",
              "        if (message.buffers) {\n",
              "          for (const buffer of message.buffers) {\n",
              "            buffers.push(buffer);\n",
              "            downloaded += buffer.byteLength;\n",
              "            progress.value = downloaded;\n",
              "          }\n",
              "        }\n",
              "      }\n",
              "      const blob = new Blob(buffers, {type: 'application/binary'});\n",
              "      const a = document.createElement('a');\n",
              "      a.href = window.URL.createObjectURL(blob);\n",
              "      a.download = filename;\n",
              "      div.appendChild(a);\n",
              "      a.click();\n",
              "      div.remove();\n",
              "    }\n",
              "  "
            ],
            "text/plain": [
              "<IPython.core.display.Javascript object>"
            ]
          },
          "metadata": {}
        },
        {
          "output_type": "display_data",
          "data": {
            "application/javascript": [
              "download(\"download_1255b178-ddb2-4088-898e-23e2f701b58e\", \"China&USA_MarchApril2021.csv\", 20777058)"
            ],
            "text/plain": [
              "<IPython.core.display.Javascript object>"
            ]
          },
          "metadata": {}
        }
      ]
    },
    {
      "cell_type": "markdown",
      "source": [
        "# All"
      ],
      "metadata": {
        "id": "oC1mZhSQy0dO"
      }
    },
    {
      "cell_type": "markdown",
      "source": [
        "## USA: all"
      ],
      "metadata": {
        "id": "1ryXnRxknhQj"
      }
    },
    {
      "cell_type": "code",
      "source": [
        "country = \"USA\"\n",
        "\n",
        "USA = USA_202001_202002.append(USA_202009_202010, ignore_index=True)\n",
        "USA = USA.append(USA_202103_202104, ignore_index=True)\n",
        "\n",
        "USA.to_csv(country+\".csv\", index=False)\n",
        "files.download(country+\".csv\")"
      ],
      "metadata": {
        "id": "0Xs2OQGasZIz",
        "outputId": "f2a86f47-9e7a-4145-9030-5610b5ebd6a4",
        "colab": {
          "base_uri": "https://localhost:8080/",
          "height": 0
        }
      },
      "execution_count": 80,
      "outputs": [
        {
          "output_type": "display_data",
          "data": {
            "application/javascript": [
              "\n",
              "    async function download(id, filename, size) {\n",
              "      if (!google.colab.kernel.accessAllowed) {\n",
              "        return;\n",
              "      }\n",
              "      const div = document.createElement('div');\n",
              "      const label = document.createElement('label');\n",
              "      label.textContent = `Downloading \"${filename}\": `;\n",
              "      div.appendChild(label);\n",
              "      const progress = document.createElement('progress');\n",
              "      progress.max = size;\n",
              "      div.appendChild(progress);\n",
              "      document.body.appendChild(div);\n",
              "\n",
              "      const buffers = [];\n",
              "      let downloaded = 0;\n",
              "\n",
              "      const channel = await google.colab.kernel.comms.open(id);\n",
              "      // Send a message to notify the kernel that we're ready.\n",
              "      channel.send({})\n",
              "\n",
              "      for await (const message of channel.messages) {\n",
              "        // Send a message to notify the kernel that we're ready.\n",
              "        channel.send({})\n",
              "        if (message.buffers) {\n",
              "          for (const buffer of message.buffers) {\n",
              "            buffers.push(buffer);\n",
              "            downloaded += buffer.byteLength;\n",
              "            progress.value = downloaded;\n",
              "          }\n",
              "        }\n",
              "      }\n",
              "      const blob = new Blob(buffers, {type: 'application/binary'});\n",
              "      const a = document.createElement('a');\n",
              "      a.href = window.URL.createObjectURL(blob);\n",
              "      a.download = filename;\n",
              "      div.appendChild(a);\n",
              "      a.click();\n",
              "      div.remove();\n",
              "    }\n",
              "  "
            ],
            "text/plain": [
              "<IPython.core.display.Javascript object>"
            ]
          },
          "metadata": {}
        },
        {
          "output_type": "display_data",
          "data": {
            "application/javascript": [
              "download(\"download_76031e9b-da85-44c9-8a37-6289de2f28c8\", \"USA.csv\", 72734674)"
            ],
            "text/plain": [
              "<IPython.core.display.Javascript object>"
            ]
          },
          "metadata": {}
        }
      ]
    },
    {
      "cell_type": "markdown",
      "source": [
        "## China: all"
      ],
      "metadata": {
        "id": "VMKLUrc4nkbv"
      }
    },
    {
      "cell_type": "code",
      "source": [
        "country = \"China\"\n",
        "\n",
        "China = China_202001_202002.append(China_202009_202010, ignore_index=True)\n",
        "China = China.append(USA_202103_202104, ignore_index=True)\n",
        "\n",
        "China.to_csv(country+\".csv\", index=False)\n",
        "files.download(country+\".csv\")"
      ],
      "metadata": {
        "id": "hS7oyQkrvBOI",
        "outputId": "37ee948a-7b76-4186-dbe6-463c224e9d1f",
        "colab": {
          "base_uri": "https://localhost:8080/",
          "height": 17
        }
      },
      "execution_count": 81,
      "outputs": [
        {
          "output_type": "display_data",
          "data": {
            "application/javascript": [
              "\n",
              "    async function download(id, filename, size) {\n",
              "      if (!google.colab.kernel.accessAllowed) {\n",
              "        return;\n",
              "      }\n",
              "      const div = document.createElement('div');\n",
              "      const label = document.createElement('label');\n",
              "      label.textContent = `Downloading \"${filename}\": `;\n",
              "      div.appendChild(label);\n",
              "      const progress = document.createElement('progress');\n",
              "      progress.max = size;\n",
              "      div.appendChild(progress);\n",
              "      document.body.appendChild(div);\n",
              "\n",
              "      const buffers = [];\n",
              "      let downloaded = 0;\n",
              "\n",
              "      const channel = await google.colab.kernel.comms.open(id);\n",
              "      // Send a message to notify the kernel that we're ready.\n",
              "      channel.send({})\n",
              "\n",
              "      for await (const message of channel.messages) {\n",
              "        // Send a message to notify the kernel that we're ready.\n",
              "        channel.send({})\n",
              "        if (message.buffers) {\n",
              "          for (const buffer of message.buffers) {\n",
              "            buffers.push(buffer);\n",
              "            downloaded += buffer.byteLength;\n",
              "            progress.value = downloaded;\n",
              "          }\n",
              "        }\n",
              "      }\n",
              "      const blob = new Blob(buffers, {type: 'application/binary'});\n",
              "      const a = document.createElement('a');\n",
              "      a.href = window.URL.createObjectURL(blob);\n",
              "      a.download = filename;\n",
              "      div.appendChild(a);\n",
              "      a.click();\n",
              "      div.remove();\n",
              "    }\n",
              "  "
            ],
            "text/plain": [
              "<IPython.core.display.Javascript object>"
            ]
          },
          "metadata": {}
        },
        {
          "output_type": "display_data",
          "data": {
            "application/javascript": [
              "download(\"download_802eb37f-022a-4272-9b64-95f25ac715c9\", \"China.csv\", 53655966)"
            ],
            "text/plain": [
              "<IPython.core.display.Javascript object>"
            ]
          },
          "metadata": {}
        }
      ]
    },
    {
      "cell_type": "markdown",
      "source": [
        "## China and USA: all"
      ],
      "metadata": {
        "id": "1a63o_krn_fM"
      }
    },
    {
      "cell_type": "code",
      "source": [
        "country = \"China&USA\"\n",
        "\n",
        "ChinaUSA = China.append(USA, ignore_index=True)\n",
        "\n",
        "ChinaUSA.to_csv(country+\".csv\", index=False)\n",
        "files.download(country+\".csv\")"
      ],
      "metadata": {
        "id": "IpBlQiDPvPMq",
        "outputId": "5effb809-83ca-4d8e-fa13-c3866c68bcef",
        "colab": {
          "base_uri": "https://localhost:8080/",
          "height": 17
        }
      },
      "execution_count": 82,
      "outputs": [
        {
          "output_type": "display_data",
          "data": {
            "application/javascript": [
              "\n",
              "    async function download(id, filename, size) {\n",
              "      if (!google.colab.kernel.accessAllowed) {\n",
              "        return;\n",
              "      }\n",
              "      const div = document.createElement('div');\n",
              "      const label = document.createElement('label');\n",
              "      label.textContent = `Downloading \"${filename}\": `;\n",
              "      div.appendChild(label);\n",
              "      const progress = document.createElement('progress');\n",
              "      progress.max = size;\n",
              "      div.appendChild(progress);\n",
              "      document.body.appendChild(div);\n",
              "\n",
              "      const buffers = [];\n",
              "      let downloaded = 0;\n",
              "\n",
              "      const channel = await google.colab.kernel.comms.open(id);\n",
              "      // Send a message to notify the kernel that we're ready.\n",
              "      channel.send({})\n",
              "\n",
              "      for await (const message of channel.messages) {\n",
              "        // Send a message to notify the kernel that we're ready.\n",
              "        channel.send({})\n",
              "        if (message.buffers) {\n",
              "          for (const buffer of message.buffers) {\n",
              "            buffers.push(buffer);\n",
              "            downloaded += buffer.byteLength;\n",
              "            progress.value = downloaded;\n",
              "          }\n",
              "        }\n",
              "      }\n",
              "      const blob = new Blob(buffers, {type: 'application/binary'});\n",
              "      const a = document.createElement('a');\n",
              "      a.href = window.URL.createObjectURL(blob);\n",
              "      a.download = filename;\n",
              "      div.appendChild(a);\n",
              "      a.click();\n",
              "      div.remove();\n",
              "    }\n",
              "  "
            ],
            "text/plain": [
              "<IPython.core.display.Javascript object>"
            ]
          },
          "metadata": {}
        },
        {
          "output_type": "display_data",
          "data": {
            "application/javascript": [
              "download(\"download_d4e60007-a8cb-40a6-b878-0a4c1bf9a235\", \"China&USA.csv\", 126390124)"
            ],
            "text/plain": [
              "<IPython.core.display.Javascript object>"
            ]
          },
          "metadata": {}
        }
      ]
    }
  ]
}