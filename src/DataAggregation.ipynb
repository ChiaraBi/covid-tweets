{
  "nbformat": 4,
  "nbformat_minor": 0,
  "metadata": {
    "colab": {
      "name": "DataAggregation.ipynb",
      "provenance": []
    },
    "kernelspec": {
      "name": "python3",
      "display_name": "Python 3"
    },
    "language_info": {
      "name": "python"
    }
  },
  "cells": [
    {
      "cell_type": "code",
      "execution_count": 1,
      "metadata": {
        "colab": {
          "base_uri": "https://localhost:8080/"
        },
        "id": "gerdfCjND8sE",
        "outputId": "166b4f84-4ee8-44f8-9e5a-ce6fa0db2de7"
      },
      "outputs": [
        {
          "output_type": "stream",
          "name": "stdout",
          "text": [
            "[nltk_data] Downloading package stopwords to /root/nltk_data...\n",
            "[nltk_data]   Unzipping corpora/stopwords.zip.\n"
          ]
        },
        {
          "output_type": "execute_result",
          "data": {
            "text/plain": [
              "True"
            ]
          },
          "metadata": {},
          "execution_count": 1
        }
      ],
      "source": [
        "import os\n",
        "import requests \n",
        "import time\n",
        "import string\n",
        "import networkx as nx\n",
        "import itertools\n",
        "import networkx as nx\n",
        "import pandas as pd\n",
        "import json\n",
        "import re\n",
        "import math\n",
        "import numpy as np\n",
        "import matplotlib.pyplot as plt\n",
        "from sklearn.feature_extraction.text import TfidfVectorizer\n",
        "import nltk\n",
        "from nltk.corpus import stopwords\n",
        "from google.colab import files\n",
        "\n",
        "nltk.download('stopwords')"
      ]
    },
    {
      "cell_type": "markdown",
      "source": [
        "OUTSIDE CHINA:\n",
        "  * AJEnglish\n",
        "  * AP\n",
        "  * BBCWorld\n",
        "  * CNN\n",
        "  * Reuters\n",
        "\n",
        "INSIDE CHINA:\n",
        "  * CGTNOfficial\n",
        "  * XHNews"
      ],
      "metadata": {
        "id": "pws2bYCUo7aF"
      }
    },
    {
      "cell_type": "markdown",
      "source": [
        "# Clean WHO/who"
      ],
      "metadata": {
        "id": "G5oT2EhJhGkl"
      }
    },
    {
      "cell_type": "code",
      "source": [
        "def who_clean(df):\n",
        "\n",
        "  for index in range(len(df)):\n",
        "    text = df.loc[index,\"extended_tweet\"]\n",
        "    if type(text) == float:  # if the text is nan\n",
        "      df.drop(index = index, inplace=True)\n",
        "    elif text.find(\"WHO\") == -1:\n",
        "        df.drop(index = index, inplace=True)\n",
        "\n",
        "  return df"
      ],
      "metadata": {
        "id": "va7HOozThGEM"
      },
      "execution_count": 48,
      "outputs": []
    },
    {
      "cell_type": "code",
      "source": [
        "label = \"AP_WHO_202103170000_202104170000\"\n",
        "path = '/content/'+label+'.csv'\n",
        "df = pd.read_csv(path)\n",
        "df = who_clean(df)\n",
        "\n",
        "df.to_csv(label+\".csv\", index=False)\n",
        "files.download(label+\".csv\")"
      ],
      "metadata": {
        "id": "RfeTelKwj4VI"
      },
      "execution_count": 60,
      "outputs": []
    },
    {
      "cell_type": "markdown",
      "source": [
        "# JanFeb2020"
      ],
      "metadata": {
        "id": "hv9IJ7TBzAvA"
      }
    },
    {
      "cell_type": "code",
      "source": [
        "period = \"JanFeb2020\""
      ],
      "metadata": {
        "id": "ik-1zi60bUgP"
      },
      "execution_count": 61,
      "outputs": []
    },
    {
      "cell_type": "markdown",
      "source": [
        "## Accounts: JanFeb2020"
      ],
      "metadata": {
        "id": "vjdySAeWJJmb"
      }
    },
    {
      "cell_type": "code",
      "source": [
        "account = \"AJ\"\n",
        "\n",
        "AJ_202001_202002=pd.read_csv('/content/AJEnglish_china_202001220000_202002220000.csv')\n",
        "AJ_202001_202002 = AJ_202001_202002.append(pd.read_csv('/content/AJEnglish_coronavirus_202001220000_202002220000.csv'),\n",
        "                                           ignore_index=True)\n",
        "AJ_202001_202002 = AJ_202001_202002.append(pd.read_csv('/content/AJEnglish_covid_202001220000_202002220000.csv'),\n",
        "                                           ignore_index=True)\n",
        "AJ_202001_202002 = AJ_202001_202002.append(pd.read_csv('/content/AJEnglish_wuhan_202001220000_202002220000.csv'),\n",
        "                                           ignore_index=True)\n",
        "\n",
        "label = account+\"_\"+period\n",
        "AJ_202001_202002.to_csv(label+\".csv\", index=False)\n",
        "files.download(label+\".csv\")"
      ],
      "metadata": {
        "colab": {
          "base_uri": "https://localhost:8080/",
          "height": 17
        },
        "id": "X-anv-6PGf9L",
        "outputId": "ac11dd84-7967-4181-dc36-18bc98cab27a"
      },
      "execution_count": 62,
      "outputs": [
        {
          "output_type": "display_data",
          "data": {
            "application/javascript": [
              "\n",
              "    async function download(id, filename, size) {\n",
              "      if (!google.colab.kernel.accessAllowed) {\n",
              "        return;\n",
              "      }\n",
              "      const div = document.createElement('div');\n",
              "      const label = document.createElement('label');\n",
              "      label.textContent = `Downloading \"${filename}\": `;\n",
              "      div.appendChild(label);\n",
              "      const progress = document.createElement('progress');\n",
              "      progress.max = size;\n",
              "      div.appendChild(progress);\n",
              "      document.body.appendChild(div);\n",
              "\n",
              "      const buffers = [];\n",
              "      let downloaded = 0;\n",
              "\n",
              "      const channel = await google.colab.kernel.comms.open(id);\n",
              "      // Send a message to notify the kernel that we're ready.\n",
              "      channel.send({})\n",
              "\n",
              "      for await (const message of channel.messages) {\n",
              "        // Send a message to notify the kernel that we're ready.\n",
              "        channel.send({})\n",
              "        if (message.buffers) {\n",
              "          for (const buffer of message.buffers) {\n",
              "            buffers.push(buffer);\n",
              "            downloaded += buffer.byteLength;\n",
              "            progress.value = downloaded;\n",
              "          }\n",
              "        }\n",
              "      }\n",
              "      const blob = new Blob(buffers, {type: 'application/binary'});\n",
              "      const a = document.createElement('a');\n",
              "      a.href = window.URL.createObjectURL(blob);\n",
              "      a.download = filename;\n",
              "      div.appendChild(a);\n",
              "      a.click();\n",
              "      div.remove();\n",
              "    }\n",
              "  "
            ],
            "text/plain": [
              "<IPython.core.display.Javascript object>"
            ]
          },
          "metadata": {}
        },
        {
          "output_type": "display_data",
          "data": {
            "application/javascript": [
              "download(\"download_42b84219-2bcd-4657-be45-335e722eaf38\", \"AJ_JanFeb2020.csv\", 2421996)"
            ],
            "text/plain": [
              "<IPython.core.display.Javascript object>"
            ]
          },
          "metadata": {}
        }
      ]
    },
    {
      "cell_type": "code",
      "source": [
        "account = \"AP\"\n",
        "\n",
        "AP_202001_202002=pd.read_csv('/content/AP_china_202001220000_202002220000.csv')\n",
        "AP_202001_202002 = AP_202001_202002.append(pd.read_csv('/content/AP_coronavirus_202001220000_202002220000.csv'),\n",
        "                                           ignore_index=True)\n",
        "AP_202001_202002 = AP_202001_202002.append(pd.read_csv('/content/AP_covid_202001220000_202002220000.csv'),\n",
        "                                           ignore_index=True)\n",
        "AP_202001_202002 = AP_202001_202002.append(pd.read_csv('/content/AP_wuhan_202001220000_202002220000.csv'),\n",
        "                                           ignore_index=True)\n",
        "\n",
        "label = account+\"_\"+period\n",
        "AP_202001_202002.to_csv(label+\".csv\", index=False)\n",
        "files.download(label+\".csv\")"
      ],
      "metadata": {
        "colab": {
          "base_uri": "https://localhost:8080/",
          "height": 17
        },
        "id": "kHlzLUM1KnXr",
        "outputId": "e5f268f6-4603-4c5c-9946-fefb12e14989"
      },
      "execution_count": 63,
      "outputs": [
        {
          "output_type": "display_data",
          "data": {
            "application/javascript": [
              "\n",
              "    async function download(id, filename, size) {\n",
              "      if (!google.colab.kernel.accessAllowed) {\n",
              "        return;\n",
              "      }\n",
              "      const div = document.createElement('div');\n",
              "      const label = document.createElement('label');\n",
              "      label.textContent = `Downloading \"${filename}\": `;\n",
              "      div.appendChild(label);\n",
              "      const progress = document.createElement('progress');\n",
              "      progress.max = size;\n",
              "      div.appendChild(progress);\n",
              "      document.body.appendChild(div);\n",
              "\n",
              "      const buffers = [];\n",
              "      let downloaded = 0;\n",
              "\n",
              "      const channel = await google.colab.kernel.comms.open(id);\n",
              "      // Send a message to notify the kernel that we're ready.\n",
              "      channel.send({})\n",
              "\n",
              "      for await (const message of channel.messages) {\n",
              "        // Send a message to notify the kernel that we're ready.\n",
              "        channel.send({})\n",
              "        if (message.buffers) {\n",
              "          for (const buffer of message.buffers) {\n",
              "            buffers.push(buffer);\n",
              "            downloaded += buffer.byteLength;\n",
              "            progress.value = downloaded;\n",
              "          }\n",
              "        }\n",
              "      }\n",
              "      const blob = new Blob(buffers, {type: 'application/binary'});\n",
              "      const a = document.createElement('a');\n",
              "      a.href = window.URL.createObjectURL(blob);\n",
              "      a.download = filename;\n",
              "      div.appendChild(a);\n",
              "      a.click();\n",
              "      div.remove();\n",
              "    }\n",
              "  "
            ],
            "text/plain": [
              "<IPython.core.display.Javascript object>"
            ]
          },
          "metadata": {}
        },
        {
          "output_type": "display_data",
          "data": {
            "application/javascript": [
              "download(\"download_640d91fc-de7d-4f8e-b3f9-d44df8f22933\", \"AP_JanFeb2020.csv\", 664633)"
            ],
            "text/plain": [
              "<IPython.core.display.Javascript object>"
            ]
          },
          "metadata": {}
        }
      ]
    },
    {
      "cell_type": "code",
      "source": [
        "account = \"BBC\"\n",
        "\n",
        "BBC_202001_202002=pd.read_csv('/content/BBCWorld_china_202001220000_202002220000.csv')\n",
        "BBC_202001_202002 = BBC_202001_202002.append(pd.read_csv('/content/BBCWorld_coronavirus_202001220000_202002220000.csv'),\n",
        "                                           ignore_index=True)\n",
        "BBC_202001_202002 = BBC_202001_202002.append(pd.read_csv('/content/BBCWorld_covid_202001220000_202002220000.csv'),\n",
        "                                           ignore_index=True)\n",
        "BBC_202001_202002 = BBC_202001_202002.append(pd.read_csv('/content/BBCWorld_wuhan_202001220000_202002220000.csv'),\n",
        "                                           ignore_index=True)\n",
        "\n",
        "label = account+\"_\"+period\n",
        "BBC_202001_202002.to_csv(label+\".csv\", index=False)\n",
        "files.download(label+\".csv\")"
      ],
      "metadata": {
        "colab": {
          "base_uri": "https://localhost:8080/",
          "height": 17
        },
        "id": "UmznPwfhONTt",
        "outputId": "63a0fa98-7316-4dfb-b0b6-460f4ad71217"
      },
      "execution_count": 64,
      "outputs": [
        {
          "output_type": "display_data",
          "data": {
            "application/javascript": [
              "\n",
              "    async function download(id, filename, size) {\n",
              "      if (!google.colab.kernel.accessAllowed) {\n",
              "        return;\n",
              "      }\n",
              "      const div = document.createElement('div');\n",
              "      const label = document.createElement('label');\n",
              "      label.textContent = `Downloading \"${filename}\": `;\n",
              "      div.appendChild(label);\n",
              "      const progress = document.createElement('progress');\n",
              "      progress.max = size;\n",
              "      div.appendChild(progress);\n",
              "      document.body.appendChild(div);\n",
              "\n",
              "      const buffers = [];\n",
              "      let downloaded = 0;\n",
              "\n",
              "      const channel = await google.colab.kernel.comms.open(id);\n",
              "      // Send a message to notify the kernel that we're ready.\n",
              "      channel.send({})\n",
              "\n",
              "      for await (const message of channel.messages) {\n",
              "        // Send a message to notify the kernel that we're ready.\n",
              "        channel.send({})\n",
              "        if (message.buffers) {\n",
              "          for (const buffer of message.buffers) {\n",
              "            buffers.push(buffer);\n",
              "            downloaded += buffer.byteLength;\n",
              "            progress.value = downloaded;\n",
              "          }\n",
              "        }\n",
              "      }\n",
              "      const blob = new Blob(buffers, {type: 'application/binary'});\n",
              "      const a = document.createElement('a');\n",
              "      a.href = window.URL.createObjectURL(blob);\n",
              "      a.download = filename;\n",
              "      div.appendChild(a);\n",
              "      a.click();\n",
              "      div.remove();\n",
              "    }\n",
              "  "
            ],
            "text/plain": [
              "<IPython.core.display.Javascript object>"
            ]
          },
          "metadata": {}
        },
        {
          "output_type": "display_data",
          "data": {
            "application/javascript": [
              "download(\"download_5a411a16-542c-44e6-97c6-129b3d79ce25\", \"BBC_JanFeb2020.csv\", 1093302)"
            ],
            "text/plain": [
              "<IPython.core.display.Javascript object>"
            ]
          },
          "metadata": {}
        }
      ]
    },
    {
      "cell_type": "code",
      "source": [
        "account = \"CGTN\"\n",
        "\n",
        "CGTN_202001_202002=pd.read_csv('/content/CGTNOfficial_China_202001220000_202002220000.csv')\n",
        "CGTN_202001_202002 = CGTN_202001_202002.append(pd.read_csv('/content/CGTNOfficial_Coronavirus_202001220000_202002220000.csv'),\n",
        "                                           ignore_index=True)\n",
        "CGTN_202001_202002 = CGTN_202001_202002.append(pd.read_csv('/content/CGTNOfficial_covid_202001220000_202002220000.csv'),\n",
        "                                           ignore_index=True)\n",
        "CGTN_202001_202002 = CGTN_202001_202002.append(pd.read_csv('/content/CGTNOfficial_Wuhan_202001220000_202002220000.csv'),\n",
        "                                           ignore_index=True)\n",
        "\n",
        "label = account+\"_\"+period\n",
        "CGTN_202001_202002.to_csv(label+\".csv\", index=False)\n",
        "files.download(label+\".csv\")"
      ],
      "metadata": {
        "colab": {
          "base_uri": "https://localhost:8080/",
          "height": 17
        },
        "id": "ohkhlswqQhhL",
        "outputId": "ce756470-3a2e-4463-df46-9f6d79d4c15b"
      },
      "execution_count": 65,
      "outputs": [
        {
          "output_type": "display_data",
          "data": {
            "application/javascript": [
              "\n",
              "    async function download(id, filename, size) {\n",
              "      if (!google.colab.kernel.accessAllowed) {\n",
              "        return;\n",
              "      }\n",
              "      const div = document.createElement('div');\n",
              "      const label = document.createElement('label');\n",
              "      label.textContent = `Downloading \"${filename}\": `;\n",
              "      div.appendChild(label);\n",
              "      const progress = document.createElement('progress');\n",
              "      progress.max = size;\n",
              "      div.appendChild(progress);\n",
              "      document.body.appendChild(div);\n",
              "\n",
              "      const buffers = [];\n",
              "      let downloaded = 0;\n",
              "\n",
              "      const channel = await google.colab.kernel.comms.open(id);\n",
              "      // Send a message to notify the kernel that we're ready.\n",
              "      channel.send({})\n",
              "\n",
              "      for await (const message of channel.messages) {\n",
              "        // Send a message to notify the kernel that we're ready.\n",
              "        channel.send({})\n",
              "        if (message.buffers) {\n",
              "          for (const buffer of message.buffers) {\n",
              "            buffers.push(buffer);\n",
              "            downloaded += buffer.byteLength;\n",
              "            progress.value = downloaded;\n",
              "          }\n",
              "        }\n",
              "      }\n",
              "      const blob = new Blob(buffers, {type: 'application/binary'});\n",
              "      const a = document.createElement('a');\n",
              "      a.href = window.URL.createObjectURL(blob);\n",
              "      a.download = filename;\n",
              "      div.appendChild(a);\n",
              "      a.click();\n",
              "      div.remove();\n",
              "    }\n",
              "  "
            ],
            "text/plain": [
              "<IPython.core.display.Javascript object>"
            ]
          },
          "metadata": {}
        },
        {
          "output_type": "display_data",
          "data": {
            "application/javascript": [
              "download(\"download_bad5840c-7e72-447b-a16c-a8e934be2e4a\", \"CGTN_JanFeb2020.csv\", 10745185)"
            ],
            "text/plain": [
              "<IPython.core.display.Javascript object>"
            ]
          },
          "metadata": {}
        }
      ]
    },
    {
      "cell_type": "code",
      "source": [
        "account = \"CNN\"\n",
        "\n",
        "CNN_202001_202002=pd.read_csv('/content/CNN_china_202001220000_202002220000.csv')\n",
        "CNN_202001_202002 = CNN_202001_202002.append(pd.read_csv('/content/CNN_coronavirus_202001220000_202002220000.csv'),\n",
        "                                           ignore_index=True)\n",
        "CNN_202001_202002 = CNN_202001_202002.append(pd.read_csv('/content/CNN_covid_202001220000_202002220000.csv'),\n",
        "                                           ignore_index=True)\n",
        "CNN_202001_202002 = CNN_202001_202002.append(pd.read_csv('/content/CNN_wuhan_202001220000_202002220000.csv'),\n",
        "                                           ignore_index=True)\n",
        "\n",
        "label = account+\"_\"+period\n",
        "CNN_202001_202002.to_csv(label+\".csv\", index=False)\n",
        "files.download(label+\".csv\")"
      ],
      "metadata": {
        "colab": {
          "base_uri": "https://localhost:8080/",
          "height": 17
        },
        "id": "JeXz5JRRSlZo",
        "outputId": "4b7925d3-0df4-4223-82ce-3ce86684455d"
      },
      "execution_count": 66,
      "outputs": [
        {
          "output_type": "display_data",
          "data": {
            "application/javascript": [
              "\n",
              "    async function download(id, filename, size) {\n",
              "      if (!google.colab.kernel.accessAllowed) {\n",
              "        return;\n",
              "      }\n",
              "      const div = document.createElement('div');\n",
              "      const label = document.createElement('label');\n",
              "      label.textContent = `Downloading \"${filename}\": `;\n",
              "      div.appendChild(label);\n",
              "      const progress = document.createElement('progress');\n",
              "      progress.max = size;\n",
              "      div.appendChild(progress);\n",
              "      document.body.appendChild(div);\n",
              "\n",
              "      const buffers = [];\n",
              "      let downloaded = 0;\n",
              "\n",
              "      const channel = await google.colab.kernel.comms.open(id);\n",
              "      // Send a message to notify the kernel that we're ready.\n",
              "      channel.send({})\n",
              "\n",
              "      for await (const message of channel.messages) {\n",
              "        // Send a message to notify the kernel that we're ready.\n",
              "        channel.send({})\n",
              "        if (message.buffers) {\n",
              "          for (const buffer of message.buffers) {\n",
              "            buffers.push(buffer);\n",
              "            downloaded += buffer.byteLength;\n",
              "            progress.value = downloaded;\n",
              "          }\n",
              "        }\n",
              "      }\n",
              "      const blob = new Blob(buffers, {type: 'application/binary'});\n",
              "      const a = document.createElement('a');\n",
              "      a.href = window.URL.createObjectURL(blob);\n",
              "      a.download = filename;\n",
              "      div.appendChild(a);\n",
              "      a.click();\n",
              "      div.remove();\n",
              "    }\n",
              "  "
            ],
            "text/plain": [
              "<IPython.core.display.Javascript object>"
            ]
          },
          "metadata": {}
        },
        {
          "output_type": "display_data",
          "data": {
            "application/javascript": [
              "download(\"download_1f38930e-d0d6-49f2-93fe-7eb6f7608676\", \"CNN_JanFeb2020.csv\", 5073521)"
            ],
            "text/plain": [
              "<IPython.core.display.Javascript object>"
            ]
          },
          "metadata": {}
        }
      ]
    },
    {
      "cell_type": "code",
      "source": [
        "account = \"R\"\n",
        "\n",
        "R_202001_202002=pd.read_csv('/content/Reuters_china_202001220000_202002220000.csv')\n",
        "R_202001_202002 = R_202001_202002.append(pd.read_csv('/content/Reuters_coronavirus_202001220000_202002220000.csv'),\n",
        "                                           ignore_index=True)\n",
        "R_202001_202002 = R_202001_202002.append(pd.read_csv('/content/Reuters_covid_202001220000_202002220000.csv'),\n",
        "                                           ignore_index=True)\n",
        "R_202001_202002 = R_202001_202002.append(pd.read_csv('/content/Reuters_wuhan_202001220000_202002220000.csv'),\n",
        "                                           ignore_index=True)\n",
        "\n",
        "label = account+\"_\"+period\n",
        "R_202001_202002.to_csv(label+\".csv\", index=False)\n",
        "files.download(label+\".csv\")"
      ],
      "metadata": {
        "colab": {
          "base_uri": "https://localhost:8080/",
          "height": 17
        },
        "id": "sJn1iwX-VPXV",
        "outputId": "02e98585-2e79-4a36-cf89-aee16574fde5"
      },
      "execution_count": 67,
      "outputs": [
        {
          "output_type": "display_data",
          "data": {
            "application/javascript": [
              "\n",
              "    async function download(id, filename, size) {\n",
              "      if (!google.colab.kernel.accessAllowed) {\n",
              "        return;\n",
              "      }\n",
              "      const div = document.createElement('div');\n",
              "      const label = document.createElement('label');\n",
              "      label.textContent = `Downloading \"${filename}\": `;\n",
              "      div.appendChild(label);\n",
              "      const progress = document.createElement('progress');\n",
              "      progress.max = size;\n",
              "      div.appendChild(progress);\n",
              "      document.body.appendChild(div);\n",
              "\n",
              "      const buffers = [];\n",
              "      let downloaded = 0;\n",
              "\n",
              "      const channel = await google.colab.kernel.comms.open(id);\n",
              "      // Send a message to notify the kernel that we're ready.\n",
              "      channel.send({})\n",
              "\n",
              "      for await (const message of channel.messages) {\n",
              "        // Send a message to notify the kernel that we're ready.\n",
              "        channel.send({})\n",
              "        if (message.buffers) {\n",
              "          for (const buffer of message.buffers) {\n",
              "            buffers.push(buffer);\n",
              "            downloaded += buffer.byteLength;\n",
              "            progress.value = downloaded;\n",
              "          }\n",
              "        }\n",
              "      }\n",
              "      const blob = new Blob(buffers, {type: 'application/binary'});\n",
              "      const a = document.createElement('a');\n",
              "      a.href = window.URL.createObjectURL(blob);\n",
              "      a.download = filename;\n",
              "      div.appendChild(a);\n",
              "      a.click();\n",
              "      div.remove();\n",
              "    }\n",
              "  "
            ],
            "text/plain": [
              "<IPython.core.display.Javascript object>"
            ]
          },
          "metadata": {}
        },
        {
          "output_type": "display_data",
          "data": {
            "application/javascript": [
              "download(\"download_52969049-f654-4042-8504-72eec9783884\", \"R_JanFeb2020.csv\", 17746585)"
            ],
            "text/plain": [
              "<IPython.core.display.Javascript object>"
            ]
          },
          "metadata": {}
        }
      ]
    },
    {
      "cell_type": "code",
      "source": [
        "account = \"XHN\"\n",
        "\n",
        "XHN_202001_202002=pd.read_csv('/content/XHNews_China_202001220000_202002220000.csv')\n",
        "XHN_202001_202002 = XHN_202001_202002.append(pd.read_csv('/content/XHNews_Coronavirus_202001220000_202002220000.csv'),\n",
        "                                           ignore_index=True)\n",
        "XHN_202001_202002 = XHN_202001_202002.append(pd.read_csv('/content/XHNews_Covid_202001220000_202002220000.csv'),\n",
        "                                           ignore_index=True)\n",
        "XHN_202001_202002 = XHN_202001_202002.append(pd.read_csv('/content/XHNews_Wuhan_202001220000_202002220000.csv'),\n",
        "                                           ignore_index=True)\n",
        "\n",
        "label = account+\"_\"+period\n",
        "XHN_202001_202002.to_csv(label+\".csv\", index=False)\n",
        "files.download(label+\".csv\")"
      ],
      "metadata": {
        "colab": {
          "base_uri": "https://localhost:8080/",
          "height": 17
        },
        "id": "P7zJe5rhXd0y",
        "outputId": "198488a0-587a-40e4-fb12-eabdb17e1500"
      },
      "execution_count": 68,
      "outputs": [
        {
          "output_type": "display_data",
          "data": {
            "application/javascript": [
              "\n",
              "    async function download(id, filename, size) {\n",
              "      if (!google.colab.kernel.accessAllowed) {\n",
              "        return;\n",
              "      }\n",
              "      const div = document.createElement('div');\n",
              "      const label = document.createElement('label');\n",
              "      label.textContent = `Downloading \"${filename}\": `;\n",
              "      div.appendChild(label);\n",
              "      const progress = document.createElement('progress');\n",
              "      progress.max = size;\n",
              "      div.appendChild(progress);\n",
              "      document.body.appendChild(div);\n",
              "\n",
              "      const buffers = [];\n",
              "      let downloaded = 0;\n",
              "\n",
              "      const channel = await google.colab.kernel.comms.open(id);\n",
              "      // Send a message to notify the kernel that we're ready.\n",
              "      channel.send({})\n",
              "\n",
              "      for await (const message of channel.messages) {\n",
              "        // Send a message to notify the kernel that we're ready.\n",
              "        channel.send({})\n",
              "        if (message.buffers) {\n",
              "          for (const buffer of message.buffers) {\n",
              "            buffers.push(buffer);\n",
              "            downloaded += buffer.byteLength;\n",
              "            progress.value = downloaded;\n",
              "          }\n",
              "        }\n",
              "      }\n",
              "      const blob = new Blob(buffers, {type: 'application/binary'});\n",
              "      const a = document.createElement('a');\n",
              "      a.href = window.URL.createObjectURL(blob);\n",
              "      a.download = filename;\n",
              "      div.appendChild(a);\n",
              "      a.click();\n",
              "      div.remove();\n",
              "    }\n",
              "  "
            ],
            "text/plain": [
              "<IPython.core.display.Javascript object>"
            ]
          },
          "metadata": {}
        },
        {
          "output_type": "display_data",
          "data": {
            "application/javascript": [
              "download(\"download_6ba359cf-34f4-4dc2-ac9c-9af3c6cdda97\", \"XHN_JanFeb2020.csv\", 13078628)"
            ],
            "text/plain": [
              "<IPython.core.display.Javascript object>"
            ]
          },
          "metadata": {}
        }
      ]
    },
    {
      "cell_type": "markdown",
      "source": [
        "## USA: JanFeb2020"
      ],
      "metadata": {
        "id": "-iimLMccnG3e"
      }
    },
    {
      "cell_type": "code",
      "source": [
        "country = \"USA\"\n",
        "\n",
        "USA_202001_202002 = AJ_202001_202002.append(AP_202001_202002, ignore_index=True)\n",
        "USA_202001_202002 = USA_202001_202002.append(BBC_202001_202002, ignore_index=True)\n",
        "USA_202001_202002 = USA_202001_202002.append(CNN_202001_202002, ignore_index=True)\n",
        "USA_202001_202002 = USA_202001_202002.append(R_202001_202002, ignore_index=True)\n",
        "\n",
        "label = country+\"_\"+period\n",
        "USA_202001_202002.to_csv(label+\".csv\", index=False)\n",
        "files.download(label+\".csv\")"
      ],
      "metadata": {
        "id": "YgpEJjmKqbGX",
        "outputId": "50e2bced-c1f1-4315-823e-b21d25170f38",
        "colab": {
          "base_uri": "https://localhost:8080/",
          "height": 17
        }
      },
      "execution_count": 69,
      "outputs": [
        {
          "output_type": "display_data",
          "data": {
            "application/javascript": [
              "\n",
              "    async function download(id, filename, size) {\n",
              "      if (!google.colab.kernel.accessAllowed) {\n",
              "        return;\n",
              "      }\n",
              "      const div = document.createElement('div');\n",
              "      const label = document.createElement('label');\n",
              "      label.textContent = `Downloading \"${filename}\": `;\n",
              "      div.appendChild(label);\n",
              "      const progress = document.createElement('progress');\n",
              "      progress.max = size;\n",
              "      div.appendChild(progress);\n",
              "      document.body.appendChild(div);\n",
              "\n",
              "      const buffers = [];\n",
              "      let downloaded = 0;\n",
              "\n",
              "      const channel = await google.colab.kernel.comms.open(id);\n",
              "      // Send a message to notify the kernel that we're ready.\n",
              "      channel.send({})\n",
              "\n",
              "      for await (const message of channel.messages) {\n",
              "        // Send a message to notify the kernel that we're ready.\n",
              "        channel.send({})\n",
              "        if (message.buffers) {\n",
              "          for (const buffer of message.buffers) {\n",
              "            buffers.push(buffer);\n",
              "            downloaded += buffer.byteLength;\n",
              "            progress.value = downloaded;\n",
              "          }\n",
              "        }\n",
              "      }\n",
              "      const blob = new Blob(buffers, {type: 'application/binary'});\n",
              "      const a = document.createElement('a');\n",
              "      a.href = window.URL.createObjectURL(blob);\n",
              "      a.download = filename;\n",
              "      div.appendChild(a);\n",
              "      a.click();\n",
              "      div.remove();\n",
              "    }\n",
              "  "
            ],
            "text/plain": [
              "<IPython.core.display.Javascript object>"
            ]
          },
          "metadata": {}
        },
        {
          "output_type": "display_data",
          "data": {
            "application/javascript": [
              "download(\"download_99dc66b6-6f36-448e-bd7d-48cf4943e1d7\", \"USA_JanFeb2020.csv\", 27016854)"
            ],
            "text/plain": [
              "<IPython.core.display.Javascript object>"
            ]
          },
          "metadata": {}
        }
      ]
    },
    {
      "cell_type": "markdown",
      "source": [
        "## China: JanFeb2020"
      ],
      "metadata": {
        "id": "bgQC2SWSnank"
      }
    },
    {
      "cell_type": "code",
      "source": [
        "country = \"China\"\n",
        "\n",
        "China_202001_202002 = CGTN_202001_202002.append(XHN_202001_202002, ignore_index=True)\n",
        "\n",
        "label = country+\"_\"+period\n",
        "China_202001_202002.to_csv(label+\".csv\", index=False)\n",
        "files.download(label+\".csv\")"
      ],
      "metadata": {
        "id": "W8F4bcamrruV",
        "outputId": "b1ae7fdb-fb0d-46ef-8fd8-2dd5ecf482d8",
        "colab": {
          "base_uri": "https://localhost:8080/",
          "height": 17
        }
      },
      "execution_count": 70,
      "outputs": [
        {
          "output_type": "display_data",
          "data": {
            "application/javascript": [
              "\n",
              "    async function download(id, filename, size) {\n",
              "      if (!google.colab.kernel.accessAllowed) {\n",
              "        return;\n",
              "      }\n",
              "      const div = document.createElement('div');\n",
              "      const label = document.createElement('label');\n",
              "      label.textContent = `Downloading \"${filename}\": `;\n",
              "      div.appendChild(label);\n",
              "      const progress = document.createElement('progress');\n",
              "      progress.max = size;\n",
              "      div.appendChild(progress);\n",
              "      document.body.appendChild(div);\n",
              "\n",
              "      const buffers = [];\n",
              "      let downloaded = 0;\n",
              "\n",
              "      const channel = await google.colab.kernel.comms.open(id);\n",
              "      // Send a message to notify the kernel that we're ready.\n",
              "      channel.send({})\n",
              "\n",
              "      for await (const message of channel.messages) {\n",
              "        // Send a message to notify the kernel that we're ready.\n",
              "        channel.send({})\n",
              "        if (message.buffers) {\n",
              "          for (const buffer of message.buffers) {\n",
              "            buffers.push(buffer);\n",
              "            downloaded += buffer.byteLength;\n",
              "            progress.value = downloaded;\n",
              "          }\n",
              "        }\n",
              "      }\n",
              "      const blob = new Blob(buffers, {type: 'application/binary'});\n",
              "      const a = document.createElement('a');\n",
              "      a.href = window.URL.createObjectURL(blob);\n",
              "      a.download = filename;\n",
              "      div.appendChild(a);\n",
              "      a.click();\n",
              "      div.remove();\n",
              "    }\n",
              "  "
            ],
            "text/plain": [
              "<IPython.core.display.Javascript object>"
            ]
          },
          "metadata": {}
        },
        {
          "output_type": "display_data",
          "data": {
            "application/javascript": [
              "download(\"download_e9cfe809-daa6-49f1-82d9-e06a4ba4fede\", \"China_JanFeb2020.csv\", 23833235)"
            ],
            "text/plain": [
              "<IPython.core.display.Javascript object>"
            ]
          },
          "metadata": {}
        }
      ]
    },
    {
      "cell_type": "markdown",
      "source": [
        "## China and USA: JanFeb2020"
      ],
      "metadata": {
        "id": "e-zvrfPLnuor"
      }
    },
    {
      "cell_type": "code",
      "source": [
        "country = \"China&USA\"\n",
        "\n",
        "ChinaUSA_202001_202002 = China_202001_202002.append(USA_202001_202002, ignore_index=True)\n",
        "\n",
        "label = country+\"_\"+period\n",
        "ChinaUSA_202001_202002.to_csv(label+\".csv\", index=False)\n",
        "files.download(label+\".csv\")"
      ],
      "metadata": {
        "colab": {
          "base_uri": "https://localhost:8080/",
          "height": 17
        },
        "id": "l15mGiWiwlNk",
        "outputId": "c03a9fae-5bec-4ab1-e809-b341e6dd8a7f"
      },
      "execution_count": 71,
      "outputs": [
        {
          "output_type": "display_data",
          "data": {
            "application/javascript": [
              "\n",
              "    async function download(id, filename, size) {\n",
              "      if (!google.colab.kernel.accessAllowed) {\n",
              "        return;\n",
              "      }\n",
              "      const div = document.createElement('div');\n",
              "      const label = document.createElement('label');\n",
              "      label.textContent = `Downloading \"${filename}\": `;\n",
              "      div.appendChild(label);\n",
              "      const progress = document.createElement('progress');\n",
              "      progress.max = size;\n",
              "      div.appendChild(progress);\n",
              "      document.body.appendChild(div);\n",
              "\n",
              "      const buffers = [];\n",
              "      let downloaded = 0;\n",
              "\n",
              "      const channel = await google.colab.kernel.comms.open(id);\n",
              "      // Send a message to notify the kernel that we're ready.\n",
              "      channel.send({})\n",
              "\n",
              "      for await (const message of channel.messages) {\n",
              "        // Send a message to notify the kernel that we're ready.\n",
              "        channel.send({})\n",
              "        if (message.buffers) {\n",
              "          for (const buffer of message.buffers) {\n",
              "            buffers.push(buffer);\n",
              "            downloaded += buffer.byteLength;\n",
              "            progress.value = downloaded;\n",
              "          }\n",
              "        }\n",
              "      }\n",
              "      const blob = new Blob(buffers, {type: 'application/binary'});\n",
              "      const a = document.createElement('a');\n",
              "      a.href = window.URL.createObjectURL(blob);\n",
              "      a.download = filename;\n",
              "      div.appendChild(a);\n",
              "      a.click();\n",
              "      div.remove();\n",
              "    }\n",
              "  "
            ],
            "text/plain": [
              "<IPython.core.display.Javascript object>"
            ]
          },
          "metadata": {}
        },
        {
          "output_type": "display_data",
          "data": {
            "application/javascript": [
              "download(\"download_12ddc18e-fce7-49a3-8a22-c34f5478c318\", \"China&USA_JanFeb2020.csv\", 50849595)"
            ],
            "text/plain": [
              "<IPython.core.display.Javascript object>"
            ]
          },
          "metadata": {}
        }
      ]
    },
    {
      "cell_type": "markdown",
      "source": [
        "# SeptOct2020"
      ],
      "metadata": {
        "id": "ljNDK7RWy6cN"
      }
    },
    {
      "cell_type": "code",
      "source": [
        "period = \"SeptOct2020\""
      ],
      "metadata": {
        "id": "gXObuezmdR6m"
      },
      "execution_count": 72,
      "outputs": []
    },
    {
      "cell_type": "markdown",
      "source": [
        "## Accounts: SeptOct2020"
      ],
      "metadata": {
        "id": "HQ1GF_RPJNNt"
      }
    },
    {
      "cell_type": "code",
      "source": [
        "account = \"AJ\"\n",
        "\n",
        "AJ_202009_202010=pd.read_csv('/content/AJEnglish_china_202009200000_202010210000.csv')\n",
        "AJ_202009_202010 = AJ_202009_202010.append(pd.read_csv('/content/AJEnglish_coronavirus_202009200000_202010210000.csv'),\n",
        "                                           ignore_index=True)\n",
        "AJ_202009_202010 = AJ_202009_202010.append(pd.read_csv('/content/AJEnglish_covid_202009200000_202010210000.csv'),\n",
        "                                           ignore_index=True)\n",
        "AJ_202009_202010 = AJ_202009_202010.append(pd.read_csv('/content/AJEnglish_vaccine_202009200000_202010210000.csv'),\n",
        "                                           ignore_index=True)\n",
        "AJ_202009_202010 = AJ_202009_202010.append(pd.read_csv('/content/AJEnglish_wuhan_202009200000_202010210000.csv'),\n",
        "                                           ignore_index=True)\n",
        "\n",
        "label = account+\"_\"+period\n",
        "AJ_202009_202010.to_csv(label+\".csv\", index=False)\n",
        "files.download(label+\".csv\")"
      ],
      "metadata": {
        "colab": {
          "base_uri": "https://localhost:8080/",
          "height": 17
        },
        "id": "C8hAaZDLHQsY",
        "outputId": "daf63ad6-8f92-4eeb-dbb9-140598f687be"
      },
      "execution_count": 73,
      "outputs": [
        {
          "output_type": "display_data",
          "data": {
            "application/javascript": [
              "\n",
              "    async function download(id, filename, size) {\n",
              "      if (!google.colab.kernel.accessAllowed) {\n",
              "        return;\n",
              "      }\n",
              "      const div = document.createElement('div');\n",
              "      const label = document.createElement('label');\n",
              "      label.textContent = `Downloading \"${filename}\": `;\n",
              "      div.appendChild(label);\n",
              "      const progress = document.createElement('progress');\n",
              "      progress.max = size;\n",
              "      div.appendChild(progress);\n",
              "      document.body.appendChild(div);\n",
              "\n",
              "      const buffers = [];\n",
              "      let downloaded = 0;\n",
              "\n",
              "      const channel = await google.colab.kernel.comms.open(id);\n",
              "      // Send a message to notify the kernel that we're ready.\n",
              "      channel.send({})\n",
              "\n",
              "      for await (const message of channel.messages) {\n",
              "        // Send a message to notify the kernel that we're ready.\n",
              "        channel.send({})\n",
              "        if (message.buffers) {\n",
              "          for (const buffer of message.buffers) {\n",
              "            buffers.push(buffer);\n",
              "            downloaded += buffer.byteLength;\n",
              "            progress.value = downloaded;\n",
              "          }\n",
              "        }\n",
              "      }\n",
              "      const blob = new Blob(buffers, {type: 'application/binary'});\n",
              "      const a = document.createElement('a');\n",
              "      a.href = window.URL.createObjectURL(blob);\n",
              "      a.download = filename;\n",
              "      div.appendChild(a);\n",
              "      a.click();\n",
              "      div.remove();\n",
              "    }\n",
              "  "
            ],
            "text/plain": [
              "<IPython.core.display.Javascript object>"
            ]
          },
          "metadata": {}
        },
        {
          "output_type": "display_data",
          "data": {
            "application/javascript": [
              "download(\"download_ed962095-4c08-457d-9797-bdf20ec2bcd5\", \"AJ_SeptOct2020.csv\", 2341081)"
            ],
            "text/plain": [
              "<IPython.core.display.Javascript object>"
            ]
          },
          "metadata": {}
        }
      ]
    },
    {
      "cell_type": "code",
      "source": [
        "account = \"AP\"\n",
        "\n",
        "AP_202009_202010=pd.read_csv('/content/AP_china_202009200000_202010210000.csv')\n",
        "AP_202009_202010 = AP_202009_202010.append(pd.read_csv('/content/AP_coronavirus_202009200000_202010210000.csv'),\n",
        "                                           ignore_index=True)\n",
        "AP_202009_202010 = AP_202009_202010.append(pd.read_csv('/content/AP_covid_202009200000_202010210000.csv'),\n",
        "                                           ignore_index=True)\n",
        "AP_202009_202010 = AP_202009_202010.append(pd.read_csv('/content/AP_vaccine_202009200000_202010210000.csv'),\n",
        "                                           ignore_index=True)\n",
        "# EMPTY : Wuhan\n",
        "\n",
        "label = account+\"_\"+period\n",
        "AP_202009_202010.to_csv(label+\".csv\", index=False)\n",
        "files.download(label+\".csv\")"
      ],
      "metadata": {
        "colab": {
          "base_uri": "https://localhost:8080/",
          "height": 17
        },
        "id": "c94jGtJkL8os",
        "outputId": "072bb308-abff-40d4-896b-24b1747381e7"
      },
      "execution_count": 74,
      "outputs": [
        {
          "output_type": "display_data",
          "data": {
            "application/javascript": [
              "\n",
              "    async function download(id, filename, size) {\n",
              "      if (!google.colab.kernel.accessAllowed) {\n",
              "        return;\n",
              "      }\n",
              "      const div = document.createElement('div');\n",
              "      const label = document.createElement('label');\n",
              "      label.textContent = `Downloading \"${filename}\": `;\n",
              "      div.appendChild(label);\n",
              "      const progress = document.createElement('progress');\n",
              "      progress.max = size;\n",
              "      div.appendChild(progress);\n",
              "      document.body.appendChild(div);\n",
              "\n",
              "      const buffers = [];\n",
              "      let downloaded = 0;\n",
              "\n",
              "      const channel = await google.colab.kernel.comms.open(id);\n",
              "      // Send a message to notify the kernel that we're ready.\n",
              "      channel.send({})\n",
              "\n",
              "      for await (const message of channel.messages) {\n",
              "        // Send a message to notify the kernel that we're ready.\n",
              "        channel.send({})\n",
              "        if (message.buffers) {\n",
              "          for (const buffer of message.buffers) {\n",
              "            buffers.push(buffer);\n",
              "            downloaded += buffer.byteLength;\n",
              "            progress.value = downloaded;\n",
              "          }\n",
              "        }\n",
              "      }\n",
              "      const blob = new Blob(buffers, {type: 'application/binary'});\n",
              "      const a = document.createElement('a');\n",
              "      a.href = window.URL.createObjectURL(blob);\n",
              "      a.download = filename;\n",
              "      div.appendChild(a);\n",
              "      a.click();\n",
              "      div.remove();\n",
              "    }\n",
              "  "
            ],
            "text/plain": [
              "<IPython.core.display.Javascript object>"
            ]
          },
          "metadata": {}
        },
        {
          "output_type": "display_data",
          "data": {
            "application/javascript": [
              "download(\"download_09165002-cf5b-4a09-ad67-ae1d726e675f\", \"AP_SeptOct2020.csv\", 2051675)"
            ],
            "text/plain": [
              "<IPython.core.display.Javascript object>"
            ]
          },
          "metadata": {}
        }
      ]
    },
    {
      "cell_type": "code",
      "source": [
        "account = \"BBC\"\n",
        "\n",
        "BBC_202009_202010=pd.read_csv('/content/BBCWorld_china_202009200000_202010210000.csv')\n",
        "BBC_202009_202010 = BBC_202009_202010.append(pd.read_csv('/content/BBCWorld_coronavirus_202009200000_202010210000.csv'),\n",
        "                                           ignore_index=True)\n",
        "BBC_202009_202010 = BBC_202009_202010.append(pd.read_csv('/content/BBCWorld_covid_202009200000_202010210000.csv'),\n",
        "                                           ignore_index=True)\n",
        "BBC_202009_202010 = BBC_202009_202010.append(pd.read_csv('/content/BBCWorld_vaccine_202009200000_202010210000.csv'),\n",
        "                                           ignore_index=True)\n",
        "# EMPTY: Wuhan\n",
        "\n",
        "label = account+\"_\"+period\n",
        "BBC_202009_202010.to_csv(label+\".csv\", index=False)\n",
        "files.download(label+\".csv\")"
      ],
      "metadata": {
        "colab": {
          "base_uri": "https://localhost:8080/",
          "height": 17
        },
        "id": "S6IIhAMxO6ce",
        "outputId": "f3553fec-87fa-46fe-d8e3-e902d65248c9"
      },
      "execution_count": 75,
      "outputs": [
        {
          "output_type": "display_data",
          "data": {
            "application/javascript": [
              "\n",
              "    async function download(id, filename, size) {\n",
              "      if (!google.colab.kernel.accessAllowed) {\n",
              "        return;\n",
              "      }\n",
              "      const div = document.createElement('div');\n",
              "      const label = document.createElement('label');\n",
              "      label.textContent = `Downloading \"${filename}\": `;\n",
              "      div.appendChild(label);\n",
              "      const progress = document.createElement('progress');\n",
              "      progress.max = size;\n",
              "      div.appendChild(progress);\n",
              "      document.body.appendChild(div);\n",
              "\n",
              "      const buffers = [];\n",
              "      let downloaded = 0;\n",
              "\n",
              "      const channel = await google.colab.kernel.comms.open(id);\n",
              "      // Send a message to notify the kernel that we're ready.\n",
              "      channel.send({})\n",
              "\n",
              "      for await (const message of channel.messages) {\n",
              "        // Send a message to notify the kernel that we're ready.\n",
              "        channel.send({})\n",
              "        if (message.buffers) {\n",
              "          for (const buffer of message.buffers) {\n",
              "            buffers.push(buffer);\n",
              "            downloaded += buffer.byteLength;\n",
              "            progress.value = downloaded;\n",
              "          }\n",
              "        }\n",
              "      }\n",
              "      const blob = new Blob(buffers, {type: 'application/binary'});\n",
              "      const a = document.createElement('a');\n",
              "      a.href = window.URL.createObjectURL(blob);\n",
              "      a.download = filename;\n",
              "      div.appendChild(a);\n",
              "      a.click();\n",
              "      div.remove();\n",
              "    }\n",
              "  "
            ],
            "text/plain": [
              "<IPython.core.display.Javascript object>"
            ]
          },
          "metadata": {}
        },
        {
          "output_type": "display_data",
          "data": {
            "application/javascript": [
              "download(\"download_4545351b-aed4-43d5-bb30-21c4304397cb\", \"BBC_SeptOct2020.csv\", 939539)"
            ],
            "text/plain": [
              "<IPython.core.display.Javascript object>"
            ]
          },
          "metadata": {}
        }
      ]
    },
    {
      "cell_type": "code",
      "source": [
        "account = \"CGTN\"\n",
        "\n",
        "CGTN_202009_202010=pd.read_csv('/content/CGTNOfficial_china_202009200000_202010220000.csv')\n",
        "CGTN_202009_202010 = CGTN_202009_202010.append(pd.read_csv('/content/CGTNOfficial_covid_202009200000_202010220000.csv'),\n",
        "                                           ignore_index=True)\n",
        "CGTN_202009_202010 = CGTN_202009_202010.append(pd.read_csv('/content/CGTNOfficial_vaccine_202009200000_202010220000.csv'),\n",
        "                                           ignore_index=True)\n",
        "CGTN_202009_202010 = CGTN_202009_202010.append(pd.read_csv('/content/CGTNOfficial_coronavirus_202009200000_202010220000.csv'),\n",
        "                                           ignore_index=True)\n",
        "CGTN_202009_202010 = CGTN_202009_202010.append(pd.read_csv('/content/CGTNOfficial_wuhan_202009200000_202010220000.csv'),\n",
        "                                           ignore_index=True)\n",
        "\n",
        "label = account+\"_\"+period\n",
        "CGTN_202009_202010.to_csv(label+\".csv\", index=False)\n",
        "files.download(label+\".csv\")"
      ],
      "metadata": {
        "colab": {
          "base_uri": "https://localhost:8080/",
          "height": 17
        },
        "id": "7u4dnXfeRDqc",
        "outputId": "74902af2-d26f-4557-ac0c-755f9a5b510b"
      },
      "execution_count": 76,
      "outputs": [
        {
          "output_type": "display_data",
          "data": {
            "application/javascript": [
              "\n",
              "    async function download(id, filename, size) {\n",
              "      if (!google.colab.kernel.accessAllowed) {\n",
              "        return;\n",
              "      }\n",
              "      const div = document.createElement('div');\n",
              "      const label = document.createElement('label');\n",
              "      label.textContent = `Downloading \"${filename}\": `;\n",
              "      div.appendChild(label);\n",
              "      const progress = document.createElement('progress');\n",
              "      progress.max = size;\n",
              "      div.appendChild(progress);\n",
              "      document.body.appendChild(div);\n",
              "\n",
              "      const buffers = [];\n",
              "      let downloaded = 0;\n",
              "\n",
              "      const channel = await google.colab.kernel.comms.open(id);\n",
              "      // Send a message to notify the kernel that we're ready.\n",
              "      channel.send({})\n",
              "\n",
              "      for await (const message of channel.messages) {\n",
              "        // Send a message to notify the kernel that we're ready.\n",
              "        channel.send({})\n",
              "        if (message.buffers) {\n",
              "          for (const buffer of message.buffers) {\n",
              "            buffers.push(buffer);\n",
              "            downloaded += buffer.byteLength;\n",
              "            progress.value = downloaded;\n",
              "          }\n",
              "        }\n",
              "      }\n",
              "      const blob = new Blob(buffers, {type: 'application/binary'});\n",
              "      const a = document.createElement('a');\n",
              "      a.href = window.URL.createObjectURL(blob);\n",
              "      a.download = filename;\n",
              "      div.appendChild(a);\n",
              "      a.click();\n",
              "      div.remove();\n",
              "    }\n",
              "  "
            ],
            "text/plain": [
              "<IPython.core.display.Javascript object>"
            ]
          },
          "metadata": {}
        },
        {
          "output_type": "display_data",
          "data": {
            "application/javascript": [
              "download(\"download_3e04d88d-085e-40b8-8590-ff952c0c2664\", \"CGTN_SeptOct2020.csv\", 8230440)"
            ],
            "text/plain": [
              "<IPython.core.display.Javascript object>"
            ]
          },
          "metadata": {}
        }
      ]
    },
    {
      "cell_type": "code",
      "source": [
        "account = \"CNN\"\n",
        "\n",
        "CNN_202009_202010=pd.read_csv('/content/CNN_china_202009200000_202010210000.csv')\n",
        "CNN_202009_202010 = CNN_202009_202010.append(pd.read_csv('/content/CNN_coronavirus_202009200000_202010210000.csv'),\n",
        "                                           ignore_index=True)\n",
        "CNN_202009_202010 = CNN_202009_202010.append(pd.read_csv('/content/CNN_covid_202009200000_202010210000.csv'),\n",
        "                                           ignore_index=True)\n",
        "CNN_202009_202010 = CNN_202009_202010.append(pd.read_csv('/content/CNN_vaccine_202009200000_202010210000.csv'),\n",
        "                                           ignore_index=True)\n",
        "CNN_202009_202010 = CNN_202009_202010.append(pd.read_csv('/content/CNN_wuhan_202009200000_202010210000.csv'),\n",
        "                                           ignore_index=True)\n",
        "\n",
        "label = account+\"_\"+period\n",
        "CNN_202009_202010.to_csv(label+\".csv\", index=False)\n",
        "files.download(label+\".csv\")"
      ],
      "metadata": {
        "colab": {
          "base_uri": "https://localhost:8080/",
          "height": 17
        },
        "id": "0nc6w-A1TKyF",
        "outputId": "f0717545-99de-459d-8f99-51da5b234dae"
      },
      "execution_count": 77,
      "outputs": [
        {
          "output_type": "display_data",
          "data": {
            "application/javascript": [
              "\n",
              "    async function download(id, filename, size) {\n",
              "      if (!google.colab.kernel.accessAllowed) {\n",
              "        return;\n",
              "      }\n",
              "      const div = document.createElement('div');\n",
              "      const label = document.createElement('label');\n",
              "      label.textContent = `Downloading \"${filename}\": `;\n",
              "      div.appendChild(label);\n",
              "      const progress = document.createElement('progress');\n",
              "      progress.max = size;\n",
              "      div.appendChild(progress);\n",
              "      document.body.appendChild(div);\n",
              "\n",
              "      const buffers = [];\n",
              "      let downloaded = 0;\n",
              "\n",
              "      const channel = await google.colab.kernel.comms.open(id);\n",
              "      // Send a message to notify the kernel that we're ready.\n",
              "      channel.send({})\n",
              "\n",
              "      for await (const message of channel.messages) {\n",
              "        // Send a message to notify the kernel that we're ready.\n",
              "        channel.send({})\n",
              "        if (message.buffers) {\n",
              "          for (const buffer of message.buffers) {\n",
              "            buffers.push(buffer);\n",
              "            downloaded += buffer.byteLength;\n",
              "            progress.value = downloaded;\n",
              "          }\n",
              "        }\n",
              "      }\n",
              "      const blob = new Blob(buffers, {type: 'application/binary'});\n",
              "      const a = document.createElement('a');\n",
              "      a.href = window.URL.createObjectURL(blob);\n",
              "      a.download = filename;\n",
              "      div.appendChild(a);\n",
              "      a.click();\n",
              "      div.remove();\n",
              "    }\n",
              "  "
            ],
            "text/plain": [
              "<IPython.core.display.Javascript object>"
            ]
          },
          "metadata": {}
        },
        {
          "output_type": "display_data",
          "data": {
            "application/javascript": [
              "download(\"download_42710fa9-c6f3-4e25-bda1-b04e944856cf\", \"CNN_SeptOct2020.csv\", 4449945)"
            ],
            "text/plain": [
              "<IPython.core.display.Javascript object>"
            ]
          },
          "metadata": {}
        }
      ]
    },
    {
      "cell_type": "code",
      "source": [
        "account = \"R\"\n",
        "\n",
        "R_202009_202010=pd.read_csv('/content/Reuters_china_202009200000_202010210000.csv')\n",
        "R_202009_202010 = R_202009_202010.append(pd.read_csv('/content/Reuters_covid_202009200000_202010210000.csv'),\n",
        "                                           ignore_index=True)\n",
        "R_202009_202010 = R_202009_202010.append(pd.read_csv('/content/Reuters_vaccine_202009200000_202010210000.csv'),\n",
        "                                           ignore_index=True)\n",
        "R_202009_202010 = R_202009_202010.append(pd.read_csv('/content/Reuters_coronavirus_202009200000_202010220000.csv'),\n",
        "                                           ignore_index=True)\n",
        "R_202009_202010 = R_202009_202010.append(pd.read_csv('/content/Reuters_wuhan_202009200000_202010210000.csv'),\n",
        "                                           ignore_index=True)\n",
        "\n",
        "label = account+\"_\"+period\n",
        "R_202009_202010.to_csv(label+\".csv\", index=False)\n",
        "files.download(label+\".csv\")"
      ],
      "metadata": {
        "colab": {
          "base_uri": "https://localhost:8080/",
          "height": 17
        },
        "id": "EcaYUMCdVb9C",
        "outputId": "9722782e-1065-4ff6-a5e4-6fad17e20101"
      },
      "execution_count": 78,
      "outputs": [
        {
          "output_type": "display_data",
          "data": {
            "application/javascript": [
              "\n",
              "    async function download(id, filename, size) {\n",
              "      if (!google.colab.kernel.accessAllowed) {\n",
              "        return;\n",
              "      }\n",
              "      const div = document.createElement('div');\n",
              "      const label = document.createElement('label');\n",
              "      label.textContent = `Downloading \"${filename}\": `;\n",
              "      div.appendChild(label);\n",
              "      const progress = document.createElement('progress');\n",
              "      progress.max = size;\n",
              "      div.appendChild(progress);\n",
              "      document.body.appendChild(div);\n",
              "\n",
              "      const buffers = [];\n",
              "      let downloaded = 0;\n",
              "\n",
              "      const channel = await google.colab.kernel.comms.open(id);\n",
              "      // Send a message to notify the kernel that we're ready.\n",
              "      channel.send({})\n",
              "\n",
              "      for await (const message of channel.messages) {\n",
              "        // Send a message to notify the kernel that we're ready.\n",
              "        channel.send({})\n",
              "        if (message.buffers) {\n",
              "          for (const buffer of message.buffers) {\n",
              "            buffers.push(buffer);\n",
              "            downloaded += buffer.byteLength;\n",
              "            progress.value = downloaded;\n",
              "          }\n",
              "        }\n",
              "      }\n",
              "      const blob = new Blob(buffers, {type: 'application/binary'});\n",
              "      const a = document.createElement('a');\n",
              "      a.href = window.URL.createObjectURL(blob);\n",
              "      a.download = filename;\n",
              "      div.appendChild(a);\n",
              "      a.click();\n",
              "      div.remove();\n",
              "    }\n",
              "  "
            ],
            "text/plain": [
              "<IPython.core.display.Javascript object>"
            ]
          },
          "metadata": {}
        },
        {
          "output_type": "display_data",
          "data": {
            "application/javascript": [
              "download(\"download_c244cd6d-174b-45ac-b634-906667964023\", \"R_SeptOct2020.csv\", 21308707)"
            ],
            "text/plain": [
              "<IPython.core.display.Javascript object>"
            ]
          },
          "metadata": {}
        }
      ]
    },
    {
      "cell_type": "code",
      "source": [
        "account = \"XHN\"\n",
        "\n",
        "XHN_202009_202010=pd.read_csv('/content/XHNews_china_202009200000_202010220000.csv')\n",
        "XHN_202009_202010 = XHN_202009_202010.append(pd.read_csv('/content/XHNews_covid_202009200000_202010220000.csv'),\n",
        "                                           ignore_index=True)\n",
        "XHN_202009_202010 = XHN_202009_202010.append(pd.read_csv('/content/XHNews_vaccine_202009200000_202010220000.csv'),\n",
        "                                           ignore_index=True)\n",
        "XHN_202009_202010 = XHN_202009_202010.append(pd.read_csv('/content/XHNews_coronavirus_202009200000_202010220000.csv'),\n",
        "                                           ignore_index=True)\n",
        "XHN_202009_202010 = XHN_202009_202010.append(pd.read_csv('/content/XHNews_wuhan_202009200000_202010210000.csv'),\n",
        "                                           ignore_index=True)\n",
        "\n",
        "label = account+\"_\"+period\n",
        "XHN_202009_202010.to_csv(label+\".csv\", index=False)\n",
        "files.download(label+\".csv\")"
      ],
      "metadata": {
        "colab": {
          "base_uri": "https://localhost:8080/",
          "height": 17
        },
        "id": "QGO_bK_JWU1c",
        "outputId": "d11c5b2c-3c66-4f48-9e3a-2bc9594f572b"
      },
      "execution_count": 79,
      "outputs": [
        {
          "output_type": "display_data",
          "data": {
            "application/javascript": [
              "\n",
              "    async function download(id, filename, size) {\n",
              "      if (!google.colab.kernel.accessAllowed) {\n",
              "        return;\n",
              "      }\n",
              "      const div = document.createElement('div');\n",
              "      const label = document.createElement('label');\n",
              "      label.textContent = `Downloading \"${filename}\": `;\n",
              "      div.appendChild(label);\n",
              "      const progress = document.createElement('progress');\n",
              "      progress.max = size;\n",
              "      div.appendChild(progress);\n",
              "      document.body.appendChild(div);\n",
              "\n",
              "      const buffers = [];\n",
              "      let downloaded = 0;\n",
              "\n",
              "      const channel = await google.colab.kernel.comms.open(id);\n",
              "      // Send a message to notify the kernel that we're ready.\n",
              "      channel.send({})\n",
              "\n",
              "      for await (const message of channel.messages) {\n",
              "        // Send a message to notify the kernel that we're ready.\n",
              "        channel.send({})\n",
              "        if (message.buffers) {\n",
              "          for (const buffer of message.buffers) {\n",
              "            buffers.push(buffer);\n",
              "            downloaded += buffer.byteLength;\n",
              "            progress.value = downloaded;\n",
              "          }\n",
              "        }\n",
              "      }\n",
              "      const blob = new Blob(buffers, {type: 'application/binary'});\n",
              "      const a = document.createElement('a');\n",
              "      a.href = window.URL.createObjectURL(blob);\n",
              "      a.download = filename;\n",
              "      div.appendChild(a);\n",
              "      a.click();\n",
              "      div.remove();\n",
              "    }\n",
              "  "
            ],
            "text/plain": [
              "<IPython.core.display.Javascript object>"
            ]
          },
          "metadata": {}
        },
        {
          "output_type": "display_data",
          "data": {
            "application/javascript": [
              "download(\"download_132e8256-f7e2-4fa7-a795-449ca70416f8\", \"XHN_SeptOct2020.csv\", 7075149)"
            ],
            "text/plain": [
              "<IPython.core.display.Javascript object>"
            ]
          },
          "metadata": {}
        }
      ]
    },
    {
      "cell_type": "markdown",
      "source": [
        "## USA: SeptOct2020"
      ],
      "metadata": {
        "id": "uzkqS67-nS7X"
      }
    },
    {
      "cell_type": "code",
      "source": [
        "country = \"USA\"\n",
        "\n",
        "USA_202009_202010 = AJ_202009_202010.append(AP_202009_202010, ignore_index=True)\n",
        "USA_202009_202010 = USA_202009_202010.append(BBC_202009_202010, ignore_index=True)\n",
        "USA_202009_202010 = USA_202009_202010.append(CNN_202009_202010, ignore_index=True)\n",
        "USA_202009_202010 = USA_202009_202010.append(R_202009_202010, ignore_index=True)\n",
        "\n",
        "label = country+\"_\"+period\n",
        "USA_202009_202010.to_csv(label+\".csv\", index=False)\n",
        "files.download(label+\".csv\")"
      ],
      "metadata": {
        "id": "eCVqp3hNo3QJ",
        "outputId": "dca10278-5967-48f4-c006-8b212f848c20",
        "colab": {
          "base_uri": "https://localhost:8080/",
          "height": 17
        }
      },
      "execution_count": 80,
      "outputs": [
        {
          "output_type": "display_data",
          "data": {
            "application/javascript": [
              "\n",
              "    async function download(id, filename, size) {\n",
              "      if (!google.colab.kernel.accessAllowed) {\n",
              "        return;\n",
              "      }\n",
              "      const div = document.createElement('div');\n",
              "      const label = document.createElement('label');\n",
              "      label.textContent = `Downloading \"${filename}\": `;\n",
              "      div.appendChild(label);\n",
              "      const progress = document.createElement('progress');\n",
              "      progress.max = size;\n",
              "      div.appendChild(progress);\n",
              "      document.body.appendChild(div);\n",
              "\n",
              "      const buffers = [];\n",
              "      let downloaded = 0;\n",
              "\n",
              "      const channel = await google.colab.kernel.comms.open(id);\n",
              "      // Send a message to notify the kernel that we're ready.\n",
              "      channel.send({})\n",
              "\n",
              "      for await (const message of channel.messages) {\n",
              "        // Send a message to notify the kernel that we're ready.\n",
              "        channel.send({})\n",
              "        if (message.buffers) {\n",
              "          for (const buffer of message.buffers) {\n",
              "            buffers.push(buffer);\n",
              "            downloaded += buffer.byteLength;\n",
              "            progress.value = downloaded;\n",
              "          }\n",
              "        }\n",
              "      }\n",
              "      const blob = new Blob(buffers, {type: 'application/binary'});\n",
              "      const a = document.createElement('a');\n",
              "      a.href = window.URL.createObjectURL(blob);\n",
              "      a.download = filename;\n",
              "      div.appendChild(a);\n",
              "      a.click();\n",
              "      div.remove();\n",
              "    }\n",
              "  "
            ],
            "text/plain": [
              "<IPython.core.display.Javascript object>"
            ]
          },
          "metadata": {}
        },
        {
          "output_type": "display_data",
          "data": {
            "application/javascript": [
              "download(\"download_4ebe9b0c-32f3-4b1a-8147-b0cde9acb0bf\", \"USA_SeptOct2020.csv\", 31101175)"
            ],
            "text/plain": [
              "<IPython.core.display.Javascript object>"
            ]
          },
          "metadata": {}
        }
      ]
    },
    {
      "cell_type": "markdown",
      "source": [
        "## China: SeptOct2020"
      ],
      "metadata": {
        "id": "5wr6YDqWnanl"
      }
    },
    {
      "cell_type": "code",
      "source": [
        "country = \"China\"\n",
        "\n",
        "China_202009_202010 = CGTN_202009_202010.append(XHN_202009_202010, ignore_index=True)\n",
        "\n",
        "label = country+\"_\"+period\n",
        "China_202009_202010.to_csv(label+\".csv\", index=False)\n",
        "files.download(label+\".csv\")"
      ],
      "metadata": {
        "id": "GKaKGekVr4he",
        "outputId": "0dd3dc0e-e9a4-44b4-8637-dc4636d03b53",
        "colab": {
          "base_uri": "https://localhost:8080/",
          "height": 17
        }
      },
      "execution_count": 81,
      "outputs": [
        {
          "output_type": "display_data",
          "data": {
            "application/javascript": [
              "\n",
              "    async function download(id, filename, size) {\n",
              "      if (!google.colab.kernel.accessAllowed) {\n",
              "        return;\n",
              "      }\n",
              "      const div = document.createElement('div');\n",
              "      const label = document.createElement('label');\n",
              "      label.textContent = `Downloading \"${filename}\": `;\n",
              "      div.appendChild(label);\n",
              "      const progress = document.createElement('progress');\n",
              "      progress.max = size;\n",
              "      div.appendChild(progress);\n",
              "      document.body.appendChild(div);\n",
              "\n",
              "      const buffers = [];\n",
              "      let downloaded = 0;\n",
              "\n",
              "      const channel = await google.colab.kernel.comms.open(id);\n",
              "      // Send a message to notify the kernel that we're ready.\n",
              "      channel.send({})\n",
              "\n",
              "      for await (const message of channel.messages) {\n",
              "        // Send a message to notify the kernel that we're ready.\n",
              "        channel.send({})\n",
              "        if (message.buffers) {\n",
              "          for (const buffer of message.buffers) {\n",
              "            buffers.push(buffer);\n",
              "            downloaded += buffer.byteLength;\n",
              "            progress.value = downloaded;\n",
              "          }\n",
              "        }\n",
              "      }\n",
              "      const blob = new Blob(buffers, {type: 'application/binary'});\n",
              "      const a = document.createElement('a');\n",
              "      a.href = window.URL.createObjectURL(blob);\n",
              "      a.download = filename;\n",
              "      div.appendChild(a);\n",
              "      a.click();\n",
              "      div.remove();\n",
              "    }\n",
              "  "
            ],
            "text/plain": [
              "<IPython.core.display.Javascript object>"
            ]
          },
          "metadata": {}
        },
        {
          "output_type": "display_data",
          "data": {
            "application/javascript": [
              "download(\"download_b3161867-b590-4e02-843a-8802b14a0714\", \"China_SeptOct2020.csv\", 15311593)"
            ],
            "text/plain": [
              "<IPython.core.display.Javascript object>"
            ]
          },
          "metadata": {}
        }
      ]
    },
    {
      "cell_type": "markdown",
      "source": [
        "## China and USA: SeptOct2020"
      ],
      "metadata": {
        "id": "xPczNR5_xNZ-"
      }
    },
    {
      "cell_type": "code",
      "source": [
        "country = \"China&USA\"\n",
        "\n",
        "ChinaUSA_202009_202010 = China_202009_202010.append(USA_202009_202010, ignore_index=True)\n",
        "\n",
        "label = country+\"_\"+period\n",
        "ChinaUSA_202009_202010.to_csv(label+\".csv\", index=False)\n",
        "files.download(label+\".csv\")"
      ],
      "metadata": {
        "outputId": "d4b091e6-a8df-496d-e044-94bb1a7eae0a",
        "colab": {
          "base_uri": "https://localhost:8080/",
          "height": 17
        },
        "id": "yEJogqY3xNaD"
      },
      "execution_count": 82,
      "outputs": [
        {
          "output_type": "display_data",
          "data": {
            "application/javascript": [
              "\n",
              "    async function download(id, filename, size) {\n",
              "      if (!google.colab.kernel.accessAllowed) {\n",
              "        return;\n",
              "      }\n",
              "      const div = document.createElement('div');\n",
              "      const label = document.createElement('label');\n",
              "      label.textContent = `Downloading \"${filename}\": `;\n",
              "      div.appendChild(label);\n",
              "      const progress = document.createElement('progress');\n",
              "      progress.max = size;\n",
              "      div.appendChild(progress);\n",
              "      document.body.appendChild(div);\n",
              "\n",
              "      const buffers = [];\n",
              "      let downloaded = 0;\n",
              "\n",
              "      const channel = await google.colab.kernel.comms.open(id);\n",
              "      // Send a message to notify the kernel that we're ready.\n",
              "      channel.send({})\n",
              "\n",
              "      for await (const message of channel.messages) {\n",
              "        // Send a message to notify the kernel that we're ready.\n",
              "        channel.send({})\n",
              "        if (message.buffers) {\n",
              "          for (const buffer of message.buffers) {\n",
              "            buffers.push(buffer);\n",
              "            downloaded += buffer.byteLength;\n",
              "            progress.value = downloaded;\n",
              "          }\n",
              "        }\n",
              "      }\n",
              "      const blob = new Blob(buffers, {type: 'application/binary'});\n",
              "      const a = document.createElement('a');\n",
              "      a.href = window.URL.createObjectURL(blob);\n",
              "      a.download = filename;\n",
              "      div.appendChild(a);\n",
              "      a.click();\n",
              "      div.remove();\n",
              "    }\n",
              "  "
            ],
            "text/plain": [
              "<IPython.core.display.Javascript object>"
            ]
          },
          "metadata": {}
        },
        {
          "output_type": "display_data",
          "data": {
            "application/javascript": [
              "download(\"download_5d029a53-030f-43e1-9cae-4e8470b8c00e\", \"China&USA_SeptOct2020.csv\", 46412274)"
            ],
            "text/plain": [
              "<IPython.core.display.Javascript object>"
            ]
          },
          "metadata": {}
        }
      ]
    },
    {
      "cell_type": "markdown",
      "source": [
        "# MarchApril2021"
      ],
      "metadata": {
        "id": "dHCTFC88ywMG"
      }
    },
    {
      "cell_type": "code",
      "source": [
        "period = \"MarchApril2021\""
      ],
      "metadata": {
        "id": "kg8vZLKId9U0"
      },
      "execution_count": 88,
      "outputs": []
    },
    {
      "cell_type": "markdown",
      "source": [
        "## Accounts: MarchApril2021"
      ],
      "metadata": {
        "id": "K0vJWtgLJSod"
      }
    },
    {
      "cell_type": "code",
      "source": [
        "account = \"AJ\"\n",
        "\n",
        "AJ_202103_202104=pd.read_csv('/content/AJEnglish_WHO_202103170000_202104170000.csv')\n",
        "AJ_202103_202104 = AJ_202103_202104.append(pd.read_csv('/content/AJEnglish_covid_202103170000_202104170000.csv'),\n",
        "                                           ignore_index=True)\n",
        "AJ_202103_202104 = AJ_202103_202104.append(pd.read_csv('/content/AJEnglish_vaccine_202103170000_202104170000.csv'),\n",
        "                                           ignore_index=True)\n",
        "\n",
        "label = account+\"_\"+period\n",
        "AJ_202103_202104.to_csv(label+\".csv\", index=False)\n",
        "files.download(label+\".csv\")"
      ],
      "metadata": {
        "colab": {
          "base_uri": "https://localhost:8080/",
          "height": 0
        },
        "id": "Xm-DZ9vdEiKh",
        "outputId": "c0266117-5819-4d69-91ce-35ceea07dc1c"
      },
      "execution_count": 89,
      "outputs": [
        {
          "output_type": "display_data",
          "data": {
            "application/javascript": [
              "\n",
              "    async function download(id, filename, size) {\n",
              "      if (!google.colab.kernel.accessAllowed) {\n",
              "        return;\n",
              "      }\n",
              "      const div = document.createElement('div');\n",
              "      const label = document.createElement('label');\n",
              "      label.textContent = `Downloading \"${filename}\": `;\n",
              "      div.appendChild(label);\n",
              "      const progress = document.createElement('progress');\n",
              "      progress.max = size;\n",
              "      div.appendChild(progress);\n",
              "      document.body.appendChild(div);\n",
              "\n",
              "      const buffers = [];\n",
              "      let downloaded = 0;\n",
              "\n",
              "      const channel = await google.colab.kernel.comms.open(id);\n",
              "      // Send a message to notify the kernel that we're ready.\n",
              "      channel.send({})\n",
              "\n",
              "      for await (const message of channel.messages) {\n",
              "        // Send a message to notify the kernel that we're ready.\n",
              "        channel.send({})\n",
              "        if (message.buffers) {\n",
              "          for (const buffer of message.buffers) {\n",
              "            buffers.push(buffer);\n",
              "            downloaded += buffer.byteLength;\n",
              "            progress.value = downloaded;\n",
              "          }\n",
              "        }\n",
              "      }\n",
              "      const blob = new Blob(buffers, {type: 'application/binary'});\n",
              "      const a = document.createElement('a');\n",
              "      a.href = window.URL.createObjectURL(blob);\n",
              "      a.download = filename;\n",
              "      div.appendChild(a);\n",
              "      a.click();\n",
              "      div.remove();\n",
              "    }\n",
              "  "
            ],
            "text/plain": [
              "<IPython.core.display.Javascript object>"
            ]
          },
          "metadata": {}
        },
        {
          "output_type": "display_data",
          "data": {
            "application/javascript": [
              "download(\"download_b6de9837-cd59-4914-975d-f2bbf87f9bbc\", \"AJ_MarchApril2021.csv\", 1905259)"
            ],
            "text/plain": [
              "<IPython.core.display.Javascript object>"
            ]
          },
          "metadata": {}
        }
      ]
    },
    {
      "cell_type": "code",
      "source": [
        "account = \"AP\"\n",
        "\n",
        "AP_202103_202104=pd.read_csv('/content/AP_WHO_202103170000_202104170000.csv')\n",
        "AP_202103_202104 = AP_202103_202104.append(pd.read_csv('/content/AP_covid_202103170000_202104170000.csv'),\n",
        "                                           ignore_index=True)\n",
        "AP_202103_202104 = AP_202103_202104.append(pd.read_csv('/content/AP_vaccine_202103170000_202104170000.csv'),\n",
        "                                           ignore_index=True)\n",
        "\n",
        "label = account+\"_\"+period\n",
        "AP_202103_202104.to_csv(label+\".csv\", index=False)\n",
        "files.download(label+\".csv\")"
      ],
      "metadata": {
        "colab": {
          "base_uri": "https://localhost:8080/",
          "height": 0
        },
        "id": "XuzvZjU9N0NC",
        "outputId": "4273f9cb-aa84-4a5e-ac75-1221c9c43b56"
      },
      "execution_count": 90,
      "outputs": [
        {
          "output_type": "display_data",
          "data": {
            "application/javascript": [
              "\n",
              "    async function download(id, filename, size) {\n",
              "      if (!google.colab.kernel.accessAllowed) {\n",
              "        return;\n",
              "      }\n",
              "      const div = document.createElement('div');\n",
              "      const label = document.createElement('label');\n",
              "      label.textContent = `Downloading \"${filename}\": `;\n",
              "      div.appendChild(label);\n",
              "      const progress = document.createElement('progress');\n",
              "      progress.max = size;\n",
              "      div.appendChild(progress);\n",
              "      document.body.appendChild(div);\n",
              "\n",
              "      const buffers = [];\n",
              "      let downloaded = 0;\n",
              "\n",
              "      const channel = await google.colab.kernel.comms.open(id);\n",
              "      // Send a message to notify the kernel that we're ready.\n",
              "      channel.send({})\n",
              "\n",
              "      for await (const message of channel.messages) {\n",
              "        // Send a message to notify the kernel that we're ready.\n",
              "        channel.send({})\n",
              "        if (message.buffers) {\n",
              "          for (const buffer of message.buffers) {\n",
              "            buffers.push(buffer);\n",
              "            downloaded += buffer.byteLength;\n",
              "            progress.value = downloaded;\n",
              "          }\n",
              "        }\n",
              "      }\n",
              "      const blob = new Blob(buffers, {type: 'application/binary'});\n",
              "      const a = document.createElement('a');\n",
              "      a.href = window.URL.createObjectURL(blob);\n",
              "      a.download = filename;\n",
              "      div.appendChild(a);\n",
              "      a.click();\n",
              "      div.remove();\n",
              "    }\n",
              "  "
            ],
            "text/plain": [
              "<IPython.core.display.Javascript object>"
            ]
          },
          "metadata": {}
        },
        {
          "output_type": "display_data",
          "data": {
            "application/javascript": [
              "download(\"download_48e677b1-ebed-4d9b-8f64-c2fcd9df2e8a\", \"AP_MarchApril2021.csv\", 1032650)"
            ],
            "text/plain": [
              "<IPython.core.display.Javascript object>"
            ]
          },
          "metadata": {}
        }
      ]
    },
    {
      "cell_type": "code",
      "source": [
        "account = \"BBC\"\n",
        "\n",
        "BBC_202103_202104=pd.read_csv('/content/BBCWorld_WHO_202103170000_202104170000.csv')\n",
        "BBC_202103_202104 = BBC_202103_202104.append(pd.read_csv('/content/BBCWorld_covid_202103170000_202104170000.csv'),\n",
        "                                           ignore_index=True)\n",
        "BBC_202103_202104 = BBC_202103_202104.append(pd.read_csv('/content/BBCWorld_vaccine_202103170000_202104170000.csv'),\n",
        "                                           ignore_index=True)\n",
        "\n",
        "label = account+\"_\"+period\n",
        "BBC_202103_202104.to_csv(label+\".csv\", index=False)\n",
        "files.download(label+\".csv\")"
      ],
      "metadata": {
        "colab": {
          "base_uri": "https://localhost:8080/",
          "height": 0
        },
        "id": "224895S8P9V0",
        "outputId": "166a5739-1f2b-4959-ce8d-7e67572168ce"
      },
      "execution_count": 91,
      "outputs": [
        {
          "output_type": "display_data",
          "data": {
            "application/javascript": [
              "\n",
              "    async function download(id, filename, size) {\n",
              "      if (!google.colab.kernel.accessAllowed) {\n",
              "        return;\n",
              "      }\n",
              "      const div = document.createElement('div');\n",
              "      const label = document.createElement('label');\n",
              "      label.textContent = `Downloading \"${filename}\": `;\n",
              "      div.appendChild(label);\n",
              "      const progress = document.createElement('progress');\n",
              "      progress.max = size;\n",
              "      div.appendChild(progress);\n",
              "      document.body.appendChild(div);\n",
              "\n",
              "      const buffers = [];\n",
              "      let downloaded = 0;\n",
              "\n",
              "      const channel = await google.colab.kernel.comms.open(id);\n",
              "      // Send a message to notify the kernel that we're ready.\n",
              "      channel.send({})\n",
              "\n",
              "      for await (const message of channel.messages) {\n",
              "        // Send a message to notify the kernel that we're ready.\n",
              "        channel.send({})\n",
              "        if (message.buffers) {\n",
              "          for (const buffer of message.buffers) {\n",
              "            buffers.push(buffer);\n",
              "            downloaded += buffer.byteLength;\n",
              "            progress.value = downloaded;\n",
              "          }\n",
              "        }\n",
              "      }\n",
              "      const blob = new Blob(buffers, {type: 'application/binary'});\n",
              "      const a = document.createElement('a');\n",
              "      a.href = window.URL.createObjectURL(blob);\n",
              "      a.download = filename;\n",
              "      div.appendChild(a);\n",
              "      a.click();\n",
              "      div.remove();\n",
              "    }\n",
              "  "
            ],
            "text/plain": [
              "<IPython.core.display.Javascript object>"
            ]
          },
          "metadata": {}
        },
        {
          "output_type": "display_data",
          "data": {
            "application/javascript": [
              "download(\"download_ecb18027-1177-4fa0-9725-3ae763ddc237\", \"BBC_MarchApril2021.csv\", 776204)"
            ],
            "text/plain": [
              "<IPython.core.display.Javascript object>"
            ]
          },
          "metadata": {}
        }
      ]
    },
    {
      "cell_type": "code",
      "source": [
        "account = \"CGTN\"\n",
        "\n",
        "CGTN_202103_202104=pd.read_csv('/content/CGTNOfficial_WHO_202103170000_202104170000.csv')\n",
        "CGTN_202103_202104 = CGTN_202103_202104.append(pd.read_csv('/content/CGTNOfficial_covid_202103170000_202104170000.csv'),\n",
        "                                           ignore_index=True)\n",
        "CGTN_202103_202104 = CGTN_202103_202104.append(pd.read_csv('/content/CGTNOfficial_vaccine_202103170000_202104170000.csv'),\n",
        "                                           ignore_index=True)\n",
        "\n",
        "label = account+\"_\"+period\n",
        "CGTN_202103_202104.to_csv(label+\".csv\", index=False)\n",
        "files.download(label+\".csv\")"
      ],
      "metadata": {
        "colab": {
          "base_uri": "https://localhost:8080/",
          "height": 0
        },
        "id": "SzRd5U8AR92G",
        "outputId": "e5b90469-f1f1-45f7-b66f-9445aeff752f"
      },
      "execution_count": 92,
      "outputs": [
        {
          "output_type": "display_data",
          "data": {
            "application/javascript": [
              "\n",
              "    async function download(id, filename, size) {\n",
              "      if (!google.colab.kernel.accessAllowed) {\n",
              "        return;\n",
              "      }\n",
              "      const div = document.createElement('div');\n",
              "      const label = document.createElement('label');\n",
              "      label.textContent = `Downloading \"${filename}\": `;\n",
              "      div.appendChild(label);\n",
              "      const progress = document.createElement('progress');\n",
              "      progress.max = size;\n",
              "      div.appendChild(progress);\n",
              "      document.body.appendChild(div);\n",
              "\n",
              "      const buffers = [];\n",
              "      let downloaded = 0;\n",
              "\n",
              "      const channel = await google.colab.kernel.comms.open(id);\n",
              "      // Send a message to notify the kernel that we're ready.\n",
              "      channel.send({})\n",
              "\n",
              "      for await (const message of channel.messages) {\n",
              "        // Send a message to notify the kernel that we're ready.\n",
              "        channel.send({})\n",
              "        if (message.buffers) {\n",
              "          for (const buffer of message.buffers) {\n",
              "            buffers.push(buffer);\n",
              "            downloaded += buffer.byteLength;\n",
              "            progress.value = downloaded;\n",
              "          }\n",
              "        }\n",
              "      }\n",
              "      const blob = new Blob(buffers, {type: 'application/binary'});\n",
              "      const a = document.createElement('a');\n",
              "      a.href = window.URL.createObjectURL(blob);\n",
              "      a.download = filename;\n",
              "      div.appendChild(a);\n",
              "      a.click();\n",
              "      div.remove();\n",
              "    }\n",
              "  "
            ],
            "text/plain": [
              "<IPython.core.display.Javascript object>"
            ]
          },
          "metadata": {}
        },
        {
          "output_type": "display_data",
          "data": {
            "application/javascript": [
              "download(\"download_195fa0c1-b635-497d-9c1f-e918594fa8af\", \"CGTN_MarchApril2021.csv\", 3920123)"
            ],
            "text/plain": [
              "<IPython.core.display.Javascript object>"
            ]
          },
          "metadata": {}
        }
      ]
    },
    {
      "cell_type": "code",
      "source": [
        "account = \"CNN\"\n",
        "\n",
        "CNN_202103_202104=pd.read_csv('/content/CNN_WHO_202103170000_202104170000.csv')\n",
        "CNN_202103_202104 = CNN_202103_202104.append(pd.read_csv('/content/CNN_covid_202103170000_202104170000.csv'),\n",
        "                                           ignore_index=True)\n",
        "CNN_202103_202104 = CNN_202103_202104.append(pd.read_csv('/content/CNN_vaccine_202103170000_202104170000.csv'),\n",
        "                                           ignore_index=True)\n",
        "\n",
        "label = account+\"_\"+period\n",
        "CNN_202103_202104.to_csv(label+\".csv\", index=False)\n",
        "files.download(label+\".csv\")"
      ],
      "metadata": {
        "colab": {
          "base_uri": "https://localhost:8080/",
          "height": 0
        },
        "id": "v7iorBisUr7_",
        "outputId": "a36ae0ec-b21c-4cc5-dd09-4d55437997a1"
      },
      "execution_count": 93,
      "outputs": [
        {
          "output_type": "display_data",
          "data": {
            "application/javascript": [
              "\n",
              "    async function download(id, filename, size) {\n",
              "      if (!google.colab.kernel.accessAllowed) {\n",
              "        return;\n",
              "      }\n",
              "      const div = document.createElement('div');\n",
              "      const label = document.createElement('label');\n",
              "      label.textContent = `Downloading \"${filename}\": `;\n",
              "      div.appendChild(label);\n",
              "      const progress = document.createElement('progress');\n",
              "      progress.max = size;\n",
              "      div.appendChild(progress);\n",
              "      document.body.appendChild(div);\n",
              "\n",
              "      const buffers = [];\n",
              "      let downloaded = 0;\n",
              "\n",
              "      const channel = await google.colab.kernel.comms.open(id);\n",
              "      // Send a message to notify the kernel that we're ready.\n",
              "      channel.send({})\n",
              "\n",
              "      for await (const message of channel.messages) {\n",
              "        // Send a message to notify the kernel that we're ready.\n",
              "        channel.send({})\n",
              "        if (message.buffers) {\n",
              "          for (const buffer of message.buffers) {\n",
              "            buffers.push(buffer);\n",
              "            downloaded += buffer.byteLength;\n",
              "            progress.value = downloaded;\n",
              "          }\n",
              "        }\n",
              "      }\n",
              "      const blob = new Blob(buffers, {type: 'application/binary'});\n",
              "      const a = document.createElement('a');\n",
              "      a.href = window.URL.createObjectURL(blob);\n",
              "      a.download = filename;\n",
              "      div.appendChild(a);\n",
              "      a.click();\n",
              "      div.remove();\n",
              "    }\n",
              "  "
            ],
            "text/plain": [
              "<IPython.core.display.Javascript object>"
            ]
          },
          "metadata": {}
        },
        {
          "output_type": "display_data",
          "data": {
            "application/javascript": [
              "download(\"download_8971f5d5-2e21-4528-97b4-23f56c951b22\", \"CNN_MarchApril2021.csv\", 1665029)"
            ],
            "text/plain": [
              "<IPython.core.display.Javascript object>"
            ]
          },
          "metadata": {}
        }
      ]
    },
    {
      "cell_type": "code",
      "source": [
        "account = \"R\"\n",
        "\n",
        "R_202103_202104=pd.read_csv('/content/Reuters_WHO_202103170000_202104170000.csv')\n",
        "R_202103_202104 = R_202103_202104.append(pd.read_csv('/content/Reuters_covid_202103170000_202104170000.csv'),\n",
        "                                           ignore_index=True)\n",
        "R_202103_202104 = R_202103_202104.append(pd.read_csv('/content/Reuters_vaccine_202103170000_202104170000.csv'),\n",
        "                                           ignore_index=True)\n",
        "\n",
        "label = account+\"_\"+period\n",
        "R_202103_202104.to_csv(label+\".csv\", index=False)\n",
        "files.download(label+\".csv\")"
      ],
      "metadata": {
        "colab": {
          "base_uri": "https://localhost:8080/",
          "height": 0
        },
        "id": "DFcDFMoOV3NM",
        "outputId": "c215e788-9f5c-4c09-b69e-fdfc523c0b1c"
      },
      "execution_count": 94,
      "outputs": [
        {
          "output_type": "display_data",
          "data": {
            "application/javascript": [
              "\n",
              "    async function download(id, filename, size) {\n",
              "      if (!google.colab.kernel.accessAllowed) {\n",
              "        return;\n",
              "      }\n",
              "      const div = document.createElement('div');\n",
              "      const label = document.createElement('label');\n",
              "      label.textContent = `Downloading \"${filename}\": `;\n",
              "      div.appendChild(label);\n",
              "      const progress = document.createElement('progress');\n",
              "      progress.max = size;\n",
              "      div.appendChild(progress);\n",
              "      document.body.appendChild(div);\n",
              "\n",
              "      const buffers = [];\n",
              "      let downloaded = 0;\n",
              "\n",
              "      const channel = await google.colab.kernel.comms.open(id);\n",
              "      // Send a message to notify the kernel that we're ready.\n",
              "      channel.send({})\n",
              "\n",
              "      for await (const message of channel.messages) {\n",
              "        // Send a message to notify the kernel that we're ready.\n",
              "        channel.send({})\n",
              "        if (message.buffers) {\n",
              "          for (const buffer of message.buffers) {\n",
              "            buffers.push(buffer);\n",
              "            downloaded += buffer.byteLength;\n",
              "            progress.value = downloaded;\n",
              "          }\n",
              "        }\n",
              "      }\n",
              "      const blob = new Blob(buffers, {type: 'application/binary'});\n",
              "      const a = document.createElement('a');\n",
              "      a.href = window.URL.createObjectURL(blob);\n",
              "      a.download = filename;\n",
              "      div.appendChild(a);\n",
              "      a.click();\n",
              "      div.remove();\n",
              "    }\n",
              "  "
            ],
            "text/plain": [
              "<IPython.core.display.Javascript object>"
            ]
          },
          "metadata": {}
        },
        {
          "output_type": "display_data",
          "data": {
            "application/javascript": [
              "download(\"download_f5630f2c-ddfd-4382-8ee4-7fbd10c2ac9e\", \"R_MarchApril2021.csv\", 8912389)"
            ],
            "text/plain": [
              "<IPython.core.display.Javascript object>"
            ]
          },
          "metadata": {}
        }
      ]
    },
    {
      "cell_type": "code",
      "source": [
        "account = \"XHN\"\n",
        "\n",
        "XHN_202103_202104=pd.read_csv('/content/XHNews_WHO_202103170000_202104170000.csv')\n",
        "XHN_202103_202104 = XHN_202103_202104.append(pd.read_csv('/content/XHNews_covid_202103170000_202104170000.csv'),\n",
        "                                           ignore_index=True)\n",
        "XHN_202103_202104 = XHN_202103_202104.append(pd.read_csv('/content/XHNews_vaccine_202103170000_202104170000.csv'),\n",
        "                                           ignore_index=True)\n",
        "\n",
        "label = account+\"_\"+period\n",
        "XHN_202103_202104.to_csv(label+\".csv\", index=False)\n",
        "files.download(label+\".csv\")"
      ],
      "metadata": {
        "colab": {
          "base_uri": "https://localhost:8080/",
          "height": 0
        },
        "id": "v_DdKq4_V_-T",
        "outputId": "1f81d3e5-3500-4ce6-88ff-9af38c0c3823"
      },
      "execution_count": 95,
      "outputs": [
        {
          "output_type": "display_data",
          "data": {
            "application/javascript": [
              "\n",
              "    async function download(id, filename, size) {\n",
              "      if (!google.colab.kernel.accessAllowed) {\n",
              "        return;\n",
              "      }\n",
              "      const div = document.createElement('div');\n",
              "      const label = document.createElement('label');\n",
              "      label.textContent = `Downloading \"${filename}\": `;\n",
              "      div.appendChild(label);\n",
              "      const progress = document.createElement('progress');\n",
              "      progress.max = size;\n",
              "      div.appendChild(progress);\n",
              "      document.body.appendChild(div);\n",
              "\n",
              "      const buffers = [];\n",
              "      let downloaded = 0;\n",
              "\n",
              "      const channel = await google.colab.kernel.comms.open(id);\n",
              "      // Send a message to notify the kernel that we're ready.\n",
              "      channel.send({})\n",
              "\n",
              "      for await (const message of channel.messages) {\n",
              "        // Send a message to notify the kernel that we're ready.\n",
              "        channel.send({})\n",
              "        if (message.buffers) {\n",
              "          for (const buffer of message.buffers) {\n",
              "            buffers.push(buffer);\n",
              "            downloaded += buffer.byteLength;\n",
              "            progress.value = downloaded;\n",
              "          }\n",
              "        }\n",
              "      }\n",
              "      const blob = new Blob(buffers, {type: 'application/binary'});\n",
              "      const a = document.createElement('a');\n",
              "      a.href = window.URL.createObjectURL(blob);\n",
              "      a.download = filename;\n",
              "      div.appendChild(a);\n",
              "      a.click();\n",
              "      div.remove();\n",
              "    }\n",
              "  "
            ],
            "text/plain": [
              "<IPython.core.display.Javascript object>"
            ]
          },
          "metadata": {}
        },
        {
          "output_type": "display_data",
          "data": {
            "application/javascript": [
              "download(\"download_41aa55ca-05a5-4585-88a8-5b851415e9a1\", \"XHN_MarchApril2021.csv\", 2449895)"
            ],
            "text/plain": [
              "<IPython.core.display.Javascript object>"
            ]
          },
          "metadata": {}
        }
      ]
    },
    {
      "cell_type": "markdown",
      "source": [
        "## USA: MarchApril2021"
      ],
      "metadata": {
        "id": "mDcKUEWBnTB6"
      }
    },
    {
      "cell_type": "code",
      "source": [
        "country = \"USA\"\n",
        "\n",
        "USA_202103_202104 = AJ_202103_202104.append(AP_202103_202104, ignore_index=True)\n",
        "USA_202103_202104 = USA_202103_202104.append(BBC_202103_202104, ignore_index=True)\n",
        "USA_202103_202104 = USA_202103_202104.append(CNN_202103_202104, ignore_index=True)\n",
        "USA_202103_202104 = USA_202103_202104.append(R_202103_202104, ignore_index=True)\n",
        "\n",
        "label = country+\"_\"+period\n",
        "USA_202103_202104.to_csv(label+\".csv\", index=False)\n",
        "files.download(label+\".csv\")"
      ],
      "metadata": {
        "id": "xwuG0Iu5q5-7",
        "outputId": "9d4a896e-92bd-4a50-a487-a7850b38b17b",
        "colab": {
          "base_uri": "https://localhost:8080/",
          "height": 17
        }
      },
      "execution_count": 96,
      "outputs": [
        {
          "output_type": "display_data",
          "data": {
            "application/javascript": [
              "\n",
              "    async function download(id, filename, size) {\n",
              "      if (!google.colab.kernel.accessAllowed) {\n",
              "        return;\n",
              "      }\n",
              "      const div = document.createElement('div');\n",
              "      const label = document.createElement('label');\n",
              "      label.textContent = `Downloading \"${filename}\": `;\n",
              "      div.appendChild(label);\n",
              "      const progress = document.createElement('progress');\n",
              "      progress.max = size;\n",
              "      div.appendChild(progress);\n",
              "      document.body.appendChild(div);\n",
              "\n",
              "      const buffers = [];\n",
              "      let downloaded = 0;\n",
              "\n",
              "      const channel = await google.colab.kernel.comms.open(id);\n",
              "      // Send a message to notify the kernel that we're ready.\n",
              "      channel.send({})\n",
              "\n",
              "      for await (const message of channel.messages) {\n",
              "        // Send a message to notify the kernel that we're ready.\n",
              "        channel.send({})\n",
              "        if (message.buffers) {\n",
              "          for (const buffer of message.buffers) {\n",
              "            buffers.push(buffer);\n",
              "            downloaded += buffer.byteLength;\n",
              "            progress.value = downloaded;\n",
              "          }\n",
              "        }\n",
              "      }\n",
              "      const blob = new Blob(buffers, {type: 'application/binary'});\n",
              "      const a = document.createElement('a');\n",
              "      a.href = window.URL.createObjectURL(blob);\n",
              "      a.download = filename;\n",
              "      div.appendChild(a);\n",
              "      a.click();\n",
              "      div.remove();\n",
              "    }\n",
              "  "
            ],
            "text/plain": [
              "<IPython.core.display.Javascript object>"
            ]
          },
          "metadata": {}
        },
        {
          "output_type": "display_data",
          "data": {
            "application/javascript": [
              "download(\"download_8319c86f-b2b8-4852-823c-0d37dbe97b68\", \"USA_MarchApril2021.csv\", 14307526)"
            ],
            "text/plain": [
              "<IPython.core.display.Javascript object>"
            ]
          },
          "metadata": {}
        }
      ]
    },
    {
      "cell_type": "markdown",
      "source": [
        "## China: MarchApril2021"
      ],
      "metadata": {
        "id": "J5kO0klTnanl"
      }
    },
    {
      "cell_type": "code",
      "source": [
        "country = \"China\"\n",
        "\n",
        "China_202103_202104 = CGTN_202103_202104.append(XHN_202103_202104, ignore_index=True)\n",
        "\n",
        "label = country+\"_\"+period\n",
        "China_202103_202104.to_csv(label+\".csv\", index=False)\n",
        "files.download(label+\".csv\")"
      ],
      "metadata": {
        "id": "ZTqXKLE9r-ww",
        "outputId": "e6194a73-8134-4601-8e5e-38e30e1d6358",
        "colab": {
          "base_uri": "https://localhost:8080/",
          "height": 17
        }
      },
      "execution_count": 97,
      "outputs": [
        {
          "output_type": "display_data",
          "data": {
            "application/javascript": [
              "\n",
              "    async function download(id, filename, size) {\n",
              "      if (!google.colab.kernel.accessAllowed) {\n",
              "        return;\n",
              "      }\n",
              "      const div = document.createElement('div');\n",
              "      const label = document.createElement('label');\n",
              "      label.textContent = `Downloading \"${filename}\": `;\n",
              "      div.appendChild(label);\n",
              "      const progress = document.createElement('progress');\n",
              "      progress.max = size;\n",
              "      div.appendChild(progress);\n",
              "      document.body.appendChild(div);\n",
              "\n",
              "      const buffers = [];\n",
              "      let downloaded = 0;\n",
              "\n",
              "      const channel = await google.colab.kernel.comms.open(id);\n",
              "      // Send a message to notify the kernel that we're ready.\n",
              "      channel.send({})\n",
              "\n",
              "      for await (const message of channel.messages) {\n",
              "        // Send a message to notify the kernel that we're ready.\n",
              "        channel.send({})\n",
              "        if (message.buffers) {\n",
              "          for (const buffer of message.buffers) {\n",
              "            buffers.push(buffer);\n",
              "            downloaded += buffer.byteLength;\n",
              "            progress.value = downloaded;\n",
              "          }\n",
              "        }\n",
              "      }\n",
              "      const blob = new Blob(buffers, {type: 'application/binary'});\n",
              "      const a = document.createElement('a');\n",
              "      a.href = window.URL.createObjectURL(blob);\n",
              "      a.download = filename;\n",
              "      div.appendChild(a);\n",
              "      a.click();\n",
              "      div.remove();\n",
              "    }\n",
              "  "
            ],
            "text/plain": [
              "<IPython.core.display.Javascript object>"
            ]
          },
          "metadata": {}
        },
        {
          "output_type": "display_data",
          "data": {
            "application/javascript": [
              "download(\"download_9a153c6b-6eee-4f2c-8260-492d7cd2013c\", \"China_MarchApril2021.csv\", 6371902)"
            ],
            "text/plain": [
              "<IPython.core.display.Javascript object>"
            ]
          },
          "metadata": {}
        }
      ]
    },
    {
      "cell_type": "markdown",
      "source": [
        "## China and USA: MarchApril2021"
      ],
      "metadata": {
        "id": "j2OLKek9xo_z"
      }
    },
    {
      "cell_type": "code",
      "source": [
        "country = \"China&USA\"\n",
        "\n",
        "ChinaUSA_202103_202104 = China_202103_202104.append(USA_202103_202104, ignore_index=True)\n",
        "\n",
        "label = country+\"_\"+period\n",
        "ChinaUSA_202103_202104.to_csv(label+\".csv\", index=False)\n",
        "files.download(label+\".csv\")"
      ],
      "metadata": {
        "outputId": "dfff27f7-9ac0-4b91-b5c5-44f99ed82e87",
        "colab": {
          "base_uri": "https://localhost:8080/",
          "height": 17
        },
        "id": "glSPsYcwxo_0"
      },
      "execution_count": 98,
      "outputs": [
        {
          "output_type": "display_data",
          "data": {
            "application/javascript": [
              "\n",
              "    async function download(id, filename, size) {\n",
              "      if (!google.colab.kernel.accessAllowed) {\n",
              "        return;\n",
              "      }\n",
              "      const div = document.createElement('div');\n",
              "      const label = document.createElement('label');\n",
              "      label.textContent = `Downloading \"${filename}\": `;\n",
              "      div.appendChild(label);\n",
              "      const progress = document.createElement('progress');\n",
              "      progress.max = size;\n",
              "      div.appendChild(progress);\n",
              "      document.body.appendChild(div);\n",
              "\n",
              "      const buffers = [];\n",
              "      let downloaded = 0;\n",
              "\n",
              "      const channel = await google.colab.kernel.comms.open(id);\n",
              "      // Send a message to notify the kernel that we're ready.\n",
              "      channel.send({})\n",
              "\n",
              "      for await (const message of channel.messages) {\n",
              "        // Send a message to notify the kernel that we're ready.\n",
              "        channel.send({})\n",
              "        if (message.buffers) {\n",
              "          for (const buffer of message.buffers) {\n",
              "            buffers.push(buffer);\n",
              "            downloaded += buffer.byteLength;\n",
              "            progress.value = downloaded;\n",
              "          }\n",
              "        }\n",
              "      }\n",
              "      const blob = new Blob(buffers, {type: 'application/binary'});\n",
              "      const a = document.createElement('a');\n",
              "      a.href = window.URL.createObjectURL(blob);\n",
              "      a.download = filename;\n",
              "      div.appendChild(a);\n",
              "      a.click();\n",
              "      div.remove();\n",
              "    }\n",
              "  "
            ],
            "text/plain": [
              "<IPython.core.display.Javascript object>"
            ]
          },
          "metadata": {}
        },
        {
          "output_type": "display_data",
          "data": {
            "application/javascript": [
              "download(\"download_15e916f3-7cc1-402e-a67b-3b12fda1fa76\", \"China&USA_MarchApril2021.csv\", 20680310)"
            ],
            "text/plain": [
              "<IPython.core.display.Javascript object>"
            ]
          },
          "metadata": {}
        }
      ]
    },
    {
      "cell_type": "markdown",
      "source": [
        "# All"
      ],
      "metadata": {
        "id": "oC1mZhSQy0dO"
      }
    },
    {
      "cell_type": "markdown",
      "source": [
        "## USA: all"
      ],
      "metadata": {
        "id": "1ryXnRxknhQj"
      }
    },
    {
      "cell_type": "code",
      "source": [
        "country = \"USA\"\n",
        "\n",
        "USA = USA_202001_202002.append(USA_202009_202010, ignore_index=True)\n",
        "USA = USA.append(USA_202103_202104, ignore_index=True)\n",
        "\n",
        "USA.to_csv(country+\".csv\", index=False)\n",
        "files.download(country+\".csv\")"
      ],
      "metadata": {
        "id": "0Xs2OQGasZIz",
        "outputId": "3101995c-478f-4bce-8611-d34a5f74348a",
        "colab": {
          "base_uri": "https://localhost:8080/",
          "height": 17
        }
      },
      "execution_count": 99,
      "outputs": [
        {
          "output_type": "display_data",
          "data": {
            "application/javascript": [
              "\n",
              "    async function download(id, filename, size) {\n",
              "      if (!google.colab.kernel.accessAllowed) {\n",
              "        return;\n",
              "      }\n",
              "      const div = document.createElement('div');\n",
              "      const label = document.createElement('label');\n",
              "      label.textContent = `Downloading \"${filename}\": `;\n",
              "      div.appendChild(label);\n",
              "      const progress = document.createElement('progress');\n",
              "      progress.max = size;\n",
              "      div.appendChild(progress);\n",
              "      document.body.appendChild(div);\n",
              "\n",
              "      const buffers = [];\n",
              "      let downloaded = 0;\n",
              "\n",
              "      const channel = await google.colab.kernel.comms.open(id);\n",
              "      // Send a message to notify the kernel that we're ready.\n",
              "      channel.send({})\n",
              "\n",
              "      for await (const message of channel.messages) {\n",
              "        // Send a message to notify the kernel that we're ready.\n",
              "        channel.send({})\n",
              "        if (message.buffers) {\n",
              "          for (const buffer of message.buffers) {\n",
              "            buffers.push(buffer);\n",
              "            downloaded += buffer.byteLength;\n",
              "            progress.value = downloaded;\n",
              "          }\n",
              "        }\n",
              "      }\n",
              "      const blob = new Blob(buffers, {type: 'application/binary'});\n",
              "      const a = document.createElement('a');\n",
              "      a.href = window.URL.createObjectURL(blob);\n",
              "      a.download = filename;\n",
              "      div.appendChild(a);\n",
              "      a.click();\n",
              "      div.remove();\n",
              "    }\n",
              "  "
            ],
            "text/plain": [
              "<IPython.core.display.Javascript object>"
            ]
          },
          "metadata": {}
        },
        {
          "output_type": "display_data",
          "data": {
            "application/javascript": [
              "download(\"download_201d58a4-df2a-4bc6-8c72-42eb1ea1d21c\", \"USA.csv\", 72440475)"
            ],
            "text/plain": [
              "<IPython.core.display.Javascript object>"
            ]
          },
          "metadata": {}
        }
      ]
    },
    {
      "cell_type": "markdown",
      "source": [
        "## China: all"
      ],
      "metadata": {
        "id": "VMKLUrc4nkbv"
      }
    },
    {
      "cell_type": "code",
      "source": [
        "country = \"China\"\n",
        "\n",
        "China = China_202001_202002.append(China_202009_202010, ignore_index=True)\n",
        "China = China.append(USA_202103_202104, ignore_index=True)\n",
        "\n",
        "China.to_csv(country+\".csv\", index=False)\n",
        "files.download(country+\".csv\")"
      ],
      "metadata": {
        "id": "hS7oyQkrvBOI",
        "outputId": "df395996-ac7b-472e-c572-2566f1e6b3f2",
        "colab": {
          "base_uri": "https://localhost:8080/",
          "height": 0
        }
      },
      "execution_count": 100,
      "outputs": [
        {
          "output_type": "display_data",
          "data": {
            "application/javascript": [
              "\n",
              "    async function download(id, filename, size) {\n",
              "      if (!google.colab.kernel.accessAllowed) {\n",
              "        return;\n",
              "      }\n",
              "      const div = document.createElement('div');\n",
              "      const label = document.createElement('label');\n",
              "      label.textContent = `Downloading \"${filename}\": `;\n",
              "      div.appendChild(label);\n",
              "      const progress = document.createElement('progress');\n",
              "      progress.max = size;\n",
              "      div.appendChild(progress);\n",
              "      document.body.appendChild(div);\n",
              "\n",
              "      const buffers = [];\n",
              "      let downloaded = 0;\n",
              "\n",
              "      const channel = await google.colab.kernel.comms.open(id);\n",
              "      // Send a message to notify the kernel that we're ready.\n",
              "      channel.send({})\n",
              "\n",
              "      for await (const message of channel.messages) {\n",
              "        // Send a message to notify the kernel that we're ready.\n",
              "        channel.send({})\n",
              "        if (message.buffers) {\n",
              "          for (const buffer of message.buffers) {\n",
              "            buffers.push(buffer);\n",
              "            downloaded += buffer.byteLength;\n",
              "            progress.value = downloaded;\n",
              "          }\n",
              "        }\n",
              "      }\n",
              "      const blob = new Blob(buffers, {type: 'application/binary'});\n",
              "      const a = document.createElement('a');\n",
              "      a.href = window.URL.createObjectURL(blob);\n",
              "      a.download = filename;\n",
              "      div.appendChild(a);\n",
              "      a.click();\n",
              "      div.remove();\n",
              "    }\n",
              "  "
            ],
            "text/plain": [
              "<IPython.core.display.Javascript object>"
            ]
          },
          "metadata": {}
        },
        {
          "output_type": "display_data",
          "data": {
            "application/javascript": [
              "download(\"download_d42a499d-4da2-4cfa-a320-bbffb3a50a53\", \"China.csv\", 53459340)"
            ],
            "text/plain": [
              "<IPython.core.display.Javascript object>"
            ]
          },
          "metadata": {}
        }
      ]
    },
    {
      "cell_type": "markdown",
      "source": [
        "## China and USA: all"
      ],
      "metadata": {
        "id": "1a63o_krn_fM"
      }
    },
    {
      "cell_type": "code",
      "source": [
        "country = \"China&USA\"\n",
        "\n",
        "ChinaUSA = China.append(USA, ignore_index=True)\n",
        "\n",
        "ChinaUSA.to_csv(country+\".csv\", index=False)\n",
        "files.download(country+\".csv\")"
      ],
      "metadata": {
        "id": "IpBlQiDPvPMq",
        "outputId": "99eb1697-e840-4c60-ec8f-2ba95203d68b",
        "colab": {
          "base_uri": "https://localhost:8080/",
          "height": 17
        }
      },
      "execution_count": 101,
      "outputs": [
        {
          "output_type": "display_data",
          "data": {
            "application/javascript": [
              "\n",
              "    async function download(id, filename, size) {\n",
              "      if (!google.colab.kernel.accessAllowed) {\n",
              "        return;\n",
              "      }\n",
              "      const div = document.createElement('div');\n",
              "      const label = document.createElement('label');\n",
              "      label.textContent = `Downloading \"${filename}\": `;\n",
              "      div.appendChild(label);\n",
              "      const progress = document.createElement('progress');\n",
              "      progress.max = size;\n",
              "      div.appendChild(progress);\n",
              "      document.body.appendChild(div);\n",
              "\n",
              "      const buffers = [];\n",
              "      let downloaded = 0;\n",
              "\n",
              "      const channel = await google.colab.kernel.comms.open(id);\n",
              "      // Send a message to notify the kernel that we're ready.\n",
              "      channel.send({})\n",
              "\n",
              "      for await (const message of channel.messages) {\n",
              "        // Send a message to notify the kernel that we're ready.\n",
              "        channel.send({})\n",
              "        if (message.buffers) {\n",
              "          for (const buffer of message.buffers) {\n",
              "            buffers.push(buffer);\n",
              "            downloaded += buffer.byteLength;\n",
              "            progress.value = downloaded;\n",
              "          }\n",
              "        }\n",
              "      }\n",
              "      const blob = new Blob(buffers, {type: 'application/binary'});\n",
              "      const a = document.createElement('a');\n",
              "      a.href = window.URL.createObjectURL(blob);\n",
              "      a.download = filename;\n",
              "      div.appendChild(a);\n",
              "      a.click();\n",
              "      div.remove();\n",
              "    }\n",
              "  "
            ],
            "text/plain": [
              "<IPython.core.display.Javascript object>"
            ]
          },
          "metadata": {}
        },
        {
          "output_type": "display_data",
          "data": {
            "application/javascript": [
              "download(\"download_658f1805-6004-46da-8deb-7ecf0243176c\", \"China&USA.csv\", 125899314)"
            ],
            "text/plain": [
              "<IPython.core.display.Javascript object>"
            ]
          },
          "metadata": {}
        }
      ]
    }
  ]
}