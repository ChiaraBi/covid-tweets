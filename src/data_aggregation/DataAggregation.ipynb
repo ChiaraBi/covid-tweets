{
  "nbformat": 4,
  "nbformat_minor": 0,
  "metadata": {
    "colab": {
      "name": "DataAggregation.ipynb",
      "provenance": []
    },
    "kernelspec": {
      "name": "python3",
      "display_name": "Python 3"
    },
    "language_info": {
      "name": "python"
    }
  },
  "cells": [
    {
      "cell_type": "code",
      "execution_count": 3,
      "metadata": {
        "colab": {
          "base_uri": "https://localhost:8080/"
        },
        "id": "gerdfCjND8sE",
        "outputId": "b77b2e73-a02b-4ede-9664-7e0f10fe1474"
      },
      "outputs": [
        {
          "output_type": "stream",
          "name": "stdout",
          "text": [
            "[nltk_data] Downloading package stopwords to /root/nltk_data...\n",
            "[nltk_data]   Unzipping corpora/stopwords.zip.\n"
          ]
        },
        {
          "output_type": "execute_result",
          "data": {
            "text/plain": [
              "True"
            ]
          },
          "metadata": {},
          "execution_count": 3
        }
      ],
      "source": [
        "import os\n",
        "import requests \n",
        "import time\n",
        "import string\n",
        "import networkx as nx\n",
        "import itertools\n",
        "import networkx as nx\n",
        "import pandas as pd\n",
        "import json\n",
        "import re\n",
        "import math\n",
        "import numpy as np\n",
        "import matplotlib.pyplot as plt\n",
        "from sklearn.feature_extraction.text import TfidfVectorizer\n",
        "import nltk\n",
        "from nltk.corpus import stopwords\n",
        "from google.colab import files\n",
        "\n",
        "nltk.download('stopwords')"
      ]
    },
    {
      "cell_type": "markdown",
      "source": [
        "OUTSIDE CHINA:\n",
        "  * AJEnglish\n",
        "  * AP\n",
        "  * BBCWorld\n",
        "  * CNN\n",
        "  * Reuters\n",
        "\n",
        "INSIDE CHINA:\n",
        "  * CGTNOfficial\n",
        "  * XHNews"
      ],
      "metadata": {
        "id": "pws2bYCUo7aF"
      }
    },
    {
      "cell_type": "markdown",
      "source": [
        "# Clean WHO/who: already done, don't run"
      ],
      "metadata": {
        "id": "G5oT2EhJhGkl"
      }
    },
    {
      "cell_type": "code",
      "source": [
        "def who_clean(df):\n",
        "\n",
        "  for index in range(len(df)):\n",
        "    text = df.loc[index,\"extended_tweet\"]\n",
        "    if type(text) == float:  # if the text is nan\n",
        "      df.drop(index = index, inplace=True)\n",
        "    elif text.find(\"WHO\") == -1:\n",
        "        df.drop(index = index, inplace=True)\n",
        "\n",
        "  return df"
      ],
      "metadata": {
        "id": "va7HOozThGEM"
      },
      "execution_count": null,
      "outputs": []
    },
    {
      "cell_type": "code",
      "source": [
        "label = \"AP_WHO_202103170000_202104170000\"\n",
        "path = '/content/'+label+'.csv'\n",
        "df = pd.read_csv(path)\n",
        "df = who_clean(df)\n",
        "\n",
        "df.to_csv(label+\".csv\", index=False)\n",
        "files.download(label+\".csv\")"
      ],
      "metadata": {
        "id": "RfeTelKwj4VI"
      },
      "execution_count": null,
      "outputs": []
    },
    {
      "cell_type": "markdown",
      "source": [
        "Add two columns for:\n",
        "* account source\n",
        "* period"
      ],
      "metadata": {
        "id": "nSy7_l9dsFkZ"
      }
    },
    {
      "cell_type": "markdown",
      "source": [
        "# JanFeb2020"
      ],
      "metadata": {
        "id": "hv9IJ7TBzAvA"
      }
    },
    {
      "cell_type": "code",
      "source": [
        "period = \"JanFeb2020\""
      ],
      "metadata": {
        "id": "ik-1zi60bUgP"
      },
      "execution_count": 68,
      "outputs": []
    },
    {
      "cell_type": "markdown",
      "source": [
        "## Accounts: JanFeb2020"
      ],
      "metadata": {
        "id": "vjdySAeWJJmb"
      }
    },
    {
      "cell_type": "code",
      "source": [
        "account = \"AJ\"\n",
        "\n",
        "AJ_202001_202002=pd.read_csv('/content/AJEnglish_china_202001220000_202002220000.csv')\n",
        "AJ_202001_202002 = AJ_202001_202002.append(pd.read_csv('/content/AJEnglish_coronavirus_202001220000_202002220000.csv'),\n",
        "                                           ignore_index=True)\n",
        "AJ_202001_202002 = AJ_202001_202002.append(pd.read_csv('/content/AJEnglish_covid_202001220000_202002220000.csv'),\n",
        "                                           ignore_index=True)\n",
        "AJ_202001_202002 = AJ_202001_202002.append(pd.read_csv('/content/AJEnglish_wuhan_202001220000_202002220000.csv'),\n",
        "                                           ignore_index=True)\n",
        "AJ_202001_202002['account'] = 'AJ'\n",
        "AJ_202001_202002['period'] = period\n",
        "\n",
        "label = account+\"_\"+period\n",
        "AJ_202001_202002.to_csv(label+\".csv\", index=False)\n",
        "#files.download(label+\".csv\")"
      ],
      "metadata": {
        "id": "X-anv-6PGf9L"
      },
      "execution_count": 69,
      "outputs": []
    },
    {
      "cell_type": "code",
      "source": [
        "account = \"AP\"\n",
        "\n",
        "AP_202001_202002=pd.read_csv('/content/AP_china_202001220000_202002220000.csv')\n",
        "AP_202001_202002 = AP_202001_202002.append(pd.read_csv('/content/AP_coronavirus_202001220000_202002220000.csv'),\n",
        "                                           ignore_index=True)\n",
        "AP_202001_202002 = AP_202001_202002.append(pd.read_csv('/content/AP_covid_202001220000_202002220000.csv'),\n",
        "                                           ignore_index=True)\n",
        "AP_202001_202002 = AP_202001_202002.append(pd.read_csv('/content/AP_wuhan_202001220000_202002220000.csv'),\n",
        "                                           ignore_index=True)\n",
        "AP_202001_202002['account'] = 'AP'\n",
        "AP_202001_202002['period'] = period\n",
        "\n",
        "label = account+\"_\"+period\n",
        "AP_202001_202002.to_csv(label+\".csv\", index=False)\n",
        "#files.download(label+\".csv\")"
      ],
      "metadata": {
        "id": "kHlzLUM1KnXr"
      },
      "execution_count": 70,
      "outputs": []
    },
    {
      "cell_type": "code",
      "source": [
        "account = \"BBC\"\n",
        "\n",
        "BBC_202001_202002=pd.read_csv('/content/BBCWorld_china_202001220000_202002220000.csv')\n",
        "BBC_202001_202002 = BBC_202001_202002.append(pd.read_csv('/content/BBCWorld_coronavirus_202001220000_202002220000.csv'),\n",
        "                                           ignore_index=True)\n",
        "BBC_202001_202002 = BBC_202001_202002.append(pd.read_csv('/content/BBCWorld_covid_202001220000_202002220000.csv'),\n",
        "                                           ignore_index=True)\n",
        "BBC_202001_202002 = BBC_202001_202002.append(pd.read_csv('/content/BBCWorld_wuhan_202001220000_202002220000.csv'),\n",
        "                                           ignore_index=True)\n",
        "BBC_202001_202002['account'] = 'BBC'\n",
        "BBC_202001_202002['period'] = period\n",
        "\n",
        "label = account+\"_\"+period\n",
        "BBC_202001_202002.to_csv(label+\".csv\", index=False)\n",
        "#files.download(label+\".csv\")"
      ],
      "metadata": {
        "id": "UmznPwfhONTt"
      },
      "execution_count": 71,
      "outputs": []
    },
    {
      "cell_type": "code",
      "source": [
        "account = \"CGTN\"\n",
        "\n",
        "CGTN_202001_202002=pd.read_csv('/content/CGTNOfficial_China_202001220000_202002220000.csv')\n",
        "CGTN_202001_202002 = CGTN_202001_202002.append(pd.read_csv('/content/CGTNOfficial_Coronavirus_202001220000_202002220000.csv'),\n",
        "                                           ignore_index=True)\n",
        "CGTN_202001_202002 = CGTN_202001_202002.append(pd.read_csv('/content/CGTNOfficial_covid_202001220000_202002220000.csv'),\n",
        "                                           ignore_index=True)\n",
        "CGTN_202001_202002 = CGTN_202001_202002.append(pd.read_csv('/content/CGTNOfficial_Wuhan_202001220000_202002220000.csv'),\n",
        "                                           ignore_index=True)\n",
        "CGTN_202001_202002['account'] = 'CGTN'\n",
        "CGTN_202001_202002['period'] = period\n",
        "\n",
        "label = account+\"_\"+period\n",
        "CGTN_202001_202002.to_csv(label+\".csv\", index=False)\n",
        "#files.download(label+\".csv\")"
      ],
      "metadata": {
        "id": "ohkhlswqQhhL"
      },
      "execution_count": 72,
      "outputs": []
    },
    {
      "cell_type": "code",
      "source": [
        "account = \"CNN\"\n",
        "\n",
        "CNN_202001_202002=pd.read_csv('/content/CNN_china_202001220000_202002220000.csv')\n",
        "CNN_202001_202002 = CNN_202001_202002.append(pd.read_csv('/content/CNN_coronavirus_202001220000_202002220000.csv'),\n",
        "                                           ignore_index=True)\n",
        "CNN_202001_202002 = CNN_202001_202002.append(pd.read_csv('/content/CNN_covid_202001220000_202002220000.csv'),\n",
        "                                           ignore_index=True)\n",
        "CNN_202001_202002 = CNN_202001_202002.append(pd.read_csv('/content/CNN_wuhan_202001220000_202002220000.csv'),\n",
        "                                           ignore_index=True)\n",
        "CNN_202001_202002['account'] = 'CNN'\n",
        "CNN_202001_202002['period'] = period\n",
        "\n",
        "label = account+\"_\"+period\n",
        "CNN_202001_202002.to_csv(label+\".csv\", index=False)\n",
        "#files.download(label+\".csv\")"
      ],
      "metadata": {
        "id": "JeXz5JRRSlZo"
      },
      "execution_count": 73,
      "outputs": []
    },
    {
      "cell_type": "code",
      "source": [
        "account = \"R\"\n",
        "\n",
        "R_202001_202002=pd.read_csv('/content/Reuters_china_202001220000_202002220000.csv')\n",
        "R_202001_202002 = R_202001_202002.append(pd.read_csv('/content/Reuters_coronavirus_202001220000_202002220000.csv'),\n",
        "                                           ignore_index=True)\n",
        "R_202001_202002 = R_202001_202002.append(pd.read_csv('/content/Reuters_covid_202001220000_202002220000.csv'),\n",
        "                                           ignore_index=True)\n",
        "R_202001_202002 = R_202001_202002.append(pd.read_csv('/content/Reuters_wuhan_202001220000_202002220000.csv'),\n",
        "                                           ignore_index=True)\n",
        "R_202001_202002['account'] = 'R'\n",
        "R_202001_202002['period'] = period\n",
        "\n",
        "label = account+\"_\"+period\n",
        "R_202001_202002.to_csv(label+\".csv\", index=False)\n",
        "#files.download(label+\".csv\")"
      ],
      "metadata": {
        "id": "sJn1iwX-VPXV"
      },
      "execution_count": 74,
      "outputs": []
    },
    {
      "cell_type": "code",
      "source": [
        "account = \"XHN\"\n",
        "\n",
        "XHN_202001_202002=pd.read_csv('/content/XHNews_China_202001220000_202002220000.csv')\n",
        "XHN_202001_202002 = XHN_202001_202002.append(pd.read_csv('/content/XHNews_Coronavirus_202001220000_202002220000.csv'),\n",
        "                                           ignore_index=True)\n",
        "XHN_202001_202002 = XHN_202001_202002.append(pd.read_csv('/content/XHNews_Covid_202001220000_202002220000.csv'),\n",
        "                                           ignore_index=True)\n",
        "XHN_202001_202002 = XHN_202001_202002.append(pd.read_csv('/content/XHNews_Wuhan_202001220000_202002220000.csv'),\n",
        "                                           ignore_index=True)\n",
        "XHN_202001_202002['account'] = 'XHN'\n",
        "XHN_202001_202002['period'] = period\n",
        "\n",
        "label = account+\"_\"+period\n",
        "XHN_202001_202002.to_csv(label+\".csv\", index=False)\n",
        "#files.download(label+\".csv\")"
      ],
      "metadata": {
        "id": "P7zJe5rhXd0y"
      },
      "execution_count": 75,
      "outputs": []
    },
    {
      "cell_type": "markdown",
      "source": [
        "## USA: JanFeb2020"
      ],
      "metadata": {
        "id": "-iimLMccnG3e"
      }
    },
    {
      "cell_type": "code",
      "source": [
        "country = \"USA\"\n",
        "\n",
        "USA_202001_202002 = AJ_202001_202002.append(AP_202001_202002, ignore_index=True)\n",
        "USA_202001_202002 = USA_202001_202002.append(BBC_202001_202002, ignore_index=True)\n",
        "USA_202001_202002 = USA_202001_202002.append(CNN_202001_202002, ignore_index=True)\n",
        "USA_202001_202002 = USA_202001_202002.append(R_202001_202002, ignore_index=True)\n",
        "\n",
        "label = country+\"_\"+period\n",
        "USA_202001_202002.to_csv(label+\".csv\", index=False)\n",
        "#files.download(label+\".csv\")\n",
        "print(len(USA_202001_202002))"
      ],
      "metadata": {
        "id": "YgpEJjmKqbGX",
        "outputId": "b1ba781e-4691-406a-8394-fcb163d1c484",
        "colab": {
          "base_uri": "https://localhost:8080/"
        }
      },
      "execution_count": 76,
      "outputs": [
        {
          "output_type": "stream",
          "name": "stdout",
          "text": [
            "7519\n"
          ]
        }
      ]
    },
    {
      "cell_type": "markdown",
      "source": [
        "## China: JanFeb2020"
      ],
      "metadata": {
        "id": "bgQC2SWSnank"
      }
    },
    {
      "cell_type": "code",
      "source": [
        "country = \"China\"\n",
        "\n",
        "China_202001_202002 = CGTN_202001_202002.append(XHN_202001_202002, ignore_index=True)\n",
        "\n",
        "label = country+\"_\"+period\n",
        "China_202001_202002.to_csv(label+\".csv\", index=False)\n",
        "#files.download(label+\".csv\")\n",
        "print(len(China_202001_202002))"
      ],
      "metadata": {
        "id": "W8F4bcamrruV",
        "outputId": "9b7c18c7-e47a-42dd-a795-d500ad6e37f1",
        "colab": {
          "base_uri": "https://localhost:8080/"
        }
      },
      "execution_count": 77,
      "outputs": [
        {
          "output_type": "stream",
          "name": "stdout",
          "text": [
            "4876\n"
          ]
        }
      ]
    },
    {
      "cell_type": "markdown",
      "source": [
        "## China and USA: JanFeb2020"
      ],
      "metadata": {
        "id": "e-zvrfPLnuor"
      }
    },
    {
      "cell_type": "code",
      "source": [
        "country = \"China&USA\"\n",
        "\n",
        "ChinaUSA_202001_202002 = China_202001_202002.append(USA_202001_202002, ignore_index=True)\n",
        "\n",
        "label = country+\"_\"+period\n",
        "ChinaUSA_202001_202002.to_csv(label+\".csv\", index=False)\n",
        "#files.download(label+\".csv\")\n",
        "print(len(ChinaUSA_202001_202002))"
      ],
      "metadata": {
        "colab": {
          "base_uri": "https://localhost:8080/"
        },
        "id": "l15mGiWiwlNk",
        "outputId": "81401a90-b527-41a8-d4a0-7a69a0161cd8"
      },
      "execution_count": 78,
      "outputs": [
        {
          "output_type": "stream",
          "name": "stdout",
          "text": [
            "12395\n"
          ]
        }
      ]
    },
    {
      "cell_type": "markdown",
      "source": [
        "# SeptOct2020"
      ],
      "metadata": {
        "id": "ljNDK7RWy6cN"
      }
    },
    {
      "cell_type": "code",
      "source": [
        "period = \"SeptOct2020\""
      ],
      "metadata": {
        "id": "gXObuezmdR6m"
      },
      "execution_count": 90,
      "outputs": []
    },
    {
      "cell_type": "markdown",
      "source": [
        "## Accounts: SeptOct2020"
      ],
      "metadata": {
        "id": "HQ1GF_RPJNNt"
      }
    },
    {
      "cell_type": "code",
      "source": [
        "account = \"AJ\"\n",
        "\n",
        "AJ_202009_202010=pd.read_csv('/content/AJEnglish_china_202009200000_202010210000.csv')\n",
        "AJ_202009_202010 = AJ_202009_202010.append(pd.read_csv('/content/AJEnglish_coronavirus_202009200000_202010210000.csv'),\n",
        "                                           ignore_index=True)\n",
        "AJ_202009_202010 = AJ_202009_202010.append(pd.read_csv('/content/AJEnglish_covid_202009200000_202010210000.csv'),\n",
        "                                           ignore_index=True)\n",
        "AJ_202009_202010 = AJ_202009_202010.append(pd.read_csv('/content/AJEnglish_vaccine_202009200000_202010210000.csv'),\n",
        "                                           ignore_index=True)\n",
        "AJ_202009_202010 = AJ_202009_202010.append(pd.read_csv('/content/AJEnglish_wuhan_202009200000_202010210000.csv'),\n",
        "                                           ignore_index=True)\n",
        "AJ_202009_202010['account'] = 'AJ'\n",
        "AJ_202009_202010['period'] = period\n",
        "\n",
        "label = account+\"_\"+period\n",
        "AJ_202009_202010.to_csv(label+\".csv\", index=False)\n",
        "#files.download(label+\".csv\")"
      ],
      "metadata": {
        "id": "C8hAaZDLHQsY"
      },
      "execution_count": 91,
      "outputs": []
    },
    {
      "cell_type": "code",
      "source": [
        "account = \"AP\"\n",
        "\n",
        "AP_202009_202010=pd.read_csv('/content/AP_china_202009200000_202010210000.csv')\n",
        "AP_202009_202010 = AP_202009_202010.append(pd.read_csv('/content/AP_coronavirus_202009200000_202010210000.csv'),\n",
        "                                           ignore_index=True)\n",
        "AP_202009_202010 = AP_202009_202010.append(pd.read_csv('/content/AP_covid_202009200000_202010210000.csv'),\n",
        "                                           ignore_index=True)\n",
        "AP_202009_202010 = AP_202009_202010.append(pd.read_csv('/content/AP_vaccine_202009200000_202010210000.csv'),\n",
        "                                           ignore_index=True)\n",
        "# EMPTY : Wuhan\n",
        "\n",
        "AP_202009_202010['account'] = 'AP'\n",
        "AP_202009_202010['period'] = period\n",
        "\n",
        "label = account+\"_\"+period\n",
        "AP_202009_202010.to_csv(label+\".csv\", index=False)\n",
        "#files.download(label+\".csv\")"
      ],
      "metadata": {
        "id": "c94jGtJkL8os"
      },
      "execution_count": 92,
      "outputs": []
    },
    {
      "cell_type": "code",
      "source": [
        "account = \"BBC\"\n",
        "\n",
        "BBC_202009_202010=pd.read_csv('/content/BBCWorld_china_202009200000_202010210000.csv')\n",
        "BBC_202009_202010 = BBC_202009_202010.append(pd.read_csv('/content/BBCWorld_coronavirus_202009200000_202010210000.csv'),\n",
        "                                           ignore_index=True)\n",
        "BBC_202009_202010 = BBC_202009_202010.append(pd.read_csv('/content/BBCWorld_covid_202009200000_202010210000.csv'),\n",
        "                                           ignore_index=True)\n",
        "BBC_202009_202010 = BBC_202009_202010.append(pd.read_csv('/content/BBCWorld_vaccine_202009200000_202010210000.csv'),\n",
        "                                           ignore_index=True)\n",
        "# EMPTY: Wuhan\n",
        "\n",
        "BBC_202009_202010['account'] = 'BBC'\n",
        "BBC_202009_202010['period'] = period\n",
        "\n",
        "label = account+\"_\"+period\n",
        "BBC_202009_202010.to_csv(label+\".csv\", index=False)\n",
        "#files.download(label+\".csv\")"
      ],
      "metadata": {
        "id": "S6IIhAMxO6ce"
      },
      "execution_count": 93,
      "outputs": []
    },
    {
      "cell_type": "code",
      "source": [
        "account = \"CGTN\"\n",
        "\n",
        "CGTN_202009_202010=pd.read_csv('/content/CGTNOfficial_china_202009200000_202010220000.csv')\n",
        "CGTN_202009_202010 = CGTN_202009_202010.append(pd.read_csv('/content/CGTNOfficial_covid_202009200000_202010220000.csv'),\n",
        "                                           ignore_index=True)\n",
        "CGTN_202009_202010 = CGTN_202009_202010.append(pd.read_csv('/content/CGTNOfficial_vaccine_202009200000_202010220000.csv'),\n",
        "                                           ignore_index=True)\n",
        "CGTN_202009_202010 = CGTN_202009_202010.append(pd.read_csv('/content/CGTNOfficial_coronavirus_202009200000_202010220000.csv'),\n",
        "                                           ignore_index=True)\n",
        "CGTN_202009_202010 = CGTN_202009_202010.append(pd.read_csv('/content/CGTNOfficial_wuhan_202009200000_202010220000.csv'),\n",
        "                                           ignore_index=True)\n",
        "CGTN_202009_202010['account'] = 'CGTN'\n",
        "CGTN_202009_202010['period'] = period\n",
        "\n",
        "label = account+\"_\"+period\n",
        "CGTN_202009_202010.to_csv(label+\".csv\", index=False)\n",
        "#files.download(label+\".csv\")"
      ],
      "metadata": {
        "id": "7u4dnXfeRDqc"
      },
      "execution_count": 94,
      "outputs": []
    },
    {
      "cell_type": "code",
      "source": [
        "account = \"CNN\"\n",
        "\n",
        "CNN_202009_202010=pd.read_csv('/content/CNN_china_202009200000_202010210000.csv')\n",
        "CNN_202009_202010 = CNN_202009_202010.append(pd.read_csv('/content/CNN_coronavirus_202009200000_202010210000.csv'),\n",
        "                                           ignore_index=True)\n",
        "CNN_202009_202010 = CNN_202009_202010.append(pd.read_csv('/content/CNN_covid_202009200000_202010210000.csv'),\n",
        "                                           ignore_index=True)\n",
        "CNN_202009_202010 = CNN_202009_202010.append(pd.read_csv('/content/CNN_vaccine_202009200000_202010210000.csv'),\n",
        "                                           ignore_index=True)\n",
        "CNN_202009_202010 = CNN_202009_202010.append(pd.read_csv('/content/CNN_wuhan_202009200000_202010210000.csv'),\n",
        "                                           ignore_index=True)\n",
        "\n",
        "CNN_202009_202010['account'] = 'CNN'\n",
        "CNN_202009_202010['period'] = period\n",
        "\n",
        "label = account+\"_\"+period\n",
        "CNN_202009_202010.to_csv(label+\".csv\", index=False)\n",
        "#files.download(label+\".csv\")"
      ],
      "metadata": {
        "id": "0nc6w-A1TKyF"
      },
      "execution_count": 95,
      "outputs": []
    },
    {
      "cell_type": "code",
      "source": [
        "account = \"R\"\n",
        "\n",
        "R_202009_202010=pd.read_csv('/content/Reuters_china_202009200000_202010210000.csv')\n",
        "R_202009_202010 = R_202009_202010.append(pd.read_csv('/content/Reuters_covid_202009200000_202010210000.csv'),\n",
        "                                           ignore_index=True)\n",
        "R_202009_202010 = R_202009_202010.append(pd.read_csv('/content/Reuters_vaccine_202009200000_202010210000.csv'),\n",
        "                                           ignore_index=True)\n",
        "R_202009_202010 = R_202009_202010.append(pd.read_csv('/content/Reuters_coronavirus_202009200000_202010220000.csv'),\n",
        "                                           ignore_index=True)\n",
        "R_202009_202010 = R_202009_202010.append(pd.read_csv('/content/Reuters_wuhan_202009200000_202010210000.csv'),\n",
        "                                           ignore_index=True)\n",
        "R_202009_202010['account'] = 'R'\n",
        "R_202009_202010['period'] = period\n",
        "\n",
        "label = account+\"_\"+period\n",
        "R_202009_202010.to_csv(label+\".csv\", index=False)\n",
        "#files.download(label+\".csv\")"
      ],
      "metadata": {
        "id": "EcaYUMCdVb9C"
      },
      "execution_count": 96,
      "outputs": []
    },
    {
      "cell_type": "code",
      "source": [
        "account = \"XHN\"\n",
        "\n",
        "XHN_202009_202010=pd.read_csv('/content/XHNews_china_202009200000_202010220000.csv')\n",
        "XHN_202009_202010 = XHN_202009_202010.append(pd.read_csv('/content/XHNews_covid_202009200000_202010220000.csv'),\n",
        "                                           ignore_index=True)\n",
        "XHN_202009_202010 = XHN_202009_202010.append(pd.read_csv('/content/XHNews_vaccine_202009200000_202010220000.csv'),\n",
        "                                           ignore_index=True)\n",
        "XHN_202009_202010 = XHN_202009_202010.append(pd.read_csv('/content/XHNews_coronavirus_202009200000_202010220000.csv'),\n",
        "                                           ignore_index=True)\n",
        "XHN_202009_202010 = XHN_202009_202010.append(pd.read_csv('/content/XHNews_wuhan_202009200000_202010210000.csv'),\n",
        "                                           ignore_index=True)\n",
        "\n",
        "XHN_202009_202010['account'] = 'XHN'\n",
        "XHN_202009_202010['period'] = period\n",
        "\n",
        "label = account+\"_\"+period\n",
        "XHN_202009_202010.to_csv(label+\".csv\", index=False)\n",
        "#files.download(label+\".csv\")"
      ],
      "metadata": {
        "id": "QGO_bK_JWU1c"
      },
      "execution_count": 97,
      "outputs": []
    },
    {
      "cell_type": "markdown",
      "source": [
        "## USA: SeptOct2020"
      ],
      "metadata": {
        "id": "uzkqS67-nS7X"
      }
    },
    {
      "cell_type": "code",
      "source": [
        "country = \"USA\"\n",
        "\n",
        "USA_202009_202010 = AJ_202009_202010.append(AP_202009_202010, ignore_index=True)\n",
        "USA_202009_202010 = USA_202009_202010.append(BBC_202009_202010, ignore_index=True)\n",
        "USA_202009_202010 = USA_202009_202010.append(CNN_202009_202010, ignore_index=True)\n",
        "USA_202009_202010 = USA_202009_202010.append(R_202009_202010, ignore_index=True)\n",
        "\n",
        "label = country+\"_\"+period\n",
        "USA_202009_202010.to_csv(label+\".csv\", index=False)\n",
        "#files.download(label+\".csv\")\n",
        "print(len(USA_202009_202010))"
      ],
      "metadata": {
        "id": "eCVqp3hNo3QJ",
        "outputId": "a8b8f99c-2b28-4279-bf37-8a996906f822",
        "colab": {
          "base_uri": "https://localhost:8080/"
        }
      },
      "execution_count": 98,
      "outputs": [
        {
          "output_type": "stream",
          "name": "stdout",
          "text": [
            "8389\n"
          ]
        }
      ]
    },
    {
      "cell_type": "markdown",
      "source": [
        "## China: SeptOct2020"
      ],
      "metadata": {
        "id": "5wr6YDqWnanl"
      }
    },
    {
      "cell_type": "code",
      "source": [
        "country = \"China\"\n",
        "\n",
        "China_202009_202010 = CGTN_202009_202010.append(XHN_202009_202010, ignore_index=True)\n",
        "\n",
        "label = country+\"_\"+period\n",
        "China_202009_202010.to_csv(label+\".csv\", index=False)\n",
        "#files.download(label+\".csv\")\n",
        "print(len(China_202009_202010))"
      ],
      "metadata": {
        "id": "GKaKGekVr4he",
        "outputId": "b9e6a0a7-ae7b-4864-8296-a41bd87d69cd",
        "colab": {
          "base_uri": "https://localhost:8080/"
        }
      },
      "execution_count": 99,
      "outputs": [
        {
          "output_type": "stream",
          "name": "stdout",
          "text": [
            "3098\n"
          ]
        }
      ]
    },
    {
      "cell_type": "markdown",
      "source": [
        "## China and USA: SeptOct2020"
      ],
      "metadata": {
        "id": "xPczNR5_xNZ-"
      }
    },
    {
      "cell_type": "code",
      "source": [
        "country = \"China&USA\"\n",
        "\n",
        "ChinaUSA_202009_202010 = China_202009_202010.append(USA_202009_202010, ignore_index=True)\n",
        "\n",
        "label = country+\"_\"+period\n",
        "ChinaUSA_202009_202010.to_csv(label+\".csv\", index=False)\n",
        "#files.download(label+\".csv\")\n",
        "print(len(ChinaUSA_202009_202010))"
      ],
      "metadata": {
        "outputId": "495f39de-d084-4ca4-c402-17fbc53ab0f6",
        "colab": {
          "base_uri": "https://localhost:8080/"
        },
        "id": "yEJogqY3xNaD"
      },
      "execution_count": 100,
      "outputs": [
        {
          "output_type": "stream",
          "name": "stdout",
          "text": [
            "11487\n"
          ]
        }
      ]
    },
    {
      "cell_type": "markdown",
      "source": [
        "# MarchApril2021"
      ],
      "metadata": {
        "id": "dHCTFC88ywMG"
      }
    },
    {
      "cell_type": "code",
      "source": [
        "period = \"MarchApril2021\""
      ],
      "metadata": {
        "id": "kg8vZLKId9U0"
      },
      "execution_count": 110,
      "outputs": []
    },
    {
      "cell_type": "markdown",
      "source": [
        "## Accounts: MarchApril2021"
      ],
      "metadata": {
        "id": "K0vJWtgLJSod"
      }
    },
    {
      "cell_type": "code",
      "source": [
        "account = \"AJ\"\n",
        "\n",
        "AJ_202103_202104=pd.read_csv('/content/AJEnglish_WHO_202103170000_202104170000.csv')\n",
        "AJ_202103_202104 = AJ_202103_202104.append(pd.read_csv('/content/AJEnglish_covid_202103170000_202104170000.csv'),\n",
        "                                           ignore_index=True)\n",
        "AJ_202103_202104 = AJ_202103_202104.append(pd.read_csv('/content/AJEnglish_vaccine_202103170000_202104170000.csv'),\n",
        "                                           ignore_index=True)\n",
        "AJ_202103_202104['account'] = 'AJ'\n",
        "AJ_202103_202104['period'] = period\n",
        "\n",
        "label = account+\"_\"+period\n",
        "AJ_202103_202104.to_csv(label+\".csv\", index=False)\n",
        "#files.download(label+\".csv\")"
      ],
      "metadata": {
        "id": "Xm-DZ9vdEiKh"
      },
      "execution_count": 111,
      "outputs": []
    },
    {
      "cell_type": "code",
      "source": [
        "account = \"AP\"\n",
        "\n",
        "AP_202103_202104=pd.read_csv('/content/AP_WHO_202103170000_202104170000.csv')\n",
        "AP_202103_202104 = AP_202103_202104.append(pd.read_csv('/content/AP_covid_202103170000_202104170000.csv'),\n",
        "                                           ignore_index=True)\n",
        "AP_202103_202104 = AP_202103_202104.append(pd.read_csv('/content/AP_vaccine_202103170000_202104170000.csv'),\n",
        "                                           ignore_index=True)\n",
        "AP_202103_202104['account'] = 'AP'\n",
        "AP_202103_202104['period'] = period\n",
        "\n",
        "label = account+\"_\"+period\n",
        "AP_202103_202104.to_csv(label+\".csv\", index=False)\n",
        "#files.download(label+\".csv\")"
      ],
      "metadata": {
        "id": "XuzvZjU9N0NC"
      },
      "execution_count": 112,
      "outputs": []
    },
    {
      "cell_type": "code",
      "source": [
        "account = \"BBC\"\n",
        "\n",
        "BBC_202103_202104=pd.read_csv('/content/BBCWorld_WHO_202103170000_202104170000.csv')\n",
        "BBC_202103_202104 = BBC_202103_202104.append(pd.read_csv('/content/BBCWorld_covid_202103170000_202104170000.csv'),\n",
        "                                           ignore_index=True)\n",
        "BBC_202103_202104 = BBC_202103_202104.append(pd.read_csv('/content/BBCWorld_vaccine_202103170000_202104170000.csv'),\n",
        "                                           ignore_index=True)\n",
        "BBC_202103_202104['account'] = 'BBC'\n",
        "BBC_202103_202104['period'] = period\n",
        "\n",
        "label = account+\"_\"+period\n",
        "BBC_202103_202104.to_csv(label+\".csv\", index=False)\n",
        "#files.download(label+\".csv\")"
      ],
      "metadata": {
        "id": "224895S8P9V0"
      },
      "execution_count": 113,
      "outputs": []
    },
    {
      "cell_type": "code",
      "source": [
        "account = \"CGTN\"\n",
        "\n",
        "CGTN_202103_202104=pd.read_csv('/content/CGTNOfficial_WHO_202103170000_202104170000.csv')\n",
        "CGTN_202103_202104 = CGTN_202103_202104.append(pd.read_csv('/content/CGTNOfficial_covid_202103170000_202104170000.csv'),\n",
        "                                           ignore_index=True)\n",
        "CGTN_202103_202104 = CGTN_202103_202104.append(pd.read_csv('/content/CGTNOfficial_vaccine_202103170000_202104170000.csv'),\n",
        "                                           ignore_index=True)\n",
        "CGTN_202103_202104['account'] = 'CGTN'\n",
        "CGTN_202103_202104['period'] = period\n",
        "\n",
        "label = account+\"_\"+period\n",
        "CGTN_202103_202104.to_csv(label+\".csv\", index=False)\n",
        "#files.download(label+\".csv\")"
      ],
      "metadata": {
        "id": "SzRd5U8AR92G"
      },
      "execution_count": 114,
      "outputs": []
    },
    {
      "cell_type": "code",
      "source": [
        "account = \"CNN\"\n",
        "\n",
        "CNN_202103_202104=pd.read_csv('/content/CNN_WHO_202103170000_202104170000.csv')\n",
        "CNN_202103_202104 = CNN_202103_202104.append(pd.read_csv('/content/CNN_covid_202103170000_202104170000.csv'),\n",
        "                                           ignore_index=True)\n",
        "CNN_202103_202104 = CNN_202103_202104.append(pd.read_csv('/content/CNN_vaccine_202103170000_202104170000.csv'),\n",
        "                                           ignore_index=True)\n",
        "CNN_202103_202104['account'] = 'CNN'\n",
        "CNN_202103_202104['period'] = period\n",
        "\n",
        "label = account+\"_\"+period\n",
        "CNN_202103_202104.to_csv(label+\".csv\", index=False)\n",
        "#files.download(label+\".csv\")"
      ],
      "metadata": {
        "id": "v7iorBisUr7_"
      },
      "execution_count": 115,
      "outputs": []
    },
    {
      "cell_type": "code",
      "source": [
        "account = \"R\"\n",
        "\n",
        "R_202103_202104=pd.read_csv('/content/Reuters_WHO_202103170000_202104170000.csv')\n",
        "R_202103_202104 = R_202103_202104.append(pd.read_csv('/content/Reuters_covid_202103170000_202104170000.csv'),\n",
        "                                           ignore_index=True)\n",
        "R_202103_202104 = R_202103_202104.append(pd.read_csv('/content/Reuters_vaccine_202103170000_202104170000.csv'),\n",
        "                                           ignore_index=True)\n",
        "R_202103_202104['account'] = 'R'\n",
        "R_202103_202104['period'] = period\n",
        "\n",
        "label = account+\"_\"+period\n",
        "R_202103_202104.to_csv(label+\".csv\", index=False)\n",
        "#files.download(label+\".csv\")"
      ],
      "metadata": {
        "id": "DFcDFMoOV3NM"
      },
      "execution_count": 116,
      "outputs": []
    },
    {
      "cell_type": "code",
      "source": [
        "account = \"XHN\"\n",
        "\n",
        "XHN_202103_202104=pd.read_csv('/content/XHNews_WHO_202103170000_202104170000.csv')\n",
        "XHN_202103_202104 = XHN_202103_202104.append(pd.read_csv('/content/XHNews_covid_202103170000_202104170000.csv'),\n",
        "                                           ignore_index=True)\n",
        "XHN_202103_202104 = XHN_202103_202104.append(pd.read_csv('/content/XHNews_vaccine_202103170000_202104170000.csv'),\n",
        "                                           ignore_index=True)\n",
        "XHN_202103_202104['account'] = 'XHN'\n",
        "XHN_202103_202104['period'] = period\n",
        "\n",
        "label = account+\"_\"+period\n",
        "XHN_202103_202104.to_csv(label+\".csv\", index=False)\n",
        "#files.download(label+\".csv\")"
      ],
      "metadata": {
        "id": "v_DdKq4_V_-T"
      },
      "execution_count": 117,
      "outputs": []
    },
    {
      "cell_type": "markdown",
      "source": [
        "## USA: MarchApril2021"
      ],
      "metadata": {
        "id": "mDcKUEWBnTB6"
      }
    },
    {
      "cell_type": "code",
      "source": [
        "country = \"USA\"\n",
        "\n",
        "USA_202103_202104 = AJ_202103_202104.append(AP_202103_202104, ignore_index=True)\n",
        "USA_202103_202104 = USA_202103_202104.append(BBC_202103_202104, ignore_index=True)\n",
        "USA_202103_202104 = USA_202103_202104.append(CNN_202103_202104, ignore_index=True)\n",
        "USA_202103_202104 = USA_202103_202104.append(R_202103_202104, ignore_index=True)\n",
        "\n",
        "label = country+\"_\"+period\n",
        "USA_202103_202104.to_csv(label+\".csv\", index=False)\n",
        "#files.download(label+\".csv\")\n",
        "print(len(USA_202103_202104))"
      ],
      "metadata": {
        "id": "xwuG0Iu5q5-7",
        "outputId": "d045ebc4-0063-4a4b-f6bd-6c0b3869619e",
        "colab": {
          "base_uri": "https://localhost:8080/"
        }
      },
      "execution_count": 118,
      "outputs": [
        {
          "output_type": "stream",
          "name": "stdout",
          "text": [
            "3957\n"
          ]
        }
      ]
    },
    {
      "cell_type": "markdown",
      "source": [
        "## China: MarchApril2021"
      ],
      "metadata": {
        "id": "J5kO0klTnanl"
      }
    },
    {
      "cell_type": "code",
      "source": [
        "country = \"China\"\n",
        "\n",
        "China_202103_202104 = CGTN_202103_202104.append(XHN_202103_202104, ignore_index=True)\n",
        "\n",
        "label = country+\"_\"+period\n",
        "China_202103_202104.to_csv(label+\".csv\", index=False)\n",
        "#files.download(label+\".csv\")\n",
        "print(len(China_202103_202104))"
      ],
      "metadata": {
        "id": "ZTqXKLE9r-ww",
        "outputId": "a7f222ea-8f5d-4442-d1cc-24f9f0302120",
        "colab": {
          "base_uri": "https://localhost:8080/"
        }
      },
      "execution_count": 119,
      "outputs": [
        {
          "output_type": "stream",
          "name": "stdout",
          "text": [
            "1376\n"
          ]
        }
      ]
    },
    {
      "cell_type": "markdown",
      "source": [
        "## China and USA: MarchApril2021"
      ],
      "metadata": {
        "id": "j2OLKek9xo_z"
      }
    },
    {
      "cell_type": "code",
      "source": [
        "country = \"China&USA\"\n",
        "\n",
        "ChinaUSA_202103_202104 = China_202103_202104.append(USA_202103_202104, ignore_index=True)\n",
        "\n",
        "label = country+\"_\"+period\n",
        "ChinaUSA_202103_202104.to_csv(label+\".csv\", index=False)\n",
        "#files.download(label+\".csv\")\n",
        "print(len(ChinaUSA_202103_202104))"
      ],
      "metadata": {
        "outputId": "c7e47225-a31c-4a82-a193-ea311177c9b3",
        "colab": {
          "base_uri": "https://localhost:8080/"
        },
        "id": "glSPsYcwxo_0"
      },
      "execution_count": 120,
      "outputs": [
        {
          "output_type": "stream",
          "name": "stdout",
          "text": [
            "5333\n"
          ]
        }
      ]
    },
    {
      "cell_type": "markdown",
      "source": [
        "# All"
      ],
      "metadata": {
        "id": "oC1mZhSQy0dO"
      }
    },
    {
      "cell_type": "markdown",
      "source": [
        "## USA: all"
      ],
      "metadata": {
        "id": "1ryXnRxknhQj"
      }
    },
    {
      "cell_type": "code",
      "source": [
        "country = \"USA\"\n",
        "\n",
        "USA = USA_202001_202002.append(USA_202009_202010, ignore_index=True)\n",
        "USA = USA.append(USA_202103_202104, ignore_index=True)\n",
        "\n",
        "USA.to_csv(country+\".csv\", index=False)\n",
        "#files.download(country+\".csv\")\n",
        "print(len(USA))"
      ],
      "metadata": {
        "id": "0Xs2OQGasZIz",
        "outputId": "ef776f4b-6b32-4198-c394-2ae4b675dbec",
        "colab": {
          "base_uri": "https://localhost:8080/"
        }
      },
      "execution_count": 121,
      "outputs": [
        {
          "output_type": "stream",
          "name": "stdout",
          "text": [
            "19865\n"
          ]
        }
      ]
    },
    {
      "cell_type": "markdown",
      "source": [
        "## China: all"
      ],
      "metadata": {
        "id": "VMKLUrc4nkbv"
      }
    },
    {
      "cell_type": "code",
      "source": [
        "country = \"China\"\n",
        "\n",
        "China = China_202001_202002.append(China_202009_202010, ignore_index=True)\n",
        "China = China.append(China_202103_202104, ignore_index=True)\n",
        "\n",
        "China.to_csv(country+\".csv\", index=False)\n",
        "#files.download(country+\".csv\")\n",
        "print(len(China))"
      ],
      "metadata": {
        "id": "hS7oyQkrvBOI",
        "outputId": "a58e722a-bb18-4e86-cf9f-25604cac4a4b",
        "colab": {
          "base_uri": "https://localhost:8080/"
        }
      },
      "execution_count": 123,
      "outputs": [
        {
          "output_type": "stream",
          "name": "stdout",
          "text": [
            "9350\n"
          ]
        }
      ]
    },
    {
      "cell_type": "markdown",
      "source": [
        "## China and USA: all"
      ],
      "metadata": {
        "id": "1a63o_krn_fM"
      }
    },
    {
      "cell_type": "code",
      "source": [
        "country = \"China&USA\"\n",
        "\n",
        "ChinaUSA = China.append(USA, ignore_index=True)\n",
        "\n",
        "ChinaUSA.to_csv(country+\".csv\", index=False)\n",
        "#files.download(country+\".csv\")\n",
        "print(len(ChinaUSA))"
      ],
      "metadata": {
        "id": "IpBlQiDPvPMq",
        "outputId": "136fee4c-6c80-4706-d213-630ec5d5427d",
        "colab": {
          "base_uri": "https://localhost:8080/"
        }
      },
      "execution_count": 125,
      "outputs": [
        {
          "output_type": "stream",
          "name": "stdout",
          "text": [
            "29215\n"
          ]
        }
      ]
    }
  ]
}