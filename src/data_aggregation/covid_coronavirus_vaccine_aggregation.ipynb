{
  "nbformat": 4,
  "nbformat_minor": 0,
  "metadata": {
    "colab": {
      "name": "partial_aggregation.ipynb",
      "provenance": [],
      "toc_visible": true
    },
    "kernelspec": {
      "name": "python3",
      "display_name": "Python 3"
    },
    "language_info": {
      "name": "python"
    }
  },
  "cells": [
    {
      "cell_type": "code",
      "execution_count": 1,
      "metadata": {
        "colab": {
          "base_uri": "https://localhost:8080/"
        },
        "id": "gerdfCjND8sE",
        "outputId": "d366f010-6ae7-42be-9912-b0bae7fe478e"
      },
      "outputs": [
        {
          "output_type": "stream",
          "name": "stdout",
          "text": [
            "[nltk_data] Downloading package stopwords to /root/nltk_data...\n",
            "[nltk_data]   Unzipping corpora/stopwords.zip.\n"
          ]
        },
        {
          "output_type": "execute_result",
          "data": {
            "text/plain": [
              "True"
            ]
          },
          "metadata": {},
          "execution_count": 1
        }
      ],
      "source": [
        "import os\n",
        "import requests \n",
        "import time\n",
        "import string\n",
        "import networkx as nx\n",
        "import itertools\n",
        "import networkx as nx\n",
        "import pandas as pd\n",
        "import json\n",
        "import re\n",
        "import math\n",
        "import numpy as np\n",
        "import matplotlib.pyplot as plt\n",
        "from sklearn.feature_extraction.text import TfidfVectorizer\n",
        "import nltk\n",
        "from nltk.corpus import stopwords\n",
        "from google.colab import files\n",
        "\n",
        "nltk.download('stopwords')"
      ]
    },
    {
      "cell_type": "markdown",
      "source": [
        "OUTSIDE CHINA:\n",
        "  * AJEnglish\n",
        "  * AP\n",
        "  * BBCWorld\n",
        "  * CNN\n",
        "  * Reuters\n",
        "\n",
        "INSIDE CHINA:\n",
        "  * CGTNOfficial\n",
        "  * XHNews"
      ],
      "metadata": {
        "id": "pws2bYCUo7aF"
      }
    },
    {
      "cell_type": "markdown",
      "source": [
        "Add two columns for:\n",
        "* account source\n",
        "* period"
      ],
      "metadata": {
        "id": "nSy7_l9dsFkZ"
      }
    },
    {
      "cell_type": "markdown",
      "source": [
        "# Partial data aggregation\n",
        "For this partial data aggregation, only the following keywords have been considered: `coronavirus`, `covid`, `vaccine`."
      ],
      "metadata": {
        "id": "AAIuNfGrhFKx"
      }
    },
    {
      "cell_type": "markdown",
      "source": [
        "# JanFeb2020"
      ],
      "metadata": {
        "id": "hv9IJ7TBzAvA"
      }
    },
    {
      "cell_type": "code",
      "source": [
        "period = \"JanFeb2020\""
      ],
      "metadata": {
        "id": "ik-1zi60bUgP"
      },
      "execution_count": 54,
      "outputs": []
    },
    {
      "cell_type": "markdown",
      "source": [
        "## Accounts: JanFeb2020"
      ],
      "metadata": {
        "id": "vjdySAeWJJmb"
      }
    },
    {
      "cell_type": "code",
      "source": [
        "account = \"AJ\"\n",
        "\n",
        "AJ_202001_202002 = pd.read_csv('/content/AJEnglish_coronavirus_202001220000_202002220000.csv')\n",
        "AJ_202001_202002 = AJ_202001_202002.append(pd.read_csv('/content/AJEnglish_covid_202001220000_202002220000.csv'),\n",
        "                                           ignore_index=True)\n",
        "AJ_202001_202002['account'] = 'AJ'\n",
        "AJ_202001_202002['period'] = period\n",
        "\n",
        "label = account+\"_\"+period\n",
        "AJ_202001_202002.to_csv(label+\".csv\", index=False)\n",
        "# files.download(label+\".csv\")"
      ],
      "metadata": {
        "id": "X-anv-6PGf9L"
      },
      "execution_count": null,
      "outputs": []
    },
    {
      "cell_type": "code",
      "source": [
        "account = \"AP\"\n",
        "\n",
        "AP_202001_202002 = pd.read_csv('/content/AP_coronavirus_202001220000_202002220000.csv')\n",
        "AP_202001_202002 = AP_202001_202002.append(pd.read_csv('/content/AP_covid_202001220000_202002220000.csv'),\n",
        "                                           ignore_index=True)\n",
        "AP_202001_202002['account'] = 'AP'\n",
        "AP_202001_202002['period'] = period\n",
        "\n",
        "label = account+\"_\"+period\n",
        "AP_202001_202002.to_csv(label+\".csv\", index=False)\n",
        "# files.download(label+\".csv\")"
      ],
      "metadata": {
        "id": "kHlzLUM1KnXr",
        "colab": {
          "base_uri": "https://localhost:8080/",
          "height": 17
        },
        "outputId": "1fe771c5-4031-480e-9bc1-4832d84baf5a"
      },
      "execution_count": 30,
      "outputs": [
        {
          "output_type": "display_data",
          "data": {
            "application/javascript": [
              "\n",
              "    async function download(id, filename, size) {\n",
              "      if (!google.colab.kernel.accessAllowed) {\n",
              "        return;\n",
              "      }\n",
              "      const div = document.createElement('div');\n",
              "      const label = document.createElement('label');\n",
              "      label.textContent = `Downloading \"${filename}\": `;\n",
              "      div.appendChild(label);\n",
              "      const progress = document.createElement('progress');\n",
              "      progress.max = size;\n",
              "      div.appendChild(progress);\n",
              "      document.body.appendChild(div);\n",
              "\n",
              "      const buffers = [];\n",
              "      let downloaded = 0;\n",
              "\n",
              "      const channel = await google.colab.kernel.comms.open(id);\n",
              "      // Send a message to notify the kernel that we're ready.\n",
              "      channel.send({})\n",
              "\n",
              "      for await (const message of channel.messages) {\n",
              "        // Send a message to notify the kernel that we're ready.\n",
              "        channel.send({})\n",
              "        if (message.buffers) {\n",
              "          for (const buffer of message.buffers) {\n",
              "            buffers.push(buffer);\n",
              "            downloaded += buffer.byteLength;\n",
              "            progress.value = downloaded;\n",
              "          }\n",
              "        }\n",
              "      }\n",
              "      const blob = new Blob(buffers, {type: 'application/binary'});\n",
              "      const a = document.createElement('a');\n",
              "      a.href = window.URL.createObjectURL(blob);\n",
              "      a.download = filename;\n",
              "      div.appendChild(a);\n",
              "      a.click();\n",
              "      div.remove();\n",
              "    }\n",
              "  "
            ],
            "text/plain": [
              "<IPython.core.display.Javascript object>"
            ]
          },
          "metadata": {}
        },
        {
          "output_type": "display_data",
          "data": {
            "application/javascript": [
              "download(\"download_24869749-ff0a-4efc-bf93-e1efeaeb59b5\", \"AP_JanFeb2020.csv\", 80756)"
            ],
            "text/plain": [
              "<IPython.core.display.Javascript object>"
            ]
          },
          "metadata": {}
        }
      ]
    },
    {
      "cell_type": "code",
      "source": [
        "account = \"BBC\"\n",
        "\n",
        "BBC_202001_202002 = pd.read_csv('/content/BBCWorld_coronavirus_202001220000_202002220000.csv')\n",
        "BBC_202001_202002 = BBC_202001_202002.append(pd.read_csv('/content/BBCWorld_covid_202001220000_202002220000.csv'),\n",
        "                                           ignore_index=True)\n",
        "\n",
        "BBC_202001_202002['account'] = 'BBC'\n",
        "BBC_202001_202002['period'] = period\n",
        "\n",
        "label = account+\"_\"+period\n",
        "BBC_202001_202002.to_csv(label+\".csv\", index=False)\n",
        "# files.download(label+\".csv\")"
      ],
      "metadata": {
        "id": "UmznPwfhONTt",
        "colab": {
          "base_uri": "https://localhost:8080/",
          "height": 17
        },
        "outputId": "5edeafea-c7f5-4754-e8be-59c2f536aeaf"
      },
      "execution_count": 22,
      "outputs": [
        {
          "output_type": "display_data",
          "data": {
            "application/javascript": [
              "\n",
              "    async function download(id, filename, size) {\n",
              "      if (!google.colab.kernel.accessAllowed) {\n",
              "        return;\n",
              "      }\n",
              "      const div = document.createElement('div');\n",
              "      const label = document.createElement('label');\n",
              "      label.textContent = `Downloading \"${filename}\": `;\n",
              "      div.appendChild(label);\n",
              "      const progress = document.createElement('progress');\n",
              "      progress.max = size;\n",
              "      div.appendChild(progress);\n",
              "      document.body.appendChild(div);\n",
              "\n",
              "      const buffers = [];\n",
              "      let downloaded = 0;\n",
              "\n",
              "      const channel = await google.colab.kernel.comms.open(id);\n",
              "      // Send a message to notify the kernel that we're ready.\n",
              "      channel.send({})\n",
              "\n",
              "      for await (const message of channel.messages) {\n",
              "        // Send a message to notify the kernel that we're ready.\n",
              "        channel.send({})\n",
              "        if (message.buffers) {\n",
              "          for (const buffer of message.buffers) {\n",
              "            buffers.push(buffer);\n",
              "            downloaded += buffer.byteLength;\n",
              "            progress.value = downloaded;\n",
              "          }\n",
              "        }\n",
              "      }\n",
              "      const blob = new Blob(buffers, {type: 'application/binary'});\n",
              "      const a = document.createElement('a');\n",
              "      a.href = window.URL.createObjectURL(blob);\n",
              "      a.download = filename;\n",
              "      div.appendChild(a);\n",
              "      a.click();\n",
              "      div.remove();\n",
              "    }\n",
              "  "
            ],
            "text/plain": [
              "<IPython.core.display.Javascript object>"
            ]
          },
          "metadata": {}
        },
        {
          "output_type": "display_data",
          "data": {
            "application/javascript": [
              "download(\"download_9ba38591-f486-4841-8621-b7456e2c7c0e\", \"BBC_JanFeb2020.csv\", 556506)"
            ],
            "text/plain": [
              "<IPython.core.display.Javascript object>"
            ]
          },
          "metadata": {}
        }
      ]
    },
    {
      "cell_type": "code",
      "source": [
        "account = \"CGTN\"\n",
        "\n",
        "CGTN_202001_202002 = pd.read_csv('/content/CGTNOfficial_coronavirus_202001220000_202002220000.csv')\n",
        "CGTN_202001_202002 = CGTN_202001_202002.append(pd.read_csv('/content/CGTNOfficial_covid_202001220000_202002220000.csv'),\n",
        "                                           ignore_index=True)\n",
        "\n",
        "CGTN_202001_202002['account'] = 'CGTN'\n",
        "CGTN_202001_202002['period'] = period\n",
        "\n",
        "label = account+\"_\"+period\n",
        "CGTN_202001_202002.to_csv(label+\".csv\", index=False)\n",
        "# files.download(label+\".csv\")"
      ],
      "metadata": {
        "id": "ohkhlswqQhhL",
        "colab": {
          "base_uri": "https://localhost:8080/",
          "height": 17
        },
        "outputId": "e833d111-72af-4f97-a757-795291c85a58"
      },
      "execution_count": 25,
      "outputs": [
        {
          "output_type": "display_data",
          "data": {
            "application/javascript": [
              "\n",
              "    async function download(id, filename, size) {\n",
              "      if (!google.colab.kernel.accessAllowed) {\n",
              "        return;\n",
              "      }\n",
              "      const div = document.createElement('div');\n",
              "      const label = document.createElement('label');\n",
              "      label.textContent = `Downloading \"${filename}\": `;\n",
              "      div.appendChild(label);\n",
              "      const progress = document.createElement('progress');\n",
              "      progress.max = size;\n",
              "      div.appendChild(progress);\n",
              "      document.body.appendChild(div);\n",
              "\n",
              "      const buffers = [];\n",
              "      let downloaded = 0;\n",
              "\n",
              "      const channel = await google.colab.kernel.comms.open(id);\n",
              "      // Send a message to notify the kernel that we're ready.\n",
              "      channel.send({})\n",
              "\n",
              "      for await (const message of channel.messages) {\n",
              "        // Send a message to notify the kernel that we're ready.\n",
              "        channel.send({})\n",
              "        if (message.buffers) {\n",
              "          for (const buffer of message.buffers) {\n",
              "            buffers.push(buffer);\n",
              "            downloaded += buffer.byteLength;\n",
              "            progress.value = downloaded;\n",
              "          }\n",
              "        }\n",
              "      }\n",
              "      const blob = new Blob(buffers, {type: 'application/binary'});\n",
              "      const a = document.createElement('a');\n",
              "      a.href = window.URL.createObjectURL(blob);\n",
              "      a.download = filename;\n",
              "      div.appendChild(a);\n",
              "      a.click();\n",
              "      div.remove();\n",
              "    }\n",
              "  "
            ],
            "text/plain": [
              "<IPython.core.display.Javascript object>"
            ]
          },
          "metadata": {}
        },
        {
          "output_type": "display_data",
          "data": {
            "application/javascript": [
              "download(\"download_a139163d-73db-4343-bdfa-5ca2dfea00c3\", \"CGTN_JanFeb2020.csv\", 5652271)"
            ],
            "text/plain": [
              "<IPython.core.display.Javascript object>"
            ]
          },
          "metadata": {}
        }
      ]
    },
    {
      "cell_type": "code",
      "source": [
        "account = \"CNN\"\n",
        "\n",
        "CNN_202001_202002 = pd.read_csv('/content/CNN_coronavirus_202001220000_202002220000.csv')\n",
        "CNN_202001_202002 = CNN_202001_202002.append(pd.read_csv('/content/CNN_covid_202001220000_202002220000.csv'),\n",
        "                                           ignore_index=True)\n",
        "\n",
        "CNN_202001_202002['account'] = 'CNN'\n",
        "CNN_202001_202002['period'] = period\n",
        "\n",
        "label = account+\"_\"+period\n",
        "CNN_202001_202002.to_csv(label+\".csv\", index=False)\n",
        "# files.download(label+\".csv\")"
      ],
      "metadata": {
        "id": "JeXz5JRRSlZo",
        "colab": {
          "base_uri": "https://localhost:8080/",
          "height": 17
        },
        "outputId": "b5e1724d-570b-4ec6-cc64-66117a4db6da"
      },
      "execution_count": 26,
      "outputs": [
        {
          "output_type": "display_data",
          "data": {
            "application/javascript": [
              "\n",
              "    async function download(id, filename, size) {\n",
              "      if (!google.colab.kernel.accessAllowed) {\n",
              "        return;\n",
              "      }\n",
              "      const div = document.createElement('div');\n",
              "      const label = document.createElement('label');\n",
              "      label.textContent = `Downloading \"${filename}\": `;\n",
              "      div.appendChild(label);\n",
              "      const progress = document.createElement('progress');\n",
              "      progress.max = size;\n",
              "      div.appendChild(progress);\n",
              "      document.body.appendChild(div);\n",
              "\n",
              "      const buffers = [];\n",
              "      let downloaded = 0;\n",
              "\n",
              "      const channel = await google.colab.kernel.comms.open(id);\n",
              "      // Send a message to notify the kernel that we're ready.\n",
              "      channel.send({})\n",
              "\n",
              "      for await (const message of channel.messages) {\n",
              "        // Send a message to notify the kernel that we're ready.\n",
              "        channel.send({})\n",
              "        if (message.buffers) {\n",
              "          for (const buffer of message.buffers) {\n",
              "            buffers.push(buffer);\n",
              "            downloaded += buffer.byteLength;\n",
              "            progress.value = downloaded;\n",
              "          }\n",
              "        }\n",
              "      }\n",
              "      const blob = new Blob(buffers, {type: 'application/binary'});\n",
              "      const a = document.createElement('a');\n",
              "      a.href = window.URL.createObjectURL(blob);\n",
              "      a.download = filename;\n",
              "      div.appendChild(a);\n",
              "      a.click();\n",
              "      div.remove();\n",
              "    }\n",
              "  "
            ],
            "text/plain": [
              "<IPython.core.display.Javascript object>"
            ]
          },
          "metadata": {}
        },
        {
          "output_type": "display_data",
          "data": {
            "application/javascript": [
              "download(\"download_f13f08a8-40e5-4e21-94d0-6317a5b2e8f8\", \"CNN_JanFeb2020.csv\", 2552471)"
            ],
            "text/plain": [
              "<IPython.core.display.Javascript object>"
            ]
          },
          "metadata": {}
        }
      ]
    },
    {
      "cell_type": "code",
      "source": [
        "account = \"R\"\n",
        "\n",
        "R_202001_202002 = pd.read_csv('/content/Reuters_coronavirus_202001220000_202002220000.csv')\n",
        "R_202001_202002 = R_202001_202002.append(pd.read_csv('/content/Reuters_covid_202001220000_202002220000.csv'),\n",
        "                                           ignore_index=True)\n",
        "R_202001_202002['account'] = 'R'\n",
        "R_202001_202002['period'] = period\n",
        "\n",
        "label = account+\"_\"+period\n",
        "R_202001_202002.to_csv(label+\".csv\", index=False)\n",
        "# files.download(label+\".csv\")"
      ],
      "metadata": {
        "id": "sJn1iwX-VPXV",
        "colab": {
          "base_uri": "https://localhost:8080/",
          "height": 17
        },
        "outputId": "4b7331fb-2467-4115-8be4-1c6708a08bf0"
      },
      "execution_count": 27,
      "outputs": [
        {
          "output_type": "display_data",
          "data": {
            "application/javascript": [
              "\n",
              "    async function download(id, filename, size) {\n",
              "      if (!google.colab.kernel.accessAllowed) {\n",
              "        return;\n",
              "      }\n",
              "      const div = document.createElement('div');\n",
              "      const label = document.createElement('label');\n",
              "      label.textContent = `Downloading \"${filename}\": `;\n",
              "      div.appendChild(label);\n",
              "      const progress = document.createElement('progress');\n",
              "      progress.max = size;\n",
              "      div.appendChild(progress);\n",
              "      document.body.appendChild(div);\n",
              "\n",
              "      const buffers = [];\n",
              "      let downloaded = 0;\n",
              "\n",
              "      const channel = await google.colab.kernel.comms.open(id);\n",
              "      // Send a message to notify the kernel that we're ready.\n",
              "      channel.send({})\n",
              "\n",
              "      for await (const message of channel.messages) {\n",
              "        // Send a message to notify the kernel that we're ready.\n",
              "        channel.send({})\n",
              "        if (message.buffers) {\n",
              "          for (const buffer of message.buffers) {\n",
              "            buffers.push(buffer);\n",
              "            downloaded += buffer.byteLength;\n",
              "            progress.value = downloaded;\n",
              "          }\n",
              "        }\n",
              "      }\n",
              "      const blob = new Blob(buffers, {type: 'application/binary'});\n",
              "      const a = document.createElement('a');\n",
              "      a.href = window.URL.createObjectURL(blob);\n",
              "      a.download = filename;\n",
              "      div.appendChild(a);\n",
              "      a.click();\n",
              "      div.remove();\n",
              "    }\n",
              "  "
            ],
            "text/plain": [
              "<IPython.core.display.Javascript object>"
            ]
          },
          "metadata": {}
        },
        {
          "output_type": "display_data",
          "data": {
            "application/javascript": [
              "download(\"download_1d3f5e41-2560-4e25-a7bb-97d69455be8b\", \"R_JanFeb2020.csv\", 7035034)"
            ],
            "text/plain": [
              "<IPython.core.display.Javascript object>"
            ]
          },
          "metadata": {}
        }
      ]
    },
    {
      "cell_type": "code",
      "source": [
        "account = \"XHN\"\n",
        "\n",
        "XHN_202001_202002 = pd.read_csv('/content/XHNews_coronavirus_202001220000_202002220000.csv')\n",
        "XHN_202001_202002 = XHN_202001_202002.append(pd.read_csv('/content/XHNews_covid_202001220000_202002220000.csv'),\n",
        "                                           ignore_index=True)\n",
        "XHN_202001_202002['account'] = 'XHN'\n",
        "XHN_202001_202002['period'] = period\n",
        "\n",
        "label = account+\"_\"+period\n",
        "XHN_202001_202002.to_csv(label+\".csv\", index=False)\n",
        "# files.download(label+\".csv\")"
      ],
      "metadata": {
        "id": "P7zJe5rhXd0y",
        "colab": {
          "base_uri": "https://localhost:8080/",
          "height": 17
        },
        "outputId": "1e444cc4-3e2f-4599-8acd-ecee9ffa2d81"
      },
      "execution_count": 33,
      "outputs": [
        {
          "output_type": "display_data",
          "data": {
            "application/javascript": [
              "\n",
              "    async function download(id, filename, size) {\n",
              "      if (!google.colab.kernel.accessAllowed) {\n",
              "        return;\n",
              "      }\n",
              "      const div = document.createElement('div');\n",
              "      const label = document.createElement('label');\n",
              "      label.textContent = `Downloading \"${filename}\": `;\n",
              "      div.appendChild(label);\n",
              "      const progress = document.createElement('progress');\n",
              "      progress.max = size;\n",
              "      div.appendChild(progress);\n",
              "      document.body.appendChild(div);\n",
              "\n",
              "      const buffers = [];\n",
              "      let downloaded = 0;\n",
              "\n",
              "      const channel = await google.colab.kernel.comms.open(id);\n",
              "      // Send a message to notify the kernel that we're ready.\n",
              "      channel.send({})\n",
              "\n",
              "      for await (const message of channel.messages) {\n",
              "        // Send a message to notify the kernel that we're ready.\n",
              "        channel.send({})\n",
              "        if (message.buffers) {\n",
              "          for (const buffer of message.buffers) {\n",
              "            buffers.push(buffer);\n",
              "            downloaded += buffer.byteLength;\n",
              "            progress.value = downloaded;\n",
              "          }\n",
              "        }\n",
              "      }\n",
              "      const blob = new Blob(buffers, {type: 'application/binary'});\n",
              "      const a = document.createElement('a');\n",
              "      a.href = window.URL.createObjectURL(blob);\n",
              "      a.download = filename;\n",
              "      div.appendChild(a);\n",
              "      a.click();\n",
              "      div.remove();\n",
              "    }\n",
              "  "
            ],
            "text/plain": [
              "<IPython.core.display.Javascript object>"
            ]
          },
          "metadata": {}
        },
        {
          "output_type": "display_data",
          "data": {
            "application/javascript": [
              "download(\"download_6f712c2e-3aaf-4007-a6ad-bb06803383c2\", \"XHN_JanFeb2020.csv\", 6358338)"
            ],
            "text/plain": [
              "<IPython.core.display.Javascript object>"
            ]
          },
          "metadata": {}
        }
      ]
    },
    {
      "cell_type": "markdown",
      "source": [
        "## USA: JanFeb2020"
      ],
      "metadata": {
        "id": "-iimLMccnG3e"
      }
    },
    {
      "cell_type": "code",
      "source": [
        "country = \"USA\"\n",
        "\n",
        "USA_202001_202002 = AJ_202001_202002.append(AP_202001_202002, ignore_index=True)\n",
        "USA_202001_202002 = USA_202001_202002.append(BBC_202001_202002, ignore_index=True)\n",
        "USA_202001_202002 = USA_202001_202002.append(CNN_202001_202002, ignore_index=True)\n",
        "USA_202001_202002 = USA_202001_202002.append(R_202001_202002, ignore_index=True)\n",
        "\n",
        "label = country+\"_\"+period\n",
        "USA_202001_202002.to_csv(label+\".csv\", index=False)\n",
        "# files.download(label+\".csv\")\n",
        "print(len(USA_202001_202002))"
      ],
      "metadata": {
        "id": "YgpEJjmKqbGX",
        "outputId": "ccba57bc-6d77-4a2c-9116-11fd3ab050b0",
        "colab": {
          "base_uri": "https://localhost:8080/",
          "height": 34
        }
      },
      "execution_count": 55,
      "outputs": [
        {
          "output_type": "display_data",
          "data": {
            "application/javascript": [
              "\n",
              "    async function download(id, filename, size) {\n",
              "      if (!google.colab.kernel.accessAllowed) {\n",
              "        return;\n",
              "      }\n",
              "      const div = document.createElement('div');\n",
              "      const label = document.createElement('label');\n",
              "      label.textContent = `Downloading \"${filename}\": `;\n",
              "      div.appendChild(label);\n",
              "      const progress = document.createElement('progress');\n",
              "      progress.max = size;\n",
              "      div.appendChild(progress);\n",
              "      document.body.appendChild(div);\n",
              "\n",
              "      const buffers = [];\n",
              "      let downloaded = 0;\n",
              "\n",
              "      const channel = await google.colab.kernel.comms.open(id);\n",
              "      // Send a message to notify the kernel that we're ready.\n",
              "      channel.send({})\n",
              "\n",
              "      for await (const message of channel.messages) {\n",
              "        // Send a message to notify the kernel that we're ready.\n",
              "        channel.send({})\n",
              "        if (message.buffers) {\n",
              "          for (const buffer of message.buffers) {\n",
              "            buffers.push(buffer);\n",
              "            downloaded += buffer.byteLength;\n",
              "            progress.value = downloaded;\n",
              "          }\n",
              "        }\n",
              "      }\n",
              "      const blob = new Blob(buffers, {type: 'application/binary'});\n",
              "      const a = document.createElement('a');\n",
              "      a.href = window.URL.createObjectURL(blob);\n",
              "      a.download = filename;\n",
              "      div.appendChild(a);\n",
              "      a.click();\n",
              "      div.remove();\n",
              "    }\n",
              "  "
            ],
            "text/plain": [
              "<IPython.core.display.Javascript object>"
            ]
          },
          "metadata": {}
        },
        {
          "output_type": "display_data",
          "data": {
            "application/javascript": [
              "download(\"download_4dba9769-fc44-43e2-8b07-69567c81e76e\", \"USA_JanFeb2020.csv\", 11588352)"
            ],
            "text/plain": [
              "<IPython.core.display.Javascript object>"
            ]
          },
          "metadata": {}
        },
        {
          "output_type": "stream",
          "name": "stdout",
          "text": [
            "3185\n"
          ]
        }
      ]
    },
    {
      "cell_type": "markdown",
      "source": [
        "## China: JanFeb2020"
      ],
      "metadata": {
        "id": "bgQC2SWSnank"
      }
    },
    {
      "cell_type": "code",
      "source": [
        "country = \"China\"\n",
        "\n",
        "China_202001_202002 = CGTN_202001_202002.append(XHN_202001_202002, ignore_index=True)\n",
        "\n",
        "label = country+\"_\"+period\n",
        "China_202001_202002.to_csv(label+\".csv\", index=False)\n",
        "# files.download(label+\".csv\")\n",
        "print(len(China_202001_202002))"
      ],
      "metadata": {
        "id": "W8F4bcamrruV",
        "outputId": "47e018db-7332-4764-9c25-3403e02de363",
        "colab": {
          "base_uri": "https://localhost:8080/",
          "height": 34
        }
      },
      "execution_count": 56,
      "outputs": [
        {
          "output_type": "display_data",
          "data": {
            "application/javascript": [
              "\n",
              "    async function download(id, filename, size) {\n",
              "      if (!google.colab.kernel.accessAllowed) {\n",
              "        return;\n",
              "      }\n",
              "      const div = document.createElement('div');\n",
              "      const label = document.createElement('label');\n",
              "      label.textContent = `Downloading \"${filename}\": `;\n",
              "      div.appendChild(label);\n",
              "      const progress = document.createElement('progress');\n",
              "      progress.max = size;\n",
              "      div.appendChild(progress);\n",
              "      document.body.appendChild(div);\n",
              "\n",
              "      const buffers = [];\n",
              "      let downloaded = 0;\n",
              "\n",
              "      const channel = await google.colab.kernel.comms.open(id);\n",
              "      // Send a message to notify the kernel that we're ready.\n",
              "      channel.send({})\n",
              "\n",
              "      for await (const message of channel.messages) {\n",
              "        // Send a message to notify the kernel that we're ready.\n",
              "        channel.send({})\n",
              "        if (message.buffers) {\n",
              "          for (const buffer of message.buffers) {\n",
              "            buffers.push(buffer);\n",
              "            downloaded += buffer.byteLength;\n",
              "            progress.value = downloaded;\n",
              "          }\n",
              "        }\n",
              "      }\n",
              "      const blob = new Blob(buffers, {type: 'application/binary'});\n",
              "      const a = document.createElement('a');\n",
              "      a.href = window.URL.createObjectURL(blob);\n",
              "      a.download = filename;\n",
              "      div.appendChild(a);\n",
              "      a.click();\n",
              "      div.remove();\n",
              "    }\n",
              "  "
            ],
            "text/plain": [
              "<IPython.core.display.Javascript object>"
            ]
          },
          "metadata": {}
        },
        {
          "output_type": "display_data",
          "data": {
            "application/javascript": [
              "download(\"download_0fdb0fea-fc8a-485d-a7e7-acd13496e0bf\", \"China_JanFeb2020.csv\", 12014944)"
            ],
            "text/plain": [
              "<IPython.core.display.Javascript object>"
            ]
          },
          "metadata": {}
        },
        {
          "output_type": "stream",
          "name": "stdout",
          "text": [
            "2459\n"
          ]
        }
      ]
    },
    {
      "cell_type": "markdown",
      "source": [
        "## China and USA: JanFeb2020"
      ],
      "metadata": {
        "id": "e-zvrfPLnuor"
      }
    },
    {
      "cell_type": "code",
      "source": [
        "country = \"China&USA\"\n",
        "\n",
        "ChinaUSA_202001_202002 = China_202001_202002.append(USA_202001_202002, ignore_index=True)\n",
        "\n",
        "label = country+\"_\"+period\n",
        "ChinaUSA_202001_202002.to_csv(label+\".csv\", index=False)\n",
        "# files.download(label+\".csv\")\n",
        "print(len(ChinaUSA_202001_202002))"
      ],
      "metadata": {
        "colab": {
          "base_uri": "https://localhost:8080/",
          "height": 34
        },
        "id": "l15mGiWiwlNk",
        "outputId": "37021d3b-c31e-4175-8121-316ad7891ad0"
      },
      "execution_count": 57,
      "outputs": [
        {
          "output_type": "display_data",
          "data": {
            "application/javascript": [
              "\n",
              "    async function download(id, filename, size) {\n",
              "      if (!google.colab.kernel.accessAllowed) {\n",
              "        return;\n",
              "      }\n",
              "      const div = document.createElement('div');\n",
              "      const label = document.createElement('label');\n",
              "      label.textContent = `Downloading \"${filename}\": `;\n",
              "      div.appendChild(label);\n",
              "      const progress = document.createElement('progress');\n",
              "      progress.max = size;\n",
              "      div.appendChild(progress);\n",
              "      document.body.appendChild(div);\n",
              "\n",
              "      const buffers = [];\n",
              "      let downloaded = 0;\n",
              "\n",
              "      const channel = await google.colab.kernel.comms.open(id);\n",
              "      // Send a message to notify the kernel that we're ready.\n",
              "      channel.send({})\n",
              "\n",
              "      for await (const message of channel.messages) {\n",
              "        // Send a message to notify the kernel that we're ready.\n",
              "        channel.send({})\n",
              "        if (message.buffers) {\n",
              "          for (const buffer of message.buffers) {\n",
              "            buffers.push(buffer);\n",
              "            downloaded += buffer.byteLength;\n",
              "            progress.value = downloaded;\n",
              "          }\n",
              "        }\n",
              "      }\n",
              "      const blob = new Blob(buffers, {type: 'application/binary'});\n",
              "      const a = document.createElement('a');\n",
              "      a.href = window.URL.createObjectURL(blob);\n",
              "      a.download = filename;\n",
              "      div.appendChild(a);\n",
              "      a.click();\n",
              "      div.remove();\n",
              "    }\n",
              "  "
            ],
            "text/plain": [
              "<IPython.core.display.Javascript object>"
            ]
          },
          "metadata": {}
        },
        {
          "output_type": "display_data",
          "data": {
            "application/javascript": [
              "download(\"download_cc4d118f-5090-4119-bc57-4e3e53300fa5\", \"China&USA_JanFeb2020.csv\", 23602787)"
            ],
            "text/plain": [
              "<IPython.core.display.Javascript object>"
            ]
          },
          "metadata": {}
        },
        {
          "output_type": "stream",
          "name": "stdout",
          "text": [
            "5644\n"
          ]
        }
      ]
    },
    {
      "cell_type": "markdown",
      "source": [
        "# SeptOct2020"
      ],
      "metadata": {
        "id": "ljNDK7RWy6cN"
      }
    },
    {
      "cell_type": "code",
      "source": [
        "period = \"SeptOct2020\""
      ],
      "metadata": {
        "id": "gXObuezmdR6m"
      },
      "execution_count": 58,
      "outputs": []
    },
    {
      "cell_type": "markdown",
      "source": [
        "## Accounts: SeptOct2020"
      ],
      "metadata": {
        "id": "HQ1GF_RPJNNt"
      }
    },
    {
      "cell_type": "code",
      "source": [
        "account = \"AJ\"\n",
        "\n",
        "AJ_202009_202010 = pd.read_csv('/content/AJEnglish_coronavirus_202009200000_202010210000.csv')\n",
        "                                          \n",
        "AJ_202009_202010 = AJ_202009_202010.append(pd.read_csv('/content/AJEnglish_covid_202009200000_202010210000.csv'),\n",
        "                                           ignore_index=True)\n",
        "AJ_202009_202010 = AJ_202009_202010.append(pd.read_csv('/content/AJEnglish_vaccine_202009200000_202010210000.csv'),\n",
        "                                           ignore_index=True)\n",
        "\n",
        "AJ_202009_202010['account'] = 'AJ'\n",
        "AJ_202009_202010['period'] = period\n",
        "\n",
        "label = account+\"_\"+period\n",
        "AJ_202009_202010.to_csv(label+\".csv\", index=False)\n",
        "# files.download(label+\".csv\")"
      ],
      "metadata": {
        "id": "C8hAaZDLHQsY",
        "colab": {
          "base_uri": "https://localhost:8080/",
          "height": 17
        },
        "outputId": "c7d96e3f-e621-49a7-b451-46f2c381a7da"
      },
      "execution_count": 8,
      "outputs": [
        {
          "output_type": "display_data",
          "data": {
            "application/javascript": [
              "\n",
              "    async function download(id, filename, size) {\n",
              "      if (!google.colab.kernel.accessAllowed) {\n",
              "        return;\n",
              "      }\n",
              "      const div = document.createElement('div');\n",
              "      const label = document.createElement('label');\n",
              "      label.textContent = `Downloading \"${filename}\": `;\n",
              "      div.appendChild(label);\n",
              "      const progress = document.createElement('progress');\n",
              "      progress.max = size;\n",
              "      div.appendChild(progress);\n",
              "      document.body.appendChild(div);\n",
              "\n",
              "      const buffers = [];\n",
              "      let downloaded = 0;\n",
              "\n",
              "      const channel = await google.colab.kernel.comms.open(id);\n",
              "      // Send a message to notify the kernel that we're ready.\n",
              "      channel.send({})\n",
              "\n",
              "      for await (const message of channel.messages) {\n",
              "        // Send a message to notify the kernel that we're ready.\n",
              "        channel.send({})\n",
              "        if (message.buffers) {\n",
              "          for (const buffer of message.buffers) {\n",
              "            buffers.push(buffer);\n",
              "            downloaded += buffer.byteLength;\n",
              "            progress.value = downloaded;\n",
              "          }\n",
              "        }\n",
              "      }\n",
              "      const blob = new Blob(buffers, {type: 'application/binary'});\n",
              "      const a = document.createElement('a');\n",
              "      a.href = window.URL.createObjectURL(blob);\n",
              "      a.download = filename;\n",
              "      div.appendChild(a);\n",
              "      a.click();\n",
              "      div.remove();\n",
              "    }\n",
              "  "
            ],
            "text/plain": [
              "<IPython.core.display.Javascript object>"
            ]
          },
          "metadata": {}
        },
        {
          "output_type": "display_data",
          "data": {
            "application/javascript": [
              "download(\"download_99dccd25-f33f-416f-beaf-84aad98ab535\", \"AJ_SeptOct2020.csv\", 2047925)"
            ],
            "text/plain": [
              "<IPython.core.display.Javascript object>"
            ]
          },
          "metadata": {}
        }
      ]
    },
    {
      "cell_type": "code",
      "source": [
        "account = \"AP\"\n",
        "\n",
        "AP_202009_202010 = pd.read_csv('/content/AP_coronavirus_202009200000_202010210000.csv')\n",
        "AP_202009_202010 = AP_202009_202010.append(pd.read_csv('/content/AP_covid_202009200000_202010210000.csv'),\n",
        "                                           ignore_index=True)\n",
        "AP_202009_202010 = AP_202009_202010.append(pd.read_csv('/content/AP_vaccine_202009200000_202010210000.csv'),\n",
        "                                           ignore_index=True)\n",
        "AP_202009_202010['account'] = 'AP'\n",
        "AP_202009_202010['period'] = period\n",
        "\n",
        "label = account+\"_\"+period\n",
        "AP_202009_202010.to_csv(label+\".csv\", index=False)\n",
        "# files.download(label+\".csv\")"
      ],
      "metadata": {
        "id": "c94jGtJkL8os",
        "colab": {
          "base_uri": "https://localhost:8080/",
          "height": 17
        },
        "outputId": "cc673f21-7394-4f86-bf62-06a079449654"
      },
      "execution_count": 36,
      "outputs": [
        {
          "output_type": "display_data",
          "data": {
            "application/javascript": [
              "\n",
              "    async function download(id, filename, size) {\n",
              "      if (!google.colab.kernel.accessAllowed) {\n",
              "        return;\n",
              "      }\n",
              "      const div = document.createElement('div');\n",
              "      const label = document.createElement('label');\n",
              "      label.textContent = `Downloading \"${filename}\": `;\n",
              "      div.appendChild(label);\n",
              "      const progress = document.createElement('progress');\n",
              "      progress.max = size;\n",
              "      div.appendChild(progress);\n",
              "      document.body.appendChild(div);\n",
              "\n",
              "      const buffers = [];\n",
              "      let downloaded = 0;\n",
              "\n",
              "      const channel = await google.colab.kernel.comms.open(id);\n",
              "      // Send a message to notify the kernel that we're ready.\n",
              "      channel.send({})\n",
              "\n",
              "      for await (const message of channel.messages) {\n",
              "        // Send a message to notify the kernel that we're ready.\n",
              "        channel.send({})\n",
              "        if (message.buffers) {\n",
              "          for (const buffer of message.buffers) {\n",
              "            buffers.push(buffer);\n",
              "            downloaded += buffer.byteLength;\n",
              "            progress.value = downloaded;\n",
              "          }\n",
              "        }\n",
              "      }\n",
              "      const blob = new Blob(buffers, {type: 'application/binary'});\n",
              "      const a = document.createElement('a');\n",
              "      a.href = window.URL.createObjectURL(blob);\n",
              "      a.download = filename;\n",
              "      div.appendChild(a);\n",
              "      a.click();\n",
              "      div.remove();\n",
              "    }\n",
              "  "
            ],
            "text/plain": [
              "<IPython.core.display.Javascript object>"
            ]
          },
          "metadata": {}
        },
        {
          "output_type": "display_data",
          "data": {
            "application/javascript": [
              "download(\"download_07f1764a-ca54-4e69-998a-f4623aced282\", \"AP_SeptOct2020.csv\", 1926755)"
            ],
            "text/plain": [
              "<IPython.core.display.Javascript object>"
            ]
          },
          "metadata": {}
        }
      ]
    },
    {
      "cell_type": "code",
      "source": [
        "account = \"BBC\"\n",
        "\n",
        "BBC_202009_202010 = pd.read_csv('/content/BBCWorld_coronavirus_202009200000_202010210000.csv')\n",
        "BBC_202009_202010 = BBC_202009_202010.append(pd.read_csv('/content/BBCWorld_covid_202009200000_202010210000.csv'),\n",
        "                                           ignore_index=True)\n",
        "BBC_202009_202010 = BBC_202009_202010.append(pd.read_csv('/content/BBCWorld_vaccine_202009200000_202010210000.csv'),\n",
        "                                           ignore_index=True)\n",
        "# EMPTY: Wuhan\n",
        "\n",
        "BBC_202009_202010['account'] = 'BBC'\n",
        "BBC_202009_202010['period'] = period\n",
        "\n",
        "label = account+\"_\"+period\n",
        "BBC_202009_202010.to_csv(label+\".csv\", index=False)\n",
        "# files.download(label+\".csv\")"
      ],
      "metadata": {
        "id": "S6IIhAMxO6ce",
        "colab": {
          "base_uri": "https://localhost:8080/",
          "height": 17
        },
        "outputId": "f0a445a2-2161-4072-e0b7-8c36281f2799"
      },
      "execution_count": 38,
      "outputs": [
        {
          "output_type": "display_data",
          "data": {
            "application/javascript": [
              "\n",
              "    async function download(id, filename, size) {\n",
              "      if (!google.colab.kernel.accessAllowed) {\n",
              "        return;\n",
              "      }\n",
              "      const div = document.createElement('div');\n",
              "      const label = document.createElement('label');\n",
              "      label.textContent = `Downloading \"${filename}\": `;\n",
              "      div.appendChild(label);\n",
              "      const progress = document.createElement('progress');\n",
              "      progress.max = size;\n",
              "      div.appendChild(progress);\n",
              "      document.body.appendChild(div);\n",
              "\n",
              "      const buffers = [];\n",
              "      let downloaded = 0;\n",
              "\n",
              "      const channel = await google.colab.kernel.comms.open(id);\n",
              "      // Send a message to notify the kernel that we're ready.\n",
              "      channel.send({})\n",
              "\n",
              "      for await (const message of channel.messages) {\n",
              "        // Send a message to notify the kernel that we're ready.\n",
              "        channel.send({})\n",
              "        if (message.buffers) {\n",
              "          for (const buffer of message.buffers) {\n",
              "            buffers.push(buffer);\n",
              "            downloaded += buffer.byteLength;\n",
              "            progress.value = downloaded;\n",
              "          }\n",
              "        }\n",
              "      }\n",
              "      const blob = new Blob(buffers, {type: 'application/binary'});\n",
              "      const a = document.createElement('a');\n",
              "      a.href = window.URL.createObjectURL(blob);\n",
              "      a.download = filename;\n",
              "      div.appendChild(a);\n",
              "      a.click();\n",
              "      div.remove();\n",
              "    }\n",
              "  "
            ],
            "text/plain": [
              "<IPython.core.display.Javascript object>"
            ]
          },
          "metadata": {}
        },
        {
          "output_type": "display_data",
          "data": {
            "application/javascript": [
              "download(\"download_6761fd4e-f790-4af7-a13f-99211286504a\", \"BBC_SeptOct2020.csv\", 857251)"
            ],
            "text/plain": [
              "<IPython.core.display.Javascript object>"
            ]
          },
          "metadata": {}
        }
      ]
    },
    {
      "cell_type": "code",
      "source": [
        "account = \"CGTN\"\n",
        "\n",
        "CGTN_202009_202010 = pd.read_csv('/content/CGTNOfficial_covid_202009200000_202010220000.csv')\n",
        "CGTN_202009_202010 = CGTN_202009_202010.append(pd.read_csv('/content/CGTNOfficial_vaccine_202009200000_202010220000.csv'),\n",
        "                                           ignore_index=True)\n",
        "CGTN_202009_202010 = CGTN_202009_202010.append(pd.read_csv('/content/CGTNOfficial_coronavirus_202009200000_202010220000.csv'),\n",
        "                                           ignore_index=True)\n",
        "\n",
        "CGTN_202009_202010['account'] = 'CGTN'\n",
        "CGTN_202009_202010['period'] = period\n",
        "\n",
        "label = account+\"_\"+period\n",
        "CGTN_202009_202010.to_csv(label+\".csv\", index=False)\n",
        "# files.download(label+\".csv\")"
      ],
      "metadata": {
        "id": "7u4dnXfeRDqc",
        "colab": {
          "base_uri": "https://localhost:8080/",
          "height": 17
        },
        "outputId": "13c5b253-e47b-49cc-b01a-b4711f5db9e5"
      },
      "execution_count": 39,
      "outputs": [
        {
          "output_type": "display_data",
          "data": {
            "application/javascript": [
              "\n",
              "    async function download(id, filename, size) {\n",
              "      if (!google.colab.kernel.accessAllowed) {\n",
              "        return;\n",
              "      }\n",
              "      const div = document.createElement('div');\n",
              "      const label = document.createElement('label');\n",
              "      label.textContent = `Downloading \"${filename}\": `;\n",
              "      div.appendChild(label);\n",
              "      const progress = document.createElement('progress');\n",
              "      progress.max = size;\n",
              "      div.appendChild(progress);\n",
              "      document.body.appendChild(div);\n",
              "\n",
              "      const buffers = [];\n",
              "      let downloaded = 0;\n",
              "\n",
              "      const channel = await google.colab.kernel.comms.open(id);\n",
              "      // Send a message to notify the kernel that we're ready.\n",
              "      channel.send({})\n",
              "\n",
              "      for await (const message of channel.messages) {\n",
              "        // Send a message to notify the kernel that we're ready.\n",
              "        channel.send({})\n",
              "        if (message.buffers) {\n",
              "          for (const buffer of message.buffers) {\n",
              "            buffers.push(buffer);\n",
              "            downloaded += buffer.byteLength;\n",
              "            progress.value = downloaded;\n",
              "          }\n",
              "        }\n",
              "      }\n",
              "      const blob = new Blob(buffers, {type: 'application/binary'});\n",
              "      const a = document.createElement('a');\n",
              "      a.href = window.URL.createObjectURL(blob);\n",
              "      a.download = filename;\n",
              "      div.appendChild(a);\n",
              "      a.click();\n",
              "      div.remove();\n",
              "    }\n",
              "  "
            ],
            "text/plain": [
              "<IPython.core.display.Javascript object>"
            ]
          },
          "metadata": {}
        },
        {
          "output_type": "display_data",
          "data": {
            "application/javascript": [
              "download(\"download_b078e383-7d99-420d-b96e-36f236150ab6\", \"CGTN_SeptOct2020.csv\", 4389903)"
            ],
            "text/plain": [
              "<IPython.core.display.Javascript object>"
            ]
          },
          "metadata": {}
        }
      ]
    },
    {
      "cell_type": "code",
      "source": [
        "account = \"CNN\"\n",
        "\n",
        "CNN_202009_202010 = pd.read_csv('/content/CNN_coronavirus_202009200000_202010210000.csv')\n",
        "CNN_202009_202010 = CNN_202009_202010.append(pd.read_csv('/content/CNN_covid_202009200000_202010210000.csv'),\n",
        "                                           ignore_index=True)\n",
        "CNN_202009_202010 = CNN_202009_202010.append(pd.read_csv('/content/CNN_vaccine_202009200000_202010210000.csv'),\n",
        "                                           ignore_index=True)\n",
        "\n",
        "CNN_202009_202010['account'] = 'CNN'\n",
        "CNN_202009_202010['period'] = period\n",
        "\n",
        "label = account+\"_\"+period\n",
        "CNN_202009_202010.to_csv(label+\".csv\", index=False)\n",
        "# files.download(label+\".csv\")"
      ],
      "metadata": {
        "id": "0nc6w-A1TKyF",
        "colab": {
          "base_uri": "https://localhost:8080/",
          "height": 17
        },
        "outputId": "af78c38f-2a01-484c-faaf-979afd222060"
      },
      "execution_count": 40,
      "outputs": [
        {
          "output_type": "display_data",
          "data": {
            "application/javascript": [
              "\n",
              "    async function download(id, filename, size) {\n",
              "      if (!google.colab.kernel.accessAllowed) {\n",
              "        return;\n",
              "      }\n",
              "      const div = document.createElement('div');\n",
              "      const label = document.createElement('label');\n",
              "      label.textContent = `Downloading \"${filename}\": `;\n",
              "      div.appendChild(label);\n",
              "      const progress = document.createElement('progress');\n",
              "      progress.max = size;\n",
              "      div.appendChild(progress);\n",
              "      document.body.appendChild(div);\n",
              "\n",
              "      const buffers = [];\n",
              "      let downloaded = 0;\n",
              "\n",
              "      const channel = await google.colab.kernel.comms.open(id);\n",
              "      // Send a message to notify the kernel that we're ready.\n",
              "      channel.send({})\n",
              "\n",
              "      for await (const message of channel.messages) {\n",
              "        // Send a message to notify the kernel that we're ready.\n",
              "        channel.send({})\n",
              "        if (message.buffers) {\n",
              "          for (const buffer of message.buffers) {\n",
              "            buffers.push(buffer);\n",
              "            downloaded += buffer.byteLength;\n",
              "            progress.value = downloaded;\n",
              "          }\n",
              "        }\n",
              "      }\n",
              "      const blob = new Blob(buffers, {type: 'application/binary'});\n",
              "      const a = document.createElement('a');\n",
              "      a.href = window.URL.createObjectURL(blob);\n",
              "      a.download = filename;\n",
              "      div.appendChild(a);\n",
              "      a.click();\n",
              "      div.remove();\n",
              "    }\n",
              "  "
            ],
            "text/plain": [
              "<IPython.core.display.Javascript object>"
            ]
          },
          "metadata": {}
        },
        {
          "output_type": "display_data",
          "data": {
            "application/javascript": [
              "download(\"download_6b52b55c-aaa6-41c7-a5c7-b734a084e1dd\", \"CNN_SeptOct2020.csv\", 4303494)"
            ],
            "text/plain": [
              "<IPython.core.display.Javascript object>"
            ]
          },
          "metadata": {}
        }
      ]
    },
    {
      "cell_type": "code",
      "source": [
        "account = \"R\"\n",
        "\n",
        "R_202009_202010 = pd.read_csv('/content/Reuters_covid_202009200000_202010210000.csv')\n",
        "R_202009_202010 = R_202009_202010.append(pd.read_csv('/content/Reuters_vaccine_202009200000_202010210000.csv'),\n",
        "                                           ignore_index=True)\n",
        "R_202009_202010 = R_202009_202010.append(pd.read_csv('/content/Reuters_coronavirus_202009200000_202010220000.csv'),\n",
        "                                           ignore_index=True)\n",
        "R_202009_202010['account'] = 'R'\n",
        "R_202009_202010['period'] = period\n",
        "\n",
        "label = account+\"_\"+period\n",
        "R_202009_202010.to_csv(label+\".csv\", index=False)\n",
        "# files.download(label+\".csv\")"
      ],
      "metadata": {
        "id": "EcaYUMCdVb9C",
        "colab": {
          "base_uri": "https://localhost:8080/",
          "height": 17
        },
        "outputId": "10d1ef4c-b871-43e4-b258-10f23f901ae1"
      },
      "execution_count": 41,
      "outputs": [
        {
          "output_type": "display_data",
          "data": {
            "application/javascript": [
              "\n",
              "    async function download(id, filename, size) {\n",
              "      if (!google.colab.kernel.accessAllowed) {\n",
              "        return;\n",
              "      }\n",
              "      const div = document.createElement('div');\n",
              "      const label = document.createElement('label');\n",
              "      label.textContent = `Downloading \"${filename}\": `;\n",
              "      div.appendChild(label);\n",
              "      const progress = document.createElement('progress');\n",
              "      progress.max = size;\n",
              "      div.appendChild(progress);\n",
              "      document.body.appendChild(div);\n",
              "\n",
              "      const buffers = [];\n",
              "      let downloaded = 0;\n",
              "\n",
              "      const channel = await google.colab.kernel.comms.open(id);\n",
              "      // Send a message to notify the kernel that we're ready.\n",
              "      channel.send({})\n",
              "\n",
              "      for await (const message of channel.messages) {\n",
              "        // Send a message to notify the kernel that we're ready.\n",
              "        channel.send({})\n",
              "        if (message.buffers) {\n",
              "          for (const buffer of message.buffers) {\n",
              "            buffers.push(buffer);\n",
              "            downloaded += buffer.byteLength;\n",
              "            progress.value = downloaded;\n",
              "          }\n",
              "        }\n",
              "      }\n",
              "      const blob = new Blob(buffers, {type: 'application/binary'});\n",
              "      const a = document.createElement('a');\n",
              "      a.href = window.URL.createObjectURL(blob);\n",
              "      a.download = filename;\n",
              "      div.appendChild(a);\n",
              "      a.click();\n",
              "      div.remove();\n",
              "    }\n",
              "  "
            ],
            "text/plain": [
              "<IPython.core.display.Javascript object>"
            ]
          },
          "metadata": {}
        },
        {
          "output_type": "display_data",
          "data": {
            "application/javascript": [
              "download(\"download_b38280bb-75f1-4a8a-be21-c29030bf9979\", \"R_SeptOct2020.csv\", 18597186)"
            ],
            "text/plain": [
              "<IPython.core.display.Javascript object>"
            ]
          },
          "metadata": {}
        }
      ]
    },
    {
      "cell_type": "code",
      "source": [
        "account = \"XHN\"\n",
        "\n",
        "XHN_202009_202010 = pd.read_csv('/content/XHNews_covid_202009200000_202010220000.csv')\n",
        "XHN_202009_202010 = XHN_202009_202010.append(pd.read_csv('/content/XHNews_vaccine_202009200000_202010220000.csv'),\n",
        "                                           ignore_index=True)\n",
        "XHN_202009_202010 = XHN_202009_202010.append(pd.read_csv('/content/XHNews_coronavirus_202009200000_202010220000.csv'),\n",
        "                                           ignore_index=True)\n",
        "\n",
        "XHN_202009_202010['account'] = 'XHN'\n",
        "XHN_202009_202010['period'] = period\n",
        "\n",
        "label = account+\"_\"+period\n",
        "XHN_202009_202010.to_csv(label+\".csv\", index=False)\n",
        "# files.download(label+\".csv\")"
      ],
      "metadata": {
        "id": "QGO_bK_JWU1c",
        "colab": {
          "base_uri": "https://localhost:8080/",
          "height": 17
        },
        "outputId": "4debc806-bfc1-4b9b-b05c-bce4199d2b06"
      },
      "execution_count": 46,
      "outputs": [
        {
          "output_type": "display_data",
          "data": {
            "application/javascript": [
              "\n",
              "    async function download(id, filename, size) {\n",
              "      if (!google.colab.kernel.accessAllowed) {\n",
              "        return;\n",
              "      }\n",
              "      const div = document.createElement('div');\n",
              "      const label = document.createElement('label');\n",
              "      label.textContent = `Downloading \"${filename}\": `;\n",
              "      div.appendChild(label);\n",
              "      const progress = document.createElement('progress');\n",
              "      progress.max = size;\n",
              "      div.appendChild(progress);\n",
              "      document.body.appendChild(div);\n",
              "\n",
              "      const buffers = [];\n",
              "      let downloaded = 0;\n",
              "\n",
              "      const channel = await google.colab.kernel.comms.open(id);\n",
              "      // Send a message to notify the kernel that we're ready.\n",
              "      channel.send({})\n",
              "\n",
              "      for await (const message of channel.messages) {\n",
              "        // Send a message to notify the kernel that we're ready.\n",
              "        channel.send({})\n",
              "        if (message.buffers) {\n",
              "          for (const buffer of message.buffers) {\n",
              "            buffers.push(buffer);\n",
              "            downloaded += buffer.byteLength;\n",
              "            progress.value = downloaded;\n",
              "          }\n",
              "        }\n",
              "      }\n",
              "      const blob = new Blob(buffers, {type: 'application/binary'});\n",
              "      const a = document.createElement('a');\n",
              "      a.href = window.URL.createObjectURL(blob);\n",
              "      a.download = filename;\n",
              "      div.appendChild(a);\n",
              "      a.click();\n",
              "      div.remove();\n",
              "    }\n",
              "  "
            ],
            "text/plain": [
              "<IPython.core.display.Javascript object>"
            ]
          },
          "metadata": {}
        },
        {
          "output_type": "display_data",
          "data": {
            "application/javascript": [
              "download(\"download_6b8884fa-ba55-4353-86c8-2fd5c164e3aa\", \"XHN_SeptOct2020.csv\", 2202135)"
            ],
            "text/plain": [
              "<IPython.core.display.Javascript object>"
            ]
          },
          "metadata": {}
        }
      ]
    },
    {
      "cell_type": "markdown",
      "source": [
        "## USA: SeptOct2020"
      ],
      "metadata": {
        "id": "uzkqS67-nS7X"
      }
    },
    {
      "cell_type": "code",
      "source": [
        "country = \"USA\"\n",
        "\n",
        "USA_202009_202010 = AJ_202009_202010.append(AP_202009_202010, ignore_index=True)\n",
        "USA_202009_202010 = USA_202009_202010.append(BBC_202009_202010, ignore_index=True)\n",
        "USA_202009_202010 = USA_202009_202010.append(CNN_202009_202010, ignore_index=True)\n",
        "USA_202009_202010 = USA_202009_202010.append(R_202009_202010, ignore_index=True)\n",
        "\n",
        "label = country+\"_\"+period\n",
        "USA_202009_202010.to_csv(label+\".csv\", index=False)\n",
        "# files.download(label+\".csv\")\n",
        "print(len(USA_202009_202010))"
      ],
      "metadata": {
        "id": "eCVqp3hNo3QJ",
        "outputId": "ec2af33d-e4e0-4140-b50b-459731f406cb",
        "colab": {
          "base_uri": "https://localhost:8080/",
          "height": 34
        }
      },
      "execution_count": 59,
      "outputs": [
        {
          "output_type": "display_data",
          "data": {
            "application/javascript": [
              "\n",
              "    async function download(id, filename, size) {\n",
              "      if (!google.colab.kernel.accessAllowed) {\n",
              "        return;\n",
              "      }\n",
              "      const div = document.createElement('div');\n",
              "      const label = document.createElement('label');\n",
              "      label.textContent = `Downloading \"${filename}\": `;\n",
              "      div.appendChild(label);\n",
              "      const progress = document.createElement('progress');\n",
              "      progress.max = size;\n",
              "      div.appendChild(progress);\n",
              "      document.body.appendChild(div);\n",
              "\n",
              "      const buffers = [];\n",
              "      let downloaded = 0;\n",
              "\n",
              "      const channel = await google.colab.kernel.comms.open(id);\n",
              "      // Send a message to notify the kernel that we're ready.\n",
              "      channel.send({})\n",
              "\n",
              "      for await (const message of channel.messages) {\n",
              "        // Send a message to notify the kernel that we're ready.\n",
              "        channel.send({})\n",
              "        if (message.buffers) {\n",
              "          for (const buffer of message.buffers) {\n",
              "            buffers.push(buffer);\n",
              "            downloaded += buffer.byteLength;\n",
              "            progress.value = downloaded;\n",
              "          }\n",
              "        }\n",
              "      }\n",
              "      const blob = new Blob(buffers, {type: 'application/binary'});\n",
              "      const a = document.createElement('a');\n",
              "      a.href = window.URL.createObjectURL(blob);\n",
              "      a.download = filename;\n",
              "      div.appendChild(a);\n",
              "      a.click();\n",
              "      div.remove();\n",
              "    }\n",
              "  "
            ],
            "text/plain": [
              "<IPython.core.display.Javascript object>"
            ]
          },
          "metadata": {}
        },
        {
          "output_type": "display_data",
          "data": {
            "application/javascript": [
              "download(\"download_27fc6afd-e34f-444e-8b7b-65335989f957\", \"USA_SeptOct2020.csv\", 27741893)"
            ],
            "text/plain": [
              "<IPython.core.display.Javascript object>"
            ]
          },
          "metadata": {}
        },
        {
          "output_type": "stream",
          "name": "stdout",
          "text": [
            "7436\n"
          ]
        }
      ]
    },
    {
      "cell_type": "markdown",
      "source": [
        "## China: SeptOct2020"
      ],
      "metadata": {
        "id": "5wr6YDqWnanl"
      }
    },
    {
      "cell_type": "code",
      "source": [
        "country = \"China\"\n",
        "\n",
        "China_202009_202010 = CGTN_202009_202010.append(XHN_202009_202010, ignore_index=True)\n",
        "\n",
        "label = country+\"_\"+period\n",
        "China_202009_202010.to_csv(label+\".csv\", index=False)\n",
        "# files.download(label+\".csv\")\n",
        "print(len(China_202009_202010))"
      ],
      "metadata": {
        "id": "GKaKGekVr4he",
        "outputId": "d53fba1a-e607-4155-cf76-9a94588eab16",
        "colab": {
          "base_uri": "https://localhost:8080/",
          "height": 34
        }
      },
      "execution_count": 60,
      "outputs": [
        {
          "output_type": "display_data",
          "data": {
            "application/javascript": [
              "\n",
              "    async function download(id, filename, size) {\n",
              "      if (!google.colab.kernel.accessAllowed) {\n",
              "        return;\n",
              "      }\n",
              "      const div = document.createElement('div');\n",
              "      const label = document.createElement('label');\n",
              "      label.textContent = `Downloading \"${filename}\": `;\n",
              "      div.appendChild(label);\n",
              "      const progress = document.createElement('progress');\n",
              "      progress.max = size;\n",
              "      div.appendChild(progress);\n",
              "      document.body.appendChild(div);\n",
              "\n",
              "      const buffers = [];\n",
              "      let downloaded = 0;\n",
              "\n",
              "      const channel = await google.colab.kernel.comms.open(id);\n",
              "      // Send a message to notify the kernel that we're ready.\n",
              "      channel.send({})\n",
              "\n",
              "      for await (const message of channel.messages) {\n",
              "        // Send a message to notify the kernel that we're ready.\n",
              "        channel.send({})\n",
              "        if (message.buffers) {\n",
              "          for (const buffer of message.buffers) {\n",
              "            buffers.push(buffer);\n",
              "            downloaded += buffer.byteLength;\n",
              "            progress.value = downloaded;\n",
              "          }\n",
              "        }\n",
              "      }\n",
              "      const blob = new Blob(buffers, {type: 'application/binary'});\n",
              "      const a = document.createElement('a');\n",
              "      a.href = window.URL.createObjectURL(blob);\n",
              "      a.download = filename;\n",
              "      div.appendChild(a);\n",
              "      a.click();\n",
              "      div.remove();\n",
              "    }\n",
              "  "
            ],
            "text/plain": [
              "<IPython.core.display.Javascript object>"
            ]
          },
          "metadata": {}
        },
        {
          "output_type": "display_data",
          "data": {
            "application/javascript": [
              "download(\"download_783dbdd7-3f48-43f9-8c9c-e8ca7b02fb66\", \"China_SeptOct2020.csv\", 6593507)"
            ],
            "text/plain": [
              "<IPython.core.display.Javascript object>"
            ]
          },
          "metadata": {}
        },
        {
          "output_type": "stream",
          "name": "stdout",
          "text": [
            "1291\n"
          ]
        }
      ]
    },
    {
      "cell_type": "markdown",
      "source": [
        "## China and USA: SeptOct2020"
      ],
      "metadata": {
        "id": "xPczNR5_xNZ-"
      }
    },
    {
      "cell_type": "code",
      "source": [
        "country = \"China&USA\"\n",
        "\n",
        "ChinaUSA_202009_202010 = China_202009_202010.append(USA_202009_202010, ignore_index=True)\n",
        "\n",
        "label = country+\"_\"+period\n",
        "ChinaUSA_202009_202010.to_csv(label+\".csv\", index=False)\n",
        "# files.download(label+\".csv\")\n",
        "print(len(ChinaUSA_202009_202010))"
      ],
      "metadata": {
        "outputId": "20801db4-322f-434e-d65d-88efced8ad66",
        "colab": {
          "base_uri": "https://localhost:8080/",
          "height": 34
        },
        "id": "yEJogqY3xNaD"
      },
      "execution_count": 61,
      "outputs": [
        {
          "output_type": "display_data",
          "data": {
            "application/javascript": [
              "\n",
              "    async function download(id, filename, size) {\n",
              "      if (!google.colab.kernel.accessAllowed) {\n",
              "        return;\n",
              "      }\n",
              "      const div = document.createElement('div');\n",
              "      const label = document.createElement('label');\n",
              "      label.textContent = `Downloading \"${filename}\": `;\n",
              "      div.appendChild(label);\n",
              "      const progress = document.createElement('progress');\n",
              "      progress.max = size;\n",
              "      div.appendChild(progress);\n",
              "      document.body.appendChild(div);\n",
              "\n",
              "      const buffers = [];\n",
              "      let downloaded = 0;\n",
              "\n",
              "      const channel = await google.colab.kernel.comms.open(id);\n",
              "      // Send a message to notify the kernel that we're ready.\n",
              "      channel.send({})\n",
              "\n",
              "      for await (const message of channel.messages) {\n",
              "        // Send a message to notify the kernel that we're ready.\n",
              "        channel.send({})\n",
              "        if (message.buffers) {\n",
              "          for (const buffer of message.buffers) {\n",
              "            buffers.push(buffer);\n",
              "            downloaded += buffer.byteLength;\n",
              "            progress.value = downloaded;\n",
              "          }\n",
              "        }\n",
              "      }\n",
              "      const blob = new Blob(buffers, {type: 'application/binary'});\n",
              "      const a = document.createElement('a');\n",
              "      a.href = window.URL.createObjectURL(blob);\n",
              "      a.download = filename;\n",
              "      div.appendChild(a);\n",
              "      a.click();\n",
              "      div.remove();\n",
              "    }\n",
              "  "
            ],
            "text/plain": [
              "<IPython.core.display.Javascript object>"
            ]
          },
          "metadata": {}
        },
        {
          "output_type": "display_data",
          "data": {
            "application/javascript": [
              "download(\"download_575df952-08e5-462f-8cf5-f5937f4b4753\", \"China&USA_SeptOct2020.csv\", 34334891)"
            ],
            "text/plain": [
              "<IPython.core.display.Javascript object>"
            ]
          },
          "metadata": {}
        },
        {
          "output_type": "stream",
          "name": "stdout",
          "text": [
            "8727\n"
          ]
        }
      ]
    },
    {
      "cell_type": "markdown",
      "source": [
        "# MarchApril2021"
      ],
      "metadata": {
        "id": "dHCTFC88ywMG"
      }
    },
    {
      "cell_type": "code",
      "source": [
        "period = \"MarchApril2021\""
      ],
      "metadata": {
        "id": "kg8vZLKId9U0"
      },
      "execution_count": 62,
      "outputs": []
    },
    {
      "cell_type": "markdown",
      "source": [
        "## Accounts: MarchApril2021"
      ],
      "metadata": {
        "id": "K0vJWtgLJSod"
      }
    },
    {
      "cell_type": "code",
      "source": [
        "account = \"AJ\"\n",
        "\n",
        "AJ_202103_202104 = pd.read_csv('/content/AJEnglish_covid_202103170000_202104170000.csv')\n",
        "AJ_202103_202104 = AJ_202103_202104.append(pd.read_csv('/content/AJEnglish_vaccine_202103170000_202104170000.csv'),\n",
        "                                           ignore_index=True)\n",
        "AJ_202103_202104['account'] = 'AJ'\n",
        "AJ_202103_202104['period'] = period\n",
        "\n",
        "label = account+\"_\"+period\n",
        "AJ_202103_202104.to_csv(label+\".csv\", index=False)\n",
        "# files.download(label+\".csv\")"
      ],
      "metadata": {
        "id": "Xm-DZ9vdEiKh",
        "colab": {
          "base_uri": "https://localhost:8080/",
          "height": 17
        },
        "outputId": "13df0c9b-bfcb-4376-d365-874edc176540"
      },
      "execution_count": 12,
      "outputs": [
        {
          "output_type": "display_data",
          "data": {
            "application/javascript": [
              "\n",
              "    async function download(id, filename, size) {\n",
              "      if (!google.colab.kernel.accessAllowed) {\n",
              "        return;\n",
              "      }\n",
              "      const div = document.createElement('div');\n",
              "      const label = document.createElement('label');\n",
              "      label.textContent = `Downloading \"${filename}\": `;\n",
              "      div.appendChild(label);\n",
              "      const progress = document.createElement('progress');\n",
              "      progress.max = size;\n",
              "      div.appendChild(progress);\n",
              "      document.body.appendChild(div);\n",
              "\n",
              "      const buffers = [];\n",
              "      let downloaded = 0;\n",
              "\n",
              "      const channel = await google.colab.kernel.comms.open(id);\n",
              "      // Send a message to notify the kernel that we're ready.\n",
              "      channel.send({})\n",
              "\n",
              "      for await (const message of channel.messages) {\n",
              "        // Send a message to notify the kernel that we're ready.\n",
              "        channel.send({})\n",
              "        if (message.buffers) {\n",
              "          for (const buffer of message.buffers) {\n",
              "            buffers.push(buffer);\n",
              "            downloaded += buffer.byteLength;\n",
              "            progress.value = downloaded;\n",
              "          }\n",
              "        }\n",
              "      }\n",
              "      const blob = new Blob(buffers, {type: 'application/binary'});\n",
              "      const a = document.createElement('a');\n",
              "      a.href = window.URL.createObjectURL(blob);\n",
              "      a.download = filename;\n",
              "      div.appendChild(a);\n",
              "      a.click();\n",
              "      div.remove();\n",
              "    }\n",
              "  "
            ],
            "text/plain": [
              "<IPython.core.display.Javascript object>"
            ]
          },
          "metadata": {}
        },
        {
          "output_type": "display_data",
          "data": {
            "application/javascript": [
              "download(\"download_84009aa2-379d-4fd0-b45e-3edfe20612f0\", \"AJ_MarchApril2021.csv\", 1872411)"
            ],
            "text/plain": [
              "<IPython.core.display.Javascript object>"
            ]
          },
          "metadata": {}
        }
      ]
    },
    {
      "cell_type": "code",
      "source": [
        "account = \"AP\"\n",
        "\n",
        "AP_202103_202104 = pd.read_csv('/content/AP_covid_202103170000_202104170000.csv')\n",
        "AP_202103_202104 = AP_202103_202104.append(pd.read_csv('/content/AP_vaccine_202103170000_202104170000.csv'),\n",
        "                                           ignore_index=True)\n",
        "AP_202103_202104['account'] = 'AP'\n",
        "AP_202103_202104['period'] = period\n",
        "\n",
        "label = account+\"_\"+period\n",
        "AP_202103_202104.to_csv(label+\".csv\", index=False)\n",
        "# files.download(label+\".csv\")"
      ],
      "metadata": {
        "id": "XuzvZjU9N0NC",
        "colab": {
          "base_uri": "https://localhost:8080/",
          "height": 17
        },
        "outputId": "269c6418-30c7-48fb-9a88-6f10772f2e6f"
      },
      "execution_count": 48,
      "outputs": [
        {
          "output_type": "display_data",
          "data": {
            "application/javascript": [
              "\n",
              "    async function download(id, filename, size) {\n",
              "      if (!google.colab.kernel.accessAllowed) {\n",
              "        return;\n",
              "      }\n",
              "      const div = document.createElement('div');\n",
              "      const label = document.createElement('label');\n",
              "      label.textContent = `Downloading \"${filename}\": `;\n",
              "      div.appendChild(label);\n",
              "      const progress = document.createElement('progress');\n",
              "      progress.max = size;\n",
              "      div.appendChild(progress);\n",
              "      document.body.appendChild(div);\n",
              "\n",
              "      const buffers = [];\n",
              "      let downloaded = 0;\n",
              "\n",
              "      const channel = await google.colab.kernel.comms.open(id);\n",
              "      // Send a message to notify the kernel that we're ready.\n",
              "      channel.send({})\n",
              "\n",
              "      for await (const message of channel.messages) {\n",
              "        // Send a message to notify the kernel that we're ready.\n",
              "        channel.send({})\n",
              "        if (message.buffers) {\n",
              "          for (const buffer of message.buffers) {\n",
              "            buffers.push(buffer);\n",
              "            downloaded += buffer.byteLength;\n",
              "            progress.value = downloaded;\n",
              "          }\n",
              "        }\n",
              "      }\n",
              "      const blob = new Blob(buffers, {type: 'application/binary'});\n",
              "      const a = document.createElement('a');\n",
              "      a.href = window.URL.createObjectURL(blob);\n",
              "      a.download = filename;\n",
              "      div.appendChild(a);\n",
              "      a.click();\n",
              "      div.remove();\n",
              "    }\n",
              "  "
            ],
            "text/plain": [
              "<IPython.core.display.Javascript object>"
            ]
          },
          "metadata": {}
        },
        {
          "output_type": "display_data",
          "data": {
            "application/javascript": [
              "download(\"download_64ef25e4-4500-4b32-ac30-eba439e4cfc8\", \"AP_MarchApril2021.csv\", 1029678)"
            ],
            "text/plain": [
              "<IPython.core.display.Javascript object>"
            ]
          },
          "metadata": {}
        }
      ]
    },
    {
      "cell_type": "code",
      "source": [
        "account = \"BBC\"\n",
        "\n",
        "BBC_202103_202104 = pd.read_csv('/content/BBCWorld_covid_202103170000_202104170000.csv')\n",
        "BBC_202103_202104 = BBC_202103_202104.append(pd.read_csv('/content/BBCWorld_vaccine_202103170000_202104170000.csv'),\n",
        "                                           ignore_index=True)\n",
        "BBC_202103_202104['account'] = 'BBC'\n",
        "BBC_202103_202104['period'] = period\n",
        "\n",
        "label = account+\"_\"+period\n",
        "BBC_202103_202104.to_csv(label+\".csv\", index=False)\n",
        "# files.download(label+\".csv\")"
      ],
      "metadata": {
        "id": "224895S8P9V0",
        "colab": {
          "base_uri": "https://localhost:8080/",
          "height": 17
        },
        "outputId": "84d1b945-88d6-45e7-db8a-31fab97f9f3f"
      },
      "execution_count": 49,
      "outputs": [
        {
          "output_type": "display_data",
          "data": {
            "application/javascript": [
              "\n",
              "    async function download(id, filename, size) {\n",
              "      if (!google.colab.kernel.accessAllowed) {\n",
              "        return;\n",
              "      }\n",
              "      const div = document.createElement('div');\n",
              "      const label = document.createElement('label');\n",
              "      label.textContent = `Downloading \"${filename}\": `;\n",
              "      div.appendChild(label);\n",
              "      const progress = document.createElement('progress');\n",
              "      progress.max = size;\n",
              "      div.appendChild(progress);\n",
              "      document.body.appendChild(div);\n",
              "\n",
              "      const buffers = [];\n",
              "      let downloaded = 0;\n",
              "\n",
              "      const channel = await google.colab.kernel.comms.open(id);\n",
              "      // Send a message to notify the kernel that we're ready.\n",
              "      channel.send({})\n",
              "\n",
              "      for await (const message of channel.messages) {\n",
              "        // Send a message to notify the kernel that we're ready.\n",
              "        channel.send({})\n",
              "        if (message.buffers) {\n",
              "          for (const buffer of message.buffers) {\n",
              "            buffers.push(buffer);\n",
              "            downloaded += buffer.byteLength;\n",
              "            progress.value = downloaded;\n",
              "          }\n",
              "        }\n",
              "      }\n",
              "      const blob = new Blob(buffers, {type: 'application/binary'});\n",
              "      const a = document.createElement('a');\n",
              "      a.href = window.URL.createObjectURL(blob);\n",
              "      a.download = filename;\n",
              "      div.appendChild(a);\n",
              "      a.click();\n",
              "      div.remove();\n",
              "    }\n",
              "  "
            ],
            "text/plain": [
              "<IPython.core.display.Javascript object>"
            ]
          },
          "metadata": {}
        },
        {
          "output_type": "display_data",
          "data": {
            "application/javascript": [
              "download(\"download_6eac1c0e-76a4-4c07-b280-0e2eefbbc744\", \"BBC_MarchApril2021.csv\", 781208)"
            ],
            "text/plain": [
              "<IPython.core.display.Javascript object>"
            ]
          },
          "metadata": {}
        }
      ]
    },
    {
      "cell_type": "code",
      "source": [
        "account = \"CGTN\"\n",
        "\n",
        "CGTN_202103_202104 = pd.read_csv('/content/CGTNOfficial_covid_202103170000_202104170000.csv')\n",
        "CGTN_202103_202104 = CGTN_202103_202104.append(pd.read_csv('/content/CGTNOfficial_vaccine_202103170000_202104170000.csv'),\n",
        "                                           ignore_index=True)\n",
        "CGTN_202103_202104['account'] = 'CGTN'\n",
        "CGTN_202103_202104['period'] = period\n",
        "\n",
        "label = account+\"_\"+period\n",
        "CGTN_202103_202104.to_csv(label+\".csv\", index=False)\n",
        "# files.download(label+\".csv\")"
      ],
      "metadata": {
        "id": "SzRd5U8AR92G",
        "colab": {
          "base_uri": "https://localhost:8080/",
          "height": 17
        },
        "outputId": "3cec60d7-bbb0-43bb-a0c8-c9cd4486e098"
      },
      "execution_count": 50,
      "outputs": [
        {
          "output_type": "display_data",
          "data": {
            "application/javascript": [
              "\n",
              "    async function download(id, filename, size) {\n",
              "      if (!google.colab.kernel.accessAllowed) {\n",
              "        return;\n",
              "      }\n",
              "      const div = document.createElement('div');\n",
              "      const label = document.createElement('label');\n",
              "      label.textContent = `Downloading \"${filename}\": `;\n",
              "      div.appendChild(label);\n",
              "      const progress = document.createElement('progress');\n",
              "      progress.max = size;\n",
              "      div.appendChild(progress);\n",
              "      document.body.appendChild(div);\n",
              "\n",
              "      const buffers = [];\n",
              "      let downloaded = 0;\n",
              "\n",
              "      const channel = await google.colab.kernel.comms.open(id);\n",
              "      // Send a message to notify the kernel that we're ready.\n",
              "      channel.send({})\n",
              "\n",
              "      for await (const message of channel.messages) {\n",
              "        // Send a message to notify the kernel that we're ready.\n",
              "        channel.send({})\n",
              "        if (message.buffers) {\n",
              "          for (const buffer of message.buffers) {\n",
              "            buffers.push(buffer);\n",
              "            downloaded += buffer.byteLength;\n",
              "            progress.value = downloaded;\n",
              "          }\n",
              "        }\n",
              "      }\n",
              "      const blob = new Blob(buffers, {type: 'application/binary'});\n",
              "      const a = document.createElement('a');\n",
              "      a.href = window.URL.createObjectURL(blob);\n",
              "      a.download = filename;\n",
              "      div.appendChild(a);\n",
              "      a.click();\n",
              "      div.remove();\n",
              "    }\n",
              "  "
            ],
            "text/plain": [
              "<IPython.core.display.Javascript object>"
            ]
          },
          "metadata": {}
        },
        {
          "output_type": "display_data",
          "data": {
            "application/javascript": [
              "download(\"download_6ac3d916-f9c6-41dd-91c9-c7cfa6a7fcc3\", \"CGTN_MarchApril2021.csv\", 3858989)"
            ],
            "text/plain": [
              "<IPython.core.display.Javascript object>"
            ]
          },
          "metadata": {}
        }
      ]
    },
    {
      "cell_type": "code",
      "source": [
        "account = \"CNN\"\n",
        "\n",
        "CNN_202103_202104 = pd.read_csv('/content/CNN_covid_202103170000_202104170000.csv')\n",
        "CNN_202103_202104 = CNN_202103_202104.append(pd.read_csv('/content/CNN_vaccine_202103170000_202104170000.csv'),\n",
        "                                           ignore_index=True)\n",
        "CNN_202103_202104['account'] = 'CNN'\n",
        "CNN_202103_202104['period'] = period\n",
        "\n",
        "label = account+\"_\"+period\n",
        "CNN_202103_202104.to_csv(label+\".csv\", index=False)\n",
        "# files.download(label+\".csv\")"
      ],
      "metadata": {
        "id": "v7iorBisUr7_",
        "colab": {
          "base_uri": "https://localhost:8080/",
          "height": 17
        },
        "outputId": "4903f961-e9e7-4664-f858-5661efa63021"
      },
      "execution_count": 51,
      "outputs": [
        {
          "output_type": "display_data",
          "data": {
            "application/javascript": [
              "\n",
              "    async function download(id, filename, size) {\n",
              "      if (!google.colab.kernel.accessAllowed) {\n",
              "        return;\n",
              "      }\n",
              "      const div = document.createElement('div');\n",
              "      const label = document.createElement('label');\n",
              "      label.textContent = `Downloading \"${filename}\": `;\n",
              "      div.appendChild(label);\n",
              "      const progress = document.createElement('progress');\n",
              "      progress.max = size;\n",
              "      div.appendChild(progress);\n",
              "      document.body.appendChild(div);\n",
              "\n",
              "      const buffers = [];\n",
              "      let downloaded = 0;\n",
              "\n",
              "      const channel = await google.colab.kernel.comms.open(id);\n",
              "      // Send a message to notify the kernel that we're ready.\n",
              "      channel.send({})\n",
              "\n",
              "      for await (const message of channel.messages) {\n",
              "        // Send a message to notify the kernel that we're ready.\n",
              "        channel.send({})\n",
              "        if (message.buffers) {\n",
              "          for (const buffer of message.buffers) {\n",
              "            buffers.push(buffer);\n",
              "            downloaded += buffer.byteLength;\n",
              "            progress.value = downloaded;\n",
              "          }\n",
              "        }\n",
              "      }\n",
              "      const blob = new Blob(buffers, {type: 'application/binary'});\n",
              "      const a = document.createElement('a');\n",
              "      a.href = window.URL.createObjectURL(blob);\n",
              "      a.download = filename;\n",
              "      div.appendChild(a);\n",
              "      a.click();\n",
              "      div.remove();\n",
              "    }\n",
              "  "
            ],
            "text/plain": [
              "<IPython.core.display.Javascript object>"
            ]
          },
          "metadata": {}
        },
        {
          "output_type": "display_data",
          "data": {
            "application/javascript": [
              "download(\"download_9efafc45-a0eb-4429-8a8f-95d68fd2b16d\", \"CNN_MarchApril2021.csv\", 1664429)"
            ],
            "text/plain": [
              "<IPython.core.display.Javascript object>"
            ]
          },
          "metadata": {}
        }
      ]
    },
    {
      "cell_type": "code",
      "source": [
        "account = \"R\"\n",
        "\n",
        "R_202103_202104 = pd.read_csv('/content/Reuters_covid_202103170000_202104170000.csv')\n",
        "R_202103_202104 = R_202103_202104.append(pd.read_csv('/content/Reuters_vaccine_202103170000_202104170000.csv'),\n",
        "                                           ignore_index=True)\n",
        "R_202103_202104['account'] = 'R'\n",
        "R_202103_202104['period'] = period\n",
        "\n",
        "label = account+\"_\"+period\n",
        "R_202103_202104.to_csv(label+\".csv\", index=False)\n",
        "# files.download(label+\".csv\")"
      ],
      "metadata": {
        "id": "DFcDFMoOV3NM",
        "colab": {
          "base_uri": "https://localhost:8080/",
          "height": 17
        },
        "outputId": "718dcaa9-c8bd-4c2e-93f4-714b4d32c2a3"
      },
      "execution_count": 52,
      "outputs": [
        {
          "output_type": "display_data",
          "data": {
            "application/javascript": [
              "\n",
              "    async function download(id, filename, size) {\n",
              "      if (!google.colab.kernel.accessAllowed) {\n",
              "        return;\n",
              "      }\n",
              "      const div = document.createElement('div');\n",
              "      const label = document.createElement('label');\n",
              "      label.textContent = `Downloading \"${filename}\": `;\n",
              "      div.appendChild(label);\n",
              "      const progress = document.createElement('progress');\n",
              "      progress.max = size;\n",
              "      div.appendChild(progress);\n",
              "      document.body.appendChild(div);\n",
              "\n",
              "      const buffers = [];\n",
              "      let downloaded = 0;\n",
              "\n",
              "      const channel = await google.colab.kernel.comms.open(id);\n",
              "      // Send a message to notify the kernel that we're ready.\n",
              "      channel.send({})\n",
              "\n",
              "      for await (const message of channel.messages) {\n",
              "        // Send a message to notify the kernel that we're ready.\n",
              "        channel.send({})\n",
              "        if (message.buffers) {\n",
              "          for (const buffer of message.buffers) {\n",
              "            buffers.push(buffer);\n",
              "            downloaded += buffer.byteLength;\n",
              "            progress.value = downloaded;\n",
              "          }\n",
              "        }\n",
              "      }\n",
              "      const blob = new Blob(buffers, {type: 'application/binary'});\n",
              "      const a = document.createElement('a');\n",
              "      a.href = window.URL.createObjectURL(blob);\n",
              "      a.download = filename;\n",
              "      div.appendChild(a);\n",
              "      a.click();\n",
              "      div.remove();\n",
              "    }\n",
              "  "
            ],
            "text/plain": [
              "<IPython.core.display.Javascript object>"
            ]
          },
          "metadata": {}
        },
        {
          "output_type": "display_data",
          "data": {
            "application/javascript": [
              "download(\"download_3c8067ba-bc4f-4377-b9d5-82b5c4048b94\", \"R_MarchApril2021.csv\", 8899555)"
            ],
            "text/plain": [
              "<IPython.core.display.Javascript object>"
            ]
          },
          "metadata": {}
        }
      ]
    },
    {
      "cell_type": "code",
      "source": [
        "account = \"XHN\"\n",
        "\n",
        "XHN_202103_202104 = pd.read_csv('/content/XHNews_covid_202103170000_202104170000.csv')\n",
        "XHN_202103_202104 = XHN_202103_202104.append(pd.read_csv('/content/XHNews_vaccine_202103170000_202104170000.csv'),\n",
        "                                           ignore_index=True)\n",
        "XHN_202103_202104['account'] = 'XHN'\n",
        "XHN_202103_202104['period'] = period\n",
        "\n",
        "label = account+\"_\"+period\n",
        "XHN_202103_202104.to_csv(label+\".csv\", index=False)\n",
        "# files.download(label+\".csv\")"
      ],
      "metadata": {
        "id": "v_DdKq4_V_-T",
        "colab": {
          "base_uri": "https://localhost:8080/",
          "height": 17
        },
        "outputId": "a7830698-0115-46a3-c7db-aa3ec58adb1f"
      },
      "execution_count": 53,
      "outputs": [
        {
          "output_type": "display_data",
          "data": {
            "application/javascript": [
              "\n",
              "    async function download(id, filename, size) {\n",
              "      if (!google.colab.kernel.accessAllowed) {\n",
              "        return;\n",
              "      }\n",
              "      const div = document.createElement('div');\n",
              "      const label = document.createElement('label');\n",
              "      label.textContent = `Downloading \"${filename}\": `;\n",
              "      div.appendChild(label);\n",
              "      const progress = document.createElement('progress');\n",
              "      progress.max = size;\n",
              "      div.appendChild(progress);\n",
              "      document.body.appendChild(div);\n",
              "\n",
              "      const buffers = [];\n",
              "      let downloaded = 0;\n",
              "\n",
              "      const channel = await google.colab.kernel.comms.open(id);\n",
              "      // Send a message to notify the kernel that we're ready.\n",
              "      channel.send({})\n",
              "\n",
              "      for await (const message of channel.messages) {\n",
              "        // Send a message to notify the kernel that we're ready.\n",
              "        channel.send({})\n",
              "        if (message.buffers) {\n",
              "          for (const buffer of message.buffers) {\n",
              "            buffers.push(buffer);\n",
              "            downloaded += buffer.byteLength;\n",
              "            progress.value = downloaded;\n",
              "          }\n",
              "        }\n",
              "      }\n",
              "      const blob = new Blob(buffers, {type: 'application/binary'});\n",
              "      const a = document.createElement('a');\n",
              "      a.href = window.URL.createObjectURL(blob);\n",
              "      a.download = filename;\n",
              "      div.appendChild(a);\n",
              "      a.click();\n",
              "      div.remove();\n",
              "    }\n",
              "  "
            ],
            "text/plain": [
              "<IPython.core.display.Javascript object>"
            ]
          },
          "metadata": {}
        },
        {
          "output_type": "display_data",
          "data": {
            "application/javascript": [
              "download(\"download_ff0bfc07-a2eb-4522-a6e1-47643d970991\", \"XHN_MarchApril2021.csv\", 2339362)"
            ],
            "text/plain": [
              "<IPython.core.display.Javascript object>"
            ]
          },
          "metadata": {}
        }
      ]
    },
    {
      "cell_type": "markdown",
      "source": [
        "## USA: MarchApril2021"
      ],
      "metadata": {
        "id": "mDcKUEWBnTB6"
      }
    },
    {
      "cell_type": "code",
      "source": [
        "country = \"USA\"\n",
        "\n",
        "USA_202103_202104 = AJ_202103_202104.append(AP_202103_202104, ignore_index=True)\n",
        "USA_202103_202104 = USA_202103_202104.append(BBC_202103_202104, ignore_index=True)\n",
        "USA_202103_202104 = USA_202103_202104.append(CNN_202103_202104, ignore_index=True)\n",
        "USA_202103_202104 = USA_202103_202104.append(R_202103_202104, ignore_index=True)\n",
        "\n",
        "label = country+\"_\"+period\n",
        "USA_202103_202104.to_csv(label+\".csv\", index=False)\n",
        "# files.download(label+\".csv\")\n",
        "print(len(USA_202103_202104))"
      ],
      "metadata": {
        "id": "xwuG0Iu5q5-7",
        "outputId": "99a3ed70-9679-43be-ccb9-4df953d84429",
        "colab": {
          "base_uri": "https://localhost:8080/",
          "height": 34
        }
      },
      "execution_count": 63,
      "outputs": [
        {
          "output_type": "display_data",
          "data": {
            "application/javascript": [
              "\n",
              "    async function download(id, filename, size) {\n",
              "      if (!google.colab.kernel.accessAllowed) {\n",
              "        return;\n",
              "      }\n",
              "      const div = document.createElement('div');\n",
              "      const label = document.createElement('label');\n",
              "      label.textContent = `Downloading \"${filename}\": `;\n",
              "      div.appendChild(label);\n",
              "      const progress = document.createElement('progress');\n",
              "      progress.max = size;\n",
              "      div.appendChild(progress);\n",
              "      document.body.appendChild(div);\n",
              "\n",
              "      const buffers = [];\n",
              "      let downloaded = 0;\n",
              "\n",
              "      const channel = await google.colab.kernel.comms.open(id);\n",
              "      // Send a message to notify the kernel that we're ready.\n",
              "      channel.send({})\n",
              "\n",
              "      for await (const message of channel.messages) {\n",
              "        // Send a message to notify the kernel that we're ready.\n",
              "        channel.send({})\n",
              "        if (message.buffers) {\n",
              "          for (const buffer of message.buffers) {\n",
              "            buffers.push(buffer);\n",
              "            downloaded += buffer.byteLength;\n",
              "            progress.value = downloaded;\n",
              "          }\n",
              "        }\n",
              "      }\n",
              "      const blob = new Blob(buffers, {type: 'application/binary'});\n",
              "      const a = document.createElement('a');\n",
              "      a.href = window.URL.createObjectURL(blob);\n",
              "      a.download = filename;\n",
              "      div.appendChild(a);\n",
              "      a.click();\n",
              "      div.remove();\n",
              "    }\n",
              "  "
            ],
            "text/plain": [
              "<IPython.core.display.Javascript object>"
            ]
          },
          "metadata": {}
        },
        {
          "output_type": "display_data",
          "data": {
            "application/javascript": [
              "download(\"download_cad13be6-2403-4f2e-8815-0943994eb07f\", \"USA_MarchApril2021.csv\", 14263131)"
            ],
            "text/plain": [
              "<IPython.core.display.Javascript object>"
            ]
          },
          "metadata": {}
        },
        {
          "output_type": "stream",
          "name": "stdout",
          "text": [
            "3932\n"
          ]
        }
      ]
    },
    {
      "cell_type": "markdown",
      "source": [
        "## China: MarchApril2021"
      ],
      "metadata": {
        "id": "J5kO0klTnanl"
      }
    },
    {
      "cell_type": "code",
      "source": [
        "country = \"China\"\n",
        "\n",
        "China_202103_202104 = CGTN_202103_202104.append(XHN_202103_202104, ignore_index=True)\n",
        "\n",
        "label = country+\"_\"+period\n",
        "China_202103_202104.to_csv(label+\".csv\", index=False)\n",
        "# files.download(label+\".csv\")\n",
        "print(len(China_202103_202104))"
      ],
      "metadata": {
        "id": "ZTqXKLE9r-ww",
        "outputId": "87b24590-eeed-4f8a-a3a9-96be58b382f0",
        "colab": {
          "base_uri": "https://localhost:8080/",
          "height": 34
        }
      },
      "execution_count": 64,
      "outputs": [
        {
          "output_type": "display_data",
          "data": {
            "application/javascript": [
              "\n",
              "    async function download(id, filename, size) {\n",
              "      if (!google.colab.kernel.accessAllowed) {\n",
              "        return;\n",
              "      }\n",
              "      const div = document.createElement('div');\n",
              "      const label = document.createElement('label');\n",
              "      label.textContent = `Downloading \"${filename}\": `;\n",
              "      div.appendChild(label);\n",
              "      const progress = document.createElement('progress');\n",
              "      progress.max = size;\n",
              "      div.appendChild(progress);\n",
              "      document.body.appendChild(div);\n",
              "\n",
              "      const buffers = [];\n",
              "      let downloaded = 0;\n",
              "\n",
              "      const channel = await google.colab.kernel.comms.open(id);\n",
              "      // Send a message to notify the kernel that we're ready.\n",
              "      channel.send({})\n",
              "\n",
              "      for await (const message of channel.messages) {\n",
              "        // Send a message to notify the kernel that we're ready.\n",
              "        channel.send({})\n",
              "        if (message.buffers) {\n",
              "          for (const buffer of message.buffers) {\n",
              "            buffers.push(buffer);\n",
              "            downloaded += buffer.byteLength;\n",
              "            progress.value = downloaded;\n",
              "          }\n",
              "        }\n",
              "      }\n",
              "      const blob = new Blob(buffers, {type: 'application/binary'});\n",
              "      const a = document.createElement('a');\n",
              "      a.href = window.URL.createObjectURL(blob);\n",
              "      a.download = filename;\n",
              "      div.appendChild(a);\n",
              "      a.click();\n",
              "      div.remove();\n",
              "    }\n",
              "  "
            ],
            "text/plain": [
              "<IPython.core.display.Javascript object>"
            ]
          },
          "metadata": {}
        },
        {
          "output_type": "display_data",
          "data": {
            "application/javascript": [
              "download(\"download_9e902c35-171d-4f0b-9d42-8755821fda37\", \"China_MarchApril2021.csv\", 6200105)"
            ],
            "text/plain": [
              "<IPython.core.display.Javascript object>"
            ]
          },
          "metadata": {}
        },
        {
          "output_type": "stream",
          "name": "stdout",
          "text": [
            "1330\n"
          ]
        }
      ]
    },
    {
      "cell_type": "markdown",
      "source": [
        "## China and USA: MarchApril2021"
      ],
      "metadata": {
        "id": "j2OLKek9xo_z"
      }
    },
    {
      "cell_type": "code",
      "source": [
        "country = \"China&USA\"\n",
        "\n",
        "ChinaUSA_202103_202104 = China_202103_202104.append(USA_202103_202104, ignore_index=True)\n",
        "\n",
        "label = country+\"_\"+period\n",
        "ChinaUSA_202103_202104.to_csv(label+\".csv\", index=False)\n",
        "files.download(label+\".csv\")\n",
        "print(len(ChinaUSA_202103_202104))"
      ],
      "metadata": {
        "outputId": "7937822c-c7c5-4c6b-d796-817a0a658812",
        "colab": {
          "base_uri": "https://localhost:8080/",
          "height": 34
        },
        "id": "glSPsYcwxo_0"
      },
      "execution_count": 65,
      "outputs": [
        {
          "output_type": "display_data",
          "data": {
            "application/javascript": [
              "\n",
              "    async function download(id, filename, size) {\n",
              "      if (!google.colab.kernel.accessAllowed) {\n",
              "        return;\n",
              "      }\n",
              "      const div = document.createElement('div');\n",
              "      const label = document.createElement('label');\n",
              "      label.textContent = `Downloading \"${filename}\": `;\n",
              "      div.appendChild(label);\n",
              "      const progress = document.createElement('progress');\n",
              "      progress.max = size;\n",
              "      div.appendChild(progress);\n",
              "      document.body.appendChild(div);\n",
              "\n",
              "      const buffers = [];\n",
              "      let downloaded = 0;\n",
              "\n",
              "      const channel = await google.colab.kernel.comms.open(id);\n",
              "      // Send a message to notify the kernel that we're ready.\n",
              "      channel.send({})\n",
              "\n",
              "      for await (const message of channel.messages) {\n",
              "        // Send a message to notify the kernel that we're ready.\n",
              "        channel.send({})\n",
              "        if (message.buffers) {\n",
              "          for (const buffer of message.buffers) {\n",
              "            buffers.push(buffer);\n",
              "            downloaded += buffer.byteLength;\n",
              "            progress.value = downloaded;\n",
              "          }\n",
              "        }\n",
              "      }\n",
              "      const blob = new Blob(buffers, {type: 'application/binary'});\n",
              "      const a = document.createElement('a');\n",
              "      a.href = window.URL.createObjectURL(blob);\n",
              "      a.download = filename;\n",
              "      div.appendChild(a);\n",
              "      a.click();\n",
              "      div.remove();\n",
              "    }\n",
              "  "
            ],
            "text/plain": [
              "<IPython.core.display.Javascript object>"
            ]
          },
          "metadata": {}
        },
        {
          "output_type": "display_data",
          "data": {
            "application/javascript": [
              "download(\"download_57d88344-b284-45bf-8a6e-10c4a20318e6\", \"China&USA_MarchApril2021.csv\", 20464057)"
            ],
            "text/plain": [
              "<IPython.core.display.Javascript object>"
            ]
          },
          "metadata": {}
        },
        {
          "output_type": "stream",
          "name": "stdout",
          "text": [
            "5262\n"
          ]
        }
      ]
    },
    {
      "cell_type": "markdown",
      "source": [
        "# All"
      ],
      "metadata": {
        "id": "oC1mZhSQy0dO"
      }
    },
    {
      "cell_type": "markdown",
      "source": [
        "## USA: all"
      ],
      "metadata": {
        "id": "1ryXnRxknhQj"
      }
    },
    {
      "cell_type": "code",
      "source": [
        "country = \"USA\"\n",
        "\n",
        "USA = USA_202001_202002.append(USA_202009_202010, ignore_index=True)\n",
        "USA = USA.append(USA_202103_202104, ignore_index=True)\n",
        "\n",
        "USA.to_csv(country+\".csv\", index=False)\n",
        "# files.download(country+\".csv\")\n",
        "print(len(USA))"
      ],
      "metadata": {
        "id": "0Xs2OQGasZIz",
        "outputId": "328facf5-fe27-4edd-9e77-a1bd24e36d5b",
        "colab": {
          "base_uri": "https://localhost:8080/",
          "height": 52
        }
      },
      "execution_count": 66,
      "outputs": [
        {
          "output_type": "display_data",
          "data": {
            "application/javascript": [
              "\n",
              "    async function download(id, filename, size) {\n",
              "      if (!google.colab.kernel.accessAllowed) {\n",
              "        return;\n",
              "      }\n",
              "      const div = document.createElement('div');\n",
              "      const label = document.createElement('label');\n",
              "      label.textContent = `Downloading \"${filename}\": `;\n",
              "      div.appendChild(label);\n",
              "      const progress = document.createElement('progress');\n",
              "      progress.max = size;\n",
              "      div.appendChild(progress);\n",
              "      document.body.appendChild(div);\n",
              "\n",
              "      const buffers = [];\n",
              "      let downloaded = 0;\n",
              "\n",
              "      const channel = await google.colab.kernel.comms.open(id);\n",
              "      // Send a message to notify the kernel that we're ready.\n",
              "      channel.send({})\n",
              "\n",
              "      for await (const message of channel.messages) {\n",
              "        // Send a message to notify the kernel that we're ready.\n",
              "        channel.send({})\n",
              "        if (message.buffers) {\n",
              "          for (const buffer of message.buffers) {\n",
              "            buffers.push(buffer);\n",
              "            downloaded += buffer.byteLength;\n",
              "            progress.value = downloaded;\n",
              "          }\n",
              "        }\n",
              "      }\n",
              "      const blob = new Blob(buffers, {type: 'application/binary'});\n",
              "      const a = document.createElement('a');\n",
              "      a.href = window.URL.createObjectURL(blob);\n",
              "      a.download = filename;\n",
              "      div.appendChild(a);\n",
              "      a.click();\n",
              "      div.remove();\n",
              "    }\n",
              "  "
            ],
            "text/plain": [
              "<IPython.core.display.Javascript object>"
            ]
          },
          "metadata": {}
        },
        {
          "output_type": "display_data",
          "data": {
            "application/javascript": [
              "download(\"download_fe851c7c-4946-4061-94eb-22564844bfa7\", \"USA.csv\", 53602979)"
            ],
            "text/plain": [
              "<IPython.core.display.Javascript object>"
            ]
          },
          "metadata": {}
        },
        {
          "output_type": "stream",
          "name": "stdout",
          "text": [
            "14553\n"
          ]
        }
      ]
    },
    {
      "cell_type": "markdown",
      "source": [
        "## China: all"
      ],
      "metadata": {
        "id": "VMKLUrc4nkbv"
      }
    },
    {
      "cell_type": "code",
      "source": [
        "country = \"China\"\n",
        "\n",
        "China = China_202001_202002.append(China_202009_202010, ignore_index=True)\n",
        "China = China.append(China_202103_202104, ignore_index=True)\n",
        "\n",
        "China.to_csv(country+\".csv\", index=False)\n",
        "# files.download(country+\".csv\")\n",
        "print(len(China))"
      ],
      "metadata": {
        "id": "hS7oyQkrvBOI",
        "outputId": "0d515802-9a79-4b74-d0c5-9e9d1d6b9fa4",
        "colab": {
          "base_uri": "https://localhost:8080/",
          "height": 52
        }
      },
      "execution_count": 68,
      "outputs": [
        {
          "output_type": "display_data",
          "data": {
            "application/javascript": [
              "\n",
              "    async function download(id, filename, size) {\n",
              "      if (!google.colab.kernel.accessAllowed) {\n",
              "        return;\n",
              "      }\n",
              "      const div = document.createElement('div');\n",
              "      const label = document.createElement('label');\n",
              "      label.textContent = `Downloading \"${filename}\": `;\n",
              "      div.appendChild(label);\n",
              "      const progress = document.createElement('progress');\n",
              "      progress.max = size;\n",
              "      div.appendChild(progress);\n",
              "      document.body.appendChild(div);\n",
              "\n",
              "      const buffers = [];\n",
              "      let downloaded = 0;\n",
              "\n",
              "      const channel = await google.colab.kernel.comms.open(id);\n",
              "      // Send a message to notify the kernel that we're ready.\n",
              "      channel.send({})\n",
              "\n",
              "      for await (const message of channel.messages) {\n",
              "        // Send a message to notify the kernel that we're ready.\n",
              "        channel.send({})\n",
              "        if (message.buffers) {\n",
              "          for (const buffer of message.buffers) {\n",
              "            buffers.push(buffer);\n",
              "            downloaded += buffer.byteLength;\n",
              "            progress.value = downloaded;\n",
              "          }\n",
              "        }\n",
              "      }\n",
              "      const blob = new Blob(buffers, {type: 'application/binary'});\n",
              "      const a = document.createElement('a');\n",
              "      a.href = window.URL.createObjectURL(blob);\n",
              "      a.download = filename;\n",
              "      div.appendChild(a);\n",
              "      a.click();\n",
              "      div.remove();\n",
              "    }\n",
              "  "
            ],
            "text/plain": [
              "<IPython.core.display.Javascript object>"
            ]
          },
          "metadata": {}
        },
        {
          "output_type": "display_data",
          "data": {
            "application/javascript": [
              "download(\"download_6047f417-563d-4fee-997a-0686f197e747\", \"China.csv\", 24807538)"
            ],
            "text/plain": [
              "<IPython.core.display.Javascript object>"
            ]
          },
          "metadata": {}
        },
        {
          "output_type": "stream",
          "name": "stdout",
          "text": [
            "5080\n"
          ]
        }
      ]
    },
    {
      "cell_type": "markdown",
      "source": [
        "## China and USA: all"
      ],
      "metadata": {
        "id": "1a63o_krn_fM"
      }
    },
    {
      "cell_type": "code",
      "source": [
        "country = \"China&USA\"\n",
        "\n",
        "ChinaUSA = China.append(USA, ignore_index=True)\n",
        "\n",
        "ChinaUSA.to_csv(country+\".csv\", index=False)\n",
        "# files.download(country+\".csv\")\n",
        "print(len(ChinaUSA))"
      ],
      "metadata": {
        "id": "IpBlQiDPvPMq",
        "outputId": "6b582643-db82-400c-f194-b468c4bec5c1",
        "colab": {
          "base_uri": "https://localhost:8080/",
          "height": 52
        }
      },
      "execution_count": 69,
      "outputs": [
        {
          "output_type": "display_data",
          "data": {
            "application/javascript": [
              "\n",
              "    async function download(id, filename, size) {\n",
              "      if (!google.colab.kernel.accessAllowed) {\n",
              "        return;\n",
              "      }\n",
              "      const div = document.createElement('div');\n",
              "      const label = document.createElement('label');\n",
              "      label.textContent = `Downloading \"${filename}\": `;\n",
              "      div.appendChild(label);\n",
              "      const progress = document.createElement('progress');\n",
              "      progress.max = size;\n",
              "      div.appendChild(progress);\n",
              "      document.body.appendChild(div);\n",
              "\n",
              "      const buffers = [];\n",
              "      let downloaded = 0;\n",
              "\n",
              "      const channel = await google.colab.kernel.comms.open(id);\n",
              "      // Send a message to notify the kernel that we're ready.\n",
              "      channel.send({})\n",
              "\n",
              "      for await (const message of channel.messages) {\n",
              "        // Send a message to notify the kernel that we're ready.\n",
              "        channel.send({})\n",
              "        if (message.buffers) {\n",
              "          for (const buffer of message.buffers) {\n",
              "            buffers.push(buffer);\n",
              "            downloaded += buffer.byteLength;\n",
              "            progress.value = downloaded;\n",
              "          }\n",
              "        }\n",
              "      }\n",
              "      const blob = new Blob(buffers, {type: 'application/binary'});\n",
              "      const a = document.createElement('a');\n",
              "      a.href = window.URL.createObjectURL(blob);\n",
              "      a.download = filename;\n",
              "      div.appendChild(a);\n",
              "      a.click();\n",
              "      div.remove();\n",
              "    }\n",
              "  "
            ],
            "text/plain": [
              "<IPython.core.display.Javascript object>"
            ]
          },
          "metadata": {}
        },
        {
          "output_type": "display_data",
          "data": {
            "application/javascript": [
              "download(\"download_cb549398-215a-465f-a72c-5265d37f4c1f\", \"China&USA.csv\", 78415088)"
            ],
            "text/plain": [
              "<IPython.core.display.Javascript object>"
            ]
          },
          "metadata": {}
        },
        {
          "output_type": "stream",
          "name": "stdout",
          "text": [
            "19633\n"
          ]
        }
      ]
    }
  ]
}