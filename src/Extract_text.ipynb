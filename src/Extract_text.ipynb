{
  "nbformat": 4,
  "nbformat_minor": 0,
  "metadata": {
    "colab": {
      "name": "progetto.ipynb",
      "provenance": [],
      "collapsed_sections": []
    },
    "kernelspec": {
      "name": "python3",
      "display_name": "Python 3"
    },
    "language_info": {
      "name": "python"
    }
  },
  "cells": [
    {
      "cell_type": "code",
      "execution_count": 56,
      "metadata": {
        "colab": {
          "base_uri": "https://localhost:8080/"
        },
        "id": "eF9L_FdqykZL",
        "outputId": "b433efd7-c5ae-4bd3-c7bd-0c6d99d444a0"
      },
      "outputs": [
        {
          "output_type": "stream",
          "name": "stdout",
          "text": [
            "Drive already mounted at /content/drive; to attempt to forcibly remount, call drive.mount(\"/content/drive\", force_remount=True).\n"
          ]
        }
      ],
      "source": [
        "from google.colab import drive\n",
        "drive.mount('/content/drive')"
      ]
    },
    {
      "cell_type": "code",
      "source": [
        "import requests \n",
        "import pandas as pd \n",
        "import time\n",
        "import re\n",
        "import string\n",
        "import nltk\n",
        "import numpy as np\n",
        "import math\n",
        "from nltk.corpus import stopwords\n",
        "\n",
        "nltk.download('stopwords')\n",
        "pd.set_option('display.max_colwidth', None)\n"
      ],
      "metadata": {
        "id": "Eiguk1S-03AK",
        "colab": {
          "base_uri": "https://localhost:8080/"
        },
        "outputId": "e39b1442-861d-4243-845d-95c8f7b1582d"
      },
      "execution_count": 57,
      "outputs": [
        {
          "output_type": "stream",
          "name": "stdout",
          "text": [
            "[nltk_data] Downloading package stopwords to /root/nltk_data...\n",
            "[nltk_data]   Package stopwords is already up-to-date!\n"
          ]
        }
      ]
    },
    {
      "cell_type": "code",
      "source": [
        "def isnotNaN(num):          #return true only if num is not Nan\n",
        "    return num == num "
      ],
      "metadata": {
        "id": "ERjfgbJHKDuJ"
      },
      "execution_count": 58,
      "outputs": []
    },
    {
      "cell_type": "code",
      "source": [
        "def extract_text(df):     # extract the text from the tweets, works only with .pkl file\n",
        "\n",
        "  list_strings = []\n",
        "  for index in range(len(df)):\n",
        "\n",
        "      #print(index)\n",
        "      if isnotNaN(df.loc[index]['retweeted_status']):             #if it is a RT I take the text from the original tweet\n",
        "        if (df.loc[index]['retweeted_status']['truncated']) == True :                   #if the text is truncated I take the full text\n",
        "          string = (df.loc[index]['retweeted_status']['extended_tweet'])[\"full_text\"]\n",
        "        else : \n",
        "          string = df.loc[index]['retweeted_status']['text']                            #if the text is not truncated I take simply the text\n",
        "      elif df.loc[index]['truncated'] == True :                   #if the text is truncated and it is not a RT I take the full text\n",
        "        string = (df.loc[index]['extended_tweet'])[\"full_text\"]\n",
        "      else : \n",
        "        string = df.loc[index]['text']                            #if the text is not truncated and it is not a RT I take simply the text\n",
        "        \n",
        "      #print(string)   \n",
        "      list_strings.append(string)\n",
        "\n",
        "\n",
        "  return list_strings"
      ],
      "metadata": {
        "id": "j4oUEkL_Sacz"
      },
      "execution_count": 68,
      "outputs": []
    },
    {
      "cell_type": "code",
      "metadata": {
        "id": "Z8Nrv5jv1e5W"
      },
      "source": [
        "def cleaner(tweet,word_list = stopwords.words('english')):\n",
        "    tweet = re.sub(\"@[A-Za-z0-9]+\",\"\",tweet) # remove mentions\n",
        "    tweet = re.sub(\"#[A-Za-z0-9]+\", \"\",tweet) # remove hashtags\n",
        "    tweet = re.sub(r\"(?:\\@|http?\\://|https?\\://|www)\\S+\", \"\", tweet) # remove http links\n",
        "    tweet = \" \".join(tweet.split())\n",
        "    tweet = str.lower(tweet) #to lowercase\n",
        "    table = str.maketrans(dict.fromkeys(string.punctuation)) \n",
        "    tweet = tweet.translate(table)# remove punctuation  \n",
        "\n",
        "    special_characters = ['rt','dr','“','rt','the','to','of','a','an','on','has','have','had','is','was','did','n','et','ha','lt','1','2','5']\n",
        "\n",
        "    tweet = tweet.split()      \n",
        "    tweet = ' '.join([ word for word in tweet if word not in word_list and word not in special_characters  ])   #remove useless words\n",
        "        \n",
        "    return tweet"
      ],
      "execution_count": 65,
      "outputs": []
    },
    {
      "cell_type": "code",
      "source": [
        "tweets_ap = pd.read_pickle(\"/content/drive/MyDrive/NS data project/AP/AP_covid_202103170000_202104170000.pkl\")\n",
        "df = tweets_ap.copy()\n",
        "#tweets_filtered[\"clean_text\"] = tweets_filtered[\"text\"].map(cleaner)\n",
        "#column_list = [\"text\",\"clean_text\"]\n",
        "#tweets_filtered = tweets_filtered[column_list]\n",
        "#tweets_filtered\n",
        "#display(tweets_filtered[\"clean_text\"])\n",
        "#print(tweets_filtered[\"clean_text\"].to_string())\n",
        "\n",
        "\n",
        "  "
      ],
      "metadata": {
        "id": "LA_c27qV03Wp"
      },
      "execution_count": 66,
      "outputs": []
    },
    {
      "cell_type": "code",
      "source": [
        "df_text = extract_text(df)\n",
        "cleaned_df_text = [cleaner(el) for el in df_text]\n",
        "cleaned_df_text[0:10]"
      ],
      "metadata": {
        "colab": {
          "base_uri": "https://localhost:8080/"
        },
        "id": "nUVIK6jeNnQk",
        "outputId": "47f02dce-f433-4ff2-a100-f4139db40d4c"
      },
      "execution_count": 70,
      "outputs": [
        {
          "output_type": "execute_result",
          "data": {
            "text/plain": [
              "['A child in a photo with President Joe Biden was misidentified on social media as George Floyd’s son. Misinformation also spread online about an enzyme used in COVID-19 vaccine research. Get the facts from AP’s Not Real News. https://t.co/oxvfLFNMUO',\n",
              " \"China's Vice Minister of Foreign Affairs tells @AP that U.S. policy on Beijing is “too negative,” saying it highlights confrontation over cooperation. he said that cooperation could be important as the Biden administration focuses on COVID and the economy. https://t.co/6zRbsXIdAv\",\n",
              " 'Tokyo Olympic organizers are again being forced to assure the world that the postponed games will open in just 100 days despite surging COVID-19 cases in Japan. https://t.co/hZ3kVrCy9p',\n",
              " 'France surpasses 100,000 COVID-19 deaths as it struggles to beat back a surge of infections driven by virus variants that are overwhelming its hospitals. https://t.co/Vr8G1IyC3p',\n",
              " 'St. Vincent officials are extremely worried about a COVID-19 outbreak as thousands of evacuees flee the eruption and crowd into shelters and private homes. The chief medical officer said about a dozen cases have been reported in recent days. https://t.co/brwjM6UTJK',\n",
              " 'What is a COVID-19 vaccine passport, and will I need one? It’s documentation that you were vaccinated, and could make it easier for you to take part in certain activities. https://t.co/7iiYmZpntP',\n",
              " 'BREAKING: U.S. jobless claims sink to 576,000, a post-COVID low, as layoffs ease with economy improving. https://t.co/Kahp5ZJWrC',\n",
              " \"Virus update: \\n• WHO: Europe surpasses 1 million virus deaths.\\n• Homeless Americans get a chance at COVID-19 shot.\\n• Indian cities close as new virus cases hit 200K.\\n• Bangkok nightlife reveals Thailand's virus stumbles.\\n\\nFollow all @AP coverage: https://t.co/VXkYBHXIdr\",\n",
              " 'An outbreak at nightspots in Bangkok has sent new infections surging, suggesting Thailand may have been lulled into a false sense of security before mass vaccinations for COVID-19 begin. https://t.co/URj6w06ar3',\n",
              " 'Johnson &amp; Johnson’s COVID-19 vaccine will remain in limbo a while longer. U.S. health advisers said they need more evidence to decide if a handful of exceedingly rare blood clots were linked to the shot — and if so, how big the risk really is. https://t.co/bfRONPju3b']"
            ]
          },
          "metadata": {},
          "execution_count": 70
        }
      ]
    }
  ]
}