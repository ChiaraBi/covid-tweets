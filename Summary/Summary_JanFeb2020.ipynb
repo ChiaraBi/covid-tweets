{
  "nbformat": 4,
  "nbformat_minor": 0,
  "metadata": {
    "colab": {
      "name": "Summary_JanFeb2020.ipynb",
      "provenance": [],
      "collapsed_sections": []
    },
    "kernelspec": {
      "name": "python3",
      "display_name": "Python 3"
    },
    "language_info": {
      "name": "python"
    }
  },
  "cells": [
    {
      "cell_type": "code",
      "source": [
        "#notebook to download the csv of edges and nodes of a given network\n",
        "import os\n",
        "import requests \n",
        "import time\n",
        "import string\n",
        "import networkx as nx\n",
        "import itertools\n",
        "import networkx as nx\n",
        "import pandas as pd\n",
        "import json\n",
        "import re\n",
        "import math\n",
        "import numpy as np\n",
        "import matplotlib.pyplot as plt\n",
        "from sklearn.feature_extraction.text import TfidfVectorizer\n",
        "import nltk\n",
        "from nltk.corpus import stopwords\n",
        "\n",
        "from nltk.corpus import wordnet as wn #importing it\n",
        "from nltk.stem.wordnet import WordNetLemmatizer #importing wordnet lemmatizer\n",
        "from nltk import pos_tag #part-of-speech-tagger\n",
        "from collections import defaultdict #defaultdict returns default value for non-existant keys you try to  access based on the function you passed in the constructor\n",
        "from google.colab import files\n",
        "\n",
        "pd.set_option('display.max_rows', None)\n",
        "pd.set_option('display.max_columns', None)\n",
        "pd.set_option('display.width', None)\n",
        "\n",
        "nltk.download('stopwords')"
      ],
      "metadata": {
        "colab": {
          "base_uri": "https://localhost:8080/"
        },
        "id": "DRcCylkZqDPi",
        "outputId": "69e515c8-5947-440c-ab5e-fc455ee3bb05"
      },
      "execution_count": 5,
      "outputs": [
        {
          "output_type": "stream",
          "name": "stdout",
          "text": [
            "[nltk_data] Downloading package stopwords to /root/nltk_data...\n",
            "[nltk_data]   Package stopwords is already up-to-date!\n"
          ]
        },
        {
          "output_type": "execute_result",
          "data": {
            "text/plain": [
              "True"
            ]
          },
          "metadata": {},
          "execution_count": 5
        }
      ]
    },
    {
      "cell_type": "code",
      "source": [
        "def extract_text(df):       #extract the text from the tweets and RT\n",
        "                            #works ONLY on .csv file\n",
        "  list_strings = []\n",
        "  for index in range(len(df)):\n",
        "    if index % 1000 == 0:\n",
        "      print(str(index)+' / '+str(len(df)))\n",
        "    text = df.loc[index]['text']                          #if it is nor trucated nor a RT  i take \"text\"\n",
        "    string = -1\n",
        "    if (df.loc[index,\"truncated\"] == True):                 #if it is trucated I take \"extended_tweet\"\n",
        "        string = df.loc[index,\"extended_tweet\"]\n",
        "    if type(df.loc[index,\"retweeted_status\"]) != float:     #if it is a RT I take retweeted_status\n",
        "        string = df.loc[index,\"retweeted_status\"]\n",
        "    if type(string) == str :\n",
        "        if(re.search('full_text\\':(.+?)https',string) != None):     #if I find \"full_text\"\n",
        "          s = re.search('full_text\\':(.+?)https',string).group(1)\n",
        "        if(re.search('text\\':(.+?)https',string)!= None):\n",
        "          s = re.search('text\\':(.+?)https',string).group(1)\n",
        "        else: \n",
        "          continue\n",
        "        list_strings.append(s)\n",
        "        #print(s)         \n",
        "    else:\n",
        "      list_strings.append(text)\n",
        "      #print(text)\n",
        "      \n",
        "\n",
        "  return list_strings"
      ],
      "metadata": {
        "id": "CGa_FVVGqDSJ"
      },
      "execution_count": 6,
      "outputs": []
    },
    {
      "cell_type": "code",
      "source": [
        "# Cleaning, lemmatising and pos tagging tweets\n",
        "\n",
        "nltk.download('words')\n",
        "WORDS = set(nltk.corpus.words.words()) #the last two lines serve to download the corpus of standard English language words\n",
        "nltk.download('stopwords') #downloading stopwords\n",
        "STOP_WORDS = set(nltk.corpus.stopwords.words(\"english\")) #taking the stop words from English language\n",
        "nltk.download('wordnet') #downloading wordnet\n",
        "nltk.download('averaged_perceptron_tagger') #downloading tagger\n",
        "tag_map = defaultdict(lambda : wn.NOUN) #here we define that wn.NOUN is the default value for the dict\n",
        "tag_map['J'] = wn.ADJ\n",
        "tag_map['V'] = wn.VERB\n",
        "tag_map['R'] = wn.ADV\n",
        "\n",
        "def lemma_pos_cleaner(tweet):\n",
        "\n",
        "    tweet = re.sub(\"@[A-Za-z0-9]+\",\"\",tweet) # remove mentions\n",
        "    tweet = re.sub(\"#[A-Za-z0-9]+\", \"\",tweet) # remove hashtags\n",
        "    tweet = re.sub(r\"(?:\\@|http?\\://|https?\\://|www)\\S+\", \"\", tweet) # remove http links\n",
        "    tweet = \" \".join(tweet.split())\n",
        "    tweet = str.lower(tweet) #to lowercase \n",
        "    tweet = re.sub(\"'\",\" \",tweet) # remove aphostrophe\n",
        "\n",
        "    #basically we use pos_tag function on tokens that we get by applying wordpunct tokenization\n",
        "    #to tweet (it separates all the words and symbols)\n",
        "    #then we pass the token along with it's wordnet pos value that we get from the tag_map dictionary (noun, adjective, verb or adverb) to the lemma function (the WordNetLemmatizer())\n",
        "    lemma_function = WordNetLemmatizer()\n",
        "    tweet = \" \".join(lemma_function.lemmatize(token, tag_map[tag[0]]) for token, tag in nltk.pos_tag(nltk.wordpunct_tokenize(tweet))) #lemmatize\n",
        "  \n",
        "\n",
        "    # francesco: I removed also all 2 letters words and added specific words, words that appears frequently but are discarded because they are not in the english language\n",
        "    SPECIFIC_WORDS = ['virus', 'coronavirus', 'covid19', 'covid', 'trump', 'hubei', 'beijing', 'xinjiang', 'jinping', 'korea', 'xinhua', 'india', 'taiwan','johnson','singapore', 'africa', 'japanese', 'france', 'asian', 'australia', 'french', 'asia', 'leishenshan', 'british', 'qingdao', 'fauci', 'america',  'california', 'sichuan', 'malaysia', 'huawei','thailand', 'shandong', 'italy', 'philippines', 'germany', 'facebook', 'african', 'shenzhen', 'tokyo', 'russian','uygur', '5g', 'pompeo', 'vietnam', 'australian', 'cambodia', 'zhejiang', 'yunnan', 'guangdong', 'korean', 'iran', 'washington']\n",
        "    tweet = \" \".join(w for w in nltk.wordpunct_tokenize(tweet) if (w in WORDS or w in SPECIFIC_WORDS) and len(w)>2 and w not in STOP_WORDS ) #remove stop words\n",
        "   \n",
        "    return tweet"
      ],
      "metadata": {
        "colab": {
          "base_uri": "https://localhost:8080/"
        },
        "id": "GD0LDoYVqDUh",
        "outputId": "d7734a32-ac31-4df8-bfa1-7d646176b058"
      },
      "execution_count": 7,
      "outputs": [
        {
          "output_type": "stream",
          "name": "stdout",
          "text": [
            "[nltk_data] Downloading package words to /root/nltk_data...\n",
            "[nltk_data]   Package words is already up-to-date!\n",
            "[nltk_data] Downloading package stopwords to /root/nltk_data...\n",
            "[nltk_data]   Package stopwords is already up-to-date!\n",
            "[nltk_data] Downloading package wordnet to /root/nltk_data...\n",
            "[nltk_data]   Package wordnet is already up-to-date!\n",
            "[nltk_data] Downloading package averaged_perceptron_tagger to\n",
            "[nltk_data]     /root/nltk_data...\n",
            "[nltk_data]   Package averaged_perceptron_tagger is already up-to-\n",
            "[nltk_data]       date!\n"
          ]
        }
      ]
    },
    {
      "cell_type": "code",
      "source": [
        "def frequency_dictionary(df):\n",
        "  unique_words = {}\n",
        "\n",
        "  for row in df:\n",
        "    for word in row.split():\n",
        "      #if the word is encountered for the first time add to dict as key and set its value to 0\n",
        "      unique_words.setdefault(word,0)\n",
        "      #increase the value (i.e the count) of the word by 1 every time it is encountered\n",
        "      unique_words[word] += 1\n",
        "\n",
        "  return unique_words"
      ],
      "metadata": {
        "id": "MAfOr8vR4P88"
      },
      "execution_count": 8,
      "outputs": []
    },
    {
      "cell_type": "code",
      "source": [
        "period = '_JanFeb2020'  # '', '_JanFeb2020', '_MarchApril2021', '_SeptOct2020'"
      ],
      "metadata": {
        "id": "o-GUlzAVOwk_"
      },
      "execution_count": 364,
      "outputs": []
    },
    {
      "cell_type": "code",
      "source": [
        "China = pd.read_csv('/content/China'+period+'.csv')\n",
        "USA = pd.read_csv('/content/USA'+period+'.csv')\n",
        "China_USA = pd.read_csv('/content/China&USA'+period+'.csv')"
      ],
      "metadata": {
        "id": "suPdLaUx1Ct8"
      },
      "execution_count": 365,
      "outputs": []
    },
    {
      "cell_type": "code",
      "source": [
        "# number of tweets:\n",
        "print('China: ', len(China))\n",
        "print('USA: ', len(USA))\n",
        "print('China&USA: ', len(China_USA))"
      ],
      "metadata": {
        "colab": {
          "base_uri": "https://localhost:8080/"
        },
        "id": "OeO9nxO6Br3x",
        "outputId": "55d63865-0f08-41fd-cd36-129f7764d63f"
      },
      "execution_count": 366,
      "outputs": [
        {
          "output_type": "stream",
          "name": "stdout",
          "text": [
            "China:  4876\n",
            "USA:  7519\n",
            "China&USA:  12395\n"
          ]
        }
      ]
    },
    {
      "cell_type": "code",
      "source": [
        "text_China = extract_text(China)\n",
        "text_USA = extract_text(USA)\n",
        "text_China_USA = extract_text(China_USA)"
      ],
      "metadata": {
        "colab": {
          "base_uri": "https://localhost:8080/"
        },
        "id": "-WI3Rz9T1Cxo",
        "outputId": "412ca697-99fa-43da-87e5-8c35f1e64824"
      },
      "execution_count": 367,
      "outputs": [
        {
          "output_type": "stream",
          "name": "stdout",
          "text": [
            "0 / 4876\n",
            "1000 / 4876\n",
            "2000 / 4876\n",
            "3000 / 4876\n",
            "4000 / 4876\n",
            "0 / 7519\n",
            "1000 / 7519\n",
            "2000 / 7519\n",
            "3000 / 7519\n",
            "4000 / 7519\n",
            "5000 / 7519\n",
            "6000 / 7519\n",
            "7000 / 7519\n",
            "0 / 12395\n",
            "1000 / 12395\n",
            "2000 / 12395\n",
            "3000 / 12395\n",
            "4000 / 12395\n",
            "5000 / 12395\n",
            "6000 / 12395\n",
            "7000 / 12395\n",
            "8000 / 12395\n",
            "9000 / 12395\n",
            "10000 / 12395\n",
            "11000 / 12395\n",
            "12000 / 12395\n"
          ]
        }
      ]
    },
    {
      "cell_type": "code",
      "source": [
        "cleaned_text_China = [lemma_pos_cleaner(txt) for txt in text_China]\n",
        "cleaned_text_USA = [lemma_pos_cleaner(txt) for txt in text_USA]\n",
        "cleaned_text_China_USA = [lemma_pos_cleaner(txt) for txt in text_China_USA]\n",
        "\n",
        "print('China:')\n",
        "print(cleaned_text_China[0:10])\n",
        "print()\n",
        "print('USA:')\n",
        "print(cleaned_text_USA[0:10])\n",
        "print()\n",
        "print('China&USA:')\n",
        "print(cleaned_text_China_USA[0:10])"
      ],
      "metadata": {
        "id": "6q4JI_jV1C2Q",
        "colab": {
          "base_uri": "https://localhost:8080/"
        },
        "outputId": "34dad3d1-f9ce-482c-c58a-cfe752471e22"
      },
      "execution_count": 368,
      "outputs": [
        {
          "output_type": "stream",
          "name": "stdout",
          "text": [
            "China:\n",
            "['talk university challenge china face deal misconception people medium watch', 'spring always bring along lively saturate sea colorful bloom flower look collection flower blossom across china enjoy upcoming new season', 'mean carnival brazil year one samba school take inspiration china', 'china world make great stride track infectious disease take unexpected turn make hard track', 'fake news story case covid lead protest evacuation people', 'transmission outside china graphic', 'world health organization announce lead team international expert currently china', 'outside china confirm case novel covid half cruise ship dock japan rest scatter among country mostly asia', 'five cargo aircraft airway head city beijing shanghai carry ton medical supply gratis include million mask hand send epidemic prevention supply purchase china government', 'case miss jinping chair lead body meeting covid control']\n",
            "\n",
            "USA:\n",
            "['shameful attack bus carry evacuee china coronavirus outbreak', 'china hubei say people province prison system also infect coronavirus', 'china coronavirus outbreak late update', 'china foreign journalist coronavirus death climb', 'china coronavirus outbreak late update', 'least people china die spread country', 'aid agency warn patient china run drug amid coronavirus', 'china revoke press credential three wall street journal coronavirus opinion piece deem racist late', 'least people china report recover coronavirus survivor recall ordeal', 'concern china mass surveillance system use combat spread coronavirus']\n",
            "\n",
            "China&USA:\n",
            "['talk university challenge china face deal misconception people medium watch', 'spring always bring along lively saturate sea colorful bloom flower look collection flower blossom across china enjoy upcoming new season', 'mean carnival brazil year one samba school take inspiration china', 'china world make great stride track infectious disease take unexpected turn make hard track', 'fake news story case covid lead protest evacuation people', 'transmission outside china graphic', 'world health organization announce lead team international expert currently china', 'outside china confirm case novel covid half cruise ship dock japan rest scatter among country mostly asia', 'five cargo aircraft airway head city beijing shanghai carry ton medical supply gratis include million mask hand send epidemic prevention supply purchase china government', 'case miss jinping chair lead body meeting covid control']\n"
          ]
        }
      ]
    },
    {
      "cell_type": "code",
      "source": [
        "freq_dict_China = frequency_dictionary(cleaned_text_China)\n",
        "freq_dict_China = dict(sorted(freq_dict_China.items(), key=lambda item: item[1], reverse = True))   #order from more frequent to less frequent word\n",
        "\n",
        "freq_dict_USA = frequency_dictionary(cleaned_text_USA)\n",
        "freq_dict_USA = dict(sorted(freq_dict_USA.items(), key=lambda item: item[1], reverse = True))   #order from more frequent to less frequent word\n",
        "\n",
        "freq_dict_China_USA = frequency_dictionary(cleaned_text_China_USA)\n",
        "freq_dict_China_USA = dict(sorted(freq_dict_China_USA.items(), key=lambda item: item[1], reverse = True))   #order from more frequent to less frequent word\n",
        "\n",
        "# number of words in the cleaned tweets:\n",
        "print('China: ', len(list(freq_dict_China)))\n",
        "print('USA: ', len(list(freq_dict_USA)))\n",
        "print('China&USA: ', len(list(freq_dict_China_USA)))"
      ],
      "metadata": {
        "colab": {
          "base_uri": "https://localhost:8080/"
        },
        "id": "MCiw0q7t4UER",
        "outputId": "d3cd24db-7322-45e8-e36b-2e9879cc6597"
      },
      "execution_count": 369,
      "outputs": [
        {
          "output_type": "stream",
          "name": "stdout",
          "text": [
            "China:  3617\n",
            "USA:  3380\n",
            "China&USA:  4883\n"
          ]
        }
      ]
    },
    {
      "cell_type": "code",
      "source": [
        "# Most frequent words\n",
        "print('China')\n",
        "print([key for key in freq_dict_China.keys() if freq_dict_China[key]>200])\n",
        "print()\n",
        "print('USA')\n",
        "print([key for key in freq_dict_USA.keys() if freq_dict_USA[key]>400])\n",
        "print()\n",
        "print('China&USA')\n",
        "print([key for key in freq_dict_China_USA.keys() if freq_dict_China_USA[key]>600])"
      ],
      "metadata": {
        "colab": {
          "base_uri": "https://localhost:8080/"
        },
        "id": "y29OU9Cd5Auv",
        "outputId": "d07afb8d-d87f-4eba-edc5-1aa4c7e8f044"
      },
      "execution_count": 370,
      "outputs": [
        {
          "output_type": "stream",
          "name": "stdout",
          "text": [
            "China\n",
            "['china', 'novel', 'hospital', 'coronavirus', 'case', 'outbreak', 'new', 'patient', 'fight', 'say', 'confirm', 'people', 'epidemic', 'medical', 'hubei', 'province', 'battle', 'support', 'report', 'health', 'live', 'city', 'amid', 'death', 'day', 'control', 'virus', 'year', 'take', 'effort', 'country', 'help', 'one', 'discharge', 'work']\n",
            "\n",
            "USA\n",
            "['coronavirus', 'china', 'outbreak', 'virus', 'case', 'say', 'new', 'spread', 'death', 'people', 'health', 'late', 'report', 'cruise', 'first', 'ship']\n",
            "\n",
            "China&USA\n",
            "['china', 'coronavirus', 'outbreak', 'case', 'new', 'novel', 'say', 'virus', 'hospital', 'people', 'death', 'spread', 'health', 'patient', 'confirm', 'report', 'fight', 'city', 'late']\n"
          ]
        }
      ]
    },
    {
      "cell_type": "markdown",
      "source": [
        "# less frequent words"
      ],
      "metadata": {
        "id": "9oHPXYbpINWh"
      }
    },
    {
      "cell_type": "code",
      "source": [
        "# less frequent words:\n",
        "print('Less frequent China: ', len([key for key in freq_dict_China.keys() if freq_dict_China[key]<10]))\n",
        "print('More frequent China: ', len([key for key in freq_dict_China.keys() if freq_dict_China[key]>=10]))\n",
        "less_frequent_words_China = [key for key in freq_dict_China.keys() if freq_dict_China[key]<10]\n",
        "\n",
        "print('Less frequent USA: ', len([key for key in freq_dict_USA.keys() if freq_dict_USA[key]<10]))\n",
        "print('More frequent USA:', len([key for key in freq_dict_USA.keys() if freq_dict_USA[key]>=10]))\n",
        "less_frequent_words_USA = [key for key in freq_dict_USA.keys() if freq_dict_USA[key]<10]\n",
        "\n",
        "print('Less frequent China&USA: ', len([key for key in freq_dict_China_USA.keys() if freq_dict_China_USA[key]<10]))\n",
        "print('More frequent China&USA: ', len([key for key in freq_dict_China_USA.keys() if freq_dict_China_USA[key]>=10]))\n",
        "less_frequent_words_China_USA = [key for key in freq_dict_China_USA.keys() if freq_dict_China_USA[key]<10]"
      ],
      "metadata": {
        "colab": {
          "base_uri": "https://localhost:8080/"
        },
        "id": "sgiQzaHD5zAb",
        "outputId": "329f5807-5475-4b59-f829-9b6e08094e52"
      },
      "execution_count": 371,
      "outputs": [
        {
          "output_type": "stream",
          "name": "stdout",
          "text": [
            "Less frequent China:  2702\n",
            "More frequent China:  915\n",
            "Less frequent USA:  2300\n",
            "More frequent USA: 1080\n",
            "Less frequent China&USA:  3291\n",
            "More frequent China&USA:  1592\n"
          ]
        }
      ]
    },
    {
      "cell_type": "code",
      "source": [
        "# discard less frequent words\n",
        "def clean_words(cleaned_text, unuseful_words):\n",
        "  re_cleaned_text = cleaned_text.copy()\n",
        "  for txt in range(len(re_cleaned_text)):\n",
        "    if txt % 2000 == 0:\n",
        "      print(txt, '/',len(re_cleaned_text))\n",
        "    w = re_cleaned_text[txt].split()\n",
        "    for word in unuseful_words:\n",
        "      while word in w:\n",
        "        w.remove(word)\n",
        "    re_cleaned_text[txt] = ' '.join(w)\n",
        "  return re_cleaned_text"
      ],
      "metadata": {
        "id": "wGHsUAKwkg4q"
      },
      "execution_count": 372,
      "outputs": []
    },
    {
      "cell_type": "code",
      "source": [
        "cleaned_mostfreq_text_China = clean_words(cleaned_text_China, less_frequent_words_China)\n",
        "cleaned_mostfreq_text_USA = clean_words(cleaned_text_USA, less_frequent_words_USA)\n",
        "cleaned_mostfreq_text_China_USA = clean_words(cleaned_text_China_USA, less_frequent_words_China_USA)"
      ],
      "metadata": {
        "colab": {
          "base_uri": "https://localhost:8080/"
        },
        "id": "ZmlqtzHp6lh8",
        "outputId": "6e6eb376-9de0-48ad-b3a2-f4a9bff80a91"
      },
      "execution_count": 373,
      "outputs": [
        {
          "output_type": "stream",
          "name": "stdout",
          "text": [
            "0 / 4843\n",
            "2000 / 4843\n",
            "4000 / 4843\n",
            "0 / 7519\n",
            "2000 / 7519\n",
            "4000 / 7519\n",
            "6000 / 7519\n",
            "0 / 12362\n",
            "2000 / 12362\n",
            "4000 / 12362\n",
            "6000 / 12362\n",
            "8000 / 12362\n",
            "10000 / 12362\n",
            "12000 / 12362\n"
          ]
        }
      ]
    },
    {
      "cell_type": "code",
      "source": [
        "freq_dict_China = frequency_dictionary(cleaned_mostfreq_text_China)\n",
        "freq_dict_China = dict(sorted(freq_dict_China.items(), key=lambda item: item[1], reverse = True))   #order from more frequent to less frequent word\n",
        "\n",
        "freq_dict_USA = frequency_dictionary(cleaned_mostfreq_text_USA)\n",
        "freq_dict_USA = dict(sorted(freq_dict_USA.items(), key=lambda item: item[1], reverse = True))   #order from more frequent to less frequent word\n",
        "\n",
        "freq_dict_China_USA = frequency_dictionary(cleaned_mostfreq_text_China_USA)\n",
        "freq_dict_China_USA = dict(sorted(freq_dict_China_USA.items(), key=lambda item: item[1], reverse = True))   #order from more frequent to less frequent word\n",
        "\n",
        "# number of words in the cleaned tweets:\n",
        "print('China: ', len(list(freq_dict_China)))\n",
        "print('USA: ', len(list(freq_dict_USA)))\n",
        "print('China&USA: ', len(list(freq_dict_China_USA)))"
      ],
      "metadata": {
        "colab": {
          "base_uri": "https://localhost:8080/"
        },
        "id": "2KHj5-o57f8y",
        "outputId": "fe40f30e-d463-43b0-9570-88ff97b84b38"
      },
      "execution_count": 374,
      "outputs": [
        {
          "output_type": "stream",
          "name": "stdout",
          "text": [
            "China:  915\n",
            "USA:  1080\n",
            "China&USA:  1592\n"
          ]
        }
      ]
    },
    {
      "cell_type": "markdown",
      "source": [
        "# Build Network"
      ],
      "metadata": {
        "id": "1davLfA3HNV2"
      }
    },
    {
      "cell_type": "code",
      "source": [
        "df_China = pd.DataFrame.from_dict(freq_dict_China, orient='index').reset_index()\n",
        "df_China.rename(columns = {'index':'Word', 0:'Count'}, inplace=True)\n",
        "df_China.sort_values(by=['Count'], ascending=False, inplace=True)\n",
        "df_China.reset_index(inplace=True)\n",
        "df_China.drop(columns=\"index\",inplace=True)\n",
        "\n",
        "df_USA = pd.DataFrame.from_dict(freq_dict_USA, orient='index').reset_index()\n",
        "df_USA.rename(columns = {'index':'Word', 0:'Count'}, inplace=True)\n",
        "df_USA.sort_values(by=['Count'], ascending=False, inplace=True)\n",
        "df_USA.reset_index(inplace=True)\n",
        "df_USA.drop(columns=\"index\",inplace=True)\n",
        "\n",
        "df_China_USA = pd.DataFrame.from_dict(freq_dict_China_USA, orient='index').reset_index()\n",
        "df_China_USA.rename(columns = {'index':'Word', 0:'Count'}, inplace=True)\n",
        "df_China_USA.sort_values(by=['Count'], ascending=False, inplace=True)\n",
        "df_China_USA.reset_index(inplace=True)\n",
        "df_China_USA.drop(columns=\"index\",inplace=True)\n",
        "\n",
        "print('China')\n",
        "print(df_China.iloc[0:30])\n",
        "print()\n",
        "print('USA')\n",
        "print(df_USA.iloc[0:30])\n",
        "print()\n",
        "print('China&USA')\n",
        "print(df_China_USA.iloc[0:30])\n",
        "print()"
      ],
      "metadata": {
        "colab": {
          "base_uri": "https://localhost:8080/"
        },
        "id": "IxPPnevj890b",
        "outputId": "57f82433-bf6d-452c-be15-773e02c5d20a"
      },
      "execution_count": 375,
      "outputs": [
        {
          "output_type": "stream",
          "name": "stdout",
          "text": [
            "China\n",
            "           Word  Count\n",
            "0         china   3018\n",
            "1         novel   1385\n",
            "2      hospital    969\n",
            "3   coronavirus    949\n",
            "4          case    863\n",
            "5      outbreak    846\n",
            "6           new    657\n",
            "7       patient    651\n",
            "8         fight    583\n",
            "9           say    521\n",
            "10      confirm    454\n",
            "11       people    426\n",
            "12     epidemic    403\n",
            "13      medical    378\n",
            "14        hubei    369\n",
            "15     province    355\n",
            "16       battle    311\n",
            "17      support    310\n",
            "18       report    299\n",
            "19       health    294\n",
            "20         live    294\n",
            "21         city    293\n",
            "22         amid    289\n",
            "23        death    288\n",
            "24          day    273\n",
            "25      control    266\n",
            "26        virus    263\n",
            "27         year    233\n",
            "28         take    223\n",
            "29       effort    213\n",
            "\n",
            "USA\n",
            "           Word  Count\n",
            "0   coronavirus   5135\n",
            "1         china   3946\n",
            "2      outbreak   1404\n",
            "3         virus   1132\n",
            "4          case   1110\n",
            "5           say    933\n",
            "6           new    906\n",
            "7        spread    858\n",
            "8         death    734\n",
            "9        people    624\n",
            "10       health    603\n",
            "11         late    459\n",
            "12       report    414\n",
            "13       cruise    414\n",
            "14        first    413\n",
            "15         ship    408\n",
            "16         city    394\n",
            "17      confirm    392\n",
            "18         toll    374\n",
            "19        world    370\n",
            "20   quarantine    369\n",
            "21        japan    366\n",
            "22        state    362\n",
            "23      country    348\n",
            "24       travel    348\n",
            "25       flight    335\n",
            "26         fear    329\n",
            "27          hit    321\n",
            "28         test    310\n",
            "29         rise    304\n",
            "\n",
            "China&USA\n",
            "           Word  Count\n",
            "0         china   6964\n",
            "1   coronavirus   6084\n",
            "2      outbreak   2250\n",
            "3          case   1973\n",
            "4           new   1563\n",
            "5         novel   1539\n",
            "6           say   1454\n",
            "7         virus   1395\n",
            "8      hospital   1177\n",
            "9        people   1050\n",
            "10        death   1022\n",
            "11       spread   1013\n",
            "12       health    897\n",
            "13      patient    851\n",
            "14      confirm    846\n",
            "15       report    713\n",
            "16        fight    707\n",
            "17         city    687\n",
            "18         late    638\n",
            "19        first    600\n",
            "20        hubei    588\n",
            "21          day    568\n",
            "22     epidemic    565\n",
            "23        world    562\n",
            "24      country    559\n",
            "25         amid    533\n",
            "26     province    525\n",
            "27      medical    495\n",
            "28     official    484\n",
            "29       infect    462\n",
            "\n"
          ]
        }
      ]
    },
    {
      "cell_type": "code",
      "source": [
        "keys_China = freq_dict_China.keys()  \n",
        "keys_USA = freq_dict_USA.keys()  \n",
        "keys_China_USA = freq_dict_China_USA.keys()  "
      ],
      "metadata": {
        "id": "zHmEpbLtr46D"
      },
      "execution_count": 376,
      "outputs": []
    },
    {
      "cell_type": "code",
      "source": [
        "def create_network(cleaned_text):\n",
        "  network = {}\n",
        "  #connect the word that appear in the same tweets\n",
        "  for row in cleaned_text:\n",
        "    combined_list = [word for word in str.split(row)]\n",
        "    #for pair in itertools.product(combined_list, combined_list):\n",
        "    #print(combined_list)\n",
        "    for pair in itertools.product(combined_list, combined_list):\n",
        "          #exclude self-loops and count each pair only once because our graph is undirected and we do not take self-loops into account\n",
        "          if pair[0]!=pair[1] and not(pair[::-1] in network):\n",
        "              network.setdefault(pair,0)\n",
        "              network[pair] += 1 \n",
        "  network_df = pd.DataFrame.from_dict(network, orient=\"index\")\n",
        "  network_df.columns = [\"weight\"]\n",
        "  network_df.sort_values(by=\"weight\",inplace=True, ascending=False)\n",
        "  return network, network_df"
      ],
      "metadata": {
        "id": "nUAWB6lT1DAd"
      },
      "execution_count": 377,
      "outputs": []
    },
    {
      "cell_type": "code",
      "source": [
        "network_China, network_df_China = create_network(cleaned_mostfreq_text_China)\n",
        "network_USA, network_df_USA = create_network(cleaned_mostfreq_text_USA)\n",
        "network_China_USA, network_df_China_USA = create_network(cleaned_mostfreq_text_China_USA)"
      ],
      "metadata": {
        "id": "7vR_r37vAGye"
      },
      "execution_count": 378,
      "outputs": []
    },
    {
      "cell_type": "code",
      "source": [
        "print('China:')\n",
        "print(network_df_China.iloc[0:30])\n",
        "print()\n",
        "print('USA:')\n",
        "print(network_df_USA.iloc[0:30])\n",
        "print()\n",
        "print('China&USA:')\n",
        "print(network_df_China_USA.iloc[0:30])\n",
        "print()"
      ],
      "metadata": {
        "colab": {
          "base_uri": "https://localhost:8080/"
        },
        "id": "RxMWDZua_b-l",
        "outputId": "a5af0c52-16d8-4afa-f0cf-6faf0231f9b8"
      },
      "execution_count": 379,
      "outputs": [
        {
          "output_type": "stream",
          "name": "stdout",
          "text": [
            "China:\n",
            "                         weight\n",
            "(china, novel)             1024\n",
            "(china, outbreak)           644\n",
            "(china, coronavirus)        619\n",
            "(confirm, case)             571\n",
            "(patient, hospital)         560\n",
            "(china, case)               527\n",
            "(china, fight)              502\n",
            "(novel, coronavirus)        483\n",
            "(new, case)                 479\n",
            "(china, new)                427\n",
            "(china, say)                422\n",
            "(novel, outbreak)           394\n",
            "(case, report)              368\n",
            "(case, death)               357\n",
            "(epidemic, china)           346\n",
            "(china, support)            339\n",
            "(china, hospital)           334\n",
            "(china, confirm)            311\n",
            "(new, confirm)              296\n",
            "(china, people)             281\n",
            "(china, province)           272\n",
            "(china, battle)             266\n",
            "(china, hubei)              258\n",
            "(report, new)               245\n",
            "(new, death)                245\n",
            "(makeshift, hospital)       233\n",
            "(fight, novel)              233\n",
            "(china, effort)             232\n",
            "(novel, hospital)           231\n",
            "(coronavirus, outbreak)     227\n",
            "\n",
            "USA:\n",
            "                         weight\n",
            "(china, coronavirus)       2552\n",
            "(coronavirus, outbreak)    1119\n",
            "(china, outbreak)           937\n",
            "(coronavirus, case)         923\n",
            "(china, virus)              713\n",
            "(spread, coronavirus)       682\n",
            "(new, coronavirus)          642\n",
            "(china, case)               627\n",
            "(say, coronavirus)          605\n",
            "(china, death)              596\n",
            "(china, new)                561\n",
            "(coronavirus, death)        534\n",
            "(china, say)                521\n",
            "(china, spread)             504\n",
            "(coronavirus, health)       467\n",
            "(people, coronavirus)       463\n",
            "(china, people)             426\n",
            "(cruise, ship)              375\n",
            "(china, late)               367\n",
            "(confirm, case)             364\n",
            "(coronavirus, late)         363\n",
            "(china, health)             360\n",
            "(death, toll)               358\n",
            "(travel, china)             349\n",
            "(china, toll)               327\n",
            "(coronavirus, confirm)      326\n",
            "(coronavirus, cruise)       325\n",
            "(coronavirus, first)        318\n",
            "(report, coronavirus)       310\n",
            "(coronavirus, ship)         306\n",
            "\n",
            "China&USA:\n",
            "                         weight\n",
            "(china, coronavirus)       3171\n",
            "(china, outbreak)          1581\n",
            "(coronavirus, outbreak)    1346\n",
            "(china, case)              1154\n",
            "(coronavirus, case)        1146\n",
            "(china, novel)             1109\n",
            "(china, new)                988\n",
            "(china, say)                943\n",
            "(confirm, case)             935\n",
            "(china, virus)              914\n",
            "(coronavirus, new)          806\n",
            "(china, death)              804\n",
            "(new, case)                 783\n",
            "(spread, coronavirus)       724\n",
            "(china, people)             707\n",
            "(say, coronavirus)          682\n",
            "(novel, coronavirus)        638\n",
            "(case, death)               625\n",
            "(china, spread)             603\n",
            "(patient, hospital)         594\n",
            "(coronavirus, death)        585\n",
            "(china, fight)              558\n",
            "(health, china)             555\n",
            "(case, report)              543\n",
            "(coronavirus, people)       526\n",
            "(health, coronavirus)       513\n",
            "(china, confirm)            511\n",
            "(china, report)             491\n",
            "(china, late)               489\n",
            "(new, death)                457\n",
            "\n"
          ]
        }
      ]
    },
    {
      "cell_type": "markdown",
      "source": [
        "#Graph\n"
      ],
      "metadata": {
        "id": "gfvo8x0Ku78D"
      }
    },
    {
      "cell_type": "code",
      "source": [
        "def get_graph(network):\n",
        "  up_weighted = []\n",
        "  for edge in network:\n",
        "      #we can filter edges by weight by uncommenting the next line and setting desired weight threshold\n",
        "      up_weighted.append((edge[0],edge[1],network[edge]))\n",
        "      \n",
        "  #print(network)\n",
        "  #print(up_weighted[0:10])\n",
        "  G = nx.Graph()\n",
        "  G.add_weighted_edges_from(up_weighted)\n",
        "  return G"
      ],
      "metadata": {
        "id": "2NGKuSuYAo-K"
      },
      "execution_count": 380,
      "outputs": []
    },
    {
      "cell_type": "code",
      "source": [
        "G_China = get_graph(network_China)\n",
        "G_USA = get_graph(network_USA)\n",
        "G_China_USA = get_graph(network_China_USA)"
      ],
      "metadata": {
        "id": "TbpTF19bBKJq"
      },
      "execution_count": 381,
      "outputs": []
    },
    {
      "cell_type": "code",
      "source": [
        "print('China:')\n",
        "print('Nodes: ',len(G_China.nodes()))\n",
        "print('Edges: ',len(G_China.edges()))\n",
        "print('Is connected: ',nx.is_connected(G_China))\n",
        "print()\n",
        "print('USA:')\n",
        "print('Nodes: ',len(G_USA.nodes()))\n",
        "print('Edges: ',len(G_USA.edges()))\n",
        "print('Is connected: ',nx.is_connected(G_USA))\n",
        "print()\n",
        "print('China&USA:')\n",
        "print('Nodes: ',len(G_China_USA.nodes()))\n",
        "print('Edges: ',len(G_China_USA.edges()))\n",
        "print('Is connected: ',nx.is_connected(G_China_USA))"
      ],
      "metadata": {
        "id": "W178ljb9rM6Z",
        "colab": {
          "base_uri": "https://localhost:8080/"
        },
        "outputId": "cd4ede99-fb66-4bf7-8dd9-d01cbcfad824"
      },
      "execution_count": 382,
      "outputs": [
        {
          "output_type": "stream",
          "name": "stdout",
          "text": [
            "China:\n",
            "Nodes:  915\n",
            "Edges:  60917\n",
            "Is connected:  True\n",
            "\n",
            "USA:\n",
            "Nodes:  1080\n",
            "Edges:  61951\n",
            "Is connected:  True\n",
            "\n",
            "China&USA:\n",
            "Nodes:  1592\n",
            "Edges:  131038\n",
            "Is connected:  True\n"
          ]
        }
      ]
    },
    {
      "cell_type": "markdown",
      "source": [
        "# PageRank"
      ],
      "metadata": {
        "id": "1LYNr4McLtWD"
      }
    },
    {
      "cell_type": "code",
      "execution_count": 383,
      "metadata": {
        "id": "P6qJVv9vHIr1"
      },
      "outputs": [],
      "source": [
        "# Calculating the pagerank on graph G, teleportation probability here is 0.15 but since the graph is strongly connected we can set it to zero if we want\n",
        "pr_China = nx.algorithms.pagerank(G_China,alpha = 1)\n",
        "pr_China = dict(sorted(pr_China.items(), key=lambda item: item[1],reverse  = True))\n",
        "\n",
        "pr_USA = nx.algorithms.pagerank(G_USA,alpha = 1)\n",
        "pr_USA = dict(sorted(pr_USA.items(), key=lambda item: item[1],reverse  = True))\n",
        "\n",
        "pr_China_USA = nx.algorithms.pagerank(G_China_USA,alpha = 1)\n",
        "pr_China_USA = dict(sorted(pr_China_USA.items(), key=lambda item: item[1],reverse  = True))"
      ]
    },
    {
      "cell_type": "code",
      "execution_count": 209,
      "metadata": {
        "id": "BcVoAXxqpqLd"
      },
      "outputs": [],
      "source": [
        "def threshold(vector,threshold):\n",
        "\n",
        "  l = [(el,vector[el]) for el in vector if vector[el] >= threshold ]\n",
        "\n",
        "  return pd.DataFrame(l)"
      ]
    },
    {
      "cell_type": "code",
      "source": [
        "def threshold_reverse(vector,threshold):\n",
        "\n",
        "  l = [(el,vector[el]) for el in vector if vector[el] < threshold ]\n",
        "\n",
        "  return pd.DataFrame(l)"
      ],
      "metadata": {
        "id": "7-UFIOEJL6bY"
      },
      "execution_count": 210,
      "outputs": []
    },
    {
      "cell_type": "code",
      "execution_count": 384,
      "metadata": {
        "colab": {
          "base_uri": "https://localhost:8080/"
        },
        "id": "7cUhquN72cI6",
        "outputId": "61ea1a5e-da16-4112-a930-146737a3262d"
      },
      "outputs": [
        {
          "output_type": "stream",
          "name": "stdout",
          "text": [
            "China:  516\n",
            "\n",
            "              0         1\n",
            "0         china  0.056357\n",
            "1         novel  0.027831\n",
            "2      hospital  0.019156\n",
            "3          case  0.017943\n",
            "4   coronavirus  0.017606\n",
            "5      outbreak  0.016558\n",
            "6           new  0.013158\n",
            "7       patient  0.013123\n",
            "8           say  0.011960\n",
            "9         fight  0.011002\n",
            "10      confirm  0.010191\n",
            "11       people  0.009482\n",
            "12      medical  0.008473\n",
            "13     province  0.008417\n",
            "14        hubei  0.008305\n",
            "15     epidemic  0.008215\n",
            "16       health  0.006991\n",
            "17         city  0.006711\n",
            "18       report  0.006655\n",
            "19        death  0.006641\n",
            "20      support  0.006538\n",
            "21       battle  0.006012\n",
            "22          day  0.005957\n",
            "23        virus  0.005790\n",
            "24          one  0.005378\n",
            "25         year  0.005230\n",
            "26      control  0.005179\n",
            "27         amid  0.005125\n",
            "28      country  0.004860\n",
            "29         take  0.004819\n",
            "\n",
            "USA:  509\n",
            "\n",
            "              0         1\n",
            "0   coronavirus  0.062184\n",
            "1         china  0.050582\n",
            "2      outbreak  0.021386\n",
            "3          case  0.016280\n",
            "4         virus  0.014761\n",
            "5           say  0.014180\n",
            "6           new  0.013261\n",
            "7        spread  0.011750\n",
            "8        health  0.011001\n",
            "9        people  0.010969\n",
            "10        death  0.010694\n",
            "11         city  0.006355\n",
            "12        world  0.006168\n",
            "13       travel  0.006068\n",
            "14      country  0.006036\n",
            "15        state  0.006019\n",
            "16        first  0.005981\n",
            "17       cruise  0.005967\n",
            "18         ship  0.005940\n",
            "19       report  0.005871\n",
            "20      confirm  0.005561\n",
            "21         toll  0.005555\n",
            "22   quarantine  0.005514\n",
            "23     official  0.005411\n",
            "24          day  0.005189\n",
            "25       global  0.004888\n",
            "26        japan  0.004788\n",
            "27         rise  0.004535\n",
            "28          two  0.004534\n",
            "29       infect  0.004494\n",
            "\n",
            "China&USA:  490\n",
            "\n",
            "              0         1\n",
            "0         china  0.050859\n",
            "1   coronavirus  0.040900\n",
            "2      outbreak  0.018453\n",
            "3          case  0.015934\n",
            "4         novel  0.013141\n",
            "5           say  0.012727\n",
            "6           new  0.012519\n",
            "7         virus  0.010445\n",
            "8        people  0.009824\n",
            "9      hospital  0.009494\n",
            "10       health  0.008785\n",
            "11        death  0.008336\n",
            "12       spread  0.007741\n",
            "13      patient  0.007156\n",
            "14      confirm  0.007044\n",
            "15         city  0.006226\n",
            "16       report  0.005834\n",
            "17        fight  0.005343\n",
            "18          day  0.005279\n",
            "19      country  0.005260\n",
            "20        hubei  0.005135\n",
            "21        world  0.005067\n",
            "22     province  0.004991\n",
            "23        first  0.004943\n",
            "24      medical  0.004654\n",
            "25     epidemic  0.004601\n",
            "26     official  0.004315\n",
            "27         year  0.004228\n",
            "28       infect  0.004012\n",
            "29       number  0.003991\n"
          ]
        }
      ],
      "source": [
        "thr = 0.0004\n",
        "print('China: ', len(threshold(pr_China,thr)))\n",
        "print()\n",
        "print(threshold(pr_China,thr).iloc[:30])\n",
        "print()\n",
        "print('USA: ', len(threshold(pr_USA,thr)))\n",
        "print()\n",
        "print(threshold(pr_USA,thr).iloc[:30])\n",
        "print()\n",
        "print('China&USA: ', len(threshold(pr_China_USA,thr)))\n",
        "print()\n",
        "print(threshold(pr_China_USA,thr).iloc[:30])"
      ]
    },
    {
      "cell_type": "markdown",
      "metadata": {
        "id": "mIqlZ2nZ9qKW"
      },
      "source": [
        "# TF-IDF"
      ]
    },
    {
      "cell_type": "code",
      "execution_count": 145,
      "metadata": {
        "id": "gVbC8VFA9pgw"
      },
      "outputs": [],
      "source": [
        "tfidf = TfidfVectorizer(ngram_range=(1,1))   # ngram range can be changed to obtain measures regarding n grams instead of single words\n",
        "\n",
        "X_China = tfidf.fit_transform(cleaned_mostfreq_text_China).toarray()    # entry (i,j) if Tfidf measure of word_list[j] in document i\n",
        "word_list_China = tfidf.get_feature_names_out()\n",
        "\n",
        "X_USA = tfidf.fit_transform(cleaned_mostfreq_text_USA).toarray()\n",
        "word_list_USA = tfidf.get_feature_names_out()\n",
        "\n",
        "X_China_USA = tfidf.fit_transform(cleaned_mostfreq_text_China_USA).toarray()\n",
        "word_list_China_USA = tfidf.get_feature_names_out()\n"
      ]
    },
    {
      "cell_type": "code",
      "execution_count": 146,
      "metadata": {
        "id": "8k8fcvKX-yah"
      },
      "outputs": [],
      "source": [
        "tfidf_df_China = pd.DataFrame(X_China,columns = word_list_China)\n",
        "\n",
        "tfidf_df_USA = pd.DataFrame(X_USA,columns = word_list_USA)\n",
        "\n",
        "tfidf_df_China_USA = pd.DataFrame(X_China_USA,columns = word_list_China_USA)"
      ]
    },
    {
      "cell_type": "code",
      "execution_count": 147,
      "metadata": {
        "id": "MUr9_93WCKsj"
      },
      "outputs": [],
      "source": [
        "tfidf_word_measure_China = np.mean(tfidf_df_China,axis = 0)\n",
        "tfidf_word_measure_China = tfidf_word_measure_China.sort_values(ascending = False)\n",
        "tfidf_word_measure_USA = np.mean(tfidf_df_USA,axis = 0)\n",
        "tfidf_word_measure_USA = tfidf_word_measure_USA.sort_values(ascending = False)\n",
        "tfidf_word_measure_China_USA = np.mean(tfidf_df_China_USA,axis = 0)\n",
        "tfidf_word_measure_China_USA = tfidf_word_measure_China_USA.sort_values(ascending = False)"
      ]
    },
    {
      "cell_type": "code",
      "source": [
        "print('China:')\n",
        "print(tfidf_word_measure_China[0:30])\n",
        "print()\n",
        "print('USA:')\n",
        "print(tfidf_word_measure_USA[0:30])\n",
        "print()\n",
        "print('China&USA:')\n",
        "print(tfidf_word_measure_China_USA[0:30])\n",
        "print()"
      ],
      "metadata": {
        "colab": {
          "base_uri": "https://localhost:8080/"
        },
        "id": "dknv21f3XimF",
        "outputId": "8150b361-0d8e-423e-aa5d-c13996d46656"
      },
      "execution_count": 148,
      "outputs": [
        {
          "output_type": "stream",
          "name": "stdout",
          "text": [
            "China:\n",
            "china          0.057308\n",
            "covid          0.032324\n",
            "case           0.029068\n",
            "novel          0.027613\n",
            "coronavirus    0.027073\n",
            "new            0.025310\n",
            "vaccine        0.022850\n",
            "hospital       0.022707\n",
            "say            0.020790\n",
            "outbreak       0.019451\n",
            "report         0.017290\n",
            "fight          0.016928\n",
            "patient        0.016614\n",
            "people         0.015870\n",
            "confirm        0.014493\n",
            "watch          0.014340\n",
            "health         0.014284\n",
            "country        0.013984\n",
            "day            0.013548\n",
            "live           0.013418\n",
            "province       0.012843\n",
            "first          0.012796\n",
            "city           0.012772\n",
            "death          0.012311\n",
            "year           0.012188\n",
            "epidemic       0.011602\n",
            "world          0.011589\n",
            "amid           0.011068\n",
            "medical        0.011029\n",
            "president      0.010939\n",
            "dtype: float64\n",
            "\n",
            "USA:\n",
            "coronavirus    0.049964\n",
            "covid          0.048798\n",
            "china          0.041922\n",
            "vaccine        0.031179\n",
            "case           0.028552\n",
            "say            0.027605\n",
            "new            0.026548\n",
            "report         0.017858\n",
            "death          0.017717\n",
            "outbreak       0.017472\n",
            "virus          0.016565\n",
            "test           0.015995\n",
            "spread         0.014530\n",
            "people         0.013397\n",
            "health         0.013062\n",
            "trump          0.012856\n",
            "first          0.012383\n",
            "late           0.012188\n",
            "president      0.011931\n",
            "day            0.011101\n",
            "million        0.010975\n",
            "state          0.010970\n",
            "rise           0.010859\n",
            "country        0.010296\n",
            "world          0.009803\n",
            "positive       0.009788\n",
            "pandemic       0.009250\n",
            "infection      0.009202\n",
            "hit            0.008676\n",
            "confirm        0.008293\n",
            "dtype: float64\n",
            "\n",
            "China&USA:\n",
            "china          0.045025\n",
            "coronavirus    0.043023\n",
            "covid          0.042952\n",
            "case           0.027940\n",
            "vaccine        0.027795\n",
            "new            0.025418\n",
            "say            0.024504\n",
            "outbreak       0.017287\n",
            "report         0.017267\n",
            "death          0.015772\n",
            "virus          0.013790\n",
            "people         0.013533\n",
            "test           0.013425\n",
            "health         0.013030\n",
            "first          0.012086\n",
            "novel          0.011913\n",
            "hospital       0.011772\n",
            "spread         0.011647\n",
            "day            0.011458\n",
            "president      0.011083\n",
            "country        0.011067\n",
            "late           0.010992\n",
            "million        0.010479\n",
            "trump          0.010238\n",
            "confirm        0.010151\n",
            "world          0.009885\n",
            "state          0.009265\n",
            "infection      0.009075\n",
            "city           0.009012\n",
            "patient        0.008779\n",
            "dtype: float64\n",
            "\n"
          ]
        }
      ]
    },
    {
      "cell_type": "markdown",
      "source": [
        "# reduced graph"
      ],
      "metadata": {
        "id": "4nkLA8k0LB7b"
      }
    },
    {
      "cell_type": "code",
      "source": [
        "# less important words:\n",
        "less_important_words_China = list(threshold_reverse(pr_China,thr)[0])\n",
        "\n",
        "less_important_words_USA = list(threshold_reverse(pr_USA,thr)[0])\n",
        "\n",
        "less_important_words_China_USA = list(threshold_reverse(pr_China_USA,thr)[0])"
      ],
      "metadata": {
        "id": "6ndwCL9oLpDA"
      },
      "execution_count": 385,
      "outputs": []
    },
    {
      "cell_type": "code",
      "source": [
        "cleaned_mostimp_text_China = clean_words(cleaned_mostfreq_text_China,less_important_words_China)\n",
        "cleaned_mostimp_text_USA = clean_words(cleaned_mostfreq_text_USA,less_important_words_USA)\n",
        "cleaned_mostimp_text_China_USA = clean_words(cleaned_mostfreq_text_China_USA,less_important_words_China_USA)"
      ],
      "metadata": {
        "colab": {
          "base_uri": "https://localhost:8080/"
        },
        "id": "TOA3UEyBunzo",
        "outputId": "d7c840ce-6820-49da-b533-74d7056be7fa"
      },
      "execution_count": 386,
      "outputs": [
        {
          "output_type": "stream",
          "name": "stdout",
          "text": [
            "0 / 4843\n",
            "2000 / 4843\n",
            "4000 / 4843\n",
            "0 / 7519\n",
            "2000 / 7519\n",
            "4000 / 7519\n",
            "6000 / 7519\n",
            "0 / 12362\n",
            "2000 / 12362\n",
            "4000 / 12362\n",
            "6000 / 12362\n",
            "8000 / 12362\n",
            "10000 / 12362\n",
            "12000 / 12362\n"
          ]
        }
      ]
    },
    {
      "cell_type": "code",
      "source": [
        "freq_dict_China = frequency_dictionary(cleaned_mostimp_text_China)\n",
        "freq_dict_China = dict(sorted(freq_dict_China.items(), key=lambda item: item[1], reverse = True))   #order from more frequent to less frequent word\n",
        "\n",
        "freq_dict_USA = frequency_dictionary(cleaned_mostimp_text_USA)\n",
        "freq_dict_USA = dict(sorted(freq_dict_USA.items(), key=lambda item: item[1], reverse = True))   #order from more frequent to less frequent word\n",
        "\n",
        "freq_dict_China_USA = frequency_dictionary(cleaned_mostimp_text_China_USA)\n",
        "freq_dict_China_USA = dict(sorted(freq_dict_China_USA.items(), key=lambda item: item[1], reverse = True))   #order from more frequent to less frequent word\n",
        "\n",
        "# number of words in the cleaned tweets:\n",
        "print('China: ', len(list(freq_dict_China)))\n",
        "print('USA: ', len(list(freq_dict_USA)))\n",
        "print('China&USA: ', len(list(freq_dict_China_USA)))"
      ],
      "metadata": {
        "colab": {
          "base_uri": "https://localhost:8080/"
        },
        "outputId": "2f21bec8-0483-40fc-816e-d1cabdf43789",
        "id": "X2ObCNtJLpDB"
      },
      "execution_count": 387,
      "outputs": [
        {
          "output_type": "stream",
          "name": "stdout",
          "text": [
            "China:  516\n",
            "USA:  509\n",
            "China&USA:  490\n"
          ]
        }
      ]
    },
    {
      "cell_type": "code",
      "source": [
        "df_China = pd.DataFrame.from_dict(freq_dict_China, orient='index').reset_index()\n",
        "df_China.rename(columns = {'index':'Word', 0:'Count'}, inplace=True)\n",
        "df_China.sort_values(by=['Count'], ascending=False, inplace=True)\n",
        "df_China.reset_index(inplace=True)\n",
        "df_China.drop(columns=\"index\",inplace=True)\n",
        "\n",
        "df_USA = pd.DataFrame.from_dict(freq_dict_USA, orient='index').reset_index()\n",
        "df_USA.rename(columns = {'index':'Word', 0:'Count'}, inplace=True)\n",
        "df_USA.sort_values(by=['Count'], ascending=False, inplace=True)\n",
        "df_USA.reset_index(inplace=True)\n",
        "df_USA.drop(columns=\"index\",inplace=True)\n",
        "\n",
        "df_China_USA = pd.DataFrame.from_dict(freq_dict_China_USA, orient='index').reset_index()\n",
        "df_China_USA.rename(columns = {'index':'Word', 0:'Count'}, inplace=True)\n",
        "df_China_USA.sort_values(by=['Count'], ascending=False, inplace=True)\n",
        "df_China_USA.reset_index(inplace=True)\n",
        "df_China_USA.drop(columns=\"index\",inplace=True)\n",
        "\n",
        "print('China')\n",
        "print(df_China.iloc[0:30])\n",
        "print()\n",
        "print('USA')\n",
        "print(df_USA.iloc[0:30])\n",
        "print()\n",
        "print('China&USA')\n",
        "print(df_China_USA.iloc[0:30])\n",
        "print()"
      ],
      "metadata": {
        "colab": {
          "base_uri": "https://localhost:8080/"
        },
        "outputId": "a415aef0-7c0f-4cfa-e1b2-6a00c49bfb38",
        "id": "DfrViAqzNnb9"
      },
      "execution_count": 388,
      "outputs": [
        {
          "output_type": "stream",
          "name": "stdout",
          "text": [
            "China\n",
            "           Word  Count\n",
            "0         china   3018\n",
            "1         novel   1385\n",
            "2      hospital    969\n",
            "3   coronavirus    949\n",
            "4          case    863\n",
            "5      outbreak    846\n",
            "6           new    657\n",
            "7       patient    651\n",
            "8         fight    583\n",
            "9           say    521\n",
            "10      confirm    454\n",
            "11       people    426\n",
            "12     epidemic    403\n",
            "13      medical    378\n",
            "14        hubei    369\n",
            "15     province    355\n",
            "16       battle    311\n",
            "17      support    310\n",
            "18       report    299\n",
            "19       health    294\n",
            "20         live    294\n",
            "21         city    293\n",
            "22         amid    289\n",
            "23        death    288\n",
            "24          day    273\n",
            "25      control    266\n",
            "26        virus    263\n",
            "27         year    233\n",
            "28         take    223\n",
            "29       effort    213\n",
            "\n",
            "USA\n",
            "           Word  Count\n",
            "0   coronavirus   5135\n",
            "1         china   3946\n",
            "2      outbreak   1404\n",
            "3         virus   1132\n",
            "4          case   1110\n",
            "5           say    933\n",
            "6           new    906\n",
            "7        spread    858\n",
            "8         death    734\n",
            "9        people    624\n",
            "10       health    603\n",
            "11         late    459\n",
            "12       report    414\n",
            "13       cruise    414\n",
            "14        first    413\n",
            "15         ship    408\n",
            "16         city    394\n",
            "17      confirm    392\n",
            "18         toll    374\n",
            "19        world    370\n",
            "20   quarantine    369\n",
            "21        japan    366\n",
            "22        state    362\n",
            "23      country    348\n",
            "24       travel    348\n",
            "25       flight    335\n",
            "26         fear    329\n",
            "27          hit    321\n",
            "28         test    310\n",
            "29         rise    304\n",
            "\n",
            "China&USA\n",
            "           Word  Count\n",
            "0         china   6964\n",
            "1   coronavirus   6084\n",
            "2      outbreak   2250\n",
            "3          case   1973\n",
            "4           new   1563\n",
            "5         novel   1539\n",
            "6           say   1454\n",
            "7         virus   1395\n",
            "8      hospital   1177\n",
            "9        people   1050\n",
            "10        death   1022\n",
            "11       spread   1013\n",
            "12       health    897\n",
            "13      patient    851\n",
            "14      confirm    846\n",
            "15       report    713\n",
            "16        fight    707\n",
            "17         city    687\n",
            "18         late    638\n",
            "19        first    600\n",
            "20        hubei    588\n",
            "21          day    568\n",
            "22     epidemic    565\n",
            "23        world    562\n",
            "24      country    559\n",
            "25         amid    533\n",
            "26     province    525\n",
            "27      medical    495\n",
            "28     official    484\n",
            "29       infect    462\n",
            "\n"
          ]
        }
      ]
    },
    {
      "cell_type": "code",
      "source": [
        "keys_China = freq_dict_China.keys()  \n",
        "keys_USA = freq_dict_USA.keys()  \n",
        "keys_China_USA = freq_dict_China_USA.keys()  "
      ],
      "metadata": {
        "id": "Q52SCkkKNncF"
      },
      "execution_count": 389,
      "outputs": []
    },
    {
      "cell_type": "code",
      "source": [
        "network_China, network_df_China = create_network(cleaned_mostimp_text_China)\n",
        "network_USA, network_df_USA = create_network(cleaned_mostimp_text_USA)\n",
        "network_China_USA, network_df_China_USA = create_network(cleaned_mostimp_text_China_USA)"
      ],
      "metadata": {
        "id": "bPn3tfv7NncF"
      },
      "execution_count": 390,
      "outputs": []
    },
    {
      "cell_type": "code",
      "source": [
        "print('China:')\n",
        "print(network_df_China.iloc[0:30])\n",
        "print()\n",
        "print('USA:')\n",
        "print(network_df_USA.iloc[0:30])\n",
        "print()\n",
        "print('China&USA:')\n",
        "print(network_df_China_USA.iloc[0:30])\n",
        "print()"
      ],
      "metadata": {
        "colab": {
          "base_uri": "https://localhost:8080/"
        },
        "outputId": "b1172541-0e0d-4ee1-df3d-91cdc0c46482",
        "id": "MVggBElVNncF"
      },
      "execution_count": 391,
      "outputs": [
        {
          "output_type": "stream",
          "name": "stdout",
          "text": [
            "China:\n",
            "                         weight\n",
            "(china, novel)             1024\n",
            "(china, outbreak)           644\n",
            "(china, coronavirus)        619\n",
            "(confirm, case)             571\n",
            "(patient, hospital)         560\n",
            "(china, case)               527\n",
            "(china, fight)              502\n",
            "(novel, coronavirus)        483\n",
            "(new, case)                 479\n",
            "(china, new)                427\n",
            "(china, say)                422\n",
            "(novel, outbreak)           394\n",
            "(case, report)              368\n",
            "(case, death)               357\n",
            "(epidemic, china)           346\n",
            "(china, support)            339\n",
            "(china, hospital)           334\n",
            "(china, confirm)            311\n",
            "(new, confirm)              296\n",
            "(china, people)             281\n",
            "(china, province)           272\n",
            "(china, battle)             266\n",
            "(china, hubei)              258\n",
            "(report, new)               245\n",
            "(new, death)                245\n",
            "(makeshift, hospital)       233\n",
            "(fight, novel)              233\n",
            "(china, effort)             232\n",
            "(novel, hospital)           231\n",
            "(coronavirus, outbreak)     227\n",
            "\n",
            "USA:\n",
            "                         weight\n",
            "(china, coronavirus)       2552\n",
            "(coronavirus, outbreak)    1119\n",
            "(china, outbreak)           937\n",
            "(coronavirus, case)         923\n",
            "(china, virus)              713\n",
            "(spread, coronavirus)       682\n",
            "(new, coronavirus)          642\n",
            "(china, case)               627\n",
            "(say, coronavirus)          605\n",
            "(china, death)              596\n",
            "(china, new)                561\n",
            "(coronavirus, death)        534\n",
            "(china, say)                521\n",
            "(china, spread)             504\n",
            "(coronavirus, health)       467\n",
            "(people, coronavirus)       463\n",
            "(china, people)             426\n",
            "(cruise, ship)              375\n",
            "(china, late)               367\n",
            "(confirm, case)             364\n",
            "(coronavirus, late)         363\n",
            "(china, health)             360\n",
            "(death, toll)               358\n",
            "(travel, china)             349\n",
            "(china, toll)               327\n",
            "(coronavirus, confirm)      326\n",
            "(coronavirus, cruise)       325\n",
            "(coronavirus, first)        318\n",
            "(report, coronavirus)       310\n",
            "(coronavirus, ship)         306\n",
            "\n",
            "China&USA:\n",
            "                         weight\n",
            "(china, coronavirus)       3171\n",
            "(china, outbreak)          1581\n",
            "(coronavirus, outbreak)    1346\n",
            "(china, case)              1154\n",
            "(coronavirus, case)        1146\n",
            "(china, novel)             1109\n",
            "(china, new)                988\n",
            "(china, say)                943\n",
            "(confirm, case)             935\n",
            "(china, virus)              914\n",
            "(coronavirus, new)          806\n",
            "(china, death)              804\n",
            "(new, case)                 783\n",
            "(spread, coronavirus)       724\n",
            "(china, people)             707\n",
            "(say, coronavirus)          682\n",
            "(novel, coronavirus)        638\n",
            "(case, death)               625\n",
            "(china, spread)             603\n",
            "(patient, hospital)         594\n",
            "(coronavirus, death)        585\n",
            "(china, fight)              558\n",
            "(health, china)             555\n",
            "(case, report)              543\n",
            "(coronavirus, people)       526\n",
            "(health, coronavirus)       513\n",
            "(china, confirm)            511\n",
            "(china, report)             491\n",
            "(china, late)               489\n",
            "(new, death)                457\n",
            "\n"
          ]
        }
      ]
    },
    {
      "cell_type": "code",
      "source": [
        "def get_graph(network):\n",
        "  up_weighted = []\n",
        "  for edge in network:\n",
        "      #we can filter edges by weight by uncommenting the next line and setting desired weight threshold\n",
        "      up_weighted.append((edge[0],edge[1],network[edge]))\n",
        "      \n",
        "  #print(network)\n",
        "  #print(up_weighted[0:10])\n",
        "  G = nx.Graph()\n",
        "  G.add_weighted_edges_from(up_weighted)\n",
        "  return G"
      ],
      "metadata": {
        "id": "fmQTFAb3NncF"
      },
      "execution_count": 392,
      "outputs": []
    },
    {
      "cell_type": "code",
      "source": [
        "G_China = get_graph(network_China)\n",
        "G_USA = get_graph(network_USA)\n",
        "G_China_USA = get_graph(network_China_USA)"
      ],
      "metadata": {
        "id": "zNrH5boVNncF"
      },
      "execution_count": 393,
      "outputs": []
    },
    {
      "cell_type": "code",
      "source": [
        "print('China:')\n",
        "print('Nodes: ',len(G_China.nodes()))\n",
        "print('Edges: ',len(G_China.edges()))\n",
        "print('Is connected: ',nx.is_connected(G_China))\n",
        "print()\n",
        "print('USA:')\n",
        "print('Nodes: ',len(G_USA.nodes()))\n",
        "print('Edges: ',len(G_USA.edges()))\n",
        "print('Is connected: ',nx.is_connected(G_USA))\n",
        "print()\n",
        "print('China&USA:')\n",
        "print('Nodes: ',len(G_China_USA.nodes()))\n",
        "print('Edges: ',len(G_China_USA.edges()))\n",
        "print('Is connected: ',nx.is_connected(G_China_USA))"
      ],
      "metadata": {
        "colab": {
          "base_uri": "https://localhost:8080/"
        },
        "outputId": "fa81e24f-8383-4358-e1c2-f6f6c7cac327",
        "id": "kx5041hFNncF"
      },
      "execution_count": 394,
      "outputs": [
        {
          "output_type": "stream",
          "name": "stdout",
          "text": [
            "China:\n",
            "Nodes:  516\n",
            "Edges:  37525\n",
            "Is connected:  True\n",
            "\n",
            "USA:\n",
            "Nodes:  509\n",
            "Edges:  34977\n",
            "Is connected:  True\n",
            "\n",
            "China&USA:\n",
            "Nodes:  490\n",
            "Edges:  50030\n",
            "Is connected:  True\n"
          ]
        }
      ]
    },
    {
      "cell_type": "markdown",
      "source": [
        "#Save edge list"
      ],
      "metadata": {
        "id": "p4SvWlzSfzFv"
      }
    },
    {
      "cell_type": "code",
      "source": [
        "filename = './edgelist_China_JanFeb2020.csv'\n",
        "nx.write_weighted_edgelist(G_China, filename, delimiter=\",\")\n",
        "#add header with appropriate column names (works on colab and Linux/Mac(?))\n",
        "!sed -i.bak 1i\"Source,Target,Weight\" ./edgelist_China_JanFeb2020.csv\n",
        "files.download(\"edgelist_China_JanFeb2020.csv\")\n",
        "\n",
        "filename = './edgelist_USA_JanFeb2020.csv'\n",
        "nx.write_weighted_edgelist(G_USA, filename, delimiter=\",\")\n",
        "#add header with appropriate column names (works on colab and Linux/Mac(?))\n",
        "!sed -i.bak 1i\"Source,Target,Weight\" ./edgelist_USA_JanFeb2020.csv\n",
        "files.download(\"edgelist_USA_JanFeb2020.csv\")\n",
        "\n",
        "filename = './edgelist_China_USA_JanFeb2020.csv'\n",
        "nx.write_weighted_edgelist(G_China_USA, filename, delimiter=\",\")\n",
        "#add header with appropriate column names (works on colab and Linux/Mac(?))\n",
        "!sed -i.bak 1i\"Source,Target,Weight\" ./edgelist_China_USA_JanFeb2020.csv\n",
        "files.download(\"edgelist_China_USA_JanFeb2020.csv\")"
      ],
      "metadata": {
        "id": "zgmmRGRCrM9J",
        "colab": {
          "base_uri": "https://localhost:8080/",
          "height": 17
        },
        "outputId": "54f04686-e8dd-43ca-d92c-5e5968e13762"
      },
      "execution_count": 395,
      "outputs": [
        {
          "output_type": "display_data",
          "data": {
            "application/javascript": [
              "\n",
              "    async function download(id, filename, size) {\n",
              "      if (!google.colab.kernel.accessAllowed) {\n",
              "        return;\n",
              "      }\n",
              "      const div = document.createElement('div');\n",
              "      const label = document.createElement('label');\n",
              "      label.textContent = `Downloading \"${filename}\": `;\n",
              "      div.appendChild(label);\n",
              "      const progress = document.createElement('progress');\n",
              "      progress.max = size;\n",
              "      div.appendChild(progress);\n",
              "      document.body.appendChild(div);\n",
              "\n",
              "      const buffers = [];\n",
              "      let downloaded = 0;\n",
              "\n",
              "      const channel = await google.colab.kernel.comms.open(id);\n",
              "      // Send a message to notify the kernel that we're ready.\n",
              "      channel.send({})\n",
              "\n",
              "      for await (const message of channel.messages) {\n",
              "        // Send a message to notify the kernel that we're ready.\n",
              "        channel.send({})\n",
              "        if (message.buffers) {\n",
              "          for (const buffer of message.buffers) {\n",
              "            buffers.push(buffer);\n",
              "            downloaded += buffer.byteLength;\n",
              "            progress.value = downloaded;\n",
              "          }\n",
              "        }\n",
              "      }\n",
              "      const blob = new Blob(buffers, {type: 'application/binary'});\n",
              "      const a = document.createElement('a');\n",
              "      a.href = window.URL.createObjectURL(blob);\n",
              "      a.download = filename;\n",
              "      div.appendChild(a);\n",
              "      a.click();\n",
              "      div.remove();\n",
              "    }\n",
              "  "
            ],
            "text/plain": [
              "<IPython.core.display.Javascript object>"
            ]
          },
          "metadata": {}
        },
        {
          "output_type": "display_data",
          "data": {
            "application/javascript": [
              "download(\"download_b82e9933-34b1-4e9b-aa3b-0c31532ac1b7\", \"edgelist_China_JanFeb2020.csv\", 598222)"
            ],
            "text/plain": [
              "<IPython.core.display.Javascript object>"
            ]
          },
          "metadata": {}
        },
        {
          "output_type": "display_data",
          "data": {
            "application/javascript": [
              "\n",
              "    async function download(id, filename, size) {\n",
              "      if (!google.colab.kernel.accessAllowed) {\n",
              "        return;\n",
              "      }\n",
              "      const div = document.createElement('div');\n",
              "      const label = document.createElement('label');\n",
              "      label.textContent = `Downloading \"${filename}\": `;\n",
              "      div.appendChild(label);\n",
              "      const progress = document.createElement('progress');\n",
              "      progress.max = size;\n",
              "      div.appendChild(progress);\n",
              "      document.body.appendChild(div);\n",
              "\n",
              "      const buffers = [];\n",
              "      let downloaded = 0;\n",
              "\n",
              "      const channel = await google.colab.kernel.comms.open(id);\n",
              "      // Send a message to notify the kernel that we're ready.\n",
              "      channel.send({})\n",
              "\n",
              "      for await (const message of channel.messages) {\n",
              "        // Send a message to notify the kernel that we're ready.\n",
              "        channel.send({})\n",
              "        if (message.buffers) {\n",
              "          for (const buffer of message.buffers) {\n",
              "            buffers.push(buffer);\n",
              "            downloaded += buffer.byteLength;\n",
              "            progress.value = downloaded;\n",
              "          }\n",
              "        }\n",
              "      }\n",
              "      const blob = new Blob(buffers, {type: 'application/binary'});\n",
              "      const a = document.createElement('a');\n",
              "      a.href = window.URL.createObjectURL(blob);\n",
              "      a.download = filename;\n",
              "      div.appendChild(a);\n",
              "      a.click();\n",
              "      div.remove();\n",
              "    }\n",
              "  "
            ],
            "text/plain": [
              "<IPython.core.display.Javascript object>"
            ]
          },
          "metadata": {}
        },
        {
          "output_type": "display_data",
          "data": {
            "application/javascript": [
              "download(\"download_9007b5ea-b5e2-42b8-84e8-7aae78247d10\", \"edgelist_USA_JanFeb2020.csv\", 547380)"
            ],
            "text/plain": [
              "<IPython.core.display.Javascript object>"
            ]
          },
          "metadata": {}
        },
        {
          "output_type": "display_data",
          "data": {
            "application/javascript": [
              "\n",
              "    async function download(id, filename, size) {\n",
              "      if (!google.colab.kernel.accessAllowed) {\n",
              "        return;\n",
              "      }\n",
              "      const div = document.createElement('div');\n",
              "      const label = document.createElement('label');\n",
              "      label.textContent = `Downloading \"${filename}\": `;\n",
              "      div.appendChild(label);\n",
              "      const progress = document.createElement('progress');\n",
              "      progress.max = size;\n",
              "      div.appendChild(progress);\n",
              "      document.body.appendChild(div);\n",
              "\n",
              "      const buffers = [];\n",
              "      let downloaded = 0;\n",
              "\n",
              "      const channel = await google.colab.kernel.comms.open(id);\n",
              "      // Send a message to notify the kernel that we're ready.\n",
              "      channel.send({})\n",
              "\n",
              "      for await (const message of channel.messages) {\n",
              "        // Send a message to notify the kernel that we're ready.\n",
              "        channel.send({})\n",
              "        if (message.buffers) {\n",
              "          for (const buffer of message.buffers) {\n",
              "            buffers.push(buffer);\n",
              "            downloaded += buffer.byteLength;\n",
              "            progress.value = downloaded;\n",
              "          }\n",
              "        }\n",
              "      }\n",
              "      const blob = new Blob(buffers, {type: 'application/binary'});\n",
              "      const a = document.createElement('a');\n",
              "      a.href = window.URL.createObjectURL(blob);\n",
              "      a.download = filename;\n",
              "      div.appendChild(a);\n",
              "      a.click();\n",
              "      div.remove();\n",
              "    }\n",
              "  "
            ],
            "text/plain": [
              "<IPython.core.display.Javascript object>"
            ]
          },
          "metadata": {}
        },
        {
          "output_type": "display_data",
          "data": {
            "application/javascript": [
              "download(\"download_f75ae146-28ff-43fc-a650-b9e8f4bc1cbe\", \"edgelist_China_USA_JanFeb2020.csv\", 786825)"
            ],
            "text/plain": [
              "<IPython.core.display.Javascript object>"
            ]
          },
          "metadata": {}
        }
      ]
    },
    {
      "cell_type": "markdown",
      "source": [
        "\n",
        "\n",
        "\n",
        "\n",
        "# Create Node List\n",
        "\n",
        "\n"
      ],
      "metadata": {
        "id": "nWHLO7AhdwzR"
      }
    },
    {
      "cell_type": "code",
      "source": [
        "def nodes(freq_dict, name):\n",
        "  word_nodes = pd.DataFrame.from_dict(freq_dict,orient=\"index\")\n",
        "  word_nodes.reset_index(inplace=True)\n",
        "  word_nodes[\"Label\"] = word_nodes[\"index\"]\n",
        "  word_nodes.rename(columns={\"index\":\"Id\",0:\"delete\"},inplace=True)\n",
        "  word_nodes = word_nodes.drop(columns=['delete'])\n",
        "  nodelist = pd.DataFrame()\n",
        "  nodelist = nodelist.append(word_nodes, ignore_index=True)\n",
        "\n",
        "  nodelist = nodelist.to_csv(\"nodelist_\"+name+\".csv\",index=False)\n",
        "  files.download(\"nodelist_\"+name+\".csv\")\n",
        "  return nodelist, word_nodes"
      ],
      "metadata": {
        "id": "v2GYb2BQFzET"
      },
      "execution_count": 361,
      "outputs": []
    },
    {
      "cell_type": "code",
      "source": [
        "nodelist_China, word_nodes_China = nodes(freq_dict_China,\"China_JanFeb2020\")\n",
        "nodelist_USA, word_nodes_USA = nodes(freq_dict_USA,\"USA_JanFeb2020\")\n",
        "nodelist_China_USA, word_nodes_China_USA = nodes(freq_dict_China_USA,\"China_USA_JanFeb2020\")\n",
        "\n",
        "print('China:')\n",
        "print(word_nodes_China.head())\n",
        "print()\n",
        "print('USA:')\n",
        "print(word_nodes_USA.head())\n",
        "print()\n",
        "print('China&USA:')\n",
        "print(word_nodes_China_USA.head())\n",
        "print()"
      ],
      "metadata": {
        "colab": {
          "base_uri": "https://localhost:8080/",
          "height": 434
        },
        "id": "EmQrEHV0F1QY",
        "outputId": "cb2df4cd-cc56-474a-c6f4-9828b56bc48a"
      },
      "execution_count": 396,
      "outputs": [
        {
          "output_type": "display_data",
          "data": {
            "application/javascript": [
              "\n",
              "    async function download(id, filename, size) {\n",
              "      if (!google.colab.kernel.accessAllowed) {\n",
              "        return;\n",
              "      }\n",
              "      const div = document.createElement('div');\n",
              "      const label = document.createElement('label');\n",
              "      label.textContent = `Downloading \"${filename}\": `;\n",
              "      div.appendChild(label);\n",
              "      const progress = document.createElement('progress');\n",
              "      progress.max = size;\n",
              "      div.appendChild(progress);\n",
              "      document.body.appendChild(div);\n",
              "\n",
              "      const buffers = [];\n",
              "      let downloaded = 0;\n",
              "\n",
              "      const channel = await google.colab.kernel.comms.open(id);\n",
              "      // Send a message to notify the kernel that we're ready.\n",
              "      channel.send({})\n",
              "\n",
              "      for await (const message of channel.messages) {\n",
              "        // Send a message to notify the kernel that we're ready.\n",
              "        channel.send({})\n",
              "        if (message.buffers) {\n",
              "          for (const buffer of message.buffers) {\n",
              "            buffers.push(buffer);\n",
              "            downloaded += buffer.byteLength;\n",
              "            progress.value = downloaded;\n",
              "          }\n",
              "        }\n",
              "      }\n",
              "      const blob = new Blob(buffers, {type: 'application/binary'});\n",
              "      const a = document.createElement('a');\n",
              "      a.href = window.URL.createObjectURL(blob);\n",
              "      a.download = filename;\n",
              "      div.appendChild(a);\n",
              "      a.click();\n",
              "      div.remove();\n",
              "    }\n",
              "  "
            ],
            "text/plain": [
              "<IPython.core.display.Javascript object>"
            ]
          },
          "metadata": {}
        },
        {
          "output_type": "display_data",
          "data": {
            "application/javascript": [
              "download(\"download_e203846c-1360-4df0-b8b8-029a0a35d68a\", \"nodelist_China_JanFeb2020.csv\", 7279)"
            ],
            "text/plain": [
              "<IPython.core.display.Javascript object>"
            ]
          },
          "metadata": {}
        },
        {
          "output_type": "display_data",
          "data": {
            "application/javascript": [
              "\n",
              "    async function download(id, filename, size) {\n",
              "      if (!google.colab.kernel.accessAllowed) {\n",
              "        return;\n",
              "      }\n",
              "      const div = document.createElement('div');\n",
              "      const label = document.createElement('label');\n",
              "      label.textContent = `Downloading \"${filename}\": `;\n",
              "      div.appendChild(label);\n",
              "      const progress = document.createElement('progress');\n",
              "      progress.max = size;\n",
              "      div.appendChild(progress);\n",
              "      document.body.appendChild(div);\n",
              "\n",
              "      const buffers = [];\n",
              "      let downloaded = 0;\n",
              "\n",
              "      const channel = await google.colab.kernel.comms.open(id);\n",
              "      // Send a message to notify the kernel that we're ready.\n",
              "      channel.send({})\n",
              "\n",
              "      for await (const message of channel.messages) {\n",
              "        // Send a message to notify the kernel that we're ready.\n",
              "        channel.send({})\n",
              "        if (message.buffers) {\n",
              "          for (const buffer of message.buffers) {\n",
              "            buffers.push(buffer);\n",
              "            downloaded += buffer.byteLength;\n",
              "            progress.value = downloaded;\n",
              "          }\n",
              "        }\n",
              "      }\n",
              "      const blob = new Blob(buffers, {type: 'application/binary'});\n",
              "      const a = document.createElement('a');\n",
              "      a.href = window.URL.createObjectURL(blob);\n",
              "      a.download = filename;\n",
              "      div.appendChild(a);\n",
              "      a.click();\n",
              "      div.remove();\n",
              "    }\n",
              "  "
            ],
            "text/plain": [
              "<IPython.core.display.Javascript object>"
            ]
          },
          "metadata": {}
        },
        {
          "output_type": "display_data",
          "data": {
            "application/javascript": [
              "download(\"download_2e2c2add-6298-41ec-9611-2aea161fea6d\", \"nodelist_USA_JanFeb2020.csv\", 6953)"
            ],
            "text/plain": [
              "<IPython.core.display.Javascript object>"
            ]
          },
          "metadata": {}
        },
        {
          "output_type": "display_data",
          "data": {
            "application/javascript": [
              "\n",
              "    async function download(id, filename, size) {\n",
              "      if (!google.colab.kernel.accessAllowed) {\n",
              "        return;\n",
              "      }\n",
              "      const div = document.createElement('div');\n",
              "      const label = document.createElement('label');\n",
              "      label.textContent = `Downloading \"${filename}\": `;\n",
              "      div.appendChild(label);\n",
              "      const progress = document.createElement('progress');\n",
              "      progress.max = size;\n",
              "      div.appendChild(progress);\n",
              "      document.body.appendChild(div);\n",
              "\n",
              "      const buffers = [];\n",
              "      let downloaded = 0;\n",
              "\n",
              "      const channel = await google.colab.kernel.comms.open(id);\n",
              "      // Send a message to notify the kernel that we're ready.\n",
              "      channel.send({})\n",
              "\n",
              "      for await (const message of channel.messages) {\n",
              "        // Send a message to notify the kernel that we're ready.\n",
              "        channel.send({})\n",
              "        if (message.buffers) {\n",
              "          for (const buffer of message.buffers) {\n",
              "            buffers.push(buffer);\n",
              "            downloaded += buffer.byteLength;\n",
              "            progress.value = downloaded;\n",
              "          }\n",
              "        }\n",
              "      }\n",
              "      const blob = new Blob(buffers, {type: 'application/binary'});\n",
              "      const a = document.createElement('a');\n",
              "      a.href = window.URL.createObjectURL(blob);\n",
              "      a.download = filename;\n",
              "      div.appendChild(a);\n",
              "      a.click();\n",
              "      div.remove();\n",
              "    }\n",
              "  "
            ],
            "text/plain": [
              "<IPython.core.display.Javascript object>"
            ]
          },
          "metadata": {}
        },
        {
          "output_type": "display_data",
          "data": {
            "application/javascript": [
              "download(\"download_16a5d586-eba6-443d-8847-48dc03639386\", \"nodelist_China_USA_JanFeb2020.csv\", 6739)"
            ],
            "text/plain": [
              "<IPython.core.display.Javascript object>"
            ]
          },
          "metadata": {}
        },
        {
          "output_type": "stream",
          "name": "stdout",
          "text": [
            "China:\n",
            "            Id        Label\n",
            "0        china        china\n",
            "1        novel        novel\n",
            "2     hospital     hospital\n",
            "3  coronavirus  coronavirus\n",
            "4         case         case\n",
            "\n",
            "USA:\n",
            "            Id        Label\n",
            "0  coronavirus  coronavirus\n",
            "1        china        china\n",
            "2     outbreak     outbreak\n",
            "3        virus        virus\n",
            "4         case         case\n",
            "\n",
            "China&USA:\n",
            "            Id        Label\n",
            "0        china        china\n",
            "1  coronavirus  coronavirus\n",
            "2     outbreak     outbreak\n",
            "3         case         case\n",
            "4          new          new\n",
            "\n"
          ]
        }
      ]
    }
  ]
}