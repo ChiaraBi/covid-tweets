{
  "nbformat": 4,
  "nbformat_minor": 0,
  "metadata": {
    "colab": {
      "name": "Summary_MarchApril2021.ipynb",
      "provenance": [],
      "collapsed_sections": []
    },
    "kernelspec": {
      "name": "python3",
      "display_name": "Python 3"
    },
    "language_info": {
      "name": "python"
    }
  },
  "cells": [
    {
      "cell_type": "code",
      "source": [
        "#notebook to download the csv of edges and nodes of a given network\n",
        "import os\n",
        "import requests \n",
        "import time\n",
        "import string\n",
        "import networkx as nx\n",
        "import itertools\n",
        "import networkx as nx\n",
        "import pandas as pd\n",
        "import json\n",
        "import re\n",
        "import math\n",
        "import numpy as np\n",
        "import matplotlib.pyplot as plt\n",
        "from sklearn.feature_extraction.text import TfidfVectorizer\n",
        "import nltk\n",
        "from nltk.corpus import stopwords\n",
        "\n",
        "from nltk.corpus import wordnet as wn #importing it\n",
        "from nltk.stem.wordnet import WordNetLemmatizer #importing wordnet lemmatizer\n",
        "from nltk import pos_tag #part-of-speech-tagger\n",
        "from collections import defaultdict #defaultdict returns default value for non-existant keys you try to  access based on the function you passed in the constructor\n",
        "from google.colab import files\n",
        "\n",
        "pd.set_option('display.max_rows', None)\n",
        "pd.set_option('display.max_columns', None)\n",
        "pd.set_option('display.width', None)\n",
        "\n",
        "nltk.download('stopwords')"
      ],
      "metadata": {
        "colab": {
          "base_uri": "https://localhost:8080/"
        },
        "id": "DRcCylkZqDPi",
        "outputId": "69e515c8-5947-440c-ab5e-fc455ee3bb05"
      },
      "execution_count": 5,
      "outputs": [
        {
          "output_type": "stream",
          "name": "stdout",
          "text": [
            "[nltk_data] Downloading package stopwords to /root/nltk_data...\n",
            "[nltk_data]   Package stopwords is already up-to-date!\n"
          ]
        },
        {
          "output_type": "execute_result",
          "data": {
            "text/plain": [
              "True"
            ]
          },
          "metadata": {},
          "execution_count": 5
        }
      ]
    },
    {
      "cell_type": "code",
      "source": [
        "def extract_text(df):       #extract the text from the tweets and RT\n",
        "                            #works ONLY on .csv file\n",
        "  list_strings = []\n",
        "  for index in range(len(df)):\n",
        "    if index % 1000 == 0:\n",
        "      print(str(index)+' / '+str(len(df)))\n",
        "    text = df.loc[index]['text']                          #if it is nor trucated nor a RT  i take \"text\"\n",
        "    string = -1\n",
        "    if (df.loc[index,\"truncated\"] == True):                 #if it is trucated I take \"extended_tweet\"\n",
        "        string = df.loc[index,\"extended_tweet\"]\n",
        "    if type(df.loc[index,\"retweeted_status\"]) != float:     #if it is a RT I take retweeted_status\n",
        "        string = df.loc[index,\"retweeted_status\"]\n",
        "    if type(string) == str :\n",
        "        if(re.search('full_text\\':(.+?)https',string) != None):     #if I find \"full_text\"\n",
        "          s = re.search('full_text\\':(.+?)https',string).group(1)\n",
        "        if(re.search('text\\':(.+?)https',string)!= None):\n",
        "          s = re.search('text\\':(.+?)https',string).group(1)\n",
        "        else: \n",
        "          continue\n",
        "        list_strings.append(s)\n",
        "        #print(s)         \n",
        "    else:\n",
        "      list_strings.append(text)\n",
        "      #print(text)\n",
        "      \n",
        "\n",
        "  return list_strings"
      ],
      "metadata": {
        "id": "CGa_FVVGqDSJ"
      },
      "execution_count": 6,
      "outputs": []
    },
    {
      "cell_type": "code",
      "source": [
        "# Cleaning, lemmatising and pos tagging tweets\n",
        "\n",
        "nltk.download('words')\n",
        "WORDS = set(nltk.corpus.words.words()) #the last two lines serve to download the corpus of standard English language words\n",
        "nltk.download('stopwords') #downloading stopwords\n",
        "STOP_WORDS = set(nltk.corpus.stopwords.words(\"english\")) #taking the stop words from English language\n",
        "nltk.download('wordnet') #downloading wordnet\n",
        "nltk.download('averaged_perceptron_tagger') #downloading tagger\n",
        "tag_map = defaultdict(lambda : wn.NOUN) #here we define that wn.NOUN is the default value for the dict\n",
        "tag_map['J'] = wn.ADJ\n",
        "tag_map['V'] = wn.VERB\n",
        "tag_map['R'] = wn.ADV\n",
        "\n",
        "def lemma_pos_cleaner(tweet):\n",
        "\n",
        "    tweet = re.sub(\"@[A-Za-z0-9]+\",\"\",tweet) # remove mentions\n",
        "    tweet = re.sub(\"#[A-Za-z0-9]+\", \"\",tweet) # remove hashtags\n",
        "    tweet = re.sub(r\"(?:\\@|http?\\://|https?\\://|www)\\S+\", \"\", tweet) # remove http links\n",
        "    tweet = \" \".join(tweet.split())\n",
        "    tweet = str.lower(tweet) #to lowercase \n",
        "    tweet = re.sub(\"'\",\" \",tweet) # remove aphostrophe\n",
        "\n",
        "    #basically we use pos_tag function on tokens that we get by applying wordpunct tokenization\n",
        "    #to tweet (it separates all the words and symbols)\n",
        "    #then we pass the token along with it's wordnet pos value that we get from the tag_map dictionary (noun, adjective, verb or adverb) to the lemma function (the WordNetLemmatizer())\n",
        "    lemma_function = WordNetLemmatizer()\n",
        "    tweet = \" \".join(lemma_function.lemmatize(token, tag_map[tag[0]]) for token, tag in nltk.pos_tag(nltk.wordpunct_tokenize(tweet))) #lemmatize\n",
        "  \n",
        "\n",
        "    # francesco: I removed also all 2 letters words and added specific words, words that appears frequently but are discarded because they are not in the english language\n",
        "    SPECIFIC_WORDS = ['virus', 'coronavirus', 'covid19', 'covid', 'trump', 'hubei', 'beijing', 'xinjiang', 'jinping', 'korea', 'xinhua', 'india', 'taiwan','johnson','singapore', 'africa', 'japanese', 'france', 'asian', 'australia', 'french', 'asia', 'leishenshan', 'british', 'qingdao', 'fauci', 'america',  'california', 'sichuan', 'malaysia', 'huawei','thailand', 'shandong', 'italy', 'philippines', 'germany', 'facebook', 'african', 'shenzhen', 'tokyo', 'russian','uygur', '5g', 'pompeo', 'vietnam', 'australian', 'cambodia', 'zhejiang', 'yunnan', 'guangdong', 'korean', 'iran', 'washington']\n",
        "    tweet = \" \".join(w for w in nltk.wordpunct_tokenize(tweet) if (w in WORDS or w in SPECIFIC_WORDS) and len(w)>2 and w not in STOP_WORDS ) #remove stop words\n",
        "   \n",
        "    return tweet"
      ],
      "metadata": {
        "colab": {
          "base_uri": "https://localhost:8080/"
        },
        "id": "GD0LDoYVqDUh",
        "outputId": "d7734a32-ac31-4df8-bfa1-7d646176b058"
      },
      "execution_count": 7,
      "outputs": [
        {
          "output_type": "stream",
          "name": "stdout",
          "text": [
            "[nltk_data] Downloading package words to /root/nltk_data...\n",
            "[nltk_data]   Package words is already up-to-date!\n",
            "[nltk_data] Downloading package stopwords to /root/nltk_data...\n",
            "[nltk_data]   Package stopwords is already up-to-date!\n",
            "[nltk_data] Downloading package wordnet to /root/nltk_data...\n",
            "[nltk_data]   Package wordnet is already up-to-date!\n",
            "[nltk_data] Downloading package averaged_perceptron_tagger to\n",
            "[nltk_data]     /root/nltk_data...\n",
            "[nltk_data]   Package averaged_perceptron_tagger is already up-to-\n",
            "[nltk_data]       date!\n"
          ]
        }
      ]
    },
    {
      "cell_type": "code",
      "source": [
        "def frequency_dictionary(df):\n",
        "  unique_words = {}\n",
        "\n",
        "  for row in df:\n",
        "    for word in row.split():\n",
        "      #if the word is encountered for the first time add to dict as key and set its value to 0\n",
        "      unique_words.setdefault(word,0)\n",
        "      #increase the value (i.e the count) of the word by 1 every time it is encountered\n",
        "      unique_words[word] += 1\n",
        "\n",
        "  return unique_words"
      ],
      "metadata": {
        "id": "MAfOr8vR4P88"
      },
      "execution_count": 8,
      "outputs": []
    },
    {
      "cell_type": "code",
      "source": [
        "period = '_MarchApril2021'  # '', '_JanFeb2020', '_MarchApril2021', '_SeptOct2020'"
      ],
      "metadata": {
        "id": "o-GUlzAVOwk_"
      },
      "execution_count": 530,
      "outputs": []
    },
    {
      "cell_type": "code",
      "source": [
        "China = pd.read_csv('/content/China'+period+'.csv')\n",
        "USA = pd.read_csv('/content/USA'+period+'.csv')\n",
        "China_USA = pd.read_csv('/content/China&USA'+period+'.csv')"
      ],
      "metadata": {
        "id": "suPdLaUx1Ct8"
      },
      "execution_count": 531,
      "outputs": []
    },
    {
      "cell_type": "code",
      "source": [
        "# number of tweets:\n",
        "print('China: ', len(China))\n",
        "print('USA: ', len(USA))\n",
        "print('China&USA: ', len(China_USA))"
      ],
      "metadata": {
        "colab": {
          "base_uri": "https://localhost:8080/"
        },
        "id": "OeO9nxO6Br3x",
        "outputId": "4f9560ba-2f97-4c06-cc7a-d84f2993bd5c"
      },
      "execution_count": 532,
      "outputs": [
        {
          "output_type": "stream",
          "name": "stdout",
          "text": [
            "China:  1376\n",
            "USA:  3957\n",
            "China&USA:  5333\n"
          ]
        }
      ]
    },
    {
      "cell_type": "code",
      "source": [
        "text_China = extract_text(China)\n",
        "text_USA = extract_text(USA)\n",
        "text_China_USA = extract_text(China_USA)"
      ],
      "metadata": {
        "colab": {
          "base_uri": "https://localhost:8080/"
        },
        "id": "-WI3Rz9T1Cxo",
        "outputId": "ea21d5ee-cbf4-4881-bcb7-d78cd918a0db"
      },
      "execution_count": 533,
      "outputs": [
        {
          "output_type": "stream",
          "name": "stdout",
          "text": [
            "0 / 1376\n",
            "1000 / 1376\n",
            "0 / 3957\n",
            "1000 / 3957\n",
            "2000 / 3957\n",
            "3000 / 3957\n",
            "0 / 5333\n",
            "1000 / 5333\n",
            "2000 / 5333\n",
            "3000 / 5333\n",
            "4000 / 5333\n",
            "5000 / 5333\n"
          ]
        }
      ]
    },
    {
      "cell_type": "code",
      "source": [
        "cleaned_text_China = [lemma_pos_cleaner(txt) for txt in text_China]\n",
        "cleaned_text_USA = [lemma_pos_cleaner(txt) for txt in text_USA]\n",
        "cleaned_text_China_USA = [lemma_pos_cleaner(txt) for txt in text_China_USA]\n",
        "\n",
        "print('China:')\n",
        "print(cleaned_text_China[0:10])\n",
        "print()\n",
        "print('USA:')\n",
        "print(cleaned_text_USA[0:10])\n",
        "print()\n",
        "print('China&USA:')\n",
        "print(cleaned_text_China_USA[0:10])"
      ],
      "metadata": {
        "id": "6q4JI_jV1C2Q",
        "colab": {
          "base_uri": "https://localhost:8080/"
        },
        "outputId": "f6276e1b-b982-45aa-831c-e881b64be700"
      },
      "execution_count": 534,
      "outputs": [
        {
          "output_type": "stream",
          "name": "stdout",
          "text": [
            "China:\n",
            "['world health organization express concern rise rate new covid infection death third wave virus sweep across world', 'director general world health organization warn rise global covid case death press conference emphasize public follow covid health guideline contain virus', 'vast majority covid vaccine administer far wealthy nation world health organization report', 'africa administer percent million covid vaccine dos give globally world health organization say', 'causal link covid vaccine rare occurrence blood clot low platelet consider plausible confirm world health organization say', 'mark annual world health day year call fairer healthy world everyone eliminate health inequity pandemic push people poverty food insecurity social problem', 'covid19 vaccine produce expect review emergency use end say accord people daily', 'region currently fight resurgence covid transmission world health organization regional office call upon government region scale vaccine production vaccination', 'exclusive professor yang head joint team molecular trace group explain origin trace study', 'data provide maker show covid vaccine level efficacy compatible requirement world health organization chair advisory panel say']\n",
            "\n",
            "USA:\n",
            "['covid pandemic long way due confusion complacency address disease say world health organization', 'say covid pandemic long way due confusion complacency address disease bring control proven public health measure equitable vaccination', 'virus defeat divided world bank urge unity global vaccine effort', 'travesty country health worker risk group remain completely unvaccinated chief', 'report lack crucial data information access white house long report origin covid say present incomplete picture', 'country include japan raise concern report covid origin', 'joint china study origin covid say transmission virus bat human another animal likely scenario', 'south africa india turn ask vaccine maker give intellectual property right covid vaccine produce locally vaccine maker give away patent speed', 'urge vaccine maker overcome vaccine inequity end covid pandemic follow lead license technology', 'almost dozen country france start use vaccine body quell fear blood clot report']\n",
            "\n",
            "China&USA:\n",
            "['world health organization express concern rise rate new covid infection death third wave virus sweep across world', 'director general world health organization warn rise global covid case death press conference emphasize public follow covid health guideline contain virus', 'vast majority covid vaccine administer far wealthy nation world health organization report', 'africa administer percent million covid vaccine dos give globally world health organization say', 'causal link covid vaccine rare occurrence blood clot low platelet consider plausible confirm world health organization say', 'mark annual world health day year call fairer healthy world everyone eliminate health inequity pandemic push people poverty food insecurity social problem', 'covid19 vaccine produce expect review emergency use end say accord people daily', 'region currently fight resurgence covid transmission world health organization regional office call upon government region scale vaccine production vaccination', 'exclusive professor yang head joint team molecular trace group explain origin trace study', 'data provide maker show covid vaccine level efficacy compatible requirement world health organization chair advisory panel say']\n"
          ]
        }
      ]
    },
    {
      "cell_type": "code",
      "source": [
        "freq_dict_China = frequency_dictionary(cleaned_text_China)\n",
        "freq_dict_China = dict(sorted(freq_dict_China.items(), key=lambda item: item[1], reverse = True))   #order from more frequent to less frequent word\n",
        "\n",
        "freq_dict_USA = frequency_dictionary(cleaned_text_USA)\n",
        "freq_dict_USA = dict(sorted(freq_dict_USA.items(), key=lambda item: item[1], reverse = True))   #order from more frequent to less frequent word\n",
        "\n",
        "freq_dict_China_USA = frequency_dictionary(cleaned_text_China_USA)\n",
        "freq_dict_China_USA = dict(sorted(freq_dict_China_USA.items(), key=lambda item: item[1], reverse = True))   #order from more frequent to less frequent word\n",
        "\n",
        "# number of words in the cleaned tweets:\n",
        "print('China: ', len(list(freq_dict_China)))\n",
        "print('USA: ', len(list(freq_dict_USA)))\n",
        "print('China&USA: ', len(list(freq_dict_China_USA)))"
      ],
      "metadata": {
        "colab": {
          "base_uri": "https://localhost:8080/"
        },
        "id": "MCiw0q7t4UER",
        "outputId": "e8b1cf56-c652-4511-ae3b-293a41f7a9d3"
      },
      "execution_count": 541,
      "outputs": [
        {
          "output_type": "stream",
          "name": "stdout",
          "text": [
            "China:  2005\n",
            "USA:  3334\n",
            "China&USA:  3860\n"
          ]
        }
      ]
    },
    {
      "cell_type": "code",
      "source": [
        "# Most frequent words\n",
        "print('China')\n",
        "print([key for key in freq_dict_China.keys() if freq_dict_China[key]>50])\n",
        "print()\n",
        "print('USA')\n",
        "print([key for key in freq_dict_USA.keys() if freq_dict_USA[key]>150])\n",
        "print()\n",
        "print('China&USA')\n",
        "print([key for key in freq_dict_China_USA.keys() if freq_dict_China_USA[key]>200])"
      ],
      "metadata": {
        "colab": {
          "base_uri": "https://localhost:8080/"
        },
        "id": "y29OU9Cd5Auv",
        "outputId": "62dbb9de-da90-4161-d6e3-a163c1736c66"
      },
      "execution_count": 544,
      "outputs": [
        {
          "output_type": "stream",
          "name": "stdout",
          "text": [
            "China\n",
            "['covid', 'vaccine', 'china', 'say', 'report', 'health', 'case', 'country', 'receive', 'first', 'million', 'new', 'dos', 'people', 'pandemic', 'batch', 'world', 'president', 'accord', 'dose', 'use', 'national', 'death', 'day', 'vaccination', 'one', 'year', 'brazil', 'administer', 'second', 'arrive', 'state', 'minister', 'city']\n",
            "\n",
            "USA\n",
            "['covid', 'vaccine', 'say', 'new', 'case', 'johnson', 'shot', 'million', 'report', 'use', 'country', 'people', 'get', 'india', 'health', 'first', 'dos', 'blood', 'vaccination', 'clot', 'pandemic', 'coronavirus', 'death', 'state', 'year', 'brazil', 'surge']\n",
            "\n",
            "China&USA\n",
            "['covid', 'vaccine', 'say', 'case', 'new', 'china', 'report', 'country', 'million', 'health', 'first', 'people', 'johnson', 'dos', 'pandemic', 'use', 'shot', 'receive', 'get', 'vaccination', 'death', 'state', 'blood', 'coronavirus', 'india', 'clot', 'year', 'world', 'brazil', 'president', 'day']\n"
          ]
        }
      ]
    },
    {
      "cell_type": "markdown",
      "source": [
        "# less frequent words"
      ],
      "metadata": {
        "id": "9oHPXYbpINWh"
      }
    },
    {
      "cell_type": "code",
      "source": [
        "# less frequent words:\n",
        "print('Less frequent China: ', len([key for key in freq_dict_China.keys() if freq_dict_China[key]<2]))\n",
        "print('More frequent China: ', len([key for key in freq_dict_China.keys() if freq_dict_China[key]>=2]))\n",
        "less_frequent_words_China = [key for key in freq_dict_China.keys() if freq_dict_China[key]<2]\n",
        "\n",
        "print('Less frequent USA: ', len([key for key in freq_dict_USA.keys() if freq_dict_USA[key]<2]))\n",
        "print('More frequent USA:', len([key for key in freq_dict_USA.keys() if freq_dict_USA[key]>=2]))\n",
        "less_frequent_words_USA = [key for key in freq_dict_USA.keys() if freq_dict_USA[key]<2]\n",
        "\n",
        "print('Less frequent China&USA: ', len([key for key in freq_dict_China_USA.keys() if freq_dict_China_USA[key]<2]))\n",
        "print('More frequent China&USA: ', len([key for key in freq_dict_China_USA.keys() if freq_dict_China_USA[key]>=2]))\n",
        "less_frequent_words_China_USA = [key for key in freq_dict_China_USA.keys() if freq_dict_China_USA[key]<2]"
      ],
      "metadata": {
        "colab": {
          "base_uri": "https://localhost:8080/"
        },
        "id": "sgiQzaHD5zAb",
        "outputId": "d644c031-c238-4fbb-8c2d-013804144c84"
      },
      "execution_count": 546,
      "outputs": [
        {
          "output_type": "stream",
          "name": "stdout",
          "text": [
            "Less frequent China:  777\n",
            "More frequent China:  1228\n",
            "Less frequent USA:  916\n",
            "More frequent USA: 2418\n",
            "Less frequent China&USA:  1123\n",
            "More frequent China&USA:  2737\n"
          ]
        }
      ]
    },
    {
      "cell_type": "code",
      "source": [
        "# discard less frequent words\n",
        "def clean_words(cleaned_text, unuseful_words):\n",
        "  re_cleaned_text = cleaned_text.copy()\n",
        "  for txt in range(len(re_cleaned_text)):\n",
        "    if txt % 2000 == 0:\n",
        "      print(txt, '/',len(re_cleaned_text))\n",
        "    w = re_cleaned_text[txt].split()\n",
        "    for word in unuseful_words:\n",
        "      while word in w:\n",
        "        w.remove(word)\n",
        "    re_cleaned_text[txt] = ' '.join(w)\n",
        "  return re_cleaned_text"
      ],
      "metadata": {
        "id": "wGHsUAKwkg4q"
      },
      "execution_count": 547,
      "outputs": []
    },
    {
      "cell_type": "code",
      "source": [
        "cleaned_mostfreq_text_China = clean_words(cleaned_text_China, less_frequent_words_China)\n",
        "cleaned_mostfreq_text_USA = clean_words(cleaned_text_USA, less_frequent_words_USA)\n",
        "cleaned_mostfreq_text_China_USA = clean_words(cleaned_text_China_USA, less_frequent_words_China_USA)"
      ],
      "metadata": {
        "colab": {
          "base_uri": "https://localhost:8080/"
        },
        "id": "ZmlqtzHp6lh8",
        "outputId": "d2eaa7d7-ed54-4fae-fef0-d8114dee35b2"
      },
      "execution_count": 548,
      "outputs": [
        {
          "output_type": "stream",
          "name": "stdout",
          "text": [
            "0 / 1336\n",
            "0 / 3957\n",
            "2000 / 3957\n",
            "0 / 5293\n",
            "2000 / 5293\n",
            "4000 / 5293\n"
          ]
        }
      ]
    },
    {
      "cell_type": "code",
      "source": [
        "freq_dict_China = frequency_dictionary(cleaned_mostfreq_text_China)\n",
        "freq_dict_China = dict(sorted(freq_dict_China.items(), key=lambda item: item[1], reverse = True))   #order from more frequent to less frequent word\n",
        "\n",
        "freq_dict_USA = frequency_dictionary(cleaned_mostfreq_text_USA)\n",
        "freq_dict_USA = dict(sorted(freq_dict_USA.items(), key=lambda item: item[1], reverse = True))   #order from more frequent to less frequent word\n",
        "\n",
        "freq_dict_China_USA = frequency_dictionary(cleaned_mostfreq_text_China_USA)\n",
        "freq_dict_China_USA = dict(sorted(freq_dict_China_USA.items(), key=lambda item: item[1], reverse = True))   #order from more frequent to less frequent word\n",
        "\n",
        "# number of words in the cleaned tweets:\n",
        "print('China: ', len(list(freq_dict_China)))\n",
        "print('USA: ', len(list(freq_dict_USA)))\n",
        "print('China&USA: ', len(list(freq_dict_China_USA)))"
      ],
      "metadata": {
        "colab": {
          "base_uri": "https://localhost:8080/"
        },
        "id": "2KHj5-o57f8y",
        "outputId": "5cef296d-8ba3-4b02-dea7-509040c6c29e"
      },
      "execution_count": 549,
      "outputs": [
        {
          "output_type": "stream",
          "name": "stdout",
          "text": [
            "China:  1228\n",
            "USA:  2418\n",
            "China&USA:  2737\n"
          ]
        }
      ]
    },
    {
      "cell_type": "markdown",
      "source": [
        "# Build Network"
      ],
      "metadata": {
        "id": "1davLfA3HNV2"
      }
    },
    {
      "cell_type": "code",
      "source": [
        "df_China = pd.DataFrame.from_dict(freq_dict_China, orient='index').reset_index()\n",
        "df_China.rename(columns = {'index':'Word', 0:'Count'}, inplace=True)\n",
        "df_China.sort_values(by=['Count'], ascending=False, inplace=True)\n",
        "df_China.reset_index(inplace=True)\n",
        "df_China.drop(columns=\"index\",inplace=True)\n",
        "\n",
        "df_USA = pd.DataFrame.from_dict(freq_dict_USA, orient='index').reset_index()\n",
        "df_USA.rename(columns = {'index':'Word', 0:'Count'}, inplace=True)\n",
        "df_USA.sort_values(by=['Count'], ascending=False, inplace=True)\n",
        "df_USA.reset_index(inplace=True)\n",
        "df_USA.drop(columns=\"index\",inplace=True)\n",
        "\n",
        "df_China_USA = pd.DataFrame.from_dict(freq_dict_China_USA, orient='index').reset_index()\n",
        "df_China_USA.rename(columns = {'index':'Word', 0:'Count'}, inplace=True)\n",
        "df_China_USA.sort_values(by=['Count'], ascending=False, inplace=True)\n",
        "df_China_USA.reset_index(inplace=True)\n",
        "df_China_USA.drop(columns=\"index\",inplace=True)\n",
        "\n",
        "print('China')\n",
        "print(df_China.iloc[0:30])\n",
        "print()\n",
        "print('USA')\n",
        "print(df_USA.iloc[0:30])\n",
        "print()\n",
        "print('China&USA')\n",
        "print(df_China_USA.iloc[0:30])\n",
        "print()"
      ],
      "metadata": {
        "colab": {
          "base_uri": "https://localhost:8080/"
        },
        "id": "IxPPnevj890b",
        "outputId": "abded746-a20a-4150-f4bc-926c077f4a74"
      },
      "execution_count": 550,
      "outputs": [
        {
          "output_type": "stream",
          "name": "stdout",
          "text": [
            "China\n",
            "           Word  Count\n",
            "0         covid    959\n",
            "1       vaccine    767\n",
            "2         china    329\n",
            "3           say    191\n",
            "4        report    175\n",
            "5        health    173\n",
            "6          case    172\n",
            "7       country    172\n",
            "8       receive    159\n",
            "9         first    156\n",
            "10      million    151\n",
            "11          new    150\n",
            "12          dos    123\n",
            "13       people    120\n",
            "14     pandemic    113\n",
            "15        batch    105\n",
            "16        world     96\n",
            "17    president     77\n",
            "18       accord     72\n",
            "19         dose     71\n",
            "20          use     70\n",
            "21     national     67\n",
            "22        death     65\n",
            "23          day     65\n",
            "24  vaccination     65\n",
            "25          one     64\n",
            "26         year     63\n",
            "27       brazil     63\n",
            "28   administer     61\n",
            "29       second     59\n",
            "\n",
            "USA\n",
            "           Word  Count\n",
            "0         covid   3021\n",
            "1       vaccine   2128\n",
            "2           say    879\n",
            "3           new    413\n",
            "4          case    395\n",
            "5       johnson    298\n",
            "6          shot    259\n",
            "7       million    258\n",
            "8        report    253\n",
            "9           use    253\n",
            "10      country    247\n",
            "11       people    247\n",
            "12          get    247\n",
            "13        india    238\n",
            "14       health    235\n",
            "15        first    235\n",
            "16          dos    220\n",
            "17        blood    217\n",
            "18  vaccination    216\n",
            "19         clot    215\n",
            "20     pandemic    213\n",
            "21  coronavirus    212\n",
            "22        death    211\n",
            "23        state    207\n",
            "24         year    177\n",
            "25       brazil    167\n",
            "26        surge    157\n",
            "27    president    148\n",
            "28        world    143\n",
            "29    infection    142\n",
            "\n",
            "China&USA\n",
            "           Word  Count\n",
            "0         covid   3980\n",
            "1       vaccine   2895\n",
            "2           say   1070\n",
            "3          case    567\n",
            "4           new    563\n",
            "5         china    461\n",
            "6        report    428\n",
            "7       country    419\n",
            "8       million    409\n",
            "9        health    408\n",
            "10        first    391\n",
            "11       people    367\n",
            "12      johnson    346\n",
            "13          dos    343\n",
            "14     pandemic    326\n",
            "15          use    323\n",
            "16         shot    290\n",
            "17      receive    286\n",
            "18          get    285\n",
            "19  vaccination    281\n",
            "20        death    276\n",
            "21        state    262\n",
            "22        blood    258\n",
            "23  coronavirus    255\n",
            "24        india    249\n",
            "25         clot    247\n",
            "26         year    240\n",
            "27        world    239\n",
            "28       brazil    230\n",
            "29    president    225\n",
            "\n"
          ]
        }
      ]
    },
    {
      "cell_type": "code",
      "source": [
        "keys_China = freq_dict_China.keys()  \n",
        "keys_USA = freq_dict_USA.keys()  \n",
        "keys_China_USA = freq_dict_China_USA.keys()  "
      ],
      "metadata": {
        "id": "zHmEpbLtr46D"
      },
      "execution_count": 551,
      "outputs": []
    },
    {
      "cell_type": "code",
      "source": [
        "def create_network(cleaned_text):\n",
        "  network = {}\n",
        "  #connect the word that appear in the same tweets\n",
        "  for row in cleaned_text:\n",
        "    combined_list = [word for word in str.split(row)]\n",
        "    #for pair in itertools.product(combined_list, combined_list):\n",
        "    #print(combined_list)\n",
        "    for pair in itertools.product(combined_list, combined_list):\n",
        "          #exclude self-loops and count each pair only once because our graph is undirected and we do not take self-loops into account\n",
        "          if pair[0]!=pair[1] and not(pair[::-1] in network):\n",
        "              network.setdefault(pair,0)\n",
        "              network[pair] += 1 \n",
        "  network_df = pd.DataFrame.from_dict(network, orient=\"index\")\n",
        "  network_df.columns = [\"weight\"]\n",
        "  network_df.sort_values(by=\"weight\",inplace=True, ascending=False)\n",
        "  return network, network_df"
      ],
      "metadata": {
        "id": "nUAWB6lT1DAd"
      },
      "execution_count": 518,
      "outputs": []
    },
    {
      "cell_type": "code",
      "source": [
        "network_China, network_df_China = create_network(cleaned_mostfreq_text_China)\n",
        "network_USA, network_df_USA = create_network(cleaned_mostfreq_text_USA)\n",
        "network_China_USA, network_df_China_USA = create_network(cleaned_mostfreq_text_China_USA)"
      ],
      "metadata": {
        "id": "7vR_r37vAGye"
      },
      "execution_count": 552,
      "outputs": []
    },
    {
      "cell_type": "code",
      "source": [
        "print('China:')\n",
        "print(network_df_China.iloc[0:30])\n",
        "print()\n",
        "print('USA:')\n",
        "print(network_df_USA.iloc[0:30])\n",
        "print()\n",
        "print('China&USA:')\n",
        "print(network_df_China_USA.iloc[0:30])\n",
        "print()"
      ],
      "metadata": {
        "colab": {
          "base_uri": "https://localhost:8080/"
        },
        "id": "RxMWDZua_b-l",
        "outputId": "3d56dde5-56f7-4190-c274-8406fcb3255f"
      },
      "execution_count": 553,
      "outputs": [
        {
          "output_type": "stream",
          "name": "stdout",
          "text": [
            "China:\n",
            "                    weight\n",
            "(covid, vaccine)       529\n",
            "(vaccine, china)       254\n",
            "(china, covid)         250\n",
            "(receive, vaccine)     171\n",
            "(covid, case)          143\n",
            "(million, covid)       141\n",
            "(health, covid)        139\n",
            "(vaccine, say)         137\n",
            "(vaccine, dos)         135\n",
            "(covid, say)           135\n",
            "(country, vaccine)     134\n",
            "(covid, country)       127\n",
            "(first, vaccine)       125\n",
            "(new, covid)           125\n",
            "(covid, report)        121\n",
            "(first, covid)         119\n",
            "(receive, covid)       118\n",
            "(million, vaccine)     113\n",
            "(vaccine, health)      110\n",
            "(batch, vaccine)       109\n",
            "(covid, dos)           105\n",
            "(covid, pandemic)      103\n",
            "(new, case)             98\n",
            "(covid, people)         92\n",
            "(batch, covid)          90\n",
            "(million, dos)          90\n",
            "(vaccine, use)          83\n",
            "(case, report)          81\n",
            "(world, covid)          74\n",
            "(dose, vaccine)         73\n",
            "\n",
            "USA:\n",
            "                      weight\n",
            "(vaccine, covid)        1459\n",
            "(covid, say)             649\n",
            "(vaccine, say)           633\n",
            "(new, covid)             363\n",
            "(covid, case)            354\n",
            "(johnson, vaccine)       287\n",
            "(johnson, covid)         239\n",
            "(use, vaccine)           238\n",
            "(vaccine, clot)          234\n",
            "(vaccine, blood)         233\n",
            "(vaccine, dos)           224\n",
            "(report, covid)          223\n",
            "(million, covid)         198\n",
            "(blood, clot)            197\n",
            "(country, covid)         196\n",
            "(covid, death)           195\n",
            "(covid, shot)            193\n",
            "(covid, first)           192\n",
            "(india, covid)           185\n",
            "(covid, get)             185\n",
            "(million, vaccine)       184\n",
            "(use, covid)             183\n",
            "(covid, health)          182\n",
            "(covid, dos)             174\n",
            "(people, covid)          165\n",
            "(shot, vaccine)          163\n",
            "(covid, vaccination)     162\n",
            "(state, covid)           162\n",
            "(get, vaccine)           160\n",
            "(country, vaccine)       152\n",
            "\n",
            "China&USA:\n",
            "                    weight\n",
            "(covid, vaccine)      1988\n",
            "(covid, say)           784\n",
            "(vaccine, say)         770\n",
            "(covid, case)          497\n",
            "(new, covid)           488\n",
            "(china, covid)         364\n",
            "(vaccine, dos)         359\n",
            "(covid, report)        344\n",
            "(johnson, vaccine)     343\n",
            "(million, covid)       339\n",
            "(vaccine, china)       326\n",
            "(covid, country)       323\n",
            "(health, covid)        321\n",
            "(vaccine, use)         321\n",
            "(first, covid)         311\n",
            "(million, vaccine)     297\n",
            "(country, vaccine)     286\n",
            "(receive, vaccine)     280\n",
            "(covid, dos)           279\n",
            "(vaccine, blood)       276\n",
            "(vaccine, clot)        268\n",
            "(covid, people)        257\n",
            "(johnson, covid)       257\n",
            "(covid, death)         256\n",
            "(first, vaccine)       251\n",
            "(covid, pandemic)      250\n",
            "(vaccine, health)      249\n",
            "(use, covid)           234\n",
            "(receive, covid)       233\n",
            "(blood, clot)          233\n",
            "\n"
          ]
        }
      ]
    },
    {
      "cell_type": "markdown",
      "source": [
        "#Graph\n"
      ],
      "metadata": {
        "id": "gfvo8x0Ku78D"
      }
    },
    {
      "cell_type": "code",
      "source": [
        "def get_graph(network):\n",
        "  up_weighted = []\n",
        "  for edge in network:\n",
        "      #we can filter edges by weight by uncommenting the next line and setting desired weight threshold\n",
        "      up_weighted.append((edge[0],edge[1],network[edge]))\n",
        "      \n",
        "  #print(network)\n",
        "  #print(up_weighted[0:10])\n",
        "  G = nx.Graph()\n",
        "  G.add_weighted_edges_from(up_weighted)\n",
        "  return G"
      ],
      "metadata": {
        "id": "2NGKuSuYAo-K"
      },
      "execution_count": 521,
      "outputs": []
    },
    {
      "cell_type": "code",
      "source": [
        "G_China = get_graph(network_China)\n",
        "G_USA = get_graph(network_USA)\n",
        "G_China_USA = get_graph(network_China_USA)"
      ],
      "metadata": {
        "id": "TbpTF19bBKJq"
      },
      "execution_count": 554,
      "outputs": []
    },
    {
      "cell_type": "code",
      "source": [
        "print('China:')\n",
        "print('Nodes: ',len(G_China.nodes()))\n",
        "print('Edges: ',len(G_China.edges()))\n",
        "print('Is connected: ',nx.is_connected(G_China))\n",
        "print()\n",
        "print('USA:')\n",
        "print('Nodes: ',len(G_USA.nodes()))\n",
        "print('Edges: ',len(G_USA.edges()))\n",
        "print('Is connected: ',nx.is_connected(G_USA))\n",
        "print()\n",
        "print('China&USA:')\n",
        "print('Nodes: ',len(G_China_USA.nodes()))\n",
        "print('Edges: ',len(G_China_USA.edges()))\n",
        "print('Is connected: ',nx.is_connected(G_China_USA))"
      ],
      "metadata": {
        "id": "W178ljb9rM6Z",
        "colab": {
          "base_uri": "https://localhost:8080/"
        },
        "outputId": "8d22f539-8fa6-4f5e-cefb-a5715f81df7e"
      },
      "execution_count": 555,
      "outputs": [
        {
          "output_type": "stream",
          "name": "stdout",
          "text": [
            "China:\n",
            "Nodes:  1228\n",
            "Edges:  32532\n",
            "Is connected:  True\n",
            "\n",
            "USA:\n",
            "Nodes:  2418\n",
            "Edges:  87358\n",
            "Is connected:  True\n",
            "\n",
            "China&USA:\n",
            "Nodes:  2737\n",
            "Edges:  113899\n",
            "Is connected:  True\n"
          ]
        }
      ]
    },
    {
      "cell_type": "markdown",
      "source": [
        "# PageRank"
      ],
      "metadata": {
        "id": "1LYNr4McLtWD"
      }
    },
    {
      "cell_type": "code",
      "execution_count": 556,
      "metadata": {
        "id": "P6qJVv9vHIr1"
      },
      "outputs": [],
      "source": [
        "# Calculating the pagerank on graph G, teleportation probability here is 0.15 but since the graph is strongly connected we can set it to zero if we want\n",
        "pr_China = nx.algorithms.pagerank(G_China,alpha = 1)\n",
        "pr_China = dict(sorted(pr_China.items(), key=lambda item: item[1],reverse  = True))\n",
        "\n",
        "pr_USA = nx.algorithms.pagerank(G_USA,alpha = 1)\n",
        "pr_USA = dict(sorted(pr_USA.items(), key=lambda item: item[1],reverse  = True))\n",
        "\n",
        "pr_China_USA = nx.algorithms.pagerank(G_China_USA,alpha = 1)\n",
        "pr_China_USA = dict(sorted(pr_China_USA.items(), key=lambda item: item[1],reverse  = True))"
      ]
    },
    {
      "cell_type": "code",
      "execution_count": 525,
      "metadata": {
        "id": "BcVoAXxqpqLd"
      },
      "outputs": [],
      "source": [
        "def threshold(vector,threshold):\n",
        "\n",
        "  l = [(el,vector[el]) for el in vector if vector[el] >= threshold ]\n",
        "\n",
        "  return pd.DataFrame(l)"
      ]
    },
    {
      "cell_type": "code",
      "source": [
        "def threshold_reverse(vector,threshold):\n",
        "\n",
        "  l = [(el,vector[el]) for el in vector if vector[el] < threshold ]\n",
        "\n",
        "  return pd.DataFrame(l)"
      ],
      "metadata": {
        "id": "7-UFIOEJL6bY"
      },
      "execution_count": 526,
      "outputs": []
    },
    {
      "cell_type": "code",
      "execution_count": 557,
      "metadata": {
        "colab": {
          "base_uri": "https://localhost:8080/"
        },
        "id": "7cUhquN72cI6",
        "outputId": "438adac5-b626-40a7-f98f-cdff03faa201"
      },
      "outputs": [
        {
          "output_type": "stream",
          "name": "stdout",
          "text": [
            "China:  523\n",
            "\n",
            "              0         1\n",
            "0         covid  0.061217\n",
            "1       vaccine  0.047503\n",
            "2         china  0.022432\n",
            "3           say  0.015631\n",
            "4        health  0.014202\n",
            "5       country  0.013810\n",
            "6        report  0.012769\n",
            "7          case  0.011512\n",
            "8         first  0.010615\n",
            "9       million  0.010405\n",
            "10      receive  0.009780\n",
            "11          new  0.009638\n",
            "12       people  0.009204\n",
            "13          dos  0.008638\n",
            "14        world  0.007912\n",
            "15     pandemic  0.007704\n",
            "16       accord  0.005808\n",
            "17        batch  0.005489\n",
            "18          day  0.005189\n",
            "19     national  0.005167\n",
            "20          use  0.005116\n",
            "21    president  0.005032\n",
            "22        death  0.004961\n",
            "23  vaccination  0.004882\n",
            "24         year  0.004831\n",
            "25       brazil  0.004695\n",
            "26         dose  0.004447\n",
            "27   administer  0.004420\n",
            "28       origin  0.004385\n",
            "29         city  0.004313\n",
            "\n",
            "USA:  521\n",
            "\n",
            "              0         1\n",
            "0         covid  0.058642\n",
            "1       vaccine  0.042766\n",
            "2           say  0.021170\n",
            "3           new  0.008835\n",
            "4          case  0.008359\n",
            "5       johnson  0.007753\n",
            "6       country  0.006850\n",
            "7        health  0.006667\n",
            "8        people  0.006629\n",
            "9          shot  0.006366\n",
            "10          get  0.006352\n",
            "11     pandemic  0.006169\n",
            "12  coronavirus  0.006051\n",
            "13       report  0.005757\n",
            "14        blood  0.005744\n",
            "15          use  0.005733\n",
            "16        first  0.005445\n",
            "17         clot  0.005436\n",
            "18        state  0.005408\n",
            "19  vaccination  0.005198\n",
            "20         year  0.005084\n",
            "21      million  0.005026\n",
            "22        death  0.004767\n",
            "23        india  0.004504\n",
            "24          dos  0.004194\n",
            "25        world  0.003827\n",
            "26          day  0.003755\n",
            "27        surge  0.003730\n",
            "28    president  0.003632\n",
            "29     official  0.003563\n",
            "\n",
            "China&USA:  509\n",
            "\n",
            "              0         1\n",
            "0         covid  0.058543\n",
            "1       vaccine  0.043220\n",
            "2           say  0.019585\n",
            "3          case  0.008983\n",
            "4           new  0.008922\n",
            "5       country  0.008440\n",
            "6        health  0.008381\n",
            "7        report  0.007372\n",
            "8        people  0.007178\n",
            "9         china  0.007125\n",
            "10     pandemic  0.006581\n",
            "11        first  0.006576\n",
            "12      johnson  0.006531\n",
            "13      million  0.006215\n",
            "14          use  0.005506\n",
            "15          get  0.005307\n",
            "16         shot  0.005267\n",
            "17  coronavirus  0.005203\n",
            "18          dos  0.005165\n",
            "19        state  0.005079\n",
            "20  vaccination  0.005045\n",
            "21         year  0.005003\n",
            "22        blood  0.005001\n",
            "23        world  0.004782\n",
            "24        death  0.004742\n",
            "25      receive  0.004707\n",
            "26         clot  0.004623\n",
            "27          day  0.004059\n",
            "28    president  0.003929\n",
            "29       accord  0.003725\n"
          ]
        }
      ],
      "source": [
        "thr = 0.0004\n",
        "print('China: ', len(threshold(pr_China,thr)))\n",
        "print()\n",
        "print(threshold(pr_China,thr).iloc[:30])\n",
        "print()\n",
        "print('USA: ', len(threshold(pr_USA,thr)))\n",
        "print()\n",
        "print(threshold(pr_USA,thr).iloc[:30])\n",
        "print()\n",
        "print('China&USA: ', len(threshold(pr_China_USA,thr)))\n",
        "print()\n",
        "print(threshold(pr_China_USA,thr).iloc[:30])"
      ]
    },
    {
      "cell_type": "markdown",
      "source": [
        "# reduced graph"
      ],
      "metadata": {
        "id": "4nkLA8k0LB7b"
      }
    },
    {
      "cell_type": "code",
      "source": [
        "# less important words:\n",
        "less_important_words_China = list(threshold_reverse(pr_China,thr)[0])\n",
        "\n",
        "less_important_words_USA = list(threshold_reverse(pr_USA,thr)[0])\n",
        "\n",
        "less_important_words_China_USA = list(threshold_reverse(pr_China_USA,thr)[0])"
      ],
      "metadata": {
        "id": "6ndwCL9oLpDA"
      },
      "execution_count": 558,
      "outputs": []
    },
    {
      "cell_type": "code",
      "source": [
        "cleaned_mostimp_text_China = clean_words(cleaned_mostfreq_text_China,less_important_words_China)\n",
        "cleaned_mostimp_text_USA = clean_words(cleaned_mostfreq_text_USA,less_important_words_USA)\n",
        "cleaned_mostimp_text_China_USA = clean_words(cleaned_mostfreq_text_China_USA,less_important_words_China_USA)"
      ],
      "metadata": {
        "colab": {
          "base_uri": "https://localhost:8080/"
        },
        "id": "TOA3UEyBunzo",
        "outputId": "11476be2-0cd9-4a74-ab7a-dc8d46d4a6f2"
      },
      "execution_count": 559,
      "outputs": [
        {
          "output_type": "stream",
          "name": "stdout",
          "text": [
            "0 / 1336\n",
            "0 / 3957\n",
            "2000 / 3957\n",
            "0 / 5293\n",
            "2000 / 5293\n",
            "4000 / 5293\n"
          ]
        }
      ]
    },
    {
      "cell_type": "code",
      "source": [
        "freq_dict_China = frequency_dictionary(cleaned_mostimp_text_China)\n",
        "freq_dict_China = dict(sorted(freq_dict_China.items(), key=lambda item: item[1], reverse = True))   #order from more frequent to less frequent word\n",
        "\n",
        "freq_dict_USA = frequency_dictionary(cleaned_mostimp_text_USA)\n",
        "freq_dict_USA = dict(sorted(freq_dict_USA.items(), key=lambda item: item[1], reverse = True))   #order from more frequent to less frequent word\n",
        "\n",
        "freq_dict_China_USA = frequency_dictionary(cleaned_mostimp_text_China_USA)\n",
        "freq_dict_China_USA = dict(sorted(freq_dict_China_USA.items(), key=lambda item: item[1], reverse = True))   #order from more frequent to less frequent word\n",
        "\n",
        "# number of words in the cleaned tweets:\n",
        "print('China: ', len(list(freq_dict_China)))\n",
        "print('USA: ', len(list(freq_dict_USA)))\n",
        "print('China&USA: ', len(list(freq_dict_China_USA)))"
      ],
      "metadata": {
        "colab": {
          "base_uri": "https://localhost:8080/"
        },
        "outputId": "3af57ad3-1f26-4f38-d8b1-e39e25c94ded",
        "id": "X2ObCNtJLpDB"
      },
      "execution_count": 560,
      "outputs": [
        {
          "output_type": "stream",
          "name": "stdout",
          "text": [
            "China:  523\n",
            "USA:  521\n",
            "China&USA:  509\n"
          ]
        }
      ]
    },
    {
      "cell_type": "code",
      "source": [
        "df_China = pd.DataFrame.from_dict(freq_dict_China, orient='index').reset_index()\n",
        "df_China.rename(columns = {'index':'Word', 0:'Count'}, inplace=True)\n",
        "df_China.sort_values(by=['Count'], ascending=False, inplace=True)\n",
        "df_China.reset_index(inplace=True)\n",
        "df_China.drop(columns=\"index\",inplace=True)\n",
        "\n",
        "df_USA = pd.DataFrame.from_dict(freq_dict_USA, orient='index').reset_index()\n",
        "df_USA.rename(columns = {'index':'Word', 0:'Count'}, inplace=True)\n",
        "df_USA.sort_values(by=['Count'], ascending=False, inplace=True)\n",
        "df_USA.reset_index(inplace=True)\n",
        "df_USA.drop(columns=\"index\",inplace=True)\n",
        "\n",
        "df_China_USA = pd.DataFrame.from_dict(freq_dict_China_USA, orient='index').reset_index()\n",
        "df_China_USA.rename(columns = {'index':'Word', 0:'Count'}, inplace=True)\n",
        "df_China_USA.sort_values(by=['Count'], ascending=False, inplace=True)\n",
        "df_China_USA.reset_index(inplace=True)\n",
        "df_China_USA.drop(columns=\"index\",inplace=True)\n",
        "\n",
        "print('China')\n",
        "print(df_China.iloc[0:30])\n",
        "print()\n",
        "print('USA')\n",
        "print(df_USA.iloc[0:30])\n",
        "print()\n",
        "print('China&USA')\n",
        "print(df_China_USA.iloc[0:30])\n",
        "print()"
      ],
      "metadata": {
        "colab": {
          "base_uri": "https://localhost:8080/"
        },
        "outputId": "83d27255-0c91-493c-c2d0-b068aad4d38d",
        "id": "DfrViAqzNnb9"
      },
      "execution_count": 561,
      "outputs": [
        {
          "output_type": "stream",
          "name": "stdout",
          "text": [
            "China\n",
            "           Word  Count\n",
            "0         covid    959\n",
            "1       vaccine    767\n",
            "2         china    329\n",
            "3           say    191\n",
            "4        report    175\n",
            "5        health    173\n",
            "6          case    172\n",
            "7       country    172\n",
            "8       receive    159\n",
            "9         first    156\n",
            "10      million    151\n",
            "11          new    150\n",
            "12          dos    123\n",
            "13       people    120\n",
            "14     pandemic    113\n",
            "15        batch    105\n",
            "16        world     96\n",
            "17    president     77\n",
            "18       accord     72\n",
            "19         dose     71\n",
            "20          use     70\n",
            "21     national     67\n",
            "22        death     65\n",
            "23          day     65\n",
            "24  vaccination     65\n",
            "25          one     64\n",
            "26         year     63\n",
            "27       brazil     63\n",
            "28   administer     61\n",
            "29       second     59\n",
            "\n",
            "USA\n",
            "           Word  Count\n",
            "0         covid   3021\n",
            "1       vaccine   2128\n",
            "2           say    879\n",
            "3           new    413\n",
            "4          case    395\n",
            "5       johnson    298\n",
            "6          shot    259\n",
            "7       million    258\n",
            "8        report    253\n",
            "9           use    253\n",
            "10      country    247\n",
            "11       people    247\n",
            "12          get    247\n",
            "13        india    238\n",
            "14       health    235\n",
            "15        first    235\n",
            "16          dos    220\n",
            "17        blood    217\n",
            "18  vaccination    216\n",
            "19         clot    215\n",
            "20     pandemic    213\n",
            "21  coronavirus    212\n",
            "22        death    211\n",
            "23        state    207\n",
            "24         year    177\n",
            "25       brazil    167\n",
            "26        surge    157\n",
            "27    president    148\n",
            "28        world    143\n",
            "29    infection    142\n",
            "\n",
            "China&USA\n",
            "           Word  Count\n",
            "0         covid   3980\n",
            "1       vaccine   2895\n",
            "2           say   1070\n",
            "3          case    567\n",
            "4           new    563\n",
            "5         china    461\n",
            "6        report    428\n",
            "7       country    419\n",
            "8       million    409\n",
            "9        health    408\n",
            "10        first    391\n",
            "11       people    367\n",
            "12      johnson    346\n",
            "13          dos    343\n",
            "14     pandemic    326\n",
            "15          use    323\n",
            "16         shot    290\n",
            "17      receive    286\n",
            "18          get    285\n",
            "19  vaccination    281\n",
            "20        death    276\n",
            "21        state    262\n",
            "22        blood    258\n",
            "23  coronavirus    255\n",
            "24        india    249\n",
            "25         clot    247\n",
            "26         year    240\n",
            "27        world    239\n",
            "28       brazil    230\n",
            "29    president    225\n",
            "\n"
          ]
        }
      ]
    },
    {
      "cell_type": "code",
      "source": [
        "keys_China = freq_dict_China.keys()  \n",
        "keys_USA = freq_dict_USA.keys()  \n",
        "keys_China_USA = freq_dict_China_USA.keys()  "
      ],
      "metadata": {
        "id": "Q52SCkkKNncF"
      },
      "execution_count": 562,
      "outputs": []
    },
    {
      "cell_type": "code",
      "source": [
        "network_China, network_df_China = create_network(cleaned_mostimp_text_China)\n",
        "network_USA, network_df_USA = create_network(cleaned_mostimp_text_USA)\n",
        "network_China_USA, network_df_China_USA = create_network(cleaned_mostimp_text_China_USA)"
      ],
      "metadata": {
        "id": "bPn3tfv7NncF"
      },
      "execution_count": 563,
      "outputs": []
    },
    {
      "cell_type": "code",
      "source": [
        "print('China:')\n",
        "print(network_df_China.iloc[0:30])\n",
        "print()\n",
        "print('USA:')\n",
        "print(network_df_USA.iloc[0:30])\n",
        "print()\n",
        "print('China&USA:')\n",
        "print(network_df_China_USA.iloc[0:30])\n",
        "print()"
      ],
      "metadata": {
        "colab": {
          "base_uri": "https://localhost:8080/"
        },
        "outputId": "959e6feb-8276-4e04-80ec-37e021f5cb87",
        "id": "MVggBElVNncF"
      },
      "execution_count": 564,
      "outputs": [
        {
          "output_type": "stream",
          "name": "stdout",
          "text": [
            "China:\n",
            "                    weight\n",
            "(covid, vaccine)       529\n",
            "(vaccine, china)       254\n",
            "(china, covid)         250\n",
            "(receive, vaccine)     171\n",
            "(covid, case)          143\n",
            "(million, covid)       141\n",
            "(health, covid)        139\n",
            "(vaccine, say)         137\n",
            "(vaccine, dos)         135\n",
            "(covid, say)           135\n",
            "(country, vaccine)     134\n",
            "(covid, country)       127\n",
            "(first, vaccine)       125\n",
            "(new, covid)           125\n",
            "(covid, report)        121\n",
            "(first, covid)         119\n",
            "(receive, covid)       118\n",
            "(million, vaccine)     113\n",
            "(vaccine, health)      110\n",
            "(batch, vaccine)       109\n",
            "(covid, dos)           105\n",
            "(covid, pandemic)      103\n",
            "(new, case)             98\n",
            "(covid, people)         92\n",
            "(batch, covid)          90\n",
            "(million, dos)          90\n",
            "(vaccine, use)          83\n",
            "(case, report)          81\n",
            "(world, covid)          74\n",
            "(dose, vaccine)         73\n",
            "\n",
            "USA:\n",
            "                      weight\n",
            "(vaccine, covid)        1459\n",
            "(covid, say)             649\n",
            "(vaccine, say)           633\n",
            "(new, covid)             363\n",
            "(covid, case)            354\n",
            "(johnson, vaccine)       287\n",
            "(johnson, covid)         239\n",
            "(use, vaccine)           238\n",
            "(vaccine, clot)          234\n",
            "(vaccine, blood)         233\n",
            "(vaccine, dos)           224\n",
            "(report, covid)          223\n",
            "(million, covid)         198\n",
            "(blood, clot)            197\n",
            "(country, covid)         196\n",
            "(covid, death)           195\n",
            "(covid, shot)            193\n",
            "(covid, first)           192\n",
            "(india, covid)           185\n",
            "(covid, get)             185\n",
            "(million, vaccine)       184\n",
            "(use, covid)             183\n",
            "(covid, health)          182\n",
            "(covid, dos)             174\n",
            "(people, covid)          165\n",
            "(shot, vaccine)          163\n",
            "(state, covid)           162\n",
            "(covid, vaccination)     162\n",
            "(get, vaccine)           160\n",
            "(country, vaccine)       152\n",
            "\n",
            "China&USA:\n",
            "                    weight\n",
            "(covid, vaccine)      1988\n",
            "(covid, say)           784\n",
            "(vaccine, say)         770\n",
            "(covid, case)          497\n",
            "(new, covid)           488\n",
            "(china, covid)         364\n",
            "(vaccine, dos)         359\n",
            "(covid, report)        344\n",
            "(johnson, vaccine)     343\n",
            "(million, covid)       339\n",
            "(vaccine, china)       326\n",
            "(covid, country)       323\n",
            "(health, covid)        321\n",
            "(vaccine, use)         321\n",
            "(first, covid)         311\n",
            "(million, vaccine)     297\n",
            "(country, vaccine)     286\n",
            "(receive, vaccine)     280\n",
            "(covid, dos)           279\n",
            "(vaccine, blood)       276\n",
            "(vaccine, clot)        268\n",
            "(johnson, covid)       257\n",
            "(covid, people)        257\n",
            "(covid, death)         256\n",
            "(first, vaccine)       251\n",
            "(covid, pandemic)      250\n",
            "(vaccine, health)      249\n",
            "(use, covid)           234\n",
            "(blood, clot)          233\n",
            "(receive, covid)       233\n",
            "\n"
          ]
        }
      ]
    },
    {
      "cell_type": "code",
      "source": [
        "def get_graph(network):\n",
        "  up_weighted = []\n",
        "  for edge in network:\n",
        "      #we can filter edges by weight by uncommenting the next line and setting desired weight threshold\n",
        "      up_weighted.append((edge[0],edge[1],network[edge]))\n",
        "      \n",
        "  #print(network)\n",
        "  #print(up_weighted[0:10])\n",
        "  G = nx.Graph()\n",
        "  G.add_weighted_edges_from(up_weighted)\n",
        "  return G"
      ],
      "metadata": {
        "id": "fmQTFAb3NncF"
      },
      "execution_count": 565,
      "outputs": []
    },
    {
      "cell_type": "code",
      "source": [
        "G_China = get_graph(network_China)\n",
        "G_USA = get_graph(network_USA)\n",
        "G_China_USA = get_graph(network_China_USA)"
      ],
      "metadata": {
        "id": "zNrH5boVNncF"
      },
      "execution_count": 566,
      "outputs": []
    },
    {
      "cell_type": "code",
      "source": [
        "print('China:')\n",
        "print('Nodes: ',len(G_China.nodes()))\n",
        "print('Edges: ',len(G_China.edges()))\n",
        "print('Is connected: ',nx.is_connected(G_China))\n",
        "print()\n",
        "print('USA:')\n",
        "print('Nodes: ',len(G_USA.nodes()))\n",
        "print('Edges: ',len(G_USA.edges()))\n",
        "print('Is connected: ',nx.is_connected(G_USA))\n",
        "print()\n",
        "print('China&USA:')\n",
        "print('Nodes: ',len(G_China_USA.nodes()))\n",
        "print('Edges: ',len(G_China_USA.edges()))\n",
        "print('Is connected: ',nx.is_connected(G_China_USA))"
      ],
      "metadata": {
        "colab": {
          "base_uri": "https://localhost:8080/"
        },
        "outputId": "1423db16-d234-4c69-f7a1-7b0b77fdfd68",
        "id": "kx5041hFNncF"
      },
      "execution_count": 567,
      "outputs": [
        {
          "output_type": "stream",
          "name": "stdout",
          "text": [
            "China:\n",
            "Nodes:  523\n",
            "Edges:  18792\n",
            "Is connected:  True\n",
            "\n",
            "USA:\n",
            "Nodes:  521\n",
            "Edges:  34979\n",
            "Is connected:  True\n",
            "\n",
            "China&USA:\n",
            "Nodes:  509\n",
            "Edges:  40744\n",
            "Is connected:  True\n"
          ]
        }
      ]
    },
    {
      "cell_type": "markdown",
      "source": [
        "#Save edge list"
      ],
      "metadata": {
        "id": "p4SvWlzSfzFv"
      }
    },
    {
      "cell_type": "code",
      "source": [
        "filename = './edgelist_China_MarchApril2021.csv'\n",
        "nx.write_weighted_edgelist(G_China, filename, delimiter=\",\")\n",
        "#add header with appropriate column names (works on colab and Linux/Mac(?))\n",
        "!sed -i.bak 1i\"Source,Target,Weight\" ./edgelist_China_MarchApril2021.csv\n",
        "files.download(\"edgelist_China_MarchApril2021.csv\")\n",
        "\n",
        "filename = './edgelist_USA_MarchApril2021.csv'\n",
        "nx.write_weighted_edgelist(G_USA, filename, delimiter=\",\")\n",
        "#add header with appropriate column names (works on colab and Linux/Mac(?))\n",
        "!sed -i.bak 1i\"Source,Target,Weight\" ./edgelist_USA_MarchApril2021.csv\n",
        "files.download(\"edgelist_USA_MarchApril2021.csv\")\n",
        "\n",
        "filename = './edgelist_China_USA_MarchApril2021.csv'\n",
        "nx.write_weighted_edgelist(G_China_USA, filename, delimiter=\",\")\n",
        "#add header with appropriate column names (works on colab and Linux/Mac(?))\n",
        "!sed -i.bak 1i\"Source,Target,Weight\" ./edgelist_China_USA_MarchApril2021.csv\n",
        "files.download(\"edgelist_China_USA_MarchApril2021.csv\")"
      ],
      "metadata": {
        "id": "zgmmRGRCrM9J",
        "colab": {
          "base_uri": "https://localhost:8080/",
          "height": 17
        },
        "outputId": "37969406-7afa-4513-c349-23ef94040bfb"
      },
      "execution_count": 568,
      "outputs": [
        {
          "output_type": "display_data",
          "data": {
            "application/javascript": [
              "\n",
              "    async function download(id, filename, size) {\n",
              "      if (!google.colab.kernel.accessAllowed) {\n",
              "        return;\n",
              "      }\n",
              "      const div = document.createElement('div');\n",
              "      const label = document.createElement('label');\n",
              "      label.textContent = `Downloading \"${filename}\": `;\n",
              "      div.appendChild(label);\n",
              "      const progress = document.createElement('progress');\n",
              "      progress.max = size;\n",
              "      div.appendChild(progress);\n",
              "      document.body.appendChild(div);\n",
              "\n",
              "      const buffers = [];\n",
              "      let downloaded = 0;\n",
              "\n",
              "      const channel = await google.colab.kernel.comms.open(id);\n",
              "      // Send a message to notify the kernel that we're ready.\n",
              "      channel.send({})\n",
              "\n",
              "      for await (const message of channel.messages) {\n",
              "        // Send a message to notify the kernel that we're ready.\n",
              "        channel.send({})\n",
              "        if (message.buffers) {\n",
              "          for (const buffer of message.buffers) {\n",
              "            buffers.push(buffer);\n",
              "            downloaded += buffer.byteLength;\n",
              "            progress.value = downloaded;\n",
              "          }\n",
              "        }\n",
              "      }\n",
              "      const blob = new Blob(buffers, {type: 'application/binary'});\n",
              "      const a = document.createElement('a');\n",
              "      a.href = window.URL.createObjectURL(blob);\n",
              "      a.download = filename;\n",
              "      div.appendChild(a);\n",
              "      a.click();\n",
              "      div.remove();\n",
              "    }\n",
              "  "
            ],
            "text/plain": [
              "<IPython.core.display.Javascript object>"
            ]
          },
          "metadata": {}
        },
        {
          "output_type": "display_data",
          "data": {
            "application/javascript": [
              "download(\"download_2927dbec-915a-487c-ab4f-f73590c1b533\", \"edgelist_China_MarchApril2021.csv\", 296962)"
            ],
            "text/plain": [
              "<IPython.core.display.Javascript object>"
            ]
          },
          "metadata": {}
        },
        {
          "output_type": "display_data",
          "data": {
            "application/javascript": [
              "\n",
              "    async function download(id, filename, size) {\n",
              "      if (!google.colab.kernel.accessAllowed) {\n",
              "        return;\n",
              "      }\n",
              "      const div = document.createElement('div');\n",
              "      const label = document.createElement('label');\n",
              "      label.textContent = `Downloading \"${filename}\": `;\n",
              "      div.appendChild(label);\n",
              "      const progress = document.createElement('progress');\n",
              "      progress.max = size;\n",
              "      div.appendChild(progress);\n",
              "      document.body.appendChild(div);\n",
              "\n",
              "      const buffers = [];\n",
              "      let downloaded = 0;\n",
              "\n",
              "      const channel = await google.colab.kernel.comms.open(id);\n",
              "      // Send a message to notify the kernel that we're ready.\n",
              "      channel.send({})\n",
              "\n",
              "      for await (const message of channel.messages) {\n",
              "        // Send a message to notify the kernel that we're ready.\n",
              "        channel.send({})\n",
              "        if (message.buffers) {\n",
              "          for (const buffer of message.buffers) {\n",
              "            buffers.push(buffer);\n",
              "            downloaded += buffer.byteLength;\n",
              "            progress.value = downloaded;\n",
              "          }\n",
              "        }\n",
              "      }\n",
              "      const blob = new Blob(buffers, {type: 'application/binary'});\n",
              "      const a = document.createElement('a');\n",
              "      a.href = window.URL.createObjectURL(blob);\n",
              "      a.download = filename;\n",
              "      div.appendChild(a);\n",
              "      a.click();\n",
              "      div.remove();\n",
              "    }\n",
              "  "
            ],
            "text/plain": [
              "<IPython.core.display.Javascript object>"
            ]
          },
          "metadata": {}
        },
        {
          "output_type": "display_data",
          "data": {
            "application/javascript": [
              "download(\"download_9161aec8-321e-4699-a1f5-1c5804e06fe1\", \"edgelist_USA_MarchApril2021.csv\", 538650)"
            ],
            "text/plain": [
              "<IPython.core.display.Javascript object>"
            ]
          },
          "metadata": {}
        },
        {
          "output_type": "display_data",
          "data": {
            "application/javascript": [
              "\n",
              "    async function download(id, filename, size) {\n",
              "      if (!google.colab.kernel.accessAllowed) {\n",
              "        return;\n",
              "      }\n",
              "      const div = document.createElement('div');\n",
              "      const label = document.createElement('label');\n",
              "      label.textContent = `Downloading \"${filename}\": `;\n",
              "      div.appendChild(label);\n",
              "      const progress = document.createElement('progress');\n",
              "      progress.max = size;\n",
              "      div.appendChild(progress);\n",
              "      document.body.appendChild(div);\n",
              "\n",
              "      const buffers = [];\n",
              "      let downloaded = 0;\n",
              "\n",
              "      const channel = await google.colab.kernel.comms.open(id);\n",
              "      // Send a message to notify the kernel that we're ready.\n",
              "      channel.send({})\n",
              "\n",
              "      for await (const message of channel.messages) {\n",
              "        // Send a message to notify the kernel that we're ready.\n",
              "        channel.send({})\n",
              "        if (message.buffers) {\n",
              "          for (const buffer of message.buffers) {\n",
              "            buffers.push(buffer);\n",
              "            downloaded += buffer.byteLength;\n",
              "            progress.value = downloaded;\n",
              "          }\n",
              "        }\n",
              "      }\n",
              "      const blob = new Blob(buffers, {type: 'application/binary'});\n",
              "      const a = document.createElement('a');\n",
              "      a.href = window.URL.createObjectURL(blob);\n",
              "      a.download = filename;\n",
              "      div.appendChild(a);\n",
              "      a.click();\n",
              "      div.remove();\n",
              "    }\n",
              "  "
            ],
            "text/plain": [
              "<IPython.core.display.Javascript object>"
            ]
          },
          "metadata": {}
        },
        {
          "output_type": "display_data",
          "data": {
            "application/javascript": [
              "download(\"download_0449dea1-e865-4826-ad0a-99cd4c9fe610\", \"edgelist_China_USA_MarchApril2021.csv\", 628891)"
            ],
            "text/plain": [
              "<IPython.core.display.Javascript object>"
            ]
          },
          "metadata": {}
        }
      ]
    },
    {
      "cell_type": "markdown",
      "source": [
        "\n",
        "\n",
        "\n",
        "\n",
        "# Create Node List\n",
        "\n",
        "\n"
      ],
      "metadata": {
        "id": "nWHLO7AhdwzR"
      }
    },
    {
      "cell_type": "code",
      "source": [
        "def nodes(freq_dict, name):\n",
        "  word_nodes = pd.DataFrame.from_dict(freq_dict,orient=\"index\")\n",
        "  word_nodes.reset_index(inplace=True)\n",
        "  word_nodes[\"Label\"] = word_nodes[\"index\"]\n",
        "  word_nodes.rename(columns={\"index\":\"Id\",0:\"delete\"},inplace=True)\n",
        "  word_nodes = word_nodes.drop(columns=['delete'])\n",
        "  nodelist = pd.DataFrame()\n",
        "  nodelist = nodelist.append(word_nodes, ignore_index=True)\n",
        "\n",
        "  nodelist = nodelist.to_csv(\"nodelist_\"+name+\".csv\",index=False)\n",
        "  files.download(\"nodelist_\"+name+\".csv\")\n",
        "  return nodelist, word_nodes"
      ],
      "metadata": {
        "id": "v2GYb2BQFzET"
      },
      "execution_count": 570,
      "outputs": []
    },
    {
      "cell_type": "code",
      "source": [
        "nodelist_China, word_nodes_China = nodes(freq_dict_China,\"China_MarchApril2021\")\n",
        "nodelist_USA, word_nodes_USA = nodes(freq_dict_USA,\"USA_MarchApril2021\")\n",
        "nodelist_China_USA, word_nodes_China_USA = nodes(freq_dict_China_USA,\"China_USA_MarchApril2021\")\n",
        "\n",
        "print('China:')\n",
        "print(word_nodes_China.head())\n",
        "print()\n",
        "print('USA:')\n",
        "print(word_nodes_USA.head())\n",
        "print()\n",
        "print('China&USA:')\n",
        "print(word_nodes_China_USA.head())\n",
        "print()"
      ],
      "metadata": {
        "colab": {
          "base_uri": "https://localhost:8080/",
          "height": 434
        },
        "id": "EmQrEHV0F1QY",
        "outputId": "1b2ef0ed-066b-4202-8421-f004b4d149b0"
      },
      "execution_count": 569,
      "outputs": [
        {
          "output_type": "display_data",
          "data": {
            "application/javascript": [
              "\n",
              "    async function download(id, filename, size) {\n",
              "      if (!google.colab.kernel.accessAllowed) {\n",
              "        return;\n",
              "      }\n",
              "      const div = document.createElement('div');\n",
              "      const label = document.createElement('label');\n",
              "      label.textContent = `Downloading \"${filename}\": `;\n",
              "      div.appendChild(label);\n",
              "      const progress = document.createElement('progress');\n",
              "      progress.max = size;\n",
              "      div.appendChild(progress);\n",
              "      document.body.appendChild(div);\n",
              "\n",
              "      const buffers = [];\n",
              "      let downloaded = 0;\n",
              "\n",
              "      const channel = await google.colab.kernel.comms.open(id);\n",
              "      // Send a message to notify the kernel that we're ready.\n",
              "      channel.send({})\n",
              "\n",
              "      for await (const message of channel.messages) {\n",
              "        // Send a message to notify the kernel that we're ready.\n",
              "        channel.send({})\n",
              "        if (message.buffers) {\n",
              "          for (const buffer of message.buffers) {\n",
              "            buffers.push(buffer);\n",
              "            downloaded += buffer.byteLength;\n",
              "            progress.value = downloaded;\n",
              "          }\n",
              "        }\n",
              "      }\n",
              "      const blob = new Blob(buffers, {type: 'application/binary'});\n",
              "      const a = document.createElement('a');\n",
              "      a.href = window.URL.createObjectURL(blob);\n",
              "      a.download = filename;\n",
              "      div.appendChild(a);\n",
              "      a.click();\n",
              "      div.remove();\n",
              "    }\n",
              "  "
            ],
            "text/plain": [
              "<IPython.core.display.Javascript object>"
            ]
          },
          "metadata": {}
        },
        {
          "output_type": "display_data",
          "data": {
            "application/javascript": [
              "download(\"download_1a0ea458-9954-4ddc-acf3-11502aad93c1\", \"nodelist_China_MarchApril2021.csv\", 7403)"
            ],
            "text/plain": [
              "<IPython.core.display.Javascript object>"
            ]
          },
          "metadata": {}
        },
        {
          "output_type": "display_data",
          "data": {
            "application/javascript": [
              "\n",
              "    async function download(id, filename, size) {\n",
              "      if (!google.colab.kernel.accessAllowed) {\n",
              "        return;\n",
              "      }\n",
              "      const div = document.createElement('div');\n",
              "      const label = document.createElement('label');\n",
              "      label.textContent = `Downloading \"${filename}\": `;\n",
              "      div.appendChild(label);\n",
              "      const progress = document.createElement('progress');\n",
              "      progress.max = size;\n",
              "      div.appendChild(progress);\n",
              "      document.body.appendChild(div);\n",
              "\n",
              "      const buffers = [];\n",
              "      let downloaded = 0;\n",
              "\n",
              "      const channel = await google.colab.kernel.comms.open(id);\n",
              "      // Send a message to notify the kernel that we're ready.\n",
              "      channel.send({})\n",
              "\n",
              "      for await (const message of channel.messages) {\n",
              "        // Send a message to notify the kernel that we're ready.\n",
              "        channel.send({})\n",
              "        if (message.buffers) {\n",
              "          for (const buffer of message.buffers) {\n",
              "            buffers.push(buffer);\n",
              "            downloaded += buffer.byteLength;\n",
              "            progress.value = downloaded;\n",
              "          }\n",
              "        }\n",
              "      }\n",
              "      const blob = new Blob(buffers, {type: 'application/binary'});\n",
              "      const a = document.createElement('a');\n",
              "      a.href = window.URL.createObjectURL(blob);\n",
              "      a.download = filename;\n",
              "      div.appendChild(a);\n",
              "      a.click();\n",
              "      div.remove();\n",
              "    }\n",
              "  "
            ],
            "text/plain": [
              "<IPython.core.display.Javascript object>"
            ]
          },
          "metadata": {}
        },
        {
          "output_type": "display_data",
          "data": {
            "application/javascript": [
              "download(\"download_183050ae-edce-486c-b88b-dccdb8a6723f\", \"nodelist_USA_MarchApril2021.csv\", 7117)"
            ],
            "text/plain": [
              "<IPython.core.display.Javascript object>"
            ]
          },
          "metadata": {}
        },
        {
          "output_type": "display_data",
          "data": {
            "application/javascript": [
              "\n",
              "    async function download(id, filename, size) {\n",
              "      if (!google.colab.kernel.accessAllowed) {\n",
              "        return;\n",
              "      }\n",
              "      const div = document.createElement('div');\n",
              "      const label = document.createElement('label');\n",
              "      label.textContent = `Downloading \"${filename}\": `;\n",
              "      div.appendChild(label);\n",
              "      const progress = document.createElement('progress');\n",
              "      progress.max = size;\n",
              "      div.appendChild(progress);\n",
              "      document.body.appendChild(div);\n",
              "\n",
              "      const buffers = [];\n",
              "      let downloaded = 0;\n",
              "\n",
              "      const channel = await google.colab.kernel.comms.open(id);\n",
              "      // Send a message to notify the kernel that we're ready.\n",
              "      channel.send({})\n",
              "\n",
              "      for await (const message of channel.messages) {\n",
              "        // Send a message to notify the kernel that we're ready.\n",
              "        channel.send({})\n",
              "        if (message.buffers) {\n",
              "          for (const buffer of message.buffers) {\n",
              "            buffers.push(buffer);\n",
              "            downloaded += buffer.byteLength;\n",
              "            progress.value = downloaded;\n",
              "          }\n",
              "        }\n",
              "      }\n",
              "      const blob = new Blob(buffers, {type: 'application/binary'});\n",
              "      const a = document.createElement('a');\n",
              "      a.href = window.URL.createObjectURL(blob);\n",
              "      a.download = filename;\n",
              "      div.appendChild(a);\n",
              "      a.click();\n",
              "      div.remove();\n",
              "    }\n",
              "  "
            ],
            "text/plain": [
              "<IPython.core.display.Javascript object>"
            ]
          },
          "metadata": {}
        },
        {
          "output_type": "display_data",
          "data": {
            "application/javascript": [
              "download(\"download_a2bf7b3d-8667-4960-9871-9b1143684ea2\", \"nodelist_China_USA_MarchApril2021.csv\", 6949)"
            ],
            "text/plain": [
              "<IPython.core.display.Javascript object>"
            ]
          },
          "metadata": {}
        },
        {
          "output_type": "stream",
          "name": "stdout",
          "text": [
            "China:\n",
            "        Id    Label\n",
            "0    covid    covid\n",
            "1  vaccine  vaccine\n",
            "2    china    china\n",
            "3      say      say\n",
            "4   report   report\n",
            "\n",
            "USA:\n",
            "        Id    Label\n",
            "0    covid    covid\n",
            "1  vaccine  vaccine\n",
            "2      say      say\n",
            "3      new      new\n",
            "4     case     case\n",
            "\n",
            "China&USA:\n",
            "        Id    Label\n",
            "0    covid    covid\n",
            "1  vaccine  vaccine\n",
            "2      say      say\n",
            "3     case     case\n",
            "4      new      new\n",
            "\n"
          ]
        }
      ]
    }
  ]
}